{
  "nbformat": 4,
  "nbformat_minor": 0,
  "metadata": {
    "accelerator": "GPU",
    "colab": {
      "name": "Copia di Multiclass_Segmentation.ipynb",
      "provenance": [],
      "collapsed_sections": [],
      "toc_visible": true,
      "machine_shape": "hm",
      "include_colab_link": true
    },
    "kernelspec": {
      "display_name": "Python 3",
      "language": "python",
      "name": "python3"
    },
    "language_info": {
      "codemirror_mode": {
        "name": "ipython",
        "version": 3
      },
      "file_extension": ".py",
      "mimetype": "text/x-python",
      "name": "python",
      "nbconvert_exporter": "python",
      "pygments_lexer": "ipython3",
      "version": "3.7.9"
    }
  },
  "cells": [
    {
      "cell_type": "markdown",
      "metadata": {
        "id": "view-in-github",
        "colab_type": "text"
      },
      "source": [
        "<a href=\"https://colab.research.google.com/github/tizianofucci/A2NDLSegmentation/blob/main/Notebook/colab.ipynb\" target=\"_parent\"><img src=\"https://colab.research.google.com/assets/colab-badge.svg\" alt=\"Open In Colab\"/></a>"
      ]
    },
    {
      "cell_type": "code",
      "metadata": {
        "id": "I5FnwOggnFIl"
      },
      "source": [
        "from IPython.core.interactiveshell import InteractiveShell\n",
        "InteractiveShell.ast_node_interactivity = \"all\""
      ],
      "execution_count": null,
      "outputs": []
    },
    {
      "cell_type": "code",
      "metadata": {
        "id": "tOBDSA9BnFIx"
      },
      "source": [
        "import os\n",
        "\n",
        "# os.environ[\"CUDA_VISIBLE_DEVICES\"]=\"-1\" \n",
        "import tensorflow as tf\n",
        "import numpy as np\n",
        "\n",
        "# Set the seed for random operations. \n",
        "# This let our experiments to be reproducible. \n",
        "SEED = 1234\n",
        "tf.random.set_seed(SEED)  "
      ],
      "execution_count": null,
      "outputs": []
    },
    {
      "cell_type": "code",
      "metadata": {
        "id": "bns18Nm7oORk"
      },
      "source": [
        "cwd = os.getcwd()"
      ],
      "execution_count": null,
      "outputs": []
    },
    {
      "cell_type": "code",
      "metadata": {
        "colab": {
          "base_uri": "https://localhost:8080/"
        },
        "id": "x8SjScpRLJH9",
        "outputId": "a6833eb4-c193-4815-e4bf-d34e634a5cc8"
      },
      "source": [
        "# Colab Pro\r\n",
        "gpu_info = !nvidia-smi\r\n",
        "gpu_info = '\\n'.join(gpu_info)\r\n",
        "if gpu_info.find('failed') >= 0:\r\n",
        "  print('Select the Runtime > \"Change runtime type\" menu to enable a GPU accelerator, ')\r\n",
        "  print('and then re-execute this cell.')\r\n",
        "else:\r\n",
        "  print(gpu_info)\r\n",
        "\r\n",
        "from psutil import virtual_memory\r\n",
        "ram_gb = virtual_memory().total / 1e9\r\n",
        "print('Your runtime has {:.1f} gigabytes of available RAM\\n'.format(ram_gb))\r\n",
        "\r\n",
        "if ram_gb < 20:\r\n",
        "  print('To enable a high-RAM runtime, select the Runtime > \"Change runtime type\"')\r\n",
        "  print('menu, and then select High-RAM in the Runtime shape dropdown. Then, ')\r\n",
        "  print('re-execute this cell.')\r\n",
        "else:\r\n",
        "  print('You are using a high-RAM runtime!')"
      ],
      "execution_count": null,
      "outputs": [
        {
          "output_type": "stream",
          "text": [
            "Sat Dec 19 11:54:24 2020       \n",
            "+-----------------------------------------------------------------------------+\n",
            "| NVIDIA-SMI 455.45.01    Driver Version: 418.67       CUDA Version: 10.1     |\n",
            "|-------------------------------+----------------------+----------------------+\n",
            "| GPU  Name        Persistence-M| Bus-Id        Disp.A | Volatile Uncorr. ECC |\n",
            "| Fan  Temp  Perf  Pwr:Usage/Cap|         Memory-Usage | GPU-Util  Compute M. |\n",
            "|                               |                      |               MIG M. |\n",
            "|===============================+======================+======================|\n",
            "|   0  Tesla V100-SXM2...  Off  | 00000000:00:04.0 Off |                    0 |\n",
            "| N/A   34C    P0    24W / 300W |      0MiB / 16130MiB |      0%      Default |\n",
            "|                               |                      |                 ERR! |\n",
            "+-------------------------------+----------------------+----------------------+\n",
            "                                                                               \n",
            "+-----------------------------------------------------------------------------+\n",
            "| Processes:                                                                  |\n",
            "|  GPU   GI   CI        PID   Type   Process name                  GPU Memory |\n",
            "|        ID   ID                                                   Usage      |\n",
            "|=============================================================================|\n",
            "|  No running processes found                                                 |\n",
            "+-----------------------------------------------------------------------------+\n",
            "Your runtime has 27.4 gigabytes of available RAM\n",
            "\n",
            "You are using a high-RAM runtime!\n"
          ],
          "name": "stdout"
        }
      ]
    },
    {
      "cell_type": "code",
      "metadata": {
        "colab": {
          "base_uri": "https://localhost:8080/"
        },
        "id": "Z8bhsWQnnU-i",
        "outputId": "393dae1f-681e-4fe5-9943-6b586eacc530"
      },
      "source": [
        "\n",
        "from google.colab import drive\n",
        "drive.mount('/content/drive', force_remount=True)"
      ],
      "execution_count": null,
      "outputs": [
        {
          "output_type": "stream",
          "text": [
            "Mounted at /content/drive\n"
          ],
          "name": "stdout"
        }
      ]
    },
    {
      "cell_type": "code",
      "metadata": {
        "colab": {
          "base_uri": "https://localhost:8080/"
        },
        "id": "Uw-loJ73n0eS",
        "outputId": "f9996d74-a377-4d94-d0fd-7569fde7d8c2"
      },
      "source": [
        "!unzip /content/drive/MyDrive/New_Development_Dataset.zip"
      ],
      "execution_count": null,
      "outputs": [
        {
          "output_type": "stream",
          "text": [
            "Archive:  /content/drive/MyDrive/New_Development_Dataset.zip\n",
            "  inflating: Development_Dataset/LICENSE.txt  \n",
            "   creating: Development_Dataset/Test_Dev/\n",
            "   creating: Development_Dataset/Test_Dev/Bipbip/\n",
            "   creating: Development_Dataset/Test_Dev/Bipbip/Haricot/\n",
            "   creating: Development_Dataset/Test_Dev/Bipbip/Haricot/Images/\n",
            "  inflating: Development_Dataset/Test_Dev/Bipbip/Haricot/Images/Bipbip_haricot_im_00211.jpg  \n",
            "  inflating: Development_Dataset/Test_Dev/Bipbip/Haricot/Images/Bipbip_haricot_im_00581.jpg  \n",
            "  inflating: Development_Dataset/Test_Dev/Bipbip/Haricot/Images/Bipbip_haricot_im_00721.jpg  \n",
            "  inflating: Development_Dataset/Test_Dev/Bipbip/Haricot/Images/Bipbip_haricot_im_00951.jpg  \n",
            "  inflating: Development_Dataset/Test_Dev/Bipbip/Haricot/Images/Bipbip_haricot_im_01341.jpg  \n",
            "  inflating: Development_Dataset/Test_Dev/Bipbip/Haricot/Images/Bipbip_haricot_im_02421.jpg  \n",
            "  inflating: Development_Dataset/Test_Dev/Bipbip/Haricot/Images/Bipbip_haricot_im_02781.jpg  \n",
            "  inflating: Development_Dataset/Test_Dev/Bipbip/Haricot/Images/Bipbip_haricot_im_02841.jpg  \n",
            "  inflating: Development_Dataset/Test_Dev/Bipbip/Haricot/Images/Bipbip_haricot_im_02901.jpg  \n",
            "  inflating: Development_Dataset/Test_Dev/Bipbip/Haricot/Images/Bipbip_haricot_im_03691.jpg  \n",
            "  inflating: Development_Dataset/Test_Dev/Bipbip/Haricot/Images/Bipbip_haricot_im_06581.jpg  \n",
            "  inflating: Development_Dataset/Test_Dev/Bipbip/Haricot/Images/Bipbip_haricot_im_06751.jpg  \n",
            "  inflating: Development_Dataset/Test_Dev/Bipbip/Haricot/Images/Bipbip_haricot_im_07181.jpg  \n",
            "  inflating: Development_Dataset/Test_Dev/Bipbip/Haricot/Images/Bipbip_haricot_im_07331.jpg  \n",
            "  inflating: Development_Dataset/Test_Dev/Bipbip/Haricot/Images/Bipbip_haricot_im_07421.jpg  \n",
            "   creating: Development_Dataset/Test_Dev/Bipbip/Mais/\n",
            "   creating: Development_Dataset/Test_Dev/Bipbip/Mais/Images/\n",
            "  inflating: Development_Dataset/Test_Dev/Bipbip/Mais/Images/Bipbip_mais_im_01931.jpg  \n",
            "  inflating: Development_Dataset/Test_Dev/Bipbip/Mais/Images/Bipbip_mais_im_02211.jpg  \n",
            "  inflating: Development_Dataset/Test_Dev/Bipbip/Mais/Images/Bipbip_mais_im_03621.jpg  \n",
            "  inflating: Development_Dataset/Test_Dev/Bipbip/Mais/Images/Bipbip_mais_im_04121.jpg  \n",
            "  inflating: Development_Dataset/Test_Dev/Bipbip/Mais/Images/Bipbip_mais_im_05521.jpg  \n",
            "  inflating: Development_Dataset/Test_Dev/Bipbip/Mais/Images/Bipbip_mais_im_06381.jpg  \n",
            "  inflating: Development_Dataset/Test_Dev/Bipbip/Mais/Images/Bipbip_mais_im_06831.jpg  \n",
            "  inflating: Development_Dataset/Test_Dev/Bipbip/Mais/Images/Bipbip_mais_im_07611.jpg  \n",
            "  inflating: Development_Dataset/Test_Dev/Bipbip/Mais/Images/Bipbip_mais_im_07681.jpg  \n",
            "  inflating: Development_Dataset/Test_Dev/Bipbip/Mais/Images/Bipbip_mais_im_09091.jpg  \n",
            "  inflating: Development_Dataset/Test_Dev/Bipbip/Mais/Images/Bipbip_mais_im_09571.jpg  \n",
            "  inflating: Development_Dataset/Test_Dev/Bipbip/Mais/Images/Bipbip_mais_im_09781.jpg  \n",
            "  inflating: Development_Dataset/Test_Dev/Bipbip/Mais/Images/Bipbip_mais_im_10441.jpg  \n",
            "  inflating: Development_Dataset/Test_Dev/Bipbip/Mais/Images/Bipbip_mais_im_10941.jpg  \n",
            "  inflating: Development_Dataset/Test_Dev/Bipbip/Mais/Images/Bipbip_mais_im_11021.jpg  \n",
            "   creating: Development_Dataset/Test_Dev/Pead/\n",
            "   creating: Development_Dataset/Test_Dev/Pead/Haricot/\n",
            "   creating: Development_Dataset/Test_Dev/Pead/Haricot/Images/\n",
            "  inflating: Development_Dataset/Test_Dev/Pead/Haricot/Images/Pead_haricot_00130_i750.jpg  \n",
            "  inflating: Development_Dataset/Test_Dev/Pead/Haricot/Images/Pead_haricot_00143_i750.jpg  \n",
            "  inflating: Development_Dataset/Test_Dev/Pead/Haricot/Images/Pead_haricot_00239_i750.jpg  \n",
            "  inflating: Development_Dataset/Test_Dev/Pead/Haricot/Images/Pead_haricot_00291_i750.jpg  \n",
            "  inflating: Development_Dataset/Test_Dev/Pead/Haricot/Images/Pead_haricot_00340_i750.jpg  \n",
            "  inflating: Development_Dataset/Test_Dev/Pead/Haricot/Images/Pead_haricot_00353_i750.jpg  \n",
            "  inflating: Development_Dataset/Test_Dev/Pead/Haricot/Images/Pead_haricot_00427_i750.jpg  \n",
            "  inflating: Development_Dataset/Test_Dev/Pead/Haricot/Images/Pead_haricot_00463_i750.jpg  \n",
            "  inflating: Development_Dataset/Test_Dev/Pead/Haricot/Images/Pead_haricot_00605_i750.jpg  \n",
            "  inflating: Development_Dataset/Test_Dev/Pead/Haricot/Images/Pead_haricot_00628_i750.jpg  \n",
            "  inflating: Development_Dataset/Test_Dev/Pead/Haricot/Images/Pead_haricot_00631_i750.jpg  \n",
            "  inflating: Development_Dataset/Test_Dev/Pead/Haricot/Images/Pead_haricot_00641_i750.jpg  \n",
            "  inflating: Development_Dataset/Test_Dev/Pead/Haricot/Images/Pead_haricot_00648_i750.jpg  \n",
            "  inflating: Development_Dataset/Test_Dev/Pead/Haricot/Images/Pead_haricot_00682_i750.jpg  \n",
            "  inflating: Development_Dataset/Test_Dev/Pead/Haricot/Images/Pead_haricot_00704_i750.jpg  \n",
            "   creating: Development_Dataset/Test_Dev/Pead/Mais/\n",
            "   creating: Development_Dataset/Test_Dev/Pead/Mais/Images/\n",
            "  inflating: Development_Dataset/Test_Dev/Pead/Mais/Images/Pead_mais_00173_i900.jpg  \n",
            "  inflating: Development_Dataset/Test_Dev/Pead/Mais/Images/Pead_mais_00206_i900.jpg  \n",
            "  inflating: Development_Dataset/Test_Dev/Pead/Mais/Images/Pead_mais_00229_i900.jpg  \n",
            "  inflating: Development_Dataset/Test_Dev/Pead/Mais/Images/Pead_mais_00308_i900.jpg  \n",
            "  inflating: Development_Dataset/Test_Dev/Pead/Mais/Images/Pead_mais_00346_i900.jpg  \n",
            "  inflating: Development_Dataset/Test_Dev/Pead/Mais/Images/Pead_mais_00387_i900.jpg  \n",
            "  inflating: Development_Dataset/Test_Dev/Pead/Mais/Images/Pead_mais_00395_i900.jpg  \n",
            "  inflating: Development_Dataset/Test_Dev/Pead/Mais/Images/Pead_mais_00427_i900.jpg  \n",
            "  inflating: Development_Dataset/Test_Dev/Pead/Mais/Images/Pead_mais_00459_i900.jpg  \n",
            "  inflating: Development_Dataset/Test_Dev/Pead/Mais/Images/Pead_mais_00556_i900.jpg  \n",
            "  inflating: Development_Dataset/Test_Dev/Pead/Mais/Images/Pead_mais_00584_i900.jpg  \n",
            "  inflating: Development_Dataset/Test_Dev/Pead/Mais/Images/Pead_mais_00595_i900.jpg  \n",
            "  inflating: Development_Dataset/Test_Dev/Pead/Mais/Images/Pead_mais_00679_i900.jpg  \n",
            "  inflating: Development_Dataset/Test_Dev/Pead/Mais/Images/Pead_mais_00723_i900.jpg  \n",
            "  inflating: Development_Dataset/Test_Dev/Pead/Mais/Images/Pead_mais_00796_i900.jpg  \n",
            "   creating: Development_Dataset/Test_Dev/Roseau/\n",
            "   creating: Development_Dataset/Test_Dev/Roseau/Haricot/\n",
            "   creating: Development_Dataset/Test_Dev/Roseau/Haricot/Images/\n",
            "  inflating: Development_Dataset/Test_Dev/Roseau/Haricot/Images/Roseau_haricot_0010_false.png  \n",
            "  inflating: Development_Dataset/Test_Dev/Roseau/Haricot/Images/Roseau_haricot_0018_false.png  \n",
            "  inflating: Development_Dataset/Test_Dev/Roseau/Haricot/Images/Roseau_haricot_0074_false.png  \n",
            "  inflating: Development_Dataset/Test_Dev/Roseau/Haricot/Images/Roseau_haricot_0150_false.png  \n",
            "  inflating: Development_Dataset/Test_Dev/Roseau/Haricot/Images/Roseau_haricot_0156_false.png  \n",
            "  inflating: Development_Dataset/Test_Dev/Roseau/Haricot/Images/Roseau_haricot_0188_false.png  \n",
            "  inflating: Development_Dataset/Test_Dev/Roseau/Haricot/Images/Roseau_haricot_0220_false.png  \n",
            "  inflating: Development_Dataset/Test_Dev/Roseau/Haricot/Images/Roseau_haricot_0224_false.png  \n",
            "  inflating: Development_Dataset/Test_Dev/Roseau/Haricot/Images/Roseau_haricot_0228_false.png  \n",
            "  inflating: Development_Dataset/Test_Dev/Roseau/Haricot/Images/Roseau_haricot_0256_false.png  \n",
            "  inflating: Development_Dataset/Test_Dev/Roseau/Haricot/Images/Roseau_haricot_0292_false.png  \n",
            "  inflating: Development_Dataset/Test_Dev/Roseau/Haricot/Images/Roseau_haricot_0300_false.png  \n",
            "  inflating: Development_Dataset/Test_Dev/Roseau/Haricot/Images/Roseau_haricot_0372_false.png  \n",
            "  inflating: Development_Dataset/Test_Dev/Roseau/Haricot/Images/Roseau_haricot_0396_false.png  \n",
            "  inflating: Development_Dataset/Test_Dev/Roseau/Haricot/Images/Roseau_haricot_0414_false.png  \n",
            "   creating: Development_Dataset/Test_Dev/Roseau/Mais/\n",
            "   creating: Development_Dataset/Test_Dev/Roseau/Mais/Images/\n",
            "   creating: Development_Dataset/Test_Dev/Roseau/Mais/Images/.ipynb_checkpoints/\n",
            "  inflating: Development_Dataset/Test_Dev/Roseau/Mais/Images/.ipynb_checkpoints/Roseau_mais_0008_false-checkpoint.png  \n",
            "  inflating: Development_Dataset/Test_Dev/Roseau/Mais/Images/Roseau_mais_0008_false.png  \n",
            "  inflating: Development_Dataset/Test_Dev/Roseau/Mais/Images/Roseau_mais_0030_false.png  \n",
            "  inflating: Development_Dataset/Test_Dev/Roseau/Mais/Images/Roseau_mais_0056_false.png  \n",
            "  inflating: Development_Dataset/Test_Dev/Roseau/Mais/Images/Roseau_mais_0068_false.png  \n",
            "  inflating: Development_Dataset/Test_Dev/Roseau/Mais/Images/Roseau_mais_0074_false.png  \n",
            "  inflating: Development_Dataset/Test_Dev/Roseau/Mais/Images/Roseau_mais_0098_false.png  \n",
            "  inflating: Development_Dataset/Test_Dev/Roseau/Mais/Images/Roseau_mais_0142_false.png  \n",
            "  inflating: Development_Dataset/Test_Dev/Roseau/Mais/Images/Roseau_mais_0174_false.png  \n",
            "  inflating: Development_Dataset/Test_Dev/Roseau/Mais/Images/Roseau_mais_0184_false.png  \n",
            "  inflating: Development_Dataset/Test_Dev/Roseau/Mais/Images/Roseau_mais_0188_false.png  \n",
            "  inflating: Development_Dataset/Test_Dev/Roseau/Mais/Images/Roseau_mais_0214_false.png  \n",
            "  inflating: Development_Dataset/Test_Dev/Roseau/Mais/Images/Roseau_mais_0286_false.png  \n",
            "  inflating: Development_Dataset/Test_Dev/Roseau/Mais/Images/Roseau_mais_0322_false.png  \n",
            "  inflating: Development_Dataset/Test_Dev/Roseau/Mais/Images/Roseau_mais_0332_false.png  \n",
            "  inflating: Development_Dataset/Test_Dev/Roseau/Mais/Images/Roseau_mais_0366_false.png  \n",
            "   creating: Development_Dataset/Test_Dev/Weedelec/\n",
            "   creating: Development_Dataset/Test_Dev/Weedelec/Haricot/\n",
            "   creating: Development_Dataset/Test_Dev/Weedelec/Haricot/Images/\n",
            "  inflating: Development_Dataset/Test_Dev/Weedelec/Haricot/Images/Weedelec_haricot_2019-09-25T114347-2.jpg  \n",
            "  inflating: Development_Dataset/Test_Dev/Weedelec/Haricot/Images/Weedelec_haricot_2019-09-25T114419-14.jpg  \n",
            "  inflating: Development_Dataset/Test_Dev/Weedelec/Haricot/Images/Weedelec_haricot_2019-09-25T114537-44.jpg  \n",
            "  inflating: Development_Dataset/Test_Dev/Weedelec/Haricot/Images/Weedelec_haricot_2019-09-25T114558-52.jpg  \n",
            "  inflating: Development_Dataset/Test_Dev/Weedelec/Haricot/Images/Weedelec_haricot_2019-09-25T114608-56.jpg  \n",
            "  inflating: Development_Dataset/Test_Dev/Weedelec/Haricot/Images/Weedelec_haricot_2019-09-25T114726-86.jpg  \n",
            "  inflating: Development_Dataset/Test_Dev/Weedelec/Haricot/Images/Weedelec_haricot_2019-09-25T114852-119.jpg  \n",
            "  inflating: Development_Dataset/Test_Dev/Weedelec/Haricot/Images/Weedelec_haricot_2019-09-25T115031-157.jpg  \n",
            "  inflating: Development_Dataset/Test_Dev/Weedelec/Haricot/Images/Weedelec_haricot_2019-09-25T115142-185.jpg  \n",
            "  inflating: Development_Dataset/Test_Dev/Weedelec/Haricot/Images/Weedelec_haricot_2019-09-25T115628-295.jpg  \n",
            "  inflating: Development_Dataset/Test_Dev/Weedelec/Haricot/Images/Weedelec_haricot_2019-09-25T115906-356.jpg  \n",
            "  inflating: Development_Dataset/Test_Dev/Weedelec/Haricot/Images/Weedelec_haricot_2019-09-25T115942-370.jpg  \n",
            "  inflating: Development_Dataset/Test_Dev/Weedelec/Haricot/Images/Weedelec_haricot_2019-09-25T120146-418.jpg  \n",
            "  inflating: Development_Dataset/Test_Dev/Weedelec/Haricot/Images/Weedelec_haricot_2019-09-25T120225-433.jpg  \n",
            "  inflating: Development_Dataset/Test_Dev/Weedelec/Haricot/Images/Weedelec_haricot_2019-09-25T120248-442.jpg  \n",
            "   creating: Development_Dataset/Test_Dev/Weedelec/Mais/\n",
            "   creating: Development_Dataset/Test_Dev/Weedelec/Mais/Images/\n",
            "  inflating: Development_Dataset/Test_Dev/Weedelec/Mais/Images/Weedelec_mais_2019-09-25T120608-14.jpg  \n",
            "  inflating: Development_Dataset/Test_Dev/Weedelec/Mais/Images/Weedelec_mais_2019-09-25T121047-122.jpg  \n",
            "  inflating: Development_Dataset/Test_Dev/Weedelec/Mais/Images/Weedelec_mais_2019-09-25T121103-128.jpg  \n",
            "  inflating: Development_Dataset/Test_Dev/Weedelec/Mais/Images/Weedelec_mais_2019-09-25T121125-137.jpg  \n",
            "  inflating: Development_Dataset/Test_Dev/Weedelec/Mais/Images/Weedelec_mais_2019-09-25T121133-140.jpg  \n",
            "  inflating: Development_Dataset/Test_Dev/Weedelec/Mais/Images/Weedelec_mais_2019-09-25T121212-155.jpg  \n",
            "  inflating: Development_Dataset/Test_Dev/Weedelec/Mais/Images/Weedelec_mais_2019-09-25T121237-165.jpg  \n",
            "  inflating: Development_Dataset/Test_Dev/Weedelec/Mais/Images/Weedelec_mais_2019-09-25T121350-193.jpg  \n",
            "  inflating: Development_Dataset/Test_Dev/Weedelec/Mais/Images/Weedelec_mais_2019-09-25T121539-235.jpg  \n",
            "  inflating: Development_Dataset/Test_Dev/Weedelec/Mais/Images/Weedelec_mais_2019-09-25T121602-244.jpg  \n",
            "  inflating: Development_Dataset/Test_Dev/Weedelec/Mais/Images/Weedelec_mais_2019-09-25T121800-290.jpg  \n",
            "  inflating: Development_Dataset/Test_Dev/Weedelec/Mais/Images/Weedelec_mais_2019-09-25T121851-310.jpg  \n",
            "  inflating: Development_Dataset/Test_Dev/Weedelec/Mais/Images/Weedelec_mais_2019-09-25T122021-345.jpg  \n",
            "  inflating: Development_Dataset/Test_Dev/Weedelec/Mais/Images/Weedelec_mais_2019-09-25T122122-369.jpg  \n",
            "  inflating: Development_Dataset/Test_Dev/Weedelec/Mais/Images/Weedelec_mais_2019-09-25T122227-395.jpg  \n",
            "   creating: Development_Dataset/Training/\n",
            "   creating: Development_Dataset/Training/Bipbip/\n",
            "   creating: Development_Dataset/Training/Bipbip/Haricot/\n",
            "   creating: Development_Dataset/Training/Bipbip/Haricot/Images/\n",
            "  inflating: Development_Dataset/Training/Bipbip/Haricot/Images/Bipbip_haricot_im_00321patch0.jpg  \n",
            "  inflating: Development_Dataset/Training/Bipbip/Haricot/Images/Bipbip_haricot_im_00321patch1.jpg  \n",
            "  inflating: Development_Dataset/Training/Bipbip/Haricot/Images/Bipbip_haricot_im_00321patch2.jpg  \n",
            "  inflating: Development_Dataset/Training/Bipbip/Haricot/Images/Bipbip_haricot_im_00321patch3.jpg  \n",
            "  inflating: Development_Dataset/Training/Bipbip/Haricot/Images/Bipbip_haricot_im_00321patch4.jpg  \n",
            "  inflating: Development_Dataset/Training/Bipbip/Haricot/Images/Bipbip_haricot_im_00321patch5.jpg  \n",
            "  inflating: Development_Dataset/Training/Bipbip/Haricot/Images/Bipbip_haricot_im_00321patch6.jpg  \n",
            "  inflating: Development_Dataset/Training/Bipbip/Haricot/Images/Bipbip_haricot_im_00321patch7.jpg  \n",
            "  inflating: Development_Dataset/Training/Bipbip/Haricot/Images/Bipbip_haricot_im_00391patch0.jpg  \n",
            "  inflating: Development_Dataset/Training/Bipbip/Haricot/Images/Bipbip_haricot_im_00391patch1.jpg  \n",
            "  inflating: Development_Dataset/Training/Bipbip/Haricot/Images/Bipbip_haricot_im_00391patch2.jpg  \n",
            "  inflating: Development_Dataset/Training/Bipbip/Haricot/Images/Bipbip_haricot_im_00391patch3.jpg  \n",
            "  inflating: Development_Dataset/Training/Bipbip/Haricot/Images/Bipbip_haricot_im_00391patch4.jpg  \n",
            "  inflating: Development_Dataset/Training/Bipbip/Haricot/Images/Bipbip_haricot_im_00391patch5.jpg  \n",
            "  inflating: Development_Dataset/Training/Bipbip/Haricot/Images/Bipbip_haricot_im_00391patch6.jpg  \n",
            "  inflating: Development_Dataset/Training/Bipbip/Haricot/Images/Bipbip_haricot_im_00391patch7.jpg  \n",
            "  inflating: Development_Dataset/Training/Bipbip/Haricot/Images/Bipbip_haricot_im_00451patch0.jpg  \n",
            "  inflating: Development_Dataset/Training/Bipbip/Haricot/Images/Bipbip_haricot_im_00451patch1.jpg  \n",
            "  inflating: Development_Dataset/Training/Bipbip/Haricot/Images/Bipbip_haricot_im_00451patch2.jpg  \n",
            "  inflating: Development_Dataset/Training/Bipbip/Haricot/Images/Bipbip_haricot_im_00451patch3.jpg  \n",
            "  inflating: Development_Dataset/Training/Bipbip/Haricot/Images/Bipbip_haricot_im_00451patch4.jpg  \n",
            "  inflating: Development_Dataset/Training/Bipbip/Haricot/Images/Bipbip_haricot_im_00451patch5.jpg  \n",
            "  inflating: Development_Dataset/Training/Bipbip/Haricot/Images/Bipbip_haricot_im_00451patch6.jpg  \n",
            "  inflating: Development_Dataset/Training/Bipbip/Haricot/Images/Bipbip_haricot_im_00451patch7.jpg  \n",
            "  inflating: Development_Dataset/Training/Bipbip/Haricot/Images/Bipbip_haricot_im_00511patch0.jpg  \n",
            "  inflating: Development_Dataset/Training/Bipbip/Haricot/Images/Bipbip_haricot_im_00511patch1.jpg  \n",
            "  inflating: Development_Dataset/Training/Bipbip/Haricot/Images/Bipbip_haricot_im_00511patch2.jpg  \n",
            "  inflating: Development_Dataset/Training/Bipbip/Haricot/Images/Bipbip_haricot_im_00511patch3.jpg  \n",
            "  inflating: Development_Dataset/Training/Bipbip/Haricot/Images/Bipbip_haricot_im_00511patch4.jpg  \n",
            "  inflating: Development_Dataset/Training/Bipbip/Haricot/Images/Bipbip_haricot_im_00511patch5.jpg  \n",
            "  inflating: Development_Dataset/Training/Bipbip/Haricot/Images/Bipbip_haricot_im_00511patch6.jpg  \n",
            "  inflating: Development_Dataset/Training/Bipbip/Haricot/Images/Bipbip_haricot_im_00511patch7.jpg  \n",
            "  inflating: Development_Dataset/Training/Bipbip/Haricot/Images/Bipbip_haricot_im_00651patch0.jpg  \n",
            "  inflating: Development_Dataset/Training/Bipbip/Haricot/Images/Bipbip_haricot_im_00651patch1.jpg  \n",
            "  inflating: Development_Dataset/Training/Bipbip/Haricot/Images/Bipbip_haricot_im_00651patch2.jpg  \n",
            "  inflating: Development_Dataset/Training/Bipbip/Haricot/Images/Bipbip_haricot_im_00651patch3.jpg  \n",
            "  inflating: Development_Dataset/Training/Bipbip/Haricot/Images/Bipbip_haricot_im_00651patch4.jpg  \n",
            "  inflating: Development_Dataset/Training/Bipbip/Haricot/Images/Bipbip_haricot_im_00651patch5.jpg  \n",
            "  inflating: Development_Dataset/Training/Bipbip/Haricot/Images/Bipbip_haricot_im_00651patch6.jpg  \n",
            "  inflating: Development_Dataset/Training/Bipbip/Haricot/Images/Bipbip_haricot_im_00651patch7.jpg  \n",
            "  inflating: Development_Dataset/Training/Bipbip/Haricot/Images/Bipbip_haricot_im_00801patch0.jpg  \n",
            "  inflating: Development_Dataset/Training/Bipbip/Haricot/Images/Bipbip_haricot_im_00801patch1.jpg  \n",
            "  inflating: Development_Dataset/Training/Bipbip/Haricot/Images/Bipbip_haricot_im_00801patch2.jpg  \n",
            "  inflating: Development_Dataset/Training/Bipbip/Haricot/Images/Bipbip_haricot_im_00801patch3.jpg  \n",
            "  inflating: Development_Dataset/Training/Bipbip/Haricot/Images/Bipbip_haricot_im_00801patch4.jpg  \n",
            "  inflating: Development_Dataset/Training/Bipbip/Haricot/Images/Bipbip_haricot_im_00801patch5.jpg  \n",
            "  inflating: Development_Dataset/Training/Bipbip/Haricot/Images/Bipbip_haricot_im_00801patch6.jpg  \n",
            "  inflating: Development_Dataset/Training/Bipbip/Haricot/Images/Bipbip_haricot_im_00801patch7.jpg  \n",
            "  inflating: Development_Dataset/Training/Bipbip/Haricot/Images/Bipbip_haricot_im_00871patch0.jpg  \n",
            "  inflating: Development_Dataset/Training/Bipbip/Haricot/Images/Bipbip_haricot_im_00871patch1.jpg  \n",
            "  inflating: Development_Dataset/Training/Bipbip/Haricot/Images/Bipbip_haricot_im_00871patch2.jpg  \n",
            "  inflating: Development_Dataset/Training/Bipbip/Haricot/Images/Bipbip_haricot_im_00871patch3.jpg  \n",
            "  inflating: Development_Dataset/Training/Bipbip/Haricot/Images/Bipbip_haricot_im_00871patch4.jpg  \n",
            "  inflating: Development_Dataset/Training/Bipbip/Haricot/Images/Bipbip_haricot_im_00871patch5.jpg  \n",
            "  inflating: Development_Dataset/Training/Bipbip/Haricot/Images/Bipbip_haricot_im_00871patch6.jpg  \n",
            "  inflating: Development_Dataset/Training/Bipbip/Haricot/Images/Bipbip_haricot_im_00871patch7.jpg  \n",
            "  inflating: Development_Dataset/Training/Bipbip/Haricot/Images/Bipbip_haricot_im_01021patch0.jpg  \n",
            "  inflating: Development_Dataset/Training/Bipbip/Haricot/Images/Bipbip_haricot_im_01021patch1.jpg  \n",
            "  inflating: Development_Dataset/Training/Bipbip/Haricot/Images/Bipbip_haricot_im_01021patch2.jpg  \n",
            "  inflating: Development_Dataset/Training/Bipbip/Haricot/Images/Bipbip_haricot_im_01021patch3.jpg  \n",
            "  inflating: Development_Dataset/Training/Bipbip/Haricot/Images/Bipbip_haricot_im_01021patch4.jpg  \n",
            "  inflating: Development_Dataset/Training/Bipbip/Haricot/Images/Bipbip_haricot_im_01021patch5.jpg  \n",
            "  inflating: Development_Dataset/Training/Bipbip/Haricot/Images/Bipbip_haricot_im_01021patch6.jpg  \n",
            "  inflating: Development_Dataset/Training/Bipbip/Haricot/Images/Bipbip_haricot_im_01021patch7.jpg  \n",
            "  inflating: Development_Dataset/Training/Bipbip/Haricot/Images/Bipbip_haricot_im_01091patch0.jpg  \n",
            "  inflating: Development_Dataset/Training/Bipbip/Haricot/Images/Bipbip_haricot_im_01091patch1.jpg  \n",
            "  inflating: Development_Dataset/Training/Bipbip/Haricot/Images/Bipbip_haricot_im_01091patch2.jpg  \n",
            "  inflating: Development_Dataset/Training/Bipbip/Haricot/Images/Bipbip_haricot_im_01091patch3.jpg  \n",
            "  inflating: Development_Dataset/Training/Bipbip/Haricot/Images/Bipbip_haricot_im_01091patch4.jpg  \n",
            "  inflating: Development_Dataset/Training/Bipbip/Haricot/Images/Bipbip_haricot_im_01091patch5.jpg  \n",
            "  inflating: Development_Dataset/Training/Bipbip/Haricot/Images/Bipbip_haricot_im_01091patch6.jpg  \n",
            "  inflating: Development_Dataset/Training/Bipbip/Haricot/Images/Bipbip_haricot_im_01091patch7.jpg  \n",
            "  inflating: Development_Dataset/Training/Bipbip/Haricot/Images/Bipbip_haricot_im_01271patch0.jpg  \n",
            "  inflating: Development_Dataset/Training/Bipbip/Haricot/Images/Bipbip_haricot_im_01271patch1.jpg  \n",
            "  inflating: Development_Dataset/Training/Bipbip/Haricot/Images/Bipbip_haricot_im_01271patch2.jpg  \n",
            "  inflating: Development_Dataset/Training/Bipbip/Haricot/Images/Bipbip_haricot_im_01271patch3.jpg  \n",
            "  inflating: Development_Dataset/Training/Bipbip/Haricot/Images/Bipbip_haricot_im_01271patch4.jpg  \n",
            "  inflating: Development_Dataset/Training/Bipbip/Haricot/Images/Bipbip_haricot_im_01271patch5.jpg  \n",
            "  inflating: Development_Dataset/Training/Bipbip/Haricot/Images/Bipbip_haricot_im_01271patch6.jpg  \n",
            "  inflating: Development_Dataset/Training/Bipbip/Haricot/Images/Bipbip_haricot_im_01271patch7.jpg  \n",
            "  inflating: Development_Dataset/Training/Bipbip/Haricot/Images/Bipbip_haricot_im_01451patch0.jpg  \n",
            "  inflating: Development_Dataset/Training/Bipbip/Haricot/Images/Bipbip_haricot_im_01451patch1.jpg  \n",
            "  inflating: Development_Dataset/Training/Bipbip/Haricot/Images/Bipbip_haricot_im_01451patch2.jpg  \n",
            "  inflating: Development_Dataset/Training/Bipbip/Haricot/Images/Bipbip_haricot_im_01451patch3.jpg  \n",
            "  inflating: Development_Dataset/Training/Bipbip/Haricot/Images/Bipbip_haricot_im_01451patch4.jpg  \n",
            "  inflating: Development_Dataset/Training/Bipbip/Haricot/Images/Bipbip_haricot_im_01451patch5.jpg  \n",
            "  inflating: Development_Dataset/Training/Bipbip/Haricot/Images/Bipbip_haricot_im_01451patch6.jpg  \n",
            "  inflating: Development_Dataset/Training/Bipbip/Haricot/Images/Bipbip_haricot_im_01451patch7.jpg  \n",
            "  inflating: Development_Dataset/Training/Bipbip/Haricot/Images/Bipbip_haricot_im_01541patch0.jpg  \n",
            "  inflating: Development_Dataset/Training/Bipbip/Haricot/Images/Bipbip_haricot_im_01541patch1.jpg  \n",
            "  inflating: Development_Dataset/Training/Bipbip/Haricot/Images/Bipbip_haricot_im_01541patch2.jpg  \n",
            "  inflating: Development_Dataset/Training/Bipbip/Haricot/Images/Bipbip_haricot_im_01541patch3.jpg  \n",
            "  inflating: Development_Dataset/Training/Bipbip/Haricot/Images/Bipbip_haricot_im_01541patch4.jpg  \n",
            "  inflating: Development_Dataset/Training/Bipbip/Haricot/Images/Bipbip_haricot_im_01541patch5.jpg  \n",
            "  inflating: Development_Dataset/Training/Bipbip/Haricot/Images/Bipbip_haricot_im_01541patch6.jpg  \n",
            "  inflating: Development_Dataset/Training/Bipbip/Haricot/Images/Bipbip_haricot_im_01541patch7.jpg  \n",
            "  inflating: Development_Dataset/Training/Bipbip/Haricot/Images/Bipbip_haricot_im_01631patch0.jpg  \n",
            "  inflating: Development_Dataset/Training/Bipbip/Haricot/Images/Bipbip_haricot_im_01631patch1.jpg  \n",
            "  inflating: Development_Dataset/Training/Bipbip/Haricot/Images/Bipbip_haricot_im_01631patch2.jpg  \n",
            "  inflating: Development_Dataset/Training/Bipbip/Haricot/Images/Bipbip_haricot_im_01631patch3.jpg  \n",
            "  inflating: Development_Dataset/Training/Bipbip/Haricot/Images/Bipbip_haricot_im_01631patch4.jpg  \n",
            "  inflating: Development_Dataset/Training/Bipbip/Haricot/Images/Bipbip_haricot_im_01631patch5.jpg  \n",
            "  inflating: Development_Dataset/Training/Bipbip/Haricot/Images/Bipbip_haricot_im_01631patch6.jpg  \n",
            "  inflating: Development_Dataset/Training/Bipbip/Haricot/Images/Bipbip_haricot_im_01631patch7.jpg  \n",
            "  inflating: Development_Dataset/Training/Bipbip/Haricot/Images/Bipbip_haricot_im_01731patch0.jpg  \n",
            "  inflating: Development_Dataset/Training/Bipbip/Haricot/Images/Bipbip_haricot_im_01731patch1.jpg  \n",
            "  inflating: Development_Dataset/Training/Bipbip/Haricot/Images/Bipbip_haricot_im_01731patch2.jpg  \n",
            "  inflating: Development_Dataset/Training/Bipbip/Haricot/Images/Bipbip_haricot_im_01731patch3.jpg  \n",
            "  inflating: Development_Dataset/Training/Bipbip/Haricot/Images/Bipbip_haricot_im_01731patch4.jpg  \n",
            "  inflating: Development_Dataset/Training/Bipbip/Haricot/Images/Bipbip_haricot_im_01731patch5.jpg  \n",
            "  inflating: Development_Dataset/Training/Bipbip/Haricot/Images/Bipbip_haricot_im_01731patch6.jpg  \n",
            "  inflating: Development_Dataset/Training/Bipbip/Haricot/Images/Bipbip_haricot_im_01731patch7.jpg  \n",
            "  inflating: Development_Dataset/Training/Bipbip/Haricot/Images/Bipbip_haricot_im_01821patch0.jpg  \n",
            "  inflating: Development_Dataset/Training/Bipbip/Haricot/Images/Bipbip_haricot_im_01821patch1.jpg  \n",
            "  inflating: Development_Dataset/Training/Bipbip/Haricot/Images/Bipbip_haricot_im_01821patch2.jpg  \n",
            "  inflating: Development_Dataset/Training/Bipbip/Haricot/Images/Bipbip_haricot_im_01821patch3.jpg  \n",
            "  inflating: Development_Dataset/Training/Bipbip/Haricot/Images/Bipbip_haricot_im_01821patch4.jpg  \n",
            "  inflating: Development_Dataset/Training/Bipbip/Haricot/Images/Bipbip_haricot_im_01821patch5.jpg  \n",
            "  inflating: Development_Dataset/Training/Bipbip/Haricot/Images/Bipbip_haricot_im_01821patch6.jpg  \n",
            "  inflating: Development_Dataset/Training/Bipbip/Haricot/Images/Bipbip_haricot_im_01821patch7.jpg  \n",
            "  inflating: Development_Dataset/Training/Bipbip/Haricot/Images/Bipbip_haricot_im_01911patch0.jpg  \n",
            "  inflating: Development_Dataset/Training/Bipbip/Haricot/Images/Bipbip_haricot_im_01911patch1.jpg  \n",
            "  inflating: Development_Dataset/Training/Bipbip/Haricot/Images/Bipbip_haricot_im_01911patch2.jpg  \n",
            "  inflating: Development_Dataset/Training/Bipbip/Haricot/Images/Bipbip_haricot_im_01911patch3.jpg  \n",
            "  inflating: Development_Dataset/Training/Bipbip/Haricot/Images/Bipbip_haricot_im_01911patch4.jpg  \n",
            "  inflating: Development_Dataset/Training/Bipbip/Haricot/Images/Bipbip_haricot_im_01911patch5.jpg  \n",
            "  inflating: Development_Dataset/Training/Bipbip/Haricot/Images/Bipbip_haricot_im_01911patch6.jpg  \n",
            "  inflating: Development_Dataset/Training/Bipbip/Haricot/Images/Bipbip_haricot_im_01911patch7.jpg  \n",
            "  inflating: Development_Dataset/Training/Bipbip/Haricot/Images/Bipbip_haricot_im_02171patch0.jpg  \n",
            "  inflating: Development_Dataset/Training/Bipbip/Haricot/Images/Bipbip_haricot_im_02171patch1.jpg  \n",
            "  inflating: Development_Dataset/Training/Bipbip/Haricot/Images/Bipbip_haricot_im_02171patch2.jpg  \n",
            "  inflating: Development_Dataset/Training/Bipbip/Haricot/Images/Bipbip_haricot_im_02171patch3.jpg  \n",
            "  inflating: Development_Dataset/Training/Bipbip/Haricot/Images/Bipbip_haricot_im_02171patch4.jpg  \n",
            "  inflating: Development_Dataset/Training/Bipbip/Haricot/Images/Bipbip_haricot_im_02171patch5.jpg  \n",
            "  inflating: Development_Dataset/Training/Bipbip/Haricot/Images/Bipbip_haricot_im_02171patch6.jpg  \n",
            "  inflating: Development_Dataset/Training/Bipbip/Haricot/Images/Bipbip_haricot_im_02171patch7.jpg  \n",
            "  inflating: Development_Dataset/Training/Bipbip/Haricot/Images/Bipbip_haricot_im_02231patch0.jpg  \n",
            "  inflating: Development_Dataset/Training/Bipbip/Haricot/Images/Bipbip_haricot_im_02231patch1.jpg  \n",
            "  inflating: Development_Dataset/Training/Bipbip/Haricot/Images/Bipbip_haricot_im_02231patch2.jpg  \n",
            "  inflating: Development_Dataset/Training/Bipbip/Haricot/Images/Bipbip_haricot_im_02231patch3.jpg  \n",
            "  inflating: Development_Dataset/Training/Bipbip/Haricot/Images/Bipbip_haricot_im_02231patch4.jpg  \n",
            "  inflating: Development_Dataset/Training/Bipbip/Haricot/Images/Bipbip_haricot_im_02231patch5.jpg  \n",
            "  inflating: Development_Dataset/Training/Bipbip/Haricot/Images/Bipbip_haricot_im_02231patch6.jpg  \n",
            "  inflating: Development_Dataset/Training/Bipbip/Haricot/Images/Bipbip_haricot_im_02231patch7.jpg  \n",
            "  inflating: Development_Dataset/Training/Bipbip/Haricot/Images/Bipbip_haricot_im_02301patch0.jpg  \n",
            "  inflating: Development_Dataset/Training/Bipbip/Haricot/Images/Bipbip_haricot_im_02301patch1.jpg  \n",
            "  inflating: Development_Dataset/Training/Bipbip/Haricot/Images/Bipbip_haricot_im_02301patch2.jpg  \n",
            "  inflating: Development_Dataset/Training/Bipbip/Haricot/Images/Bipbip_haricot_im_02301patch3.jpg  \n",
            "  inflating: Development_Dataset/Training/Bipbip/Haricot/Images/Bipbip_haricot_im_02301patch4.jpg  \n",
            "  inflating: Development_Dataset/Training/Bipbip/Haricot/Images/Bipbip_haricot_im_02301patch5.jpg  \n",
            "  inflating: Development_Dataset/Training/Bipbip/Haricot/Images/Bipbip_haricot_im_02301patch6.jpg  \n",
            "  inflating: Development_Dataset/Training/Bipbip/Haricot/Images/Bipbip_haricot_im_02301patch7.jpg  \n",
            "  inflating: Development_Dataset/Training/Bipbip/Haricot/Images/Bipbip_haricot_im_02351patch0.jpg  \n",
            "  inflating: Development_Dataset/Training/Bipbip/Haricot/Images/Bipbip_haricot_im_02351patch1.jpg  \n",
            "  inflating: Development_Dataset/Training/Bipbip/Haricot/Images/Bipbip_haricot_im_02351patch2.jpg  \n",
            "  inflating: Development_Dataset/Training/Bipbip/Haricot/Images/Bipbip_haricot_im_02351patch3.jpg  \n",
            "  inflating: Development_Dataset/Training/Bipbip/Haricot/Images/Bipbip_haricot_im_02351patch4.jpg  \n",
            "  inflating: Development_Dataset/Training/Bipbip/Haricot/Images/Bipbip_haricot_im_02351patch5.jpg  \n",
            "  inflating: Development_Dataset/Training/Bipbip/Haricot/Images/Bipbip_haricot_im_02351patch6.jpg  \n",
            "  inflating: Development_Dataset/Training/Bipbip/Haricot/Images/Bipbip_haricot_im_02351patch7.jpg  \n",
            "  inflating: Development_Dataset/Training/Bipbip/Haricot/Images/Bipbip_haricot_im_02531patch0.jpg  \n",
            "  inflating: Development_Dataset/Training/Bipbip/Haricot/Images/Bipbip_haricot_im_02531patch1.jpg  \n",
            "  inflating: Development_Dataset/Training/Bipbip/Haricot/Images/Bipbip_haricot_im_02531patch2.jpg  \n",
            "  inflating: Development_Dataset/Training/Bipbip/Haricot/Images/Bipbip_haricot_im_02531patch3.jpg  \n",
            "  inflating: Development_Dataset/Training/Bipbip/Haricot/Images/Bipbip_haricot_im_02531patch4.jpg  \n",
            "  inflating: Development_Dataset/Training/Bipbip/Haricot/Images/Bipbip_haricot_im_02531patch5.jpg  \n",
            "  inflating: Development_Dataset/Training/Bipbip/Haricot/Images/Bipbip_haricot_im_02531patch6.jpg  \n",
            "  inflating: Development_Dataset/Training/Bipbip/Haricot/Images/Bipbip_haricot_im_02531patch7.jpg  \n",
            "  inflating: Development_Dataset/Training/Bipbip/Haricot/Images/Bipbip_haricot_im_02651patch0.jpg  \n",
            "  inflating: Development_Dataset/Training/Bipbip/Haricot/Images/Bipbip_haricot_im_02651patch1.jpg  \n",
            "  inflating: Development_Dataset/Training/Bipbip/Haricot/Images/Bipbip_haricot_im_02651patch2.jpg  \n",
            "  inflating: Development_Dataset/Training/Bipbip/Haricot/Images/Bipbip_haricot_im_02651patch3.jpg  \n",
            "  inflating: Development_Dataset/Training/Bipbip/Haricot/Images/Bipbip_haricot_im_02651patch4.jpg  \n",
            "  inflating: Development_Dataset/Training/Bipbip/Haricot/Images/Bipbip_haricot_im_02651patch5.jpg  \n",
            "  inflating: Development_Dataset/Training/Bipbip/Haricot/Images/Bipbip_haricot_im_02651patch6.jpg  \n",
            "  inflating: Development_Dataset/Training/Bipbip/Haricot/Images/Bipbip_haricot_im_02651patch7.jpg  \n",
            "  inflating: Development_Dataset/Training/Bipbip/Haricot/Images/Bipbip_haricot_im_03041patch0.jpg  \n",
            "  inflating: Development_Dataset/Training/Bipbip/Haricot/Images/Bipbip_haricot_im_03041patch1.jpg  \n",
            "  inflating: Development_Dataset/Training/Bipbip/Haricot/Images/Bipbip_haricot_im_03041patch2.jpg  \n",
            "  inflating: Development_Dataset/Training/Bipbip/Haricot/Images/Bipbip_haricot_im_03041patch3.jpg  \n",
            "  inflating: Development_Dataset/Training/Bipbip/Haricot/Images/Bipbip_haricot_im_03041patch4.jpg  \n",
            "  inflating: Development_Dataset/Training/Bipbip/Haricot/Images/Bipbip_haricot_im_03041patch5.jpg  \n",
            "  inflating: Development_Dataset/Training/Bipbip/Haricot/Images/Bipbip_haricot_im_03041patch6.jpg  \n",
            "  inflating: Development_Dataset/Training/Bipbip/Haricot/Images/Bipbip_haricot_im_03041patch7.jpg  \n",
            "  inflating: Development_Dataset/Training/Bipbip/Haricot/Images/Bipbip_haricot_im_03111patch0.jpg  \n",
            "  inflating: Development_Dataset/Training/Bipbip/Haricot/Images/Bipbip_haricot_im_03111patch1.jpg  \n",
            "  inflating: Development_Dataset/Training/Bipbip/Haricot/Images/Bipbip_haricot_im_03111patch2.jpg  \n",
            "  inflating: Development_Dataset/Training/Bipbip/Haricot/Images/Bipbip_haricot_im_03111patch3.jpg  \n",
            "  inflating: Development_Dataset/Training/Bipbip/Haricot/Images/Bipbip_haricot_im_03111patch4.jpg  \n",
            "  inflating: Development_Dataset/Training/Bipbip/Haricot/Images/Bipbip_haricot_im_03111patch5.jpg  \n",
            "  inflating: Development_Dataset/Training/Bipbip/Haricot/Images/Bipbip_haricot_im_03111patch6.jpg  \n",
            "  inflating: Development_Dataset/Training/Bipbip/Haricot/Images/Bipbip_haricot_im_03111patch7.jpg  \n",
            "  inflating: Development_Dataset/Training/Bipbip/Haricot/Images/Bipbip_haricot_im_03231patch0.jpg  \n",
            "  inflating: Development_Dataset/Training/Bipbip/Haricot/Images/Bipbip_haricot_im_03231patch1.jpg  \n",
            "  inflating: Development_Dataset/Training/Bipbip/Haricot/Images/Bipbip_haricot_im_03231patch2.jpg  \n",
            "  inflating: Development_Dataset/Training/Bipbip/Haricot/Images/Bipbip_haricot_im_03231patch3.jpg  \n",
            "  inflating: Development_Dataset/Training/Bipbip/Haricot/Images/Bipbip_haricot_im_03231patch4.jpg  \n",
            "  inflating: Development_Dataset/Training/Bipbip/Haricot/Images/Bipbip_haricot_im_03231patch5.jpg  \n",
            "  inflating: Development_Dataset/Training/Bipbip/Haricot/Images/Bipbip_haricot_im_03231patch6.jpg  \n",
            "  inflating: Development_Dataset/Training/Bipbip/Haricot/Images/Bipbip_haricot_im_03231patch7.jpg  \n",
            "  inflating: Development_Dataset/Training/Bipbip/Haricot/Images/Bipbip_haricot_im_03281patch0.jpg  \n",
            "  inflating: Development_Dataset/Training/Bipbip/Haricot/Images/Bipbip_haricot_im_03281patch1.jpg  \n",
            "  inflating: Development_Dataset/Training/Bipbip/Haricot/Images/Bipbip_haricot_im_03281patch2.jpg  \n",
            "  inflating: Development_Dataset/Training/Bipbip/Haricot/Images/Bipbip_haricot_im_03281patch3.jpg  \n",
            "  inflating: Development_Dataset/Training/Bipbip/Haricot/Images/Bipbip_haricot_im_03281patch4.jpg  \n",
            "  inflating: Development_Dataset/Training/Bipbip/Haricot/Images/Bipbip_haricot_im_03281patch5.jpg  \n",
            "  inflating: Development_Dataset/Training/Bipbip/Haricot/Images/Bipbip_haricot_im_03281patch6.jpg  \n",
            "  inflating: Development_Dataset/Training/Bipbip/Haricot/Images/Bipbip_haricot_im_03281patch7.jpg  \n",
            "  inflating: Development_Dataset/Training/Bipbip/Haricot/Images/Bipbip_haricot_im_03291patch0.jpg  \n",
            "  inflating: Development_Dataset/Training/Bipbip/Haricot/Images/Bipbip_haricot_im_03291patch1.jpg  \n",
            "  inflating: Development_Dataset/Training/Bipbip/Haricot/Images/Bipbip_haricot_im_03291patch2.jpg  \n",
            "  inflating: Development_Dataset/Training/Bipbip/Haricot/Images/Bipbip_haricot_im_03291patch3.jpg  \n",
            "  inflating: Development_Dataset/Training/Bipbip/Haricot/Images/Bipbip_haricot_im_03291patch4.jpg  \n",
            "  inflating: Development_Dataset/Training/Bipbip/Haricot/Images/Bipbip_haricot_im_03291patch5.jpg  \n",
            "  inflating: Development_Dataset/Training/Bipbip/Haricot/Images/Bipbip_haricot_im_03291patch6.jpg  \n",
            "  inflating: Development_Dataset/Training/Bipbip/Haricot/Images/Bipbip_haricot_im_03291patch7.jpg  \n",
            "  inflating: Development_Dataset/Training/Bipbip/Haricot/Images/Bipbip_haricot_im_03411patch0.jpg  \n",
            "  inflating: Development_Dataset/Training/Bipbip/Haricot/Images/Bipbip_haricot_im_03411patch1.jpg  \n",
            "  inflating: Development_Dataset/Training/Bipbip/Haricot/Images/Bipbip_haricot_im_03411patch2.jpg  \n",
            "  inflating: Development_Dataset/Training/Bipbip/Haricot/Images/Bipbip_haricot_im_03411patch3.jpg  \n",
            "  inflating: Development_Dataset/Training/Bipbip/Haricot/Images/Bipbip_haricot_im_03411patch4.jpg  \n",
            "  inflating: Development_Dataset/Training/Bipbip/Haricot/Images/Bipbip_haricot_im_03411patch5.jpg  \n",
            "  inflating: Development_Dataset/Training/Bipbip/Haricot/Images/Bipbip_haricot_im_03411patch6.jpg  \n",
            "  inflating: Development_Dataset/Training/Bipbip/Haricot/Images/Bipbip_haricot_im_03411patch7.jpg  \n",
            "  inflating: Development_Dataset/Training/Bipbip/Haricot/Images/Bipbip_haricot_im_03461patch0.jpg  \n",
            "  inflating: Development_Dataset/Training/Bipbip/Haricot/Images/Bipbip_haricot_im_03461patch1.jpg  \n",
            "  inflating: Development_Dataset/Training/Bipbip/Haricot/Images/Bipbip_haricot_im_03461patch2.jpg  \n",
            "  inflating: Development_Dataset/Training/Bipbip/Haricot/Images/Bipbip_haricot_im_03461patch3.jpg  \n",
            "  inflating: Development_Dataset/Training/Bipbip/Haricot/Images/Bipbip_haricot_im_03461patch4.jpg  \n",
            "  inflating: Development_Dataset/Training/Bipbip/Haricot/Images/Bipbip_haricot_im_03461patch5.jpg  \n",
            "  inflating: Development_Dataset/Training/Bipbip/Haricot/Images/Bipbip_haricot_im_03461patch6.jpg  \n",
            "  inflating: Development_Dataset/Training/Bipbip/Haricot/Images/Bipbip_haricot_im_03461patch7.jpg  \n",
            "  inflating: Development_Dataset/Training/Bipbip/Haricot/Images/Bipbip_haricot_im_03481patch0.jpg  \n",
            "  inflating: Development_Dataset/Training/Bipbip/Haricot/Images/Bipbip_haricot_im_03481patch1.jpg  \n",
            "  inflating: Development_Dataset/Training/Bipbip/Haricot/Images/Bipbip_haricot_im_03481patch2.jpg  \n",
            "  inflating: Development_Dataset/Training/Bipbip/Haricot/Images/Bipbip_haricot_im_03481patch3.jpg  \n",
            "  inflating: Development_Dataset/Training/Bipbip/Haricot/Images/Bipbip_haricot_im_03481patch4.jpg  \n",
            "  inflating: Development_Dataset/Training/Bipbip/Haricot/Images/Bipbip_haricot_im_03481patch5.jpg  \n",
            "  inflating: Development_Dataset/Training/Bipbip/Haricot/Images/Bipbip_haricot_im_03481patch6.jpg  \n",
            "  inflating: Development_Dataset/Training/Bipbip/Haricot/Images/Bipbip_haricot_im_03481patch7.jpg  \n",
            "  inflating: Development_Dataset/Training/Bipbip/Haricot/Images/Bipbip_haricot_im_03531patch0.jpg  \n",
            "  inflating: Development_Dataset/Training/Bipbip/Haricot/Images/Bipbip_haricot_im_03531patch1.jpg  \n",
            "  inflating: Development_Dataset/Training/Bipbip/Haricot/Images/Bipbip_haricot_im_03531patch2.jpg  \n",
            "  inflating: Development_Dataset/Training/Bipbip/Haricot/Images/Bipbip_haricot_im_03531patch3.jpg  \n",
            "  inflating: Development_Dataset/Training/Bipbip/Haricot/Images/Bipbip_haricot_im_03531patch4.jpg  \n",
            "  inflating: Development_Dataset/Training/Bipbip/Haricot/Images/Bipbip_haricot_im_03531patch5.jpg  \n",
            "  inflating: Development_Dataset/Training/Bipbip/Haricot/Images/Bipbip_haricot_im_03531patch6.jpg  \n",
            "  inflating: Development_Dataset/Training/Bipbip/Haricot/Images/Bipbip_haricot_im_03531patch7.jpg  \n",
            "  inflating: Development_Dataset/Training/Bipbip/Haricot/Images/Bipbip_haricot_im_03571patch0.jpg  \n",
            "  inflating: Development_Dataset/Training/Bipbip/Haricot/Images/Bipbip_haricot_im_03571patch1.jpg  \n",
            "  inflating: Development_Dataset/Training/Bipbip/Haricot/Images/Bipbip_haricot_im_03571patch2.jpg  \n",
            "  inflating: Development_Dataset/Training/Bipbip/Haricot/Images/Bipbip_haricot_im_03571patch3.jpg  \n",
            "  inflating: Development_Dataset/Training/Bipbip/Haricot/Images/Bipbip_haricot_im_03571patch4.jpg  \n",
            "  inflating: Development_Dataset/Training/Bipbip/Haricot/Images/Bipbip_haricot_im_03571patch5.jpg  \n",
            "  inflating: Development_Dataset/Training/Bipbip/Haricot/Images/Bipbip_haricot_im_03571patch6.jpg  \n",
            "  inflating: Development_Dataset/Training/Bipbip/Haricot/Images/Bipbip_haricot_im_03571patch7.jpg  \n",
            "  inflating: Development_Dataset/Training/Bipbip/Haricot/Images/Bipbip_haricot_im_03611patch0.jpg  \n",
            "  inflating: Development_Dataset/Training/Bipbip/Haricot/Images/Bipbip_haricot_im_03611patch1.jpg  \n",
            "  inflating: Development_Dataset/Training/Bipbip/Haricot/Images/Bipbip_haricot_im_03611patch2.jpg  \n",
            "  inflating: Development_Dataset/Training/Bipbip/Haricot/Images/Bipbip_haricot_im_03611patch3.jpg  \n",
            "  inflating: Development_Dataset/Training/Bipbip/Haricot/Images/Bipbip_haricot_im_03611patch4.jpg  \n",
            "  inflating: Development_Dataset/Training/Bipbip/Haricot/Images/Bipbip_haricot_im_03611patch5.jpg  \n",
            "  inflating: Development_Dataset/Training/Bipbip/Haricot/Images/Bipbip_haricot_im_03611patch6.jpg  \n",
            "  inflating: Development_Dataset/Training/Bipbip/Haricot/Images/Bipbip_haricot_im_03611patch7.jpg  \n",
            "  inflating: Development_Dataset/Training/Bipbip/Haricot/Images/Bipbip_haricot_im_03751patch0.jpg  \n",
            "  inflating: Development_Dataset/Training/Bipbip/Haricot/Images/Bipbip_haricot_im_03751patch1.jpg  \n",
            "  inflating: Development_Dataset/Training/Bipbip/Haricot/Images/Bipbip_haricot_im_03751patch2.jpg  \n",
            "  inflating: Development_Dataset/Training/Bipbip/Haricot/Images/Bipbip_haricot_im_03751patch3.jpg  \n",
            "  inflating: Development_Dataset/Training/Bipbip/Haricot/Images/Bipbip_haricot_im_03751patch4.jpg  \n",
            "  inflating: Development_Dataset/Training/Bipbip/Haricot/Images/Bipbip_haricot_im_03751patch5.jpg  \n",
            "  inflating: Development_Dataset/Training/Bipbip/Haricot/Images/Bipbip_haricot_im_03751patch6.jpg  \n",
            "  inflating: Development_Dataset/Training/Bipbip/Haricot/Images/Bipbip_haricot_im_03751patch7.jpg  \n",
            "  inflating: Development_Dataset/Training/Bipbip/Haricot/Images/Bipbip_haricot_im_03841patch0.jpg  \n",
            "  inflating: Development_Dataset/Training/Bipbip/Haricot/Images/Bipbip_haricot_im_03841patch1.jpg  \n",
            "  inflating: Development_Dataset/Training/Bipbip/Haricot/Images/Bipbip_haricot_im_03841patch2.jpg  \n",
            "  inflating: Development_Dataset/Training/Bipbip/Haricot/Images/Bipbip_haricot_im_03841patch3.jpg  \n",
            "  inflating: Development_Dataset/Training/Bipbip/Haricot/Images/Bipbip_haricot_im_03841patch4.jpg  \n",
            "  inflating: Development_Dataset/Training/Bipbip/Haricot/Images/Bipbip_haricot_im_03841patch5.jpg  \n",
            "  inflating: Development_Dataset/Training/Bipbip/Haricot/Images/Bipbip_haricot_im_03841patch6.jpg  \n",
            "  inflating: Development_Dataset/Training/Bipbip/Haricot/Images/Bipbip_haricot_im_03841patch7.jpg  \n",
            "  inflating: Development_Dataset/Training/Bipbip/Haricot/Images/Bipbip_haricot_im_03961patch0.jpg  \n",
            "  inflating: Development_Dataset/Training/Bipbip/Haricot/Images/Bipbip_haricot_im_03961patch1.jpg  \n",
            "  inflating: Development_Dataset/Training/Bipbip/Haricot/Images/Bipbip_haricot_im_03961patch2.jpg  \n",
            "  inflating: Development_Dataset/Training/Bipbip/Haricot/Images/Bipbip_haricot_im_03961patch3.jpg  \n",
            "  inflating: Development_Dataset/Training/Bipbip/Haricot/Images/Bipbip_haricot_im_03961patch4.jpg  \n",
            "  inflating: Development_Dataset/Training/Bipbip/Haricot/Images/Bipbip_haricot_im_03961patch5.jpg  \n",
            "  inflating: Development_Dataset/Training/Bipbip/Haricot/Images/Bipbip_haricot_im_03961patch6.jpg  \n",
            "  inflating: Development_Dataset/Training/Bipbip/Haricot/Images/Bipbip_haricot_im_03961patch7.jpg  \n",
            "  inflating: Development_Dataset/Training/Bipbip/Haricot/Images/Bipbip_haricot_im_04031patch0.jpg  \n",
            "  inflating: Development_Dataset/Training/Bipbip/Haricot/Images/Bipbip_haricot_im_04031patch1.jpg  \n",
            "  inflating: Development_Dataset/Training/Bipbip/Haricot/Images/Bipbip_haricot_im_04031patch2.jpg  \n",
            "  inflating: Development_Dataset/Training/Bipbip/Haricot/Images/Bipbip_haricot_im_04031patch3.jpg  \n",
            "  inflating: Development_Dataset/Training/Bipbip/Haricot/Images/Bipbip_haricot_im_04031patch4.jpg  \n",
            "  inflating: Development_Dataset/Training/Bipbip/Haricot/Images/Bipbip_haricot_im_04031patch5.jpg  \n",
            "  inflating: Development_Dataset/Training/Bipbip/Haricot/Images/Bipbip_haricot_im_04031patch6.jpg  \n",
            "  inflating: Development_Dataset/Training/Bipbip/Haricot/Images/Bipbip_haricot_im_04031patch7.jpg  \n",
            "  inflating: Development_Dataset/Training/Bipbip/Haricot/Images/Bipbip_haricot_im_04301patch0.jpg  \n",
            "  inflating: Development_Dataset/Training/Bipbip/Haricot/Images/Bipbip_haricot_im_04301patch1.jpg  \n",
            "  inflating: Development_Dataset/Training/Bipbip/Haricot/Images/Bipbip_haricot_im_04301patch2.jpg  \n",
            "  inflating: Development_Dataset/Training/Bipbip/Haricot/Images/Bipbip_haricot_im_04301patch3.jpg  \n",
            "  inflating: Development_Dataset/Training/Bipbip/Haricot/Images/Bipbip_haricot_im_04301patch4.jpg  \n",
            "  inflating: Development_Dataset/Training/Bipbip/Haricot/Images/Bipbip_haricot_im_04301patch5.jpg  \n",
            "  inflating: Development_Dataset/Training/Bipbip/Haricot/Images/Bipbip_haricot_im_04301patch6.jpg  \n",
            "  inflating: Development_Dataset/Training/Bipbip/Haricot/Images/Bipbip_haricot_im_04301patch7.jpg  \n",
            "  inflating: Development_Dataset/Training/Bipbip/Haricot/Images/Bipbip_haricot_im_04401patch0.jpg  \n",
            "  inflating: Development_Dataset/Training/Bipbip/Haricot/Images/Bipbip_haricot_im_04401patch1.jpg  \n",
            "  inflating: Development_Dataset/Training/Bipbip/Haricot/Images/Bipbip_haricot_im_04401patch2.jpg  \n",
            "  inflating: Development_Dataset/Training/Bipbip/Haricot/Images/Bipbip_haricot_im_04401patch3.jpg  \n",
            "  inflating: Development_Dataset/Training/Bipbip/Haricot/Images/Bipbip_haricot_im_04401patch4.jpg  \n",
            "  inflating: Development_Dataset/Training/Bipbip/Haricot/Images/Bipbip_haricot_im_04401patch5.jpg  \n",
            "  inflating: Development_Dataset/Training/Bipbip/Haricot/Images/Bipbip_haricot_im_04401patch6.jpg  \n",
            "  inflating: Development_Dataset/Training/Bipbip/Haricot/Images/Bipbip_haricot_im_04401patch7.jpg  \n",
            "  inflating: Development_Dataset/Training/Bipbip/Haricot/Images/Bipbip_haricot_im_04541patch0.jpg  \n",
            "  inflating: Development_Dataset/Training/Bipbip/Haricot/Images/Bipbip_haricot_im_04541patch1.jpg  \n",
            "  inflating: Development_Dataset/Training/Bipbip/Haricot/Images/Bipbip_haricot_im_04541patch2.jpg  \n",
            "  inflating: Development_Dataset/Training/Bipbip/Haricot/Images/Bipbip_haricot_im_04541patch3.jpg  \n",
            "  inflating: Development_Dataset/Training/Bipbip/Haricot/Images/Bipbip_haricot_im_04541patch4.jpg  \n",
            "  inflating: Development_Dataset/Training/Bipbip/Haricot/Images/Bipbip_haricot_im_04541patch5.jpg  \n",
            "  inflating: Development_Dataset/Training/Bipbip/Haricot/Images/Bipbip_haricot_im_04541patch6.jpg  \n",
            "  inflating: Development_Dataset/Training/Bipbip/Haricot/Images/Bipbip_haricot_im_04541patch7.jpg  \n",
            "  inflating: Development_Dataset/Training/Bipbip/Haricot/Images/Bipbip_haricot_im_04591patch0.jpg  \n",
            "  inflating: Development_Dataset/Training/Bipbip/Haricot/Images/Bipbip_haricot_im_04591patch1.jpg  \n",
            "  inflating: Development_Dataset/Training/Bipbip/Haricot/Images/Bipbip_haricot_im_04591patch2.jpg  \n",
            "  inflating: Development_Dataset/Training/Bipbip/Haricot/Images/Bipbip_haricot_im_04591patch3.jpg  \n",
            "  inflating: Development_Dataset/Training/Bipbip/Haricot/Images/Bipbip_haricot_im_04591patch4.jpg  \n",
            "  inflating: Development_Dataset/Training/Bipbip/Haricot/Images/Bipbip_haricot_im_04591patch5.jpg  \n",
            "  inflating: Development_Dataset/Training/Bipbip/Haricot/Images/Bipbip_haricot_im_04591patch6.jpg  \n",
            "  inflating: Development_Dataset/Training/Bipbip/Haricot/Images/Bipbip_haricot_im_04591patch7.jpg  \n",
            "  inflating: Development_Dataset/Training/Bipbip/Haricot/Images/Bipbip_haricot_im_04741patch0.jpg  \n",
            "  inflating: Development_Dataset/Training/Bipbip/Haricot/Images/Bipbip_haricot_im_04741patch1.jpg  \n",
            "  inflating: Development_Dataset/Training/Bipbip/Haricot/Images/Bipbip_haricot_im_04741patch2.jpg  \n",
            "  inflating: Development_Dataset/Training/Bipbip/Haricot/Images/Bipbip_haricot_im_04741patch3.jpg  \n",
            "  inflating: Development_Dataset/Training/Bipbip/Haricot/Images/Bipbip_haricot_im_04741patch4.jpg  \n",
            "  inflating: Development_Dataset/Training/Bipbip/Haricot/Images/Bipbip_haricot_im_04741patch5.jpg  \n",
            "  inflating: Development_Dataset/Training/Bipbip/Haricot/Images/Bipbip_haricot_im_04741patch6.jpg  \n",
            "  inflating: Development_Dataset/Training/Bipbip/Haricot/Images/Bipbip_haricot_im_04741patch7.jpg  \n",
            "  inflating: Development_Dataset/Training/Bipbip/Haricot/Images/Bipbip_haricot_im_04791patch0.jpg  \n",
            "  inflating: Development_Dataset/Training/Bipbip/Haricot/Images/Bipbip_haricot_im_04791patch1.jpg  \n",
            "  inflating: Development_Dataset/Training/Bipbip/Haricot/Images/Bipbip_haricot_im_04791patch2.jpg  \n",
            "  inflating: Development_Dataset/Training/Bipbip/Haricot/Images/Bipbip_haricot_im_04791patch3.jpg  \n",
            "  inflating: Development_Dataset/Training/Bipbip/Haricot/Images/Bipbip_haricot_im_04791patch4.jpg  \n",
            "  inflating: Development_Dataset/Training/Bipbip/Haricot/Images/Bipbip_haricot_im_04791patch5.jpg  \n",
            "  inflating: Development_Dataset/Training/Bipbip/Haricot/Images/Bipbip_haricot_im_04791patch6.jpg  \n",
            "  inflating: Development_Dataset/Training/Bipbip/Haricot/Images/Bipbip_haricot_im_04791patch7.jpg  \n",
            "  inflating: Development_Dataset/Training/Bipbip/Haricot/Images/Bipbip_haricot_im_04851patch0.jpg  \n",
            "  inflating: Development_Dataset/Training/Bipbip/Haricot/Images/Bipbip_haricot_im_04851patch1.jpg  \n",
            "  inflating: Development_Dataset/Training/Bipbip/Haricot/Images/Bipbip_haricot_im_04851patch2.jpg  \n",
            "  inflating: Development_Dataset/Training/Bipbip/Haricot/Images/Bipbip_haricot_im_04851patch3.jpg  \n",
            "  inflating: Development_Dataset/Training/Bipbip/Haricot/Images/Bipbip_haricot_im_04851patch4.jpg  \n",
            "  inflating: Development_Dataset/Training/Bipbip/Haricot/Images/Bipbip_haricot_im_04851patch5.jpg  \n",
            "  inflating: Development_Dataset/Training/Bipbip/Haricot/Images/Bipbip_haricot_im_04851patch6.jpg  \n",
            "  inflating: Development_Dataset/Training/Bipbip/Haricot/Images/Bipbip_haricot_im_04851patch7.jpg  \n",
            "  inflating: Development_Dataset/Training/Bipbip/Haricot/Images/Bipbip_haricot_im_04991patch0.jpg  \n",
            "  inflating: Development_Dataset/Training/Bipbip/Haricot/Images/Bipbip_haricot_im_04991patch1.jpg  \n",
            "  inflating: Development_Dataset/Training/Bipbip/Haricot/Images/Bipbip_haricot_im_04991patch2.jpg  \n",
            "  inflating: Development_Dataset/Training/Bipbip/Haricot/Images/Bipbip_haricot_im_04991patch3.jpg  \n",
            "  inflating: Development_Dataset/Training/Bipbip/Haricot/Images/Bipbip_haricot_im_04991patch4.jpg  \n",
            "  inflating: Development_Dataset/Training/Bipbip/Haricot/Images/Bipbip_haricot_im_04991patch5.jpg  \n",
            "  inflating: Development_Dataset/Training/Bipbip/Haricot/Images/Bipbip_haricot_im_04991patch6.jpg  \n",
            "  inflating: Development_Dataset/Training/Bipbip/Haricot/Images/Bipbip_haricot_im_04991patch7.jpg  \n",
            "  inflating: Development_Dataset/Training/Bipbip/Haricot/Images/Bipbip_haricot_im_05041patch0.jpg  \n",
            "  inflating: Development_Dataset/Training/Bipbip/Haricot/Images/Bipbip_haricot_im_05041patch1.jpg  \n",
            "  inflating: Development_Dataset/Training/Bipbip/Haricot/Images/Bipbip_haricot_im_05041patch2.jpg  \n",
            "  inflating: Development_Dataset/Training/Bipbip/Haricot/Images/Bipbip_haricot_im_05041patch3.jpg  \n",
            "  inflating: Development_Dataset/Training/Bipbip/Haricot/Images/Bipbip_haricot_im_05041patch4.jpg  \n",
            "  inflating: Development_Dataset/Training/Bipbip/Haricot/Images/Bipbip_haricot_im_05041patch5.jpg  \n",
            "  inflating: Development_Dataset/Training/Bipbip/Haricot/Images/Bipbip_haricot_im_05041patch6.jpg  \n",
            "  inflating: Development_Dataset/Training/Bipbip/Haricot/Images/Bipbip_haricot_im_05041patch7.jpg  \n",
            "  inflating: Development_Dataset/Training/Bipbip/Haricot/Images/Bipbip_haricot_im_05111patch0.jpg  \n",
            "  inflating: Development_Dataset/Training/Bipbip/Haricot/Images/Bipbip_haricot_im_05111patch1.jpg  \n",
            "  inflating: Development_Dataset/Training/Bipbip/Haricot/Images/Bipbip_haricot_im_05111patch2.jpg  \n",
            "  inflating: Development_Dataset/Training/Bipbip/Haricot/Images/Bipbip_haricot_im_05111patch3.jpg  \n",
            "  inflating: Development_Dataset/Training/Bipbip/Haricot/Images/Bipbip_haricot_im_05111patch4.jpg  \n",
            "  inflating: Development_Dataset/Training/Bipbip/Haricot/Images/Bipbip_haricot_im_05111patch5.jpg  \n",
            "  inflating: Development_Dataset/Training/Bipbip/Haricot/Images/Bipbip_haricot_im_05111patch6.jpg  \n",
            "  inflating: Development_Dataset/Training/Bipbip/Haricot/Images/Bipbip_haricot_im_05111patch7.jpg  \n",
            "  inflating: Development_Dataset/Training/Bipbip/Haricot/Images/Bipbip_haricot_im_05141patch0.jpg  \n",
            "  inflating: Development_Dataset/Training/Bipbip/Haricot/Images/Bipbip_haricot_im_05141patch1.jpg  \n",
            "  inflating: Development_Dataset/Training/Bipbip/Haricot/Images/Bipbip_haricot_im_05141patch2.jpg  \n",
            "  inflating: Development_Dataset/Training/Bipbip/Haricot/Images/Bipbip_haricot_im_05141patch3.jpg  \n",
            "  inflating: Development_Dataset/Training/Bipbip/Haricot/Images/Bipbip_haricot_im_05141patch4.jpg  \n",
            "  inflating: Development_Dataset/Training/Bipbip/Haricot/Images/Bipbip_haricot_im_05141patch5.jpg  \n",
            "  inflating: Development_Dataset/Training/Bipbip/Haricot/Images/Bipbip_haricot_im_05141patch6.jpg  \n",
            "  inflating: Development_Dataset/Training/Bipbip/Haricot/Images/Bipbip_haricot_im_05141patch7.jpg  \n",
            "  inflating: Development_Dataset/Training/Bipbip/Haricot/Images/Bipbip_haricot_im_05231patch0.jpg  \n",
            "  inflating: Development_Dataset/Training/Bipbip/Haricot/Images/Bipbip_haricot_im_05231patch1.jpg  \n",
            "  inflating: Development_Dataset/Training/Bipbip/Haricot/Images/Bipbip_haricot_im_05231patch2.jpg  \n",
            "  inflating: Development_Dataset/Training/Bipbip/Haricot/Images/Bipbip_haricot_im_05231patch3.jpg  \n",
            "  inflating: Development_Dataset/Training/Bipbip/Haricot/Images/Bipbip_haricot_im_05231patch4.jpg  \n",
            "  inflating: Development_Dataset/Training/Bipbip/Haricot/Images/Bipbip_haricot_im_05231patch5.jpg  \n",
            "  inflating: Development_Dataset/Training/Bipbip/Haricot/Images/Bipbip_haricot_im_05231patch6.jpg  \n",
            "  inflating: Development_Dataset/Training/Bipbip/Haricot/Images/Bipbip_haricot_im_05231patch7.jpg  \n",
            "  inflating: Development_Dataset/Training/Bipbip/Haricot/Images/Bipbip_haricot_im_05301patch0.jpg  \n",
            "  inflating: Development_Dataset/Training/Bipbip/Haricot/Images/Bipbip_haricot_im_05301patch1.jpg  \n",
            "  inflating: Development_Dataset/Training/Bipbip/Haricot/Images/Bipbip_haricot_im_05301patch2.jpg  \n",
            "  inflating: Development_Dataset/Training/Bipbip/Haricot/Images/Bipbip_haricot_im_05301patch3.jpg  \n",
            "  inflating: Development_Dataset/Training/Bipbip/Haricot/Images/Bipbip_haricot_im_05301patch4.jpg  \n",
            "  inflating: Development_Dataset/Training/Bipbip/Haricot/Images/Bipbip_haricot_im_05301patch5.jpg  \n",
            "  inflating: Development_Dataset/Training/Bipbip/Haricot/Images/Bipbip_haricot_im_05301patch6.jpg  \n",
            "  inflating: Development_Dataset/Training/Bipbip/Haricot/Images/Bipbip_haricot_im_05301patch7.jpg  \n",
            "  inflating: Development_Dataset/Training/Bipbip/Haricot/Images/Bipbip_haricot_im_05351patch0.jpg  \n",
            "  inflating: Development_Dataset/Training/Bipbip/Haricot/Images/Bipbip_haricot_im_05351patch1.jpg  \n",
            "  inflating: Development_Dataset/Training/Bipbip/Haricot/Images/Bipbip_haricot_im_05351patch2.jpg  \n",
            "  inflating: Development_Dataset/Training/Bipbip/Haricot/Images/Bipbip_haricot_im_05351patch3.jpg  \n",
            "  inflating: Development_Dataset/Training/Bipbip/Haricot/Images/Bipbip_haricot_im_05351patch4.jpg  \n",
            "  inflating: Development_Dataset/Training/Bipbip/Haricot/Images/Bipbip_haricot_im_05351patch5.jpg  \n",
            "  inflating: Development_Dataset/Training/Bipbip/Haricot/Images/Bipbip_haricot_im_05351patch6.jpg  \n",
            "  inflating: Development_Dataset/Training/Bipbip/Haricot/Images/Bipbip_haricot_im_05351patch7.jpg  \n",
            "  inflating: Development_Dataset/Training/Bipbip/Haricot/Images/Bipbip_haricot_im_05361patch0.jpg  \n",
            "  inflating: Development_Dataset/Training/Bipbip/Haricot/Images/Bipbip_haricot_im_05361patch1.jpg  \n",
            "  inflating: Development_Dataset/Training/Bipbip/Haricot/Images/Bipbip_haricot_im_05361patch2.jpg  \n",
            "  inflating: Development_Dataset/Training/Bipbip/Haricot/Images/Bipbip_haricot_im_05361patch3.jpg  \n",
            "  inflating: Development_Dataset/Training/Bipbip/Haricot/Images/Bipbip_haricot_im_05361patch4.jpg  \n",
            "  inflating: Development_Dataset/Training/Bipbip/Haricot/Images/Bipbip_haricot_im_05361patch5.jpg  \n",
            "  inflating: Development_Dataset/Training/Bipbip/Haricot/Images/Bipbip_haricot_im_05361patch6.jpg  \n",
            "  inflating: Development_Dataset/Training/Bipbip/Haricot/Images/Bipbip_haricot_im_05361patch7.jpg  \n",
            "  inflating: Development_Dataset/Training/Bipbip/Haricot/Images/Bipbip_haricot_im_05411patch0.jpg  \n",
            "  inflating: Development_Dataset/Training/Bipbip/Haricot/Images/Bipbip_haricot_im_05411patch1.jpg  \n",
            "  inflating: Development_Dataset/Training/Bipbip/Haricot/Images/Bipbip_haricot_im_05411patch2.jpg  \n",
            "  inflating: Development_Dataset/Training/Bipbip/Haricot/Images/Bipbip_haricot_im_05411patch3.jpg  \n",
            "  inflating: Development_Dataset/Training/Bipbip/Haricot/Images/Bipbip_haricot_im_05411patch4.jpg  \n",
            "  inflating: Development_Dataset/Training/Bipbip/Haricot/Images/Bipbip_haricot_im_05411patch5.jpg  \n",
            "  inflating: Development_Dataset/Training/Bipbip/Haricot/Images/Bipbip_haricot_im_05411patch6.jpg  \n",
            "  inflating: Development_Dataset/Training/Bipbip/Haricot/Images/Bipbip_haricot_im_05411patch7.jpg  \n",
            "  inflating: Development_Dataset/Training/Bipbip/Haricot/Images/Bipbip_haricot_im_05421patch0.jpg  \n",
            "  inflating: Development_Dataset/Training/Bipbip/Haricot/Images/Bipbip_haricot_im_05421patch1.jpg  \n",
            "  inflating: Development_Dataset/Training/Bipbip/Haricot/Images/Bipbip_haricot_im_05421patch2.jpg  \n",
            "  inflating: Development_Dataset/Training/Bipbip/Haricot/Images/Bipbip_haricot_im_05421patch3.jpg  \n",
            "  inflating: Development_Dataset/Training/Bipbip/Haricot/Images/Bipbip_haricot_im_05421patch4.jpg  \n",
            "  inflating: Development_Dataset/Training/Bipbip/Haricot/Images/Bipbip_haricot_im_05421patch5.jpg  \n",
            "  inflating: Development_Dataset/Training/Bipbip/Haricot/Images/Bipbip_haricot_im_05421patch6.jpg  \n",
            "  inflating: Development_Dataset/Training/Bipbip/Haricot/Images/Bipbip_haricot_im_05421patch7.jpg  \n",
            "  inflating: Development_Dataset/Training/Bipbip/Haricot/Images/Bipbip_haricot_im_05461patch0.jpg  \n",
            "  inflating: Development_Dataset/Training/Bipbip/Haricot/Images/Bipbip_haricot_im_05461patch1.jpg  \n",
            "  inflating: Development_Dataset/Training/Bipbip/Haricot/Images/Bipbip_haricot_im_05461patch2.jpg  \n",
            "  inflating: Development_Dataset/Training/Bipbip/Haricot/Images/Bipbip_haricot_im_05461patch3.jpg  \n",
            "  inflating: Development_Dataset/Training/Bipbip/Haricot/Images/Bipbip_haricot_im_05461patch4.jpg  \n",
            "  inflating: Development_Dataset/Training/Bipbip/Haricot/Images/Bipbip_haricot_im_05461patch5.jpg  \n",
            "  inflating: Development_Dataset/Training/Bipbip/Haricot/Images/Bipbip_haricot_im_05461patch6.jpg  \n",
            "  inflating: Development_Dataset/Training/Bipbip/Haricot/Images/Bipbip_haricot_im_05461patch7.jpg  \n",
            "  inflating: Development_Dataset/Training/Bipbip/Haricot/Images/Bipbip_haricot_im_05481patch0.jpg  \n",
            "  inflating: Development_Dataset/Training/Bipbip/Haricot/Images/Bipbip_haricot_im_05481patch1.jpg  \n",
            "  inflating: Development_Dataset/Training/Bipbip/Haricot/Images/Bipbip_haricot_im_05481patch2.jpg  \n",
            "  inflating: Development_Dataset/Training/Bipbip/Haricot/Images/Bipbip_haricot_im_05481patch3.jpg  \n",
            "  inflating: Development_Dataset/Training/Bipbip/Haricot/Images/Bipbip_haricot_im_05481patch4.jpg  \n",
            "  inflating: Development_Dataset/Training/Bipbip/Haricot/Images/Bipbip_haricot_im_05481patch5.jpg  \n",
            "  inflating: Development_Dataset/Training/Bipbip/Haricot/Images/Bipbip_haricot_im_05481patch6.jpg  \n",
            "  inflating: Development_Dataset/Training/Bipbip/Haricot/Images/Bipbip_haricot_im_05481patch7.jpg  \n",
            "  inflating: Development_Dataset/Training/Bipbip/Haricot/Images/Bipbip_haricot_im_05531patch0.jpg  \n",
            "  inflating: Development_Dataset/Training/Bipbip/Haricot/Images/Bipbip_haricot_im_05531patch1.jpg  \n",
            "  inflating: Development_Dataset/Training/Bipbip/Haricot/Images/Bipbip_haricot_im_05531patch2.jpg  \n",
            "  inflating: Development_Dataset/Training/Bipbip/Haricot/Images/Bipbip_haricot_im_05531patch3.jpg  \n",
            "  inflating: Development_Dataset/Training/Bipbip/Haricot/Images/Bipbip_haricot_im_05531patch4.jpg  \n",
            "  inflating: Development_Dataset/Training/Bipbip/Haricot/Images/Bipbip_haricot_im_05531patch5.jpg  \n",
            "  inflating: Development_Dataset/Training/Bipbip/Haricot/Images/Bipbip_haricot_im_05531patch6.jpg  \n",
            "  inflating: Development_Dataset/Training/Bipbip/Haricot/Images/Bipbip_haricot_im_05531patch7.jpg  \n",
            "  inflating: Development_Dataset/Training/Bipbip/Haricot/Images/Bipbip_haricot_im_05571patch0.jpg  \n",
            "  inflating: Development_Dataset/Training/Bipbip/Haricot/Images/Bipbip_haricot_im_05571patch1.jpg  \n",
            "  inflating: Development_Dataset/Training/Bipbip/Haricot/Images/Bipbip_haricot_im_05571patch2.jpg  \n",
            "  inflating: Development_Dataset/Training/Bipbip/Haricot/Images/Bipbip_haricot_im_05571patch3.jpg  \n",
            "  inflating: Development_Dataset/Training/Bipbip/Haricot/Images/Bipbip_haricot_im_05571patch4.jpg  \n",
            "  inflating: Development_Dataset/Training/Bipbip/Haricot/Images/Bipbip_haricot_im_05571patch5.jpg  \n",
            "  inflating: Development_Dataset/Training/Bipbip/Haricot/Images/Bipbip_haricot_im_05571patch6.jpg  \n",
            "  inflating: Development_Dataset/Training/Bipbip/Haricot/Images/Bipbip_haricot_im_05571patch7.jpg  \n",
            "  inflating: Development_Dataset/Training/Bipbip/Haricot/Images/Bipbip_haricot_im_05741patch0.jpg  \n",
            "  inflating: Development_Dataset/Training/Bipbip/Haricot/Images/Bipbip_haricot_im_05741patch1.jpg  \n",
            "  inflating: Development_Dataset/Training/Bipbip/Haricot/Images/Bipbip_haricot_im_05741patch2.jpg  \n",
            "  inflating: Development_Dataset/Training/Bipbip/Haricot/Images/Bipbip_haricot_im_05741patch3.jpg  \n",
            "  inflating: Development_Dataset/Training/Bipbip/Haricot/Images/Bipbip_haricot_im_05741patch4.jpg  \n",
            "  inflating: Development_Dataset/Training/Bipbip/Haricot/Images/Bipbip_haricot_im_05741patch5.jpg  \n",
            "  inflating: Development_Dataset/Training/Bipbip/Haricot/Images/Bipbip_haricot_im_05741patch6.jpg  \n",
            "  inflating: Development_Dataset/Training/Bipbip/Haricot/Images/Bipbip_haricot_im_05741patch7.jpg  \n",
            "  inflating: Development_Dataset/Training/Bipbip/Haricot/Images/Bipbip_haricot_im_05911patch0.jpg  \n",
            "  inflating: Development_Dataset/Training/Bipbip/Haricot/Images/Bipbip_haricot_im_05911patch1.jpg  \n",
            "  inflating: Development_Dataset/Training/Bipbip/Haricot/Images/Bipbip_haricot_im_05911patch2.jpg  \n",
            "  inflating: Development_Dataset/Training/Bipbip/Haricot/Images/Bipbip_haricot_im_05911patch3.jpg  \n",
            "  inflating: Development_Dataset/Training/Bipbip/Haricot/Images/Bipbip_haricot_im_05911patch4.jpg  \n",
            "  inflating: Development_Dataset/Training/Bipbip/Haricot/Images/Bipbip_haricot_im_05911patch5.jpg  \n",
            "  inflating: Development_Dataset/Training/Bipbip/Haricot/Images/Bipbip_haricot_im_05911patch6.jpg  \n",
            "  inflating: Development_Dataset/Training/Bipbip/Haricot/Images/Bipbip_haricot_im_05911patch7.jpg  \n",
            "  inflating: Development_Dataset/Training/Bipbip/Haricot/Images/Bipbip_haricot_im_05991patch0.jpg  \n",
            "  inflating: Development_Dataset/Training/Bipbip/Haricot/Images/Bipbip_haricot_im_05991patch1.jpg  \n",
            "  inflating: Development_Dataset/Training/Bipbip/Haricot/Images/Bipbip_haricot_im_05991patch2.jpg  \n",
            "  inflating: Development_Dataset/Training/Bipbip/Haricot/Images/Bipbip_haricot_im_05991patch3.jpg  \n",
            "  inflating: Development_Dataset/Training/Bipbip/Haricot/Images/Bipbip_haricot_im_05991patch4.jpg  \n",
            "  inflating: Development_Dataset/Training/Bipbip/Haricot/Images/Bipbip_haricot_im_05991patch5.jpg  \n",
            "  inflating: Development_Dataset/Training/Bipbip/Haricot/Images/Bipbip_haricot_im_05991patch6.jpg  \n",
            "  inflating: Development_Dataset/Training/Bipbip/Haricot/Images/Bipbip_haricot_im_05991patch7.jpg  \n",
            "  inflating: Development_Dataset/Training/Bipbip/Haricot/Images/Bipbip_haricot_im_06041patch0.jpg  \n",
            "  inflating: Development_Dataset/Training/Bipbip/Haricot/Images/Bipbip_haricot_im_06041patch1.jpg  \n",
            "  inflating: Development_Dataset/Training/Bipbip/Haricot/Images/Bipbip_haricot_im_06041patch2.jpg  \n",
            "  inflating: Development_Dataset/Training/Bipbip/Haricot/Images/Bipbip_haricot_im_06041patch3.jpg  \n",
            "  inflating: Development_Dataset/Training/Bipbip/Haricot/Images/Bipbip_haricot_im_06041patch4.jpg  \n",
            "  inflating: Development_Dataset/Training/Bipbip/Haricot/Images/Bipbip_haricot_im_06041patch5.jpg  \n",
            "  inflating: Development_Dataset/Training/Bipbip/Haricot/Images/Bipbip_haricot_im_06041patch6.jpg  \n",
            "  inflating: Development_Dataset/Training/Bipbip/Haricot/Images/Bipbip_haricot_im_06041patch7.jpg  \n",
            "  inflating: Development_Dataset/Training/Bipbip/Haricot/Images/Bipbip_haricot_im_06101patch0.jpg  \n",
            "  inflating: Development_Dataset/Training/Bipbip/Haricot/Images/Bipbip_haricot_im_06101patch1.jpg  \n",
            "  inflating: Development_Dataset/Training/Bipbip/Haricot/Images/Bipbip_haricot_im_06101patch2.jpg  \n",
            "  inflating: Development_Dataset/Training/Bipbip/Haricot/Images/Bipbip_haricot_im_06101patch3.jpg  \n",
            "  inflating: Development_Dataset/Training/Bipbip/Haricot/Images/Bipbip_haricot_im_06101patch4.jpg  \n",
            "  inflating: Development_Dataset/Training/Bipbip/Haricot/Images/Bipbip_haricot_im_06101patch5.jpg  \n",
            "  inflating: Development_Dataset/Training/Bipbip/Haricot/Images/Bipbip_haricot_im_06101patch6.jpg  \n",
            "  inflating: Development_Dataset/Training/Bipbip/Haricot/Images/Bipbip_haricot_im_06101patch7.jpg  \n",
            "  inflating: Development_Dataset/Training/Bipbip/Haricot/Images/Bipbip_haricot_im_06151patch0.jpg  \n",
            "  inflating: Development_Dataset/Training/Bipbip/Haricot/Images/Bipbip_haricot_im_06151patch1.jpg  \n",
            "  inflating: Development_Dataset/Training/Bipbip/Haricot/Images/Bipbip_haricot_im_06151patch2.jpg  \n",
            "  inflating: Development_Dataset/Training/Bipbip/Haricot/Images/Bipbip_haricot_im_06151patch3.jpg  \n",
            "  inflating: Development_Dataset/Training/Bipbip/Haricot/Images/Bipbip_haricot_im_06151patch4.jpg  \n",
            "  inflating: Development_Dataset/Training/Bipbip/Haricot/Images/Bipbip_haricot_im_06151patch5.jpg  \n",
            "  inflating: Development_Dataset/Training/Bipbip/Haricot/Images/Bipbip_haricot_im_06151patch6.jpg  \n",
            "  inflating: Development_Dataset/Training/Bipbip/Haricot/Images/Bipbip_haricot_im_06151patch7.jpg  \n",
            "  inflating: Development_Dataset/Training/Bipbip/Haricot/Images/Bipbip_haricot_im_06241patch0.jpg  \n",
            "  inflating: Development_Dataset/Training/Bipbip/Haricot/Images/Bipbip_haricot_im_06241patch1.jpg  \n",
            "  inflating: Development_Dataset/Training/Bipbip/Haricot/Images/Bipbip_haricot_im_06241patch2.jpg  \n",
            "  inflating: Development_Dataset/Training/Bipbip/Haricot/Images/Bipbip_haricot_im_06241patch3.jpg  \n",
            "  inflating: Development_Dataset/Training/Bipbip/Haricot/Images/Bipbip_haricot_im_06241patch4.jpg  \n",
            "  inflating: Development_Dataset/Training/Bipbip/Haricot/Images/Bipbip_haricot_im_06241patch5.jpg  \n",
            "  inflating: Development_Dataset/Training/Bipbip/Haricot/Images/Bipbip_haricot_im_06241patch6.jpg  \n",
            "  inflating: Development_Dataset/Training/Bipbip/Haricot/Images/Bipbip_haricot_im_06241patch7.jpg  \n",
            "  inflating: Development_Dataset/Training/Bipbip/Haricot/Images/Bipbip_haricot_im_06341patch0.jpg  \n",
            "  inflating: Development_Dataset/Training/Bipbip/Haricot/Images/Bipbip_haricot_im_06341patch1.jpg  \n",
            "  inflating: Development_Dataset/Training/Bipbip/Haricot/Images/Bipbip_haricot_im_06341patch2.jpg  \n",
            "  inflating: Development_Dataset/Training/Bipbip/Haricot/Images/Bipbip_haricot_im_06341patch3.jpg  \n",
            "  inflating: Development_Dataset/Training/Bipbip/Haricot/Images/Bipbip_haricot_im_06341patch4.jpg  \n",
            "  inflating: Development_Dataset/Training/Bipbip/Haricot/Images/Bipbip_haricot_im_06341patch5.jpg  \n",
            "  inflating: Development_Dataset/Training/Bipbip/Haricot/Images/Bipbip_haricot_im_06341patch6.jpg  \n",
            "  inflating: Development_Dataset/Training/Bipbip/Haricot/Images/Bipbip_haricot_im_06341patch7.jpg  \n",
            "  inflating: Development_Dataset/Training/Bipbip/Haricot/Images/Bipbip_haricot_im_06401patch0.jpg  \n",
            "  inflating: Development_Dataset/Training/Bipbip/Haricot/Images/Bipbip_haricot_im_06401patch1.jpg  \n",
            "  inflating: Development_Dataset/Training/Bipbip/Haricot/Images/Bipbip_haricot_im_06401patch2.jpg  \n",
            "  inflating: Development_Dataset/Training/Bipbip/Haricot/Images/Bipbip_haricot_im_06401patch3.jpg  \n",
            "  inflating: Development_Dataset/Training/Bipbip/Haricot/Images/Bipbip_haricot_im_06401patch4.jpg  \n",
            "  inflating: Development_Dataset/Training/Bipbip/Haricot/Images/Bipbip_haricot_im_06401patch5.jpg  \n",
            "  inflating: Development_Dataset/Training/Bipbip/Haricot/Images/Bipbip_haricot_im_06401patch6.jpg  \n",
            "  inflating: Development_Dataset/Training/Bipbip/Haricot/Images/Bipbip_haricot_im_06401patch7.jpg  \n",
            "  inflating: Development_Dataset/Training/Bipbip/Haricot/Images/Bipbip_haricot_im_06481patch0.jpg  \n",
            "  inflating: Development_Dataset/Training/Bipbip/Haricot/Images/Bipbip_haricot_im_06481patch1.jpg  \n",
            "  inflating: Development_Dataset/Training/Bipbip/Haricot/Images/Bipbip_haricot_im_06481patch2.jpg  \n",
            "  inflating: Development_Dataset/Training/Bipbip/Haricot/Images/Bipbip_haricot_im_06481patch3.jpg  \n",
            "  inflating: Development_Dataset/Training/Bipbip/Haricot/Images/Bipbip_haricot_im_06481patch4.jpg  \n",
            "  inflating: Development_Dataset/Training/Bipbip/Haricot/Images/Bipbip_haricot_im_06481patch5.jpg  \n",
            "  inflating: Development_Dataset/Training/Bipbip/Haricot/Images/Bipbip_haricot_im_06481patch6.jpg  \n",
            "  inflating: Development_Dataset/Training/Bipbip/Haricot/Images/Bipbip_haricot_im_06481patch7.jpg  \n",
            "  inflating: Development_Dataset/Training/Bipbip/Haricot/Images/Bipbip_haricot_im_06531patch0.jpg  \n",
            "  inflating: Development_Dataset/Training/Bipbip/Haricot/Images/Bipbip_haricot_im_06531patch1.jpg  \n",
            "  inflating: Development_Dataset/Training/Bipbip/Haricot/Images/Bipbip_haricot_im_06531patch2.jpg  \n",
            "  inflating: Development_Dataset/Training/Bipbip/Haricot/Images/Bipbip_haricot_im_06531patch3.jpg  \n",
            "  inflating: Development_Dataset/Training/Bipbip/Haricot/Images/Bipbip_haricot_im_06531patch4.jpg  \n",
            "  inflating: Development_Dataset/Training/Bipbip/Haricot/Images/Bipbip_haricot_im_06531patch5.jpg  \n",
            "  inflating: Development_Dataset/Training/Bipbip/Haricot/Images/Bipbip_haricot_im_06531patch6.jpg  \n",
            "  inflating: Development_Dataset/Training/Bipbip/Haricot/Images/Bipbip_haricot_im_06531patch7.jpg  \n",
            "  inflating: Development_Dataset/Training/Bipbip/Haricot/Images/Bipbip_haricot_im_06641patch0.jpg  \n",
            "  inflating: Development_Dataset/Training/Bipbip/Haricot/Images/Bipbip_haricot_im_06641patch1.jpg  \n",
            "  inflating: Development_Dataset/Training/Bipbip/Haricot/Images/Bipbip_haricot_im_06641patch2.jpg  \n",
            "  inflating: Development_Dataset/Training/Bipbip/Haricot/Images/Bipbip_haricot_im_06641patch3.jpg  \n",
            "  inflating: Development_Dataset/Training/Bipbip/Haricot/Images/Bipbip_haricot_im_06641patch4.jpg  \n",
            "  inflating: Development_Dataset/Training/Bipbip/Haricot/Images/Bipbip_haricot_im_06641patch5.jpg  \n",
            "  inflating: Development_Dataset/Training/Bipbip/Haricot/Images/Bipbip_haricot_im_06641patch6.jpg  \n",
            "  inflating: Development_Dataset/Training/Bipbip/Haricot/Images/Bipbip_haricot_im_06641patch7.jpg  \n",
            "  inflating: Development_Dataset/Training/Bipbip/Haricot/Images/Bipbip_haricot_im_06691patch0.jpg  \n",
            "  inflating: Development_Dataset/Training/Bipbip/Haricot/Images/Bipbip_haricot_im_06691patch1.jpg  \n",
            "  inflating: Development_Dataset/Training/Bipbip/Haricot/Images/Bipbip_haricot_im_06691patch2.jpg  \n",
            "  inflating: Development_Dataset/Training/Bipbip/Haricot/Images/Bipbip_haricot_im_06691patch3.jpg  \n",
            "  inflating: Development_Dataset/Training/Bipbip/Haricot/Images/Bipbip_haricot_im_06691patch4.jpg  \n",
            "  inflating: Development_Dataset/Training/Bipbip/Haricot/Images/Bipbip_haricot_im_06691patch5.jpg  \n",
            "  inflating: Development_Dataset/Training/Bipbip/Haricot/Images/Bipbip_haricot_im_06691patch6.jpg  \n",
            "  inflating: Development_Dataset/Training/Bipbip/Haricot/Images/Bipbip_haricot_im_06691patch7.jpg  \n",
            "  inflating: Development_Dataset/Training/Bipbip/Haricot/Images/Bipbip_haricot_im_06801patch0.jpg  \n",
            "  inflating: Development_Dataset/Training/Bipbip/Haricot/Images/Bipbip_haricot_im_06801patch1.jpg  \n",
            "  inflating: Development_Dataset/Training/Bipbip/Haricot/Images/Bipbip_haricot_im_06801patch2.jpg  \n",
            "  inflating: Development_Dataset/Training/Bipbip/Haricot/Images/Bipbip_haricot_im_06801patch3.jpg  \n",
            "  inflating: Development_Dataset/Training/Bipbip/Haricot/Images/Bipbip_haricot_im_06801patch4.jpg  \n",
            "  inflating: Development_Dataset/Training/Bipbip/Haricot/Images/Bipbip_haricot_im_06801patch5.jpg  \n",
            "  inflating: Development_Dataset/Training/Bipbip/Haricot/Images/Bipbip_haricot_im_06801patch6.jpg  \n",
            "  inflating: Development_Dataset/Training/Bipbip/Haricot/Images/Bipbip_haricot_im_06801patch7.jpg  \n",
            "  inflating: Development_Dataset/Training/Bipbip/Haricot/Images/Bipbip_haricot_im_06851patch0.jpg  \n",
            "  inflating: Development_Dataset/Training/Bipbip/Haricot/Images/Bipbip_haricot_im_06851patch1.jpg  \n",
            "  inflating: Development_Dataset/Training/Bipbip/Haricot/Images/Bipbip_haricot_im_06851patch2.jpg  \n",
            "  inflating: Development_Dataset/Training/Bipbip/Haricot/Images/Bipbip_haricot_im_06851patch3.jpg  \n",
            "  inflating: Development_Dataset/Training/Bipbip/Haricot/Images/Bipbip_haricot_im_06851patch4.jpg  \n",
            "  inflating: Development_Dataset/Training/Bipbip/Haricot/Images/Bipbip_haricot_im_06851patch5.jpg  \n",
            "  inflating: Development_Dataset/Training/Bipbip/Haricot/Images/Bipbip_haricot_im_06851patch6.jpg  \n",
            "  inflating: Development_Dataset/Training/Bipbip/Haricot/Images/Bipbip_haricot_im_06851patch7.jpg  \n",
            "  inflating: Development_Dataset/Training/Bipbip/Haricot/Images/Bipbip_haricot_im_06901patch0.jpg  \n",
            "  inflating: Development_Dataset/Training/Bipbip/Haricot/Images/Bipbip_haricot_im_06901patch1.jpg  \n",
            "  inflating: Development_Dataset/Training/Bipbip/Haricot/Images/Bipbip_haricot_im_06901patch2.jpg  \n",
            "  inflating: Development_Dataset/Training/Bipbip/Haricot/Images/Bipbip_haricot_im_06901patch3.jpg  \n",
            "  inflating: Development_Dataset/Training/Bipbip/Haricot/Images/Bipbip_haricot_im_06901patch4.jpg  \n",
            "  inflating: Development_Dataset/Training/Bipbip/Haricot/Images/Bipbip_haricot_im_06901patch5.jpg  \n",
            "  inflating: Development_Dataset/Training/Bipbip/Haricot/Images/Bipbip_haricot_im_06901patch6.jpg  \n",
            "  inflating: Development_Dataset/Training/Bipbip/Haricot/Images/Bipbip_haricot_im_06901patch7.jpg  \n",
            "  inflating: Development_Dataset/Training/Bipbip/Haricot/Images/Bipbip_haricot_im_06941patch0.jpg  \n",
            "  inflating: Development_Dataset/Training/Bipbip/Haricot/Images/Bipbip_haricot_im_06941patch1.jpg  \n",
            "  inflating: Development_Dataset/Training/Bipbip/Haricot/Images/Bipbip_haricot_im_06941patch2.jpg  \n",
            "  inflating: Development_Dataset/Training/Bipbip/Haricot/Images/Bipbip_haricot_im_06941patch3.jpg  \n",
            "  inflating: Development_Dataset/Training/Bipbip/Haricot/Images/Bipbip_haricot_im_06941patch4.jpg  \n",
            "  inflating: Development_Dataset/Training/Bipbip/Haricot/Images/Bipbip_haricot_im_06941patch5.jpg  \n",
            "  inflating: Development_Dataset/Training/Bipbip/Haricot/Images/Bipbip_haricot_im_06941patch6.jpg  \n",
            "  inflating: Development_Dataset/Training/Bipbip/Haricot/Images/Bipbip_haricot_im_06941patch7.jpg  \n",
            "  inflating: Development_Dataset/Training/Bipbip/Haricot/Images/Bipbip_haricot_im_07011patch0.jpg  \n",
            "  inflating: Development_Dataset/Training/Bipbip/Haricot/Images/Bipbip_haricot_im_07011patch1.jpg  \n",
            "  inflating: Development_Dataset/Training/Bipbip/Haricot/Images/Bipbip_haricot_im_07011patch2.jpg  \n",
            "  inflating: Development_Dataset/Training/Bipbip/Haricot/Images/Bipbip_haricot_im_07011patch3.jpg  \n",
            "  inflating: Development_Dataset/Training/Bipbip/Haricot/Images/Bipbip_haricot_im_07011patch4.jpg  \n",
            "  inflating: Development_Dataset/Training/Bipbip/Haricot/Images/Bipbip_haricot_im_07011patch5.jpg  \n",
            "  inflating: Development_Dataset/Training/Bipbip/Haricot/Images/Bipbip_haricot_im_07011patch6.jpg  \n",
            "  inflating: Development_Dataset/Training/Bipbip/Haricot/Images/Bipbip_haricot_im_07011patch7.jpg  \n",
            "  inflating: Development_Dataset/Training/Bipbip/Haricot/Images/Bipbip_haricot_im_07071patch0.jpg  \n",
            "  inflating: Development_Dataset/Training/Bipbip/Haricot/Images/Bipbip_haricot_im_07071patch1.jpg  \n",
            "  inflating: Development_Dataset/Training/Bipbip/Haricot/Images/Bipbip_haricot_im_07071patch2.jpg  \n",
            "  inflating: Development_Dataset/Training/Bipbip/Haricot/Images/Bipbip_haricot_im_07071patch3.jpg  \n",
            "  inflating: Development_Dataset/Training/Bipbip/Haricot/Images/Bipbip_haricot_im_07071patch4.jpg  \n",
            "  inflating: Development_Dataset/Training/Bipbip/Haricot/Images/Bipbip_haricot_im_07071patch5.jpg  \n",
            "  inflating: Development_Dataset/Training/Bipbip/Haricot/Images/Bipbip_haricot_im_07071patch6.jpg  \n",
            "  inflating: Development_Dataset/Training/Bipbip/Haricot/Images/Bipbip_haricot_im_07071patch7.jpg  \n",
            "  inflating: Development_Dataset/Training/Bipbip/Haricot/Images/Bipbip_haricot_im_07131patch0.jpg  \n",
            "  inflating: Development_Dataset/Training/Bipbip/Haricot/Images/Bipbip_haricot_im_07131patch1.jpg  \n",
            "  inflating: Development_Dataset/Training/Bipbip/Haricot/Images/Bipbip_haricot_im_07131patch2.jpg  \n",
            "  inflating: Development_Dataset/Training/Bipbip/Haricot/Images/Bipbip_haricot_im_07131patch3.jpg  \n",
            "  inflating: Development_Dataset/Training/Bipbip/Haricot/Images/Bipbip_haricot_im_07131patch4.jpg  \n",
            "  inflating: Development_Dataset/Training/Bipbip/Haricot/Images/Bipbip_haricot_im_07131patch5.jpg  \n",
            "  inflating: Development_Dataset/Training/Bipbip/Haricot/Images/Bipbip_haricot_im_07131patch6.jpg  \n",
            "  inflating: Development_Dataset/Training/Bipbip/Haricot/Images/Bipbip_haricot_im_07131patch7.jpg  \n",
            "  inflating: Development_Dataset/Training/Bipbip/Haricot/Images/Bipbip_haricot_im_07371patch0.jpg  \n",
            "  inflating: Development_Dataset/Training/Bipbip/Haricot/Images/Bipbip_haricot_im_07371patch1.jpg  \n",
            "  inflating: Development_Dataset/Training/Bipbip/Haricot/Images/Bipbip_haricot_im_07371patch2.jpg  \n",
            "  inflating: Development_Dataset/Training/Bipbip/Haricot/Images/Bipbip_haricot_im_07371patch3.jpg  \n",
            "  inflating: Development_Dataset/Training/Bipbip/Haricot/Images/Bipbip_haricot_im_07371patch4.jpg  \n",
            "  inflating: Development_Dataset/Training/Bipbip/Haricot/Images/Bipbip_haricot_im_07371patch5.jpg  \n",
            "  inflating: Development_Dataset/Training/Bipbip/Haricot/Images/Bipbip_haricot_im_07371patch6.jpg  \n",
            "  inflating: Development_Dataset/Training/Bipbip/Haricot/Images/Bipbip_haricot_im_07371patch7.jpg  \n",
            "  inflating: Development_Dataset/Training/Bipbip/Haricot/Images/Bipbip_haricot_im_07481patch0.jpg  \n",
            "  inflating: Development_Dataset/Training/Bipbip/Haricot/Images/Bipbip_haricot_im_07481patch1.jpg  \n",
            "  inflating: Development_Dataset/Training/Bipbip/Haricot/Images/Bipbip_haricot_im_07481patch2.jpg  \n",
            "  inflating: Development_Dataset/Training/Bipbip/Haricot/Images/Bipbip_haricot_im_07481patch3.jpg  \n",
            "  inflating: Development_Dataset/Training/Bipbip/Haricot/Images/Bipbip_haricot_im_07481patch4.jpg  \n",
            "  inflating: Development_Dataset/Training/Bipbip/Haricot/Images/Bipbip_haricot_im_07481patch5.jpg  \n",
            "  inflating: Development_Dataset/Training/Bipbip/Haricot/Images/Bipbip_haricot_im_07481patch6.jpg  \n",
            "  inflating: Development_Dataset/Training/Bipbip/Haricot/Images/Bipbip_haricot_im_07481patch7.jpg  \n",
            "  inflating: Development_Dataset/Training/Bipbip/Haricot/Images/Bipbip_haricot_im_07531patch0.jpg  \n",
            "  inflating: Development_Dataset/Training/Bipbip/Haricot/Images/Bipbip_haricot_im_07531patch1.jpg  \n",
            "  inflating: Development_Dataset/Training/Bipbip/Haricot/Images/Bipbip_haricot_im_07531patch2.jpg  \n",
            "  inflating: Development_Dataset/Training/Bipbip/Haricot/Images/Bipbip_haricot_im_07531patch3.jpg  \n",
            "  inflating: Development_Dataset/Training/Bipbip/Haricot/Images/Bipbip_haricot_im_07531patch4.jpg  \n",
            "  inflating: Development_Dataset/Training/Bipbip/Haricot/Images/Bipbip_haricot_im_07531patch5.jpg  \n",
            "  inflating: Development_Dataset/Training/Bipbip/Haricot/Images/Bipbip_haricot_im_07531patch6.jpg  \n",
            "  inflating: Development_Dataset/Training/Bipbip/Haricot/Images/Bipbip_haricot_im_07531patch7.jpg  \n",
            "  inflating: Development_Dataset/Training/Bipbip/Haricot/Images/Bipbip_haricot_im_07591patch0.jpg  \n",
            "  inflating: Development_Dataset/Training/Bipbip/Haricot/Images/Bipbip_haricot_im_07591patch1.jpg  \n",
            "  inflating: Development_Dataset/Training/Bipbip/Haricot/Images/Bipbip_haricot_im_07591patch2.jpg  \n",
            "  inflating: Development_Dataset/Training/Bipbip/Haricot/Images/Bipbip_haricot_im_07591patch3.jpg  \n",
            "  inflating: Development_Dataset/Training/Bipbip/Haricot/Images/Bipbip_haricot_im_07591patch4.jpg  \n",
            "  inflating: Development_Dataset/Training/Bipbip/Haricot/Images/Bipbip_haricot_im_07591patch5.jpg  \n",
            "  inflating: Development_Dataset/Training/Bipbip/Haricot/Images/Bipbip_haricot_im_07591patch6.jpg  \n",
            "  inflating: Development_Dataset/Training/Bipbip/Haricot/Images/Bipbip_haricot_im_07591patch7.jpg  \n",
            "  inflating: Development_Dataset/Training/Bipbip/Haricot/Images/Bipbip_haricot_im_07701patch0.jpg  \n",
            "  inflating: Development_Dataset/Training/Bipbip/Haricot/Images/Bipbip_haricot_im_07701patch1.jpg  \n",
            "  inflating: Development_Dataset/Training/Bipbip/Haricot/Images/Bipbip_haricot_im_07701patch2.jpg  \n",
            "  inflating: Development_Dataset/Training/Bipbip/Haricot/Images/Bipbip_haricot_im_07701patch3.jpg  \n",
            "  inflating: Development_Dataset/Training/Bipbip/Haricot/Images/Bipbip_haricot_im_07701patch4.jpg  \n",
            "  inflating: Development_Dataset/Training/Bipbip/Haricot/Images/Bipbip_haricot_im_07701patch5.jpg  \n",
            "  inflating: Development_Dataset/Training/Bipbip/Haricot/Images/Bipbip_haricot_im_07701patch6.jpg  \n",
            "  inflating: Development_Dataset/Training/Bipbip/Haricot/Images/Bipbip_haricot_im_07701patch7.jpg  \n",
            "  inflating: Development_Dataset/Training/Bipbip/Haricot/Images/Bipbip_haricot_im_07781patch0.jpg  \n",
            "  inflating: Development_Dataset/Training/Bipbip/Haricot/Images/Bipbip_haricot_im_07781patch1.jpg  \n",
            "  inflating: Development_Dataset/Training/Bipbip/Haricot/Images/Bipbip_haricot_im_07781patch2.jpg  \n",
            "  inflating: Development_Dataset/Training/Bipbip/Haricot/Images/Bipbip_haricot_im_07781patch3.jpg  \n",
            "  inflating: Development_Dataset/Training/Bipbip/Haricot/Images/Bipbip_haricot_im_07781patch4.jpg  \n",
            "  inflating: Development_Dataset/Training/Bipbip/Haricot/Images/Bipbip_haricot_im_07781patch5.jpg  \n",
            "  inflating: Development_Dataset/Training/Bipbip/Haricot/Images/Bipbip_haricot_im_07781patch6.jpg  \n",
            "  inflating: Development_Dataset/Training/Bipbip/Haricot/Images/Bipbip_haricot_im_07781patch7.jpg  \n",
            "  inflating: Development_Dataset/Training/Bipbip/Haricot/Images/Bipbip_haricot_im_07861patch0.jpg  \n",
            "  inflating: Development_Dataset/Training/Bipbip/Haricot/Images/Bipbip_haricot_im_07861patch1.jpg  \n",
            "  inflating: Development_Dataset/Training/Bipbip/Haricot/Images/Bipbip_haricot_im_07861patch2.jpg  \n",
            "  inflating: Development_Dataset/Training/Bipbip/Haricot/Images/Bipbip_haricot_im_07861patch3.jpg  \n",
            "  inflating: Development_Dataset/Training/Bipbip/Haricot/Images/Bipbip_haricot_im_07861patch4.jpg  \n",
            "  inflating: Development_Dataset/Training/Bipbip/Haricot/Images/Bipbip_haricot_im_07861patch5.jpg  \n",
            "  inflating: Development_Dataset/Training/Bipbip/Haricot/Images/Bipbip_haricot_im_07861patch6.jpg  \n",
            "  inflating: Development_Dataset/Training/Bipbip/Haricot/Images/Bipbip_haricot_im_07861patch7.jpg  \n",
            "  inflating: Development_Dataset/Training/Bipbip/Haricot/Images/Bipbip_haricot_im_07941patch0.jpg  \n",
            "  inflating: Development_Dataset/Training/Bipbip/Haricot/Images/Bipbip_haricot_im_07941patch1.jpg  \n",
            "  inflating: Development_Dataset/Training/Bipbip/Haricot/Images/Bipbip_haricot_im_07941patch2.jpg  \n",
            "  inflating: Development_Dataset/Training/Bipbip/Haricot/Images/Bipbip_haricot_im_07941patch3.jpg  \n",
            "  inflating: Development_Dataset/Training/Bipbip/Haricot/Images/Bipbip_haricot_im_07941patch4.jpg  \n",
            "  inflating: Development_Dataset/Training/Bipbip/Haricot/Images/Bipbip_haricot_im_07941patch5.jpg  \n",
            "  inflating: Development_Dataset/Training/Bipbip/Haricot/Images/Bipbip_haricot_im_07941patch6.jpg  \n",
            "  inflating: Development_Dataset/Training/Bipbip/Haricot/Images/Bipbip_haricot_im_07941patch7.jpg  \n",
            "  inflating: Development_Dataset/Training/Bipbip/Haricot/Images/Bipbip_haricot_im_08071patch0.jpg  \n",
            "  inflating: Development_Dataset/Training/Bipbip/Haricot/Images/Bipbip_haricot_im_08071patch1.jpg  \n",
            "  inflating: Development_Dataset/Training/Bipbip/Haricot/Images/Bipbip_haricot_im_08071patch2.jpg  \n",
            "  inflating: Development_Dataset/Training/Bipbip/Haricot/Images/Bipbip_haricot_im_08071patch3.jpg  \n",
            "  inflating: Development_Dataset/Training/Bipbip/Haricot/Images/Bipbip_haricot_im_08071patch4.jpg  \n",
            "  inflating: Development_Dataset/Training/Bipbip/Haricot/Images/Bipbip_haricot_im_08071patch5.jpg  \n",
            "  inflating: Development_Dataset/Training/Bipbip/Haricot/Images/Bipbip_haricot_im_08071patch6.jpg  \n",
            "  inflating: Development_Dataset/Training/Bipbip/Haricot/Images/Bipbip_haricot_im_08071patch7.jpg  \n",
            "  inflating: Development_Dataset/Training/Bipbip/Haricot/Images/Bipbip_haricot_im_08141patch0.jpg  \n",
            "  inflating: Development_Dataset/Training/Bipbip/Haricot/Images/Bipbip_haricot_im_08141patch1.jpg  \n",
            "  inflating: Development_Dataset/Training/Bipbip/Haricot/Images/Bipbip_haricot_im_08141patch2.jpg  \n",
            "  inflating: Development_Dataset/Training/Bipbip/Haricot/Images/Bipbip_haricot_im_08141patch3.jpg  \n",
            "  inflating: Development_Dataset/Training/Bipbip/Haricot/Images/Bipbip_haricot_im_08141patch4.jpg  \n",
            "  inflating: Development_Dataset/Training/Bipbip/Haricot/Images/Bipbip_haricot_im_08141patch5.jpg  \n",
            "  inflating: Development_Dataset/Training/Bipbip/Haricot/Images/Bipbip_haricot_im_08141patch6.jpg  \n",
            "  inflating: Development_Dataset/Training/Bipbip/Haricot/Images/Bipbip_haricot_im_08141patch7.jpg  \n",
            "  inflating: Development_Dataset/Training/Bipbip/Haricot/Images/Bipbip_haricot_im_08221patch0.jpg  \n",
            "  inflating: Development_Dataset/Training/Bipbip/Haricot/Images/Bipbip_haricot_im_08221patch1.jpg  \n",
            "  inflating: Development_Dataset/Training/Bipbip/Haricot/Images/Bipbip_haricot_im_08221patch2.jpg  \n",
            "  inflating: Development_Dataset/Training/Bipbip/Haricot/Images/Bipbip_haricot_im_08221patch3.jpg  \n",
            "  inflating: Development_Dataset/Training/Bipbip/Haricot/Images/Bipbip_haricot_im_08221patch4.jpg  \n",
            "  inflating: Development_Dataset/Training/Bipbip/Haricot/Images/Bipbip_haricot_im_08221patch5.jpg  \n",
            "  inflating: Development_Dataset/Training/Bipbip/Haricot/Images/Bipbip_haricot_im_08221patch6.jpg  \n",
            "  inflating: Development_Dataset/Training/Bipbip/Haricot/Images/Bipbip_haricot_im_08221patch7.jpg  \n",
            "  inflating: Development_Dataset/Training/Bipbip/Haricot/Images/Bipbip_haricot_im_08371patch0.jpg  \n",
            "  inflating: Development_Dataset/Training/Bipbip/Haricot/Images/Bipbip_haricot_im_08371patch1.jpg  \n",
            "  inflating: Development_Dataset/Training/Bipbip/Haricot/Images/Bipbip_haricot_im_08371patch2.jpg  \n",
            "  inflating: Development_Dataset/Training/Bipbip/Haricot/Images/Bipbip_haricot_im_08371patch3.jpg  \n",
            "  inflating: Development_Dataset/Training/Bipbip/Haricot/Images/Bipbip_haricot_im_08371patch4.jpg  \n",
            "  inflating: Development_Dataset/Training/Bipbip/Haricot/Images/Bipbip_haricot_im_08371patch5.jpg  \n",
            "  inflating: Development_Dataset/Training/Bipbip/Haricot/Images/Bipbip_haricot_im_08371patch6.jpg  \n",
            "  inflating: Development_Dataset/Training/Bipbip/Haricot/Images/Bipbip_haricot_im_08371patch7.jpg  \n",
            "   creating: Development_Dataset/Training/Bipbip/Haricot/Masks/\n",
            "  inflating: Development_Dataset/Training/Bipbip/Haricot/Masks/Bipbip_haricot_im_00321patch0.png  \n",
            "  inflating: Development_Dataset/Training/Bipbip/Haricot/Masks/Bipbip_haricot_im_00321patch1.png  \n",
            "  inflating: Development_Dataset/Training/Bipbip/Haricot/Masks/Bipbip_haricot_im_00321patch2.png  \n",
            "  inflating: Development_Dataset/Training/Bipbip/Haricot/Masks/Bipbip_haricot_im_00321patch3.png  \n",
            "  inflating: Development_Dataset/Training/Bipbip/Haricot/Masks/Bipbip_haricot_im_00321patch4.png  \n",
            "  inflating: Development_Dataset/Training/Bipbip/Haricot/Masks/Bipbip_haricot_im_00321patch5.png  \n",
            "  inflating: Development_Dataset/Training/Bipbip/Haricot/Masks/Bipbip_haricot_im_00321patch6.png  \n",
            "  inflating: Development_Dataset/Training/Bipbip/Haricot/Masks/Bipbip_haricot_im_00321patch7.png  \n",
            "  inflating: Development_Dataset/Training/Bipbip/Haricot/Masks/Bipbip_haricot_im_00391patch0.png  \n",
            "  inflating: Development_Dataset/Training/Bipbip/Haricot/Masks/Bipbip_haricot_im_00391patch1.png  \n",
            "  inflating: Development_Dataset/Training/Bipbip/Haricot/Masks/Bipbip_haricot_im_00391patch2.png  \n",
            "  inflating: Development_Dataset/Training/Bipbip/Haricot/Masks/Bipbip_haricot_im_00391patch3.png  \n",
            "  inflating: Development_Dataset/Training/Bipbip/Haricot/Masks/Bipbip_haricot_im_00391patch4.png  \n",
            "  inflating: Development_Dataset/Training/Bipbip/Haricot/Masks/Bipbip_haricot_im_00391patch5.png  \n",
            "  inflating: Development_Dataset/Training/Bipbip/Haricot/Masks/Bipbip_haricot_im_00391patch6.png  \n",
            "  inflating: Development_Dataset/Training/Bipbip/Haricot/Masks/Bipbip_haricot_im_00391patch7.png  \n",
            "  inflating: Development_Dataset/Training/Bipbip/Haricot/Masks/Bipbip_haricot_im_00451patch0.png  \n",
            "  inflating: Development_Dataset/Training/Bipbip/Haricot/Masks/Bipbip_haricot_im_00451patch1.png  \n",
            "  inflating: Development_Dataset/Training/Bipbip/Haricot/Masks/Bipbip_haricot_im_00451patch2.png  \n",
            "  inflating: Development_Dataset/Training/Bipbip/Haricot/Masks/Bipbip_haricot_im_00451patch3.png  \n",
            "  inflating: Development_Dataset/Training/Bipbip/Haricot/Masks/Bipbip_haricot_im_00451patch4.png  \n",
            "  inflating: Development_Dataset/Training/Bipbip/Haricot/Masks/Bipbip_haricot_im_00451patch5.png  \n",
            "  inflating: Development_Dataset/Training/Bipbip/Haricot/Masks/Bipbip_haricot_im_00451patch6.png  \n",
            "  inflating: Development_Dataset/Training/Bipbip/Haricot/Masks/Bipbip_haricot_im_00451patch7.png  \n",
            "  inflating: Development_Dataset/Training/Bipbip/Haricot/Masks/Bipbip_haricot_im_00511patch0.png  \n",
            "  inflating: Development_Dataset/Training/Bipbip/Haricot/Masks/Bipbip_haricot_im_00511patch1.png  \n",
            "  inflating: Development_Dataset/Training/Bipbip/Haricot/Masks/Bipbip_haricot_im_00511patch2.png  \n",
            "  inflating: Development_Dataset/Training/Bipbip/Haricot/Masks/Bipbip_haricot_im_00511patch3.png  \n",
            "  inflating: Development_Dataset/Training/Bipbip/Haricot/Masks/Bipbip_haricot_im_00511patch4.png  \n",
            "  inflating: Development_Dataset/Training/Bipbip/Haricot/Masks/Bipbip_haricot_im_00511patch5.png  \n",
            "  inflating: Development_Dataset/Training/Bipbip/Haricot/Masks/Bipbip_haricot_im_00511patch6.png  \n",
            "  inflating: Development_Dataset/Training/Bipbip/Haricot/Masks/Bipbip_haricot_im_00511patch7.png  \n",
            "  inflating: Development_Dataset/Training/Bipbip/Haricot/Masks/Bipbip_haricot_im_00651patch0.png  \n",
            "  inflating: Development_Dataset/Training/Bipbip/Haricot/Masks/Bipbip_haricot_im_00651patch1.png  \n",
            "  inflating: Development_Dataset/Training/Bipbip/Haricot/Masks/Bipbip_haricot_im_00651patch2.png  \n",
            "  inflating: Development_Dataset/Training/Bipbip/Haricot/Masks/Bipbip_haricot_im_00651patch3.png  \n",
            "  inflating: Development_Dataset/Training/Bipbip/Haricot/Masks/Bipbip_haricot_im_00651patch4.png  \n",
            "  inflating: Development_Dataset/Training/Bipbip/Haricot/Masks/Bipbip_haricot_im_00651patch5.png  \n",
            "  inflating: Development_Dataset/Training/Bipbip/Haricot/Masks/Bipbip_haricot_im_00651patch6.png  \n",
            "  inflating: Development_Dataset/Training/Bipbip/Haricot/Masks/Bipbip_haricot_im_00651patch7.png  \n",
            "  inflating: Development_Dataset/Training/Bipbip/Haricot/Masks/Bipbip_haricot_im_00801patch0.png  \n",
            "  inflating: Development_Dataset/Training/Bipbip/Haricot/Masks/Bipbip_haricot_im_00801patch1.png  \n",
            "  inflating: Development_Dataset/Training/Bipbip/Haricot/Masks/Bipbip_haricot_im_00801patch2.png  \n",
            "  inflating: Development_Dataset/Training/Bipbip/Haricot/Masks/Bipbip_haricot_im_00801patch3.png  \n",
            "  inflating: Development_Dataset/Training/Bipbip/Haricot/Masks/Bipbip_haricot_im_00801patch4.png  \n",
            "  inflating: Development_Dataset/Training/Bipbip/Haricot/Masks/Bipbip_haricot_im_00801patch5.png  \n",
            "  inflating: Development_Dataset/Training/Bipbip/Haricot/Masks/Bipbip_haricot_im_00801patch6.png  \n",
            "  inflating: Development_Dataset/Training/Bipbip/Haricot/Masks/Bipbip_haricot_im_00801patch7.png  \n",
            "  inflating: Development_Dataset/Training/Bipbip/Haricot/Masks/Bipbip_haricot_im_00871patch0.png  \n",
            "  inflating: Development_Dataset/Training/Bipbip/Haricot/Masks/Bipbip_haricot_im_00871patch1.png  \n",
            "  inflating: Development_Dataset/Training/Bipbip/Haricot/Masks/Bipbip_haricot_im_00871patch2.png  \n",
            "  inflating: Development_Dataset/Training/Bipbip/Haricot/Masks/Bipbip_haricot_im_00871patch3.png  \n",
            "  inflating: Development_Dataset/Training/Bipbip/Haricot/Masks/Bipbip_haricot_im_00871patch4.png  \n",
            "  inflating: Development_Dataset/Training/Bipbip/Haricot/Masks/Bipbip_haricot_im_00871patch5.png  \n",
            "  inflating: Development_Dataset/Training/Bipbip/Haricot/Masks/Bipbip_haricot_im_00871patch6.png  \n",
            "  inflating: Development_Dataset/Training/Bipbip/Haricot/Masks/Bipbip_haricot_im_00871patch7.png  \n",
            "  inflating: Development_Dataset/Training/Bipbip/Haricot/Masks/Bipbip_haricot_im_01021patch0.png  \n",
            "  inflating: Development_Dataset/Training/Bipbip/Haricot/Masks/Bipbip_haricot_im_01021patch1.png  \n",
            "  inflating: Development_Dataset/Training/Bipbip/Haricot/Masks/Bipbip_haricot_im_01021patch2.png  \n",
            "  inflating: Development_Dataset/Training/Bipbip/Haricot/Masks/Bipbip_haricot_im_01021patch3.png  \n",
            "  inflating: Development_Dataset/Training/Bipbip/Haricot/Masks/Bipbip_haricot_im_01021patch4.png  \n",
            "  inflating: Development_Dataset/Training/Bipbip/Haricot/Masks/Bipbip_haricot_im_01021patch5.png  \n",
            "  inflating: Development_Dataset/Training/Bipbip/Haricot/Masks/Bipbip_haricot_im_01021patch6.png  \n",
            "  inflating: Development_Dataset/Training/Bipbip/Haricot/Masks/Bipbip_haricot_im_01021patch7.png  \n",
            "  inflating: Development_Dataset/Training/Bipbip/Haricot/Masks/Bipbip_haricot_im_01091patch0.png  \n",
            "  inflating: Development_Dataset/Training/Bipbip/Haricot/Masks/Bipbip_haricot_im_01091patch1.png  \n",
            "  inflating: Development_Dataset/Training/Bipbip/Haricot/Masks/Bipbip_haricot_im_01091patch2.png  \n",
            "  inflating: Development_Dataset/Training/Bipbip/Haricot/Masks/Bipbip_haricot_im_01091patch3.png  \n",
            "  inflating: Development_Dataset/Training/Bipbip/Haricot/Masks/Bipbip_haricot_im_01091patch4.png  \n",
            "  inflating: Development_Dataset/Training/Bipbip/Haricot/Masks/Bipbip_haricot_im_01091patch5.png  \n",
            "  inflating: Development_Dataset/Training/Bipbip/Haricot/Masks/Bipbip_haricot_im_01091patch6.png  \n",
            "  inflating: Development_Dataset/Training/Bipbip/Haricot/Masks/Bipbip_haricot_im_01091patch7.png  \n",
            "  inflating: Development_Dataset/Training/Bipbip/Haricot/Masks/Bipbip_haricot_im_01271patch0.png  \n",
            "  inflating: Development_Dataset/Training/Bipbip/Haricot/Masks/Bipbip_haricot_im_01271patch1.png  \n",
            "  inflating: Development_Dataset/Training/Bipbip/Haricot/Masks/Bipbip_haricot_im_01271patch2.png  \n",
            "  inflating: Development_Dataset/Training/Bipbip/Haricot/Masks/Bipbip_haricot_im_01271patch3.png  \n",
            "  inflating: Development_Dataset/Training/Bipbip/Haricot/Masks/Bipbip_haricot_im_01271patch4.png  \n",
            "  inflating: Development_Dataset/Training/Bipbip/Haricot/Masks/Bipbip_haricot_im_01271patch5.png  \n",
            "  inflating: Development_Dataset/Training/Bipbip/Haricot/Masks/Bipbip_haricot_im_01271patch6.png  \n",
            "  inflating: Development_Dataset/Training/Bipbip/Haricot/Masks/Bipbip_haricot_im_01271patch7.png  \n",
            "  inflating: Development_Dataset/Training/Bipbip/Haricot/Masks/Bipbip_haricot_im_01451patch0.png  \n",
            "  inflating: Development_Dataset/Training/Bipbip/Haricot/Masks/Bipbip_haricot_im_01451patch1.png  \n",
            "  inflating: Development_Dataset/Training/Bipbip/Haricot/Masks/Bipbip_haricot_im_01451patch2.png  \n",
            "  inflating: Development_Dataset/Training/Bipbip/Haricot/Masks/Bipbip_haricot_im_01451patch3.png  \n",
            "  inflating: Development_Dataset/Training/Bipbip/Haricot/Masks/Bipbip_haricot_im_01451patch4.png  \n",
            "  inflating: Development_Dataset/Training/Bipbip/Haricot/Masks/Bipbip_haricot_im_01451patch5.png  \n",
            "  inflating: Development_Dataset/Training/Bipbip/Haricot/Masks/Bipbip_haricot_im_01451patch6.png  \n",
            "  inflating: Development_Dataset/Training/Bipbip/Haricot/Masks/Bipbip_haricot_im_01451patch7.png  \n",
            "  inflating: Development_Dataset/Training/Bipbip/Haricot/Masks/Bipbip_haricot_im_01541patch0.png  \n",
            "  inflating: Development_Dataset/Training/Bipbip/Haricot/Masks/Bipbip_haricot_im_01541patch1.png  \n",
            "  inflating: Development_Dataset/Training/Bipbip/Haricot/Masks/Bipbip_haricot_im_01541patch2.png  \n",
            "  inflating: Development_Dataset/Training/Bipbip/Haricot/Masks/Bipbip_haricot_im_01541patch3.png  \n",
            "  inflating: Development_Dataset/Training/Bipbip/Haricot/Masks/Bipbip_haricot_im_01541patch4.png  \n",
            "  inflating: Development_Dataset/Training/Bipbip/Haricot/Masks/Bipbip_haricot_im_01541patch5.png  \n",
            "  inflating: Development_Dataset/Training/Bipbip/Haricot/Masks/Bipbip_haricot_im_01541patch6.png  \n",
            "  inflating: Development_Dataset/Training/Bipbip/Haricot/Masks/Bipbip_haricot_im_01541patch7.png  \n",
            "  inflating: Development_Dataset/Training/Bipbip/Haricot/Masks/Bipbip_haricot_im_01631patch0.png  \n",
            "  inflating: Development_Dataset/Training/Bipbip/Haricot/Masks/Bipbip_haricot_im_01631patch1.png  \n",
            "  inflating: Development_Dataset/Training/Bipbip/Haricot/Masks/Bipbip_haricot_im_01631patch2.png  \n",
            "  inflating: Development_Dataset/Training/Bipbip/Haricot/Masks/Bipbip_haricot_im_01631patch3.png  \n",
            "  inflating: Development_Dataset/Training/Bipbip/Haricot/Masks/Bipbip_haricot_im_01631patch4.png  \n",
            "  inflating: Development_Dataset/Training/Bipbip/Haricot/Masks/Bipbip_haricot_im_01631patch5.png  \n",
            "  inflating: Development_Dataset/Training/Bipbip/Haricot/Masks/Bipbip_haricot_im_01631patch6.png  \n",
            "  inflating: Development_Dataset/Training/Bipbip/Haricot/Masks/Bipbip_haricot_im_01631patch7.png  \n",
            "  inflating: Development_Dataset/Training/Bipbip/Haricot/Masks/Bipbip_haricot_im_01731patch0.png  \n",
            "  inflating: Development_Dataset/Training/Bipbip/Haricot/Masks/Bipbip_haricot_im_01731patch1.png  \n",
            "  inflating: Development_Dataset/Training/Bipbip/Haricot/Masks/Bipbip_haricot_im_01731patch2.png  \n",
            "  inflating: Development_Dataset/Training/Bipbip/Haricot/Masks/Bipbip_haricot_im_01731patch3.png  \n",
            "  inflating: Development_Dataset/Training/Bipbip/Haricot/Masks/Bipbip_haricot_im_01731patch4.png  \n",
            "  inflating: Development_Dataset/Training/Bipbip/Haricot/Masks/Bipbip_haricot_im_01731patch5.png  \n",
            "  inflating: Development_Dataset/Training/Bipbip/Haricot/Masks/Bipbip_haricot_im_01731patch6.png  \n",
            "  inflating: Development_Dataset/Training/Bipbip/Haricot/Masks/Bipbip_haricot_im_01731patch7.png  \n",
            "  inflating: Development_Dataset/Training/Bipbip/Haricot/Masks/Bipbip_haricot_im_01821patch0.png  \n",
            "  inflating: Development_Dataset/Training/Bipbip/Haricot/Masks/Bipbip_haricot_im_01821patch1.png  \n",
            "  inflating: Development_Dataset/Training/Bipbip/Haricot/Masks/Bipbip_haricot_im_01821patch2.png  \n",
            "  inflating: Development_Dataset/Training/Bipbip/Haricot/Masks/Bipbip_haricot_im_01821patch3.png  \n",
            "  inflating: Development_Dataset/Training/Bipbip/Haricot/Masks/Bipbip_haricot_im_01821patch4.png  \n",
            "  inflating: Development_Dataset/Training/Bipbip/Haricot/Masks/Bipbip_haricot_im_01821patch5.png  \n",
            "  inflating: Development_Dataset/Training/Bipbip/Haricot/Masks/Bipbip_haricot_im_01821patch6.png  \n",
            "  inflating: Development_Dataset/Training/Bipbip/Haricot/Masks/Bipbip_haricot_im_01821patch7.png  \n",
            "  inflating: Development_Dataset/Training/Bipbip/Haricot/Masks/Bipbip_haricot_im_01911patch0.png  \n",
            "  inflating: Development_Dataset/Training/Bipbip/Haricot/Masks/Bipbip_haricot_im_01911patch1.png  \n",
            "  inflating: Development_Dataset/Training/Bipbip/Haricot/Masks/Bipbip_haricot_im_01911patch2.png  \n",
            "  inflating: Development_Dataset/Training/Bipbip/Haricot/Masks/Bipbip_haricot_im_01911patch3.png  \n",
            "  inflating: Development_Dataset/Training/Bipbip/Haricot/Masks/Bipbip_haricot_im_01911patch4.png  \n",
            "  inflating: Development_Dataset/Training/Bipbip/Haricot/Masks/Bipbip_haricot_im_01911patch5.png  \n",
            "  inflating: Development_Dataset/Training/Bipbip/Haricot/Masks/Bipbip_haricot_im_01911patch6.png  \n",
            "  inflating: Development_Dataset/Training/Bipbip/Haricot/Masks/Bipbip_haricot_im_01911patch7.png  \n",
            "  inflating: Development_Dataset/Training/Bipbip/Haricot/Masks/Bipbip_haricot_im_02171patch0.png  \n",
            "  inflating: Development_Dataset/Training/Bipbip/Haricot/Masks/Bipbip_haricot_im_02171patch1.png  \n",
            "  inflating: Development_Dataset/Training/Bipbip/Haricot/Masks/Bipbip_haricot_im_02171patch2.png  \n",
            "  inflating: Development_Dataset/Training/Bipbip/Haricot/Masks/Bipbip_haricot_im_02171patch3.png  \n",
            "  inflating: Development_Dataset/Training/Bipbip/Haricot/Masks/Bipbip_haricot_im_02171patch4.png  \n",
            "  inflating: Development_Dataset/Training/Bipbip/Haricot/Masks/Bipbip_haricot_im_02171patch5.png  \n",
            "  inflating: Development_Dataset/Training/Bipbip/Haricot/Masks/Bipbip_haricot_im_02171patch6.png  \n",
            "  inflating: Development_Dataset/Training/Bipbip/Haricot/Masks/Bipbip_haricot_im_02171patch7.png  \n",
            "  inflating: Development_Dataset/Training/Bipbip/Haricot/Masks/Bipbip_haricot_im_02231patch0.png  \n",
            "  inflating: Development_Dataset/Training/Bipbip/Haricot/Masks/Bipbip_haricot_im_02231patch1.png  \n",
            "  inflating: Development_Dataset/Training/Bipbip/Haricot/Masks/Bipbip_haricot_im_02231patch2.png  \n",
            "  inflating: Development_Dataset/Training/Bipbip/Haricot/Masks/Bipbip_haricot_im_02231patch3.png  \n",
            "  inflating: Development_Dataset/Training/Bipbip/Haricot/Masks/Bipbip_haricot_im_02231patch4.png  \n",
            "  inflating: Development_Dataset/Training/Bipbip/Haricot/Masks/Bipbip_haricot_im_02231patch5.png  \n",
            "  inflating: Development_Dataset/Training/Bipbip/Haricot/Masks/Bipbip_haricot_im_02231patch6.png  \n",
            "  inflating: Development_Dataset/Training/Bipbip/Haricot/Masks/Bipbip_haricot_im_02231patch7.png  \n",
            "  inflating: Development_Dataset/Training/Bipbip/Haricot/Masks/Bipbip_haricot_im_02301patch0.png  \n",
            "  inflating: Development_Dataset/Training/Bipbip/Haricot/Masks/Bipbip_haricot_im_02301patch1.png  \n",
            "  inflating: Development_Dataset/Training/Bipbip/Haricot/Masks/Bipbip_haricot_im_02301patch2.png  \n",
            "  inflating: Development_Dataset/Training/Bipbip/Haricot/Masks/Bipbip_haricot_im_02301patch3.png  \n",
            "  inflating: Development_Dataset/Training/Bipbip/Haricot/Masks/Bipbip_haricot_im_02301patch4.png  \n",
            "  inflating: Development_Dataset/Training/Bipbip/Haricot/Masks/Bipbip_haricot_im_02301patch5.png  \n",
            "  inflating: Development_Dataset/Training/Bipbip/Haricot/Masks/Bipbip_haricot_im_02301patch6.png  \n",
            "  inflating: Development_Dataset/Training/Bipbip/Haricot/Masks/Bipbip_haricot_im_02301patch7.png  \n",
            "  inflating: Development_Dataset/Training/Bipbip/Haricot/Masks/Bipbip_haricot_im_02351patch0.png  \n",
            "  inflating: Development_Dataset/Training/Bipbip/Haricot/Masks/Bipbip_haricot_im_02351patch1.png  \n",
            "  inflating: Development_Dataset/Training/Bipbip/Haricot/Masks/Bipbip_haricot_im_02351patch2.png  \n",
            "  inflating: Development_Dataset/Training/Bipbip/Haricot/Masks/Bipbip_haricot_im_02351patch3.png  \n",
            "  inflating: Development_Dataset/Training/Bipbip/Haricot/Masks/Bipbip_haricot_im_02351patch4.png  \n",
            "  inflating: Development_Dataset/Training/Bipbip/Haricot/Masks/Bipbip_haricot_im_02351patch5.png  \n",
            "  inflating: Development_Dataset/Training/Bipbip/Haricot/Masks/Bipbip_haricot_im_02351patch6.png  \n",
            "  inflating: Development_Dataset/Training/Bipbip/Haricot/Masks/Bipbip_haricot_im_02351patch7.png  \n",
            "  inflating: Development_Dataset/Training/Bipbip/Haricot/Masks/Bipbip_haricot_im_02531patch0.png  \n",
            "  inflating: Development_Dataset/Training/Bipbip/Haricot/Masks/Bipbip_haricot_im_02531patch1.png  \n",
            "  inflating: Development_Dataset/Training/Bipbip/Haricot/Masks/Bipbip_haricot_im_02531patch2.png  \n",
            "  inflating: Development_Dataset/Training/Bipbip/Haricot/Masks/Bipbip_haricot_im_02531patch3.png  \n",
            "  inflating: Development_Dataset/Training/Bipbip/Haricot/Masks/Bipbip_haricot_im_02531patch4.png  \n",
            "  inflating: Development_Dataset/Training/Bipbip/Haricot/Masks/Bipbip_haricot_im_02531patch5.png  \n",
            "  inflating: Development_Dataset/Training/Bipbip/Haricot/Masks/Bipbip_haricot_im_02531patch6.png  \n",
            "  inflating: Development_Dataset/Training/Bipbip/Haricot/Masks/Bipbip_haricot_im_02531patch7.png  \n",
            "  inflating: Development_Dataset/Training/Bipbip/Haricot/Masks/Bipbip_haricot_im_02651patch0.png  \n",
            "  inflating: Development_Dataset/Training/Bipbip/Haricot/Masks/Bipbip_haricot_im_02651patch1.png  \n",
            "  inflating: Development_Dataset/Training/Bipbip/Haricot/Masks/Bipbip_haricot_im_02651patch2.png  \n",
            "  inflating: Development_Dataset/Training/Bipbip/Haricot/Masks/Bipbip_haricot_im_02651patch3.png  \n",
            "  inflating: Development_Dataset/Training/Bipbip/Haricot/Masks/Bipbip_haricot_im_02651patch4.png  \n",
            "  inflating: Development_Dataset/Training/Bipbip/Haricot/Masks/Bipbip_haricot_im_02651patch5.png  \n",
            "  inflating: Development_Dataset/Training/Bipbip/Haricot/Masks/Bipbip_haricot_im_02651patch6.png  \n",
            "  inflating: Development_Dataset/Training/Bipbip/Haricot/Masks/Bipbip_haricot_im_02651patch7.png  \n",
            "  inflating: Development_Dataset/Training/Bipbip/Haricot/Masks/Bipbip_haricot_im_03041patch0.png  \n",
            "  inflating: Development_Dataset/Training/Bipbip/Haricot/Masks/Bipbip_haricot_im_03041patch1.png  \n",
            "  inflating: Development_Dataset/Training/Bipbip/Haricot/Masks/Bipbip_haricot_im_03041patch2.png  \n",
            "  inflating: Development_Dataset/Training/Bipbip/Haricot/Masks/Bipbip_haricot_im_03041patch3.png  \n",
            "  inflating: Development_Dataset/Training/Bipbip/Haricot/Masks/Bipbip_haricot_im_03041patch4.png  \n",
            "  inflating: Development_Dataset/Training/Bipbip/Haricot/Masks/Bipbip_haricot_im_03041patch5.png  \n",
            "  inflating: Development_Dataset/Training/Bipbip/Haricot/Masks/Bipbip_haricot_im_03041patch6.png  \n",
            "  inflating: Development_Dataset/Training/Bipbip/Haricot/Masks/Bipbip_haricot_im_03041patch7.png  \n",
            "  inflating: Development_Dataset/Training/Bipbip/Haricot/Masks/Bipbip_haricot_im_03111patch0.png  \n",
            "  inflating: Development_Dataset/Training/Bipbip/Haricot/Masks/Bipbip_haricot_im_03111patch1.png  \n",
            "  inflating: Development_Dataset/Training/Bipbip/Haricot/Masks/Bipbip_haricot_im_03111patch2.png  \n",
            "  inflating: Development_Dataset/Training/Bipbip/Haricot/Masks/Bipbip_haricot_im_03111patch3.png  \n",
            "  inflating: Development_Dataset/Training/Bipbip/Haricot/Masks/Bipbip_haricot_im_03111patch4.png  \n",
            "  inflating: Development_Dataset/Training/Bipbip/Haricot/Masks/Bipbip_haricot_im_03111patch5.png  \n",
            "  inflating: Development_Dataset/Training/Bipbip/Haricot/Masks/Bipbip_haricot_im_03111patch6.png  \n",
            "  inflating: Development_Dataset/Training/Bipbip/Haricot/Masks/Bipbip_haricot_im_03111patch7.png  \n",
            "  inflating: Development_Dataset/Training/Bipbip/Haricot/Masks/Bipbip_haricot_im_03231patch0.png  \n",
            "  inflating: Development_Dataset/Training/Bipbip/Haricot/Masks/Bipbip_haricot_im_03231patch1.png  \n",
            "  inflating: Development_Dataset/Training/Bipbip/Haricot/Masks/Bipbip_haricot_im_03231patch2.png  \n",
            "  inflating: Development_Dataset/Training/Bipbip/Haricot/Masks/Bipbip_haricot_im_03231patch3.png  \n",
            "  inflating: Development_Dataset/Training/Bipbip/Haricot/Masks/Bipbip_haricot_im_03231patch4.png  \n",
            "  inflating: Development_Dataset/Training/Bipbip/Haricot/Masks/Bipbip_haricot_im_03231patch5.png  \n",
            "  inflating: Development_Dataset/Training/Bipbip/Haricot/Masks/Bipbip_haricot_im_03231patch6.png  \n",
            "  inflating: Development_Dataset/Training/Bipbip/Haricot/Masks/Bipbip_haricot_im_03231patch7.png  \n",
            "  inflating: Development_Dataset/Training/Bipbip/Haricot/Masks/Bipbip_haricot_im_03281patch0.png  \n",
            "  inflating: Development_Dataset/Training/Bipbip/Haricot/Masks/Bipbip_haricot_im_03281patch1.png  \n",
            "  inflating: Development_Dataset/Training/Bipbip/Haricot/Masks/Bipbip_haricot_im_03281patch2.png  \n",
            "  inflating: Development_Dataset/Training/Bipbip/Haricot/Masks/Bipbip_haricot_im_03281patch3.png  \n",
            "  inflating: Development_Dataset/Training/Bipbip/Haricot/Masks/Bipbip_haricot_im_03281patch4.png  \n",
            "  inflating: Development_Dataset/Training/Bipbip/Haricot/Masks/Bipbip_haricot_im_03281patch5.png  \n",
            "  inflating: Development_Dataset/Training/Bipbip/Haricot/Masks/Bipbip_haricot_im_03281patch6.png  \n",
            "  inflating: Development_Dataset/Training/Bipbip/Haricot/Masks/Bipbip_haricot_im_03281patch7.png  \n",
            "  inflating: Development_Dataset/Training/Bipbip/Haricot/Masks/Bipbip_haricot_im_03291patch0.png  \n",
            "  inflating: Development_Dataset/Training/Bipbip/Haricot/Masks/Bipbip_haricot_im_03291patch1.png  \n",
            "  inflating: Development_Dataset/Training/Bipbip/Haricot/Masks/Bipbip_haricot_im_03291patch2.png  \n",
            "  inflating: Development_Dataset/Training/Bipbip/Haricot/Masks/Bipbip_haricot_im_03291patch3.png  \n",
            "  inflating: Development_Dataset/Training/Bipbip/Haricot/Masks/Bipbip_haricot_im_03291patch4.png  \n",
            "  inflating: Development_Dataset/Training/Bipbip/Haricot/Masks/Bipbip_haricot_im_03291patch5.png  \n",
            "  inflating: Development_Dataset/Training/Bipbip/Haricot/Masks/Bipbip_haricot_im_03291patch6.png  \n",
            "  inflating: Development_Dataset/Training/Bipbip/Haricot/Masks/Bipbip_haricot_im_03291patch7.png  \n",
            "  inflating: Development_Dataset/Training/Bipbip/Haricot/Masks/Bipbip_haricot_im_03411patch0.png  \n",
            "  inflating: Development_Dataset/Training/Bipbip/Haricot/Masks/Bipbip_haricot_im_03411patch1.png  \n",
            "  inflating: Development_Dataset/Training/Bipbip/Haricot/Masks/Bipbip_haricot_im_03411patch2.png  \n",
            "  inflating: Development_Dataset/Training/Bipbip/Haricot/Masks/Bipbip_haricot_im_03411patch3.png  \n",
            "  inflating: Development_Dataset/Training/Bipbip/Haricot/Masks/Bipbip_haricot_im_03411patch4.png  \n",
            "  inflating: Development_Dataset/Training/Bipbip/Haricot/Masks/Bipbip_haricot_im_03411patch5.png  \n",
            "  inflating: Development_Dataset/Training/Bipbip/Haricot/Masks/Bipbip_haricot_im_03411patch6.png  \n",
            "  inflating: Development_Dataset/Training/Bipbip/Haricot/Masks/Bipbip_haricot_im_03411patch7.png  \n",
            "  inflating: Development_Dataset/Training/Bipbip/Haricot/Masks/Bipbip_haricot_im_03461patch0.png  \n",
            "  inflating: Development_Dataset/Training/Bipbip/Haricot/Masks/Bipbip_haricot_im_03461patch1.png  \n",
            "  inflating: Development_Dataset/Training/Bipbip/Haricot/Masks/Bipbip_haricot_im_03461patch2.png  \n",
            "  inflating: Development_Dataset/Training/Bipbip/Haricot/Masks/Bipbip_haricot_im_03461patch3.png  \n",
            "  inflating: Development_Dataset/Training/Bipbip/Haricot/Masks/Bipbip_haricot_im_03461patch4.png  \n",
            "  inflating: Development_Dataset/Training/Bipbip/Haricot/Masks/Bipbip_haricot_im_03461patch5.png  \n",
            "  inflating: Development_Dataset/Training/Bipbip/Haricot/Masks/Bipbip_haricot_im_03461patch6.png  \n",
            "  inflating: Development_Dataset/Training/Bipbip/Haricot/Masks/Bipbip_haricot_im_03461patch7.png  \n",
            "  inflating: Development_Dataset/Training/Bipbip/Haricot/Masks/Bipbip_haricot_im_03481patch0.png  \n",
            "  inflating: Development_Dataset/Training/Bipbip/Haricot/Masks/Bipbip_haricot_im_03481patch1.png  \n",
            "  inflating: Development_Dataset/Training/Bipbip/Haricot/Masks/Bipbip_haricot_im_03481patch2.png  \n",
            "  inflating: Development_Dataset/Training/Bipbip/Haricot/Masks/Bipbip_haricot_im_03481patch3.png  \n",
            "  inflating: Development_Dataset/Training/Bipbip/Haricot/Masks/Bipbip_haricot_im_03481patch4.png  \n",
            "  inflating: Development_Dataset/Training/Bipbip/Haricot/Masks/Bipbip_haricot_im_03481patch5.png  \n",
            "  inflating: Development_Dataset/Training/Bipbip/Haricot/Masks/Bipbip_haricot_im_03481patch6.png  \n",
            "  inflating: Development_Dataset/Training/Bipbip/Haricot/Masks/Bipbip_haricot_im_03481patch7.png  \n",
            "  inflating: Development_Dataset/Training/Bipbip/Haricot/Masks/Bipbip_haricot_im_03531patch0.png  \n",
            "  inflating: Development_Dataset/Training/Bipbip/Haricot/Masks/Bipbip_haricot_im_03531patch1.png  \n",
            "  inflating: Development_Dataset/Training/Bipbip/Haricot/Masks/Bipbip_haricot_im_03531patch2.png  \n",
            "  inflating: Development_Dataset/Training/Bipbip/Haricot/Masks/Bipbip_haricot_im_03531patch3.png  \n",
            "  inflating: Development_Dataset/Training/Bipbip/Haricot/Masks/Bipbip_haricot_im_03531patch4.png  \n",
            "  inflating: Development_Dataset/Training/Bipbip/Haricot/Masks/Bipbip_haricot_im_03531patch5.png  \n",
            "  inflating: Development_Dataset/Training/Bipbip/Haricot/Masks/Bipbip_haricot_im_03531patch6.png  \n",
            "  inflating: Development_Dataset/Training/Bipbip/Haricot/Masks/Bipbip_haricot_im_03531patch7.png  \n",
            "  inflating: Development_Dataset/Training/Bipbip/Haricot/Masks/Bipbip_haricot_im_03571patch0.png  \n",
            "  inflating: Development_Dataset/Training/Bipbip/Haricot/Masks/Bipbip_haricot_im_03571patch1.png  \n",
            "  inflating: Development_Dataset/Training/Bipbip/Haricot/Masks/Bipbip_haricot_im_03571patch2.png  \n",
            "  inflating: Development_Dataset/Training/Bipbip/Haricot/Masks/Bipbip_haricot_im_03571patch3.png  \n",
            "  inflating: Development_Dataset/Training/Bipbip/Haricot/Masks/Bipbip_haricot_im_03571patch4.png  \n",
            "  inflating: Development_Dataset/Training/Bipbip/Haricot/Masks/Bipbip_haricot_im_03571patch5.png  \n",
            "  inflating: Development_Dataset/Training/Bipbip/Haricot/Masks/Bipbip_haricot_im_03571patch6.png  \n",
            "  inflating: Development_Dataset/Training/Bipbip/Haricot/Masks/Bipbip_haricot_im_03571patch7.png  \n",
            "  inflating: Development_Dataset/Training/Bipbip/Haricot/Masks/Bipbip_haricot_im_03611patch0.png  \n",
            "  inflating: Development_Dataset/Training/Bipbip/Haricot/Masks/Bipbip_haricot_im_03611patch1.png  \n",
            "  inflating: Development_Dataset/Training/Bipbip/Haricot/Masks/Bipbip_haricot_im_03611patch2.png  \n",
            "  inflating: Development_Dataset/Training/Bipbip/Haricot/Masks/Bipbip_haricot_im_03611patch3.png  \n",
            "  inflating: Development_Dataset/Training/Bipbip/Haricot/Masks/Bipbip_haricot_im_03611patch4.png  \n",
            "  inflating: Development_Dataset/Training/Bipbip/Haricot/Masks/Bipbip_haricot_im_03611patch5.png  \n",
            "  inflating: Development_Dataset/Training/Bipbip/Haricot/Masks/Bipbip_haricot_im_03611patch6.png  \n",
            "  inflating: Development_Dataset/Training/Bipbip/Haricot/Masks/Bipbip_haricot_im_03611patch7.png  \n",
            "  inflating: Development_Dataset/Training/Bipbip/Haricot/Masks/Bipbip_haricot_im_03751patch0.png  \n",
            "  inflating: Development_Dataset/Training/Bipbip/Haricot/Masks/Bipbip_haricot_im_03751patch1.png  \n",
            "  inflating: Development_Dataset/Training/Bipbip/Haricot/Masks/Bipbip_haricot_im_03751patch2.png  \n",
            "  inflating: Development_Dataset/Training/Bipbip/Haricot/Masks/Bipbip_haricot_im_03751patch3.png  \n",
            "  inflating: Development_Dataset/Training/Bipbip/Haricot/Masks/Bipbip_haricot_im_03751patch4.png  \n",
            "  inflating: Development_Dataset/Training/Bipbip/Haricot/Masks/Bipbip_haricot_im_03751patch5.png  \n",
            "  inflating: Development_Dataset/Training/Bipbip/Haricot/Masks/Bipbip_haricot_im_03751patch6.png  \n",
            "  inflating: Development_Dataset/Training/Bipbip/Haricot/Masks/Bipbip_haricot_im_03751patch7.png  \n",
            "  inflating: Development_Dataset/Training/Bipbip/Haricot/Masks/Bipbip_haricot_im_03841patch0.png  \n",
            "  inflating: Development_Dataset/Training/Bipbip/Haricot/Masks/Bipbip_haricot_im_03841patch1.png  \n",
            "  inflating: Development_Dataset/Training/Bipbip/Haricot/Masks/Bipbip_haricot_im_03841patch2.png  \n",
            "  inflating: Development_Dataset/Training/Bipbip/Haricot/Masks/Bipbip_haricot_im_03841patch3.png  \n",
            "  inflating: Development_Dataset/Training/Bipbip/Haricot/Masks/Bipbip_haricot_im_03841patch4.png  \n",
            "  inflating: Development_Dataset/Training/Bipbip/Haricot/Masks/Bipbip_haricot_im_03841patch5.png  \n",
            "  inflating: Development_Dataset/Training/Bipbip/Haricot/Masks/Bipbip_haricot_im_03841patch6.png  \n",
            "  inflating: Development_Dataset/Training/Bipbip/Haricot/Masks/Bipbip_haricot_im_03841patch7.png  \n",
            "  inflating: Development_Dataset/Training/Bipbip/Haricot/Masks/Bipbip_haricot_im_03961patch0.png  \n",
            "  inflating: Development_Dataset/Training/Bipbip/Haricot/Masks/Bipbip_haricot_im_03961patch1.png  \n",
            "  inflating: Development_Dataset/Training/Bipbip/Haricot/Masks/Bipbip_haricot_im_03961patch2.png  \n",
            "  inflating: Development_Dataset/Training/Bipbip/Haricot/Masks/Bipbip_haricot_im_03961patch3.png  \n",
            "  inflating: Development_Dataset/Training/Bipbip/Haricot/Masks/Bipbip_haricot_im_03961patch4.png  \n",
            "  inflating: Development_Dataset/Training/Bipbip/Haricot/Masks/Bipbip_haricot_im_03961patch5.png  \n",
            "  inflating: Development_Dataset/Training/Bipbip/Haricot/Masks/Bipbip_haricot_im_03961patch6.png  \n",
            "  inflating: Development_Dataset/Training/Bipbip/Haricot/Masks/Bipbip_haricot_im_03961patch7.png  \n",
            "  inflating: Development_Dataset/Training/Bipbip/Haricot/Masks/Bipbip_haricot_im_04031patch0.png  \n",
            "  inflating: Development_Dataset/Training/Bipbip/Haricot/Masks/Bipbip_haricot_im_04031patch1.png  \n",
            "  inflating: Development_Dataset/Training/Bipbip/Haricot/Masks/Bipbip_haricot_im_04031patch2.png  \n",
            "  inflating: Development_Dataset/Training/Bipbip/Haricot/Masks/Bipbip_haricot_im_04031patch3.png  \n",
            "  inflating: Development_Dataset/Training/Bipbip/Haricot/Masks/Bipbip_haricot_im_04031patch4.png  \n",
            "  inflating: Development_Dataset/Training/Bipbip/Haricot/Masks/Bipbip_haricot_im_04031patch5.png  \n",
            "  inflating: Development_Dataset/Training/Bipbip/Haricot/Masks/Bipbip_haricot_im_04031patch6.png  \n",
            "  inflating: Development_Dataset/Training/Bipbip/Haricot/Masks/Bipbip_haricot_im_04031patch7.png  \n",
            "  inflating: Development_Dataset/Training/Bipbip/Haricot/Masks/Bipbip_haricot_im_04301patch0.png  \n",
            "  inflating: Development_Dataset/Training/Bipbip/Haricot/Masks/Bipbip_haricot_im_04301patch1.png  \n",
            "  inflating: Development_Dataset/Training/Bipbip/Haricot/Masks/Bipbip_haricot_im_04301patch2.png  \n",
            "  inflating: Development_Dataset/Training/Bipbip/Haricot/Masks/Bipbip_haricot_im_04301patch3.png  \n",
            "  inflating: Development_Dataset/Training/Bipbip/Haricot/Masks/Bipbip_haricot_im_04301patch4.png  \n",
            "  inflating: Development_Dataset/Training/Bipbip/Haricot/Masks/Bipbip_haricot_im_04301patch5.png  \n",
            "  inflating: Development_Dataset/Training/Bipbip/Haricot/Masks/Bipbip_haricot_im_04301patch6.png  \n",
            "  inflating: Development_Dataset/Training/Bipbip/Haricot/Masks/Bipbip_haricot_im_04301patch7.png  \n",
            "  inflating: Development_Dataset/Training/Bipbip/Haricot/Masks/Bipbip_haricot_im_04401patch0.png  \n",
            "  inflating: Development_Dataset/Training/Bipbip/Haricot/Masks/Bipbip_haricot_im_04401patch1.png  \n",
            "  inflating: Development_Dataset/Training/Bipbip/Haricot/Masks/Bipbip_haricot_im_04401patch2.png  \n",
            "  inflating: Development_Dataset/Training/Bipbip/Haricot/Masks/Bipbip_haricot_im_04401patch3.png  \n",
            "  inflating: Development_Dataset/Training/Bipbip/Haricot/Masks/Bipbip_haricot_im_04401patch4.png  \n",
            "  inflating: Development_Dataset/Training/Bipbip/Haricot/Masks/Bipbip_haricot_im_04401patch5.png  \n",
            "  inflating: Development_Dataset/Training/Bipbip/Haricot/Masks/Bipbip_haricot_im_04401patch6.png  \n",
            "  inflating: Development_Dataset/Training/Bipbip/Haricot/Masks/Bipbip_haricot_im_04401patch7.png  \n",
            "  inflating: Development_Dataset/Training/Bipbip/Haricot/Masks/Bipbip_haricot_im_04541patch0.png  \n",
            "  inflating: Development_Dataset/Training/Bipbip/Haricot/Masks/Bipbip_haricot_im_04541patch1.png  \n",
            "  inflating: Development_Dataset/Training/Bipbip/Haricot/Masks/Bipbip_haricot_im_04541patch2.png  \n",
            "  inflating: Development_Dataset/Training/Bipbip/Haricot/Masks/Bipbip_haricot_im_04541patch3.png  \n",
            "  inflating: Development_Dataset/Training/Bipbip/Haricot/Masks/Bipbip_haricot_im_04541patch4.png  \n",
            "  inflating: Development_Dataset/Training/Bipbip/Haricot/Masks/Bipbip_haricot_im_04541patch5.png  \n",
            "  inflating: Development_Dataset/Training/Bipbip/Haricot/Masks/Bipbip_haricot_im_04541patch6.png  \n",
            "  inflating: Development_Dataset/Training/Bipbip/Haricot/Masks/Bipbip_haricot_im_04541patch7.png  \n",
            "  inflating: Development_Dataset/Training/Bipbip/Haricot/Masks/Bipbip_haricot_im_04591patch0.png  \n",
            "  inflating: Development_Dataset/Training/Bipbip/Haricot/Masks/Bipbip_haricot_im_04591patch1.png  \n",
            "  inflating: Development_Dataset/Training/Bipbip/Haricot/Masks/Bipbip_haricot_im_04591patch2.png  \n",
            "  inflating: Development_Dataset/Training/Bipbip/Haricot/Masks/Bipbip_haricot_im_04591patch3.png  \n",
            "  inflating: Development_Dataset/Training/Bipbip/Haricot/Masks/Bipbip_haricot_im_04591patch4.png  \n",
            "  inflating: Development_Dataset/Training/Bipbip/Haricot/Masks/Bipbip_haricot_im_04591patch5.png  \n",
            "  inflating: Development_Dataset/Training/Bipbip/Haricot/Masks/Bipbip_haricot_im_04591patch6.png  \n",
            "  inflating: Development_Dataset/Training/Bipbip/Haricot/Masks/Bipbip_haricot_im_04591patch7.png  \n",
            "  inflating: Development_Dataset/Training/Bipbip/Haricot/Masks/Bipbip_haricot_im_04741patch0.png  \n",
            "  inflating: Development_Dataset/Training/Bipbip/Haricot/Masks/Bipbip_haricot_im_04741patch1.png  \n",
            "  inflating: Development_Dataset/Training/Bipbip/Haricot/Masks/Bipbip_haricot_im_04741patch2.png  \n",
            "  inflating: Development_Dataset/Training/Bipbip/Haricot/Masks/Bipbip_haricot_im_04741patch3.png  \n",
            "  inflating: Development_Dataset/Training/Bipbip/Haricot/Masks/Bipbip_haricot_im_04741patch4.png  \n",
            "  inflating: Development_Dataset/Training/Bipbip/Haricot/Masks/Bipbip_haricot_im_04741patch5.png  \n",
            "  inflating: Development_Dataset/Training/Bipbip/Haricot/Masks/Bipbip_haricot_im_04741patch6.png  \n",
            "  inflating: Development_Dataset/Training/Bipbip/Haricot/Masks/Bipbip_haricot_im_04741patch7.png  \n",
            "  inflating: Development_Dataset/Training/Bipbip/Haricot/Masks/Bipbip_haricot_im_04791patch0.png  \n",
            "  inflating: Development_Dataset/Training/Bipbip/Haricot/Masks/Bipbip_haricot_im_04791patch1.png  \n",
            "  inflating: Development_Dataset/Training/Bipbip/Haricot/Masks/Bipbip_haricot_im_04791patch2.png  \n",
            "  inflating: Development_Dataset/Training/Bipbip/Haricot/Masks/Bipbip_haricot_im_04791patch3.png  \n",
            "  inflating: Development_Dataset/Training/Bipbip/Haricot/Masks/Bipbip_haricot_im_04791patch4.png  \n",
            "  inflating: Development_Dataset/Training/Bipbip/Haricot/Masks/Bipbip_haricot_im_04791patch5.png  \n",
            "  inflating: Development_Dataset/Training/Bipbip/Haricot/Masks/Bipbip_haricot_im_04791patch6.png  \n",
            "  inflating: Development_Dataset/Training/Bipbip/Haricot/Masks/Bipbip_haricot_im_04791patch7.png  \n",
            "  inflating: Development_Dataset/Training/Bipbip/Haricot/Masks/Bipbip_haricot_im_04851patch0.png  \n",
            "  inflating: Development_Dataset/Training/Bipbip/Haricot/Masks/Bipbip_haricot_im_04851patch1.png  \n",
            "  inflating: Development_Dataset/Training/Bipbip/Haricot/Masks/Bipbip_haricot_im_04851patch2.png  \n",
            "  inflating: Development_Dataset/Training/Bipbip/Haricot/Masks/Bipbip_haricot_im_04851patch3.png  \n",
            "  inflating: Development_Dataset/Training/Bipbip/Haricot/Masks/Bipbip_haricot_im_04851patch4.png  \n",
            "  inflating: Development_Dataset/Training/Bipbip/Haricot/Masks/Bipbip_haricot_im_04851patch5.png  \n",
            "  inflating: Development_Dataset/Training/Bipbip/Haricot/Masks/Bipbip_haricot_im_04851patch6.png  \n",
            "  inflating: Development_Dataset/Training/Bipbip/Haricot/Masks/Bipbip_haricot_im_04851patch7.png  \n",
            "  inflating: Development_Dataset/Training/Bipbip/Haricot/Masks/Bipbip_haricot_im_04991patch0.png  \n",
            "  inflating: Development_Dataset/Training/Bipbip/Haricot/Masks/Bipbip_haricot_im_04991patch1.png  \n",
            "  inflating: Development_Dataset/Training/Bipbip/Haricot/Masks/Bipbip_haricot_im_04991patch2.png  \n",
            "  inflating: Development_Dataset/Training/Bipbip/Haricot/Masks/Bipbip_haricot_im_04991patch3.png  \n",
            "  inflating: Development_Dataset/Training/Bipbip/Haricot/Masks/Bipbip_haricot_im_04991patch4.png  \n",
            "  inflating: Development_Dataset/Training/Bipbip/Haricot/Masks/Bipbip_haricot_im_04991patch5.png  \n",
            "  inflating: Development_Dataset/Training/Bipbip/Haricot/Masks/Bipbip_haricot_im_04991patch6.png  \n",
            "  inflating: Development_Dataset/Training/Bipbip/Haricot/Masks/Bipbip_haricot_im_04991patch7.png  \n",
            "  inflating: Development_Dataset/Training/Bipbip/Haricot/Masks/Bipbip_haricot_im_05041patch0.png  \n",
            "  inflating: Development_Dataset/Training/Bipbip/Haricot/Masks/Bipbip_haricot_im_05041patch1.png  \n",
            "  inflating: Development_Dataset/Training/Bipbip/Haricot/Masks/Bipbip_haricot_im_05041patch2.png  \n",
            "  inflating: Development_Dataset/Training/Bipbip/Haricot/Masks/Bipbip_haricot_im_05041patch3.png  \n",
            "  inflating: Development_Dataset/Training/Bipbip/Haricot/Masks/Bipbip_haricot_im_05041patch4.png  \n",
            "  inflating: Development_Dataset/Training/Bipbip/Haricot/Masks/Bipbip_haricot_im_05041patch5.png  \n",
            "  inflating: Development_Dataset/Training/Bipbip/Haricot/Masks/Bipbip_haricot_im_05041patch6.png  \n",
            "  inflating: Development_Dataset/Training/Bipbip/Haricot/Masks/Bipbip_haricot_im_05041patch7.png  \n",
            "  inflating: Development_Dataset/Training/Bipbip/Haricot/Masks/Bipbip_haricot_im_05111patch0.png  \n",
            "  inflating: Development_Dataset/Training/Bipbip/Haricot/Masks/Bipbip_haricot_im_05111patch1.png  \n",
            "  inflating: Development_Dataset/Training/Bipbip/Haricot/Masks/Bipbip_haricot_im_05111patch2.png  \n",
            "  inflating: Development_Dataset/Training/Bipbip/Haricot/Masks/Bipbip_haricot_im_05111patch3.png  \n",
            "  inflating: Development_Dataset/Training/Bipbip/Haricot/Masks/Bipbip_haricot_im_05111patch4.png  \n",
            "  inflating: Development_Dataset/Training/Bipbip/Haricot/Masks/Bipbip_haricot_im_05111patch5.png  \n",
            "  inflating: Development_Dataset/Training/Bipbip/Haricot/Masks/Bipbip_haricot_im_05111patch6.png  \n",
            "  inflating: Development_Dataset/Training/Bipbip/Haricot/Masks/Bipbip_haricot_im_05111patch7.png  \n",
            "  inflating: Development_Dataset/Training/Bipbip/Haricot/Masks/Bipbip_haricot_im_05141patch0.png  \n",
            "  inflating: Development_Dataset/Training/Bipbip/Haricot/Masks/Bipbip_haricot_im_05141patch1.png  \n",
            "  inflating: Development_Dataset/Training/Bipbip/Haricot/Masks/Bipbip_haricot_im_05141patch2.png  \n",
            "  inflating: Development_Dataset/Training/Bipbip/Haricot/Masks/Bipbip_haricot_im_05141patch3.png  \n",
            "  inflating: Development_Dataset/Training/Bipbip/Haricot/Masks/Bipbip_haricot_im_05141patch4.png  \n",
            "  inflating: Development_Dataset/Training/Bipbip/Haricot/Masks/Bipbip_haricot_im_05141patch5.png  \n",
            "  inflating: Development_Dataset/Training/Bipbip/Haricot/Masks/Bipbip_haricot_im_05141patch6.png  \n",
            "  inflating: Development_Dataset/Training/Bipbip/Haricot/Masks/Bipbip_haricot_im_05141patch7.png  \n",
            "  inflating: Development_Dataset/Training/Bipbip/Haricot/Masks/Bipbip_haricot_im_05231patch0.png  \n",
            "  inflating: Development_Dataset/Training/Bipbip/Haricot/Masks/Bipbip_haricot_im_05231patch1.png  \n",
            "  inflating: Development_Dataset/Training/Bipbip/Haricot/Masks/Bipbip_haricot_im_05231patch2.png  \n",
            "  inflating: Development_Dataset/Training/Bipbip/Haricot/Masks/Bipbip_haricot_im_05231patch3.png  \n",
            "  inflating: Development_Dataset/Training/Bipbip/Haricot/Masks/Bipbip_haricot_im_05231patch4.png  \n",
            "  inflating: Development_Dataset/Training/Bipbip/Haricot/Masks/Bipbip_haricot_im_05231patch5.png  \n",
            "  inflating: Development_Dataset/Training/Bipbip/Haricot/Masks/Bipbip_haricot_im_05231patch6.png  \n",
            "  inflating: Development_Dataset/Training/Bipbip/Haricot/Masks/Bipbip_haricot_im_05231patch7.png  \n",
            "  inflating: Development_Dataset/Training/Bipbip/Haricot/Masks/Bipbip_haricot_im_05301patch0.png  \n",
            "  inflating: Development_Dataset/Training/Bipbip/Haricot/Masks/Bipbip_haricot_im_05301patch1.png  \n",
            "  inflating: Development_Dataset/Training/Bipbip/Haricot/Masks/Bipbip_haricot_im_05301patch2.png  \n",
            "  inflating: Development_Dataset/Training/Bipbip/Haricot/Masks/Bipbip_haricot_im_05301patch3.png  \n",
            "  inflating: Development_Dataset/Training/Bipbip/Haricot/Masks/Bipbip_haricot_im_05301patch4.png  \n",
            "  inflating: Development_Dataset/Training/Bipbip/Haricot/Masks/Bipbip_haricot_im_05301patch5.png  \n",
            "  inflating: Development_Dataset/Training/Bipbip/Haricot/Masks/Bipbip_haricot_im_05301patch6.png  \n",
            "  inflating: Development_Dataset/Training/Bipbip/Haricot/Masks/Bipbip_haricot_im_05301patch7.png  \n",
            "  inflating: Development_Dataset/Training/Bipbip/Haricot/Masks/Bipbip_haricot_im_05351patch0.png  \n",
            "  inflating: Development_Dataset/Training/Bipbip/Haricot/Masks/Bipbip_haricot_im_05351patch1.png  \n",
            "  inflating: Development_Dataset/Training/Bipbip/Haricot/Masks/Bipbip_haricot_im_05351patch2.png  \n",
            "  inflating: Development_Dataset/Training/Bipbip/Haricot/Masks/Bipbip_haricot_im_05351patch3.png  \n",
            "  inflating: Development_Dataset/Training/Bipbip/Haricot/Masks/Bipbip_haricot_im_05351patch4.png  \n",
            "  inflating: Development_Dataset/Training/Bipbip/Haricot/Masks/Bipbip_haricot_im_05351patch5.png  \n",
            "  inflating: Development_Dataset/Training/Bipbip/Haricot/Masks/Bipbip_haricot_im_05351patch6.png  \n",
            "  inflating: Development_Dataset/Training/Bipbip/Haricot/Masks/Bipbip_haricot_im_05351patch7.png  \n",
            "  inflating: Development_Dataset/Training/Bipbip/Haricot/Masks/Bipbip_haricot_im_05361patch0.png  \n",
            "  inflating: Development_Dataset/Training/Bipbip/Haricot/Masks/Bipbip_haricot_im_05361patch1.png  \n",
            "  inflating: Development_Dataset/Training/Bipbip/Haricot/Masks/Bipbip_haricot_im_05361patch2.png  \n",
            "  inflating: Development_Dataset/Training/Bipbip/Haricot/Masks/Bipbip_haricot_im_05361patch3.png  \n",
            "  inflating: Development_Dataset/Training/Bipbip/Haricot/Masks/Bipbip_haricot_im_05361patch4.png  \n",
            "  inflating: Development_Dataset/Training/Bipbip/Haricot/Masks/Bipbip_haricot_im_05361patch5.png  \n",
            "  inflating: Development_Dataset/Training/Bipbip/Haricot/Masks/Bipbip_haricot_im_05361patch6.png  \n",
            "  inflating: Development_Dataset/Training/Bipbip/Haricot/Masks/Bipbip_haricot_im_05361patch7.png  \n",
            "  inflating: Development_Dataset/Training/Bipbip/Haricot/Masks/Bipbip_haricot_im_05411patch0.png  \n",
            "  inflating: Development_Dataset/Training/Bipbip/Haricot/Masks/Bipbip_haricot_im_05411patch1.png  \n",
            "  inflating: Development_Dataset/Training/Bipbip/Haricot/Masks/Bipbip_haricot_im_05411patch2.png  \n",
            "  inflating: Development_Dataset/Training/Bipbip/Haricot/Masks/Bipbip_haricot_im_05411patch3.png  \n",
            "  inflating: Development_Dataset/Training/Bipbip/Haricot/Masks/Bipbip_haricot_im_05411patch4.png  \n",
            "  inflating: Development_Dataset/Training/Bipbip/Haricot/Masks/Bipbip_haricot_im_05411patch5.png  \n",
            "  inflating: Development_Dataset/Training/Bipbip/Haricot/Masks/Bipbip_haricot_im_05411patch6.png  \n",
            "  inflating: Development_Dataset/Training/Bipbip/Haricot/Masks/Bipbip_haricot_im_05411patch7.png  \n",
            "  inflating: Development_Dataset/Training/Bipbip/Haricot/Masks/Bipbip_haricot_im_05421patch0.png  \n",
            "  inflating: Development_Dataset/Training/Bipbip/Haricot/Masks/Bipbip_haricot_im_05421patch1.png  \n",
            "  inflating: Development_Dataset/Training/Bipbip/Haricot/Masks/Bipbip_haricot_im_05421patch2.png  \n",
            "  inflating: Development_Dataset/Training/Bipbip/Haricot/Masks/Bipbip_haricot_im_05421patch3.png  \n",
            "  inflating: Development_Dataset/Training/Bipbip/Haricot/Masks/Bipbip_haricot_im_05421patch4.png  \n",
            "  inflating: Development_Dataset/Training/Bipbip/Haricot/Masks/Bipbip_haricot_im_05421patch5.png  \n",
            "  inflating: Development_Dataset/Training/Bipbip/Haricot/Masks/Bipbip_haricot_im_05421patch6.png  \n",
            "  inflating: Development_Dataset/Training/Bipbip/Haricot/Masks/Bipbip_haricot_im_05421patch7.png  \n",
            "  inflating: Development_Dataset/Training/Bipbip/Haricot/Masks/Bipbip_haricot_im_05461patch0.png  \n",
            "  inflating: Development_Dataset/Training/Bipbip/Haricot/Masks/Bipbip_haricot_im_05461patch1.png  \n",
            "  inflating: Development_Dataset/Training/Bipbip/Haricot/Masks/Bipbip_haricot_im_05461patch2.png  \n",
            "  inflating: Development_Dataset/Training/Bipbip/Haricot/Masks/Bipbip_haricot_im_05461patch3.png  \n",
            "  inflating: Development_Dataset/Training/Bipbip/Haricot/Masks/Bipbip_haricot_im_05461patch4.png  \n",
            "  inflating: Development_Dataset/Training/Bipbip/Haricot/Masks/Bipbip_haricot_im_05461patch5.png  \n",
            "  inflating: Development_Dataset/Training/Bipbip/Haricot/Masks/Bipbip_haricot_im_05461patch6.png  \n",
            "  inflating: Development_Dataset/Training/Bipbip/Haricot/Masks/Bipbip_haricot_im_05461patch7.png  \n",
            "  inflating: Development_Dataset/Training/Bipbip/Haricot/Masks/Bipbip_haricot_im_05481patch0.png  \n",
            "  inflating: Development_Dataset/Training/Bipbip/Haricot/Masks/Bipbip_haricot_im_05481patch1.png  \n",
            "  inflating: Development_Dataset/Training/Bipbip/Haricot/Masks/Bipbip_haricot_im_05481patch2.png  \n",
            "  inflating: Development_Dataset/Training/Bipbip/Haricot/Masks/Bipbip_haricot_im_05481patch3.png  \n",
            "  inflating: Development_Dataset/Training/Bipbip/Haricot/Masks/Bipbip_haricot_im_05481patch4.png  \n",
            "  inflating: Development_Dataset/Training/Bipbip/Haricot/Masks/Bipbip_haricot_im_05481patch5.png  \n",
            "  inflating: Development_Dataset/Training/Bipbip/Haricot/Masks/Bipbip_haricot_im_05481patch6.png  \n",
            "  inflating: Development_Dataset/Training/Bipbip/Haricot/Masks/Bipbip_haricot_im_05481patch7.png  \n",
            "  inflating: Development_Dataset/Training/Bipbip/Haricot/Masks/Bipbip_haricot_im_05531patch0.png  \n",
            "  inflating: Development_Dataset/Training/Bipbip/Haricot/Masks/Bipbip_haricot_im_05531patch1.png  \n",
            "  inflating: Development_Dataset/Training/Bipbip/Haricot/Masks/Bipbip_haricot_im_05531patch2.png  \n",
            "  inflating: Development_Dataset/Training/Bipbip/Haricot/Masks/Bipbip_haricot_im_05531patch3.png  \n",
            "  inflating: Development_Dataset/Training/Bipbip/Haricot/Masks/Bipbip_haricot_im_05531patch4.png  \n",
            "  inflating: Development_Dataset/Training/Bipbip/Haricot/Masks/Bipbip_haricot_im_05531patch5.png  \n",
            "  inflating: Development_Dataset/Training/Bipbip/Haricot/Masks/Bipbip_haricot_im_05531patch6.png  \n",
            "  inflating: Development_Dataset/Training/Bipbip/Haricot/Masks/Bipbip_haricot_im_05531patch7.png  \n",
            "  inflating: Development_Dataset/Training/Bipbip/Haricot/Masks/Bipbip_haricot_im_05571patch0.png  \n",
            "  inflating: Development_Dataset/Training/Bipbip/Haricot/Masks/Bipbip_haricot_im_05571patch1.png  \n",
            "  inflating: Development_Dataset/Training/Bipbip/Haricot/Masks/Bipbip_haricot_im_05571patch2.png  \n",
            "  inflating: Development_Dataset/Training/Bipbip/Haricot/Masks/Bipbip_haricot_im_05571patch3.png  \n",
            "  inflating: Development_Dataset/Training/Bipbip/Haricot/Masks/Bipbip_haricot_im_05571patch4.png  \n",
            "  inflating: Development_Dataset/Training/Bipbip/Haricot/Masks/Bipbip_haricot_im_05571patch5.png  \n",
            "  inflating: Development_Dataset/Training/Bipbip/Haricot/Masks/Bipbip_haricot_im_05571patch6.png  \n",
            "  inflating: Development_Dataset/Training/Bipbip/Haricot/Masks/Bipbip_haricot_im_05571patch7.png  \n",
            "  inflating: Development_Dataset/Training/Bipbip/Haricot/Masks/Bipbip_haricot_im_05741patch0.png  \n",
            "  inflating: Development_Dataset/Training/Bipbip/Haricot/Masks/Bipbip_haricot_im_05741patch1.png  \n",
            "  inflating: Development_Dataset/Training/Bipbip/Haricot/Masks/Bipbip_haricot_im_05741patch2.png  \n",
            "  inflating: Development_Dataset/Training/Bipbip/Haricot/Masks/Bipbip_haricot_im_05741patch3.png  \n",
            "  inflating: Development_Dataset/Training/Bipbip/Haricot/Masks/Bipbip_haricot_im_05741patch4.png  \n",
            "  inflating: Development_Dataset/Training/Bipbip/Haricot/Masks/Bipbip_haricot_im_05741patch5.png  \n",
            "  inflating: Development_Dataset/Training/Bipbip/Haricot/Masks/Bipbip_haricot_im_05741patch6.png  \n",
            "  inflating: Development_Dataset/Training/Bipbip/Haricot/Masks/Bipbip_haricot_im_05741patch7.png  \n",
            "  inflating: Development_Dataset/Training/Bipbip/Haricot/Masks/Bipbip_haricot_im_05911patch0.png  \n",
            "  inflating: Development_Dataset/Training/Bipbip/Haricot/Masks/Bipbip_haricot_im_05911patch1.png  \n",
            "  inflating: Development_Dataset/Training/Bipbip/Haricot/Masks/Bipbip_haricot_im_05911patch2.png  \n",
            "  inflating: Development_Dataset/Training/Bipbip/Haricot/Masks/Bipbip_haricot_im_05911patch3.png  \n",
            "  inflating: Development_Dataset/Training/Bipbip/Haricot/Masks/Bipbip_haricot_im_05911patch4.png  \n",
            "  inflating: Development_Dataset/Training/Bipbip/Haricot/Masks/Bipbip_haricot_im_05911patch5.png  \n",
            "  inflating: Development_Dataset/Training/Bipbip/Haricot/Masks/Bipbip_haricot_im_05911patch6.png  \n",
            "  inflating: Development_Dataset/Training/Bipbip/Haricot/Masks/Bipbip_haricot_im_05911patch7.png  \n",
            "  inflating: Development_Dataset/Training/Bipbip/Haricot/Masks/Bipbip_haricot_im_05991patch0.png  \n",
            "  inflating: Development_Dataset/Training/Bipbip/Haricot/Masks/Bipbip_haricot_im_05991patch1.png  \n",
            "  inflating: Development_Dataset/Training/Bipbip/Haricot/Masks/Bipbip_haricot_im_05991patch2.png  \n",
            "  inflating: Development_Dataset/Training/Bipbip/Haricot/Masks/Bipbip_haricot_im_05991patch3.png  \n",
            "  inflating: Development_Dataset/Training/Bipbip/Haricot/Masks/Bipbip_haricot_im_05991patch4.png  \n",
            "  inflating: Development_Dataset/Training/Bipbip/Haricot/Masks/Bipbip_haricot_im_05991patch5.png  \n",
            "  inflating: Development_Dataset/Training/Bipbip/Haricot/Masks/Bipbip_haricot_im_05991patch6.png  \n",
            "  inflating: Development_Dataset/Training/Bipbip/Haricot/Masks/Bipbip_haricot_im_05991patch7.png  \n",
            "  inflating: Development_Dataset/Training/Bipbip/Haricot/Masks/Bipbip_haricot_im_06041patch0.png  \n",
            "  inflating: Development_Dataset/Training/Bipbip/Haricot/Masks/Bipbip_haricot_im_06041patch1.png  \n",
            "  inflating: Development_Dataset/Training/Bipbip/Haricot/Masks/Bipbip_haricot_im_06041patch2.png  \n",
            "  inflating: Development_Dataset/Training/Bipbip/Haricot/Masks/Bipbip_haricot_im_06041patch3.png  \n",
            "  inflating: Development_Dataset/Training/Bipbip/Haricot/Masks/Bipbip_haricot_im_06041patch4.png  \n",
            "  inflating: Development_Dataset/Training/Bipbip/Haricot/Masks/Bipbip_haricot_im_06041patch5.png  \n",
            "  inflating: Development_Dataset/Training/Bipbip/Haricot/Masks/Bipbip_haricot_im_06041patch6.png  \n",
            "  inflating: Development_Dataset/Training/Bipbip/Haricot/Masks/Bipbip_haricot_im_06041patch7.png  \n",
            "  inflating: Development_Dataset/Training/Bipbip/Haricot/Masks/Bipbip_haricot_im_06101patch0.png  \n",
            "  inflating: Development_Dataset/Training/Bipbip/Haricot/Masks/Bipbip_haricot_im_06101patch1.png  \n",
            "  inflating: Development_Dataset/Training/Bipbip/Haricot/Masks/Bipbip_haricot_im_06101patch2.png  \n",
            "  inflating: Development_Dataset/Training/Bipbip/Haricot/Masks/Bipbip_haricot_im_06101patch3.png  \n",
            "  inflating: Development_Dataset/Training/Bipbip/Haricot/Masks/Bipbip_haricot_im_06101patch4.png  \n",
            "  inflating: Development_Dataset/Training/Bipbip/Haricot/Masks/Bipbip_haricot_im_06101patch5.png  \n",
            "  inflating: Development_Dataset/Training/Bipbip/Haricot/Masks/Bipbip_haricot_im_06101patch6.png  \n",
            "  inflating: Development_Dataset/Training/Bipbip/Haricot/Masks/Bipbip_haricot_im_06101patch7.png  \n",
            "  inflating: Development_Dataset/Training/Bipbip/Haricot/Masks/Bipbip_haricot_im_06151patch0.png  \n",
            "  inflating: Development_Dataset/Training/Bipbip/Haricot/Masks/Bipbip_haricot_im_06151patch1.png  \n",
            "  inflating: Development_Dataset/Training/Bipbip/Haricot/Masks/Bipbip_haricot_im_06151patch2.png  \n",
            "  inflating: Development_Dataset/Training/Bipbip/Haricot/Masks/Bipbip_haricot_im_06151patch3.png  \n",
            "  inflating: Development_Dataset/Training/Bipbip/Haricot/Masks/Bipbip_haricot_im_06151patch4.png  \n",
            "  inflating: Development_Dataset/Training/Bipbip/Haricot/Masks/Bipbip_haricot_im_06151patch5.png  \n",
            "  inflating: Development_Dataset/Training/Bipbip/Haricot/Masks/Bipbip_haricot_im_06151patch6.png  \n",
            "  inflating: Development_Dataset/Training/Bipbip/Haricot/Masks/Bipbip_haricot_im_06151patch7.png  \n",
            "  inflating: Development_Dataset/Training/Bipbip/Haricot/Masks/Bipbip_haricot_im_06241patch0.png  \n",
            "  inflating: Development_Dataset/Training/Bipbip/Haricot/Masks/Bipbip_haricot_im_06241patch1.png  \n",
            "  inflating: Development_Dataset/Training/Bipbip/Haricot/Masks/Bipbip_haricot_im_06241patch2.png  \n",
            "  inflating: Development_Dataset/Training/Bipbip/Haricot/Masks/Bipbip_haricot_im_06241patch3.png  \n",
            "  inflating: Development_Dataset/Training/Bipbip/Haricot/Masks/Bipbip_haricot_im_06241patch4.png  \n",
            "  inflating: Development_Dataset/Training/Bipbip/Haricot/Masks/Bipbip_haricot_im_06241patch5.png  \n",
            "  inflating: Development_Dataset/Training/Bipbip/Haricot/Masks/Bipbip_haricot_im_06241patch6.png  \n",
            "  inflating: Development_Dataset/Training/Bipbip/Haricot/Masks/Bipbip_haricot_im_06241patch7.png  \n",
            "  inflating: Development_Dataset/Training/Bipbip/Haricot/Masks/Bipbip_haricot_im_06341patch0.png  \n",
            "  inflating: Development_Dataset/Training/Bipbip/Haricot/Masks/Bipbip_haricot_im_06341patch1.png  \n",
            "  inflating: Development_Dataset/Training/Bipbip/Haricot/Masks/Bipbip_haricot_im_06341patch2.png  \n",
            "  inflating: Development_Dataset/Training/Bipbip/Haricot/Masks/Bipbip_haricot_im_06341patch3.png  \n",
            "  inflating: Development_Dataset/Training/Bipbip/Haricot/Masks/Bipbip_haricot_im_06341patch4.png  \n",
            "  inflating: Development_Dataset/Training/Bipbip/Haricot/Masks/Bipbip_haricot_im_06341patch5.png  \n",
            "  inflating: Development_Dataset/Training/Bipbip/Haricot/Masks/Bipbip_haricot_im_06341patch6.png  \n",
            "  inflating: Development_Dataset/Training/Bipbip/Haricot/Masks/Bipbip_haricot_im_06341patch7.png  \n",
            "  inflating: Development_Dataset/Training/Bipbip/Haricot/Masks/Bipbip_haricot_im_06401patch0.png  \n",
            "  inflating: Development_Dataset/Training/Bipbip/Haricot/Masks/Bipbip_haricot_im_06401patch1.png  \n",
            "  inflating: Development_Dataset/Training/Bipbip/Haricot/Masks/Bipbip_haricot_im_06401patch2.png  \n",
            "  inflating: Development_Dataset/Training/Bipbip/Haricot/Masks/Bipbip_haricot_im_06401patch3.png  \n",
            "  inflating: Development_Dataset/Training/Bipbip/Haricot/Masks/Bipbip_haricot_im_06401patch4.png  \n",
            "  inflating: Development_Dataset/Training/Bipbip/Haricot/Masks/Bipbip_haricot_im_06401patch5.png  \n",
            "  inflating: Development_Dataset/Training/Bipbip/Haricot/Masks/Bipbip_haricot_im_06401patch6.png  \n",
            "  inflating: Development_Dataset/Training/Bipbip/Haricot/Masks/Bipbip_haricot_im_06401patch7.png  \n",
            "  inflating: Development_Dataset/Training/Bipbip/Haricot/Masks/Bipbip_haricot_im_06481patch0.png  \n",
            "  inflating: Development_Dataset/Training/Bipbip/Haricot/Masks/Bipbip_haricot_im_06481patch1.png  \n",
            "  inflating: Development_Dataset/Training/Bipbip/Haricot/Masks/Bipbip_haricot_im_06481patch2.png  \n",
            "  inflating: Development_Dataset/Training/Bipbip/Haricot/Masks/Bipbip_haricot_im_06481patch3.png  \n",
            "  inflating: Development_Dataset/Training/Bipbip/Haricot/Masks/Bipbip_haricot_im_06481patch4.png  \n",
            "  inflating: Development_Dataset/Training/Bipbip/Haricot/Masks/Bipbip_haricot_im_06481patch5.png  \n",
            "  inflating: Development_Dataset/Training/Bipbip/Haricot/Masks/Bipbip_haricot_im_06481patch6.png  \n",
            "  inflating: Development_Dataset/Training/Bipbip/Haricot/Masks/Bipbip_haricot_im_06481patch7.png  \n",
            "  inflating: Development_Dataset/Training/Bipbip/Haricot/Masks/Bipbip_haricot_im_06531patch0.png  \n",
            "  inflating: Development_Dataset/Training/Bipbip/Haricot/Masks/Bipbip_haricot_im_06531patch1.png  \n",
            "  inflating: Development_Dataset/Training/Bipbip/Haricot/Masks/Bipbip_haricot_im_06531patch2.png  \n",
            "  inflating: Development_Dataset/Training/Bipbip/Haricot/Masks/Bipbip_haricot_im_06531patch3.png  \n",
            "  inflating: Development_Dataset/Training/Bipbip/Haricot/Masks/Bipbip_haricot_im_06531patch4.png  \n",
            "  inflating: Development_Dataset/Training/Bipbip/Haricot/Masks/Bipbip_haricot_im_06531patch5.png  \n",
            "  inflating: Development_Dataset/Training/Bipbip/Haricot/Masks/Bipbip_haricot_im_06531patch6.png  \n",
            "  inflating: Development_Dataset/Training/Bipbip/Haricot/Masks/Bipbip_haricot_im_06531patch7.png  \n",
            "  inflating: Development_Dataset/Training/Bipbip/Haricot/Masks/Bipbip_haricot_im_06641patch0.png  \n",
            "  inflating: Development_Dataset/Training/Bipbip/Haricot/Masks/Bipbip_haricot_im_06641patch1.png  \n",
            "  inflating: Development_Dataset/Training/Bipbip/Haricot/Masks/Bipbip_haricot_im_06641patch2.png  \n",
            "  inflating: Development_Dataset/Training/Bipbip/Haricot/Masks/Bipbip_haricot_im_06641patch3.png  \n",
            "  inflating: Development_Dataset/Training/Bipbip/Haricot/Masks/Bipbip_haricot_im_06641patch4.png  \n",
            "  inflating: Development_Dataset/Training/Bipbip/Haricot/Masks/Bipbip_haricot_im_06641patch5.png  \n",
            "  inflating: Development_Dataset/Training/Bipbip/Haricot/Masks/Bipbip_haricot_im_06641patch6.png  \n",
            "  inflating: Development_Dataset/Training/Bipbip/Haricot/Masks/Bipbip_haricot_im_06641patch7.png  \n",
            "  inflating: Development_Dataset/Training/Bipbip/Haricot/Masks/Bipbip_haricot_im_06691patch0.png  \n",
            "  inflating: Development_Dataset/Training/Bipbip/Haricot/Masks/Bipbip_haricot_im_06691patch1.png  \n",
            "  inflating: Development_Dataset/Training/Bipbip/Haricot/Masks/Bipbip_haricot_im_06691patch2.png  \n",
            "  inflating: Development_Dataset/Training/Bipbip/Haricot/Masks/Bipbip_haricot_im_06691patch3.png  \n",
            "  inflating: Development_Dataset/Training/Bipbip/Haricot/Masks/Bipbip_haricot_im_06691patch4.png  \n",
            "  inflating: Development_Dataset/Training/Bipbip/Haricot/Masks/Bipbip_haricot_im_06691patch5.png  \n",
            "  inflating: Development_Dataset/Training/Bipbip/Haricot/Masks/Bipbip_haricot_im_06691patch6.png  \n",
            "  inflating: Development_Dataset/Training/Bipbip/Haricot/Masks/Bipbip_haricot_im_06691patch7.png  \n",
            "  inflating: Development_Dataset/Training/Bipbip/Haricot/Masks/Bipbip_haricot_im_06801patch0.png  \n",
            "  inflating: Development_Dataset/Training/Bipbip/Haricot/Masks/Bipbip_haricot_im_06801patch1.png  \n",
            "  inflating: Development_Dataset/Training/Bipbip/Haricot/Masks/Bipbip_haricot_im_06801patch2.png  \n",
            "  inflating: Development_Dataset/Training/Bipbip/Haricot/Masks/Bipbip_haricot_im_06801patch3.png  \n",
            "  inflating: Development_Dataset/Training/Bipbip/Haricot/Masks/Bipbip_haricot_im_06801patch4.png  \n",
            "  inflating: Development_Dataset/Training/Bipbip/Haricot/Masks/Bipbip_haricot_im_06801patch5.png  \n",
            "  inflating: Development_Dataset/Training/Bipbip/Haricot/Masks/Bipbip_haricot_im_06801patch6.png  \n",
            "  inflating: Development_Dataset/Training/Bipbip/Haricot/Masks/Bipbip_haricot_im_06801patch7.png  \n",
            "  inflating: Development_Dataset/Training/Bipbip/Haricot/Masks/Bipbip_haricot_im_06851patch0.png  \n",
            "  inflating: Development_Dataset/Training/Bipbip/Haricot/Masks/Bipbip_haricot_im_06851patch1.png  \n",
            "  inflating: Development_Dataset/Training/Bipbip/Haricot/Masks/Bipbip_haricot_im_06851patch2.png  \n",
            "  inflating: Development_Dataset/Training/Bipbip/Haricot/Masks/Bipbip_haricot_im_06851patch3.png  \n",
            "  inflating: Development_Dataset/Training/Bipbip/Haricot/Masks/Bipbip_haricot_im_06851patch4.png  \n",
            "  inflating: Development_Dataset/Training/Bipbip/Haricot/Masks/Bipbip_haricot_im_06851patch5.png  \n",
            "  inflating: Development_Dataset/Training/Bipbip/Haricot/Masks/Bipbip_haricot_im_06851patch6.png  \n",
            "  inflating: Development_Dataset/Training/Bipbip/Haricot/Masks/Bipbip_haricot_im_06851patch7.png  \n",
            "  inflating: Development_Dataset/Training/Bipbip/Haricot/Masks/Bipbip_haricot_im_06901patch0.png  \n",
            "  inflating: Development_Dataset/Training/Bipbip/Haricot/Masks/Bipbip_haricot_im_06901patch1.png  \n",
            "  inflating: Development_Dataset/Training/Bipbip/Haricot/Masks/Bipbip_haricot_im_06901patch2.png  \n",
            "  inflating: Development_Dataset/Training/Bipbip/Haricot/Masks/Bipbip_haricot_im_06901patch3.png  \n",
            "  inflating: Development_Dataset/Training/Bipbip/Haricot/Masks/Bipbip_haricot_im_06901patch4.png  \n",
            "  inflating: Development_Dataset/Training/Bipbip/Haricot/Masks/Bipbip_haricot_im_06901patch5.png  \n",
            "  inflating: Development_Dataset/Training/Bipbip/Haricot/Masks/Bipbip_haricot_im_06901patch6.png  \n",
            "  inflating: Development_Dataset/Training/Bipbip/Haricot/Masks/Bipbip_haricot_im_06901patch7.png  \n",
            "  inflating: Development_Dataset/Training/Bipbip/Haricot/Masks/Bipbip_haricot_im_06941patch0.png  \n",
            "  inflating: Development_Dataset/Training/Bipbip/Haricot/Masks/Bipbip_haricot_im_06941patch1.png  \n",
            "  inflating: Development_Dataset/Training/Bipbip/Haricot/Masks/Bipbip_haricot_im_06941patch2.png  \n",
            "  inflating: Development_Dataset/Training/Bipbip/Haricot/Masks/Bipbip_haricot_im_06941patch3.png  \n",
            "  inflating: Development_Dataset/Training/Bipbip/Haricot/Masks/Bipbip_haricot_im_06941patch4.png  \n",
            "  inflating: Development_Dataset/Training/Bipbip/Haricot/Masks/Bipbip_haricot_im_06941patch5.png  \n",
            "  inflating: Development_Dataset/Training/Bipbip/Haricot/Masks/Bipbip_haricot_im_06941patch6.png  \n",
            "  inflating: Development_Dataset/Training/Bipbip/Haricot/Masks/Bipbip_haricot_im_06941patch7.png  \n",
            "  inflating: Development_Dataset/Training/Bipbip/Haricot/Masks/Bipbip_haricot_im_07011patch0.png  \n",
            "  inflating: Development_Dataset/Training/Bipbip/Haricot/Masks/Bipbip_haricot_im_07011patch1.png  \n",
            "  inflating: Development_Dataset/Training/Bipbip/Haricot/Masks/Bipbip_haricot_im_07011patch2.png  \n",
            "  inflating: Development_Dataset/Training/Bipbip/Haricot/Masks/Bipbip_haricot_im_07011patch3.png  \n",
            "  inflating: Development_Dataset/Training/Bipbip/Haricot/Masks/Bipbip_haricot_im_07011patch4.png  \n",
            "  inflating: Development_Dataset/Training/Bipbip/Haricot/Masks/Bipbip_haricot_im_07011patch5.png  \n",
            "  inflating: Development_Dataset/Training/Bipbip/Haricot/Masks/Bipbip_haricot_im_07011patch6.png  \n",
            "  inflating: Development_Dataset/Training/Bipbip/Haricot/Masks/Bipbip_haricot_im_07011patch7.png  \n",
            "  inflating: Development_Dataset/Training/Bipbip/Haricot/Masks/Bipbip_haricot_im_07071patch0.png  \n",
            "  inflating: Development_Dataset/Training/Bipbip/Haricot/Masks/Bipbip_haricot_im_07071patch1.png  \n",
            "  inflating: Development_Dataset/Training/Bipbip/Haricot/Masks/Bipbip_haricot_im_07071patch2.png  \n",
            "  inflating: Development_Dataset/Training/Bipbip/Haricot/Masks/Bipbip_haricot_im_07071patch3.png  \n",
            "  inflating: Development_Dataset/Training/Bipbip/Haricot/Masks/Bipbip_haricot_im_07071patch4.png  \n",
            "  inflating: Development_Dataset/Training/Bipbip/Haricot/Masks/Bipbip_haricot_im_07071patch5.png  \n",
            "  inflating: Development_Dataset/Training/Bipbip/Haricot/Masks/Bipbip_haricot_im_07071patch6.png  \n",
            "  inflating: Development_Dataset/Training/Bipbip/Haricot/Masks/Bipbip_haricot_im_07071patch7.png  \n",
            "  inflating: Development_Dataset/Training/Bipbip/Haricot/Masks/Bipbip_haricot_im_07131patch0.png  \n",
            "  inflating: Development_Dataset/Training/Bipbip/Haricot/Masks/Bipbip_haricot_im_07131patch1.png  \n",
            "  inflating: Development_Dataset/Training/Bipbip/Haricot/Masks/Bipbip_haricot_im_07131patch2.png  \n",
            "  inflating: Development_Dataset/Training/Bipbip/Haricot/Masks/Bipbip_haricot_im_07131patch3.png  \n",
            "  inflating: Development_Dataset/Training/Bipbip/Haricot/Masks/Bipbip_haricot_im_07131patch4.png  \n",
            "  inflating: Development_Dataset/Training/Bipbip/Haricot/Masks/Bipbip_haricot_im_07131patch5.png  \n",
            "  inflating: Development_Dataset/Training/Bipbip/Haricot/Masks/Bipbip_haricot_im_07131patch6.png  \n",
            "  inflating: Development_Dataset/Training/Bipbip/Haricot/Masks/Bipbip_haricot_im_07131patch7.png  \n",
            "  inflating: Development_Dataset/Training/Bipbip/Haricot/Masks/Bipbip_haricot_im_07371patch0.png  \n",
            "  inflating: Development_Dataset/Training/Bipbip/Haricot/Masks/Bipbip_haricot_im_07371patch1.png  \n",
            "  inflating: Development_Dataset/Training/Bipbip/Haricot/Masks/Bipbip_haricot_im_07371patch2.png  \n",
            "  inflating: Development_Dataset/Training/Bipbip/Haricot/Masks/Bipbip_haricot_im_07371patch3.png  \n",
            "  inflating: Development_Dataset/Training/Bipbip/Haricot/Masks/Bipbip_haricot_im_07371patch4.png  \n",
            "  inflating: Development_Dataset/Training/Bipbip/Haricot/Masks/Bipbip_haricot_im_07371patch5.png  \n",
            "  inflating: Development_Dataset/Training/Bipbip/Haricot/Masks/Bipbip_haricot_im_07371patch6.png  \n",
            "  inflating: Development_Dataset/Training/Bipbip/Haricot/Masks/Bipbip_haricot_im_07371patch7.png  \n",
            "  inflating: Development_Dataset/Training/Bipbip/Haricot/Masks/Bipbip_haricot_im_07481patch0.png  \n",
            "  inflating: Development_Dataset/Training/Bipbip/Haricot/Masks/Bipbip_haricot_im_07481patch1.png  \n",
            "  inflating: Development_Dataset/Training/Bipbip/Haricot/Masks/Bipbip_haricot_im_07481patch2.png  \n",
            "  inflating: Development_Dataset/Training/Bipbip/Haricot/Masks/Bipbip_haricot_im_07481patch3.png  \n",
            "  inflating: Development_Dataset/Training/Bipbip/Haricot/Masks/Bipbip_haricot_im_07481patch4.png  \n",
            "  inflating: Development_Dataset/Training/Bipbip/Haricot/Masks/Bipbip_haricot_im_07481patch5.png  \n",
            "  inflating: Development_Dataset/Training/Bipbip/Haricot/Masks/Bipbip_haricot_im_07481patch6.png  \n",
            "  inflating: Development_Dataset/Training/Bipbip/Haricot/Masks/Bipbip_haricot_im_07481patch7.png  \n",
            "  inflating: Development_Dataset/Training/Bipbip/Haricot/Masks/Bipbip_haricot_im_07531patch0.png  \n",
            "  inflating: Development_Dataset/Training/Bipbip/Haricot/Masks/Bipbip_haricot_im_07531patch1.png  \n",
            "  inflating: Development_Dataset/Training/Bipbip/Haricot/Masks/Bipbip_haricot_im_07531patch2.png  \n",
            "  inflating: Development_Dataset/Training/Bipbip/Haricot/Masks/Bipbip_haricot_im_07531patch3.png  \n",
            "  inflating: Development_Dataset/Training/Bipbip/Haricot/Masks/Bipbip_haricot_im_07531patch4.png  \n",
            "  inflating: Development_Dataset/Training/Bipbip/Haricot/Masks/Bipbip_haricot_im_07531patch5.png  \n",
            "  inflating: Development_Dataset/Training/Bipbip/Haricot/Masks/Bipbip_haricot_im_07531patch6.png  \n",
            "  inflating: Development_Dataset/Training/Bipbip/Haricot/Masks/Bipbip_haricot_im_07531patch7.png  \n",
            "  inflating: Development_Dataset/Training/Bipbip/Haricot/Masks/Bipbip_haricot_im_07591patch0.png  \n",
            "  inflating: Development_Dataset/Training/Bipbip/Haricot/Masks/Bipbip_haricot_im_07591patch1.png  \n",
            "  inflating: Development_Dataset/Training/Bipbip/Haricot/Masks/Bipbip_haricot_im_07591patch2.png  \n",
            "  inflating: Development_Dataset/Training/Bipbip/Haricot/Masks/Bipbip_haricot_im_07591patch3.png  \n",
            "  inflating: Development_Dataset/Training/Bipbip/Haricot/Masks/Bipbip_haricot_im_07591patch4.png  \n",
            "  inflating: Development_Dataset/Training/Bipbip/Haricot/Masks/Bipbip_haricot_im_07591patch5.png  \n",
            "  inflating: Development_Dataset/Training/Bipbip/Haricot/Masks/Bipbip_haricot_im_07591patch6.png  \n",
            "  inflating: Development_Dataset/Training/Bipbip/Haricot/Masks/Bipbip_haricot_im_07591patch7.png  \n",
            "  inflating: Development_Dataset/Training/Bipbip/Haricot/Masks/Bipbip_haricot_im_07701patch0.png  \n",
            "  inflating: Development_Dataset/Training/Bipbip/Haricot/Masks/Bipbip_haricot_im_07701patch1.png  \n",
            "  inflating: Development_Dataset/Training/Bipbip/Haricot/Masks/Bipbip_haricot_im_07701patch2.png  \n",
            "  inflating: Development_Dataset/Training/Bipbip/Haricot/Masks/Bipbip_haricot_im_07701patch3.png  \n",
            "  inflating: Development_Dataset/Training/Bipbip/Haricot/Masks/Bipbip_haricot_im_07701patch4.png  \n",
            "  inflating: Development_Dataset/Training/Bipbip/Haricot/Masks/Bipbip_haricot_im_07701patch5.png  \n",
            "  inflating: Development_Dataset/Training/Bipbip/Haricot/Masks/Bipbip_haricot_im_07701patch6.png  \n",
            "  inflating: Development_Dataset/Training/Bipbip/Haricot/Masks/Bipbip_haricot_im_07701patch7.png  \n",
            "  inflating: Development_Dataset/Training/Bipbip/Haricot/Masks/Bipbip_haricot_im_07781patch0.png  \n",
            "  inflating: Development_Dataset/Training/Bipbip/Haricot/Masks/Bipbip_haricot_im_07781patch1.png  \n",
            "  inflating: Development_Dataset/Training/Bipbip/Haricot/Masks/Bipbip_haricot_im_07781patch2.png  \n",
            "  inflating: Development_Dataset/Training/Bipbip/Haricot/Masks/Bipbip_haricot_im_07781patch3.png  \n",
            "  inflating: Development_Dataset/Training/Bipbip/Haricot/Masks/Bipbip_haricot_im_07781patch4.png  \n",
            "  inflating: Development_Dataset/Training/Bipbip/Haricot/Masks/Bipbip_haricot_im_07781patch5.png  \n",
            "  inflating: Development_Dataset/Training/Bipbip/Haricot/Masks/Bipbip_haricot_im_07781patch6.png  \n",
            "  inflating: Development_Dataset/Training/Bipbip/Haricot/Masks/Bipbip_haricot_im_07781patch7.png  \n",
            "  inflating: Development_Dataset/Training/Bipbip/Haricot/Masks/Bipbip_haricot_im_07861patch0.png  \n",
            "  inflating: Development_Dataset/Training/Bipbip/Haricot/Masks/Bipbip_haricot_im_07861patch1.png  \n",
            "  inflating: Development_Dataset/Training/Bipbip/Haricot/Masks/Bipbip_haricot_im_07861patch2.png  \n",
            "  inflating: Development_Dataset/Training/Bipbip/Haricot/Masks/Bipbip_haricot_im_07861patch3.png  \n",
            "  inflating: Development_Dataset/Training/Bipbip/Haricot/Masks/Bipbip_haricot_im_07861patch4.png  \n",
            "  inflating: Development_Dataset/Training/Bipbip/Haricot/Masks/Bipbip_haricot_im_07861patch5.png  \n",
            "  inflating: Development_Dataset/Training/Bipbip/Haricot/Masks/Bipbip_haricot_im_07861patch6.png  \n",
            "  inflating: Development_Dataset/Training/Bipbip/Haricot/Masks/Bipbip_haricot_im_07861patch7.png  \n",
            "  inflating: Development_Dataset/Training/Bipbip/Haricot/Masks/Bipbip_haricot_im_07941patch0.png  \n",
            "  inflating: Development_Dataset/Training/Bipbip/Haricot/Masks/Bipbip_haricot_im_07941patch1.png  \n",
            "  inflating: Development_Dataset/Training/Bipbip/Haricot/Masks/Bipbip_haricot_im_07941patch2.png  \n",
            "  inflating: Development_Dataset/Training/Bipbip/Haricot/Masks/Bipbip_haricot_im_07941patch3.png  \n",
            "  inflating: Development_Dataset/Training/Bipbip/Haricot/Masks/Bipbip_haricot_im_07941patch4.png  \n",
            "  inflating: Development_Dataset/Training/Bipbip/Haricot/Masks/Bipbip_haricot_im_07941patch5.png  \n",
            "  inflating: Development_Dataset/Training/Bipbip/Haricot/Masks/Bipbip_haricot_im_07941patch6.png  \n",
            "  inflating: Development_Dataset/Training/Bipbip/Haricot/Masks/Bipbip_haricot_im_07941patch7.png  \n",
            "  inflating: Development_Dataset/Training/Bipbip/Haricot/Masks/Bipbip_haricot_im_08071patch0.png  \n",
            "  inflating: Development_Dataset/Training/Bipbip/Haricot/Masks/Bipbip_haricot_im_08071patch1.png  \n",
            "  inflating: Development_Dataset/Training/Bipbip/Haricot/Masks/Bipbip_haricot_im_08071patch2.png  \n",
            "  inflating: Development_Dataset/Training/Bipbip/Haricot/Masks/Bipbip_haricot_im_08071patch3.png  \n",
            "  inflating: Development_Dataset/Training/Bipbip/Haricot/Masks/Bipbip_haricot_im_08071patch4.png  \n",
            "  inflating: Development_Dataset/Training/Bipbip/Haricot/Masks/Bipbip_haricot_im_08071patch5.png  \n",
            "  inflating: Development_Dataset/Training/Bipbip/Haricot/Masks/Bipbip_haricot_im_08071patch6.png  \n",
            "  inflating: Development_Dataset/Training/Bipbip/Haricot/Masks/Bipbip_haricot_im_08071patch7.png  \n",
            "  inflating: Development_Dataset/Training/Bipbip/Haricot/Masks/Bipbip_haricot_im_08141patch0.png  \n",
            "  inflating: Development_Dataset/Training/Bipbip/Haricot/Masks/Bipbip_haricot_im_08141patch1.png  \n",
            "  inflating: Development_Dataset/Training/Bipbip/Haricot/Masks/Bipbip_haricot_im_08141patch2.png  \n",
            "  inflating: Development_Dataset/Training/Bipbip/Haricot/Masks/Bipbip_haricot_im_08141patch3.png  \n",
            "  inflating: Development_Dataset/Training/Bipbip/Haricot/Masks/Bipbip_haricot_im_08141patch4.png  \n",
            "  inflating: Development_Dataset/Training/Bipbip/Haricot/Masks/Bipbip_haricot_im_08141patch5.png  \n",
            "  inflating: Development_Dataset/Training/Bipbip/Haricot/Masks/Bipbip_haricot_im_08141patch6.png  \n",
            "  inflating: Development_Dataset/Training/Bipbip/Haricot/Masks/Bipbip_haricot_im_08141patch7.png  \n",
            "  inflating: Development_Dataset/Training/Bipbip/Haricot/Masks/Bipbip_haricot_im_08221patch0.png  \n",
            "  inflating: Development_Dataset/Training/Bipbip/Haricot/Masks/Bipbip_haricot_im_08221patch1.png  \n",
            "  inflating: Development_Dataset/Training/Bipbip/Haricot/Masks/Bipbip_haricot_im_08221patch2.png  \n",
            "  inflating: Development_Dataset/Training/Bipbip/Haricot/Masks/Bipbip_haricot_im_08221patch3.png  \n",
            "  inflating: Development_Dataset/Training/Bipbip/Haricot/Masks/Bipbip_haricot_im_08221patch4.png  \n",
            "  inflating: Development_Dataset/Training/Bipbip/Haricot/Masks/Bipbip_haricot_im_08221patch5.png  \n",
            "  inflating: Development_Dataset/Training/Bipbip/Haricot/Masks/Bipbip_haricot_im_08221patch6.png  \n",
            "  inflating: Development_Dataset/Training/Bipbip/Haricot/Masks/Bipbip_haricot_im_08221patch7.png  \n",
            "  inflating: Development_Dataset/Training/Bipbip/Haricot/Masks/Bipbip_haricot_im_08371patch0.png  \n",
            "  inflating: Development_Dataset/Training/Bipbip/Haricot/Masks/Bipbip_haricot_im_08371patch1.png  \n",
            "  inflating: Development_Dataset/Training/Bipbip/Haricot/Masks/Bipbip_haricot_im_08371patch2.png  \n",
            "  inflating: Development_Dataset/Training/Bipbip/Haricot/Masks/Bipbip_haricot_im_08371patch3.png  \n",
            "  inflating: Development_Dataset/Training/Bipbip/Haricot/Masks/Bipbip_haricot_im_08371patch4.png  \n",
            "  inflating: Development_Dataset/Training/Bipbip/Haricot/Masks/Bipbip_haricot_im_08371patch5.png  \n",
            "  inflating: Development_Dataset/Training/Bipbip/Haricot/Masks/Bipbip_haricot_im_08371patch6.png  \n",
            "  inflating: Development_Dataset/Training/Bipbip/Haricot/Masks/Bipbip_haricot_im_08371patch7.png  \n",
            "   creating: Development_Dataset/Training/Bipbip/Haricot/Splits/\n",
            "  inflating: Development_Dataset/Training/Bipbip/Haricot/Splits/train.txt  \n",
            "  inflating: Development_Dataset/Training/Bipbip/Haricot/Splits/val.txt  \n",
            "   creating: Development_Dataset/Training/Bipbip/Mais/\n",
            "   creating: Development_Dataset/Training/Bipbip/Mais/.ipynb_checkpoints/\n",
            "  inflating: Development_Dataset/Training/Bipbip/Mais/.ipynb_checkpoints/submission-checkpoint.json  \n",
            "   creating: Development_Dataset/Training/Bipbip/Mais/Images/\n",
            "  inflating: Development_Dataset/Training/Bipbip/Mais/Images/Bipbip_mais_im_01391patch0.jpg  \n",
            "  inflating: Development_Dataset/Training/Bipbip/Mais/Images/Bipbip_mais_im_01391patch1.jpg  \n",
            "  inflating: Development_Dataset/Training/Bipbip/Mais/Images/Bipbip_mais_im_01391patch2.jpg  \n",
            "  inflating: Development_Dataset/Training/Bipbip/Mais/Images/Bipbip_mais_im_01391patch3.jpg  \n",
            "  inflating: Development_Dataset/Training/Bipbip/Mais/Images/Bipbip_mais_im_01391patch4.jpg  \n",
            "  inflating: Development_Dataset/Training/Bipbip/Mais/Images/Bipbip_mais_im_01391patch5.jpg  \n",
            "  inflating: Development_Dataset/Training/Bipbip/Mais/Images/Bipbip_mais_im_01391patch6.jpg  \n",
            "  inflating: Development_Dataset/Training/Bipbip/Mais/Images/Bipbip_mais_im_01391patch7.jpg  \n",
            "  inflating: Development_Dataset/Training/Bipbip/Mais/Images/Bipbip_mais_im_01461patch0.jpg  \n",
            "  inflating: Development_Dataset/Training/Bipbip/Mais/Images/Bipbip_mais_im_01461patch1.jpg  \n",
            "  inflating: Development_Dataset/Training/Bipbip/Mais/Images/Bipbip_mais_im_01461patch2.jpg  \n",
            "  inflating: Development_Dataset/Training/Bipbip/Mais/Images/Bipbip_mais_im_01461patch3.jpg  \n",
            "  inflating: Development_Dataset/Training/Bipbip/Mais/Images/Bipbip_mais_im_01461patch4.jpg  \n",
            "  inflating: Development_Dataset/Training/Bipbip/Mais/Images/Bipbip_mais_im_01461patch5.jpg  \n",
            "  inflating: Development_Dataset/Training/Bipbip/Mais/Images/Bipbip_mais_im_01461patch6.jpg  \n",
            "  inflating: Development_Dataset/Training/Bipbip/Mais/Images/Bipbip_mais_im_01461patch7.jpg  \n",
            "  inflating: Development_Dataset/Training/Bipbip/Mais/Images/Bipbip_mais_im_01511patch0.jpg  \n",
            "  inflating: Development_Dataset/Training/Bipbip/Mais/Images/Bipbip_mais_im_01511patch1.jpg  \n",
            "  inflating: Development_Dataset/Training/Bipbip/Mais/Images/Bipbip_mais_im_01511patch2.jpg  \n",
            "  inflating: Development_Dataset/Training/Bipbip/Mais/Images/Bipbip_mais_im_01511patch3.jpg  \n",
            "  inflating: Development_Dataset/Training/Bipbip/Mais/Images/Bipbip_mais_im_01511patch4.jpg  \n",
            "  inflating: Development_Dataset/Training/Bipbip/Mais/Images/Bipbip_mais_im_01511patch5.jpg  \n",
            "  inflating: Development_Dataset/Training/Bipbip/Mais/Images/Bipbip_mais_im_01511patch6.jpg  \n",
            "  inflating: Development_Dataset/Training/Bipbip/Mais/Images/Bipbip_mais_im_01511patch7.jpg  \n",
            "  inflating: Development_Dataset/Training/Bipbip/Mais/Images/Bipbip_mais_im_01561patch0.jpg  \n",
            "  inflating: Development_Dataset/Training/Bipbip/Mais/Images/Bipbip_mais_im_01561patch1.jpg  \n",
            "  inflating: Development_Dataset/Training/Bipbip/Mais/Images/Bipbip_mais_im_01561patch2.jpg  \n",
            "  inflating: Development_Dataset/Training/Bipbip/Mais/Images/Bipbip_mais_im_01561patch3.jpg  \n",
            "  inflating: Development_Dataset/Training/Bipbip/Mais/Images/Bipbip_mais_im_01561patch4.jpg  \n",
            "  inflating: Development_Dataset/Training/Bipbip/Mais/Images/Bipbip_mais_im_01561patch5.jpg  \n",
            "  inflating: Development_Dataset/Training/Bipbip/Mais/Images/Bipbip_mais_im_01561patch6.jpg  \n",
            "  inflating: Development_Dataset/Training/Bipbip/Mais/Images/Bipbip_mais_im_01561patch7.jpg  \n",
            "  inflating: Development_Dataset/Training/Bipbip/Mais/Images/Bipbip_mais_im_01601patch0.jpg  \n",
            "  inflating: Development_Dataset/Training/Bipbip/Mais/Images/Bipbip_mais_im_01601patch1.jpg  \n",
            "  inflating: Development_Dataset/Training/Bipbip/Mais/Images/Bipbip_mais_im_01601patch2.jpg  \n",
            "  inflating: Development_Dataset/Training/Bipbip/Mais/Images/Bipbip_mais_im_01601patch3.jpg  \n",
            "  inflating: Development_Dataset/Training/Bipbip/Mais/Images/Bipbip_mais_im_01601patch4.jpg  \n",
            "  inflating: Development_Dataset/Training/Bipbip/Mais/Images/Bipbip_mais_im_01601patch5.jpg  \n",
            "  inflating: Development_Dataset/Training/Bipbip/Mais/Images/Bipbip_mais_im_01601patch6.jpg  \n",
            "  inflating: Development_Dataset/Training/Bipbip/Mais/Images/Bipbip_mais_im_01601patch7.jpg  \n",
            "  inflating: Development_Dataset/Training/Bipbip/Mais/Images/Bipbip_mais_im_01681patch0.jpg  \n",
            "  inflating: Development_Dataset/Training/Bipbip/Mais/Images/Bipbip_mais_im_01681patch1.jpg  \n",
            "  inflating: Development_Dataset/Training/Bipbip/Mais/Images/Bipbip_mais_im_01681patch2.jpg  \n",
            "  inflating: Development_Dataset/Training/Bipbip/Mais/Images/Bipbip_mais_im_01681patch3.jpg  \n",
            "  inflating: Development_Dataset/Training/Bipbip/Mais/Images/Bipbip_mais_im_01681patch4.jpg  \n",
            "  inflating: Development_Dataset/Training/Bipbip/Mais/Images/Bipbip_mais_im_01681patch5.jpg  \n",
            "  inflating: Development_Dataset/Training/Bipbip/Mais/Images/Bipbip_mais_im_01681patch6.jpg  \n",
            "  inflating: Development_Dataset/Training/Bipbip/Mais/Images/Bipbip_mais_im_01681patch7.jpg  \n",
            "  inflating: Development_Dataset/Training/Bipbip/Mais/Images/Bipbip_mais_im_01751patch0.jpg  \n",
            "  inflating: Development_Dataset/Training/Bipbip/Mais/Images/Bipbip_mais_im_01751patch1.jpg  \n",
            "  inflating: Development_Dataset/Training/Bipbip/Mais/Images/Bipbip_mais_im_01751patch2.jpg  \n",
            "  inflating: Development_Dataset/Training/Bipbip/Mais/Images/Bipbip_mais_im_01751patch3.jpg  \n",
            "  inflating: Development_Dataset/Training/Bipbip/Mais/Images/Bipbip_mais_im_01751patch4.jpg  \n",
            "  inflating: Development_Dataset/Training/Bipbip/Mais/Images/Bipbip_mais_im_01751patch5.jpg  \n",
            "  inflating: Development_Dataset/Training/Bipbip/Mais/Images/Bipbip_mais_im_01751patch6.jpg  \n",
            "  inflating: Development_Dataset/Training/Bipbip/Mais/Images/Bipbip_mais_im_01751patch7.jpg  \n",
            "  inflating: Development_Dataset/Training/Bipbip/Mais/Images/Bipbip_mais_im_01871patch0.jpg  \n",
            "  inflating: Development_Dataset/Training/Bipbip/Mais/Images/Bipbip_mais_im_01871patch1.jpg  \n",
            "  inflating: Development_Dataset/Training/Bipbip/Mais/Images/Bipbip_mais_im_01871patch2.jpg  \n",
            "  inflating: Development_Dataset/Training/Bipbip/Mais/Images/Bipbip_mais_im_01871patch3.jpg  \n",
            "  inflating: Development_Dataset/Training/Bipbip/Mais/Images/Bipbip_mais_im_01871patch4.jpg  \n",
            "  inflating: Development_Dataset/Training/Bipbip/Mais/Images/Bipbip_mais_im_01871patch5.jpg  \n",
            "  inflating: Development_Dataset/Training/Bipbip/Mais/Images/Bipbip_mais_im_01871patch6.jpg  \n",
            "  inflating: Development_Dataset/Training/Bipbip/Mais/Images/Bipbip_mais_im_01871patch7.jpg  \n",
            "  inflating: Development_Dataset/Training/Bipbip/Mais/Images/Bipbip_mais_im_02151patch0.jpg  \n",
            "  inflating: Development_Dataset/Training/Bipbip/Mais/Images/Bipbip_mais_im_02151patch1.jpg  \n",
            "  inflating: Development_Dataset/Training/Bipbip/Mais/Images/Bipbip_mais_im_02151patch2.jpg  \n",
            "  inflating: Development_Dataset/Training/Bipbip/Mais/Images/Bipbip_mais_im_02151patch3.jpg  \n",
            "  inflating: Development_Dataset/Training/Bipbip/Mais/Images/Bipbip_mais_im_02151patch4.jpg  \n",
            "  inflating: Development_Dataset/Training/Bipbip/Mais/Images/Bipbip_mais_im_02151patch5.jpg  \n",
            "  inflating: Development_Dataset/Training/Bipbip/Mais/Images/Bipbip_mais_im_02151patch6.jpg  \n",
            "  inflating: Development_Dataset/Training/Bipbip/Mais/Images/Bipbip_mais_im_02151patch7.jpg  \n",
            "  inflating: Development_Dataset/Training/Bipbip/Mais/Images/Bipbip_mais_im_02281patch0.jpg  \n",
            "  inflating: Development_Dataset/Training/Bipbip/Mais/Images/Bipbip_mais_im_02281patch1.jpg  \n",
            "  inflating: Development_Dataset/Training/Bipbip/Mais/Images/Bipbip_mais_im_02281patch2.jpg  \n",
            "  inflating: Development_Dataset/Training/Bipbip/Mais/Images/Bipbip_mais_im_02281patch3.jpg  \n",
            "  inflating: Development_Dataset/Training/Bipbip/Mais/Images/Bipbip_mais_im_02281patch4.jpg  \n",
            "  inflating: Development_Dataset/Training/Bipbip/Mais/Images/Bipbip_mais_im_02281patch5.jpg  \n",
            "  inflating: Development_Dataset/Training/Bipbip/Mais/Images/Bipbip_mais_im_02281patch6.jpg  \n",
            "  inflating: Development_Dataset/Training/Bipbip/Mais/Images/Bipbip_mais_im_02281patch7.jpg  \n",
            "  inflating: Development_Dataset/Training/Bipbip/Mais/Images/Bipbip_mais_im_02371patch0.jpg  \n",
            "  inflating: Development_Dataset/Training/Bipbip/Mais/Images/Bipbip_mais_im_02371patch1.jpg  \n",
            "  inflating: Development_Dataset/Training/Bipbip/Mais/Images/Bipbip_mais_im_02371patch2.jpg  \n",
            "  inflating: Development_Dataset/Training/Bipbip/Mais/Images/Bipbip_mais_im_02371patch3.jpg  \n",
            "  inflating: Development_Dataset/Training/Bipbip/Mais/Images/Bipbip_mais_im_02371patch4.jpg  \n",
            "  inflating: Development_Dataset/Training/Bipbip/Mais/Images/Bipbip_mais_im_02371patch5.jpg  \n",
            "  inflating: Development_Dataset/Training/Bipbip/Mais/Images/Bipbip_mais_im_02371patch6.jpg  \n",
            "  inflating: Development_Dataset/Training/Bipbip/Mais/Images/Bipbip_mais_im_02371patch7.jpg  \n",
            "  inflating: Development_Dataset/Training/Bipbip/Mais/Images/Bipbip_mais_im_02411patch0.jpg  \n",
            "  inflating: Development_Dataset/Training/Bipbip/Mais/Images/Bipbip_mais_im_02411patch1.jpg  \n",
            "  inflating: Development_Dataset/Training/Bipbip/Mais/Images/Bipbip_mais_im_02411patch2.jpg  \n",
            "  inflating: Development_Dataset/Training/Bipbip/Mais/Images/Bipbip_mais_im_02411patch3.jpg  \n",
            "  inflating: Development_Dataset/Training/Bipbip/Mais/Images/Bipbip_mais_im_02411patch4.jpg  \n",
            "  inflating: Development_Dataset/Training/Bipbip/Mais/Images/Bipbip_mais_im_02411patch5.jpg  \n",
            "  inflating: Development_Dataset/Training/Bipbip/Mais/Images/Bipbip_mais_im_02411patch6.jpg  \n",
            "  inflating: Development_Dataset/Training/Bipbip/Mais/Images/Bipbip_mais_im_02411patch7.jpg  \n",
            "  inflating: Development_Dataset/Training/Bipbip/Mais/Images/Bipbip_mais_im_02461patch0.jpg  \n",
            "  inflating: Development_Dataset/Training/Bipbip/Mais/Images/Bipbip_mais_im_02461patch1.jpg  \n",
            "  inflating: Development_Dataset/Training/Bipbip/Mais/Images/Bipbip_mais_im_02461patch2.jpg  \n",
            "  inflating: Development_Dataset/Training/Bipbip/Mais/Images/Bipbip_mais_im_02461patch3.jpg  \n",
            "  inflating: Development_Dataset/Training/Bipbip/Mais/Images/Bipbip_mais_im_02461patch4.jpg  \n",
            "  inflating: Development_Dataset/Training/Bipbip/Mais/Images/Bipbip_mais_im_02461patch5.jpg  \n",
            "  inflating: Development_Dataset/Training/Bipbip/Mais/Images/Bipbip_mais_im_02461patch6.jpg  \n",
            "  inflating: Development_Dataset/Training/Bipbip/Mais/Images/Bipbip_mais_im_02461patch7.jpg  \n",
            "  inflating: Development_Dataset/Training/Bipbip/Mais/Images/Bipbip_mais_im_02511patch0.jpg  \n",
            "  inflating: Development_Dataset/Training/Bipbip/Mais/Images/Bipbip_mais_im_02511patch1.jpg  \n",
            "  inflating: Development_Dataset/Training/Bipbip/Mais/Images/Bipbip_mais_im_02511patch2.jpg  \n",
            "  inflating: Development_Dataset/Training/Bipbip/Mais/Images/Bipbip_mais_im_02511patch3.jpg  \n",
            "  inflating: Development_Dataset/Training/Bipbip/Mais/Images/Bipbip_mais_im_02511patch4.jpg  \n",
            "  inflating: Development_Dataset/Training/Bipbip/Mais/Images/Bipbip_mais_im_02511patch5.jpg  \n",
            "  inflating: Development_Dataset/Training/Bipbip/Mais/Images/Bipbip_mais_im_02511patch6.jpg  \n",
            "  inflating: Development_Dataset/Training/Bipbip/Mais/Images/Bipbip_mais_im_02511patch7.jpg  \n",
            "  inflating: Development_Dataset/Training/Bipbip/Mais/Images/Bipbip_mais_im_02691patch0.jpg  \n",
            "  inflating: Development_Dataset/Training/Bipbip/Mais/Images/Bipbip_mais_im_02691patch1.jpg  \n",
            "  inflating: Development_Dataset/Training/Bipbip/Mais/Images/Bipbip_mais_im_02691patch2.jpg  \n",
            "  inflating: Development_Dataset/Training/Bipbip/Mais/Images/Bipbip_mais_im_02691patch3.jpg  \n",
            "  inflating: Development_Dataset/Training/Bipbip/Mais/Images/Bipbip_mais_im_02691patch4.jpg  \n",
            "  inflating: Development_Dataset/Training/Bipbip/Mais/Images/Bipbip_mais_im_02691patch5.jpg  \n",
            "  inflating: Development_Dataset/Training/Bipbip/Mais/Images/Bipbip_mais_im_02691patch6.jpg  \n",
            "  inflating: Development_Dataset/Training/Bipbip/Mais/Images/Bipbip_mais_im_02691patch7.jpg  \n",
            "  inflating: Development_Dataset/Training/Bipbip/Mais/Images/Bipbip_mais_im_02731patch0.jpg  \n",
            "  inflating: Development_Dataset/Training/Bipbip/Mais/Images/Bipbip_mais_im_02731patch1.jpg  \n",
            "  inflating: Development_Dataset/Training/Bipbip/Mais/Images/Bipbip_mais_im_02731patch2.jpg  \n",
            "  inflating: Development_Dataset/Training/Bipbip/Mais/Images/Bipbip_mais_im_02731patch3.jpg  \n",
            "  inflating: Development_Dataset/Training/Bipbip/Mais/Images/Bipbip_mais_im_02731patch4.jpg  \n",
            "  inflating: Development_Dataset/Training/Bipbip/Mais/Images/Bipbip_mais_im_02731patch5.jpg  \n",
            "  inflating: Development_Dataset/Training/Bipbip/Mais/Images/Bipbip_mais_im_02731patch6.jpg  \n",
            "  inflating: Development_Dataset/Training/Bipbip/Mais/Images/Bipbip_mais_im_02731patch7.jpg  \n",
            "  inflating: Development_Dataset/Training/Bipbip/Mais/Images/Bipbip_mais_im_02781patch0.jpg  \n",
            "  inflating: Development_Dataset/Training/Bipbip/Mais/Images/Bipbip_mais_im_02781patch1.jpg  \n",
            "  inflating: Development_Dataset/Training/Bipbip/Mais/Images/Bipbip_mais_im_02781patch2.jpg  \n",
            "  inflating: Development_Dataset/Training/Bipbip/Mais/Images/Bipbip_mais_im_02781patch3.jpg  \n",
            "  inflating: Development_Dataset/Training/Bipbip/Mais/Images/Bipbip_mais_im_02781patch4.jpg  \n",
            "  inflating: Development_Dataset/Training/Bipbip/Mais/Images/Bipbip_mais_im_02781patch5.jpg  \n",
            "  inflating: Development_Dataset/Training/Bipbip/Mais/Images/Bipbip_mais_im_02781patch6.jpg  \n",
            "  inflating: Development_Dataset/Training/Bipbip/Mais/Images/Bipbip_mais_im_02781patch7.jpg  \n",
            "  inflating: Development_Dataset/Training/Bipbip/Mais/Images/Bipbip_mais_im_02891patch0.jpg  \n",
            "  inflating: Development_Dataset/Training/Bipbip/Mais/Images/Bipbip_mais_im_02891patch1.jpg  \n",
            "  inflating: Development_Dataset/Training/Bipbip/Mais/Images/Bipbip_mais_im_02891patch2.jpg  \n",
            "  inflating: Development_Dataset/Training/Bipbip/Mais/Images/Bipbip_mais_im_02891patch3.jpg  \n",
            "  inflating: Development_Dataset/Training/Bipbip/Mais/Images/Bipbip_mais_im_02891patch4.jpg  \n",
            "  inflating: Development_Dataset/Training/Bipbip/Mais/Images/Bipbip_mais_im_02891patch5.jpg  \n",
            "  inflating: Development_Dataset/Training/Bipbip/Mais/Images/Bipbip_mais_im_02891patch6.jpg  \n",
            "  inflating: Development_Dataset/Training/Bipbip/Mais/Images/Bipbip_mais_im_02891patch7.jpg  \n",
            "  inflating: Development_Dataset/Training/Bipbip/Mais/Images/Bipbip_mais_im_02941patch0.jpg  \n",
            "  inflating: Development_Dataset/Training/Bipbip/Mais/Images/Bipbip_mais_im_02941patch1.jpg  \n",
            "  inflating: Development_Dataset/Training/Bipbip/Mais/Images/Bipbip_mais_im_02941patch2.jpg  \n",
            "  inflating: Development_Dataset/Training/Bipbip/Mais/Images/Bipbip_mais_im_02941patch3.jpg  \n",
            "  inflating: Development_Dataset/Training/Bipbip/Mais/Images/Bipbip_mais_im_02941patch4.jpg  \n",
            "  inflating: Development_Dataset/Training/Bipbip/Mais/Images/Bipbip_mais_im_02941patch5.jpg  \n",
            "  inflating: Development_Dataset/Training/Bipbip/Mais/Images/Bipbip_mais_im_02941patch6.jpg  \n",
            "  inflating: Development_Dataset/Training/Bipbip/Mais/Images/Bipbip_mais_im_02941patch7.jpg  \n",
            "  inflating: Development_Dataset/Training/Bipbip/Mais/Images/Bipbip_mais_im_03121patch0.jpg  \n",
            "  inflating: Development_Dataset/Training/Bipbip/Mais/Images/Bipbip_mais_im_03121patch1.jpg  \n",
            "  inflating: Development_Dataset/Training/Bipbip/Mais/Images/Bipbip_mais_im_03121patch2.jpg  \n",
            "  inflating: Development_Dataset/Training/Bipbip/Mais/Images/Bipbip_mais_im_03121patch3.jpg  \n",
            "  inflating: Development_Dataset/Training/Bipbip/Mais/Images/Bipbip_mais_im_03121patch4.jpg  \n",
            "  inflating: Development_Dataset/Training/Bipbip/Mais/Images/Bipbip_mais_im_03121patch5.jpg  \n",
            "  inflating: Development_Dataset/Training/Bipbip/Mais/Images/Bipbip_mais_im_03121patch6.jpg  \n",
            "  inflating: Development_Dataset/Training/Bipbip/Mais/Images/Bipbip_mais_im_03121patch7.jpg  \n",
            "  inflating: Development_Dataset/Training/Bipbip/Mais/Images/Bipbip_mais_im_03181patch0.jpg  \n",
            "  inflating: Development_Dataset/Training/Bipbip/Mais/Images/Bipbip_mais_im_03181patch1.jpg  \n",
            "  inflating: Development_Dataset/Training/Bipbip/Mais/Images/Bipbip_mais_im_03181patch2.jpg  \n",
            "  inflating: Development_Dataset/Training/Bipbip/Mais/Images/Bipbip_mais_im_03181patch3.jpg  \n",
            "  inflating: Development_Dataset/Training/Bipbip/Mais/Images/Bipbip_mais_im_03181patch4.jpg  \n",
            "  inflating: Development_Dataset/Training/Bipbip/Mais/Images/Bipbip_mais_im_03181patch5.jpg  \n",
            "  inflating: Development_Dataset/Training/Bipbip/Mais/Images/Bipbip_mais_im_03181patch6.jpg  \n",
            "  inflating: Development_Dataset/Training/Bipbip/Mais/Images/Bipbip_mais_im_03181patch7.jpg  \n",
            "  inflating: Development_Dataset/Training/Bipbip/Mais/Images/Bipbip_mais_im_03231patch0.jpg  \n",
            "  inflating: Development_Dataset/Training/Bipbip/Mais/Images/Bipbip_mais_im_03231patch1.jpg  \n",
            "  inflating: Development_Dataset/Training/Bipbip/Mais/Images/Bipbip_mais_im_03231patch2.jpg  \n",
            "  inflating: Development_Dataset/Training/Bipbip/Mais/Images/Bipbip_mais_im_03231patch3.jpg  \n",
            "  inflating: Development_Dataset/Training/Bipbip/Mais/Images/Bipbip_mais_im_03231patch4.jpg  \n",
            "  inflating: Development_Dataset/Training/Bipbip/Mais/Images/Bipbip_mais_im_03231patch5.jpg  \n",
            "  inflating: Development_Dataset/Training/Bipbip/Mais/Images/Bipbip_mais_im_03231patch6.jpg  \n",
            "  inflating: Development_Dataset/Training/Bipbip/Mais/Images/Bipbip_mais_im_03231patch7.jpg  \n",
            "  inflating: Development_Dataset/Training/Bipbip/Mais/Images/Bipbip_mais_im_03291patch0.jpg  \n",
            "  inflating: Development_Dataset/Training/Bipbip/Mais/Images/Bipbip_mais_im_03291patch1.jpg  \n",
            "  inflating: Development_Dataset/Training/Bipbip/Mais/Images/Bipbip_mais_im_03291patch2.jpg  \n",
            "  inflating: Development_Dataset/Training/Bipbip/Mais/Images/Bipbip_mais_im_03291patch3.jpg  \n",
            "  inflating: Development_Dataset/Training/Bipbip/Mais/Images/Bipbip_mais_im_03291patch4.jpg  \n",
            "  inflating: Development_Dataset/Training/Bipbip/Mais/Images/Bipbip_mais_im_03291patch5.jpg  \n",
            "  inflating: Development_Dataset/Training/Bipbip/Mais/Images/Bipbip_mais_im_03291patch6.jpg  \n",
            "  inflating: Development_Dataset/Training/Bipbip/Mais/Images/Bipbip_mais_im_03291patch7.jpg  \n",
            "  inflating: Development_Dataset/Training/Bipbip/Mais/Images/Bipbip_mais_im_03391patch0.jpg  \n",
            "  inflating: Development_Dataset/Training/Bipbip/Mais/Images/Bipbip_mais_im_03391patch1.jpg  \n",
            "  inflating: Development_Dataset/Training/Bipbip/Mais/Images/Bipbip_mais_im_03391patch2.jpg  \n",
            "  inflating: Development_Dataset/Training/Bipbip/Mais/Images/Bipbip_mais_im_03391patch3.jpg  \n",
            "  inflating: Development_Dataset/Training/Bipbip/Mais/Images/Bipbip_mais_im_03391patch4.jpg  \n",
            "  inflating: Development_Dataset/Training/Bipbip/Mais/Images/Bipbip_mais_im_03391patch5.jpg  \n",
            "  inflating: Development_Dataset/Training/Bipbip/Mais/Images/Bipbip_mais_im_03391patch6.jpg  \n",
            "  inflating: Development_Dataset/Training/Bipbip/Mais/Images/Bipbip_mais_im_03391patch7.jpg  \n",
            "  inflating: Development_Dataset/Training/Bipbip/Mais/Images/Bipbip_mais_im_03511patch0.jpg  \n",
            "  inflating: Development_Dataset/Training/Bipbip/Mais/Images/Bipbip_mais_im_03511patch1.jpg  \n",
            "  inflating: Development_Dataset/Training/Bipbip/Mais/Images/Bipbip_mais_im_03511patch2.jpg  \n",
            "  inflating: Development_Dataset/Training/Bipbip/Mais/Images/Bipbip_mais_im_03511patch3.jpg  \n",
            "  inflating: Development_Dataset/Training/Bipbip/Mais/Images/Bipbip_mais_im_03511patch4.jpg  \n",
            "  inflating: Development_Dataset/Training/Bipbip/Mais/Images/Bipbip_mais_im_03511patch5.jpg  \n",
            "  inflating: Development_Dataset/Training/Bipbip/Mais/Images/Bipbip_mais_im_03511patch6.jpg  \n",
            "  inflating: Development_Dataset/Training/Bipbip/Mais/Images/Bipbip_mais_im_03511patch7.jpg  \n",
            "  inflating: Development_Dataset/Training/Bipbip/Mais/Images/Bipbip_mais_im_03581patch0.jpg  \n",
            "  inflating: Development_Dataset/Training/Bipbip/Mais/Images/Bipbip_mais_im_03581patch1.jpg  \n",
            "  inflating: Development_Dataset/Training/Bipbip/Mais/Images/Bipbip_mais_im_03581patch2.jpg  \n",
            "  inflating: Development_Dataset/Training/Bipbip/Mais/Images/Bipbip_mais_im_03581patch3.jpg  \n",
            "  inflating: Development_Dataset/Training/Bipbip/Mais/Images/Bipbip_mais_im_03581patch4.jpg  \n",
            "  inflating: Development_Dataset/Training/Bipbip/Mais/Images/Bipbip_mais_im_03581patch5.jpg  \n",
            "  inflating: Development_Dataset/Training/Bipbip/Mais/Images/Bipbip_mais_im_03581patch6.jpg  \n",
            "  inflating: Development_Dataset/Training/Bipbip/Mais/Images/Bipbip_mais_im_03581patch7.jpg  \n",
            "  inflating: Development_Dataset/Training/Bipbip/Mais/Images/Bipbip_mais_im_03691patch0.jpg  \n",
            "  inflating: Development_Dataset/Training/Bipbip/Mais/Images/Bipbip_mais_im_03691patch1.jpg  \n",
            "  inflating: Development_Dataset/Training/Bipbip/Mais/Images/Bipbip_mais_im_03691patch2.jpg  \n",
            "  inflating: Development_Dataset/Training/Bipbip/Mais/Images/Bipbip_mais_im_03691patch3.jpg  \n",
            "  inflating: Development_Dataset/Training/Bipbip/Mais/Images/Bipbip_mais_im_03691patch4.jpg  \n",
            "  inflating: Development_Dataset/Training/Bipbip/Mais/Images/Bipbip_mais_im_03691patch5.jpg  \n",
            "  inflating: Development_Dataset/Training/Bipbip/Mais/Images/Bipbip_mais_im_03691patch6.jpg  \n",
            "  inflating: Development_Dataset/Training/Bipbip/Mais/Images/Bipbip_mais_im_03691patch7.jpg  \n",
            "  inflating: Development_Dataset/Training/Bipbip/Mais/Images/Bipbip_mais_im_03751patch0.jpg  \n",
            "  inflating: Development_Dataset/Training/Bipbip/Mais/Images/Bipbip_mais_im_03751patch1.jpg  \n",
            "  inflating: Development_Dataset/Training/Bipbip/Mais/Images/Bipbip_mais_im_03751patch2.jpg  \n",
            "  inflating: Development_Dataset/Training/Bipbip/Mais/Images/Bipbip_mais_im_03751patch3.jpg  \n",
            "  inflating: Development_Dataset/Training/Bipbip/Mais/Images/Bipbip_mais_im_03751patch4.jpg  \n",
            "  inflating: Development_Dataset/Training/Bipbip/Mais/Images/Bipbip_mais_im_03751patch5.jpg  \n",
            "  inflating: Development_Dataset/Training/Bipbip/Mais/Images/Bipbip_mais_im_03751patch6.jpg  \n",
            "  inflating: Development_Dataset/Training/Bipbip/Mais/Images/Bipbip_mais_im_03751patch7.jpg  \n",
            "  inflating: Development_Dataset/Training/Bipbip/Mais/Images/Bipbip_mais_im_03811patch0.jpg  \n",
            "  inflating: Development_Dataset/Training/Bipbip/Mais/Images/Bipbip_mais_im_03811patch1.jpg  \n",
            "  inflating: Development_Dataset/Training/Bipbip/Mais/Images/Bipbip_mais_im_03811patch2.jpg  \n",
            "  inflating: Development_Dataset/Training/Bipbip/Mais/Images/Bipbip_mais_im_03811patch3.jpg  \n",
            "  inflating: Development_Dataset/Training/Bipbip/Mais/Images/Bipbip_mais_im_03811patch4.jpg  \n",
            "  inflating: Development_Dataset/Training/Bipbip/Mais/Images/Bipbip_mais_im_03811patch5.jpg  \n",
            "  inflating: Development_Dataset/Training/Bipbip/Mais/Images/Bipbip_mais_im_03811patch6.jpg  \n",
            "  inflating: Development_Dataset/Training/Bipbip/Mais/Images/Bipbip_mais_im_03811patch7.jpg  \n",
            "  inflating: Development_Dataset/Training/Bipbip/Mais/Images/Bipbip_mais_im_03871patch0.jpg  \n",
            "  inflating: Development_Dataset/Training/Bipbip/Mais/Images/Bipbip_mais_im_03871patch1.jpg  \n",
            "  inflating: Development_Dataset/Training/Bipbip/Mais/Images/Bipbip_mais_im_03871patch2.jpg  \n",
            "  inflating: Development_Dataset/Training/Bipbip/Mais/Images/Bipbip_mais_im_03871patch3.jpg  \n",
            "  inflating: Development_Dataset/Training/Bipbip/Mais/Images/Bipbip_mais_im_03871patch4.jpg  \n",
            "  inflating: Development_Dataset/Training/Bipbip/Mais/Images/Bipbip_mais_im_03871patch5.jpg  \n",
            "  inflating: Development_Dataset/Training/Bipbip/Mais/Images/Bipbip_mais_im_03871patch6.jpg  \n",
            "  inflating: Development_Dataset/Training/Bipbip/Mais/Images/Bipbip_mais_im_03871patch7.jpg  \n",
            "  inflating: Development_Dataset/Training/Bipbip/Mais/Images/Bipbip_mais_im_03921patch0.jpg  \n",
            "  inflating: Development_Dataset/Training/Bipbip/Mais/Images/Bipbip_mais_im_03921patch1.jpg  \n",
            "  inflating: Development_Dataset/Training/Bipbip/Mais/Images/Bipbip_mais_im_03921patch2.jpg  \n",
            "  inflating: Development_Dataset/Training/Bipbip/Mais/Images/Bipbip_mais_im_03921patch3.jpg  \n",
            "  inflating: Development_Dataset/Training/Bipbip/Mais/Images/Bipbip_mais_im_03921patch4.jpg  \n",
            "  inflating: Development_Dataset/Training/Bipbip/Mais/Images/Bipbip_mais_im_03921patch5.jpg  \n",
            "  inflating: Development_Dataset/Training/Bipbip/Mais/Images/Bipbip_mais_im_03921patch6.jpg  \n",
            "  inflating: Development_Dataset/Training/Bipbip/Mais/Images/Bipbip_mais_im_03921patch7.jpg  \n",
            "  inflating: Development_Dataset/Training/Bipbip/Mais/Images/Bipbip_mais_im_04031patch0.jpg  \n",
            "  inflating: Development_Dataset/Training/Bipbip/Mais/Images/Bipbip_mais_im_04031patch1.jpg  \n",
            "  inflating: Development_Dataset/Training/Bipbip/Mais/Images/Bipbip_mais_im_04031patch2.jpg  \n",
            "  inflating: Development_Dataset/Training/Bipbip/Mais/Images/Bipbip_mais_im_04031patch3.jpg  \n",
            "  inflating: Development_Dataset/Training/Bipbip/Mais/Images/Bipbip_mais_im_04031patch4.jpg  \n",
            "  inflating: Development_Dataset/Training/Bipbip/Mais/Images/Bipbip_mais_im_04031patch5.jpg  \n",
            "  inflating: Development_Dataset/Training/Bipbip/Mais/Images/Bipbip_mais_im_04031patch6.jpg  \n",
            "  inflating: Development_Dataset/Training/Bipbip/Mais/Images/Bipbip_mais_im_04031patch7.jpg  \n",
            "  inflating: Development_Dataset/Training/Bipbip/Mais/Images/Bipbip_mais_im_04501patch0.jpg  \n",
            "  inflating: Development_Dataset/Training/Bipbip/Mais/Images/Bipbip_mais_im_04501patch1.jpg  \n",
            "  inflating: Development_Dataset/Training/Bipbip/Mais/Images/Bipbip_mais_im_04501patch2.jpg  \n",
            "  inflating: Development_Dataset/Training/Bipbip/Mais/Images/Bipbip_mais_im_04501patch3.jpg  \n",
            "  inflating: Development_Dataset/Training/Bipbip/Mais/Images/Bipbip_mais_im_04501patch4.jpg  \n",
            "  inflating: Development_Dataset/Training/Bipbip/Mais/Images/Bipbip_mais_im_04501patch5.jpg  \n",
            "  inflating: Development_Dataset/Training/Bipbip/Mais/Images/Bipbip_mais_im_04501patch6.jpg  \n",
            "  inflating: Development_Dataset/Training/Bipbip/Mais/Images/Bipbip_mais_im_04501patch7.jpg  \n",
            "  inflating: Development_Dataset/Training/Bipbip/Mais/Images/Bipbip_mais_im_04561patch0.jpg  \n",
            "  inflating: Development_Dataset/Training/Bipbip/Mais/Images/Bipbip_mais_im_04561patch1.jpg  \n",
            "  inflating: Development_Dataset/Training/Bipbip/Mais/Images/Bipbip_mais_im_04561patch2.jpg  \n",
            "  inflating: Development_Dataset/Training/Bipbip/Mais/Images/Bipbip_mais_im_04561patch3.jpg  \n",
            "  inflating: Development_Dataset/Training/Bipbip/Mais/Images/Bipbip_mais_im_04561patch4.jpg  \n",
            "  inflating: Development_Dataset/Training/Bipbip/Mais/Images/Bipbip_mais_im_04561patch5.jpg  \n",
            "  inflating: Development_Dataset/Training/Bipbip/Mais/Images/Bipbip_mais_im_04561patch6.jpg  \n",
            "  inflating: Development_Dataset/Training/Bipbip/Mais/Images/Bipbip_mais_im_04561patch7.jpg  \n",
            "  inflating: Development_Dataset/Training/Bipbip/Mais/Images/Bipbip_mais_im_04621patch0.jpg  \n",
            "  inflating: Development_Dataset/Training/Bipbip/Mais/Images/Bipbip_mais_im_04621patch1.jpg  \n",
            "  inflating: Development_Dataset/Training/Bipbip/Mais/Images/Bipbip_mais_im_04621patch2.jpg  \n",
            "  inflating: Development_Dataset/Training/Bipbip/Mais/Images/Bipbip_mais_im_04621patch3.jpg  \n",
            "  inflating: Development_Dataset/Training/Bipbip/Mais/Images/Bipbip_mais_im_04621patch4.jpg  \n",
            "  inflating: Development_Dataset/Training/Bipbip/Mais/Images/Bipbip_mais_im_04621patch5.jpg  \n",
            "  inflating: Development_Dataset/Training/Bipbip/Mais/Images/Bipbip_mais_im_04621patch6.jpg  \n",
            "  inflating: Development_Dataset/Training/Bipbip/Mais/Images/Bipbip_mais_im_04621patch7.jpg  \n",
            "  inflating: Development_Dataset/Training/Bipbip/Mais/Images/Bipbip_mais_im_04671patch0.jpg  \n",
            "  inflating: Development_Dataset/Training/Bipbip/Mais/Images/Bipbip_mais_im_04671patch1.jpg  \n",
            "  inflating: Development_Dataset/Training/Bipbip/Mais/Images/Bipbip_mais_im_04671patch2.jpg  \n",
            "  inflating: Development_Dataset/Training/Bipbip/Mais/Images/Bipbip_mais_im_04671patch3.jpg  \n",
            "  inflating: Development_Dataset/Training/Bipbip/Mais/Images/Bipbip_mais_im_04671patch4.jpg  \n",
            "  inflating: Development_Dataset/Training/Bipbip/Mais/Images/Bipbip_mais_im_04671patch5.jpg  \n",
            "  inflating: Development_Dataset/Training/Bipbip/Mais/Images/Bipbip_mais_im_04671patch6.jpg  \n",
            "  inflating: Development_Dataset/Training/Bipbip/Mais/Images/Bipbip_mais_im_04671patch7.jpg  \n",
            "  inflating: Development_Dataset/Training/Bipbip/Mais/Images/Bipbip_mais_im_04781patch0.jpg  \n",
            "  inflating: Development_Dataset/Training/Bipbip/Mais/Images/Bipbip_mais_im_04781patch1.jpg  \n",
            "  inflating: Development_Dataset/Training/Bipbip/Mais/Images/Bipbip_mais_im_04781patch2.jpg  \n",
            "  inflating: Development_Dataset/Training/Bipbip/Mais/Images/Bipbip_mais_im_04781patch3.jpg  \n",
            "  inflating: Development_Dataset/Training/Bipbip/Mais/Images/Bipbip_mais_im_04781patch4.jpg  \n",
            "  inflating: Development_Dataset/Training/Bipbip/Mais/Images/Bipbip_mais_im_04781patch5.jpg  \n",
            "  inflating: Development_Dataset/Training/Bipbip/Mais/Images/Bipbip_mais_im_04781patch6.jpg  \n",
            "  inflating: Development_Dataset/Training/Bipbip/Mais/Images/Bipbip_mais_im_04781patch7.jpg  \n",
            "  inflating: Development_Dataset/Training/Bipbip/Mais/Images/Bipbip_mais_im_04911patch0.jpg  \n",
            "  inflating: Development_Dataset/Training/Bipbip/Mais/Images/Bipbip_mais_im_04911patch1.jpg  \n",
            "  inflating: Development_Dataset/Training/Bipbip/Mais/Images/Bipbip_mais_im_04911patch2.jpg  \n",
            "  inflating: Development_Dataset/Training/Bipbip/Mais/Images/Bipbip_mais_im_04911patch3.jpg  \n",
            "  inflating: Development_Dataset/Training/Bipbip/Mais/Images/Bipbip_mais_im_04911patch4.jpg  \n",
            "  inflating: Development_Dataset/Training/Bipbip/Mais/Images/Bipbip_mais_im_04911patch5.jpg  \n",
            "  inflating: Development_Dataset/Training/Bipbip/Mais/Images/Bipbip_mais_im_04911patch6.jpg  \n",
            "  inflating: Development_Dataset/Training/Bipbip/Mais/Images/Bipbip_mais_im_04911patch7.jpg  \n",
            "  inflating: Development_Dataset/Training/Bipbip/Mais/Images/Bipbip_mais_im_05031patch0.jpg  \n",
            "  inflating: Development_Dataset/Training/Bipbip/Mais/Images/Bipbip_mais_im_05031patch1.jpg  \n",
            "  inflating: Development_Dataset/Training/Bipbip/Mais/Images/Bipbip_mais_im_05031patch2.jpg  \n",
            "  inflating: Development_Dataset/Training/Bipbip/Mais/Images/Bipbip_mais_im_05031patch3.jpg  \n",
            "  inflating: Development_Dataset/Training/Bipbip/Mais/Images/Bipbip_mais_im_05031patch4.jpg  \n",
            "  inflating: Development_Dataset/Training/Bipbip/Mais/Images/Bipbip_mais_im_05031patch5.jpg  \n",
            "  inflating: Development_Dataset/Training/Bipbip/Mais/Images/Bipbip_mais_im_05031patch6.jpg  \n",
            "  inflating: Development_Dataset/Training/Bipbip/Mais/Images/Bipbip_mais_im_05031patch7.jpg  \n",
            "  inflating: Development_Dataset/Training/Bipbip/Mais/Images/Bipbip_mais_im_05221patch0.jpg  \n",
            "  inflating: Development_Dataset/Training/Bipbip/Mais/Images/Bipbip_mais_im_05221patch1.jpg  \n",
            "  inflating: Development_Dataset/Training/Bipbip/Mais/Images/Bipbip_mais_im_05221patch2.jpg  \n",
            "  inflating: Development_Dataset/Training/Bipbip/Mais/Images/Bipbip_mais_im_05221patch3.jpg  \n",
            "  inflating: Development_Dataset/Training/Bipbip/Mais/Images/Bipbip_mais_im_05221patch4.jpg  \n",
            "  inflating: Development_Dataset/Training/Bipbip/Mais/Images/Bipbip_mais_im_05221patch5.jpg  \n",
            "  inflating: Development_Dataset/Training/Bipbip/Mais/Images/Bipbip_mais_im_05221patch6.jpg  \n",
            "  inflating: Development_Dataset/Training/Bipbip/Mais/Images/Bipbip_mais_im_05221patch7.jpg  \n",
            "  inflating: Development_Dataset/Training/Bipbip/Mais/Images/Bipbip_mais_im_05281patch0.jpg  \n",
            "  inflating: Development_Dataset/Training/Bipbip/Mais/Images/Bipbip_mais_im_05281patch1.jpg  \n",
            "  inflating: Development_Dataset/Training/Bipbip/Mais/Images/Bipbip_mais_im_05281patch2.jpg  \n",
            "  inflating: Development_Dataset/Training/Bipbip/Mais/Images/Bipbip_mais_im_05281patch3.jpg  \n",
            "  inflating: Development_Dataset/Training/Bipbip/Mais/Images/Bipbip_mais_im_05281patch4.jpg  \n",
            "  inflating: Development_Dataset/Training/Bipbip/Mais/Images/Bipbip_mais_im_05281patch5.jpg  \n",
            "  inflating: Development_Dataset/Training/Bipbip/Mais/Images/Bipbip_mais_im_05281patch6.jpg  \n",
            "  inflating: Development_Dataset/Training/Bipbip/Mais/Images/Bipbip_mais_im_05281patch7.jpg  \n",
            "  inflating: Development_Dataset/Training/Bipbip/Mais/Images/Bipbip_mais_im_05381patch0.jpg  \n",
            "  inflating: Development_Dataset/Training/Bipbip/Mais/Images/Bipbip_mais_im_05381patch1.jpg  \n",
            "  inflating: Development_Dataset/Training/Bipbip/Mais/Images/Bipbip_mais_im_05381patch2.jpg  \n",
            "  inflating: Development_Dataset/Training/Bipbip/Mais/Images/Bipbip_mais_im_05381patch3.jpg  \n",
            "  inflating: Development_Dataset/Training/Bipbip/Mais/Images/Bipbip_mais_im_05381patch4.jpg  \n",
            "  inflating: Development_Dataset/Training/Bipbip/Mais/Images/Bipbip_mais_im_05381patch5.jpg  \n",
            "  inflating: Development_Dataset/Training/Bipbip/Mais/Images/Bipbip_mais_im_05381patch6.jpg  \n",
            "  inflating: Development_Dataset/Training/Bipbip/Mais/Images/Bipbip_mais_im_05381patch7.jpg  \n",
            "  inflating: Development_Dataset/Training/Bipbip/Mais/Images/Bipbip_mais_im_05451patch0.jpg  \n",
            "  inflating: Development_Dataset/Training/Bipbip/Mais/Images/Bipbip_mais_im_05451patch1.jpg  \n",
            "  inflating: Development_Dataset/Training/Bipbip/Mais/Images/Bipbip_mais_im_05451patch2.jpg  \n",
            "  inflating: Development_Dataset/Training/Bipbip/Mais/Images/Bipbip_mais_im_05451patch3.jpg  \n",
            "  inflating: Development_Dataset/Training/Bipbip/Mais/Images/Bipbip_mais_im_05451patch4.jpg  \n",
            "  inflating: Development_Dataset/Training/Bipbip/Mais/Images/Bipbip_mais_im_05451patch5.jpg  \n",
            "  inflating: Development_Dataset/Training/Bipbip/Mais/Images/Bipbip_mais_im_05451patch6.jpg  \n",
            "  inflating: Development_Dataset/Training/Bipbip/Mais/Images/Bipbip_mais_im_05451patch7.jpg  \n",
            "  inflating: Development_Dataset/Training/Bipbip/Mais/Images/Bipbip_mais_im_05691patch0.jpg  \n",
            "  inflating: Development_Dataset/Training/Bipbip/Mais/Images/Bipbip_mais_im_05691patch1.jpg  \n",
            "  inflating: Development_Dataset/Training/Bipbip/Mais/Images/Bipbip_mais_im_05691patch2.jpg  \n",
            "  inflating: Development_Dataset/Training/Bipbip/Mais/Images/Bipbip_mais_im_05691patch3.jpg  \n",
            "  inflating: Development_Dataset/Training/Bipbip/Mais/Images/Bipbip_mais_im_05691patch4.jpg  \n",
            "  inflating: Development_Dataset/Training/Bipbip/Mais/Images/Bipbip_mais_im_05691patch5.jpg  \n",
            "  inflating: Development_Dataset/Training/Bipbip/Mais/Images/Bipbip_mais_im_05691patch6.jpg  \n",
            "  inflating: Development_Dataset/Training/Bipbip/Mais/Images/Bipbip_mais_im_05691patch7.jpg  \n",
            "  inflating: Development_Dataset/Training/Bipbip/Mais/Images/Bipbip_mais_im_05801patch0.jpg  \n",
            "  inflating: Development_Dataset/Training/Bipbip/Mais/Images/Bipbip_mais_im_05801patch1.jpg  \n",
            "  inflating: Development_Dataset/Training/Bipbip/Mais/Images/Bipbip_mais_im_05801patch2.jpg  \n",
            "  inflating: Development_Dataset/Training/Bipbip/Mais/Images/Bipbip_mais_im_05801patch3.jpg  \n",
            "  inflating: Development_Dataset/Training/Bipbip/Mais/Images/Bipbip_mais_im_05801patch4.jpg  \n",
            "  inflating: Development_Dataset/Training/Bipbip/Mais/Images/Bipbip_mais_im_05801patch5.jpg  \n",
            "  inflating: Development_Dataset/Training/Bipbip/Mais/Images/Bipbip_mais_im_05801patch6.jpg  \n",
            "  inflating: Development_Dataset/Training/Bipbip/Mais/Images/Bipbip_mais_im_05801patch7.jpg  \n",
            "  inflating: Development_Dataset/Training/Bipbip/Mais/Images/Bipbip_mais_im_05871patch0.jpg  \n",
            "  inflating: Development_Dataset/Training/Bipbip/Mais/Images/Bipbip_mais_im_05871patch1.jpg  \n",
            "  inflating: Development_Dataset/Training/Bipbip/Mais/Images/Bipbip_mais_im_05871patch2.jpg  \n",
            "  inflating: Development_Dataset/Training/Bipbip/Mais/Images/Bipbip_mais_im_05871patch3.jpg  \n",
            "  inflating: Development_Dataset/Training/Bipbip/Mais/Images/Bipbip_mais_im_05871patch4.jpg  \n",
            "  inflating: Development_Dataset/Training/Bipbip/Mais/Images/Bipbip_mais_im_05871patch5.jpg  \n",
            "  inflating: Development_Dataset/Training/Bipbip/Mais/Images/Bipbip_mais_im_05871patch6.jpg  \n",
            "  inflating: Development_Dataset/Training/Bipbip/Mais/Images/Bipbip_mais_im_05871patch7.jpg  \n",
            "  inflating: Development_Dataset/Training/Bipbip/Mais/Images/Bipbip_mais_im_06071patch0.jpg  \n",
            "  inflating: Development_Dataset/Training/Bipbip/Mais/Images/Bipbip_mais_im_06071patch1.jpg  \n",
            "  inflating: Development_Dataset/Training/Bipbip/Mais/Images/Bipbip_mais_im_06071patch2.jpg  \n",
            "  inflating: Development_Dataset/Training/Bipbip/Mais/Images/Bipbip_mais_im_06071patch3.jpg  \n",
            "  inflating: Development_Dataset/Training/Bipbip/Mais/Images/Bipbip_mais_im_06071patch4.jpg  \n",
            "  inflating: Development_Dataset/Training/Bipbip/Mais/Images/Bipbip_mais_im_06071patch5.jpg  \n",
            "  inflating: Development_Dataset/Training/Bipbip/Mais/Images/Bipbip_mais_im_06071patch6.jpg  \n",
            "  inflating: Development_Dataset/Training/Bipbip/Mais/Images/Bipbip_mais_im_06071patch7.jpg  \n",
            "  inflating: Development_Dataset/Training/Bipbip/Mais/Images/Bipbip_mais_im_06141patch0.jpg  \n",
            "  inflating: Development_Dataset/Training/Bipbip/Mais/Images/Bipbip_mais_im_06141patch1.jpg  \n",
            "  inflating: Development_Dataset/Training/Bipbip/Mais/Images/Bipbip_mais_im_06141patch2.jpg  \n",
            "  inflating: Development_Dataset/Training/Bipbip/Mais/Images/Bipbip_mais_im_06141patch3.jpg  \n",
            "  inflating: Development_Dataset/Training/Bipbip/Mais/Images/Bipbip_mais_im_06141patch4.jpg  \n",
            "  inflating: Development_Dataset/Training/Bipbip/Mais/Images/Bipbip_mais_im_06141patch5.jpg  \n",
            "  inflating: Development_Dataset/Training/Bipbip/Mais/Images/Bipbip_mais_im_06141patch6.jpg  \n",
            "  inflating: Development_Dataset/Training/Bipbip/Mais/Images/Bipbip_mais_im_06141patch7.jpg  \n",
            "  inflating: Development_Dataset/Training/Bipbip/Mais/Images/Bipbip_mais_im_06541patch0.jpg  \n",
            "  inflating: Development_Dataset/Training/Bipbip/Mais/Images/Bipbip_mais_im_06541patch1.jpg  \n",
            "  inflating: Development_Dataset/Training/Bipbip/Mais/Images/Bipbip_mais_im_06541patch2.jpg  \n",
            "  inflating: Development_Dataset/Training/Bipbip/Mais/Images/Bipbip_mais_im_06541patch3.jpg  \n",
            "  inflating: Development_Dataset/Training/Bipbip/Mais/Images/Bipbip_mais_im_06541patch4.jpg  \n",
            "  inflating: Development_Dataset/Training/Bipbip/Mais/Images/Bipbip_mais_im_06541patch5.jpg  \n",
            "  inflating: Development_Dataset/Training/Bipbip/Mais/Images/Bipbip_mais_im_06541patch6.jpg  \n",
            "  inflating: Development_Dataset/Training/Bipbip/Mais/Images/Bipbip_mais_im_06541patch7.jpg  \n",
            "  inflating: Development_Dataset/Training/Bipbip/Mais/Images/Bipbip_mais_im_06691patch0.jpg  \n",
            "  inflating: Development_Dataset/Training/Bipbip/Mais/Images/Bipbip_mais_im_06691patch1.jpg  \n",
            "  inflating: Development_Dataset/Training/Bipbip/Mais/Images/Bipbip_mais_im_06691patch2.jpg  \n",
            "  inflating: Development_Dataset/Training/Bipbip/Mais/Images/Bipbip_mais_im_06691patch3.jpg  \n",
            "  inflating: Development_Dataset/Training/Bipbip/Mais/Images/Bipbip_mais_im_06691patch4.jpg  \n",
            "  inflating: Development_Dataset/Training/Bipbip/Mais/Images/Bipbip_mais_im_06691patch5.jpg  \n",
            "  inflating: Development_Dataset/Training/Bipbip/Mais/Images/Bipbip_mais_im_06691patch6.jpg  \n",
            "  inflating: Development_Dataset/Training/Bipbip/Mais/Images/Bipbip_mais_im_06691patch7.jpg  \n",
            "  inflating: Development_Dataset/Training/Bipbip/Mais/Images/Bipbip_mais_im_06961patch0.jpg  \n",
            "  inflating: Development_Dataset/Training/Bipbip/Mais/Images/Bipbip_mais_im_06961patch1.jpg  \n",
            "  inflating: Development_Dataset/Training/Bipbip/Mais/Images/Bipbip_mais_im_06961patch2.jpg  \n",
            "  inflating: Development_Dataset/Training/Bipbip/Mais/Images/Bipbip_mais_im_06961patch3.jpg  \n",
            "  inflating: Development_Dataset/Training/Bipbip/Mais/Images/Bipbip_mais_im_06961patch4.jpg  \n",
            "  inflating: Development_Dataset/Training/Bipbip/Mais/Images/Bipbip_mais_im_06961patch5.jpg  \n",
            "  inflating: Development_Dataset/Training/Bipbip/Mais/Images/Bipbip_mais_im_06961patch6.jpg  \n",
            "  inflating: Development_Dataset/Training/Bipbip/Mais/Images/Bipbip_mais_im_06961patch7.jpg  \n",
            "  inflating: Development_Dataset/Training/Bipbip/Mais/Images/Bipbip_mais_im_07041patch0.jpg  \n",
            "  inflating: Development_Dataset/Training/Bipbip/Mais/Images/Bipbip_mais_im_07041patch1.jpg  \n",
            "  inflating: Development_Dataset/Training/Bipbip/Mais/Images/Bipbip_mais_im_07041patch2.jpg  \n",
            "  inflating: Development_Dataset/Training/Bipbip/Mais/Images/Bipbip_mais_im_07041patch3.jpg  \n",
            "  inflating: Development_Dataset/Training/Bipbip/Mais/Images/Bipbip_mais_im_07041patch4.jpg  \n",
            "  inflating: Development_Dataset/Training/Bipbip/Mais/Images/Bipbip_mais_im_07041patch5.jpg  \n",
            "  inflating: Development_Dataset/Training/Bipbip/Mais/Images/Bipbip_mais_im_07041patch6.jpg  \n",
            "  inflating: Development_Dataset/Training/Bipbip/Mais/Images/Bipbip_mais_im_07041patch7.jpg  \n",
            "  inflating: Development_Dataset/Training/Bipbip/Mais/Images/Bipbip_mais_im_07181patch0.jpg  \n",
            "  inflating: Development_Dataset/Training/Bipbip/Mais/Images/Bipbip_mais_im_07181patch1.jpg  \n",
            "  inflating: Development_Dataset/Training/Bipbip/Mais/Images/Bipbip_mais_im_07181patch2.jpg  \n",
            "  inflating: Development_Dataset/Training/Bipbip/Mais/Images/Bipbip_mais_im_07181patch3.jpg  \n",
            "  inflating: Development_Dataset/Training/Bipbip/Mais/Images/Bipbip_mais_im_07181patch4.jpg  \n",
            "  inflating: Development_Dataset/Training/Bipbip/Mais/Images/Bipbip_mais_im_07181patch5.jpg  \n",
            "  inflating: Development_Dataset/Training/Bipbip/Mais/Images/Bipbip_mais_im_07181patch6.jpg  \n",
            "  inflating: Development_Dataset/Training/Bipbip/Mais/Images/Bipbip_mais_im_07181patch7.jpg  \n",
            "  inflating: Development_Dataset/Training/Bipbip/Mais/Images/Bipbip_mais_im_07271patch0.jpg  \n",
            "  inflating: Development_Dataset/Training/Bipbip/Mais/Images/Bipbip_mais_im_07271patch1.jpg  \n",
            "  inflating: Development_Dataset/Training/Bipbip/Mais/Images/Bipbip_mais_im_07271patch2.jpg  \n",
            "  inflating: Development_Dataset/Training/Bipbip/Mais/Images/Bipbip_mais_im_07271patch3.jpg  \n",
            "  inflating: Development_Dataset/Training/Bipbip/Mais/Images/Bipbip_mais_im_07271patch4.jpg  \n",
            "  inflating: Development_Dataset/Training/Bipbip/Mais/Images/Bipbip_mais_im_07271patch5.jpg  \n",
            "  inflating: Development_Dataset/Training/Bipbip/Mais/Images/Bipbip_mais_im_07271patch6.jpg  \n",
            "  inflating: Development_Dataset/Training/Bipbip/Mais/Images/Bipbip_mais_im_07271patch7.jpg  \n",
            "  inflating: Development_Dataset/Training/Bipbip/Mais/Images/Bipbip_mais_im_07351patch0.jpg  \n",
            "  inflating: Development_Dataset/Training/Bipbip/Mais/Images/Bipbip_mais_im_07351patch1.jpg  \n",
            "  inflating: Development_Dataset/Training/Bipbip/Mais/Images/Bipbip_mais_im_07351patch2.jpg  \n",
            "  inflating: Development_Dataset/Training/Bipbip/Mais/Images/Bipbip_mais_im_07351patch3.jpg  \n",
            "  inflating: Development_Dataset/Training/Bipbip/Mais/Images/Bipbip_mais_im_07351patch4.jpg  \n",
            "  inflating: Development_Dataset/Training/Bipbip/Mais/Images/Bipbip_mais_im_07351patch5.jpg  \n",
            "  inflating: Development_Dataset/Training/Bipbip/Mais/Images/Bipbip_mais_im_07351patch6.jpg  \n",
            "  inflating: Development_Dataset/Training/Bipbip/Mais/Images/Bipbip_mais_im_07351patch7.jpg  \n",
            "  inflating: Development_Dataset/Training/Bipbip/Mais/Images/Bipbip_mais_im_07451patch0.jpg  \n",
            "  inflating: Development_Dataset/Training/Bipbip/Mais/Images/Bipbip_mais_im_07451patch1.jpg  \n",
            "  inflating: Development_Dataset/Training/Bipbip/Mais/Images/Bipbip_mais_im_07451patch2.jpg  \n",
            "  inflating: Development_Dataset/Training/Bipbip/Mais/Images/Bipbip_mais_im_07451patch3.jpg  \n",
            "  inflating: Development_Dataset/Training/Bipbip/Mais/Images/Bipbip_mais_im_07451patch4.jpg  \n",
            "  inflating: Development_Dataset/Training/Bipbip/Mais/Images/Bipbip_mais_im_07451patch5.jpg  \n",
            "  inflating: Development_Dataset/Training/Bipbip/Mais/Images/Bipbip_mais_im_07451patch6.jpg  \n",
            "  inflating: Development_Dataset/Training/Bipbip/Mais/Images/Bipbip_mais_im_07451patch7.jpg  \n",
            "  inflating: Development_Dataset/Training/Bipbip/Mais/Images/Bipbip_mais_im_07531patch0.jpg  \n",
            "  inflating: Development_Dataset/Training/Bipbip/Mais/Images/Bipbip_mais_im_07531patch1.jpg  \n",
            "  inflating: Development_Dataset/Training/Bipbip/Mais/Images/Bipbip_mais_im_07531patch2.jpg  \n",
            "  inflating: Development_Dataset/Training/Bipbip/Mais/Images/Bipbip_mais_im_07531patch3.jpg  \n",
            "  inflating: Development_Dataset/Training/Bipbip/Mais/Images/Bipbip_mais_im_07531patch4.jpg  \n",
            "  inflating: Development_Dataset/Training/Bipbip/Mais/Images/Bipbip_mais_im_07531patch5.jpg  \n",
            "  inflating: Development_Dataset/Training/Bipbip/Mais/Images/Bipbip_mais_im_07531patch6.jpg  \n",
            "  inflating: Development_Dataset/Training/Bipbip/Mais/Images/Bipbip_mais_im_07531patch7.jpg  \n",
            "  inflating: Development_Dataset/Training/Bipbip/Mais/Images/Bipbip_mais_im_07761patch0.jpg  \n",
            "  inflating: Development_Dataset/Training/Bipbip/Mais/Images/Bipbip_mais_im_07761patch1.jpg  \n",
            "  inflating: Development_Dataset/Training/Bipbip/Mais/Images/Bipbip_mais_im_07761patch2.jpg  \n",
            "  inflating: Development_Dataset/Training/Bipbip/Mais/Images/Bipbip_mais_im_07761patch3.jpg  \n",
            "  inflating: Development_Dataset/Training/Bipbip/Mais/Images/Bipbip_mais_im_07761patch4.jpg  \n",
            "  inflating: Development_Dataset/Training/Bipbip/Mais/Images/Bipbip_mais_im_07761patch5.jpg  \n",
            "  inflating: Development_Dataset/Training/Bipbip/Mais/Images/Bipbip_mais_im_07761patch6.jpg  \n",
            "  inflating: Development_Dataset/Training/Bipbip/Mais/Images/Bipbip_mais_im_07761patch7.jpg  \n",
            "  inflating: Development_Dataset/Training/Bipbip/Mais/Images/Bipbip_mais_im_07831patch0.jpg  \n",
            "  inflating: Development_Dataset/Training/Bipbip/Mais/Images/Bipbip_mais_im_07831patch1.jpg  \n",
            "  inflating: Development_Dataset/Training/Bipbip/Mais/Images/Bipbip_mais_im_07831patch2.jpg  \n",
            "  inflating: Development_Dataset/Training/Bipbip/Mais/Images/Bipbip_mais_im_07831patch3.jpg  \n",
            "  inflating: Development_Dataset/Training/Bipbip/Mais/Images/Bipbip_mais_im_07831patch4.jpg  \n",
            "  inflating: Development_Dataset/Training/Bipbip/Mais/Images/Bipbip_mais_im_07831patch5.jpg  \n",
            "  inflating: Development_Dataset/Training/Bipbip/Mais/Images/Bipbip_mais_im_07831patch6.jpg  \n",
            "  inflating: Development_Dataset/Training/Bipbip/Mais/Images/Bipbip_mais_im_07831patch7.jpg  \n",
            "  inflating: Development_Dataset/Training/Bipbip/Mais/Images/Bipbip_mais_im_07911patch0.jpg  \n",
            "  inflating: Development_Dataset/Training/Bipbip/Mais/Images/Bipbip_mais_im_07911patch1.jpg  \n",
            "  inflating: Development_Dataset/Training/Bipbip/Mais/Images/Bipbip_mais_im_07911patch2.jpg  \n",
            "  inflating: Development_Dataset/Training/Bipbip/Mais/Images/Bipbip_mais_im_07911patch3.jpg  \n",
            "  inflating: Development_Dataset/Training/Bipbip/Mais/Images/Bipbip_mais_im_07911patch4.jpg  \n",
            "  inflating: Development_Dataset/Training/Bipbip/Mais/Images/Bipbip_mais_im_07911patch5.jpg  \n",
            "  inflating: Development_Dataset/Training/Bipbip/Mais/Images/Bipbip_mais_im_07911patch6.jpg  \n",
            "  inflating: Development_Dataset/Training/Bipbip/Mais/Images/Bipbip_mais_im_07911patch7.jpg  \n",
            "  inflating: Development_Dataset/Training/Bipbip/Mais/Images/Bipbip_mais_im_07991patch0.jpg  \n",
            "  inflating: Development_Dataset/Training/Bipbip/Mais/Images/Bipbip_mais_im_07991patch1.jpg  \n",
            "  inflating: Development_Dataset/Training/Bipbip/Mais/Images/Bipbip_mais_im_07991patch2.jpg  \n",
            "  inflating: Development_Dataset/Training/Bipbip/Mais/Images/Bipbip_mais_im_07991patch3.jpg  \n",
            "  inflating: Development_Dataset/Training/Bipbip/Mais/Images/Bipbip_mais_im_07991patch4.jpg  \n",
            "  inflating: Development_Dataset/Training/Bipbip/Mais/Images/Bipbip_mais_im_07991patch5.jpg  \n",
            "  inflating: Development_Dataset/Training/Bipbip/Mais/Images/Bipbip_mais_im_07991patch6.jpg  \n",
            "  inflating: Development_Dataset/Training/Bipbip/Mais/Images/Bipbip_mais_im_07991patch7.jpg  \n",
            "  inflating: Development_Dataset/Training/Bipbip/Mais/Images/Bipbip_mais_im_08061patch0.jpg  \n",
            "  inflating: Development_Dataset/Training/Bipbip/Mais/Images/Bipbip_mais_im_08061patch1.jpg  \n",
            "  inflating: Development_Dataset/Training/Bipbip/Mais/Images/Bipbip_mais_im_08061patch2.jpg  \n",
            "  inflating: Development_Dataset/Training/Bipbip/Mais/Images/Bipbip_mais_im_08061patch3.jpg  \n",
            "  inflating: Development_Dataset/Training/Bipbip/Mais/Images/Bipbip_mais_im_08061patch4.jpg  \n",
            "  inflating: Development_Dataset/Training/Bipbip/Mais/Images/Bipbip_mais_im_08061patch5.jpg  \n",
            "  inflating: Development_Dataset/Training/Bipbip/Mais/Images/Bipbip_mais_im_08061patch6.jpg  \n",
            "  inflating: Development_Dataset/Training/Bipbip/Mais/Images/Bipbip_mais_im_08061patch7.jpg  \n",
            "  inflating: Development_Dataset/Training/Bipbip/Mais/Images/Bipbip_mais_im_08121patch0.jpg  \n",
            "  inflating: Development_Dataset/Training/Bipbip/Mais/Images/Bipbip_mais_im_08121patch1.jpg  \n",
            "  inflating: Development_Dataset/Training/Bipbip/Mais/Images/Bipbip_mais_im_08121patch2.jpg  \n",
            "  inflating: Development_Dataset/Training/Bipbip/Mais/Images/Bipbip_mais_im_08121patch3.jpg  \n",
            "  inflating: Development_Dataset/Training/Bipbip/Mais/Images/Bipbip_mais_im_08121patch4.jpg  \n",
            "  inflating: Development_Dataset/Training/Bipbip/Mais/Images/Bipbip_mais_im_08121patch5.jpg  \n",
            "  inflating: Development_Dataset/Training/Bipbip/Mais/Images/Bipbip_mais_im_08121patch6.jpg  \n",
            "  inflating: Development_Dataset/Training/Bipbip/Mais/Images/Bipbip_mais_im_08121patch7.jpg  \n",
            "  inflating: Development_Dataset/Training/Bipbip/Mais/Images/Bipbip_mais_im_08261patch0.jpg  \n",
            "  inflating: Development_Dataset/Training/Bipbip/Mais/Images/Bipbip_mais_im_08261patch1.jpg  \n",
            "  inflating: Development_Dataset/Training/Bipbip/Mais/Images/Bipbip_mais_im_08261patch2.jpg  \n",
            "  inflating: Development_Dataset/Training/Bipbip/Mais/Images/Bipbip_mais_im_08261patch3.jpg  \n",
            "  inflating: Development_Dataset/Training/Bipbip/Mais/Images/Bipbip_mais_im_08261patch4.jpg  \n",
            "  inflating: Development_Dataset/Training/Bipbip/Mais/Images/Bipbip_mais_im_08261patch5.jpg  \n",
            "  inflating: Development_Dataset/Training/Bipbip/Mais/Images/Bipbip_mais_im_08261patch6.jpg  \n",
            "  inflating: Development_Dataset/Training/Bipbip/Mais/Images/Bipbip_mais_im_08261patch7.jpg  \n",
            "  inflating: Development_Dataset/Training/Bipbip/Mais/Images/Bipbip_mais_im_08321patch0.jpg  \n",
            "  inflating: Development_Dataset/Training/Bipbip/Mais/Images/Bipbip_mais_im_08321patch1.jpg  \n",
            "  inflating: Development_Dataset/Training/Bipbip/Mais/Images/Bipbip_mais_im_08321patch2.jpg  \n",
            "  inflating: Development_Dataset/Training/Bipbip/Mais/Images/Bipbip_mais_im_08321patch3.jpg  \n",
            "  inflating: Development_Dataset/Training/Bipbip/Mais/Images/Bipbip_mais_im_08321patch4.jpg  \n",
            "  inflating: Development_Dataset/Training/Bipbip/Mais/Images/Bipbip_mais_im_08321patch5.jpg  \n",
            "  inflating: Development_Dataset/Training/Bipbip/Mais/Images/Bipbip_mais_im_08321patch6.jpg  \n",
            "  inflating: Development_Dataset/Training/Bipbip/Mais/Images/Bipbip_mais_im_08321patch7.jpg  \n",
            "  inflating: Development_Dataset/Training/Bipbip/Mais/Images/Bipbip_mais_im_08381patch0.jpg  \n",
            "  inflating: Development_Dataset/Training/Bipbip/Mais/Images/Bipbip_mais_im_08381patch1.jpg  \n",
            "  inflating: Development_Dataset/Training/Bipbip/Mais/Images/Bipbip_mais_im_08381patch2.jpg  \n",
            "  inflating: Development_Dataset/Training/Bipbip/Mais/Images/Bipbip_mais_im_08381patch3.jpg  \n",
            "  inflating: Development_Dataset/Training/Bipbip/Mais/Images/Bipbip_mais_im_08381patch4.jpg  \n",
            "  inflating: Development_Dataset/Training/Bipbip/Mais/Images/Bipbip_mais_im_08381patch5.jpg  \n",
            "  inflating: Development_Dataset/Training/Bipbip/Mais/Images/Bipbip_mais_im_08381patch6.jpg  \n",
            "  inflating: Development_Dataset/Training/Bipbip/Mais/Images/Bipbip_mais_im_08381patch7.jpg  \n",
            "  inflating: Development_Dataset/Training/Bipbip/Mais/Images/Bipbip_mais_im_08441patch0.jpg  \n",
            "  inflating: Development_Dataset/Training/Bipbip/Mais/Images/Bipbip_mais_im_08441patch1.jpg  \n",
            "  inflating: Development_Dataset/Training/Bipbip/Mais/Images/Bipbip_mais_im_08441patch2.jpg  \n",
            "  inflating: Development_Dataset/Training/Bipbip/Mais/Images/Bipbip_mais_im_08441patch3.jpg  \n",
            "  inflating: Development_Dataset/Training/Bipbip/Mais/Images/Bipbip_mais_im_08441patch4.jpg  \n",
            "  inflating: Development_Dataset/Training/Bipbip/Mais/Images/Bipbip_mais_im_08441patch5.jpg  \n",
            "  inflating: Development_Dataset/Training/Bipbip/Mais/Images/Bipbip_mais_im_08441patch6.jpg  \n",
            "  inflating: Development_Dataset/Training/Bipbip/Mais/Images/Bipbip_mais_im_08441patch7.jpg  \n",
            "  inflating: Development_Dataset/Training/Bipbip/Mais/Images/Bipbip_mais_im_08511patch0.jpg  \n",
            "  inflating: Development_Dataset/Training/Bipbip/Mais/Images/Bipbip_mais_im_08511patch1.jpg  \n",
            "  inflating: Development_Dataset/Training/Bipbip/Mais/Images/Bipbip_mais_im_08511patch2.jpg  \n",
            "  inflating: Development_Dataset/Training/Bipbip/Mais/Images/Bipbip_mais_im_08511patch3.jpg  \n",
            "  inflating: Development_Dataset/Training/Bipbip/Mais/Images/Bipbip_mais_im_08511patch4.jpg  \n",
            "  inflating: Development_Dataset/Training/Bipbip/Mais/Images/Bipbip_mais_im_08511patch5.jpg  \n",
            "  inflating: Development_Dataset/Training/Bipbip/Mais/Images/Bipbip_mais_im_08511patch6.jpg  \n",
            "  inflating: Development_Dataset/Training/Bipbip/Mais/Images/Bipbip_mais_im_08511patch7.jpg  \n",
            "  inflating: Development_Dataset/Training/Bipbip/Mais/Images/Bipbip_mais_im_08581patch0.jpg  \n",
            "  inflating: Development_Dataset/Training/Bipbip/Mais/Images/Bipbip_mais_im_08581patch1.jpg  \n",
            "  inflating: Development_Dataset/Training/Bipbip/Mais/Images/Bipbip_mais_im_08581patch2.jpg  \n",
            "  inflating: Development_Dataset/Training/Bipbip/Mais/Images/Bipbip_mais_im_08581patch3.jpg  \n",
            "  inflating: Development_Dataset/Training/Bipbip/Mais/Images/Bipbip_mais_im_08581patch4.jpg  \n",
            "  inflating: Development_Dataset/Training/Bipbip/Mais/Images/Bipbip_mais_im_08581patch5.jpg  \n",
            "  inflating: Development_Dataset/Training/Bipbip/Mais/Images/Bipbip_mais_im_08581patch6.jpg  \n",
            "  inflating: Development_Dataset/Training/Bipbip/Mais/Images/Bipbip_mais_im_08581patch7.jpg  \n",
            "  inflating: Development_Dataset/Training/Bipbip/Mais/Images/Bipbip_mais_im_08661patch0.jpg  \n",
            "  inflating: Development_Dataset/Training/Bipbip/Mais/Images/Bipbip_mais_im_08661patch1.jpg  \n",
            "  inflating: Development_Dataset/Training/Bipbip/Mais/Images/Bipbip_mais_im_08661patch2.jpg  \n",
            "  inflating: Development_Dataset/Training/Bipbip/Mais/Images/Bipbip_mais_im_08661patch3.jpg  \n",
            "  inflating: Development_Dataset/Training/Bipbip/Mais/Images/Bipbip_mais_im_08661patch4.jpg  \n",
            "  inflating: Development_Dataset/Training/Bipbip/Mais/Images/Bipbip_mais_im_08661patch5.jpg  \n",
            "  inflating: Development_Dataset/Training/Bipbip/Mais/Images/Bipbip_mais_im_08661patch6.jpg  \n",
            "  inflating: Development_Dataset/Training/Bipbip/Mais/Images/Bipbip_mais_im_08661patch7.jpg  \n",
            "  inflating: Development_Dataset/Training/Bipbip/Mais/Images/Bipbip_mais_im_08731patch0.jpg  \n",
            "  inflating: Development_Dataset/Training/Bipbip/Mais/Images/Bipbip_mais_im_08731patch1.jpg  \n",
            "  inflating: Development_Dataset/Training/Bipbip/Mais/Images/Bipbip_mais_im_08731patch2.jpg  \n",
            "  inflating: Development_Dataset/Training/Bipbip/Mais/Images/Bipbip_mais_im_08731patch3.jpg  \n",
            "  inflating: Development_Dataset/Training/Bipbip/Mais/Images/Bipbip_mais_im_08731patch4.jpg  \n",
            "  inflating: Development_Dataset/Training/Bipbip/Mais/Images/Bipbip_mais_im_08731patch5.jpg  \n",
            "  inflating: Development_Dataset/Training/Bipbip/Mais/Images/Bipbip_mais_im_08731patch6.jpg  \n",
            "  inflating: Development_Dataset/Training/Bipbip/Mais/Images/Bipbip_mais_im_08731patch7.jpg  \n",
            "  inflating: Development_Dataset/Training/Bipbip/Mais/Images/Bipbip_mais_im_08811patch0.jpg  \n",
            "  inflating: Development_Dataset/Training/Bipbip/Mais/Images/Bipbip_mais_im_08811patch1.jpg  \n",
            "  inflating: Development_Dataset/Training/Bipbip/Mais/Images/Bipbip_mais_im_08811patch2.jpg  \n",
            "  inflating: Development_Dataset/Training/Bipbip/Mais/Images/Bipbip_mais_im_08811patch3.jpg  \n",
            "  inflating: Development_Dataset/Training/Bipbip/Mais/Images/Bipbip_mais_im_08811patch4.jpg  \n",
            "  inflating: Development_Dataset/Training/Bipbip/Mais/Images/Bipbip_mais_im_08811patch5.jpg  \n",
            "  inflating: Development_Dataset/Training/Bipbip/Mais/Images/Bipbip_mais_im_08811patch6.jpg  \n",
            "  inflating: Development_Dataset/Training/Bipbip/Mais/Images/Bipbip_mais_im_08811patch7.jpg  \n",
            "  inflating: Development_Dataset/Training/Bipbip/Mais/Images/Bipbip_mais_im_09231patch0.jpg  \n",
            "  inflating: Development_Dataset/Training/Bipbip/Mais/Images/Bipbip_mais_im_09231patch1.jpg  \n",
            "  inflating: Development_Dataset/Training/Bipbip/Mais/Images/Bipbip_mais_im_09231patch2.jpg  \n",
            "  inflating: Development_Dataset/Training/Bipbip/Mais/Images/Bipbip_mais_im_09231patch3.jpg  \n",
            "  inflating: Development_Dataset/Training/Bipbip/Mais/Images/Bipbip_mais_im_09231patch4.jpg  \n",
            "  inflating: Development_Dataset/Training/Bipbip/Mais/Images/Bipbip_mais_im_09231patch5.jpg  \n",
            "  inflating: Development_Dataset/Training/Bipbip/Mais/Images/Bipbip_mais_im_09231patch6.jpg  \n",
            "  inflating: Development_Dataset/Training/Bipbip/Mais/Images/Bipbip_mais_im_09231patch7.jpg  \n",
            "  inflating: Development_Dataset/Training/Bipbip/Mais/Images/Bipbip_mais_im_09311patch0.jpg  \n",
            "  inflating: Development_Dataset/Training/Bipbip/Mais/Images/Bipbip_mais_im_09311patch1.jpg  \n",
            "  inflating: Development_Dataset/Training/Bipbip/Mais/Images/Bipbip_mais_im_09311patch2.jpg  \n",
            "  inflating: Development_Dataset/Training/Bipbip/Mais/Images/Bipbip_mais_im_09311patch3.jpg  \n",
            "  inflating: Development_Dataset/Training/Bipbip/Mais/Images/Bipbip_mais_im_09311patch4.jpg  \n",
            "  inflating: Development_Dataset/Training/Bipbip/Mais/Images/Bipbip_mais_im_09311patch5.jpg  \n",
            "  inflating: Development_Dataset/Training/Bipbip/Mais/Images/Bipbip_mais_im_09311patch6.jpg  \n",
            "  inflating: Development_Dataset/Training/Bipbip/Mais/Images/Bipbip_mais_im_09311patch7.jpg  \n",
            "  inflating: Development_Dataset/Training/Bipbip/Mais/Images/Bipbip_mais_im_09501patch0.jpg  \n",
            "  inflating: Development_Dataset/Training/Bipbip/Mais/Images/Bipbip_mais_im_09501patch1.jpg  \n",
            "  inflating: Development_Dataset/Training/Bipbip/Mais/Images/Bipbip_mais_im_09501patch2.jpg  \n",
            "  inflating: Development_Dataset/Training/Bipbip/Mais/Images/Bipbip_mais_im_09501patch3.jpg  \n",
            "  inflating: Development_Dataset/Training/Bipbip/Mais/Images/Bipbip_mais_im_09501patch4.jpg  \n",
            "  inflating: Development_Dataset/Training/Bipbip/Mais/Images/Bipbip_mais_im_09501patch5.jpg  \n",
            "  inflating: Development_Dataset/Training/Bipbip/Mais/Images/Bipbip_mais_im_09501patch6.jpg  \n",
            "  inflating: Development_Dataset/Training/Bipbip/Mais/Images/Bipbip_mais_im_09501patch7.jpg  \n",
            "  inflating: Development_Dataset/Training/Bipbip/Mais/Images/Bipbip_mais_im_09641patch0.jpg  \n",
            "  inflating: Development_Dataset/Training/Bipbip/Mais/Images/Bipbip_mais_im_09641patch1.jpg  \n",
            "  inflating: Development_Dataset/Training/Bipbip/Mais/Images/Bipbip_mais_im_09641patch2.jpg  \n",
            "  inflating: Development_Dataset/Training/Bipbip/Mais/Images/Bipbip_mais_im_09641patch3.jpg  \n",
            "  inflating: Development_Dataset/Training/Bipbip/Mais/Images/Bipbip_mais_im_09641patch4.jpg  \n",
            "  inflating: Development_Dataset/Training/Bipbip/Mais/Images/Bipbip_mais_im_09641patch5.jpg  \n",
            "  inflating: Development_Dataset/Training/Bipbip/Mais/Images/Bipbip_mais_im_09641patch6.jpg  \n",
            "  inflating: Development_Dataset/Training/Bipbip/Mais/Images/Bipbip_mais_im_09641patch7.jpg  \n",
            "  inflating: Development_Dataset/Training/Bipbip/Mais/Images/Bipbip_mais_im_09711patch0.jpg  \n",
            "  inflating: Development_Dataset/Training/Bipbip/Mais/Images/Bipbip_mais_im_09711patch1.jpg  \n",
            "  inflating: Development_Dataset/Training/Bipbip/Mais/Images/Bipbip_mais_im_09711patch2.jpg  \n",
            "  inflating: Development_Dataset/Training/Bipbip/Mais/Images/Bipbip_mais_im_09711patch3.jpg  \n",
            "  inflating: Development_Dataset/Training/Bipbip/Mais/Images/Bipbip_mais_im_09711patch4.jpg  \n",
            "  inflating: Development_Dataset/Training/Bipbip/Mais/Images/Bipbip_mais_im_09711patch5.jpg  \n",
            "  inflating: Development_Dataset/Training/Bipbip/Mais/Images/Bipbip_mais_im_09711patch6.jpg  \n",
            "  inflating: Development_Dataset/Training/Bipbip/Mais/Images/Bipbip_mais_im_09711patch7.jpg  \n",
            "  inflating: Development_Dataset/Training/Bipbip/Mais/Images/Bipbip_mais_im_09841patch0.jpg  \n",
            "  inflating: Development_Dataset/Training/Bipbip/Mais/Images/Bipbip_mais_im_09841patch1.jpg  \n",
            "  inflating: Development_Dataset/Training/Bipbip/Mais/Images/Bipbip_mais_im_09841patch2.jpg  \n",
            "  inflating: Development_Dataset/Training/Bipbip/Mais/Images/Bipbip_mais_im_09841patch3.jpg  \n",
            "  inflating: Development_Dataset/Training/Bipbip/Mais/Images/Bipbip_mais_im_09841patch4.jpg  \n",
            "  inflating: Development_Dataset/Training/Bipbip/Mais/Images/Bipbip_mais_im_09841patch5.jpg  \n",
            "  inflating: Development_Dataset/Training/Bipbip/Mais/Images/Bipbip_mais_im_09841patch6.jpg  \n",
            "  inflating: Development_Dataset/Training/Bipbip/Mais/Images/Bipbip_mais_im_09841patch7.jpg  \n",
            "  inflating: Development_Dataset/Training/Bipbip/Mais/Images/Bipbip_mais_im_09921patch0.jpg  \n",
            "  inflating: Development_Dataset/Training/Bipbip/Mais/Images/Bipbip_mais_im_09921patch1.jpg  \n",
            "  inflating: Development_Dataset/Training/Bipbip/Mais/Images/Bipbip_mais_im_09921patch2.jpg  \n",
            "  inflating: Development_Dataset/Training/Bipbip/Mais/Images/Bipbip_mais_im_09921patch3.jpg  \n",
            "  inflating: Development_Dataset/Training/Bipbip/Mais/Images/Bipbip_mais_im_09921patch4.jpg  \n",
            "  inflating: Development_Dataset/Training/Bipbip/Mais/Images/Bipbip_mais_im_09921patch5.jpg  \n",
            "  inflating: Development_Dataset/Training/Bipbip/Mais/Images/Bipbip_mais_im_09921patch6.jpg  \n",
            "  inflating: Development_Dataset/Training/Bipbip/Mais/Images/Bipbip_mais_im_09921patch7.jpg  \n",
            "  inflating: Development_Dataset/Training/Bipbip/Mais/Images/Bipbip_mais_im_10001patch0.jpg  \n",
            "  inflating: Development_Dataset/Training/Bipbip/Mais/Images/Bipbip_mais_im_10001patch1.jpg  \n",
            "  inflating: Development_Dataset/Training/Bipbip/Mais/Images/Bipbip_mais_im_10001patch2.jpg  \n",
            "  inflating: Development_Dataset/Training/Bipbip/Mais/Images/Bipbip_mais_im_10001patch3.jpg  \n",
            "  inflating: Development_Dataset/Training/Bipbip/Mais/Images/Bipbip_mais_im_10001patch4.jpg  \n",
            "  inflating: Development_Dataset/Training/Bipbip/Mais/Images/Bipbip_mais_im_10001patch5.jpg  \n",
            "  inflating: Development_Dataset/Training/Bipbip/Mais/Images/Bipbip_mais_im_10001patch6.jpg  \n",
            "  inflating: Development_Dataset/Training/Bipbip/Mais/Images/Bipbip_mais_im_10001patch7.jpg  \n",
            "  inflating: Development_Dataset/Training/Bipbip/Mais/Images/Bipbip_mais_im_10081patch0.jpg  \n",
            "  inflating: Development_Dataset/Training/Bipbip/Mais/Images/Bipbip_mais_im_10081patch1.jpg  \n",
            "  inflating: Development_Dataset/Training/Bipbip/Mais/Images/Bipbip_mais_im_10081patch2.jpg  \n",
            "  inflating: Development_Dataset/Training/Bipbip/Mais/Images/Bipbip_mais_im_10081patch3.jpg  \n",
            "  inflating: Development_Dataset/Training/Bipbip/Mais/Images/Bipbip_mais_im_10081patch4.jpg  \n",
            "  inflating: Development_Dataset/Training/Bipbip/Mais/Images/Bipbip_mais_im_10081patch5.jpg  \n",
            "  inflating: Development_Dataset/Training/Bipbip/Mais/Images/Bipbip_mais_im_10081patch6.jpg  \n",
            "  inflating: Development_Dataset/Training/Bipbip/Mais/Images/Bipbip_mais_im_10081patch7.jpg  \n",
            "  inflating: Development_Dataset/Training/Bipbip/Mais/Images/Bipbip_mais_im_10161patch0.jpg  \n",
            "  inflating: Development_Dataset/Training/Bipbip/Mais/Images/Bipbip_mais_im_10161patch1.jpg  \n",
            "  inflating: Development_Dataset/Training/Bipbip/Mais/Images/Bipbip_mais_im_10161patch2.jpg  \n",
            "  inflating: Development_Dataset/Training/Bipbip/Mais/Images/Bipbip_mais_im_10161patch3.jpg  \n",
            "  inflating: Development_Dataset/Training/Bipbip/Mais/Images/Bipbip_mais_im_10161patch4.jpg  \n",
            "  inflating: Development_Dataset/Training/Bipbip/Mais/Images/Bipbip_mais_im_10161patch5.jpg  \n",
            "  inflating: Development_Dataset/Training/Bipbip/Mais/Images/Bipbip_mais_im_10161patch6.jpg  \n",
            "  inflating: Development_Dataset/Training/Bipbip/Mais/Images/Bipbip_mais_im_10161patch7.jpg  \n",
            "  inflating: Development_Dataset/Training/Bipbip/Mais/Images/Bipbip_mais_im_10231patch0.jpg  \n",
            "  inflating: Development_Dataset/Training/Bipbip/Mais/Images/Bipbip_mais_im_10231patch1.jpg  \n",
            "  inflating: Development_Dataset/Training/Bipbip/Mais/Images/Bipbip_mais_im_10231patch2.jpg  \n",
            "  inflating: Development_Dataset/Training/Bipbip/Mais/Images/Bipbip_mais_im_10231patch3.jpg  \n",
            "  inflating: Development_Dataset/Training/Bipbip/Mais/Images/Bipbip_mais_im_10231patch4.jpg  \n",
            "  inflating: Development_Dataset/Training/Bipbip/Mais/Images/Bipbip_mais_im_10231patch5.jpg  \n",
            "  inflating: Development_Dataset/Training/Bipbip/Mais/Images/Bipbip_mais_im_10231patch6.jpg  \n",
            "  inflating: Development_Dataset/Training/Bipbip/Mais/Images/Bipbip_mais_im_10231patch7.jpg  \n",
            "  inflating: Development_Dataset/Training/Bipbip/Mais/Images/Bipbip_mais_im_10301patch0.jpg  \n",
            "  inflating: Development_Dataset/Training/Bipbip/Mais/Images/Bipbip_mais_im_10301patch1.jpg  \n",
            "  inflating: Development_Dataset/Training/Bipbip/Mais/Images/Bipbip_mais_im_10301patch2.jpg  \n",
            "  inflating: Development_Dataset/Training/Bipbip/Mais/Images/Bipbip_mais_im_10301patch3.jpg  \n",
            "  inflating: Development_Dataset/Training/Bipbip/Mais/Images/Bipbip_mais_im_10301patch4.jpg  \n",
            "  inflating: Development_Dataset/Training/Bipbip/Mais/Images/Bipbip_mais_im_10301patch5.jpg  \n",
            "  inflating: Development_Dataset/Training/Bipbip/Mais/Images/Bipbip_mais_im_10301patch6.jpg  \n",
            "  inflating: Development_Dataset/Training/Bipbip/Mais/Images/Bipbip_mais_im_10301patch7.jpg  \n",
            "  inflating: Development_Dataset/Training/Bipbip/Mais/Images/Bipbip_mais_im_10371patch0.jpg  \n",
            "  inflating: Development_Dataset/Training/Bipbip/Mais/Images/Bipbip_mais_im_10371patch1.jpg  \n",
            "  inflating: Development_Dataset/Training/Bipbip/Mais/Images/Bipbip_mais_im_10371patch2.jpg  \n",
            "  inflating: Development_Dataset/Training/Bipbip/Mais/Images/Bipbip_mais_im_10371patch3.jpg  \n",
            "  inflating: Development_Dataset/Training/Bipbip/Mais/Images/Bipbip_mais_im_10371patch4.jpg  \n",
            "  inflating: Development_Dataset/Training/Bipbip/Mais/Images/Bipbip_mais_im_10371patch5.jpg  \n",
            "  inflating: Development_Dataset/Training/Bipbip/Mais/Images/Bipbip_mais_im_10371patch6.jpg  \n",
            "  inflating: Development_Dataset/Training/Bipbip/Mais/Images/Bipbip_mais_im_10371patch7.jpg  \n",
            "  inflating: Development_Dataset/Training/Bipbip/Mais/Images/Bipbip_mais_im_10691patch0.jpg  \n",
            "  inflating: Development_Dataset/Training/Bipbip/Mais/Images/Bipbip_mais_im_10691patch1.jpg  \n",
            "  inflating: Development_Dataset/Training/Bipbip/Mais/Images/Bipbip_mais_im_10691patch2.jpg  \n",
            "  inflating: Development_Dataset/Training/Bipbip/Mais/Images/Bipbip_mais_im_10691patch3.jpg  \n",
            "  inflating: Development_Dataset/Training/Bipbip/Mais/Images/Bipbip_mais_im_10691patch4.jpg  \n",
            "  inflating: Development_Dataset/Training/Bipbip/Mais/Images/Bipbip_mais_im_10691patch5.jpg  \n",
            "  inflating: Development_Dataset/Training/Bipbip/Mais/Images/Bipbip_mais_im_10691patch6.jpg  \n",
            "  inflating: Development_Dataset/Training/Bipbip/Mais/Images/Bipbip_mais_im_10691patch7.jpg  \n",
            "  inflating: Development_Dataset/Training/Bipbip/Mais/Images/Bipbip_mais_im_10771patch0.jpg  \n",
            "  inflating: Development_Dataset/Training/Bipbip/Mais/Images/Bipbip_mais_im_10771patch1.jpg  \n",
            "  inflating: Development_Dataset/Training/Bipbip/Mais/Images/Bipbip_mais_im_10771patch2.jpg  \n",
            "  inflating: Development_Dataset/Training/Bipbip/Mais/Images/Bipbip_mais_im_10771patch3.jpg  \n",
            "  inflating: Development_Dataset/Training/Bipbip/Mais/Images/Bipbip_mais_im_10771patch4.jpg  \n",
            "  inflating: Development_Dataset/Training/Bipbip/Mais/Images/Bipbip_mais_im_10771patch5.jpg  \n",
            "  inflating: Development_Dataset/Training/Bipbip/Mais/Images/Bipbip_mais_im_10771patch6.jpg  \n",
            "  inflating: Development_Dataset/Training/Bipbip/Mais/Images/Bipbip_mais_im_10771patch7.jpg  \n",
            "  inflating: Development_Dataset/Training/Bipbip/Mais/Images/Bipbip_mais_im_10851patch0.jpg  \n",
            "  inflating: Development_Dataset/Training/Bipbip/Mais/Images/Bipbip_mais_im_10851patch1.jpg  \n",
            "  inflating: Development_Dataset/Training/Bipbip/Mais/Images/Bipbip_mais_im_10851patch2.jpg  \n",
            "  inflating: Development_Dataset/Training/Bipbip/Mais/Images/Bipbip_mais_im_10851patch3.jpg  \n",
            "  inflating: Development_Dataset/Training/Bipbip/Mais/Images/Bipbip_mais_im_10851patch4.jpg  \n",
            "  inflating: Development_Dataset/Training/Bipbip/Mais/Images/Bipbip_mais_im_10851patch5.jpg  \n",
            "  inflating: Development_Dataset/Training/Bipbip/Mais/Images/Bipbip_mais_im_10851patch6.jpg  \n",
            "  inflating: Development_Dataset/Training/Bipbip/Mais/Images/Bipbip_mais_im_10851patch7.jpg  \n",
            "  inflating: Development_Dataset/Training/Bipbip/Mais/Images/Bipbip_mais_im_11121patch0.jpg  \n",
            "  inflating: Development_Dataset/Training/Bipbip/Mais/Images/Bipbip_mais_im_11121patch1.jpg  \n",
            "  inflating: Development_Dataset/Training/Bipbip/Mais/Images/Bipbip_mais_im_11121patch2.jpg  \n",
            "  inflating: Development_Dataset/Training/Bipbip/Mais/Images/Bipbip_mais_im_11121patch3.jpg  \n",
            "  inflating: Development_Dataset/Training/Bipbip/Mais/Images/Bipbip_mais_im_11121patch4.jpg  \n",
            "  inflating: Development_Dataset/Training/Bipbip/Mais/Images/Bipbip_mais_im_11121patch5.jpg  \n",
            "  inflating: Development_Dataset/Training/Bipbip/Mais/Images/Bipbip_mais_im_11121patch6.jpg  \n",
            "  inflating: Development_Dataset/Training/Bipbip/Mais/Images/Bipbip_mais_im_11121patch7.jpg  \n",
            "  inflating: Development_Dataset/Training/Bipbip/Mais/Images/Bipbip_mais_im_11221patch0.jpg  \n",
            "  inflating: Development_Dataset/Training/Bipbip/Mais/Images/Bipbip_mais_im_11221patch1.jpg  \n",
            "  inflating: Development_Dataset/Training/Bipbip/Mais/Images/Bipbip_mais_im_11221patch2.jpg  \n",
            "  inflating: Development_Dataset/Training/Bipbip/Mais/Images/Bipbip_mais_im_11221patch3.jpg  \n",
            "  inflating: Development_Dataset/Training/Bipbip/Mais/Images/Bipbip_mais_im_11221patch4.jpg  \n",
            "  inflating: Development_Dataset/Training/Bipbip/Mais/Images/Bipbip_mais_im_11221patch5.jpg  \n",
            "  inflating: Development_Dataset/Training/Bipbip/Mais/Images/Bipbip_mais_im_11221patch6.jpg  \n",
            "  inflating: Development_Dataset/Training/Bipbip/Mais/Images/Bipbip_mais_im_11221patch7.jpg  \n",
            "   creating: Development_Dataset/Training/Bipbip/Mais/Masks/\n",
            "  inflating: Development_Dataset/Training/Bipbip/Mais/Masks/Bipbip_mais_im_01391patch0.png  \n",
            "  inflating: Development_Dataset/Training/Bipbip/Mais/Masks/Bipbip_mais_im_01391patch1.png  \n",
            "  inflating: Development_Dataset/Training/Bipbip/Mais/Masks/Bipbip_mais_im_01391patch2.png  \n",
            "  inflating: Development_Dataset/Training/Bipbip/Mais/Masks/Bipbip_mais_im_01391patch3.png  \n",
            "  inflating: Development_Dataset/Training/Bipbip/Mais/Masks/Bipbip_mais_im_01391patch4.png  \n",
            "  inflating: Development_Dataset/Training/Bipbip/Mais/Masks/Bipbip_mais_im_01391patch5.png  \n",
            "  inflating: Development_Dataset/Training/Bipbip/Mais/Masks/Bipbip_mais_im_01391patch6.png  \n",
            "  inflating: Development_Dataset/Training/Bipbip/Mais/Masks/Bipbip_mais_im_01391patch7.png  \n",
            "  inflating: Development_Dataset/Training/Bipbip/Mais/Masks/Bipbip_mais_im_01461patch0.png  \n",
            "  inflating: Development_Dataset/Training/Bipbip/Mais/Masks/Bipbip_mais_im_01461patch1.png  \n",
            "  inflating: Development_Dataset/Training/Bipbip/Mais/Masks/Bipbip_mais_im_01461patch2.png  \n",
            "  inflating: Development_Dataset/Training/Bipbip/Mais/Masks/Bipbip_mais_im_01461patch3.png  \n",
            "  inflating: Development_Dataset/Training/Bipbip/Mais/Masks/Bipbip_mais_im_01461patch4.png  \n",
            "  inflating: Development_Dataset/Training/Bipbip/Mais/Masks/Bipbip_mais_im_01461patch5.png  \n",
            "  inflating: Development_Dataset/Training/Bipbip/Mais/Masks/Bipbip_mais_im_01461patch6.png  \n",
            "  inflating: Development_Dataset/Training/Bipbip/Mais/Masks/Bipbip_mais_im_01461patch7.png  \n",
            "  inflating: Development_Dataset/Training/Bipbip/Mais/Masks/Bipbip_mais_im_01511patch0.png  \n",
            "  inflating: Development_Dataset/Training/Bipbip/Mais/Masks/Bipbip_mais_im_01511patch1.png  \n",
            "  inflating: Development_Dataset/Training/Bipbip/Mais/Masks/Bipbip_mais_im_01511patch2.png  \n",
            "  inflating: Development_Dataset/Training/Bipbip/Mais/Masks/Bipbip_mais_im_01511patch3.png  \n",
            "  inflating: Development_Dataset/Training/Bipbip/Mais/Masks/Bipbip_mais_im_01511patch4.png  \n",
            "  inflating: Development_Dataset/Training/Bipbip/Mais/Masks/Bipbip_mais_im_01511patch5.png  \n",
            "  inflating: Development_Dataset/Training/Bipbip/Mais/Masks/Bipbip_mais_im_01511patch6.png  \n",
            "  inflating: Development_Dataset/Training/Bipbip/Mais/Masks/Bipbip_mais_im_01511patch7.png  \n",
            "  inflating: Development_Dataset/Training/Bipbip/Mais/Masks/Bipbip_mais_im_01561patch0.png  \n",
            "  inflating: Development_Dataset/Training/Bipbip/Mais/Masks/Bipbip_mais_im_01561patch1.png  \n",
            "  inflating: Development_Dataset/Training/Bipbip/Mais/Masks/Bipbip_mais_im_01561patch2.png  \n",
            "  inflating: Development_Dataset/Training/Bipbip/Mais/Masks/Bipbip_mais_im_01561patch3.png  \n",
            "  inflating: Development_Dataset/Training/Bipbip/Mais/Masks/Bipbip_mais_im_01561patch4.png  \n",
            "  inflating: Development_Dataset/Training/Bipbip/Mais/Masks/Bipbip_mais_im_01561patch5.png  \n",
            "  inflating: Development_Dataset/Training/Bipbip/Mais/Masks/Bipbip_mais_im_01561patch6.png  \n",
            "  inflating: Development_Dataset/Training/Bipbip/Mais/Masks/Bipbip_mais_im_01561patch7.png  \n",
            "  inflating: Development_Dataset/Training/Bipbip/Mais/Masks/Bipbip_mais_im_01601patch0.png  \n",
            "  inflating: Development_Dataset/Training/Bipbip/Mais/Masks/Bipbip_mais_im_01601patch1.png  \n",
            "  inflating: Development_Dataset/Training/Bipbip/Mais/Masks/Bipbip_mais_im_01601patch2.png  \n",
            "  inflating: Development_Dataset/Training/Bipbip/Mais/Masks/Bipbip_mais_im_01601patch3.png  \n",
            "  inflating: Development_Dataset/Training/Bipbip/Mais/Masks/Bipbip_mais_im_01601patch4.png  \n",
            "  inflating: Development_Dataset/Training/Bipbip/Mais/Masks/Bipbip_mais_im_01601patch5.png  \n",
            "  inflating: Development_Dataset/Training/Bipbip/Mais/Masks/Bipbip_mais_im_01601patch6.png  \n",
            "  inflating: Development_Dataset/Training/Bipbip/Mais/Masks/Bipbip_mais_im_01601patch7.png  \n",
            "  inflating: Development_Dataset/Training/Bipbip/Mais/Masks/Bipbip_mais_im_01681patch0.png  \n",
            "  inflating: Development_Dataset/Training/Bipbip/Mais/Masks/Bipbip_mais_im_01681patch1.png  \n",
            "  inflating: Development_Dataset/Training/Bipbip/Mais/Masks/Bipbip_mais_im_01681patch2.png  \n",
            "  inflating: Development_Dataset/Training/Bipbip/Mais/Masks/Bipbip_mais_im_01681patch3.png  \n",
            "  inflating: Development_Dataset/Training/Bipbip/Mais/Masks/Bipbip_mais_im_01681patch4.png  \n",
            "  inflating: Development_Dataset/Training/Bipbip/Mais/Masks/Bipbip_mais_im_01681patch5.png  \n",
            "  inflating: Development_Dataset/Training/Bipbip/Mais/Masks/Bipbip_mais_im_01681patch6.png  \n",
            "  inflating: Development_Dataset/Training/Bipbip/Mais/Masks/Bipbip_mais_im_01681patch7.png  \n",
            "  inflating: Development_Dataset/Training/Bipbip/Mais/Masks/Bipbip_mais_im_01751patch0.png  \n",
            "  inflating: Development_Dataset/Training/Bipbip/Mais/Masks/Bipbip_mais_im_01751patch1.png  \n",
            "  inflating: Development_Dataset/Training/Bipbip/Mais/Masks/Bipbip_mais_im_01751patch2.png  \n",
            "  inflating: Development_Dataset/Training/Bipbip/Mais/Masks/Bipbip_mais_im_01751patch3.png  \n",
            "  inflating: Development_Dataset/Training/Bipbip/Mais/Masks/Bipbip_mais_im_01751patch4.png  \n",
            "  inflating: Development_Dataset/Training/Bipbip/Mais/Masks/Bipbip_mais_im_01751patch5.png  \n",
            "  inflating: Development_Dataset/Training/Bipbip/Mais/Masks/Bipbip_mais_im_01751patch6.png  \n",
            "  inflating: Development_Dataset/Training/Bipbip/Mais/Masks/Bipbip_mais_im_01751patch7.png  \n",
            "  inflating: Development_Dataset/Training/Bipbip/Mais/Masks/Bipbip_mais_im_01871patch0.png  \n",
            "  inflating: Development_Dataset/Training/Bipbip/Mais/Masks/Bipbip_mais_im_01871patch1.png  \n",
            "  inflating: Development_Dataset/Training/Bipbip/Mais/Masks/Bipbip_mais_im_01871patch2.png  \n",
            "  inflating: Development_Dataset/Training/Bipbip/Mais/Masks/Bipbip_mais_im_01871patch3.png  \n",
            "  inflating: Development_Dataset/Training/Bipbip/Mais/Masks/Bipbip_mais_im_01871patch4.png  \n",
            "  inflating: Development_Dataset/Training/Bipbip/Mais/Masks/Bipbip_mais_im_01871patch5.png  \n",
            "  inflating: Development_Dataset/Training/Bipbip/Mais/Masks/Bipbip_mais_im_01871patch6.png  \n",
            "  inflating: Development_Dataset/Training/Bipbip/Mais/Masks/Bipbip_mais_im_01871patch7.png  \n",
            "  inflating: Development_Dataset/Training/Bipbip/Mais/Masks/Bipbip_mais_im_02151patch0.png  \n",
            "  inflating: Development_Dataset/Training/Bipbip/Mais/Masks/Bipbip_mais_im_02151patch1.png  \n",
            "  inflating: Development_Dataset/Training/Bipbip/Mais/Masks/Bipbip_mais_im_02151patch2.png  \n",
            "  inflating: Development_Dataset/Training/Bipbip/Mais/Masks/Bipbip_mais_im_02151patch3.png  \n",
            "  inflating: Development_Dataset/Training/Bipbip/Mais/Masks/Bipbip_mais_im_02151patch4.png  \n",
            "  inflating: Development_Dataset/Training/Bipbip/Mais/Masks/Bipbip_mais_im_02151patch5.png  \n",
            "  inflating: Development_Dataset/Training/Bipbip/Mais/Masks/Bipbip_mais_im_02151patch6.png  \n",
            "  inflating: Development_Dataset/Training/Bipbip/Mais/Masks/Bipbip_mais_im_02151patch7.png  \n",
            "  inflating: Development_Dataset/Training/Bipbip/Mais/Masks/Bipbip_mais_im_02281patch0.png  \n",
            "  inflating: Development_Dataset/Training/Bipbip/Mais/Masks/Bipbip_mais_im_02281patch1.png  \n",
            "  inflating: Development_Dataset/Training/Bipbip/Mais/Masks/Bipbip_mais_im_02281patch2.png  \n",
            "  inflating: Development_Dataset/Training/Bipbip/Mais/Masks/Bipbip_mais_im_02281patch3.png  \n",
            "  inflating: Development_Dataset/Training/Bipbip/Mais/Masks/Bipbip_mais_im_02281patch4.png  \n",
            "  inflating: Development_Dataset/Training/Bipbip/Mais/Masks/Bipbip_mais_im_02281patch5.png  \n",
            "  inflating: Development_Dataset/Training/Bipbip/Mais/Masks/Bipbip_mais_im_02281patch6.png  \n",
            "  inflating: Development_Dataset/Training/Bipbip/Mais/Masks/Bipbip_mais_im_02281patch7.png  \n",
            "  inflating: Development_Dataset/Training/Bipbip/Mais/Masks/Bipbip_mais_im_02371patch0.png  \n",
            "  inflating: Development_Dataset/Training/Bipbip/Mais/Masks/Bipbip_mais_im_02371patch1.png  \n",
            "  inflating: Development_Dataset/Training/Bipbip/Mais/Masks/Bipbip_mais_im_02371patch2.png  \n",
            "  inflating: Development_Dataset/Training/Bipbip/Mais/Masks/Bipbip_mais_im_02371patch3.png  \n",
            "  inflating: Development_Dataset/Training/Bipbip/Mais/Masks/Bipbip_mais_im_02371patch4.png  \n",
            "  inflating: Development_Dataset/Training/Bipbip/Mais/Masks/Bipbip_mais_im_02371patch5.png  \n",
            "  inflating: Development_Dataset/Training/Bipbip/Mais/Masks/Bipbip_mais_im_02371patch6.png  \n",
            "  inflating: Development_Dataset/Training/Bipbip/Mais/Masks/Bipbip_mais_im_02371patch7.png  \n",
            "  inflating: Development_Dataset/Training/Bipbip/Mais/Masks/Bipbip_mais_im_02411patch0.png  \n",
            "  inflating: Development_Dataset/Training/Bipbip/Mais/Masks/Bipbip_mais_im_02411patch1.png  \n",
            "  inflating: Development_Dataset/Training/Bipbip/Mais/Masks/Bipbip_mais_im_02411patch2.png  \n",
            "  inflating: Development_Dataset/Training/Bipbip/Mais/Masks/Bipbip_mais_im_02411patch3.png  \n",
            "  inflating: Development_Dataset/Training/Bipbip/Mais/Masks/Bipbip_mais_im_02411patch4.png  \n",
            "  inflating: Development_Dataset/Training/Bipbip/Mais/Masks/Bipbip_mais_im_02411patch5.png  \n",
            "  inflating: Development_Dataset/Training/Bipbip/Mais/Masks/Bipbip_mais_im_02411patch6.png  \n",
            "  inflating: Development_Dataset/Training/Bipbip/Mais/Masks/Bipbip_mais_im_02411patch7.png  \n",
            "  inflating: Development_Dataset/Training/Bipbip/Mais/Masks/Bipbip_mais_im_02461patch0.png  \n",
            "  inflating: Development_Dataset/Training/Bipbip/Mais/Masks/Bipbip_mais_im_02461patch1.png  \n",
            "  inflating: Development_Dataset/Training/Bipbip/Mais/Masks/Bipbip_mais_im_02461patch2.png  \n",
            "  inflating: Development_Dataset/Training/Bipbip/Mais/Masks/Bipbip_mais_im_02461patch3.png  \n",
            "  inflating: Development_Dataset/Training/Bipbip/Mais/Masks/Bipbip_mais_im_02461patch4.png  \n",
            "  inflating: Development_Dataset/Training/Bipbip/Mais/Masks/Bipbip_mais_im_02461patch5.png  \n",
            "  inflating: Development_Dataset/Training/Bipbip/Mais/Masks/Bipbip_mais_im_02461patch6.png  \n",
            "  inflating: Development_Dataset/Training/Bipbip/Mais/Masks/Bipbip_mais_im_02461patch7.png  \n",
            "  inflating: Development_Dataset/Training/Bipbip/Mais/Masks/Bipbip_mais_im_02511patch0.png  \n",
            "  inflating: Development_Dataset/Training/Bipbip/Mais/Masks/Bipbip_mais_im_02511patch1.png  \n",
            "  inflating: Development_Dataset/Training/Bipbip/Mais/Masks/Bipbip_mais_im_02511patch2.png  \n",
            "  inflating: Development_Dataset/Training/Bipbip/Mais/Masks/Bipbip_mais_im_02511patch3.png  \n",
            "  inflating: Development_Dataset/Training/Bipbip/Mais/Masks/Bipbip_mais_im_02511patch4.png  \n",
            "  inflating: Development_Dataset/Training/Bipbip/Mais/Masks/Bipbip_mais_im_02511patch5.png  \n",
            "  inflating: Development_Dataset/Training/Bipbip/Mais/Masks/Bipbip_mais_im_02511patch6.png  \n",
            "  inflating: Development_Dataset/Training/Bipbip/Mais/Masks/Bipbip_mais_im_02511patch7.png  \n",
            "  inflating: Development_Dataset/Training/Bipbip/Mais/Masks/Bipbip_mais_im_02691patch0.png  \n",
            "  inflating: Development_Dataset/Training/Bipbip/Mais/Masks/Bipbip_mais_im_02691patch1.png  \n",
            "  inflating: Development_Dataset/Training/Bipbip/Mais/Masks/Bipbip_mais_im_02691patch2.png  \n",
            "  inflating: Development_Dataset/Training/Bipbip/Mais/Masks/Bipbip_mais_im_02691patch3.png  \n",
            "  inflating: Development_Dataset/Training/Bipbip/Mais/Masks/Bipbip_mais_im_02691patch4.png  \n",
            "  inflating: Development_Dataset/Training/Bipbip/Mais/Masks/Bipbip_mais_im_02691patch5.png  \n",
            "  inflating: Development_Dataset/Training/Bipbip/Mais/Masks/Bipbip_mais_im_02691patch6.png  \n",
            "  inflating: Development_Dataset/Training/Bipbip/Mais/Masks/Bipbip_mais_im_02691patch7.png  \n",
            "  inflating: Development_Dataset/Training/Bipbip/Mais/Masks/Bipbip_mais_im_02731patch0.png  \n",
            "  inflating: Development_Dataset/Training/Bipbip/Mais/Masks/Bipbip_mais_im_02731patch1.png  \n",
            "  inflating: Development_Dataset/Training/Bipbip/Mais/Masks/Bipbip_mais_im_02731patch2.png  \n",
            "  inflating: Development_Dataset/Training/Bipbip/Mais/Masks/Bipbip_mais_im_02731patch3.png  \n",
            "  inflating: Development_Dataset/Training/Bipbip/Mais/Masks/Bipbip_mais_im_02731patch4.png  \n",
            "  inflating: Development_Dataset/Training/Bipbip/Mais/Masks/Bipbip_mais_im_02731patch5.png  \n",
            "  inflating: Development_Dataset/Training/Bipbip/Mais/Masks/Bipbip_mais_im_02731patch6.png  \n",
            "  inflating: Development_Dataset/Training/Bipbip/Mais/Masks/Bipbip_mais_im_02731patch7.png  \n",
            "  inflating: Development_Dataset/Training/Bipbip/Mais/Masks/Bipbip_mais_im_02781patch0.png  \n",
            "  inflating: Development_Dataset/Training/Bipbip/Mais/Masks/Bipbip_mais_im_02781patch1.png  \n",
            "  inflating: Development_Dataset/Training/Bipbip/Mais/Masks/Bipbip_mais_im_02781patch2.png  \n",
            "  inflating: Development_Dataset/Training/Bipbip/Mais/Masks/Bipbip_mais_im_02781patch3.png  \n",
            "  inflating: Development_Dataset/Training/Bipbip/Mais/Masks/Bipbip_mais_im_02781patch4.png  \n",
            "  inflating: Development_Dataset/Training/Bipbip/Mais/Masks/Bipbip_mais_im_02781patch5.png  \n",
            "  inflating: Development_Dataset/Training/Bipbip/Mais/Masks/Bipbip_mais_im_02781patch6.png  \n",
            "  inflating: Development_Dataset/Training/Bipbip/Mais/Masks/Bipbip_mais_im_02781patch7.png  \n",
            "  inflating: Development_Dataset/Training/Bipbip/Mais/Masks/Bipbip_mais_im_02891patch0.png  \n",
            "  inflating: Development_Dataset/Training/Bipbip/Mais/Masks/Bipbip_mais_im_02891patch1.png  \n",
            "  inflating: Development_Dataset/Training/Bipbip/Mais/Masks/Bipbip_mais_im_02891patch2.png  \n",
            "  inflating: Development_Dataset/Training/Bipbip/Mais/Masks/Bipbip_mais_im_02891patch3.png  \n",
            "  inflating: Development_Dataset/Training/Bipbip/Mais/Masks/Bipbip_mais_im_02891patch4.png  \n",
            "  inflating: Development_Dataset/Training/Bipbip/Mais/Masks/Bipbip_mais_im_02891patch5.png  \n",
            "  inflating: Development_Dataset/Training/Bipbip/Mais/Masks/Bipbip_mais_im_02891patch6.png  \n",
            "  inflating: Development_Dataset/Training/Bipbip/Mais/Masks/Bipbip_mais_im_02891patch7.png  \n",
            "  inflating: Development_Dataset/Training/Bipbip/Mais/Masks/Bipbip_mais_im_02941patch0.png  \n",
            "  inflating: Development_Dataset/Training/Bipbip/Mais/Masks/Bipbip_mais_im_02941patch1.png  \n",
            "  inflating: Development_Dataset/Training/Bipbip/Mais/Masks/Bipbip_mais_im_02941patch2.png  \n",
            "  inflating: Development_Dataset/Training/Bipbip/Mais/Masks/Bipbip_mais_im_02941patch3.png  \n",
            "  inflating: Development_Dataset/Training/Bipbip/Mais/Masks/Bipbip_mais_im_02941patch4.png  \n",
            "  inflating: Development_Dataset/Training/Bipbip/Mais/Masks/Bipbip_mais_im_02941patch5.png  \n",
            "  inflating: Development_Dataset/Training/Bipbip/Mais/Masks/Bipbip_mais_im_02941patch6.png  \n",
            "  inflating: Development_Dataset/Training/Bipbip/Mais/Masks/Bipbip_mais_im_02941patch7.png  \n",
            "  inflating: Development_Dataset/Training/Bipbip/Mais/Masks/Bipbip_mais_im_03121patch0.png  \n",
            "  inflating: Development_Dataset/Training/Bipbip/Mais/Masks/Bipbip_mais_im_03121patch1.png  \n",
            "  inflating: Development_Dataset/Training/Bipbip/Mais/Masks/Bipbip_mais_im_03121patch2.png  \n",
            "  inflating: Development_Dataset/Training/Bipbip/Mais/Masks/Bipbip_mais_im_03121patch3.png  \n",
            "  inflating: Development_Dataset/Training/Bipbip/Mais/Masks/Bipbip_mais_im_03121patch4.png  \n",
            "  inflating: Development_Dataset/Training/Bipbip/Mais/Masks/Bipbip_mais_im_03121patch5.png  \n",
            "  inflating: Development_Dataset/Training/Bipbip/Mais/Masks/Bipbip_mais_im_03121patch6.png  \n",
            "  inflating: Development_Dataset/Training/Bipbip/Mais/Masks/Bipbip_mais_im_03121patch7.png  \n",
            "  inflating: Development_Dataset/Training/Bipbip/Mais/Masks/Bipbip_mais_im_03181patch0.png  \n",
            "  inflating: Development_Dataset/Training/Bipbip/Mais/Masks/Bipbip_mais_im_03181patch1.png  \n",
            "  inflating: Development_Dataset/Training/Bipbip/Mais/Masks/Bipbip_mais_im_03181patch2.png  \n",
            "  inflating: Development_Dataset/Training/Bipbip/Mais/Masks/Bipbip_mais_im_03181patch3.png  \n",
            "  inflating: Development_Dataset/Training/Bipbip/Mais/Masks/Bipbip_mais_im_03181patch4.png  \n",
            "  inflating: Development_Dataset/Training/Bipbip/Mais/Masks/Bipbip_mais_im_03181patch5.png  \n",
            "  inflating: Development_Dataset/Training/Bipbip/Mais/Masks/Bipbip_mais_im_03181patch6.png  \n",
            "  inflating: Development_Dataset/Training/Bipbip/Mais/Masks/Bipbip_mais_im_03181patch7.png  \n",
            "  inflating: Development_Dataset/Training/Bipbip/Mais/Masks/Bipbip_mais_im_03231patch0.png  \n",
            "  inflating: Development_Dataset/Training/Bipbip/Mais/Masks/Bipbip_mais_im_03231patch1.png  \n",
            "  inflating: Development_Dataset/Training/Bipbip/Mais/Masks/Bipbip_mais_im_03231patch2.png  \n",
            "  inflating: Development_Dataset/Training/Bipbip/Mais/Masks/Bipbip_mais_im_03231patch3.png  \n",
            "  inflating: Development_Dataset/Training/Bipbip/Mais/Masks/Bipbip_mais_im_03231patch4.png  \n",
            "  inflating: Development_Dataset/Training/Bipbip/Mais/Masks/Bipbip_mais_im_03231patch5.png  \n",
            "  inflating: Development_Dataset/Training/Bipbip/Mais/Masks/Bipbip_mais_im_03231patch6.png  \n",
            "  inflating: Development_Dataset/Training/Bipbip/Mais/Masks/Bipbip_mais_im_03231patch7.png  \n",
            "  inflating: Development_Dataset/Training/Bipbip/Mais/Masks/Bipbip_mais_im_03291patch0.png  \n",
            "  inflating: Development_Dataset/Training/Bipbip/Mais/Masks/Bipbip_mais_im_03291patch1.png  \n",
            "  inflating: Development_Dataset/Training/Bipbip/Mais/Masks/Bipbip_mais_im_03291patch2.png  \n",
            "  inflating: Development_Dataset/Training/Bipbip/Mais/Masks/Bipbip_mais_im_03291patch3.png  \n",
            "  inflating: Development_Dataset/Training/Bipbip/Mais/Masks/Bipbip_mais_im_03291patch4.png  \n",
            "  inflating: Development_Dataset/Training/Bipbip/Mais/Masks/Bipbip_mais_im_03291patch5.png  \n",
            "  inflating: Development_Dataset/Training/Bipbip/Mais/Masks/Bipbip_mais_im_03291patch6.png  \n",
            "  inflating: Development_Dataset/Training/Bipbip/Mais/Masks/Bipbip_mais_im_03291patch7.png  \n",
            "  inflating: Development_Dataset/Training/Bipbip/Mais/Masks/Bipbip_mais_im_03391patch0.png  \n",
            "  inflating: Development_Dataset/Training/Bipbip/Mais/Masks/Bipbip_mais_im_03391patch1.png  \n",
            "  inflating: Development_Dataset/Training/Bipbip/Mais/Masks/Bipbip_mais_im_03391patch2.png  \n",
            "  inflating: Development_Dataset/Training/Bipbip/Mais/Masks/Bipbip_mais_im_03391patch3.png  \n",
            "  inflating: Development_Dataset/Training/Bipbip/Mais/Masks/Bipbip_mais_im_03391patch4.png  \n",
            "  inflating: Development_Dataset/Training/Bipbip/Mais/Masks/Bipbip_mais_im_03391patch5.png  \n",
            "  inflating: Development_Dataset/Training/Bipbip/Mais/Masks/Bipbip_mais_im_03391patch6.png  \n",
            "  inflating: Development_Dataset/Training/Bipbip/Mais/Masks/Bipbip_mais_im_03391patch7.png  \n",
            "  inflating: Development_Dataset/Training/Bipbip/Mais/Masks/Bipbip_mais_im_03511patch0.png  \n",
            "  inflating: Development_Dataset/Training/Bipbip/Mais/Masks/Bipbip_mais_im_03511patch1.png  \n",
            "  inflating: Development_Dataset/Training/Bipbip/Mais/Masks/Bipbip_mais_im_03511patch2.png  \n",
            "  inflating: Development_Dataset/Training/Bipbip/Mais/Masks/Bipbip_mais_im_03511patch3.png  \n",
            "  inflating: Development_Dataset/Training/Bipbip/Mais/Masks/Bipbip_mais_im_03511patch4.png  \n",
            "  inflating: Development_Dataset/Training/Bipbip/Mais/Masks/Bipbip_mais_im_03511patch5.png  \n",
            "  inflating: Development_Dataset/Training/Bipbip/Mais/Masks/Bipbip_mais_im_03511patch6.png  \n",
            "  inflating: Development_Dataset/Training/Bipbip/Mais/Masks/Bipbip_mais_im_03511patch7.png  \n",
            "  inflating: Development_Dataset/Training/Bipbip/Mais/Masks/Bipbip_mais_im_03581patch0.png  \n",
            "  inflating: Development_Dataset/Training/Bipbip/Mais/Masks/Bipbip_mais_im_03581patch1.png  \n",
            "  inflating: Development_Dataset/Training/Bipbip/Mais/Masks/Bipbip_mais_im_03581patch2.png  \n",
            "  inflating: Development_Dataset/Training/Bipbip/Mais/Masks/Bipbip_mais_im_03581patch3.png  \n",
            "  inflating: Development_Dataset/Training/Bipbip/Mais/Masks/Bipbip_mais_im_03581patch4.png  \n",
            "  inflating: Development_Dataset/Training/Bipbip/Mais/Masks/Bipbip_mais_im_03581patch5.png  \n",
            "  inflating: Development_Dataset/Training/Bipbip/Mais/Masks/Bipbip_mais_im_03581patch6.png  \n",
            "  inflating: Development_Dataset/Training/Bipbip/Mais/Masks/Bipbip_mais_im_03581patch7.png  \n",
            "  inflating: Development_Dataset/Training/Bipbip/Mais/Masks/Bipbip_mais_im_03691patch0.png  \n",
            "  inflating: Development_Dataset/Training/Bipbip/Mais/Masks/Bipbip_mais_im_03691patch1.png  \n",
            "  inflating: Development_Dataset/Training/Bipbip/Mais/Masks/Bipbip_mais_im_03691patch2.png  \n",
            "  inflating: Development_Dataset/Training/Bipbip/Mais/Masks/Bipbip_mais_im_03691patch3.png  \n",
            "  inflating: Development_Dataset/Training/Bipbip/Mais/Masks/Bipbip_mais_im_03691patch4.png  \n",
            "  inflating: Development_Dataset/Training/Bipbip/Mais/Masks/Bipbip_mais_im_03691patch5.png  \n",
            "  inflating: Development_Dataset/Training/Bipbip/Mais/Masks/Bipbip_mais_im_03691patch6.png  \n",
            "  inflating: Development_Dataset/Training/Bipbip/Mais/Masks/Bipbip_mais_im_03691patch7.png  \n",
            "  inflating: Development_Dataset/Training/Bipbip/Mais/Masks/Bipbip_mais_im_03751patch0.png  \n",
            "  inflating: Development_Dataset/Training/Bipbip/Mais/Masks/Bipbip_mais_im_03751patch1.png  \n",
            "  inflating: Development_Dataset/Training/Bipbip/Mais/Masks/Bipbip_mais_im_03751patch2.png  \n",
            "  inflating: Development_Dataset/Training/Bipbip/Mais/Masks/Bipbip_mais_im_03751patch3.png  \n",
            "  inflating: Development_Dataset/Training/Bipbip/Mais/Masks/Bipbip_mais_im_03751patch4.png  \n",
            "  inflating: Development_Dataset/Training/Bipbip/Mais/Masks/Bipbip_mais_im_03751patch5.png  \n",
            "  inflating: Development_Dataset/Training/Bipbip/Mais/Masks/Bipbip_mais_im_03751patch6.png  \n",
            "  inflating: Development_Dataset/Training/Bipbip/Mais/Masks/Bipbip_mais_im_03751patch7.png  \n",
            "  inflating: Development_Dataset/Training/Bipbip/Mais/Masks/Bipbip_mais_im_03811patch0.png  \n",
            "  inflating: Development_Dataset/Training/Bipbip/Mais/Masks/Bipbip_mais_im_03811patch1.png  \n",
            "  inflating: Development_Dataset/Training/Bipbip/Mais/Masks/Bipbip_mais_im_03811patch2.png  \n",
            "  inflating: Development_Dataset/Training/Bipbip/Mais/Masks/Bipbip_mais_im_03811patch3.png  \n",
            "  inflating: Development_Dataset/Training/Bipbip/Mais/Masks/Bipbip_mais_im_03811patch4.png  \n",
            "  inflating: Development_Dataset/Training/Bipbip/Mais/Masks/Bipbip_mais_im_03811patch5.png  \n",
            "  inflating: Development_Dataset/Training/Bipbip/Mais/Masks/Bipbip_mais_im_03811patch6.png  \n",
            "  inflating: Development_Dataset/Training/Bipbip/Mais/Masks/Bipbip_mais_im_03811patch7.png  \n",
            "  inflating: Development_Dataset/Training/Bipbip/Mais/Masks/Bipbip_mais_im_03871patch0.png  \n",
            "  inflating: Development_Dataset/Training/Bipbip/Mais/Masks/Bipbip_mais_im_03871patch1.png  \n",
            "  inflating: Development_Dataset/Training/Bipbip/Mais/Masks/Bipbip_mais_im_03871patch2.png  \n",
            "  inflating: Development_Dataset/Training/Bipbip/Mais/Masks/Bipbip_mais_im_03871patch3.png  \n",
            "  inflating: Development_Dataset/Training/Bipbip/Mais/Masks/Bipbip_mais_im_03871patch4.png  \n",
            "  inflating: Development_Dataset/Training/Bipbip/Mais/Masks/Bipbip_mais_im_03871patch5.png  \n",
            "  inflating: Development_Dataset/Training/Bipbip/Mais/Masks/Bipbip_mais_im_03871patch6.png  \n",
            "  inflating: Development_Dataset/Training/Bipbip/Mais/Masks/Bipbip_mais_im_03871patch7.png  \n",
            "  inflating: Development_Dataset/Training/Bipbip/Mais/Masks/Bipbip_mais_im_03921patch0.png  \n",
            "  inflating: Development_Dataset/Training/Bipbip/Mais/Masks/Bipbip_mais_im_03921patch1.png  \n",
            "  inflating: Development_Dataset/Training/Bipbip/Mais/Masks/Bipbip_mais_im_03921patch2.png  \n",
            "  inflating: Development_Dataset/Training/Bipbip/Mais/Masks/Bipbip_mais_im_03921patch3.png  \n",
            "  inflating: Development_Dataset/Training/Bipbip/Mais/Masks/Bipbip_mais_im_03921patch4.png  \n",
            "  inflating: Development_Dataset/Training/Bipbip/Mais/Masks/Bipbip_mais_im_03921patch5.png  \n",
            "  inflating: Development_Dataset/Training/Bipbip/Mais/Masks/Bipbip_mais_im_03921patch6.png  \n",
            "  inflating: Development_Dataset/Training/Bipbip/Mais/Masks/Bipbip_mais_im_03921patch7.png  \n",
            "  inflating: Development_Dataset/Training/Bipbip/Mais/Masks/Bipbip_mais_im_04031patch0.png  \n",
            "  inflating: Development_Dataset/Training/Bipbip/Mais/Masks/Bipbip_mais_im_04031patch1.png  \n",
            "  inflating: Development_Dataset/Training/Bipbip/Mais/Masks/Bipbip_mais_im_04031patch2.png  \n",
            "  inflating: Development_Dataset/Training/Bipbip/Mais/Masks/Bipbip_mais_im_04031patch3.png  \n",
            "  inflating: Development_Dataset/Training/Bipbip/Mais/Masks/Bipbip_mais_im_04031patch4.png  \n",
            "  inflating: Development_Dataset/Training/Bipbip/Mais/Masks/Bipbip_mais_im_04031patch5.png  \n",
            "  inflating: Development_Dataset/Training/Bipbip/Mais/Masks/Bipbip_mais_im_04031patch6.png  \n",
            "  inflating: Development_Dataset/Training/Bipbip/Mais/Masks/Bipbip_mais_im_04031patch7.png  \n",
            "  inflating: Development_Dataset/Training/Bipbip/Mais/Masks/Bipbip_mais_im_04501patch0.png  \n",
            "  inflating: Development_Dataset/Training/Bipbip/Mais/Masks/Bipbip_mais_im_04501patch1.png  \n",
            "  inflating: Development_Dataset/Training/Bipbip/Mais/Masks/Bipbip_mais_im_04501patch2.png  \n",
            "  inflating: Development_Dataset/Training/Bipbip/Mais/Masks/Bipbip_mais_im_04501patch3.png  \n",
            "  inflating: Development_Dataset/Training/Bipbip/Mais/Masks/Bipbip_mais_im_04501patch4.png  \n",
            "  inflating: Development_Dataset/Training/Bipbip/Mais/Masks/Bipbip_mais_im_04501patch5.png  \n",
            "  inflating: Development_Dataset/Training/Bipbip/Mais/Masks/Bipbip_mais_im_04501patch6.png  \n",
            "  inflating: Development_Dataset/Training/Bipbip/Mais/Masks/Bipbip_mais_im_04501patch7.png  \n",
            "  inflating: Development_Dataset/Training/Bipbip/Mais/Masks/Bipbip_mais_im_04561patch0.png  \n",
            "  inflating: Development_Dataset/Training/Bipbip/Mais/Masks/Bipbip_mais_im_04561patch1.png  \n",
            "  inflating: Development_Dataset/Training/Bipbip/Mais/Masks/Bipbip_mais_im_04561patch2.png  \n",
            "  inflating: Development_Dataset/Training/Bipbip/Mais/Masks/Bipbip_mais_im_04561patch3.png  \n",
            "  inflating: Development_Dataset/Training/Bipbip/Mais/Masks/Bipbip_mais_im_04561patch4.png  \n",
            "  inflating: Development_Dataset/Training/Bipbip/Mais/Masks/Bipbip_mais_im_04561patch5.png  \n",
            "  inflating: Development_Dataset/Training/Bipbip/Mais/Masks/Bipbip_mais_im_04561patch6.png  \n",
            "  inflating: Development_Dataset/Training/Bipbip/Mais/Masks/Bipbip_mais_im_04561patch7.png  \n",
            "  inflating: Development_Dataset/Training/Bipbip/Mais/Masks/Bipbip_mais_im_04621patch0.png  \n",
            "  inflating: Development_Dataset/Training/Bipbip/Mais/Masks/Bipbip_mais_im_04621patch1.png  \n",
            "  inflating: Development_Dataset/Training/Bipbip/Mais/Masks/Bipbip_mais_im_04621patch2.png  \n",
            "  inflating: Development_Dataset/Training/Bipbip/Mais/Masks/Bipbip_mais_im_04621patch3.png  \n",
            "  inflating: Development_Dataset/Training/Bipbip/Mais/Masks/Bipbip_mais_im_04621patch4.png  \n",
            "  inflating: Development_Dataset/Training/Bipbip/Mais/Masks/Bipbip_mais_im_04621patch5.png  \n",
            "  inflating: Development_Dataset/Training/Bipbip/Mais/Masks/Bipbip_mais_im_04621patch6.png  \n",
            "  inflating: Development_Dataset/Training/Bipbip/Mais/Masks/Bipbip_mais_im_04621patch7.png  \n",
            "  inflating: Development_Dataset/Training/Bipbip/Mais/Masks/Bipbip_mais_im_04671patch0.png  \n",
            "  inflating: Development_Dataset/Training/Bipbip/Mais/Masks/Bipbip_mais_im_04671patch1.png  \n",
            "  inflating: Development_Dataset/Training/Bipbip/Mais/Masks/Bipbip_mais_im_04671patch2.png  \n",
            "  inflating: Development_Dataset/Training/Bipbip/Mais/Masks/Bipbip_mais_im_04671patch3.png  \n",
            "  inflating: Development_Dataset/Training/Bipbip/Mais/Masks/Bipbip_mais_im_04671patch4.png  \n",
            "  inflating: Development_Dataset/Training/Bipbip/Mais/Masks/Bipbip_mais_im_04671patch5.png  \n",
            "  inflating: Development_Dataset/Training/Bipbip/Mais/Masks/Bipbip_mais_im_04671patch6.png  \n",
            "  inflating: Development_Dataset/Training/Bipbip/Mais/Masks/Bipbip_mais_im_04671patch7.png  \n",
            "  inflating: Development_Dataset/Training/Bipbip/Mais/Masks/Bipbip_mais_im_04781patch0.png  \n",
            "  inflating: Development_Dataset/Training/Bipbip/Mais/Masks/Bipbip_mais_im_04781patch1.png  \n",
            "  inflating: Development_Dataset/Training/Bipbip/Mais/Masks/Bipbip_mais_im_04781patch2.png  \n",
            "  inflating: Development_Dataset/Training/Bipbip/Mais/Masks/Bipbip_mais_im_04781patch3.png  \n",
            "  inflating: Development_Dataset/Training/Bipbip/Mais/Masks/Bipbip_mais_im_04781patch4.png  \n",
            "  inflating: Development_Dataset/Training/Bipbip/Mais/Masks/Bipbip_mais_im_04781patch5.png  \n",
            "  inflating: Development_Dataset/Training/Bipbip/Mais/Masks/Bipbip_mais_im_04781patch6.png  \n",
            "  inflating: Development_Dataset/Training/Bipbip/Mais/Masks/Bipbip_mais_im_04781patch7.png  \n",
            "  inflating: Development_Dataset/Training/Bipbip/Mais/Masks/Bipbip_mais_im_04911patch0.png  \n",
            "  inflating: Development_Dataset/Training/Bipbip/Mais/Masks/Bipbip_mais_im_04911patch1.png  \n",
            "  inflating: Development_Dataset/Training/Bipbip/Mais/Masks/Bipbip_mais_im_04911patch2.png  \n",
            "  inflating: Development_Dataset/Training/Bipbip/Mais/Masks/Bipbip_mais_im_04911patch3.png  \n",
            "  inflating: Development_Dataset/Training/Bipbip/Mais/Masks/Bipbip_mais_im_04911patch4.png  \n",
            "  inflating: Development_Dataset/Training/Bipbip/Mais/Masks/Bipbip_mais_im_04911patch5.png  \n",
            "  inflating: Development_Dataset/Training/Bipbip/Mais/Masks/Bipbip_mais_im_04911patch6.png  \n",
            "  inflating: Development_Dataset/Training/Bipbip/Mais/Masks/Bipbip_mais_im_04911patch7.png  \n",
            "  inflating: Development_Dataset/Training/Bipbip/Mais/Masks/Bipbip_mais_im_05031patch0.png  \n",
            "  inflating: Development_Dataset/Training/Bipbip/Mais/Masks/Bipbip_mais_im_05031patch1.png  \n",
            "  inflating: Development_Dataset/Training/Bipbip/Mais/Masks/Bipbip_mais_im_05031patch2.png  \n",
            "  inflating: Development_Dataset/Training/Bipbip/Mais/Masks/Bipbip_mais_im_05031patch3.png  \n",
            "  inflating: Development_Dataset/Training/Bipbip/Mais/Masks/Bipbip_mais_im_05031patch4.png  \n",
            "  inflating: Development_Dataset/Training/Bipbip/Mais/Masks/Bipbip_mais_im_05031patch5.png  \n",
            "  inflating: Development_Dataset/Training/Bipbip/Mais/Masks/Bipbip_mais_im_05031patch6.png  \n",
            "  inflating: Development_Dataset/Training/Bipbip/Mais/Masks/Bipbip_mais_im_05031patch7.png  \n",
            "  inflating: Development_Dataset/Training/Bipbip/Mais/Masks/Bipbip_mais_im_05221patch0.png  \n",
            "  inflating: Development_Dataset/Training/Bipbip/Mais/Masks/Bipbip_mais_im_05221patch1.png  \n",
            "  inflating: Development_Dataset/Training/Bipbip/Mais/Masks/Bipbip_mais_im_05221patch2.png  \n",
            "  inflating: Development_Dataset/Training/Bipbip/Mais/Masks/Bipbip_mais_im_05221patch3.png  \n",
            "  inflating: Development_Dataset/Training/Bipbip/Mais/Masks/Bipbip_mais_im_05221patch4.png  \n",
            "  inflating: Development_Dataset/Training/Bipbip/Mais/Masks/Bipbip_mais_im_05221patch5.png  \n",
            "  inflating: Development_Dataset/Training/Bipbip/Mais/Masks/Bipbip_mais_im_05221patch6.png  \n",
            "  inflating: Development_Dataset/Training/Bipbip/Mais/Masks/Bipbip_mais_im_05221patch7.png  \n",
            "  inflating: Development_Dataset/Training/Bipbip/Mais/Masks/Bipbip_mais_im_05281patch0.png  \n",
            "  inflating: Development_Dataset/Training/Bipbip/Mais/Masks/Bipbip_mais_im_05281patch1.png  \n",
            "  inflating: Development_Dataset/Training/Bipbip/Mais/Masks/Bipbip_mais_im_05281patch2.png  \n",
            "  inflating: Development_Dataset/Training/Bipbip/Mais/Masks/Bipbip_mais_im_05281patch3.png  \n",
            "  inflating: Development_Dataset/Training/Bipbip/Mais/Masks/Bipbip_mais_im_05281patch4.png  \n",
            "  inflating: Development_Dataset/Training/Bipbip/Mais/Masks/Bipbip_mais_im_05281patch5.png  \n",
            "  inflating: Development_Dataset/Training/Bipbip/Mais/Masks/Bipbip_mais_im_05281patch6.png  \n",
            "  inflating: Development_Dataset/Training/Bipbip/Mais/Masks/Bipbip_mais_im_05281patch7.png  \n",
            "  inflating: Development_Dataset/Training/Bipbip/Mais/Masks/Bipbip_mais_im_05381patch0.png  \n",
            "  inflating: Development_Dataset/Training/Bipbip/Mais/Masks/Bipbip_mais_im_05381patch1.png  \n",
            "  inflating: Development_Dataset/Training/Bipbip/Mais/Masks/Bipbip_mais_im_05381patch2.png  \n",
            "  inflating: Development_Dataset/Training/Bipbip/Mais/Masks/Bipbip_mais_im_05381patch3.png  \n",
            "  inflating: Development_Dataset/Training/Bipbip/Mais/Masks/Bipbip_mais_im_05381patch4.png  \n",
            "  inflating: Development_Dataset/Training/Bipbip/Mais/Masks/Bipbip_mais_im_05381patch5.png  \n",
            "  inflating: Development_Dataset/Training/Bipbip/Mais/Masks/Bipbip_mais_im_05381patch6.png  \n",
            "  inflating: Development_Dataset/Training/Bipbip/Mais/Masks/Bipbip_mais_im_05381patch7.png  \n",
            "  inflating: Development_Dataset/Training/Bipbip/Mais/Masks/Bipbip_mais_im_05451patch0.png  \n",
            "  inflating: Development_Dataset/Training/Bipbip/Mais/Masks/Bipbip_mais_im_05451patch1.png  \n",
            "  inflating: Development_Dataset/Training/Bipbip/Mais/Masks/Bipbip_mais_im_05451patch2.png  \n",
            "  inflating: Development_Dataset/Training/Bipbip/Mais/Masks/Bipbip_mais_im_05451patch3.png  \n",
            "  inflating: Development_Dataset/Training/Bipbip/Mais/Masks/Bipbip_mais_im_05451patch4.png  \n",
            "  inflating: Development_Dataset/Training/Bipbip/Mais/Masks/Bipbip_mais_im_05451patch5.png  \n",
            "  inflating: Development_Dataset/Training/Bipbip/Mais/Masks/Bipbip_mais_im_05451patch6.png  \n",
            "  inflating: Development_Dataset/Training/Bipbip/Mais/Masks/Bipbip_mais_im_05451patch7.png  \n",
            "  inflating: Development_Dataset/Training/Bipbip/Mais/Masks/Bipbip_mais_im_05691patch0.png  \n",
            "  inflating: Development_Dataset/Training/Bipbip/Mais/Masks/Bipbip_mais_im_05691patch1.png  \n",
            "  inflating: Development_Dataset/Training/Bipbip/Mais/Masks/Bipbip_mais_im_05691patch2.png  \n",
            "  inflating: Development_Dataset/Training/Bipbip/Mais/Masks/Bipbip_mais_im_05691patch3.png  \n",
            "  inflating: Development_Dataset/Training/Bipbip/Mais/Masks/Bipbip_mais_im_05691patch4.png  \n",
            "  inflating: Development_Dataset/Training/Bipbip/Mais/Masks/Bipbip_mais_im_05691patch5.png  \n",
            "  inflating: Development_Dataset/Training/Bipbip/Mais/Masks/Bipbip_mais_im_05691patch6.png  \n",
            "  inflating: Development_Dataset/Training/Bipbip/Mais/Masks/Bipbip_mais_im_05691patch7.png  \n",
            "  inflating: Development_Dataset/Training/Bipbip/Mais/Masks/Bipbip_mais_im_05801patch0.png  \n",
            "  inflating: Development_Dataset/Training/Bipbip/Mais/Masks/Bipbip_mais_im_05801patch1.png  \n",
            "  inflating: Development_Dataset/Training/Bipbip/Mais/Masks/Bipbip_mais_im_05801patch2.png  \n",
            "  inflating: Development_Dataset/Training/Bipbip/Mais/Masks/Bipbip_mais_im_05801patch3.png  \n",
            "  inflating: Development_Dataset/Training/Bipbip/Mais/Masks/Bipbip_mais_im_05801patch4.png  \n",
            "  inflating: Development_Dataset/Training/Bipbip/Mais/Masks/Bipbip_mais_im_05801patch5.png  \n",
            "  inflating: Development_Dataset/Training/Bipbip/Mais/Masks/Bipbip_mais_im_05801patch6.png  \n",
            "  inflating: Development_Dataset/Training/Bipbip/Mais/Masks/Bipbip_mais_im_05801patch7.png  \n",
            "  inflating: Development_Dataset/Training/Bipbip/Mais/Masks/Bipbip_mais_im_05871patch0.png  \n",
            "  inflating: Development_Dataset/Training/Bipbip/Mais/Masks/Bipbip_mais_im_05871patch1.png  \n",
            "  inflating: Development_Dataset/Training/Bipbip/Mais/Masks/Bipbip_mais_im_05871patch2.png  \n",
            "  inflating: Development_Dataset/Training/Bipbip/Mais/Masks/Bipbip_mais_im_05871patch3.png  \n",
            "  inflating: Development_Dataset/Training/Bipbip/Mais/Masks/Bipbip_mais_im_05871patch4.png  \n",
            "  inflating: Development_Dataset/Training/Bipbip/Mais/Masks/Bipbip_mais_im_05871patch5.png  \n",
            "  inflating: Development_Dataset/Training/Bipbip/Mais/Masks/Bipbip_mais_im_05871patch6.png  \n",
            "  inflating: Development_Dataset/Training/Bipbip/Mais/Masks/Bipbip_mais_im_05871patch7.png  \n",
            "  inflating: Development_Dataset/Training/Bipbip/Mais/Masks/Bipbip_mais_im_06071patch0.png  \n",
            "  inflating: Development_Dataset/Training/Bipbip/Mais/Masks/Bipbip_mais_im_06071patch1.png  \n",
            "  inflating: Development_Dataset/Training/Bipbip/Mais/Masks/Bipbip_mais_im_06071patch2.png  \n",
            "  inflating: Development_Dataset/Training/Bipbip/Mais/Masks/Bipbip_mais_im_06071patch3.png  \n",
            "  inflating: Development_Dataset/Training/Bipbip/Mais/Masks/Bipbip_mais_im_06071patch4.png  \n",
            "  inflating: Development_Dataset/Training/Bipbip/Mais/Masks/Bipbip_mais_im_06071patch5.png  \n",
            "  inflating: Development_Dataset/Training/Bipbip/Mais/Masks/Bipbip_mais_im_06071patch6.png  \n",
            "  inflating: Development_Dataset/Training/Bipbip/Mais/Masks/Bipbip_mais_im_06071patch7.png  \n",
            "  inflating: Development_Dataset/Training/Bipbip/Mais/Masks/Bipbip_mais_im_06141patch0.png  \n",
            "  inflating: Development_Dataset/Training/Bipbip/Mais/Masks/Bipbip_mais_im_06141patch1.png  \n",
            "  inflating: Development_Dataset/Training/Bipbip/Mais/Masks/Bipbip_mais_im_06141patch2.png  \n",
            "  inflating: Development_Dataset/Training/Bipbip/Mais/Masks/Bipbip_mais_im_06141patch3.png  \n",
            "  inflating: Development_Dataset/Training/Bipbip/Mais/Masks/Bipbip_mais_im_06141patch4.png  \n",
            "  inflating: Development_Dataset/Training/Bipbip/Mais/Masks/Bipbip_mais_im_06141patch5.png  \n",
            "  inflating: Development_Dataset/Training/Bipbip/Mais/Masks/Bipbip_mais_im_06141patch6.png  \n",
            "  inflating: Development_Dataset/Training/Bipbip/Mais/Masks/Bipbip_mais_im_06141patch7.png  \n",
            "  inflating: Development_Dataset/Training/Bipbip/Mais/Masks/Bipbip_mais_im_06541patch0.png  \n",
            "  inflating: Development_Dataset/Training/Bipbip/Mais/Masks/Bipbip_mais_im_06541patch1.png  \n",
            "  inflating: Development_Dataset/Training/Bipbip/Mais/Masks/Bipbip_mais_im_06541patch2.png  \n",
            "  inflating: Development_Dataset/Training/Bipbip/Mais/Masks/Bipbip_mais_im_06541patch3.png  \n",
            "  inflating: Development_Dataset/Training/Bipbip/Mais/Masks/Bipbip_mais_im_06541patch4.png  \n",
            "  inflating: Development_Dataset/Training/Bipbip/Mais/Masks/Bipbip_mais_im_06541patch5.png  \n",
            "  inflating: Development_Dataset/Training/Bipbip/Mais/Masks/Bipbip_mais_im_06541patch6.png  \n",
            "  inflating: Development_Dataset/Training/Bipbip/Mais/Masks/Bipbip_mais_im_06541patch7.png  \n",
            "  inflating: Development_Dataset/Training/Bipbip/Mais/Masks/Bipbip_mais_im_06691patch0.png  \n",
            "  inflating: Development_Dataset/Training/Bipbip/Mais/Masks/Bipbip_mais_im_06691patch1.png  \n",
            "  inflating: Development_Dataset/Training/Bipbip/Mais/Masks/Bipbip_mais_im_06691patch2.png  \n",
            "  inflating: Development_Dataset/Training/Bipbip/Mais/Masks/Bipbip_mais_im_06691patch3.png  \n",
            "  inflating: Development_Dataset/Training/Bipbip/Mais/Masks/Bipbip_mais_im_06691patch4.png  \n",
            "  inflating: Development_Dataset/Training/Bipbip/Mais/Masks/Bipbip_mais_im_06691patch5.png  \n",
            "  inflating: Development_Dataset/Training/Bipbip/Mais/Masks/Bipbip_mais_im_06691patch6.png  \n",
            "  inflating: Development_Dataset/Training/Bipbip/Mais/Masks/Bipbip_mais_im_06691patch7.png  \n",
            "  inflating: Development_Dataset/Training/Bipbip/Mais/Masks/Bipbip_mais_im_06961patch0.png  \n",
            "  inflating: Development_Dataset/Training/Bipbip/Mais/Masks/Bipbip_mais_im_06961patch1.png  \n",
            "  inflating: Development_Dataset/Training/Bipbip/Mais/Masks/Bipbip_mais_im_06961patch2.png  \n",
            "  inflating: Development_Dataset/Training/Bipbip/Mais/Masks/Bipbip_mais_im_06961patch3.png  \n",
            "  inflating: Development_Dataset/Training/Bipbip/Mais/Masks/Bipbip_mais_im_06961patch4.png  \n",
            "  inflating: Development_Dataset/Training/Bipbip/Mais/Masks/Bipbip_mais_im_06961patch5.png  \n",
            "  inflating: Development_Dataset/Training/Bipbip/Mais/Masks/Bipbip_mais_im_06961patch6.png  \n",
            "  inflating: Development_Dataset/Training/Bipbip/Mais/Masks/Bipbip_mais_im_06961patch7.png  \n",
            "  inflating: Development_Dataset/Training/Bipbip/Mais/Masks/Bipbip_mais_im_07041patch0.png  \n",
            "  inflating: Development_Dataset/Training/Bipbip/Mais/Masks/Bipbip_mais_im_07041patch1.png  \n",
            "  inflating: Development_Dataset/Training/Bipbip/Mais/Masks/Bipbip_mais_im_07041patch2.png  \n",
            "  inflating: Development_Dataset/Training/Bipbip/Mais/Masks/Bipbip_mais_im_07041patch3.png  \n",
            "  inflating: Development_Dataset/Training/Bipbip/Mais/Masks/Bipbip_mais_im_07041patch4.png  \n",
            "  inflating: Development_Dataset/Training/Bipbip/Mais/Masks/Bipbip_mais_im_07041patch5.png  \n",
            "  inflating: Development_Dataset/Training/Bipbip/Mais/Masks/Bipbip_mais_im_07041patch6.png  \n",
            "  inflating: Development_Dataset/Training/Bipbip/Mais/Masks/Bipbip_mais_im_07041patch7.png  \n",
            "  inflating: Development_Dataset/Training/Bipbip/Mais/Masks/Bipbip_mais_im_07181patch0.png  \n",
            "  inflating: Development_Dataset/Training/Bipbip/Mais/Masks/Bipbip_mais_im_07181patch1.png  \n",
            "  inflating: Development_Dataset/Training/Bipbip/Mais/Masks/Bipbip_mais_im_07181patch2.png  \n",
            "  inflating: Development_Dataset/Training/Bipbip/Mais/Masks/Bipbip_mais_im_07181patch3.png  \n",
            "  inflating: Development_Dataset/Training/Bipbip/Mais/Masks/Bipbip_mais_im_07181patch4.png  \n",
            "  inflating: Development_Dataset/Training/Bipbip/Mais/Masks/Bipbip_mais_im_07181patch5.png  \n",
            "  inflating: Development_Dataset/Training/Bipbip/Mais/Masks/Bipbip_mais_im_07181patch6.png  \n",
            "  inflating: Development_Dataset/Training/Bipbip/Mais/Masks/Bipbip_mais_im_07181patch7.png  \n",
            "  inflating: Development_Dataset/Training/Bipbip/Mais/Masks/Bipbip_mais_im_07271patch0.png  \n",
            "  inflating: Development_Dataset/Training/Bipbip/Mais/Masks/Bipbip_mais_im_07271patch1.png  \n",
            "  inflating: Development_Dataset/Training/Bipbip/Mais/Masks/Bipbip_mais_im_07271patch2.png  \n",
            "  inflating: Development_Dataset/Training/Bipbip/Mais/Masks/Bipbip_mais_im_07271patch3.png  \n",
            "  inflating: Development_Dataset/Training/Bipbip/Mais/Masks/Bipbip_mais_im_07271patch4.png  \n",
            "  inflating: Development_Dataset/Training/Bipbip/Mais/Masks/Bipbip_mais_im_07271patch5.png  \n",
            "  inflating: Development_Dataset/Training/Bipbip/Mais/Masks/Bipbip_mais_im_07271patch6.png  \n",
            "  inflating: Development_Dataset/Training/Bipbip/Mais/Masks/Bipbip_mais_im_07271patch7.png  \n",
            "  inflating: Development_Dataset/Training/Bipbip/Mais/Masks/Bipbip_mais_im_07351patch0.png  \n",
            "  inflating: Development_Dataset/Training/Bipbip/Mais/Masks/Bipbip_mais_im_07351patch1.png  \n",
            "  inflating: Development_Dataset/Training/Bipbip/Mais/Masks/Bipbip_mais_im_07351patch2.png  \n",
            "  inflating: Development_Dataset/Training/Bipbip/Mais/Masks/Bipbip_mais_im_07351patch3.png  \n",
            "  inflating: Development_Dataset/Training/Bipbip/Mais/Masks/Bipbip_mais_im_07351patch4.png  \n",
            "  inflating: Development_Dataset/Training/Bipbip/Mais/Masks/Bipbip_mais_im_07351patch5.png  \n",
            "  inflating: Development_Dataset/Training/Bipbip/Mais/Masks/Bipbip_mais_im_07351patch6.png  \n",
            "  inflating: Development_Dataset/Training/Bipbip/Mais/Masks/Bipbip_mais_im_07351patch7.png  \n",
            "  inflating: Development_Dataset/Training/Bipbip/Mais/Masks/Bipbip_mais_im_07451patch0.png  \n",
            "  inflating: Development_Dataset/Training/Bipbip/Mais/Masks/Bipbip_mais_im_07451patch1.png  \n",
            "  inflating: Development_Dataset/Training/Bipbip/Mais/Masks/Bipbip_mais_im_07451patch2.png  \n",
            "  inflating: Development_Dataset/Training/Bipbip/Mais/Masks/Bipbip_mais_im_07451patch3.png  \n",
            "  inflating: Development_Dataset/Training/Bipbip/Mais/Masks/Bipbip_mais_im_07451patch4.png  \n",
            "  inflating: Development_Dataset/Training/Bipbip/Mais/Masks/Bipbip_mais_im_07451patch5.png  \n",
            "  inflating: Development_Dataset/Training/Bipbip/Mais/Masks/Bipbip_mais_im_07451patch6.png  \n",
            "  inflating: Development_Dataset/Training/Bipbip/Mais/Masks/Bipbip_mais_im_07451patch7.png  \n",
            "  inflating: Development_Dataset/Training/Bipbip/Mais/Masks/Bipbip_mais_im_07531patch0.png  \n",
            "  inflating: Development_Dataset/Training/Bipbip/Mais/Masks/Bipbip_mais_im_07531patch1.png  \n",
            "  inflating: Development_Dataset/Training/Bipbip/Mais/Masks/Bipbip_mais_im_07531patch2.png  \n",
            "  inflating: Development_Dataset/Training/Bipbip/Mais/Masks/Bipbip_mais_im_07531patch3.png  \n",
            "  inflating: Development_Dataset/Training/Bipbip/Mais/Masks/Bipbip_mais_im_07531patch4.png  \n",
            "  inflating: Development_Dataset/Training/Bipbip/Mais/Masks/Bipbip_mais_im_07531patch5.png  \n",
            "  inflating: Development_Dataset/Training/Bipbip/Mais/Masks/Bipbip_mais_im_07531patch6.png  \n",
            "  inflating: Development_Dataset/Training/Bipbip/Mais/Masks/Bipbip_mais_im_07531patch7.png  \n",
            "  inflating: Development_Dataset/Training/Bipbip/Mais/Masks/Bipbip_mais_im_07761patch0.png  \n",
            "  inflating: Development_Dataset/Training/Bipbip/Mais/Masks/Bipbip_mais_im_07761patch1.png  \n",
            "  inflating: Development_Dataset/Training/Bipbip/Mais/Masks/Bipbip_mais_im_07761patch2.png  \n",
            "  inflating: Development_Dataset/Training/Bipbip/Mais/Masks/Bipbip_mais_im_07761patch3.png  \n",
            "  inflating: Development_Dataset/Training/Bipbip/Mais/Masks/Bipbip_mais_im_07761patch4.png  \n",
            "  inflating: Development_Dataset/Training/Bipbip/Mais/Masks/Bipbip_mais_im_07761patch5.png  \n",
            "  inflating: Development_Dataset/Training/Bipbip/Mais/Masks/Bipbip_mais_im_07761patch6.png  \n",
            "  inflating: Development_Dataset/Training/Bipbip/Mais/Masks/Bipbip_mais_im_07761patch7.png  \n",
            "  inflating: Development_Dataset/Training/Bipbip/Mais/Masks/Bipbip_mais_im_07831patch0.png  \n",
            "  inflating: Development_Dataset/Training/Bipbip/Mais/Masks/Bipbip_mais_im_07831patch1.png  \n",
            "  inflating: Development_Dataset/Training/Bipbip/Mais/Masks/Bipbip_mais_im_07831patch2.png  \n",
            "  inflating: Development_Dataset/Training/Bipbip/Mais/Masks/Bipbip_mais_im_07831patch3.png  \n",
            "  inflating: Development_Dataset/Training/Bipbip/Mais/Masks/Bipbip_mais_im_07831patch4.png  \n",
            "  inflating: Development_Dataset/Training/Bipbip/Mais/Masks/Bipbip_mais_im_07831patch5.png  \n",
            "  inflating: Development_Dataset/Training/Bipbip/Mais/Masks/Bipbip_mais_im_07831patch6.png  \n",
            "  inflating: Development_Dataset/Training/Bipbip/Mais/Masks/Bipbip_mais_im_07831patch7.png  \n",
            "  inflating: Development_Dataset/Training/Bipbip/Mais/Masks/Bipbip_mais_im_07911patch0.png  \n",
            "  inflating: Development_Dataset/Training/Bipbip/Mais/Masks/Bipbip_mais_im_07911patch1.png  \n",
            "  inflating: Development_Dataset/Training/Bipbip/Mais/Masks/Bipbip_mais_im_07911patch2.png  \n",
            "  inflating: Development_Dataset/Training/Bipbip/Mais/Masks/Bipbip_mais_im_07911patch3.png  \n",
            "  inflating: Development_Dataset/Training/Bipbip/Mais/Masks/Bipbip_mais_im_07911patch4.png  \n",
            "  inflating: Development_Dataset/Training/Bipbip/Mais/Masks/Bipbip_mais_im_07911patch5.png  \n",
            "  inflating: Development_Dataset/Training/Bipbip/Mais/Masks/Bipbip_mais_im_07911patch6.png  \n",
            "  inflating: Development_Dataset/Training/Bipbip/Mais/Masks/Bipbip_mais_im_07911patch7.png  \n",
            "  inflating: Development_Dataset/Training/Bipbip/Mais/Masks/Bipbip_mais_im_07991patch0.png  \n",
            "  inflating: Development_Dataset/Training/Bipbip/Mais/Masks/Bipbip_mais_im_07991patch1.png  \n",
            "  inflating: Development_Dataset/Training/Bipbip/Mais/Masks/Bipbip_mais_im_07991patch2.png  \n",
            "  inflating: Development_Dataset/Training/Bipbip/Mais/Masks/Bipbip_mais_im_07991patch3.png  \n",
            "  inflating: Development_Dataset/Training/Bipbip/Mais/Masks/Bipbip_mais_im_07991patch4.png  \n",
            "  inflating: Development_Dataset/Training/Bipbip/Mais/Masks/Bipbip_mais_im_07991patch5.png  \n",
            "  inflating: Development_Dataset/Training/Bipbip/Mais/Masks/Bipbip_mais_im_07991patch6.png  \n",
            "  inflating: Development_Dataset/Training/Bipbip/Mais/Masks/Bipbip_mais_im_07991patch7.png  \n",
            "  inflating: Development_Dataset/Training/Bipbip/Mais/Masks/Bipbip_mais_im_08061patch0.png  \n",
            "  inflating: Development_Dataset/Training/Bipbip/Mais/Masks/Bipbip_mais_im_08061patch1.png  \n",
            "  inflating: Development_Dataset/Training/Bipbip/Mais/Masks/Bipbip_mais_im_08061patch2.png  \n",
            "  inflating: Development_Dataset/Training/Bipbip/Mais/Masks/Bipbip_mais_im_08061patch3.png  \n",
            "  inflating: Development_Dataset/Training/Bipbip/Mais/Masks/Bipbip_mais_im_08061patch4.png  \n",
            "  inflating: Development_Dataset/Training/Bipbip/Mais/Masks/Bipbip_mais_im_08061patch5.png  \n",
            "  inflating: Development_Dataset/Training/Bipbip/Mais/Masks/Bipbip_mais_im_08061patch6.png  \n",
            "  inflating: Development_Dataset/Training/Bipbip/Mais/Masks/Bipbip_mais_im_08061patch7.png  \n",
            "  inflating: Development_Dataset/Training/Bipbip/Mais/Masks/Bipbip_mais_im_08121patch0.png  \n",
            "  inflating: Development_Dataset/Training/Bipbip/Mais/Masks/Bipbip_mais_im_08121patch1.png  \n",
            "  inflating: Development_Dataset/Training/Bipbip/Mais/Masks/Bipbip_mais_im_08121patch2.png  \n",
            "  inflating: Development_Dataset/Training/Bipbip/Mais/Masks/Bipbip_mais_im_08121patch3.png  \n",
            "  inflating: Development_Dataset/Training/Bipbip/Mais/Masks/Bipbip_mais_im_08121patch4.png  \n",
            "  inflating: Development_Dataset/Training/Bipbip/Mais/Masks/Bipbip_mais_im_08121patch5.png  \n",
            "  inflating: Development_Dataset/Training/Bipbip/Mais/Masks/Bipbip_mais_im_08121patch6.png  \n",
            "  inflating: Development_Dataset/Training/Bipbip/Mais/Masks/Bipbip_mais_im_08121patch7.png  \n",
            "  inflating: Development_Dataset/Training/Bipbip/Mais/Masks/Bipbip_mais_im_08261patch0.png  \n",
            "  inflating: Development_Dataset/Training/Bipbip/Mais/Masks/Bipbip_mais_im_08261patch1.png  \n",
            "  inflating: Development_Dataset/Training/Bipbip/Mais/Masks/Bipbip_mais_im_08261patch2.png  \n",
            "  inflating: Development_Dataset/Training/Bipbip/Mais/Masks/Bipbip_mais_im_08261patch3.png  \n",
            "  inflating: Development_Dataset/Training/Bipbip/Mais/Masks/Bipbip_mais_im_08261patch4.png  \n",
            "  inflating: Development_Dataset/Training/Bipbip/Mais/Masks/Bipbip_mais_im_08261patch5.png  \n",
            "  inflating: Development_Dataset/Training/Bipbip/Mais/Masks/Bipbip_mais_im_08261patch6.png  \n",
            "  inflating: Development_Dataset/Training/Bipbip/Mais/Masks/Bipbip_mais_im_08261patch7.png  \n",
            "  inflating: Development_Dataset/Training/Bipbip/Mais/Masks/Bipbip_mais_im_08321patch0.png  \n",
            "  inflating: Development_Dataset/Training/Bipbip/Mais/Masks/Bipbip_mais_im_08321patch1.png  \n",
            "  inflating: Development_Dataset/Training/Bipbip/Mais/Masks/Bipbip_mais_im_08321patch2.png  \n",
            "  inflating: Development_Dataset/Training/Bipbip/Mais/Masks/Bipbip_mais_im_08321patch3.png  \n",
            "  inflating: Development_Dataset/Training/Bipbip/Mais/Masks/Bipbip_mais_im_08321patch4.png  \n",
            "  inflating: Development_Dataset/Training/Bipbip/Mais/Masks/Bipbip_mais_im_08321patch5.png  \n",
            "  inflating: Development_Dataset/Training/Bipbip/Mais/Masks/Bipbip_mais_im_08321patch6.png  \n",
            "  inflating: Development_Dataset/Training/Bipbip/Mais/Masks/Bipbip_mais_im_08321patch7.png  \n",
            "  inflating: Development_Dataset/Training/Bipbip/Mais/Masks/Bipbip_mais_im_08381patch0.png  \n",
            "  inflating: Development_Dataset/Training/Bipbip/Mais/Masks/Bipbip_mais_im_08381patch1.png  \n",
            "  inflating: Development_Dataset/Training/Bipbip/Mais/Masks/Bipbip_mais_im_08381patch2.png  \n",
            "  inflating: Development_Dataset/Training/Bipbip/Mais/Masks/Bipbip_mais_im_08381patch3.png  \n",
            "  inflating: Development_Dataset/Training/Bipbip/Mais/Masks/Bipbip_mais_im_08381patch4.png  \n",
            "  inflating: Development_Dataset/Training/Bipbip/Mais/Masks/Bipbip_mais_im_08381patch5.png  \n",
            "  inflating: Development_Dataset/Training/Bipbip/Mais/Masks/Bipbip_mais_im_08381patch6.png  \n",
            "  inflating: Development_Dataset/Training/Bipbip/Mais/Masks/Bipbip_mais_im_08381patch7.png  \n",
            "  inflating: Development_Dataset/Training/Bipbip/Mais/Masks/Bipbip_mais_im_08441patch0.png  \n",
            "  inflating: Development_Dataset/Training/Bipbip/Mais/Masks/Bipbip_mais_im_08441patch1.png  \n",
            "  inflating: Development_Dataset/Training/Bipbip/Mais/Masks/Bipbip_mais_im_08441patch2.png  \n",
            "  inflating: Development_Dataset/Training/Bipbip/Mais/Masks/Bipbip_mais_im_08441patch3.png  \n",
            "  inflating: Development_Dataset/Training/Bipbip/Mais/Masks/Bipbip_mais_im_08441patch4.png  \n",
            "  inflating: Development_Dataset/Training/Bipbip/Mais/Masks/Bipbip_mais_im_08441patch5.png  \n",
            "  inflating: Development_Dataset/Training/Bipbip/Mais/Masks/Bipbip_mais_im_08441patch6.png  \n",
            "  inflating: Development_Dataset/Training/Bipbip/Mais/Masks/Bipbip_mais_im_08441patch7.png  \n",
            "  inflating: Development_Dataset/Training/Bipbip/Mais/Masks/Bipbip_mais_im_08511patch0.png  \n",
            "  inflating: Development_Dataset/Training/Bipbip/Mais/Masks/Bipbip_mais_im_08511patch1.png  \n",
            "  inflating: Development_Dataset/Training/Bipbip/Mais/Masks/Bipbip_mais_im_08511patch2.png  \n",
            "  inflating: Development_Dataset/Training/Bipbip/Mais/Masks/Bipbip_mais_im_08511patch3.png  \n",
            "  inflating: Development_Dataset/Training/Bipbip/Mais/Masks/Bipbip_mais_im_08511patch4.png  \n",
            "  inflating: Development_Dataset/Training/Bipbip/Mais/Masks/Bipbip_mais_im_08511patch5.png  \n",
            "  inflating: Development_Dataset/Training/Bipbip/Mais/Masks/Bipbip_mais_im_08511patch6.png  \n",
            "  inflating: Development_Dataset/Training/Bipbip/Mais/Masks/Bipbip_mais_im_08511patch7.png  \n",
            "  inflating: Development_Dataset/Training/Bipbip/Mais/Masks/Bipbip_mais_im_08581patch0.png  \n",
            "  inflating: Development_Dataset/Training/Bipbip/Mais/Masks/Bipbip_mais_im_08581patch1.png  \n",
            "  inflating: Development_Dataset/Training/Bipbip/Mais/Masks/Bipbip_mais_im_08581patch2.png  \n",
            "  inflating: Development_Dataset/Training/Bipbip/Mais/Masks/Bipbip_mais_im_08581patch3.png  \n",
            "  inflating: Development_Dataset/Training/Bipbip/Mais/Masks/Bipbip_mais_im_08581patch4.png  \n",
            "  inflating: Development_Dataset/Training/Bipbip/Mais/Masks/Bipbip_mais_im_08581patch5.png  \n",
            "  inflating: Development_Dataset/Training/Bipbip/Mais/Masks/Bipbip_mais_im_08581patch6.png  \n",
            "  inflating: Development_Dataset/Training/Bipbip/Mais/Masks/Bipbip_mais_im_08581patch7.png  \n",
            "  inflating: Development_Dataset/Training/Bipbip/Mais/Masks/Bipbip_mais_im_08661patch0.png  \n",
            "  inflating: Development_Dataset/Training/Bipbip/Mais/Masks/Bipbip_mais_im_08661patch1.png  \n",
            "  inflating: Development_Dataset/Training/Bipbip/Mais/Masks/Bipbip_mais_im_08661patch2.png  \n",
            "  inflating: Development_Dataset/Training/Bipbip/Mais/Masks/Bipbip_mais_im_08661patch3.png  \n",
            "  inflating: Development_Dataset/Training/Bipbip/Mais/Masks/Bipbip_mais_im_08661patch4.png  \n",
            "  inflating: Development_Dataset/Training/Bipbip/Mais/Masks/Bipbip_mais_im_08661patch5.png  \n",
            "  inflating: Development_Dataset/Training/Bipbip/Mais/Masks/Bipbip_mais_im_08661patch6.png  \n",
            "  inflating: Development_Dataset/Training/Bipbip/Mais/Masks/Bipbip_mais_im_08661patch7.png  \n",
            "  inflating: Development_Dataset/Training/Bipbip/Mais/Masks/Bipbip_mais_im_08731patch0.png  \n",
            "  inflating: Development_Dataset/Training/Bipbip/Mais/Masks/Bipbip_mais_im_08731patch1.png  \n",
            "  inflating: Development_Dataset/Training/Bipbip/Mais/Masks/Bipbip_mais_im_08731patch2.png  \n",
            "  inflating: Development_Dataset/Training/Bipbip/Mais/Masks/Bipbip_mais_im_08731patch3.png  \n",
            "  inflating: Development_Dataset/Training/Bipbip/Mais/Masks/Bipbip_mais_im_08731patch4.png  \n",
            "  inflating: Development_Dataset/Training/Bipbip/Mais/Masks/Bipbip_mais_im_08731patch5.png  \n",
            "  inflating: Development_Dataset/Training/Bipbip/Mais/Masks/Bipbip_mais_im_08731patch6.png  \n",
            "  inflating: Development_Dataset/Training/Bipbip/Mais/Masks/Bipbip_mais_im_08731patch7.png  \n",
            "  inflating: Development_Dataset/Training/Bipbip/Mais/Masks/Bipbip_mais_im_08811patch0.png  \n",
            "  inflating: Development_Dataset/Training/Bipbip/Mais/Masks/Bipbip_mais_im_08811patch1.png  \n",
            "  inflating: Development_Dataset/Training/Bipbip/Mais/Masks/Bipbip_mais_im_08811patch2.png  \n",
            "  inflating: Development_Dataset/Training/Bipbip/Mais/Masks/Bipbip_mais_im_08811patch3.png  \n",
            "  inflating: Development_Dataset/Training/Bipbip/Mais/Masks/Bipbip_mais_im_08811patch4.png  \n",
            "  inflating: Development_Dataset/Training/Bipbip/Mais/Masks/Bipbip_mais_im_08811patch5.png  \n",
            "  inflating: Development_Dataset/Training/Bipbip/Mais/Masks/Bipbip_mais_im_08811patch6.png  \n",
            "  inflating: Development_Dataset/Training/Bipbip/Mais/Masks/Bipbip_mais_im_08811patch7.png  \n",
            "  inflating: Development_Dataset/Training/Bipbip/Mais/Masks/Bipbip_mais_im_09231patch0.png  \n",
            "  inflating: Development_Dataset/Training/Bipbip/Mais/Masks/Bipbip_mais_im_09231patch1.png  \n",
            "  inflating: Development_Dataset/Training/Bipbip/Mais/Masks/Bipbip_mais_im_09231patch2.png  \n",
            "  inflating: Development_Dataset/Training/Bipbip/Mais/Masks/Bipbip_mais_im_09231patch3.png  \n",
            "  inflating: Development_Dataset/Training/Bipbip/Mais/Masks/Bipbip_mais_im_09231patch4.png  \n",
            "  inflating: Development_Dataset/Training/Bipbip/Mais/Masks/Bipbip_mais_im_09231patch5.png  \n",
            "  inflating: Development_Dataset/Training/Bipbip/Mais/Masks/Bipbip_mais_im_09231patch6.png  \n",
            "  inflating: Development_Dataset/Training/Bipbip/Mais/Masks/Bipbip_mais_im_09231patch7.png  \n",
            "  inflating: Development_Dataset/Training/Bipbip/Mais/Masks/Bipbip_mais_im_09311patch0.png  \n",
            "  inflating: Development_Dataset/Training/Bipbip/Mais/Masks/Bipbip_mais_im_09311patch1.png  \n",
            "  inflating: Development_Dataset/Training/Bipbip/Mais/Masks/Bipbip_mais_im_09311patch2.png  \n",
            "  inflating: Development_Dataset/Training/Bipbip/Mais/Masks/Bipbip_mais_im_09311patch3.png  \n",
            "  inflating: Development_Dataset/Training/Bipbip/Mais/Masks/Bipbip_mais_im_09311patch4.png  \n",
            "  inflating: Development_Dataset/Training/Bipbip/Mais/Masks/Bipbip_mais_im_09311patch5.png  \n",
            "  inflating: Development_Dataset/Training/Bipbip/Mais/Masks/Bipbip_mais_im_09311patch6.png  \n",
            "  inflating: Development_Dataset/Training/Bipbip/Mais/Masks/Bipbip_mais_im_09311patch7.png  \n",
            "  inflating: Development_Dataset/Training/Bipbip/Mais/Masks/Bipbip_mais_im_09501patch0.png  \n",
            "  inflating: Development_Dataset/Training/Bipbip/Mais/Masks/Bipbip_mais_im_09501patch1.png  \n",
            "  inflating: Development_Dataset/Training/Bipbip/Mais/Masks/Bipbip_mais_im_09501patch2.png  \n",
            "  inflating: Development_Dataset/Training/Bipbip/Mais/Masks/Bipbip_mais_im_09501patch3.png  \n",
            "  inflating: Development_Dataset/Training/Bipbip/Mais/Masks/Bipbip_mais_im_09501patch4.png  \n",
            "  inflating: Development_Dataset/Training/Bipbip/Mais/Masks/Bipbip_mais_im_09501patch5.png  \n",
            "  inflating: Development_Dataset/Training/Bipbip/Mais/Masks/Bipbip_mais_im_09501patch6.png  \n",
            "  inflating: Development_Dataset/Training/Bipbip/Mais/Masks/Bipbip_mais_im_09501patch7.png  \n",
            "  inflating: Development_Dataset/Training/Bipbip/Mais/Masks/Bipbip_mais_im_09641patch0.png  \n",
            "  inflating: Development_Dataset/Training/Bipbip/Mais/Masks/Bipbip_mais_im_09641patch1.png  \n",
            "  inflating: Development_Dataset/Training/Bipbip/Mais/Masks/Bipbip_mais_im_09641patch2.png  \n",
            "  inflating: Development_Dataset/Training/Bipbip/Mais/Masks/Bipbip_mais_im_09641patch3.png  \n",
            "  inflating: Development_Dataset/Training/Bipbip/Mais/Masks/Bipbip_mais_im_09641patch4.png  \n",
            "  inflating: Development_Dataset/Training/Bipbip/Mais/Masks/Bipbip_mais_im_09641patch5.png  \n",
            "  inflating: Development_Dataset/Training/Bipbip/Mais/Masks/Bipbip_mais_im_09641patch6.png  \n",
            "  inflating: Development_Dataset/Training/Bipbip/Mais/Masks/Bipbip_mais_im_09641patch7.png  \n",
            "  inflating: Development_Dataset/Training/Bipbip/Mais/Masks/Bipbip_mais_im_09711patch0.png  \n",
            "  inflating: Development_Dataset/Training/Bipbip/Mais/Masks/Bipbip_mais_im_09711patch1.png  \n",
            "  inflating: Development_Dataset/Training/Bipbip/Mais/Masks/Bipbip_mais_im_09711patch2.png  \n",
            "  inflating: Development_Dataset/Training/Bipbip/Mais/Masks/Bipbip_mais_im_09711patch3.png  \n",
            "  inflating: Development_Dataset/Training/Bipbip/Mais/Masks/Bipbip_mais_im_09711patch4.png  \n",
            "  inflating: Development_Dataset/Training/Bipbip/Mais/Masks/Bipbip_mais_im_09711patch5.png  \n",
            "  inflating: Development_Dataset/Training/Bipbip/Mais/Masks/Bipbip_mais_im_09711patch6.png  \n",
            "  inflating: Development_Dataset/Training/Bipbip/Mais/Masks/Bipbip_mais_im_09711patch7.png  \n",
            "  inflating: Development_Dataset/Training/Bipbip/Mais/Masks/Bipbip_mais_im_09841patch0.png  \n",
            "  inflating: Development_Dataset/Training/Bipbip/Mais/Masks/Bipbip_mais_im_09841patch1.png  \n",
            "  inflating: Development_Dataset/Training/Bipbip/Mais/Masks/Bipbip_mais_im_09841patch2.png  \n",
            "  inflating: Development_Dataset/Training/Bipbip/Mais/Masks/Bipbip_mais_im_09841patch3.png  \n",
            "  inflating: Development_Dataset/Training/Bipbip/Mais/Masks/Bipbip_mais_im_09841patch4.png  \n",
            "  inflating: Development_Dataset/Training/Bipbip/Mais/Masks/Bipbip_mais_im_09841patch5.png  \n",
            "  inflating: Development_Dataset/Training/Bipbip/Mais/Masks/Bipbip_mais_im_09841patch6.png  \n",
            "  inflating: Development_Dataset/Training/Bipbip/Mais/Masks/Bipbip_mais_im_09841patch7.png  \n",
            "  inflating: Development_Dataset/Training/Bipbip/Mais/Masks/Bipbip_mais_im_09921patch0.png  \n",
            "  inflating: Development_Dataset/Training/Bipbip/Mais/Masks/Bipbip_mais_im_09921patch1.png  \n",
            "  inflating: Development_Dataset/Training/Bipbip/Mais/Masks/Bipbip_mais_im_09921patch2.png  \n",
            "  inflating: Development_Dataset/Training/Bipbip/Mais/Masks/Bipbip_mais_im_09921patch3.png  \n",
            "  inflating: Development_Dataset/Training/Bipbip/Mais/Masks/Bipbip_mais_im_09921patch4.png  \n",
            "  inflating: Development_Dataset/Training/Bipbip/Mais/Masks/Bipbip_mais_im_09921patch5.png  \n",
            "  inflating: Development_Dataset/Training/Bipbip/Mais/Masks/Bipbip_mais_im_09921patch6.png  \n",
            "  inflating: Development_Dataset/Training/Bipbip/Mais/Masks/Bipbip_mais_im_09921patch7.png  \n",
            "  inflating: Development_Dataset/Training/Bipbip/Mais/Masks/Bipbip_mais_im_10001patch0.png  \n",
            "  inflating: Development_Dataset/Training/Bipbip/Mais/Masks/Bipbip_mais_im_10001patch1.png  \n",
            "  inflating: Development_Dataset/Training/Bipbip/Mais/Masks/Bipbip_mais_im_10001patch2.png  \n",
            "  inflating: Development_Dataset/Training/Bipbip/Mais/Masks/Bipbip_mais_im_10001patch3.png  \n",
            "  inflating: Development_Dataset/Training/Bipbip/Mais/Masks/Bipbip_mais_im_10001patch4.png  \n",
            "  inflating: Development_Dataset/Training/Bipbip/Mais/Masks/Bipbip_mais_im_10001patch5.png  \n",
            "  inflating: Development_Dataset/Training/Bipbip/Mais/Masks/Bipbip_mais_im_10001patch6.png  \n",
            "  inflating: Development_Dataset/Training/Bipbip/Mais/Masks/Bipbip_mais_im_10001patch7.png  \n",
            "  inflating: Development_Dataset/Training/Bipbip/Mais/Masks/Bipbip_mais_im_10081patch0.png  \n",
            "  inflating: Development_Dataset/Training/Bipbip/Mais/Masks/Bipbip_mais_im_10081patch1.png  \n",
            "  inflating: Development_Dataset/Training/Bipbip/Mais/Masks/Bipbip_mais_im_10081patch2.png  \n",
            "  inflating: Development_Dataset/Training/Bipbip/Mais/Masks/Bipbip_mais_im_10081patch3.png  \n",
            "  inflating: Development_Dataset/Training/Bipbip/Mais/Masks/Bipbip_mais_im_10081patch4.png  \n",
            "  inflating: Development_Dataset/Training/Bipbip/Mais/Masks/Bipbip_mais_im_10081patch5.png  \n",
            "  inflating: Development_Dataset/Training/Bipbip/Mais/Masks/Bipbip_mais_im_10081patch6.png  \n",
            "  inflating: Development_Dataset/Training/Bipbip/Mais/Masks/Bipbip_mais_im_10081patch7.png  \n",
            "  inflating: Development_Dataset/Training/Bipbip/Mais/Masks/Bipbip_mais_im_10161patch0.png  \n",
            "  inflating: Development_Dataset/Training/Bipbip/Mais/Masks/Bipbip_mais_im_10161patch1.png  \n",
            "  inflating: Development_Dataset/Training/Bipbip/Mais/Masks/Bipbip_mais_im_10161patch2.png  \n",
            "  inflating: Development_Dataset/Training/Bipbip/Mais/Masks/Bipbip_mais_im_10161patch3.png  \n",
            "  inflating: Development_Dataset/Training/Bipbip/Mais/Masks/Bipbip_mais_im_10161patch4.png  \n",
            "  inflating: Development_Dataset/Training/Bipbip/Mais/Masks/Bipbip_mais_im_10161patch5.png  \n",
            "  inflating: Development_Dataset/Training/Bipbip/Mais/Masks/Bipbip_mais_im_10161patch6.png  \n",
            "  inflating: Development_Dataset/Training/Bipbip/Mais/Masks/Bipbip_mais_im_10161patch7.png  \n",
            "  inflating: Development_Dataset/Training/Bipbip/Mais/Masks/Bipbip_mais_im_10231patch0.png  \n",
            "  inflating: Development_Dataset/Training/Bipbip/Mais/Masks/Bipbip_mais_im_10231patch1.png  \n",
            "  inflating: Development_Dataset/Training/Bipbip/Mais/Masks/Bipbip_mais_im_10231patch2.png  \n",
            "  inflating: Development_Dataset/Training/Bipbip/Mais/Masks/Bipbip_mais_im_10231patch3.png  \n",
            "  inflating: Development_Dataset/Training/Bipbip/Mais/Masks/Bipbip_mais_im_10231patch4.png  \n",
            "  inflating: Development_Dataset/Training/Bipbip/Mais/Masks/Bipbip_mais_im_10231patch5.png  \n",
            "  inflating: Development_Dataset/Training/Bipbip/Mais/Masks/Bipbip_mais_im_10231patch6.png  \n",
            "  inflating: Development_Dataset/Training/Bipbip/Mais/Masks/Bipbip_mais_im_10231patch7.png  \n",
            "  inflating: Development_Dataset/Training/Bipbip/Mais/Masks/Bipbip_mais_im_10301patch0.png  \n",
            "  inflating: Development_Dataset/Training/Bipbip/Mais/Masks/Bipbip_mais_im_10301patch1.png  \n",
            "  inflating: Development_Dataset/Training/Bipbip/Mais/Masks/Bipbip_mais_im_10301patch2.png  \n",
            "  inflating: Development_Dataset/Training/Bipbip/Mais/Masks/Bipbip_mais_im_10301patch3.png  \n",
            "  inflating: Development_Dataset/Training/Bipbip/Mais/Masks/Bipbip_mais_im_10301patch4.png  \n",
            "  inflating: Development_Dataset/Training/Bipbip/Mais/Masks/Bipbip_mais_im_10301patch5.png  \n",
            "  inflating: Development_Dataset/Training/Bipbip/Mais/Masks/Bipbip_mais_im_10301patch6.png  \n",
            "  inflating: Development_Dataset/Training/Bipbip/Mais/Masks/Bipbip_mais_im_10301patch7.png  \n",
            "  inflating: Development_Dataset/Training/Bipbip/Mais/Masks/Bipbip_mais_im_10371patch0.png  \n",
            "  inflating: Development_Dataset/Training/Bipbip/Mais/Masks/Bipbip_mais_im_10371patch1.png  \n",
            "  inflating: Development_Dataset/Training/Bipbip/Mais/Masks/Bipbip_mais_im_10371patch2.png  \n",
            "  inflating: Development_Dataset/Training/Bipbip/Mais/Masks/Bipbip_mais_im_10371patch3.png  \n",
            "  inflating: Development_Dataset/Training/Bipbip/Mais/Masks/Bipbip_mais_im_10371patch4.png  \n",
            "  inflating: Development_Dataset/Training/Bipbip/Mais/Masks/Bipbip_mais_im_10371patch5.png  \n",
            "  inflating: Development_Dataset/Training/Bipbip/Mais/Masks/Bipbip_mais_im_10371patch6.png  \n",
            "  inflating: Development_Dataset/Training/Bipbip/Mais/Masks/Bipbip_mais_im_10371patch7.png  \n",
            "  inflating: Development_Dataset/Training/Bipbip/Mais/Masks/Bipbip_mais_im_10691patch0.png  \n",
            "  inflating: Development_Dataset/Training/Bipbip/Mais/Masks/Bipbip_mais_im_10691patch1.png  \n",
            "  inflating: Development_Dataset/Training/Bipbip/Mais/Masks/Bipbip_mais_im_10691patch2.png  \n",
            "  inflating: Development_Dataset/Training/Bipbip/Mais/Masks/Bipbip_mais_im_10691patch3.png  \n",
            "  inflating: Development_Dataset/Training/Bipbip/Mais/Masks/Bipbip_mais_im_10691patch4.png  \n",
            "  inflating: Development_Dataset/Training/Bipbip/Mais/Masks/Bipbip_mais_im_10691patch5.png  \n",
            "  inflating: Development_Dataset/Training/Bipbip/Mais/Masks/Bipbip_mais_im_10691patch6.png  \n",
            "  inflating: Development_Dataset/Training/Bipbip/Mais/Masks/Bipbip_mais_im_10691patch7.png  \n",
            "  inflating: Development_Dataset/Training/Bipbip/Mais/Masks/Bipbip_mais_im_10771patch0.png  \n",
            "  inflating: Development_Dataset/Training/Bipbip/Mais/Masks/Bipbip_mais_im_10771patch1.png  \n",
            "  inflating: Development_Dataset/Training/Bipbip/Mais/Masks/Bipbip_mais_im_10771patch2.png  \n",
            "  inflating: Development_Dataset/Training/Bipbip/Mais/Masks/Bipbip_mais_im_10771patch3.png  \n",
            "  inflating: Development_Dataset/Training/Bipbip/Mais/Masks/Bipbip_mais_im_10771patch4.png  \n",
            "  inflating: Development_Dataset/Training/Bipbip/Mais/Masks/Bipbip_mais_im_10771patch5.png  \n",
            "  inflating: Development_Dataset/Training/Bipbip/Mais/Masks/Bipbip_mais_im_10771patch6.png  \n",
            "  inflating: Development_Dataset/Training/Bipbip/Mais/Masks/Bipbip_mais_im_10771patch7.png  \n",
            "  inflating: Development_Dataset/Training/Bipbip/Mais/Masks/Bipbip_mais_im_10851patch0.png  \n",
            "  inflating: Development_Dataset/Training/Bipbip/Mais/Masks/Bipbip_mais_im_10851patch1.png  \n",
            "  inflating: Development_Dataset/Training/Bipbip/Mais/Masks/Bipbip_mais_im_10851patch2.png  \n",
            "  inflating: Development_Dataset/Training/Bipbip/Mais/Masks/Bipbip_mais_im_10851patch3.png  \n",
            "  inflating: Development_Dataset/Training/Bipbip/Mais/Masks/Bipbip_mais_im_10851patch4.png  \n",
            "  inflating: Development_Dataset/Training/Bipbip/Mais/Masks/Bipbip_mais_im_10851patch5.png  \n",
            "  inflating: Development_Dataset/Training/Bipbip/Mais/Masks/Bipbip_mais_im_10851patch6.png  \n",
            "  inflating: Development_Dataset/Training/Bipbip/Mais/Masks/Bipbip_mais_im_10851patch7.png  \n",
            "  inflating: Development_Dataset/Training/Bipbip/Mais/Masks/Bipbip_mais_im_11121patch0.png  \n",
            "  inflating: Development_Dataset/Training/Bipbip/Mais/Masks/Bipbip_mais_im_11121patch1.png  \n",
            "  inflating: Development_Dataset/Training/Bipbip/Mais/Masks/Bipbip_mais_im_11121patch2.png  \n",
            "  inflating: Development_Dataset/Training/Bipbip/Mais/Masks/Bipbip_mais_im_11121patch3.png  \n",
            "  inflating: Development_Dataset/Training/Bipbip/Mais/Masks/Bipbip_mais_im_11121patch4.png  \n",
            "  inflating: Development_Dataset/Training/Bipbip/Mais/Masks/Bipbip_mais_im_11121patch5.png  \n",
            "  inflating: Development_Dataset/Training/Bipbip/Mais/Masks/Bipbip_mais_im_11121patch6.png  \n",
            "  inflating: Development_Dataset/Training/Bipbip/Mais/Masks/Bipbip_mais_im_11121patch7.png  \n",
            "  inflating: Development_Dataset/Training/Bipbip/Mais/Masks/Bipbip_mais_im_11221patch0.png  \n",
            "  inflating: Development_Dataset/Training/Bipbip/Mais/Masks/Bipbip_mais_im_11221patch1.png  \n",
            "  inflating: Development_Dataset/Training/Bipbip/Mais/Masks/Bipbip_mais_im_11221patch2.png  \n",
            "  inflating: Development_Dataset/Training/Bipbip/Mais/Masks/Bipbip_mais_im_11221patch3.png  \n",
            "  inflating: Development_Dataset/Training/Bipbip/Mais/Masks/Bipbip_mais_im_11221patch4.png  \n",
            "  inflating: Development_Dataset/Training/Bipbip/Mais/Masks/Bipbip_mais_im_11221patch5.png  \n",
            "  inflating: Development_Dataset/Training/Bipbip/Mais/Masks/Bipbip_mais_im_11221patch6.png  \n",
            "  inflating: Development_Dataset/Training/Bipbip/Mais/Masks/Bipbip_mais_im_11221patch7.png  \n",
            "   creating: Development_Dataset/Training/Bipbip/Mais/Splits/\n",
            "   creating: Development_Dataset/Training/Bipbip/Mais/Splits/.ipynb_checkpoints/\n",
            "  inflating: Development_Dataset/Training/Bipbip/Mais/Splits/.ipynb_checkpoints/val-checkpoint.txt  \n",
            "  inflating: Development_Dataset/Training/Bipbip/Mais/Splits/train.txt  \n",
            "  inflating: Development_Dataset/Training/Bipbip/Mais/Splits/val.txt  \n",
            "  inflating: Development_Dataset/Training/Bipbip/Mais/submission.json  \n",
            " extracting: Development_Dataset/Training/Bipbip/Mais/submission.zip  \n"
          ],
          "name": "stdout"
        }
      ]
    },
    {
      "cell_type": "code",
      "metadata": {
        "colab": {
          "base_uri": "https://localhost:8080/"
        },
        "id": "z3gCzJ2NP3Rl",
        "outputId": "8fa9225d-2f96-4e7f-9749-856a8878e79c"
      },
      "source": [
        "cd drive/MyDrive"
      ],
      "execution_count": null,
      "outputs": [
        {
          "output_type": "stream",
          "text": [
            "/content/drive/MyDrive\n"
          ],
          "name": "stdout"
        }
      ]
    },
    {
      "cell_type": "markdown",
      "metadata": {
        "id": "mH3lzlVqnFI2"
      },
      "source": [
        "# Example: Image Segmentation\n",
        "## Build segmentation"
      ]
    },
    {
      "cell_type": "code",
      "metadata": {
        "id": "ht81O01Efh-Y"
      },
      "source": [
        "import sys\n",
        "sys.path.append('/content/drive/MyDrive/starting_kit')\n"
      ],
      "execution_count": null,
      "outputs": []
    },
    {
      "cell_type": "code",
      "metadata": {
        "id": "4N88wG50nFI3"
      },
      "source": [
        "import read_mask_example as rme\n",
        "import prepare_submission as ps\n",
        "import shutil\n",
        "import random\n",
        "import json\n",
        "import math\n",
        "\n",
        "SEED = 1234\n",
        "tf.random.set_seed(SEED)  \n",
        "\n",
        "# Get current working directory\n",
        "cwd = os.path.join(os.path.dirname(os.getcwd()),\"Development_Dataset\")\n",
        "\n",
        "test_dir = {}\n",
        "dataset_dir = {}\n",
        "patches_dir = {}\n",
        "\n",
        "dataset_dir[0] = os.path.join(cwd,'Training/Bipbip/Mais')\n",
        "dataset_dir[1] = os.path.join(cwd,'Training/Bipbip/Haricot')\n",
        "\n",
        "patches_dir[0] = '/content/drive/MyDrive/Mais'\n",
        "patches_dir[1] = '/content/drive/MyDrive/Haricot'\n",
        "\n",
        "test_dir[0] = os.path.join(cwd,'Test_Dev/Bipbip/Mais')\n",
        "test_dir[1] = os.path.join(cwd,'Test_Dev/Bipbip/Haricot')\n",
        "test_dir[2] = os.path.join(cwd,'Test_Dev/Pead/Mais')\n",
        "test_dir[3] = os.path.join(cwd,'Test_Dev/Pead/Haricot')\n",
        "test_dir[4] = os.path.join(cwd,'Test_Dev/Roseau/Mais')\n",
        "test_dir[5] = os.path.join(cwd,'Test_Dev/Roseau/Haricot')\n",
        "test_dir[6] = os.path.join(cwd,'Test_Dev/Weedelec/Mais')\n",
        "test_dir[7] = os.path.join(cwd,'Test_Dev/Weedelec/Haricot')\n",
        "\n",
        "crops = {}\n",
        "\n",
        "crops[0] = \"Mais\"\n",
        "crops[1] = \"Haricot\"\n",
        "\n",
        "teams = {}\n",
        "\n",
        "teams[0] = \"Bipbip\"\n",
        "teams[1] = \"Pead\"\n",
        "teams[2] = \"Roseau\"\n",
        "teams[3] = \"Weedelec\"\n"
      ],
      "execution_count": null,
      "outputs": []
    },
    {
      "cell_type": "code",
      "metadata": {
        "colab": {
          "base_uri": "https://localhost:8080/"
        },
        "id": "PHYiQhjvRgb1",
        "outputId": "feb2057a-3f0b-4af6-b700-dd557002d6a7"
      },
      "source": [
        "print(dataset_dir)\n",
        "print(test_dir)"
      ],
      "execution_count": 33,
      "outputs": [
        {
          "output_type": "stream",
          "text": [
            "{0: '/content/Development_Dataset/Training/Bipbip/Mais', 1: '/content/Development_Dataset/Training/Bipbip/Haricot'}\n",
            "{0: '/content/Development_Dataset/Test_Dev/Bipbip/Mais', 1: '/content/Development_Dataset/Test_Dev/Bipbip/Haricot', 2: '/content/Development_Dataset/Test_Dev/Pead/Mais', 3: '/content/Development_Dataset/Test_Dev/Pead/Haricot', 4: '/content/Development_Dataset/Test_Dev/Roseau/Mais', 5: '/content/Development_Dataset/Test_Dev/Roseau/Haricot', 6: '/content/Development_Dataset/Test_Dev/Weedelec/Mais', 7: '/content/Development_Dataset/Test_Dev/Weedelec/Haricot'}\n"
          ],
          "name": "stdout"
        }
      ]
    },
    {
      "cell_type": "code",
      "metadata": {
        "id": "J6Yg_m_hRgqo"
      },
      "source": [
        "dataset_dir = {0: '/content/Development_Dataset/Training/Bipbip/Mais', 1: '/content/Development_Dataset/Training/Bipbip/Haricot'}\n",
        "test_dir = {0: '/content/Development_Dataset/Test_Dev/Bipbip/Mais', 1: '/content/Development_Dataset/Test_Dev/Bipbip/Haricot', 2: '/content/Development_Dataset/Test_Dev/Pead/Mais', 3: '/content/Development_Dataset/Test_Dev/Pead/Haricot', 4: '/content/Development_Dataset/Test_Dev/Roseau/Mais', 5: '/content/Development_Dataset/Test_Dev/Roseau/Haricot', 6: '/content/Development_Dataset/Test_Dev/Weedelec/Mais', 7: '/content/Development_Dataset/Test_Dev/Weedelec/Haricot'}\n"
      ],
      "execution_count": 34,
      "outputs": []
    },
    {
      "cell_type": "code",
      "metadata": {
        "id": "13iz41XcOf1g"
      },
      "source": [
        ""
      ],
      "execution_count": 34,
      "outputs": []
    },
    {
      "cell_type": "markdown",
      "metadata": {
        "id": "dr1GxIkhID6v"
      },
      "source": [
        "from PIL import Image\n",
        "import shutil\n",
        "\n",
        "tf.compat.v1.disable_eager_execution()\n",
        "img_h_ = 1536\n",
        "img_w_ = 2048\n",
        "\n",
        "\n",
        "img_h = 768\n",
        "img_w = 512\n",
        "\n",
        "create_patches = True\n",
        "\n",
        "if (create_patches == True) :\n",
        "  for i in range(0,2):\n",
        "      image_filenames = next(os.walk(os.path.join(dataset_dir[i],\"Images/\")))[2]\n",
        "      for image_name in image_filenames:\n",
        "      \n",
        "      \n",
        "      \n",
        "          image_name=image_name[:-4]\n",
        "          img = Image.open(os.path.join(dataset_dir[i], 'Images', image_name + \".jpg\"))\n",
        "          mask = Image.open(os.path.join(dataset_dir[i], 'Masks', image_name + '.png'))\n",
        "\n",
        "          # Resize image and mask\n",
        "          img = img.resize([img_w_,img_h_])\n",
        "          \n",
        "          img_arr = tf.expand_dims(np.array(img), 0)\n",
        "          \n",
        "\n",
        "\n",
        "          mask_arr = tf.expand_dims(np.array(mask), 0)\n",
        "\n",
        "\n",
        "\n",
        "          patches = tf.image.extract_patches(images=img_arr,\n",
        "                            sizes=[1, img_h, img_w, 1],\n",
        "                            strides=[1, img_h-10, img_w-10, 1],\n",
        "                            rates=[1, 1, 1, 1],\n",
        "                            padding='VALID')\n",
        "          \n",
        "          patches_mask = tf.image.extract_patches(images=mask_arr,\n",
        "                            sizes=[1, img_h, img_w, 1],\n",
        "                            strides=[1, img_h-10, img_w-10, 1],\n",
        "                            rates=[1, 1, 1, 1],\n",
        "                            padding='VALID')\n",
        "          patches = tf.reshape(patches, [8, 768, 512, 3])\n",
        "\n",
        "          patches_mask = tf.reshape(patches_mask, [8, 768, 512, 3])\n",
        "\n",
        "\n",
        "          for j in range(0,8):\n",
        "            image = tf.io.encode_jpeg(patches[j])\n",
        "            writer = tf.io.write_file(os.path.join(patches_dir[i], 'Images',image_name+'patch'+str(j)+'.jpg'),image)\n",
        "            with tf.compat.v1.Session() as sess:\n",
        "              sess.run(writer)\n",
        "\n",
        "            msk = tf.io.encode_png(patches_mask[j])\n",
        "            writer = tf.io.write_file(os.path.join(patches_dir[i], 'Masks',image_name+'patch'+str(j)+'.png'), msk)\n",
        "            with tf.compat.v1.Session() as sess:\n",
        "              sess.run(writer)\n",
        "else:\n",
        "  for i in range(0,2):\n",
        "    \n",
        "    tf.compat.v1.gfile.DeleteRecursively(os.path.join(dataset_dir[i], 'Images'))\n",
        "    tf.compat.v1.gfile.DeleteRecursively(os.path.join(dataset_dir[i], 'Masks'))\n",
        "    shutil.copytree(os.path.join(patches_dir[i], 'Masks'), os.path.join(dataset_dir[i], 'Masks'))\n",
        "    shutil.copytree(os.path.join(patches_dir[i], 'Images'), os.path.join(dataset_dir[i], 'Images'))"
      ]
    },
    {
      "cell_type": "code",
      "metadata": {
        "id": "o0m1fRXqzRNI"
      },
      "source": [
        "#!zip -r \"/content/drive/MyDrive/New_Development_Dataset.zip\" \"/content/Development_Dataset\""
      ],
      "execution_count": 35,
      "outputs": []
    },
    {
      "cell_type": "code",
      "metadata": {
        "id": "hsieZk4aKhm6"
      },
      "source": [
        "# ImageDataGenerator\n",
        "# ------------------\n",
        "\n",
        "from tensorflow.keras.preprocessing.image import ImageDataGenerator\n",
        "\n",
        "apply_data_augmentation = True\n",
        "\n",
        "# Create training ImageDataGenerator object\n",
        "# We need two different generators for images and corresponding masks\n",
        "if apply_data_augmentation:\n",
        "    img_data_gen = ImageDataGenerator(rotation_range=10,\n",
        "                                      width_shift_range=10,\n",
        "                                      height_shift_range=10,\n",
        "                                      zoom_range=0.3,\n",
        "                                      horizontal_flip=True,\n",
        "                                      vertical_flip=True,\n",
        "                                      fill_mode='reflect')\n",
        "    mask_data_gen = ImageDataGenerator(rotation_range=10,\n",
        "                                       width_shift_range=10,\n",
        "                                       height_shift_range=10,\n",
        "                                       zoom_range=0.3,\n",
        "                                       horizontal_flip=True,\n",
        "                                       vertical_flip=True,\n",
        "                                       fill_mode='reflect')"
      ],
      "execution_count": 36,
      "outputs": []
    },
    {
      "cell_type": "code",
      "metadata": {
        "id": "TyrdiIh_PWjB"
      },
      "source": [
        "from PIL import Image\n",
        "\n",
        "class CustomDataset(tf.keras.utils.Sequence):\n",
        "\n",
        "    \"\"\"\n",
        "        CustomDataset inheriting from tf.keras.utils.Sequence.\n",
        "\n",
        "        3 main methods:\n",
        "          - __init__: save dataset params like directory, filenames..\n",
        "          - __len__: return the total number of samples in the dataset\n",
        "          - __getitem__: return a sample from the dataset\n",
        "\n",
        "        Note: \n",
        "          - the custom dataset return a single sample from the dataset. Then, we use \n",
        "            a tf.data.Dataset object to group samples into batches.\n",
        "          - in this case we have a different structure of the dataset in memory. \n",
        "            We have all the images in the same folder and the training and validation splits\n",
        "            are defined in text files.\n",
        "\n",
        "      \"\"\"\n",
        "\n",
        "    def __init__(self, dataset_dir, which_subset, img_generator=None, mask_generator=None, \n",
        "                preprocessing_function=None, out_shape=[256, 256]):\n",
        "        if which_subset == 'training':\n",
        "            subset_file = os.path.join(dataset_dir, 'Splits', 'train.txt')\n",
        "        elif which_subset == 'validation':\n",
        "            subset_file = os.path.join(dataset_dir, 'Splits', 'val.txt')\n",
        "    \n",
        "        with open(subset_file, 'r') as f:\n",
        "            lines = f.readlines()\n",
        "    \n",
        "        subset_filenames = []\n",
        "        for line in lines:\n",
        "            subset_filenames.append(line.strip()) \n",
        "\n",
        "        self.which_subset = which_subset\n",
        "        self.dataset_dir = dataset_dir\n",
        "        self.subset_filenames = subset_filenames\n",
        "        self.img_generator = img_generator\n",
        "        self.mask_generator = mask_generator\n",
        "        self.preprocessing_function = preprocessing_function\n",
        "        self.out_shape = out_shape\n",
        "\n",
        "    def __len__(self):\n",
        "        return len(self.subset_filenames)\n",
        "\n",
        "    def __getitem__(self, index):\n",
        "        # Read Image\n",
        "        curr_filename = self.subset_filenames[index]\n",
        "        img = Image.open(os.path.join(self.dataset_dir, 'Images', curr_filename + '.jpg'))\n",
        "        #mask = rme.read_rgb_mask(os.path.join(self.dataset_dir, 'Masks', curr_filename + '.png'))\n",
        "\n",
        "        # Resize image and mask\n",
        "        img = img.resize(self.out_shape)\n",
        "        \n",
        "\n",
        "        \n",
        "       # mask = mask.resize(self.out_shape)\n",
        "    \n",
        "        img_arr = np.array(img)\n",
        "        mask_arr = rme.read_rgb_mask(os.path.join(self.dataset_dir, 'Masks', curr_filename + '.png'),self.out_shape)\n",
        "        #print(mask_arr.shape)\n",
        "  \n",
        "\n",
        "        mask_arr = np.expand_dims(mask_arr, -1)\n",
        "\n",
        "        if self.which_subset == 'training':\n",
        "            if self.img_generator is not None and self.mask_generator is not None:\n",
        "                # Perform data augmentation\n",
        "                # We can get a random transformation from the ImageDataGenerator using get_random_transform\n",
        "                # and we can apply it to the image using apply_transform\n",
        "                img_t = self.img_generator.get_random_transform(img_arr.shape, seed=SEED)\n",
        "                mask_t = self.mask_generator.get_random_transform(mask_arr.shape, seed=SEED)\n",
        "                img_arr = self.img_generator.apply_transform(img_arr, img_t)\n",
        "                # ImageDataGenerator use bilinear interpolation for augmenting the images.\n",
        "                # Thus, when applied to the masks it will output 'interpolated classes', which\n",
        "                # is an unwanted behaviour. As a trick, we can transform each class mask \n",
        "                # separately and then we can cast to integer values (as in the binary segmentation notebook).\n",
        "                # Finally, we merge the augmented binary masks to obtain the final segmentation mask.\n",
        "                out_mask = np.zeros_like(mask_arr)\n",
        "                for c in np.unique(mask_arr):\n",
        "                    if c > 0:\n",
        "                        curr_class_arr = np.float32(mask_arr == c)\n",
        "                        curr_class_arr = self.mask_generator.apply_transform(curr_class_arr, mask_t)\n",
        "                        # from [0, 1] to {0, 1}\n",
        "                        curr_class_arr = np.uint8(curr_class_arr)\n",
        "                        # recover original class\n",
        "                        curr_class_arr = curr_class_arr * c \n",
        "                        out_mask += curr_class_arr\n",
        "        else:\n",
        "            out_mask = mask_arr\n",
        "    \n",
        "        if self.preprocessing_function is not None:\n",
        "            img_arr = self.preprocessing_function(img_arr)\n",
        "        \n",
        "        return img_arr, np.float32(out_mask)"
      ],
      "execution_count": 37,
      "outputs": []
    },
    {
      "cell_type": "code",
      "metadata": {
        "id": "U_-iy88kXD52"
      },
      "source": [
        ""
      ],
      "execution_count": 37,
      "outputs": []
    },
    {
      "cell_type": "code",
      "metadata": {
        "colab": {
          "base_uri": "https://localhost:8080/"
        },
        "id": "usz5SKPeQrOE",
        "outputId": "976e5a81-4d59-4946-9c3e-cc83653a413c"
      },
      "source": [
        "for j in range (0,2):\n",
        "    if not os.path.exists(os.path.join(dataset_dir[j],\"Splits/\")):\n",
        "        os.makedirs(os.path.join(dataset_dir[j],\"Splits/\"))\n",
        "\n",
        "\n",
        "    image_filenames = next(os.walk(os.path.join(dataset_dir[j],\"Images/\")))[2]\n",
        "    \n",
        "    val=[]\n",
        "    train=[]\n",
        "    \n",
        "    for image_name in image_filenames:\n",
        "        if 100*random.random() < 10:\n",
        "            val.append(image_name[:-4])\n",
        "        else:\n",
        "            train.append(image_name[:-4])\n",
        "    \n",
        "    with open(os.path.join(dataset_dir[j],\"Splits\",\"train.txt\"), 'w') as file:  # Use file to refer to the file object\n",
        "        for i in train:\n",
        "            file.write(str(i)+\"\\n\")\n",
        "    \n",
        "    with open(os.path.join(dataset_dir[j],\"Splits\",\"val.txt\"), 'w') as file:  # Use file to refer to the file object\n",
        "        for i in val:\n",
        "            file.write(str(i)+\"\\n\")\n",
        "\n",
        "   "
      ],
      "execution_count": 38,
      "outputs": [
        {
          "output_type": "execute_result",
          "data": {
            "text/plain": [
              "27"
            ]
          },
          "metadata": {
            "tags": []
          },
          "execution_count": 38
        },
        {
          "output_type": "execute_result",
          "data": {
            "text/plain": [
              "27"
            ]
          },
          "metadata": {
            "tags": []
          },
          "execution_count": 38
        },
        {
          "output_type": "execute_result",
          "data": {
            "text/plain": [
              "27"
            ]
          },
          "metadata": {
            "tags": []
          },
          "execution_count": 38
        },
        {
          "output_type": "execute_result",
          "data": {
            "text/plain": [
              "27"
            ]
          },
          "metadata": {
            "tags": []
          },
          "execution_count": 38
        },
        {
          "output_type": "execute_result",
          "data": {
            "text/plain": [
              "27"
            ]
          },
          "metadata": {
            "tags": []
          },
          "execution_count": 38
        },
        {
          "output_type": "execute_result",
          "data": {
            "text/plain": [
              "27"
            ]
          },
          "metadata": {
            "tags": []
          },
          "execution_count": 38
        },
        {
          "output_type": "execute_result",
          "data": {
            "text/plain": [
              "27"
            ]
          },
          "metadata": {
            "tags": []
          },
          "execution_count": 38
        },
        {
          "output_type": "execute_result",
          "data": {
            "text/plain": [
              "27"
            ]
          },
          "metadata": {
            "tags": []
          },
          "execution_count": 38
        },
        {
          "output_type": "execute_result",
          "data": {
            "text/plain": [
              "27"
            ]
          },
          "metadata": {
            "tags": []
          },
          "execution_count": 38
        },
        {
          "output_type": "execute_result",
          "data": {
            "text/plain": [
              "27"
            ]
          },
          "metadata": {
            "tags": []
          },
          "execution_count": 38
        },
        {
          "output_type": "execute_result",
          "data": {
            "text/plain": [
              "27"
            ]
          },
          "metadata": {
            "tags": []
          },
          "execution_count": 38
        },
        {
          "output_type": "execute_result",
          "data": {
            "text/plain": [
              "27"
            ]
          },
          "metadata": {
            "tags": []
          },
          "execution_count": 38
        },
        {
          "output_type": "execute_result",
          "data": {
            "text/plain": [
              "27"
            ]
          },
          "metadata": {
            "tags": []
          },
          "execution_count": 38
        },
        {
          "output_type": "execute_result",
          "data": {
            "text/plain": [
              "27"
            ]
          },
          "metadata": {
            "tags": []
          },
          "execution_count": 38
        },
        {
          "output_type": "execute_result",
          "data": {
            "text/plain": [
              "27"
            ]
          },
          "metadata": {
            "tags": []
          },
          "execution_count": 38
        },
        {
          "output_type": "execute_result",
          "data": {
            "text/plain": [
              "27"
            ]
          },
          "metadata": {
            "tags": []
          },
          "execution_count": 38
        },
        {
          "output_type": "execute_result",
          "data": {
            "text/plain": [
              "27"
            ]
          },
          "metadata": {
            "tags": []
          },
          "execution_count": 38
        },
        {
          "output_type": "execute_result",
          "data": {
            "text/plain": [
              "27"
            ]
          },
          "metadata": {
            "tags": []
          },
          "execution_count": 38
        },
        {
          "output_type": "execute_result",
          "data": {
            "text/plain": [
              "27"
            ]
          },
          "metadata": {
            "tags": []
          },
          "execution_count": 38
        },
        {
          "output_type": "execute_result",
          "data": {
            "text/plain": [
              "27"
            ]
          },
          "metadata": {
            "tags": []
          },
          "execution_count": 38
        },
        {
          "output_type": "execute_result",
          "data": {
            "text/plain": [
              "27"
            ]
          },
          "metadata": {
            "tags": []
          },
          "execution_count": 38
        },
        {
          "output_type": "execute_result",
          "data": {
            "text/plain": [
              "27"
            ]
          },
          "metadata": {
            "tags": []
          },
          "execution_count": 38
        },
        {
          "output_type": "execute_result",
          "data": {
            "text/plain": [
              "27"
            ]
          },
          "metadata": {
            "tags": []
          },
          "execution_count": 38
        },
        {
          "output_type": "execute_result",
          "data": {
            "text/plain": [
              "27"
            ]
          },
          "metadata": {
            "tags": []
          },
          "execution_count": 38
        },
        {
          "output_type": "execute_result",
          "data": {
            "text/plain": [
              "27"
            ]
          },
          "metadata": {
            "tags": []
          },
          "execution_count": 38
        },
        {
          "output_type": "execute_result",
          "data": {
            "text/plain": [
              "27"
            ]
          },
          "metadata": {
            "tags": []
          },
          "execution_count": 38
        },
        {
          "output_type": "execute_result",
          "data": {
            "text/plain": [
              "27"
            ]
          },
          "metadata": {
            "tags": []
          },
          "execution_count": 38
        },
        {
          "output_type": "execute_result",
          "data": {
            "text/plain": [
              "27"
            ]
          },
          "metadata": {
            "tags": []
          },
          "execution_count": 38
        },
        {
          "output_type": "execute_result",
          "data": {
            "text/plain": [
              "27"
            ]
          },
          "metadata": {
            "tags": []
          },
          "execution_count": 38
        },
        {
          "output_type": "execute_result",
          "data": {
            "text/plain": [
              "27"
            ]
          },
          "metadata": {
            "tags": []
          },
          "execution_count": 38
        },
        {
          "output_type": "execute_result",
          "data": {
            "text/plain": [
              "27"
            ]
          },
          "metadata": {
            "tags": []
          },
          "execution_count": 38
        },
        {
          "output_type": "execute_result",
          "data": {
            "text/plain": [
              "27"
            ]
          },
          "metadata": {
            "tags": []
          },
          "execution_count": 38
        },
        {
          "output_type": "execute_result",
          "data": {
            "text/plain": [
              "27"
            ]
          },
          "metadata": {
            "tags": []
          },
          "execution_count": 38
        },
        {
          "output_type": "execute_result",
          "data": {
            "text/plain": [
              "27"
            ]
          },
          "metadata": {
            "tags": []
          },
          "execution_count": 38
        },
        {
          "output_type": "execute_result",
          "data": {
            "text/plain": [
              "27"
            ]
          },
          "metadata": {
            "tags": []
          },
          "execution_count": 38
        },
        {
          "output_type": "execute_result",
          "data": {
            "text/plain": [
              "27"
            ]
          },
          "metadata": {
            "tags": []
          },
          "execution_count": 38
        },
        {
          "output_type": "execute_result",
          "data": {
            "text/plain": [
              "27"
            ]
          },
          "metadata": {
            "tags": []
          },
          "execution_count": 38
        },
        {
          "output_type": "execute_result",
          "data": {
            "text/plain": [
              "27"
            ]
          },
          "metadata": {
            "tags": []
          },
          "execution_count": 38
        },
        {
          "output_type": "execute_result",
          "data": {
            "text/plain": [
              "27"
            ]
          },
          "metadata": {
            "tags": []
          },
          "execution_count": 38
        },
        {
          "output_type": "execute_result",
          "data": {
            "text/plain": [
              "27"
            ]
          },
          "metadata": {
            "tags": []
          },
          "execution_count": 38
        },
        {
          "output_type": "execute_result",
          "data": {
            "text/plain": [
              "27"
            ]
          },
          "metadata": {
            "tags": []
          },
          "execution_count": 38
        },
        {
          "output_type": "execute_result",
          "data": {
            "text/plain": [
              "27"
            ]
          },
          "metadata": {
            "tags": []
          },
          "execution_count": 38
        },
        {
          "output_type": "execute_result",
          "data": {
            "text/plain": [
              "27"
            ]
          },
          "metadata": {
            "tags": []
          },
          "execution_count": 38
        },
        {
          "output_type": "execute_result",
          "data": {
            "text/plain": [
              "27"
            ]
          },
          "metadata": {
            "tags": []
          },
          "execution_count": 38
        },
        {
          "output_type": "execute_result",
          "data": {
            "text/plain": [
              "27"
            ]
          },
          "metadata": {
            "tags": []
          },
          "execution_count": 38
        },
        {
          "output_type": "execute_result",
          "data": {
            "text/plain": [
              "27"
            ]
          },
          "metadata": {
            "tags": []
          },
          "execution_count": 38
        },
        {
          "output_type": "execute_result",
          "data": {
            "text/plain": [
              "27"
            ]
          },
          "metadata": {
            "tags": []
          },
          "execution_count": 38
        },
        {
          "output_type": "execute_result",
          "data": {
            "text/plain": [
              "27"
            ]
          },
          "metadata": {
            "tags": []
          },
          "execution_count": 38
        },
        {
          "output_type": "execute_result",
          "data": {
            "text/plain": [
              "27"
            ]
          },
          "metadata": {
            "tags": []
          },
          "execution_count": 38
        },
        {
          "output_type": "execute_result",
          "data": {
            "text/plain": [
              "27"
            ]
          },
          "metadata": {
            "tags": []
          },
          "execution_count": 38
        },
        {
          "output_type": "execute_result",
          "data": {
            "text/plain": [
              "27"
            ]
          },
          "metadata": {
            "tags": []
          },
          "execution_count": 38
        },
        {
          "output_type": "execute_result",
          "data": {
            "text/plain": [
              "27"
            ]
          },
          "metadata": {
            "tags": []
          },
          "execution_count": 38
        },
        {
          "output_type": "execute_result",
          "data": {
            "text/plain": [
              "27"
            ]
          },
          "metadata": {
            "tags": []
          },
          "execution_count": 38
        },
        {
          "output_type": "execute_result",
          "data": {
            "text/plain": [
              "27"
            ]
          },
          "metadata": {
            "tags": []
          },
          "execution_count": 38
        },
        {
          "output_type": "execute_result",
          "data": {
            "text/plain": [
              "27"
            ]
          },
          "metadata": {
            "tags": []
          },
          "execution_count": 38
        },
        {
          "output_type": "execute_result",
          "data": {
            "text/plain": [
              "27"
            ]
          },
          "metadata": {
            "tags": []
          },
          "execution_count": 38
        },
        {
          "output_type": "execute_result",
          "data": {
            "text/plain": [
              "27"
            ]
          },
          "metadata": {
            "tags": []
          },
          "execution_count": 38
        },
        {
          "output_type": "execute_result",
          "data": {
            "text/plain": [
              "27"
            ]
          },
          "metadata": {
            "tags": []
          },
          "execution_count": 38
        },
        {
          "output_type": "execute_result",
          "data": {
            "text/plain": [
              "27"
            ]
          },
          "metadata": {
            "tags": []
          },
          "execution_count": 38
        },
        {
          "output_type": "execute_result",
          "data": {
            "text/plain": [
              "27"
            ]
          },
          "metadata": {
            "tags": []
          },
          "execution_count": 38
        },
        {
          "output_type": "execute_result",
          "data": {
            "text/plain": [
              "27"
            ]
          },
          "metadata": {
            "tags": []
          },
          "execution_count": 38
        },
        {
          "output_type": "execute_result",
          "data": {
            "text/plain": [
              "27"
            ]
          },
          "metadata": {
            "tags": []
          },
          "execution_count": 38
        },
        {
          "output_type": "execute_result",
          "data": {
            "text/plain": [
              "27"
            ]
          },
          "metadata": {
            "tags": []
          },
          "execution_count": 38
        },
        {
          "output_type": "execute_result",
          "data": {
            "text/plain": [
              "27"
            ]
          },
          "metadata": {
            "tags": []
          },
          "execution_count": 38
        },
        {
          "output_type": "execute_result",
          "data": {
            "text/plain": [
              "27"
            ]
          },
          "metadata": {
            "tags": []
          },
          "execution_count": 38
        },
        {
          "output_type": "execute_result",
          "data": {
            "text/plain": [
              "27"
            ]
          },
          "metadata": {
            "tags": []
          },
          "execution_count": 38
        },
        {
          "output_type": "execute_result",
          "data": {
            "text/plain": [
              "27"
            ]
          },
          "metadata": {
            "tags": []
          },
          "execution_count": 38
        },
        {
          "output_type": "execute_result",
          "data": {
            "text/plain": [
              "27"
            ]
          },
          "metadata": {
            "tags": []
          },
          "execution_count": 38
        },
        {
          "output_type": "execute_result",
          "data": {
            "text/plain": [
              "27"
            ]
          },
          "metadata": {
            "tags": []
          },
          "execution_count": 38
        },
        {
          "output_type": "execute_result",
          "data": {
            "text/plain": [
              "27"
            ]
          },
          "metadata": {
            "tags": []
          },
          "execution_count": 38
        },
        {
          "output_type": "execute_result",
          "data": {
            "text/plain": [
              "27"
            ]
          },
          "metadata": {
            "tags": []
          },
          "execution_count": 38
        },
        {
          "output_type": "execute_result",
          "data": {
            "text/plain": [
              "27"
            ]
          },
          "metadata": {
            "tags": []
          },
          "execution_count": 38
        },
        {
          "output_type": "execute_result",
          "data": {
            "text/plain": [
              "27"
            ]
          },
          "metadata": {
            "tags": []
          },
          "execution_count": 38
        },
        {
          "output_type": "execute_result",
          "data": {
            "text/plain": [
              "27"
            ]
          },
          "metadata": {
            "tags": []
          },
          "execution_count": 38
        },
        {
          "output_type": "execute_result",
          "data": {
            "text/plain": [
              "27"
            ]
          },
          "metadata": {
            "tags": []
          },
          "execution_count": 38
        },
        {
          "output_type": "execute_result",
          "data": {
            "text/plain": [
              "27"
            ]
          },
          "metadata": {
            "tags": []
          },
          "execution_count": 38
        },
        {
          "output_type": "execute_result",
          "data": {
            "text/plain": [
              "27"
            ]
          },
          "metadata": {
            "tags": []
          },
          "execution_count": 38
        },
        {
          "output_type": "execute_result",
          "data": {
            "text/plain": [
              "27"
            ]
          },
          "metadata": {
            "tags": []
          },
          "execution_count": 38
        },
        {
          "output_type": "execute_result",
          "data": {
            "text/plain": [
              "27"
            ]
          },
          "metadata": {
            "tags": []
          },
          "execution_count": 38
        },
        {
          "output_type": "execute_result",
          "data": {
            "text/plain": [
              "27"
            ]
          },
          "metadata": {
            "tags": []
          },
          "execution_count": 38
        },
        {
          "output_type": "execute_result",
          "data": {
            "text/plain": [
              "27"
            ]
          },
          "metadata": {
            "tags": []
          },
          "execution_count": 38
        },
        {
          "output_type": "execute_result",
          "data": {
            "text/plain": [
              "27"
            ]
          },
          "metadata": {
            "tags": []
          },
          "execution_count": 38
        },
        {
          "output_type": "execute_result",
          "data": {
            "text/plain": [
              "27"
            ]
          },
          "metadata": {
            "tags": []
          },
          "execution_count": 38
        },
        {
          "output_type": "execute_result",
          "data": {
            "text/plain": [
              "27"
            ]
          },
          "metadata": {
            "tags": []
          },
          "execution_count": 38
        },
        {
          "output_type": "execute_result",
          "data": {
            "text/plain": [
              "27"
            ]
          },
          "metadata": {
            "tags": []
          },
          "execution_count": 38
        },
        {
          "output_type": "execute_result",
          "data": {
            "text/plain": [
              "27"
            ]
          },
          "metadata": {
            "tags": []
          },
          "execution_count": 38
        },
        {
          "output_type": "execute_result",
          "data": {
            "text/plain": [
              "27"
            ]
          },
          "metadata": {
            "tags": []
          },
          "execution_count": 38
        },
        {
          "output_type": "execute_result",
          "data": {
            "text/plain": [
              "27"
            ]
          },
          "metadata": {
            "tags": []
          },
          "execution_count": 38
        },
        {
          "output_type": "execute_result",
          "data": {
            "text/plain": [
              "27"
            ]
          },
          "metadata": {
            "tags": []
          },
          "execution_count": 38
        },
        {
          "output_type": "execute_result",
          "data": {
            "text/plain": [
              "27"
            ]
          },
          "metadata": {
            "tags": []
          },
          "execution_count": 38
        },
        {
          "output_type": "execute_result",
          "data": {
            "text/plain": [
              "27"
            ]
          },
          "metadata": {
            "tags": []
          },
          "execution_count": 38
        },
        {
          "output_type": "execute_result",
          "data": {
            "text/plain": [
              "27"
            ]
          },
          "metadata": {
            "tags": []
          },
          "execution_count": 38
        },
        {
          "output_type": "execute_result",
          "data": {
            "text/plain": [
              "27"
            ]
          },
          "metadata": {
            "tags": []
          },
          "execution_count": 38
        },
        {
          "output_type": "execute_result",
          "data": {
            "text/plain": [
              "27"
            ]
          },
          "metadata": {
            "tags": []
          },
          "execution_count": 38
        },
        {
          "output_type": "execute_result",
          "data": {
            "text/plain": [
              "27"
            ]
          },
          "metadata": {
            "tags": []
          },
          "execution_count": 38
        },
        {
          "output_type": "execute_result",
          "data": {
            "text/plain": [
              "27"
            ]
          },
          "metadata": {
            "tags": []
          },
          "execution_count": 38
        },
        {
          "output_type": "execute_result",
          "data": {
            "text/plain": [
              "27"
            ]
          },
          "metadata": {
            "tags": []
          },
          "execution_count": 38
        },
        {
          "output_type": "execute_result",
          "data": {
            "text/plain": [
              "27"
            ]
          },
          "metadata": {
            "tags": []
          },
          "execution_count": 38
        },
        {
          "output_type": "execute_result",
          "data": {
            "text/plain": [
              "27"
            ]
          },
          "metadata": {
            "tags": []
          },
          "execution_count": 38
        },
        {
          "output_type": "execute_result",
          "data": {
            "text/plain": [
              "27"
            ]
          },
          "metadata": {
            "tags": []
          },
          "execution_count": 38
        },
        {
          "output_type": "execute_result",
          "data": {
            "text/plain": [
              "27"
            ]
          },
          "metadata": {
            "tags": []
          },
          "execution_count": 38
        },
        {
          "output_type": "execute_result",
          "data": {
            "text/plain": [
              "27"
            ]
          },
          "metadata": {
            "tags": []
          },
          "execution_count": 38
        },
        {
          "output_type": "execute_result",
          "data": {
            "text/plain": [
              "27"
            ]
          },
          "metadata": {
            "tags": []
          },
          "execution_count": 38
        },
        {
          "output_type": "execute_result",
          "data": {
            "text/plain": [
              "27"
            ]
          },
          "metadata": {
            "tags": []
          },
          "execution_count": 38
        },
        {
          "output_type": "execute_result",
          "data": {
            "text/plain": [
              "27"
            ]
          },
          "metadata": {
            "tags": []
          },
          "execution_count": 38
        },
        {
          "output_type": "execute_result",
          "data": {
            "text/plain": [
              "27"
            ]
          },
          "metadata": {
            "tags": []
          },
          "execution_count": 38
        },
        {
          "output_type": "execute_result",
          "data": {
            "text/plain": [
              "27"
            ]
          },
          "metadata": {
            "tags": []
          },
          "execution_count": 38
        },
        {
          "output_type": "execute_result",
          "data": {
            "text/plain": [
              "27"
            ]
          },
          "metadata": {
            "tags": []
          },
          "execution_count": 38
        },
        {
          "output_type": "execute_result",
          "data": {
            "text/plain": [
              "27"
            ]
          },
          "metadata": {
            "tags": []
          },
          "execution_count": 38
        },
        {
          "output_type": "execute_result",
          "data": {
            "text/plain": [
              "27"
            ]
          },
          "metadata": {
            "tags": []
          },
          "execution_count": 38
        },
        {
          "output_type": "execute_result",
          "data": {
            "text/plain": [
              "27"
            ]
          },
          "metadata": {
            "tags": []
          },
          "execution_count": 38
        },
        {
          "output_type": "execute_result",
          "data": {
            "text/plain": [
              "27"
            ]
          },
          "metadata": {
            "tags": []
          },
          "execution_count": 38
        },
        {
          "output_type": "execute_result",
          "data": {
            "text/plain": [
              "27"
            ]
          },
          "metadata": {
            "tags": []
          },
          "execution_count": 38
        },
        {
          "output_type": "execute_result",
          "data": {
            "text/plain": [
              "27"
            ]
          },
          "metadata": {
            "tags": []
          },
          "execution_count": 38
        },
        {
          "output_type": "execute_result",
          "data": {
            "text/plain": [
              "27"
            ]
          },
          "metadata": {
            "tags": []
          },
          "execution_count": 38
        },
        {
          "output_type": "execute_result",
          "data": {
            "text/plain": [
              "27"
            ]
          },
          "metadata": {
            "tags": []
          },
          "execution_count": 38
        },
        {
          "output_type": "execute_result",
          "data": {
            "text/plain": [
              "27"
            ]
          },
          "metadata": {
            "tags": []
          },
          "execution_count": 38
        },
        {
          "output_type": "execute_result",
          "data": {
            "text/plain": [
              "27"
            ]
          },
          "metadata": {
            "tags": []
          },
          "execution_count": 38
        },
        {
          "output_type": "execute_result",
          "data": {
            "text/plain": [
              "27"
            ]
          },
          "metadata": {
            "tags": []
          },
          "execution_count": 38
        },
        {
          "output_type": "execute_result",
          "data": {
            "text/plain": [
              "27"
            ]
          },
          "metadata": {
            "tags": []
          },
          "execution_count": 38
        },
        {
          "output_type": "execute_result",
          "data": {
            "text/plain": [
              "27"
            ]
          },
          "metadata": {
            "tags": []
          },
          "execution_count": 38
        },
        {
          "output_type": "execute_result",
          "data": {
            "text/plain": [
              "27"
            ]
          },
          "metadata": {
            "tags": []
          },
          "execution_count": 38
        },
        {
          "output_type": "execute_result",
          "data": {
            "text/plain": [
              "27"
            ]
          },
          "metadata": {
            "tags": []
          },
          "execution_count": 38
        },
        {
          "output_type": "execute_result",
          "data": {
            "text/plain": [
              "27"
            ]
          },
          "metadata": {
            "tags": []
          },
          "execution_count": 38
        },
        {
          "output_type": "execute_result",
          "data": {
            "text/plain": [
              "27"
            ]
          },
          "metadata": {
            "tags": []
          },
          "execution_count": 38
        },
        {
          "output_type": "execute_result",
          "data": {
            "text/plain": [
              "27"
            ]
          },
          "metadata": {
            "tags": []
          },
          "execution_count": 38
        },
        {
          "output_type": "execute_result",
          "data": {
            "text/plain": [
              "27"
            ]
          },
          "metadata": {
            "tags": []
          },
          "execution_count": 38
        },
        {
          "output_type": "execute_result",
          "data": {
            "text/plain": [
              "27"
            ]
          },
          "metadata": {
            "tags": []
          },
          "execution_count": 38
        },
        {
          "output_type": "execute_result",
          "data": {
            "text/plain": [
              "27"
            ]
          },
          "metadata": {
            "tags": []
          },
          "execution_count": 38
        },
        {
          "output_type": "execute_result",
          "data": {
            "text/plain": [
              "27"
            ]
          },
          "metadata": {
            "tags": []
          },
          "execution_count": 38
        },
        {
          "output_type": "execute_result",
          "data": {
            "text/plain": [
              "27"
            ]
          },
          "metadata": {
            "tags": []
          },
          "execution_count": 38
        },
        {
          "output_type": "execute_result",
          "data": {
            "text/plain": [
              "27"
            ]
          },
          "metadata": {
            "tags": []
          },
          "execution_count": 38
        },
        {
          "output_type": "execute_result",
          "data": {
            "text/plain": [
              "27"
            ]
          },
          "metadata": {
            "tags": []
          },
          "execution_count": 38
        },
        {
          "output_type": "execute_result",
          "data": {
            "text/plain": [
              "27"
            ]
          },
          "metadata": {
            "tags": []
          },
          "execution_count": 38
        },
        {
          "output_type": "execute_result",
          "data": {
            "text/plain": [
              "27"
            ]
          },
          "metadata": {
            "tags": []
          },
          "execution_count": 38
        },
        {
          "output_type": "execute_result",
          "data": {
            "text/plain": [
              "27"
            ]
          },
          "metadata": {
            "tags": []
          },
          "execution_count": 38
        },
        {
          "output_type": "execute_result",
          "data": {
            "text/plain": [
              "27"
            ]
          },
          "metadata": {
            "tags": []
          },
          "execution_count": 38
        },
        {
          "output_type": "execute_result",
          "data": {
            "text/plain": [
              "27"
            ]
          },
          "metadata": {
            "tags": []
          },
          "execution_count": 38
        },
        {
          "output_type": "execute_result",
          "data": {
            "text/plain": [
              "27"
            ]
          },
          "metadata": {
            "tags": []
          },
          "execution_count": 38
        },
        {
          "output_type": "execute_result",
          "data": {
            "text/plain": [
              "27"
            ]
          },
          "metadata": {
            "tags": []
          },
          "execution_count": 38
        },
        {
          "output_type": "execute_result",
          "data": {
            "text/plain": [
              "27"
            ]
          },
          "metadata": {
            "tags": []
          },
          "execution_count": 38
        },
        {
          "output_type": "execute_result",
          "data": {
            "text/plain": [
              "27"
            ]
          },
          "metadata": {
            "tags": []
          },
          "execution_count": 38
        },
        {
          "output_type": "execute_result",
          "data": {
            "text/plain": [
              "27"
            ]
          },
          "metadata": {
            "tags": []
          },
          "execution_count": 38
        },
        {
          "output_type": "execute_result",
          "data": {
            "text/plain": [
              "27"
            ]
          },
          "metadata": {
            "tags": []
          },
          "execution_count": 38
        },
        {
          "output_type": "execute_result",
          "data": {
            "text/plain": [
              "27"
            ]
          },
          "metadata": {
            "tags": []
          },
          "execution_count": 38
        },
        {
          "output_type": "execute_result",
          "data": {
            "text/plain": [
              "27"
            ]
          },
          "metadata": {
            "tags": []
          },
          "execution_count": 38
        },
        {
          "output_type": "execute_result",
          "data": {
            "text/plain": [
              "27"
            ]
          },
          "metadata": {
            "tags": []
          },
          "execution_count": 38
        },
        {
          "output_type": "execute_result",
          "data": {
            "text/plain": [
              "27"
            ]
          },
          "metadata": {
            "tags": []
          },
          "execution_count": 38
        },
        {
          "output_type": "execute_result",
          "data": {
            "text/plain": [
              "27"
            ]
          },
          "metadata": {
            "tags": []
          },
          "execution_count": 38
        },
        {
          "output_type": "execute_result",
          "data": {
            "text/plain": [
              "27"
            ]
          },
          "metadata": {
            "tags": []
          },
          "execution_count": 38
        },
        {
          "output_type": "execute_result",
          "data": {
            "text/plain": [
              "27"
            ]
          },
          "metadata": {
            "tags": []
          },
          "execution_count": 38
        },
        {
          "output_type": "execute_result",
          "data": {
            "text/plain": [
              "27"
            ]
          },
          "metadata": {
            "tags": []
          },
          "execution_count": 38
        },
        {
          "output_type": "execute_result",
          "data": {
            "text/plain": [
              "27"
            ]
          },
          "metadata": {
            "tags": []
          },
          "execution_count": 38
        },
        {
          "output_type": "execute_result",
          "data": {
            "text/plain": [
              "27"
            ]
          },
          "metadata": {
            "tags": []
          },
          "execution_count": 38
        },
        {
          "output_type": "execute_result",
          "data": {
            "text/plain": [
              "27"
            ]
          },
          "metadata": {
            "tags": []
          },
          "execution_count": 38
        },
        {
          "output_type": "execute_result",
          "data": {
            "text/plain": [
              "27"
            ]
          },
          "metadata": {
            "tags": []
          },
          "execution_count": 38
        },
        {
          "output_type": "execute_result",
          "data": {
            "text/plain": [
              "27"
            ]
          },
          "metadata": {
            "tags": []
          },
          "execution_count": 38
        },
        {
          "output_type": "execute_result",
          "data": {
            "text/plain": [
              "27"
            ]
          },
          "metadata": {
            "tags": []
          },
          "execution_count": 38
        },
        {
          "output_type": "execute_result",
          "data": {
            "text/plain": [
              "27"
            ]
          },
          "metadata": {
            "tags": []
          },
          "execution_count": 38
        },
        {
          "output_type": "execute_result",
          "data": {
            "text/plain": [
              "27"
            ]
          },
          "metadata": {
            "tags": []
          },
          "execution_count": 38
        },
        {
          "output_type": "execute_result",
          "data": {
            "text/plain": [
              "27"
            ]
          },
          "metadata": {
            "tags": []
          },
          "execution_count": 38
        },
        {
          "output_type": "execute_result",
          "data": {
            "text/plain": [
              "27"
            ]
          },
          "metadata": {
            "tags": []
          },
          "execution_count": 38
        },
        {
          "output_type": "execute_result",
          "data": {
            "text/plain": [
              "27"
            ]
          },
          "metadata": {
            "tags": []
          },
          "execution_count": 38
        },
        {
          "output_type": "execute_result",
          "data": {
            "text/plain": [
              "27"
            ]
          },
          "metadata": {
            "tags": []
          },
          "execution_count": 38
        },
        {
          "output_type": "execute_result",
          "data": {
            "text/plain": [
              "27"
            ]
          },
          "metadata": {
            "tags": []
          },
          "execution_count": 38
        },
        {
          "output_type": "execute_result",
          "data": {
            "text/plain": [
              "27"
            ]
          },
          "metadata": {
            "tags": []
          },
          "execution_count": 38
        },
        {
          "output_type": "execute_result",
          "data": {
            "text/plain": [
              "27"
            ]
          },
          "metadata": {
            "tags": []
          },
          "execution_count": 38
        },
        {
          "output_type": "execute_result",
          "data": {
            "text/plain": [
              "27"
            ]
          },
          "metadata": {
            "tags": []
          },
          "execution_count": 38
        },
        {
          "output_type": "execute_result",
          "data": {
            "text/plain": [
              "27"
            ]
          },
          "metadata": {
            "tags": []
          },
          "execution_count": 38
        },
        {
          "output_type": "execute_result",
          "data": {
            "text/plain": [
              "27"
            ]
          },
          "metadata": {
            "tags": []
          },
          "execution_count": 38
        },
        {
          "output_type": "execute_result",
          "data": {
            "text/plain": [
              "27"
            ]
          },
          "metadata": {
            "tags": []
          },
          "execution_count": 38
        },
        {
          "output_type": "execute_result",
          "data": {
            "text/plain": [
              "27"
            ]
          },
          "metadata": {
            "tags": []
          },
          "execution_count": 38
        },
        {
          "output_type": "execute_result",
          "data": {
            "text/plain": [
              "27"
            ]
          },
          "metadata": {
            "tags": []
          },
          "execution_count": 38
        },
        {
          "output_type": "execute_result",
          "data": {
            "text/plain": [
              "27"
            ]
          },
          "metadata": {
            "tags": []
          },
          "execution_count": 38
        },
        {
          "output_type": "execute_result",
          "data": {
            "text/plain": [
              "27"
            ]
          },
          "metadata": {
            "tags": []
          },
          "execution_count": 38
        },
        {
          "output_type": "execute_result",
          "data": {
            "text/plain": [
              "27"
            ]
          },
          "metadata": {
            "tags": []
          },
          "execution_count": 38
        },
        {
          "output_type": "execute_result",
          "data": {
            "text/plain": [
              "27"
            ]
          },
          "metadata": {
            "tags": []
          },
          "execution_count": 38
        },
        {
          "output_type": "execute_result",
          "data": {
            "text/plain": [
              "27"
            ]
          },
          "metadata": {
            "tags": []
          },
          "execution_count": 38
        },
        {
          "output_type": "execute_result",
          "data": {
            "text/plain": [
              "27"
            ]
          },
          "metadata": {
            "tags": []
          },
          "execution_count": 38
        },
        {
          "output_type": "execute_result",
          "data": {
            "text/plain": [
              "27"
            ]
          },
          "metadata": {
            "tags": []
          },
          "execution_count": 38
        },
        {
          "output_type": "execute_result",
          "data": {
            "text/plain": [
              "27"
            ]
          },
          "metadata": {
            "tags": []
          },
          "execution_count": 38
        },
        {
          "output_type": "execute_result",
          "data": {
            "text/plain": [
              "27"
            ]
          },
          "metadata": {
            "tags": []
          },
          "execution_count": 38
        },
        {
          "output_type": "execute_result",
          "data": {
            "text/plain": [
              "27"
            ]
          },
          "metadata": {
            "tags": []
          },
          "execution_count": 38
        },
        {
          "output_type": "execute_result",
          "data": {
            "text/plain": [
              "27"
            ]
          },
          "metadata": {
            "tags": []
          },
          "execution_count": 38
        },
        {
          "output_type": "execute_result",
          "data": {
            "text/plain": [
              "27"
            ]
          },
          "metadata": {
            "tags": []
          },
          "execution_count": 38
        },
        {
          "output_type": "execute_result",
          "data": {
            "text/plain": [
              "27"
            ]
          },
          "metadata": {
            "tags": []
          },
          "execution_count": 38
        },
        {
          "output_type": "execute_result",
          "data": {
            "text/plain": [
              "27"
            ]
          },
          "metadata": {
            "tags": []
          },
          "execution_count": 38
        },
        {
          "output_type": "execute_result",
          "data": {
            "text/plain": [
              "27"
            ]
          },
          "metadata": {
            "tags": []
          },
          "execution_count": 38
        },
        {
          "output_type": "execute_result",
          "data": {
            "text/plain": [
              "27"
            ]
          },
          "metadata": {
            "tags": []
          },
          "execution_count": 38
        },
        {
          "output_type": "execute_result",
          "data": {
            "text/plain": [
              "27"
            ]
          },
          "metadata": {
            "tags": []
          },
          "execution_count": 38
        },
        {
          "output_type": "execute_result",
          "data": {
            "text/plain": [
              "27"
            ]
          },
          "metadata": {
            "tags": []
          },
          "execution_count": 38
        },
        {
          "output_type": "execute_result",
          "data": {
            "text/plain": [
              "27"
            ]
          },
          "metadata": {
            "tags": []
          },
          "execution_count": 38
        },
        {
          "output_type": "execute_result",
          "data": {
            "text/plain": [
              "27"
            ]
          },
          "metadata": {
            "tags": []
          },
          "execution_count": 38
        },
        {
          "output_type": "execute_result",
          "data": {
            "text/plain": [
              "27"
            ]
          },
          "metadata": {
            "tags": []
          },
          "execution_count": 38
        },
        {
          "output_type": "execute_result",
          "data": {
            "text/plain": [
              "27"
            ]
          },
          "metadata": {
            "tags": []
          },
          "execution_count": 38
        },
        {
          "output_type": "execute_result",
          "data": {
            "text/plain": [
              "27"
            ]
          },
          "metadata": {
            "tags": []
          },
          "execution_count": 38
        },
        {
          "output_type": "execute_result",
          "data": {
            "text/plain": [
              "27"
            ]
          },
          "metadata": {
            "tags": []
          },
          "execution_count": 38
        },
        {
          "output_type": "execute_result",
          "data": {
            "text/plain": [
              "27"
            ]
          },
          "metadata": {
            "tags": []
          },
          "execution_count": 38
        },
        {
          "output_type": "execute_result",
          "data": {
            "text/plain": [
              "27"
            ]
          },
          "metadata": {
            "tags": []
          },
          "execution_count": 38
        },
        {
          "output_type": "execute_result",
          "data": {
            "text/plain": [
              "27"
            ]
          },
          "metadata": {
            "tags": []
          },
          "execution_count": 38
        },
        {
          "output_type": "execute_result",
          "data": {
            "text/plain": [
              "27"
            ]
          },
          "metadata": {
            "tags": []
          },
          "execution_count": 38
        },
        {
          "output_type": "execute_result",
          "data": {
            "text/plain": [
              "27"
            ]
          },
          "metadata": {
            "tags": []
          },
          "execution_count": 38
        },
        {
          "output_type": "execute_result",
          "data": {
            "text/plain": [
              "27"
            ]
          },
          "metadata": {
            "tags": []
          },
          "execution_count": 38
        },
        {
          "output_type": "execute_result",
          "data": {
            "text/plain": [
              "27"
            ]
          },
          "metadata": {
            "tags": []
          },
          "execution_count": 38
        },
        {
          "output_type": "execute_result",
          "data": {
            "text/plain": [
              "27"
            ]
          },
          "metadata": {
            "tags": []
          },
          "execution_count": 38
        },
        {
          "output_type": "execute_result",
          "data": {
            "text/plain": [
              "27"
            ]
          },
          "metadata": {
            "tags": []
          },
          "execution_count": 38
        },
        {
          "output_type": "execute_result",
          "data": {
            "text/plain": [
              "27"
            ]
          },
          "metadata": {
            "tags": []
          },
          "execution_count": 38
        },
        {
          "output_type": "execute_result",
          "data": {
            "text/plain": [
              "27"
            ]
          },
          "metadata": {
            "tags": []
          },
          "execution_count": 38
        },
        {
          "output_type": "execute_result",
          "data": {
            "text/plain": [
              "27"
            ]
          },
          "metadata": {
            "tags": []
          },
          "execution_count": 38
        },
        {
          "output_type": "execute_result",
          "data": {
            "text/plain": [
              "27"
            ]
          },
          "metadata": {
            "tags": []
          },
          "execution_count": 38
        },
        {
          "output_type": "execute_result",
          "data": {
            "text/plain": [
              "27"
            ]
          },
          "metadata": {
            "tags": []
          },
          "execution_count": 38
        },
        {
          "output_type": "execute_result",
          "data": {
            "text/plain": [
              "27"
            ]
          },
          "metadata": {
            "tags": []
          },
          "execution_count": 38
        },
        {
          "output_type": "execute_result",
          "data": {
            "text/plain": [
              "27"
            ]
          },
          "metadata": {
            "tags": []
          },
          "execution_count": 38
        },
        {
          "output_type": "execute_result",
          "data": {
            "text/plain": [
              "27"
            ]
          },
          "metadata": {
            "tags": []
          },
          "execution_count": 38
        },
        {
          "output_type": "execute_result",
          "data": {
            "text/plain": [
              "27"
            ]
          },
          "metadata": {
            "tags": []
          },
          "execution_count": 38
        },
        {
          "output_type": "execute_result",
          "data": {
            "text/plain": [
              "27"
            ]
          },
          "metadata": {
            "tags": []
          },
          "execution_count": 38
        },
        {
          "output_type": "execute_result",
          "data": {
            "text/plain": [
              "27"
            ]
          },
          "metadata": {
            "tags": []
          },
          "execution_count": 38
        },
        {
          "output_type": "execute_result",
          "data": {
            "text/plain": [
              "27"
            ]
          },
          "metadata": {
            "tags": []
          },
          "execution_count": 38
        },
        {
          "output_type": "execute_result",
          "data": {
            "text/plain": [
              "27"
            ]
          },
          "metadata": {
            "tags": []
          },
          "execution_count": 38
        },
        {
          "output_type": "execute_result",
          "data": {
            "text/plain": [
              "27"
            ]
          },
          "metadata": {
            "tags": []
          },
          "execution_count": 38
        },
        {
          "output_type": "execute_result",
          "data": {
            "text/plain": [
              "27"
            ]
          },
          "metadata": {
            "tags": []
          },
          "execution_count": 38
        },
        {
          "output_type": "execute_result",
          "data": {
            "text/plain": [
              "27"
            ]
          },
          "metadata": {
            "tags": []
          },
          "execution_count": 38
        },
        {
          "output_type": "execute_result",
          "data": {
            "text/plain": [
              "27"
            ]
          },
          "metadata": {
            "tags": []
          },
          "execution_count": 38
        },
        {
          "output_type": "execute_result",
          "data": {
            "text/plain": [
              "27"
            ]
          },
          "metadata": {
            "tags": []
          },
          "execution_count": 38
        },
        {
          "output_type": "execute_result",
          "data": {
            "text/plain": [
              "27"
            ]
          },
          "metadata": {
            "tags": []
          },
          "execution_count": 38
        },
        {
          "output_type": "execute_result",
          "data": {
            "text/plain": [
              "27"
            ]
          },
          "metadata": {
            "tags": []
          },
          "execution_count": 38
        },
        {
          "output_type": "execute_result",
          "data": {
            "text/plain": [
              "27"
            ]
          },
          "metadata": {
            "tags": []
          },
          "execution_count": 38
        },
        {
          "output_type": "execute_result",
          "data": {
            "text/plain": [
              "27"
            ]
          },
          "metadata": {
            "tags": []
          },
          "execution_count": 38
        },
        {
          "output_type": "execute_result",
          "data": {
            "text/plain": [
              "27"
            ]
          },
          "metadata": {
            "tags": []
          },
          "execution_count": 38
        },
        {
          "output_type": "execute_result",
          "data": {
            "text/plain": [
              "27"
            ]
          },
          "metadata": {
            "tags": []
          },
          "execution_count": 38
        },
        {
          "output_type": "execute_result",
          "data": {
            "text/plain": [
              "27"
            ]
          },
          "metadata": {
            "tags": []
          },
          "execution_count": 38
        },
        {
          "output_type": "execute_result",
          "data": {
            "text/plain": [
              "27"
            ]
          },
          "metadata": {
            "tags": []
          },
          "execution_count": 38
        },
        {
          "output_type": "execute_result",
          "data": {
            "text/plain": [
              "27"
            ]
          },
          "metadata": {
            "tags": []
          },
          "execution_count": 38
        },
        {
          "output_type": "execute_result",
          "data": {
            "text/plain": [
              "27"
            ]
          },
          "metadata": {
            "tags": []
          },
          "execution_count": 38
        },
        {
          "output_type": "execute_result",
          "data": {
            "text/plain": [
              "27"
            ]
          },
          "metadata": {
            "tags": []
          },
          "execution_count": 38
        },
        {
          "output_type": "execute_result",
          "data": {
            "text/plain": [
              "27"
            ]
          },
          "metadata": {
            "tags": []
          },
          "execution_count": 38
        },
        {
          "output_type": "execute_result",
          "data": {
            "text/plain": [
              "27"
            ]
          },
          "metadata": {
            "tags": []
          },
          "execution_count": 38
        },
        {
          "output_type": "execute_result",
          "data": {
            "text/plain": [
              "27"
            ]
          },
          "metadata": {
            "tags": []
          },
          "execution_count": 38
        },
        {
          "output_type": "execute_result",
          "data": {
            "text/plain": [
              "27"
            ]
          },
          "metadata": {
            "tags": []
          },
          "execution_count": 38
        },
        {
          "output_type": "execute_result",
          "data": {
            "text/plain": [
              "27"
            ]
          },
          "metadata": {
            "tags": []
          },
          "execution_count": 38
        },
        {
          "output_type": "execute_result",
          "data": {
            "text/plain": [
              "27"
            ]
          },
          "metadata": {
            "tags": []
          },
          "execution_count": 38
        },
        {
          "output_type": "execute_result",
          "data": {
            "text/plain": [
              "27"
            ]
          },
          "metadata": {
            "tags": []
          },
          "execution_count": 38
        },
        {
          "output_type": "execute_result",
          "data": {
            "text/plain": [
              "27"
            ]
          },
          "metadata": {
            "tags": []
          },
          "execution_count": 38
        },
        {
          "output_type": "execute_result",
          "data": {
            "text/plain": [
              "27"
            ]
          },
          "metadata": {
            "tags": []
          },
          "execution_count": 38
        },
        {
          "output_type": "execute_result",
          "data": {
            "text/plain": [
              "27"
            ]
          },
          "metadata": {
            "tags": []
          },
          "execution_count": 38
        },
        {
          "output_type": "execute_result",
          "data": {
            "text/plain": [
              "27"
            ]
          },
          "metadata": {
            "tags": []
          },
          "execution_count": 38
        },
        {
          "output_type": "execute_result",
          "data": {
            "text/plain": [
              "27"
            ]
          },
          "metadata": {
            "tags": []
          },
          "execution_count": 38
        },
        {
          "output_type": "execute_result",
          "data": {
            "text/plain": [
              "27"
            ]
          },
          "metadata": {
            "tags": []
          },
          "execution_count": 38
        },
        {
          "output_type": "execute_result",
          "data": {
            "text/plain": [
              "27"
            ]
          },
          "metadata": {
            "tags": []
          },
          "execution_count": 38
        },
        {
          "output_type": "execute_result",
          "data": {
            "text/plain": [
              "27"
            ]
          },
          "metadata": {
            "tags": []
          },
          "execution_count": 38
        },
        {
          "output_type": "execute_result",
          "data": {
            "text/plain": [
              "27"
            ]
          },
          "metadata": {
            "tags": []
          },
          "execution_count": 38
        },
        {
          "output_type": "execute_result",
          "data": {
            "text/plain": [
              "27"
            ]
          },
          "metadata": {
            "tags": []
          },
          "execution_count": 38
        },
        {
          "output_type": "execute_result",
          "data": {
            "text/plain": [
              "27"
            ]
          },
          "metadata": {
            "tags": []
          },
          "execution_count": 38
        },
        {
          "output_type": "execute_result",
          "data": {
            "text/plain": [
              "27"
            ]
          },
          "metadata": {
            "tags": []
          },
          "execution_count": 38
        },
        {
          "output_type": "execute_result",
          "data": {
            "text/plain": [
              "27"
            ]
          },
          "metadata": {
            "tags": []
          },
          "execution_count": 38
        },
        {
          "output_type": "execute_result",
          "data": {
            "text/plain": [
              "27"
            ]
          },
          "metadata": {
            "tags": []
          },
          "execution_count": 38
        },
        {
          "output_type": "execute_result",
          "data": {
            "text/plain": [
              "27"
            ]
          },
          "metadata": {
            "tags": []
          },
          "execution_count": 38
        },
        {
          "output_type": "execute_result",
          "data": {
            "text/plain": [
              "27"
            ]
          },
          "metadata": {
            "tags": []
          },
          "execution_count": 38
        },
        {
          "output_type": "execute_result",
          "data": {
            "text/plain": [
              "27"
            ]
          },
          "metadata": {
            "tags": []
          },
          "execution_count": 38
        },
        {
          "output_type": "execute_result",
          "data": {
            "text/plain": [
              "27"
            ]
          },
          "metadata": {
            "tags": []
          },
          "execution_count": 38
        },
        {
          "output_type": "execute_result",
          "data": {
            "text/plain": [
              "27"
            ]
          },
          "metadata": {
            "tags": []
          },
          "execution_count": 38
        },
        {
          "output_type": "execute_result",
          "data": {
            "text/plain": [
              "27"
            ]
          },
          "metadata": {
            "tags": []
          },
          "execution_count": 38
        },
        {
          "output_type": "execute_result",
          "data": {
            "text/plain": [
              "27"
            ]
          },
          "metadata": {
            "tags": []
          },
          "execution_count": 38
        },
        {
          "output_type": "execute_result",
          "data": {
            "text/plain": [
              "27"
            ]
          },
          "metadata": {
            "tags": []
          },
          "execution_count": 38
        },
        {
          "output_type": "execute_result",
          "data": {
            "text/plain": [
              "27"
            ]
          },
          "metadata": {
            "tags": []
          },
          "execution_count": 38
        },
        {
          "output_type": "execute_result",
          "data": {
            "text/plain": [
              "27"
            ]
          },
          "metadata": {
            "tags": []
          },
          "execution_count": 38
        },
        {
          "output_type": "execute_result",
          "data": {
            "text/plain": [
              "27"
            ]
          },
          "metadata": {
            "tags": []
          },
          "execution_count": 38
        },
        {
          "output_type": "execute_result",
          "data": {
            "text/plain": [
              "27"
            ]
          },
          "metadata": {
            "tags": []
          },
          "execution_count": 38
        },
        {
          "output_type": "execute_result",
          "data": {
            "text/plain": [
              "27"
            ]
          },
          "metadata": {
            "tags": []
          },
          "execution_count": 38
        },
        {
          "output_type": "execute_result",
          "data": {
            "text/plain": [
              "27"
            ]
          },
          "metadata": {
            "tags": []
          },
          "execution_count": 38
        },
        {
          "output_type": "execute_result",
          "data": {
            "text/plain": [
              "27"
            ]
          },
          "metadata": {
            "tags": []
          },
          "execution_count": 38
        },
        {
          "output_type": "execute_result",
          "data": {
            "text/plain": [
              "27"
            ]
          },
          "metadata": {
            "tags": []
          },
          "execution_count": 38
        },
        {
          "output_type": "execute_result",
          "data": {
            "text/plain": [
              "27"
            ]
          },
          "metadata": {
            "tags": []
          },
          "execution_count": 38
        },
        {
          "output_type": "execute_result",
          "data": {
            "text/plain": [
              "27"
            ]
          },
          "metadata": {
            "tags": []
          },
          "execution_count": 38
        },
        {
          "output_type": "execute_result",
          "data": {
            "text/plain": [
              "27"
            ]
          },
          "metadata": {
            "tags": []
          },
          "execution_count": 38
        },
        {
          "output_type": "execute_result",
          "data": {
            "text/plain": [
              "27"
            ]
          },
          "metadata": {
            "tags": []
          },
          "execution_count": 38
        },
        {
          "output_type": "execute_result",
          "data": {
            "text/plain": [
              "27"
            ]
          },
          "metadata": {
            "tags": []
          },
          "execution_count": 38
        },
        {
          "output_type": "execute_result",
          "data": {
            "text/plain": [
              "27"
            ]
          },
          "metadata": {
            "tags": []
          },
          "execution_count": 38
        },
        {
          "output_type": "execute_result",
          "data": {
            "text/plain": [
              "27"
            ]
          },
          "metadata": {
            "tags": []
          },
          "execution_count": 38
        },
        {
          "output_type": "execute_result",
          "data": {
            "text/plain": [
              "27"
            ]
          },
          "metadata": {
            "tags": []
          },
          "execution_count": 38
        },
        {
          "output_type": "execute_result",
          "data": {
            "text/plain": [
              "27"
            ]
          },
          "metadata": {
            "tags": []
          },
          "execution_count": 38
        },
        {
          "output_type": "execute_result",
          "data": {
            "text/plain": [
              "27"
            ]
          },
          "metadata": {
            "tags": []
          },
          "execution_count": 38
        },
        {
          "output_type": "execute_result",
          "data": {
            "text/plain": [
              "27"
            ]
          },
          "metadata": {
            "tags": []
          },
          "execution_count": 38
        },
        {
          "output_type": "execute_result",
          "data": {
            "text/plain": [
              "27"
            ]
          },
          "metadata": {
            "tags": []
          },
          "execution_count": 38
        },
        {
          "output_type": "execute_result",
          "data": {
            "text/plain": [
              "27"
            ]
          },
          "metadata": {
            "tags": []
          },
          "execution_count": 38
        },
        {
          "output_type": "execute_result",
          "data": {
            "text/plain": [
              "27"
            ]
          },
          "metadata": {
            "tags": []
          },
          "execution_count": 38
        },
        {
          "output_type": "execute_result",
          "data": {
            "text/plain": [
              "27"
            ]
          },
          "metadata": {
            "tags": []
          },
          "execution_count": 38
        },
        {
          "output_type": "execute_result",
          "data": {
            "text/plain": [
              "27"
            ]
          },
          "metadata": {
            "tags": []
          },
          "execution_count": 38
        },
        {
          "output_type": "execute_result",
          "data": {
            "text/plain": [
              "27"
            ]
          },
          "metadata": {
            "tags": []
          },
          "execution_count": 38
        },
        {
          "output_type": "execute_result",
          "data": {
            "text/plain": [
              "27"
            ]
          },
          "metadata": {
            "tags": []
          },
          "execution_count": 38
        },
        {
          "output_type": "execute_result",
          "data": {
            "text/plain": [
              "27"
            ]
          },
          "metadata": {
            "tags": []
          },
          "execution_count": 38
        },
        {
          "output_type": "execute_result",
          "data": {
            "text/plain": [
              "27"
            ]
          },
          "metadata": {
            "tags": []
          },
          "execution_count": 38
        },
        {
          "output_type": "execute_result",
          "data": {
            "text/plain": [
              "27"
            ]
          },
          "metadata": {
            "tags": []
          },
          "execution_count": 38
        },
        {
          "output_type": "execute_result",
          "data": {
            "text/plain": [
              "27"
            ]
          },
          "metadata": {
            "tags": []
          },
          "execution_count": 38
        },
        {
          "output_type": "execute_result",
          "data": {
            "text/plain": [
              "27"
            ]
          },
          "metadata": {
            "tags": []
          },
          "execution_count": 38
        },
        {
          "output_type": "execute_result",
          "data": {
            "text/plain": [
              "27"
            ]
          },
          "metadata": {
            "tags": []
          },
          "execution_count": 38
        },
        {
          "output_type": "execute_result",
          "data": {
            "text/plain": [
              "27"
            ]
          },
          "metadata": {
            "tags": []
          },
          "execution_count": 38
        },
        {
          "output_type": "execute_result",
          "data": {
            "text/plain": [
              "27"
            ]
          },
          "metadata": {
            "tags": []
          },
          "execution_count": 38
        },
        {
          "output_type": "execute_result",
          "data": {
            "text/plain": [
              "27"
            ]
          },
          "metadata": {
            "tags": []
          },
          "execution_count": 38
        },
        {
          "output_type": "execute_result",
          "data": {
            "text/plain": [
              "27"
            ]
          },
          "metadata": {
            "tags": []
          },
          "execution_count": 38
        },
        {
          "output_type": "execute_result",
          "data": {
            "text/plain": [
              "27"
            ]
          },
          "metadata": {
            "tags": []
          },
          "execution_count": 38
        },
        {
          "output_type": "execute_result",
          "data": {
            "text/plain": [
              "27"
            ]
          },
          "metadata": {
            "tags": []
          },
          "execution_count": 38
        },
        {
          "output_type": "execute_result",
          "data": {
            "text/plain": [
              "27"
            ]
          },
          "metadata": {
            "tags": []
          },
          "execution_count": 38
        },
        {
          "output_type": "execute_result",
          "data": {
            "text/plain": [
              "27"
            ]
          },
          "metadata": {
            "tags": []
          },
          "execution_count": 38
        },
        {
          "output_type": "execute_result",
          "data": {
            "text/plain": [
              "27"
            ]
          },
          "metadata": {
            "tags": []
          },
          "execution_count": 38
        },
        {
          "output_type": "execute_result",
          "data": {
            "text/plain": [
              "27"
            ]
          },
          "metadata": {
            "tags": []
          },
          "execution_count": 38
        },
        {
          "output_type": "execute_result",
          "data": {
            "text/plain": [
              "27"
            ]
          },
          "metadata": {
            "tags": []
          },
          "execution_count": 38
        },
        {
          "output_type": "execute_result",
          "data": {
            "text/plain": [
              "27"
            ]
          },
          "metadata": {
            "tags": []
          },
          "execution_count": 38
        },
        {
          "output_type": "execute_result",
          "data": {
            "text/plain": [
              "27"
            ]
          },
          "metadata": {
            "tags": []
          },
          "execution_count": 38
        },
        {
          "output_type": "execute_result",
          "data": {
            "text/plain": [
              "27"
            ]
          },
          "metadata": {
            "tags": []
          },
          "execution_count": 38
        },
        {
          "output_type": "execute_result",
          "data": {
            "text/plain": [
              "27"
            ]
          },
          "metadata": {
            "tags": []
          },
          "execution_count": 38
        },
        {
          "output_type": "execute_result",
          "data": {
            "text/plain": [
              "27"
            ]
          },
          "metadata": {
            "tags": []
          },
          "execution_count": 38
        },
        {
          "output_type": "execute_result",
          "data": {
            "text/plain": [
              "27"
            ]
          },
          "metadata": {
            "tags": []
          },
          "execution_count": 38
        },
        {
          "output_type": "execute_result",
          "data": {
            "text/plain": [
              "27"
            ]
          },
          "metadata": {
            "tags": []
          },
          "execution_count": 38
        },
        {
          "output_type": "execute_result",
          "data": {
            "text/plain": [
              "27"
            ]
          },
          "metadata": {
            "tags": []
          },
          "execution_count": 38
        },
        {
          "output_type": "execute_result",
          "data": {
            "text/plain": [
              "27"
            ]
          },
          "metadata": {
            "tags": []
          },
          "execution_count": 38
        },
        {
          "output_type": "execute_result",
          "data": {
            "text/plain": [
              "27"
            ]
          },
          "metadata": {
            "tags": []
          },
          "execution_count": 38
        },
        {
          "output_type": "execute_result",
          "data": {
            "text/plain": [
              "27"
            ]
          },
          "metadata": {
            "tags": []
          },
          "execution_count": 38
        },
        {
          "output_type": "execute_result",
          "data": {
            "text/plain": [
              "27"
            ]
          },
          "metadata": {
            "tags": []
          },
          "execution_count": 38
        },
        {
          "output_type": "execute_result",
          "data": {
            "text/plain": [
              "27"
            ]
          },
          "metadata": {
            "tags": []
          },
          "execution_count": 38
        },
        {
          "output_type": "execute_result",
          "data": {
            "text/plain": [
              "27"
            ]
          },
          "metadata": {
            "tags": []
          },
          "execution_count": 38
        },
        {
          "output_type": "execute_result",
          "data": {
            "text/plain": [
              "27"
            ]
          },
          "metadata": {
            "tags": []
          },
          "execution_count": 38
        },
        {
          "output_type": "execute_result",
          "data": {
            "text/plain": [
              "27"
            ]
          },
          "metadata": {
            "tags": []
          },
          "execution_count": 38
        },
        {
          "output_type": "execute_result",
          "data": {
            "text/plain": [
              "27"
            ]
          },
          "metadata": {
            "tags": []
          },
          "execution_count": 38
        },
        {
          "output_type": "execute_result",
          "data": {
            "text/plain": [
              "27"
            ]
          },
          "metadata": {
            "tags": []
          },
          "execution_count": 38
        },
        {
          "output_type": "execute_result",
          "data": {
            "text/plain": [
              "27"
            ]
          },
          "metadata": {
            "tags": []
          },
          "execution_count": 38
        },
        {
          "output_type": "execute_result",
          "data": {
            "text/plain": [
              "27"
            ]
          },
          "metadata": {
            "tags": []
          },
          "execution_count": 38
        },
        {
          "output_type": "execute_result",
          "data": {
            "text/plain": [
              "27"
            ]
          },
          "metadata": {
            "tags": []
          },
          "execution_count": 38
        },
        {
          "output_type": "execute_result",
          "data": {
            "text/plain": [
              "27"
            ]
          },
          "metadata": {
            "tags": []
          },
          "execution_count": 38
        },
        {
          "output_type": "execute_result",
          "data": {
            "text/plain": [
              "27"
            ]
          },
          "metadata": {
            "tags": []
          },
          "execution_count": 38
        },
        {
          "output_type": "execute_result",
          "data": {
            "text/plain": [
              "27"
            ]
          },
          "metadata": {
            "tags": []
          },
          "execution_count": 38
        },
        {
          "output_type": "execute_result",
          "data": {
            "text/plain": [
              "27"
            ]
          },
          "metadata": {
            "tags": []
          },
          "execution_count": 38
        },
        {
          "output_type": "execute_result",
          "data": {
            "text/plain": [
              "27"
            ]
          },
          "metadata": {
            "tags": []
          },
          "execution_count": 38
        },
        {
          "output_type": "execute_result",
          "data": {
            "text/plain": [
              "27"
            ]
          },
          "metadata": {
            "tags": []
          },
          "execution_count": 38
        },
        {
          "output_type": "execute_result",
          "data": {
            "text/plain": [
              "27"
            ]
          },
          "metadata": {
            "tags": []
          },
          "execution_count": 38
        },
        {
          "output_type": "execute_result",
          "data": {
            "text/plain": [
              "27"
            ]
          },
          "metadata": {
            "tags": []
          },
          "execution_count": 38
        },
        {
          "output_type": "execute_result",
          "data": {
            "text/plain": [
              "27"
            ]
          },
          "metadata": {
            "tags": []
          },
          "execution_count": 38
        },
        {
          "output_type": "execute_result",
          "data": {
            "text/plain": [
              "27"
            ]
          },
          "metadata": {
            "tags": []
          },
          "execution_count": 38
        },
        {
          "output_type": "execute_result",
          "data": {
            "text/plain": [
              "27"
            ]
          },
          "metadata": {
            "tags": []
          },
          "execution_count": 38
        },
        {
          "output_type": "execute_result",
          "data": {
            "text/plain": [
              "27"
            ]
          },
          "metadata": {
            "tags": []
          },
          "execution_count": 38
        },
        {
          "output_type": "execute_result",
          "data": {
            "text/plain": [
              "27"
            ]
          },
          "metadata": {
            "tags": []
          },
          "execution_count": 38
        },
        {
          "output_type": "execute_result",
          "data": {
            "text/plain": [
              "27"
            ]
          },
          "metadata": {
            "tags": []
          },
          "execution_count": 38
        },
        {
          "output_type": "execute_result",
          "data": {
            "text/plain": [
              "27"
            ]
          },
          "metadata": {
            "tags": []
          },
          "execution_count": 38
        },
        {
          "output_type": "execute_result",
          "data": {
            "text/plain": [
              "27"
            ]
          },
          "metadata": {
            "tags": []
          },
          "execution_count": 38
        },
        {
          "output_type": "execute_result",
          "data": {
            "text/plain": [
              "27"
            ]
          },
          "metadata": {
            "tags": []
          },
          "execution_count": 38
        },
        {
          "output_type": "execute_result",
          "data": {
            "text/plain": [
              "27"
            ]
          },
          "metadata": {
            "tags": []
          },
          "execution_count": 38
        },
        {
          "output_type": "execute_result",
          "data": {
            "text/plain": [
              "27"
            ]
          },
          "metadata": {
            "tags": []
          },
          "execution_count": 38
        },
        {
          "output_type": "execute_result",
          "data": {
            "text/plain": [
              "27"
            ]
          },
          "metadata": {
            "tags": []
          },
          "execution_count": 38
        },
        {
          "output_type": "execute_result",
          "data": {
            "text/plain": [
              "27"
            ]
          },
          "metadata": {
            "tags": []
          },
          "execution_count": 38
        },
        {
          "output_type": "execute_result",
          "data": {
            "text/plain": [
              "27"
            ]
          },
          "metadata": {
            "tags": []
          },
          "execution_count": 38
        },
        {
          "output_type": "execute_result",
          "data": {
            "text/plain": [
              "27"
            ]
          },
          "metadata": {
            "tags": []
          },
          "execution_count": 38
        },
        {
          "output_type": "execute_result",
          "data": {
            "text/plain": [
              "27"
            ]
          },
          "metadata": {
            "tags": []
          },
          "execution_count": 38
        },
        {
          "output_type": "execute_result",
          "data": {
            "text/plain": [
              "27"
            ]
          },
          "metadata": {
            "tags": []
          },
          "execution_count": 38
        },
        {
          "output_type": "execute_result",
          "data": {
            "text/plain": [
              "27"
            ]
          },
          "metadata": {
            "tags": []
          },
          "execution_count": 38
        },
        {
          "output_type": "execute_result",
          "data": {
            "text/plain": [
              "27"
            ]
          },
          "metadata": {
            "tags": []
          },
          "execution_count": 38
        },
        {
          "output_type": "execute_result",
          "data": {
            "text/plain": [
              "27"
            ]
          },
          "metadata": {
            "tags": []
          },
          "execution_count": 38
        },
        {
          "output_type": "execute_result",
          "data": {
            "text/plain": [
              "27"
            ]
          },
          "metadata": {
            "tags": []
          },
          "execution_count": 38
        },
        {
          "output_type": "execute_result",
          "data": {
            "text/plain": [
              "27"
            ]
          },
          "metadata": {
            "tags": []
          },
          "execution_count": 38
        },
        {
          "output_type": "execute_result",
          "data": {
            "text/plain": [
              "27"
            ]
          },
          "metadata": {
            "tags": []
          },
          "execution_count": 38
        },
        {
          "output_type": "execute_result",
          "data": {
            "text/plain": [
              "27"
            ]
          },
          "metadata": {
            "tags": []
          },
          "execution_count": 38
        },
        {
          "output_type": "execute_result",
          "data": {
            "text/plain": [
              "27"
            ]
          },
          "metadata": {
            "tags": []
          },
          "execution_count": 38
        },
        {
          "output_type": "execute_result",
          "data": {
            "text/plain": [
              "27"
            ]
          },
          "metadata": {
            "tags": []
          },
          "execution_count": 38
        },
        {
          "output_type": "execute_result",
          "data": {
            "text/plain": [
              "27"
            ]
          },
          "metadata": {
            "tags": []
          },
          "execution_count": 38
        },
        {
          "output_type": "execute_result",
          "data": {
            "text/plain": [
              "27"
            ]
          },
          "metadata": {
            "tags": []
          },
          "execution_count": 38
        },
        {
          "output_type": "execute_result",
          "data": {
            "text/plain": [
              "27"
            ]
          },
          "metadata": {
            "tags": []
          },
          "execution_count": 38
        },
        {
          "output_type": "execute_result",
          "data": {
            "text/plain": [
              "27"
            ]
          },
          "metadata": {
            "tags": []
          },
          "execution_count": 38
        },
        {
          "output_type": "execute_result",
          "data": {
            "text/plain": [
              "27"
            ]
          },
          "metadata": {
            "tags": []
          },
          "execution_count": 38
        },
        {
          "output_type": "execute_result",
          "data": {
            "text/plain": [
              "27"
            ]
          },
          "metadata": {
            "tags": []
          },
          "execution_count": 38
        },
        {
          "output_type": "execute_result",
          "data": {
            "text/plain": [
              "27"
            ]
          },
          "metadata": {
            "tags": []
          },
          "execution_count": 38
        },
        {
          "output_type": "execute_result",
          "data": {
            "text/plain": [
              "27"
            ]
          },
          "metadata": {
            "tags": []
          },
          "execution_count": 38
        },
        {
          "output_type": "execute_result",
          "data": {
            "text/plain": [
              "27"
            ]
          },
          "metadata": {
            "tags": []
          },
          "execution_count": 38
        },
        {
          "output_type": "execute_result",
          "data": {
            "text/plain": [
              "27"
            ]
          },
          "metadata": {
            "tags": []
          },
          "execution_count": 38
        },
        {
          "output_type": "execute_result",
          "data": {
            "text/plain": [
              "27"
            ]
          },
          "metadata": {
            "tags": []
          },
          "execution_count": 38
        },
        {
          "output_type": "execute_result",
          "data": {
            "text/plain": [
              "27"
            ]
          },
          "metadata": {
            "tags": []
          },
          "execution_count": 38
        },
        {
          "output_type": "execute_result",
          "data": {
            "text/plain": [
              "27"
            ]
          },
          "metadata": {
            "tags": []
          },
          "execution_count": 38
        },
        {
          "output_type": "execute_result",
          "data": {
            "text/plain": [
              "27"
            ]
          },
          "metadata": {
            "tags": []
          },
          "execution_count": 38
        },
        {
          "output_type": "execute_result",
          "data": {
            "text/plain": [
              "27"
            ]
          },
          "metadata": {
            "tags": []
          },
          "execution_count": 38
        },
        {
          "output_type": "execute_result",
          "data": {
            "text/plain": [
              "27"
            ]
          },
          "metadata": {
            "tags": []
          },
          "execution_count": 38
        },
        {
          "output_type": "execute_result",
          "data": {
            "text/plain": [
              "27"
            ]
          },
          "metadata": {
            "tags": []
          },
          "execution_count": 38
        },
        {
          "output_type": "execute_result",
          "data": {
            "text/plain": [
              "27"
            ]
          },
          "metadata": {
            "tags": []
          },
          "execution_count": 38
        },
        {
          "output_type": "execute_result",
          "data": {
            "text/plain": [
              "27"
            ]
          },
          "metadata": {
            "tags": []
          },
          "execution_count": 38
        },
        {
          "output_type": "execute_result",
          "data": {
            "text/plain": [
              "27"
            ]
          },
          "metadata": {
            "tags": []
          },
          "execution_count": 38
        },
        {
          "output_type": "execute_result",
          "data": {
            "text/plain": [
              "27"
            ]
          },
          "metadata": {
            "tags": []
          },
          "execution_count": 38
        },
        {
          "output_type": "execute_result",
          "data": {
            "text/plain": [
              "27"
            ]
          },
          "metadata": {
            "tags": []
          },
          "execution_count": 38
        },
        {
          "output_type": "execute_result",
          "data": {
            "text/plain": [
              "27"
            ]
          },
          "metadata": {
            "tags": []
          },
          "execution_count": 38
        },
        {
          "output_type": "execute_result",
          "data": {
            "text/plain": [
              "27"
            ]
          },
          "metadata": {
            "tags": []
          },
          "execution_count": 38
        },
        {
          "output_type": "execute_result",
          "data": {
            "text/plain": [
              "27"
            ]
          },
          "metadata": {
            "tags": []
          },
          "execution_count": 38
        },
        {
          "output_type": "execute_result",
          "data": {
            "text/plain": [
              "27"
            ]
          },
          "metadata": {
            "tags": []
          },
          "execution_count": 38
        },
        {
          "output_type": "execute_result",
          "data": {
            "text/plain": [
              "27"
            ]
          },
          "metadata": {
            "tags": []
          },
          "execution_count": 38
        },
        {
          "output_type": "execute_result",
          "data": {
            "text/plain": [
              "27"
            ]
          },
          "metadata": {
            "tags": []
          },
          "execution_count": 38
        },
        {
          "output_type": "execute_result",
          "data": {
            "text/plain": [
              "27"
            ]
          },
          "metadata": {
            "tags": []
          },
          "execution_count": 38
        },
        {
          "output_type": "execute_result",
          "data": {
            "text/plain": [
              "27"
            ]
          },
          "metadata": {
            "tags": []
          },
          "execution_count": 38
        },
        {
          "output_type": "execute_result",
          "data": {
            "text/plain": [
              "27"
            ]
          },
          "metadata": {
            "tags": []
          },
          "execution_count": 38
        },
        {
          "output_type": "execute_result",
          "data": {
            "text/plain": [
              "27"
            ]
          },
          "metadata": {
            "tags": []
          },
          "execution_count": 38
        },
        {
          "output_type": "execute_result",
          "data": {
            "text/plain": [
              "27"
            ]
          },
          "metadata": {
            "tags": []
          },
          "execution_count": 38
        },
        {
          "output_type": "execute_result",
          "data": {
            "text/plain": [
              "27"
            ]
          },
          "metadata": {
            "tags": []
          },
          "execution_count": 38
        },
        {
          "output_type": "execute_result",
          "data": {
            "text/plain": [
              "27"
            ]
          },
          "metadata": {
            "tags": []
          },
          "execution_count": 38
        },
        {
          "output_type": "execute_result",
          "data": {
            "text/plain": [
              "27"
            ]
          },
          "metadata": {
            "tags": []
          },
          "execution_count": 38
        },
        {
          "output_type": "execute_result",
          "data": {
            "text/plain": [
              "27"
            ]
          },
          "metadata": {
            "tags": []
          },
          "execution_count": 38
        },
        {
          "output_type": "execute_result",
          "data": {
            "text/plain": [
              "27"
            ]
          },
          "metadata": {
            "tags": []
          },
          "execution_count": 38
        },
        {
          "output_type": "execute_result",
          "data": {
            "text/plain": [
              "27"
            ]
          },
          "metadata": {
            "tags": []
          },
          "execution_count": 38
        },
        {
          "output_type": "execute_result",
          "data": {
            "text/plain": [
              "27"
            ]
          },
          "metadata": {
            "tags": []
          },
          "execution_count": 38
        },
        {
          "output_type": "execute_result",
          "data": {
            "text/plain": [
              "27"
            ]
          },
          "metadata": {
            "tags": []
          },
          "execution_count": 38
        },
        {
          "output_type": "execute_result",
          "data": {
            "text/plain": [
              "27"
            ]
          },
          "metadata": {
            "tags": []
          },
          "execution_count": 38
        },
        {
          "output_type": "execute_result",
          "data": {
            "text/plain": [
              "27"
            ]
          },
          "metadata": {
            "tags": []
          },
          "execution_count": 38
        },
        {
          "output_type": "execute_result",
          "data": {
            "text/plain": [
              "27"
            ]
          },
          "metadata": {
            "tags": []
          },
          "execution_count": 38
        },
        {
          "output_type": "execute_result",
          "data": {
            "text/plain": [
              "27"
            ]
          },
          "metadata": {
            "tags": []
          },
          "execution_count": 38
        },
        {
          "output_type": "execute_result",
          "data": {
            "text/plain": [
              "27"
            ]
          },
          "metadata": {
            "tags": []
          },
          "execution_count": 38
        },
        {
          "output_type": "execute_result",
          "data": {
            "text/plain": [
              "27"
            ]
          },
          "metadata": {
            "tags": []
          },
          "execution_count": 38
        },
        {
          "output_type": "execute_result",
          "data": {
            "text/plain": [
              "27"
            ]
          },
          "metadata": {
            "tags": []
          },
          "execution_count": 38
        },
        {
          "output_type": "execute_result",
          "data": {
            "text/plain": [
              "27"
            ]
          },
          "metadata": {
            "tags": []
          },
          "execution_count": 38
        },
        {
          "output_type": "execute_result",
          "data": {
            "text/plain": [
              "27"
            ]
          },
          "metadata": {
            "tags": []
          },
          "execution_count": 38
        },
        {
          "output_type": "execute_result",
          "data": {
            "text/plain": [
              "27"
            ]
          },
          "metadata": {
            "tags": []
          },
          "execution_count": 38
        },
        {
          "output_type": "execute_result",
          "data": {
            "text/plain": [
              "27"
            ]
          },
          "metadata": {
            "tags": []
          },
          "execution_count": 38
        },
        {
          "output_type": "execute_result",
          "data": {
            "text/plain": [
              "27"
            ]
          },
          "metadata": {
            "tags": []
          },
          "execution_count": 38
        },
        {
          "output_type": "execute_result",
          "data": {
            "text/plain": [
              "27"
            ]
          },
          "metadata": {
            "tags": []
          },
          "execution_count": 38
        },
        {
          "output_type": "execute_result",
          "data": {
            "text/plain": [
              "27"
            ]
          },
          "metadata": {
            "tags": []
          },
          "execution_count": 38
        },
        {
          "output_type": "execute_result",
          "data": {
            "text/plain": [
              "27"
            ]
          },
          "metadata": {
            "tags": []
          },
          "execution_count": 38
        },
        {
          "output_type": "execute_result",
          "data": {
            "text/plain": [
              "27"
            ]
          },
          "metadata": {
            "tags": []
          },
          "execution_count": 38
        },
        {
          "output_type": "execute_result",
          "data": {
            "text/plain": [
              "27"
            ]
          },
          "metadata": {
            "tags": []
          },
          "execution_count": 38
        },
        {
          "output_type": "execute_result",
          "data": {
            "text/plain": [
              "27"
            ]
          },
          "metadata": {
            "tags": []
          },
          "execution_count": 38
        },
        {
          "output_type": "execute_result",
          "data": {
            "text/plain": [
              "27"
            ]
          },
          "metadata": {
            "tags": []
          },
          "execution_count": 38
        },
        {
          "output_type": "execute_result",
          "data": {
            "text/plain": [
              "27"
            ]
          },
          "metadata": {
            "tags": []
          },
          "execution_count": 38
        },
        {
          "output_type": "execute_result",
          "data": {
            "text/plain": [
              "27"
            ]
          },
          "metadata": {
            "tags": []
          },
          "execution_count": 38
        },
        {
          "output_type": "execute_result",
          "data": {
            "text/plain": [
              "27"
            ]
          },
          "metadata": {
            "tags": []
          },
          "execution_count": 38
        },
        {
          "output_type": "execute_result",
          "data": {
            "text/plain": [
              "27"
            ]
          },
          "metadata": {
            "tags": []
          },
          "execution_count": 38
        },
        {
          "output_type": "execute_result",
          "data": {
            "text/plain": [
              "27"
            ]
          },
          "metadata": {
            "tags": []
          },
          "execution_count": 38
        },
        {
          "output_type": "execute_result",
          "data": {
            "text/plain": [
              "27"
            ]
          },
          "metadata": {
            "tags": []
          },
          "execution_count": 38
        },
        {
          "output_type": "execute_result",
          "data": {
            "text/plain": [
              "27"
            ]
          },
          "metadata": {
            "tags": []
          },
          "execution_count": 38
        },
        {
          "output_type": "execute_result",
          "data": {
            "text/plain": [
              "27"
            ]
          },
          "metadata": {
            "tags": []
          },
          "execution_count": 38
        },
        {
          "output_type": "execute_result",
          "data": {
            "text/plain": [
              "27"
            ]
          },
          "metadata": {
            "tags": []
          },
          "execution_count": 38
        },
        {
          "output_type": "execute_result",
          "data": {
            "text/plain": [
              "27"
            ]
          },
          "metadata": {
            "tags": []
          },
          "execution_count": 38
        },
        {
          "output_type": "execute_result",
          "data": {
            "text/plain": [
              "27"
            ]
          },
          "metadata": {
            "tags": []
          },
          "execution_count": 38
        },
        {
          "output_type": "execute_result",
          "data": {
            "text/plain": [
              "27"
            ]
          },
          "metadata": {
            "tags": []
          },
          "execution_count": 38
        },
        {
          "output_type": "execute_result",
          "data": {
            "text/plain": [
              "27"
            ]
          },
          "metadata": {
            "tags": []
          },
          "execution_count": 38
        },
        {
          "output_type": "execute_result",
          "data": {
            "text/plain": [
              "27"
            ]
          },
          "metadata": {
            "tags": []
          },
          "execution_count": 38
        },
        {
          "output_type": "execute_result",
          "data": {
            "text/plain": [
              "27"
            ]
          },
          "metadata": {
            "tags": []
          },
          "execution_count": 38
        },
        {
          "output_type": "execute_result",
          "data": {
            "text/plain": [
              "27"
            ]
          },
          "metadata": {
            "tags": []
          },
          "execution_count": 38
        },
        {
          "output_type": "execute_result",
          "data": {
            "text/plain": [
              "27"
            ]
          },
          "metadata": {
            "tags": []
          },
          "execution_count": 38
        },
        {
          "output_type": "execute_result",
          "data": {
            "text/plain": [
              "27"
            ]
          },
          "metadata": {
            "tags": []
          },
          "execution_count": 38
        },
        {
          "output_type": "execute_result",
          "data": {
            "text/plain": [
              "27"
            ]
          },
          "metadata": {
            "tags": []
          },
          "execution_count": 38
        },
        {
          "output_type": "execute_result",
          "data": {
            "text/plain": [
              "27"
            ]
          },
          "metadata": {
            "tags": []
          },
          "execution_count": 38
        },
        {
          "output_type": "execute_result",
          "data": {
            "text/plain": [
              "27"
            ]
          },
          "metadata": {
            "tags": []
          },
          "execution_count": 38
        },
        {
          "output_type": "execute_result",
          "data": {
            "text/plain": [
              "27"
            ]
          },
          "metadata": {
            "tags": []
          },
          "execution_count": 38
        },
        {
          "output_type": "execute_result",
          "data": {
            "text/plain": [
              "27"
            ]
          },
          "metadata": {
            "tags": []
          },
          "execution_count": 38
        },
        {
          "output_type": "execute_result",
          "data": {
            "text/plain": [
              "27"
            ]
          },
          "metadata": {
            "tags": []
          },
          "execution_count": 38
        },
        {
          "output_type": "execute_result",
          "data": {
            "text/plain": [
              "27"
            ]
          },
          "metadata": {
            "tags": []
          },
          "execution_count": 38
        },
        {
          "output_type": "execute_result",
          "data": {
            "text/plain": [
              "27"
            ]
          },
          "metadata": {
            "tags": []
          },
          "execution_count": 38
        },
        {
          "output_type": "execute_result",
          "data": {
            "text/plain": [
              "27"
            ]
          },
          "metadata": {
            "tags": []
          },
          "execution_count": 38
        },
        {
          "output_type": "execute_result",
          "data": {
            "text/plain": [
              "27"
            ]
          },
          "metadata": {
            "tags": []
          },
          "execution_count": 38
        },
        {
          "output_type": "execute_result",
          "data": {
            "text/plain": [
              "27"
            ]
          },
          "metadata": {
            "tags": []
          },
          "execution_count": 38
        },
        {
          "output_type": "execute_result",
          "data": {
            "text/plain": [
              "27"
            ]
          },
          "metadata": {
            "tags": []
          },
          "execution_count": 38
        },
        {
          "output_type": "execute_result",
          "data": {
            "text/plain": [
              "27"
            ]
          },
          "metadata": {
            "tags": []
          },
          "execution_count": 38
        },
        {
          "output_type": "execute_result",
          "data": {
            "text/plain": [
              "27"
            ]
          },
          "metadata": {
            "tags": []
          },
          "execution_count": 38
        },
        {
          "output_type": "execute_result",
          "data": {
            "text/plain": [
              "27"
            ]
          },
          "metadata": {
            "tags": []
          },
          "execution_count": 38
        },
        {
          "output_type": "execute_result",
          "data": {
            "text/plain": [
              "27"
            ]
          },
          "metadata": {
            "tags": []
          },
          "execution_count": 38
        },
        {
          "output_type": "execute_result",
          "data": {
            "text/plain": [
              "27"
            ]
          },
          "metadata": {
            "tags": []
          },
          "execution_count": 38
        },
        {
          "output_type": "execute_result",
          "data": {
            "text/plain": [
              "27"
            ]
          },
          "metadata": {
            "tags": []
          },
          "execution_count": 38
        },
        {
          "output_type": "execute_result",
          "data": {
            "text/plain": [
              "27"
            ]
          },
          "metadata": {
            "tags": []
          },
          "execution_count": 38
        },
        {
          "output_type": "execute_result",
          "data": {
            "text/plain": [
              "27"
            ]
          },
          "metadata": {
            "tags": []
          },
          "execution_count": 38
        },
        {
          "output_type": "execute_result",
          "data": {
            "text/plain": [
              "27"
            ]
          },
          "metadata": {
            "tags": []
          },
          "execution_count": 38
        },
        {
          "output_type": "execute_result",
          "data": {
            "text/plain": [
              "27"
            ]
          },
          "metadata": {
            "tags": []
          },
          "execution_count": 38
        },
        {
          "output_type": "execute_result",
          "data": {
            "text/plain": [
              "27"
            ]
          },
          "metadata": {
            "tags": []
          },
          "execution_count": 38
        },
        {
          "output_type": "execute_result",
          "data": {
            "text/plain": [
              "27"
            ]
          },
          "metadata": {
            "tags": []
          },
          "execution_count": 38
        },
        {
          "output_type": "execute_result",
          "data": {
            "text/plain": [
              "27"
            ]
          },
          "metadata": {
            "tags": []
          },
          "execution_count": 38
        },
        {
          "output_type": "execute_result",
          "data": {
            "text/plain": [
              "27"
            ]
          },
          "metadata": {
            "tags": []
          },
          "execution_count": 38
        },
        {
          "output_type": "execute_result",
          "data": {
            "text/plain": [
              "27"
            ]
          },
          "metadata": {
            "tags": []
          },
          "execution_count": 38
        },
        {
          "output_type": "execute_result",
          "data": {
            "text/plain": [
              "27"
            ]
          },
          "metadata": {
            "tags": []
          },
          "execution_count": 38
        },
        {
          "output_type": "execute_result",
          "data": {
            "text/plain": [
              "27"
            ]
          },
          "metadata": {
            "tags": []
          },
          "execution_count": 38
        },
        {
          "output_type": "execute_result",
          "data": {
            "text/plain": [
              "27"
            ]
          },
          "metadata": {
            "tags": []
          },
          "execution_count": 38
        },
        {
          "output_type": "execute_result",
          "data": {
            "text/plain": [
              "27"
            ]
          },
          "metadata": {
            "tags": []
          },
          "execution_count": 38
        },
        {
          "output_type": "execute_result",
          "data": {
            "text/plain": [
              "27"
            ]
          },
          "metadata": {
            "tags": []
          },
          "execution_count": 38
        },
        {
          "output_type": "execute_result",
          "data": {
            "text/plain": [
              "27"
            ]
          },
          "metadata": {
            "tags": []
          },
          "execution_count": 38
        },
        {
          "output_type": "execute_result",
          "data": {
            "text/plain": [
              "27"
            ]
          },
          "metadata": {
            "tags": []
          },
          "execution_count": 38
        },
        {
          "output_type": "execute_result",
          "data": {
            "text/plain": [
              "27"
            ]
          },
          "metadata": {
            "tags": []
          },
          "execution_count": 38
        },
        {
          "output_type": "execute_result",
          "data": {
            "text/plain": [
              "27"
            ]
          },
          "metadata": {
            "tags": []
          },
          "execution_count": 38
        },
        {
          "output_type": "execute_result",
          "data": {
            "text/plain": [
              "27"
            ]
          },
          "metadata": {
            "tags": []
          },
          "execution_count": 38
        },
        {
          "output_type": "execute_result",
          "data": {
            "text/plain": [
              "27"
            ]
          },
          "metadata": {
            "tags": []
          },
          "execution_count": 38
        },
        {
          "output_type": "execute_result",
          "data": {
            "text/plain": [
              "27"
            ]
          },
          "metadata": {
            "tags": []
          },
          "execution_count": 38
        },
        {
          "output_type": "execute_result",
          "data": {
            "text/plain": [
              "27"
            ]
          },
          "metadata": {
            "tags": []
          },
          "execution_count": 38
        },
        {
          "output_type": "execute_result",
          "data": {
            "text/plain": [
              "27"
            ]
          },
          "metadata": {
            "tags": []
          },
          "execution_count": 38
        },
        {
          "output_type": "execute_result",
          "data": {
            "text/plain": [
              "27"
            ]
          },
          "metadata": {
            "tags": []
          },
          "execution_count": 38
        },
        {
          "output_type": "execute_result",
          "data": {
            "text/plain": [
              "27"
            ]
          },
          "metadata": {
            "tags": []
          },
          "execution_count": 38
        },
        {
          "output_type": "execute_result",
          "data": {
            "text/plain": [
              "27"
            ]
          },
          "metadata": {
            "tags": []
          },
          "execution_count": 38
        },
        {
          "output_type": "execute_result",
          "data": {
            "text/plain": [
              "27"
            ]
          },
          "metadata": {
            "tags": []
          },
          "execution_count": 38
        },
        {
          "output_type": "execute_result",
          "data": {
            "text/plain": [
              "27"
            ]
          },
          "metadata": {
            "tags": []
          },
          "execution_count": 38
        },
        {
          "output_type": "execute_result",
          "data": {
            "text/plain": [
              "27"
            ]
          },
          "metadata": {
            "tags": []
          },
          "execution_count": 38
        },
        {
          "output_type": "execute_result",
          "data": {
            "text/plain": [
              "27"
            ]
          },
          "metadata": {
            "tags": []
          },
          "execution_count": 38
        },
        {
          "output_type": "execute_result",
          "data": {
            "text/plain": [
              "27"
            ]
          },
          "metadata": {
            "tags": []
          },
          "execution_count": 38
        },
        {
          "output_type": "execute_result",
          "data": {
            "text/plain": [
              "27"
            ]
          },
          "metadata": {
            "tags": []
          },
          "execution_count": 38
        },
        {
          "output_type": "execute_result",
          "data": {
            "text/plain": [
              "27"
            ]
          },
          "metadata": {
            "tags": []
          },
          "execution_count": 38
        },
        {
          "output_type": "execute_result",
          "data": {
            "text/plain": [
              "27"
            ]
          },
          "metadata": {
            "tags": []
          },
          "execution_count": 38
        },
        {
          "output_type": "execute_result",
          "data": {
            "text/plain": [
              "27"
            ]
          },
          "metadata": {
            "tags": []
          },
          "execution_count": 38
        },
        {
          "output_type": "execute_result",
          "data": {
            "text/plain": [
              "27"
            ]
          },
          "metadata": {
            "tags": []
          },
          "execution_count": 38
        },
        {
          "output_type": "execute_result",
          "data": {
            "text/plain": [
              "27"
            ]
          },
          "metadata": {
            "tags": []
          },
          "execution_count": 38
        },
        {
          "output_type": "execute_result",
          "data": {
            "text/plain": [
              "27"
            ]
          },
          "metadata": {
            "tags": []
          },
          "execution_count": 38
        },
        {
          "output_type": "execute_result",
          "data": {
            "text/plain": [
              "27"
            ]
          },
          "metadata": {
            "tags": []
          },
          "execution_count": 38
        },
        {
          "output_type": "execute_result",
          "data": {
            "text/plain": [
              "27"
            ]
          },
          "metadata": {
            "tags": []
          },
          "execution_count": 38
        },
        {
          "output_type": "execute_result",
          "data": {
            "text/plain": [
              "27"
            ]
          },
          "metadata": {
            "tags": []
          },
          "execution_count": 38
        },
        {
          "output_type": "execute_result",
          "data": {
            "text/plain": [
              "27"
            ]
          },
          "metadata": {
            "tags": []
          },
          "execution_count": 38
        },
        {
          "output_type": "execute_result",
          "data": {
            "text/plain": [
              "27"
            ]
          },
          "metadata": {
            "tags": []
          },
          "execution_count": 38
        },
        {
          "output_type": "execute_result",
          "data": {
            "text/plain": [
              "27"
            ]
          },
          "metadata": {
            "tags": []
          },
          "execution_count": 38
        },
        {
          "output_type": "execute_result",
          "data": {
            "text/plain": [
              "27"
            ]
          },
          "metadata": {
            "tags": []
          },
          "execution_count": 38
        },
        {
          "output_type": "execute_result",
          "data": {
            "text/plain": [
              "27"
            ]
          },
          "metadata": {
            "tags": []
          },
          "execution_count": 38
        },
        {
          "output_type": "execute_result",
          "data": {
            "text/plain": [
              "27"
            ]
          },
          "metadata": {
            "tags": []
          },
          "execution_count": 38
        },
        {
          "output_type": "execute_result",
          "data": {
            "text/plain": [
              "27"
            ]
          },
          "metadata": {
            "tags": []
          },
          "execution_count": 38
        },
        {
          "output_type": "execute_result",
          "data": {
            "text/plain": [
              "27"
            ]
          },
          "metadata": {
            "tags": []
          },
          "execution_count": 38
        },
        {
          "output_type": "execute_result",
          "data": {
            "text/plain": [
              "27"
            ]
          },
          "metadata": {
            "tags": []
          },
          "execution_count": 38
        },
        {
          "output_type": "execute_result",
          "data": {
            "text/plain": [
              "27"
            ]
          },
          "metadata": {
            "tags": []
          },
          "execution_count": 38
        },
        {
          "output_type": "execute_result",
          "data": {
            "text/plain": [
              "27"
            ]
          },
          "metadata": {
            "tags": []
          },
          "execution_count": 38
        },
        {
          "output_type": "execute_result",
          "data": {
            "text/plain": [
              "27"
            ]
          },
          "metadata": {
            "tags": []
          },
          "execution_count": 38
        },
        {
          "output_type": "execute_result",
          "data": {
            "text/plain": [
              "27"
            ]
          },
          "metadata": {
            "tags": []
          },
          "execution_count": 38
        },
        {
          "output_type": "execute_result",
          "data": {
            "text/plain": [
              "27"
            ]
          },
          "metadata": {
            "tags": []
          },
          "execution_count": 38
        },
        {
          "output_type": "execute_result",
          "data": {
            "text/plain": [
              "27"
            ]
          },
          "metadata": {
            "tags": []
          },
          "execution_count": 38
        },
        {
          "output_type": "execute_result",
          "data": {
            "text/plain": [
              "27"
            ]
          },
          "metadata": {
            "tags": []
          },
          "execution_count": 38
        },
        {
          "output_type": "execute_result",
          "data": {
            "text/plain": [
              "27"
            ]
          },
          "metadata": {
            "tags": []
          },
          "execution_count": 38
        },
        {
          "output_type": "execute_result",
          "data": {
            "text/plain": [
              "27"
            ]
          },
          "metadata": {
            "tags": []
          },
          "execution_count": 38
        },
        {
          "output_type": "execute_result",
          "data": {
            "text/plain": [
              "27"
            ]
          },
          "metadata": {
            "tags": []
          },
          "execution_count": 38
        },
        {
          "output_type": "execute_result",
          "data": {
            "text/plain": [
              "27"
            ]
          },
          "metadata": {
            "tags": []
          },
          "execution_count": 38
        },
        {
          "output_type": "execute_result",
          "data": {
            "text/plain": [
              "27"
            ]
          },
          "metadata": {
            "tags": []
          },
          "execution_count": 38
        },
        {
          "output_type": "execute_result",
          "data": {
            "text/plain": [
              "27"
            ]
          },
          "metadata": {
            "tags": []
          },
          "execution_count": 38
        },
        {
          "output_type": "execute_result",
          "data": {
            "text/plain": [
              "27"
            ]
          },
          "metadata": {
            "tags": []
          },
          "execution_count": 38
        },
        {
          "output_type": "execute_result",
          "data": {
            "text/plain": [
              "27"
            ]
          },
          "metadata": {
            "tags": []
          },
          "execution_count": 38
        },
        {
          "output_type": "execute_result",
          "data": {
            "text/plain": [
              "27"
            ]
          },
          "metadata": {
            "tags": []
          },
          "execution_count": 38
        },
        {
          "output_type": "execute_result",
          "data": {
            "text/plain": [
              "27"
            ]
          },
          "metadata": {
            "tags": []
          },
          "execution_count": 38
        },
        {
          "output_type": "execute_result",
          "data": {
            "text/plain": [
              "27"
            ]
          },
          "metadata": {
            "tags": []
          },
          "execution_count": 38
        },
        {
          "output_type": "execute_result",
          "data": {
            "text/plain": [
              "27"
            ]
          },
          "metadata": {
            "tags": []
          },
          "execution_count": 38
        },
        {
          "output_type": "execute_result",
          "data": {
            "text/plain": [
              "27"
            ]
          },
          "metadata": {
            "tags": []
          },
          "execution_count": 38
        },
        {
          "output_type": "execute_result",
          "data": {
            "text/plain": [
              "27"
            ]
          },
          "metadata": {
            "tags": []
          },
          "execution_count": 38
        },
        {
          "output_type": "execute_result",
          "data": {
            "text/plain": [
              "27"
            ]
          },
          "metadata": {
            "tags": []
          },
          "execution_count": 38
        },
        {
          "output_type": "execute_result",
          "data": {
            "text/plain": [
              "27"
            ]
          },
          "metadata": {
            "tags": []
          },
          "execution_count": 38
        },
        {
          "output_type": "execute_result",
          "data": {
            "text/plain": [
              "27"
            ]
          },
          "metadata": {
            "tags": []
          },
          "execution_count": 38
        },
        {
          "output_type": "execute_result",
          "data": {
            "text/plain": [
              "27"
            ]
          },
          "metadata": {
            "tags": []
          },
          "execution_count": 38
        },
        {
          "output_type": "execute_result",
          "data": {
            "text/plain": [
              "27"
            ]
          },
          "metadata": {
            "tags": []
          },
          "execution_count": 38
        },
        {
          "output_type": "execute_result",
          "data": {
            "text/plain": [
              "27"
            ]
          },
          "metadata": {
            "tags": []
          },
          "execution_count": 38
        },
        {
          "output_type": "execute_result",
          "data": {
            "text/plain": [
              "27"
            ]
          },
          "metadata": {
            "tags": []
          },
          "execution_count": 38
        },
        {
          "output_type": "execute_result",
          "data": {
            "text/plain": [
              "27"
            ]
          },
          "metadata": {
            "tags": []
          },
          "execution_count": 38
        },
        {
          "output_type": "execute_result",
          "data": {
            "text/plain": [
              "27"
            ]
          },
          "metadata": {
            "tags": []
          },
          "execution_count": 38
        },
        {
          "output_type": "execute_result",
          "data": {
            "text/plain": [
              "27"
            ]
          },
          "metadata": {
            "tags": []
          },
          "execution_count": 38
        },
        {
          "output_type": "execute_result",
          "data": {
            "text/plain": [
              "27"
            ]
          },
          "metadata": {
            "tags": []
          },
          "execution_count": 38
        },
        {
          "output_type": "execute_result",
          "data": {
            "text/plain": [
              "27"
            ]
          },
          "metadata": {
            "tags": []
          },
          "execution_count": 38
        },
        {
          "output_type": "execute_result",
          "data": {
            "text/plain": [
              "27"
            ]
          },
          "metadata": {
            "tags": []
          },
          "execution_count": 38
        },
        {
          "output_type": "execute_result",
          "data": {
            "text/plain": [
              "27"
            ]
          },
          "metadata": {
            "tags": []
          },
          "execution_count": 38
        },
        {
          "output_type": "execute_result",
          "data": {
            "text/plain": [
              "27"
            ]
          },
          "metadata": {
            "tags": []
          },
          "execution_count": 38
        },
        {
          "output_type": "execute_result",
          "data": {
            "text/plain": [
              "27"
            ]
          },
          "metadata": {
            "tags": []
          },
          "execution_count": 38
        },
        {
          "output_type": "execute_result",
          "data": {
            "text/plain": [
              "27"
            ]
          },
          "metadata": {
            "tags": []
          },
          "execution_count": 38
        },
        {
          "output_type": "execute_result",
          "data": {
            "text/plain": [
              "27"
            ]
          },
          "metadata": {
            "tags": []
          },
          "execution_count": 38
        },
        {
          "output_type": "execute_result",
          "data": {
            "text/plain": [
              "27"
            ]
          },
          "metadata": {
            "tags": []
          },
          "execution_count": 38
        },
        {
          "output_type": "execute_result",
          "data": {
            "text/plain": [
              "27"
            ]
          },
          "metadata": {
            "tags": []
          },
          "execution_count": 38
        },
        {
          "output_type": "execute_result",
          "data": {
            "text/plain": [
              "27"
            ]
          },
          "metadata": {
            "tags": []
          },
          "execution_count": 38
        },
        {
          "output_type": "execute_result",
          "data": {
            "text/plain": [
              "27"
            ]
          },
          "metadata": {
            "tags": []
          },
          "execution_count": 38
        },
        {
          "output_type": "execute_result",
          "data": {
            "text/plain": [
              "27"
            ]
          },
          "metadata": {
            "tags": []
          },
          "execution_count": 38
        },
        {
          "output_type": "execute_result",
          "data": {
            "text/plain": [
              "27"
            ]
          },
          "metadata": {
            "tags": []
          },
          "execution_count": 38
        },
        {
          "output_type": "execute_result",
          "data": {
            "text/plain": [
              "27"
            ]
          },
          "metadata": {
            "tags": []
          },
          "execution_count": 38
        },
        {
          "output_type": "execute_result",
          "data": {
            "text/plain": [
              "27"
            ]
          },
          "metadata": {
            "tags": []
          },
          "execution_count": 38
        },
        {
          "output_type": "execute_result",
          "data": {
            "text/plain": [
              "27"
            ]
          },
          "metadata": {
            "tags": []
          },
          "execution_count": 38
        },
        {
          "output_type": "execute_result",
          "data": {
            "text/plain": [
              "27"
            ]
          },
          "metadata": {
            "tags": []
          },
          "execution_count": 38
        },
        {
          "output_type": "execute_result",
          "data": {
            "text/plain": [
              "27"
            ]
          },
          "metadata": {
            "tags": []
          },
          "execution_count": 38
        },
        {
          "output_type": "execute_result",
          "data": {
            "text/plain": [
              "27"
            ]
          },
          "metadata": {
            "tags": []
          },
          "execution_count": 38
        },
        {
          "output_type": "execute_result",
          "data": {
            "text/plain": [
              "27"
            ]
          },
          "metadata": {
            "tags": []
          },
          "execution_count": 38
        },
        {
          "output_type": "execute_result",
          "data": {
            "text/plain": [
              "27"
            ]
          },
          "metadata": {
            "tags": []
          },
          "execution_count": 38
        },
        {
          "output_type": "execute_result",
          "data": {
            "text/plain": [
              "27"
            ]
          },
          "metadata": {
            "tags": []
          },
          "execution_count": 38
        },
        {
          "output_type": "execute_result",
          "data": {
            "text/plain": [
              "27"
            ]
          },
          "metadata": {
            "tags": []
          },
          "execution_count": 38
        },
        {
          "output_type": "execute_result",
          "data": {
            "text/plain": [
              "27"
            ]
          },
          "metadata": {
            "tags": []
          },
          "execution_count": 38
        },
        {
          "output_type": "execute_result",
          "data": {
            "text/plain": [
              "27"
            ]
          },
          "metadata": {
            "tags": []
          },
          "execution_count": 38
        },
        {
          "output_type": "execute_result",
          "data": {
            "text/plain": [
              "27"
            ]
          },
          "metadata": {
            "tags": []
          },
          "execution_count": 38
        },
        {
          "output_type": "execute_result",
          "data": {
            "text/plain": [
              "27"
            ]
          },
          "metadata": {
            "tags": []
          },
          "execution_count": 38
        },
        {
          "output_type": "execute_result",
          "data": {
            "text/plain": [
              "27"
            ]
          },
          "metadata": {
            "tags": []
          },
          "execution_count": 38
        },
        {
          "output_type": "execute_result",
          "data": {
            "text/plain": [
              "27"
            ]
          },
          "metadata": {
            "tags": []
          },
          "execution_count": 38
        },
        {
          "output_type": "execute_result",
          "data": {
            "text/plain": [
              "27"
            ]
          },
          "metadata": {
            "tags": []
          },
          "execution_count": 38
        },
        {
          "output_type": "execute_result",
          "data": {
            "text/plain": [
              "27"
            ]
          },
          "metadata": {
            "tags": []
          },
          "execution_count": 38
        },
        {
          "output_type": "execute_result",
          "data": {
            "text/plain": [
              "27"
            ]
          },
          "metadata": {
            "tags": []
          },
          "execution_count": 38
        },
        {
          "output_type": "execute_result",
          "data": {
            "text/plain": [
              "27"
            ]
          },
          "metadata": {
            "tags": []
          },
          "execution_count": 38
        },
        {
          "output_type": "execute_result",
          "data": {
            "text/plain": [
              "27"
            ]
          },
          "metadata": {
            "tags": []
          },
          "execution_count": 38
        },
        {
          "output_type": "execute_result",
          "data": {
            "text/plain": [
              "27"
            ]
          },
          "metadata": {
            "tags": []
          },
          "execution_count": 38
        },
        {
          "output_type": "execute_result",
          "data": {
            "text/plain": [
              "27"
            ]
          },
          "metadata": {
            "tags": []
          },
          "execution_count": 38
        },
        {
          "output_type": "execute_result",
          "data": {
            "text/plain": [
              "27"
            ]
          },
          "metadata": {
            "tags": []
          },
          "execution_count": 38
        },
        {
          "output_type": "execute_result",
          "data": {
            "text/plain": [
              "27"
            ]
          },
          "metadata": {
            "tags": []
          },
          "execution_count": 38
        },
        {
          "output_type": "execute_result",
          "data": {
            "text/plain": [
              "27"
            ]
          },
          "metadata": {
            "tags": []
          },
          "execution_count": 38
        },
        {
          "output_type": "execute_result",
          "data": {
            "text/plain": [
              "27"
            ]
          },
          "metadata": {
            "tags": []
          },
          "execution_count": 38
        },
        {
          "output_type": "execute_result",
          "data": {
            "text/plain": [
              "27"
            ]
          },
          "metadata": {
            "tags": []
          },
          "execution_count": 38
        },
        {
          "output_type": "execute_result",
          "data": {
            "text/plain": [
              "27"
            ]
          },
          "metadata": {
            "tags": []
          },
          "execution_count": 38
        },
        {
          "output_type": "execute_result",
          "data": {
            "text/plain": [
              "27"
            ]
          },
          "metadata": {
            "tags": []
          },
          "execution_count": 38
        },
        {
          "output_type": "execute_result",
          "data": {
            "text/plain": [
              "27"
            ]
          },
          "metadata": {
            "tags": []
          },
          "execution_count": 38
        },
        {
          "output_type": "execute_result",
          "data": {
            "text/plain": [
              "27"
            ]
          },
          "metadata": {
            "tags": []
          },
          "execution_count": 38
        },
        {
          "output_type": "execute_result",
          "data": {
            "text/plain": [
              "27"
            ]
          },
          "metadata": {
            "tags": []
          },
          "execution_count": 38
        },
        {
          "output_type": "execute_result",
          "data": {
            "text/plain": [
              "27"
            ]
          },
          "metadata": {
            "tags": []
          },
          "execution_count": 38
        },
        {
          "output_type": "execute_result",
          "data": {
            "text/plain": [
              "27"
            ]
          },
          "metadata": {
            "tags": []
          },
          "execution_count": 38
        },
        {
          "output_type": "execute_result",
          "data": {
            "text/plain": [
              "27"
            ]
          },
          "metadata": {
            "tags": []
          },
          "execution_count": 38
        },
        {
          "output_type": "execute_result",
          "data": {
            "text/plain": [
              "27"
            ]
          },
          "metadata": {
            "tags": []
          },
          "execution_count": 38
        },
        {
          "output_type": "execute_result",
          "data": {
            "text/plain": [
              "27"
            ]
          },
          "metadata": {
            "tags": []
          },
          "execution_count": 38
        },
        {
          "output_type": "execute_result",
          "data": {
            "text/plain": [
              "27"
            ]
          },
          "metadata": {
            "tags": []
          },
          "execution_count": 38
        },
        {
          "output_type": "execute_result",
          "data": {
            "text/plain": [
              "27"
            ]
          },
          "metadata": {
            "tags": []
          },
          "execution_count": 38
        },
        {
          "output_type": "execute_result",
          "data": {
            "text/plain": [
              "27"
            ]
          },
          "metadata": {
            "tags": []
          },
          "execution_count": 38
        },
        {
          "output_type": "execute_result",
          "data": {
            "text/plain": [
              "27"
            ]
          },
          "metadata": {
            "tags": []
          },
          "execution_count": 38
        },
        {
          "output_type": "execute_result",
          "data": {
            "text/plain": [
              "27"
            ]
          },
          "metadata": {
            "tags": []
          },
          "execution_count": 38
        },
        {
          "output_type": "execute_result",
          "data": {
            "text/plain": [
              "27"
            ]
          },
          "metadata": {
            "tags": []
          },
          "execution_count": 38
        },
        {
          "output_type": "execute_result",
          "data": {
            "text/plain": [
              "27"
            ]
          },
          "metadata": {
            "tags": []
          },
          "execution_count": 38
        },
        {
          "output_type": "execute_result",
          "data": {
            "text/plain": [
              "27"
            ]
          },
          "metadata": {
            "tags": []
          },
          "execution_count": 38
        },
        {
          "output_type": "execute_result",
          "data": {
            "text/plain": [
              "27"
            ]
          },
          "metadata": {
            "tags": []
          },
          "execution_count": 38
        },
        {
          "output_type": "execute_result",
          "data": {
            "text/plain": [
              "27"
            ]
          },
          "metadata": {
            "tags": []
          },
          "execution_count": 38
        },
        {
          "output_type": "execute_result",
          "data": {
            "text/plain": [
              "27"
            ]
          },
          "metadata": {
            "tags": []
          },
          "execution_count": 38
        },
        {
          "output_type": "execute_result",
          "data": {
            "text/plain": [
              "27"
            ]
          },
          "metadata": {
            "tags": []
          },
          "execution_count": 38
        },
        {
          "output_type": "execute_result",
          "data": {
            "text/plain": [
              "27"
            ]
          },
          "metadata": {
            "tags": []
          },
          "execution_count": 38
        },
        {
          "output_type": "execute_result",
          "data": {
            "text/plain": [
              "27"
            ]
          },
          "metadata": {
            "tags": []
          },
          "execution_count": 38
        },
        {
          "output_type": "execute_result",
          "data": {
            "text/plain": [
              "27"
            ]
          },
          "metadata": {
            "tags": []
          },
          "execution_count": 38
        },
        {
          "output_type": "execute_result",
          "data": {
            "text/plain": [
              "27"
            ]
          },
          "metadata": {
            "tags": []
          },
          "execution_count": 38
        },
        {
          "output_type": "execute_result",
          "data": {
            "text/plain": [
              "27"
            ]
          },
          "metadata": {
            "tags": []
          },
          "execution_count": 38
        },
        {
          "output_type": "execute_result",
          "data": {
            "text/plain": [
              "27"
            ]
          },
          "metadata": {
            "tags": []
          },
          "execution_count": 38
        },
        {
          "output_type": "execute_result",
          "data": {
            "text/plain": [
              "27"
            ]
          },
          "metadata": {
            "tags": []
          },
          "execution_count": 38
        },
        {
          "output_type": "execute_result",
          "data": {
            "text/plain": [
              "27"
            ]
          },
          "metadata": {
            "tags": []
          },
          "execution_count": 38
        },
        {
          "output_type": "execute_result",
          "data": {
            "text/plain": [
              "27"
            ]
          },
          "metadata": {
            "tags": []
          },
          "execution_count": 38
        },
        {
          "output_type": "execute_result",
          "data": {
            "text/plain": [
              "27"
            ]
          },
          "metadata": {
            "tags": []
          },
          "execution_count": 38
        },
        {
          "output_type": "execute_result",
          "data": {
            "text/plain": [
              "27"
            ]
          },
          "metadata": {
            "tags": []
          },
          "execution_count": 38
        },
        {
          "output_type": "execute_result",
          "data": {
            "text/plain": [
              "27"
            ]
          },
          "metadata": {
            "tags": []
          },
          "execution_count": 38
        },
        {
          "output_type": "execute_result",
          "data": {
            "text/plain": [
              "27"
            ]
          },
          "metadata": {
            "tags": []
          },
          "execution_count": 38
        },
        {
          "output_type": "execute_result",
          "data": {
            "text/plain": [
              "27"
            ]
          },
          "metadata": {
            "tags": []
          },
          "execution_count": 38
        },
        {
          "output_type": "execute_result",
          "data": {
            "text/plain": [
              "27"
            ]
          },
          "metadata": {
            "tags": []
          },
          "execution_count": 38
        },
        {
          "output_type": "execute_result",
          "data": {
            "text/plain": [
              "27"
            ]
          },
          "metadata": {
            "tags": []
          },
          "execution_count": 38
        },
        {
          "output_type": "execute_result",
          "data": {
            "text/plain": [
              "27"
            ]
          },
          "metadata": {
            "tags": []
          },
          "execution_count": 38
        },
        {
          "output_type": "execute_result",
          "data": {
            "text/plain": [
              "27"
            ]
          },
          "metadata": {
            "tags": []
          },
          "execution_count": 38
        },
        {
          "output_type": "execute_result",
          "data": {
            "text/plain": [
              "27"
            ]
          },
          "metadata": {
            "tags": []
          },
          "execution_count": 38
        },
        {
          "output_type": "execute_result",
          "data": {
            "text/plain": [
              "27"
            ]
          },
          "metadata": {
            "tags": []
          },
          "execution_count": 38
        },
        {
          "output_type": "execute_result",
          "data": {
            "text/plain": [
              "27"
            ]
          },
          "metadata": {
            "tags": []
          },
          "execution_count": 38
        },
        {
          "output_type": "execute_result",
          "data": {
            "text/plain": [
              "27"
            ]
          },
          "metadata": {
            "tags": []
          },
          "execution_count": 38
        },
        {
          "output_type": "execute_result",
          "data": {
            "text/plain": [
              "27"
            ]
          },
          "metadata": {
            "tags": []
          },
          "execution_count": 38
        },
        {
          "output_type": "execute_result",
          "data": {
            "text/plain": [
              "27"
            ]
          },
          "metadata": {
            "tags": []
          },
          "execution_count": 38
        },
        {
          "output_type": "execute_result",
          "data": {
            "text/plain": [
              "27"
            ]
          },
          "metadata": {
            "tags": []
          },
          "execution_count": 38
        },
        {
          "output_type": "execute_result",
          "data": {
            "text/plain": [
              "27"
            ]
          },
          "metadata": {
            "tags": []
          },
          "execution_count": 38
        },
        {
          "output_type": "execute_result",
          "data": {
            "text/plain": [
              "27"
            ]
          },
          "metadata": {
            "tags": []
          },
          "execution_count": 38
        },
        {
          "output_type": "execute_result",
          "data": {
            "text/plain": [
              "27"
            ]
          },
          "metadata": {
            "tags": []
          },
          "execution_count": 38
        },
        {
          "output_type": "execute_result",
          "data": {
            "text/plain": [
              "27"
            ]
          },
          "metadata": {
            "tags": []
          },
          "execution_count": 38
        },
        {
          "output_type": "execute_result",
          "data": {
            "text/plain": [
              "27"
            ]
          },
          "metadata": {
            "tags": []
          },
          "execution_count": 38
        },
        {
          "output_type": "execute_result",
          "data": {
            "text/plain": [
              "27"
            ]
          },
          "metadata": {
            "tags": []
          },
          "execution_count": 38
        },
        {
          "output_type": "execute_result",
          "data": {
            "text/plain": [
              "27"
            ]
          },
          "metadata": {
            "tags": []
          },
          "execution_count": 38
        },
        {
          "output_type": "execute_result",
          "data": {
            "text/plain": [
              "27"
            ]
          },
          "metadata": {
            "tags": []
          },
          "execution_count": 38
        },
        {
          "output_type": "execute_result",
          "data": {
            "text/plain": [
              "27"
            ]
          },
          "metadata": {
            "tags": []
          },
          "execution_count": 38
        },
        {
          "output_type": "execute_result",
          "data": {
            "text/plain": [
              "27"
            ]
          },
          "metadata": {
            "tags": []
          },
          "execution_count": 38
        },
        {
          "output_type": "execute_result",
          "data": {
            "text/plain": [
              "27"
            ]
          },
          "metadata": {
            "tags": []
          },
          "execution_count": 38
        },
        {
          "output_type": "execute_result",
          "data": {
            "text/plain": [
              "27"
            ]
          },
          "metadata": {
            "tags": []
          },
          "execution_count": 38
        },
        {
          "output_type": "execute_result",
          "data": {
            "text/plain": [
              "27"
            ]
          },
          "metadata": {
            "tags": []
          },
          "execution_count": 38
        },
        {
          "output_type": "execute_result",
          "data": {
            "text/plain": [
              "27"
            ]
          },
          "metadata": {
            "tags": []
          },
          "execution_count": 38
        },
        {
          "output_type": "execute_result",
          "data": {
            "text/plain": [
              "27"
            ]
          },
          "metadata": {
            "tags": []
          },
          "execution_count": 38
        },
        {
          "output_type": "execute_result",
          "data": {
            "text/plain": [
              "27"
            ]
          },
          "metadata": {
            "tags": []
          },
          "execution_count": 38
        },
        {
          "output_type": "execute_result",
          "data": {
            "text/plain": [
              "27"
            ]
          },
          "metadata": {
            "tags": []
          },
          "execution_count": 38
        },
        {
          "output_type": "execute_result",
          "data": {
            "text/plain": [
              "27"
            ]
          },
          "metadata": {
            "tags": []
          },
          "execution_count": 38
        },
        {
          "output_type": "execute_result",
          "data": {
            "text/plain": [
              "27"
            ]
          },
          "metadata": {
            "tags": []
          },
          "execution_count": 38
        },
        {
          "output_type": "execute_result",
          "data": {
            "text/plain": [
              "27"
            ]
          },
          "metadata": {
            "tags": []
          },
          "execution_count": 38
        },
        {
          "output_type": "execute_result",
          "data": {
            "text/plain": [
              "27"
            ]
          },
          "metadata": {
            "tags": []
          },
          "execution_count": 38
        },
        {
          "output_type": "execute_result",
          "data": {
            "text/plain": [
              "27"
            ]
          },
          "metadata": {
            "tags": []
          },
          "execution_count": 38
        },
        {
          "output_type": "execute_result",
          "data": {
            "text/plain": [
              "27"
            ]
          },
          "metadata": {
            "tags": []
          },
          "execution_count": 38
        },
        {
          "output_type": "execute_result",
          "data": {
            "text/plain": [
              "27"
            ]
          },
          "metadata": {
            "tags": []
          },
          "execution_count": 38
        },
        {
          "output_type": "execute_result",
          "data": {
            "text/plain": [
              "27"
            ]
          },
          "metadata": {
            "tags": []
          },
          "execution_count": 38
        },
        {
          "output_type": "execute_result",
          "data": {
            "text/plain": [
              "27"
            ]
          },
          "metadata": {
            "tags": []
          },
          "execution_count": 38
        },
        {
          "output_type": "execute_result",
          "data": {
            "text/plain": [
              "27"
            ]
          },
          "metadata": {
            "tags": []
          },
          "execution_count": 38
        },
        {
          "output_type": "execute_result",
          "data": {
            "text/plain": [
              "27"
            ]
          },
          "metadata": {
            "tags": []
          },
          "execution_count": 38
        },
        {
          "output_type": "execute_result",
          "data": {
            "text/plain": [
              "27"
            ]
          },
          "metadata": {
            "tags": []
          },
          "execution_count": 38
        },
        {
          "output_type": "execute_result",
          "data": {
            "text/plain": [
              "27"
            ]
          },
          "metadata": {
            "tags": []
          },
          "execution_count": 38
        },
        {
          "output_type": "execute_result",
          "data": {
            "text/plain": [
              "27"
            ]
          },
          "metadata": {
            "tags": []
          },
          "execution_count": 38
        },
        {
          "output_type": "execute_result",
          "data": {
            "text/plain": [
              "27"
            ]
          },
          "metadata": {
            "tags": []
          },
          "execution_count": 38
        },
        {
          "output_type": "execute_result",
          "data": {
            "text/plain": [
              "27"
            ]
          },
          "metadata": {
            "tags": []
          },
          "execution_count": 38
        },
        {
          "output_type": "execute_result",
          "data": {
            "text/plain": [
              "27"
            ]
          },
          "metadata": {
            "tags": []
          },
          "execution_count": 38
        },
        {
          "output_type": "execute_result",
          "data": {
            "text/plain": [
              "27"
            ]
          },
          "metadata": {
            "tags": []
          },
          "execution_count": 38
        },
        {
          "output_type": "execute_result",
          "data": {
            "text/plain": [
              "27"
            ]
          },
          "metadata": {
            "tags": []
          },
          "execution_count": 38
        },
        {
          "output_type": "execute_result",
          "data": {
            "text/plain": [
              "27"
            ]
          },
          "metadata": {
            "tags": []
          },
          "execution_count": 38
        },
        {
          "output_type": "execute_result",
          "data": {
            "text/plain": [
              "27"
            ]
          },
          "metadata": {
            "tags": []
          },
          "execution_count": 38
        },
        {
          "output_type": "execute_result",
          "data": {
            "text/plain": [
              "27"
            ]
          },
          "metadata": {
            "tags": []
          },
          "execution_count": 38
        },
        {
          "output_type": "execute_result",
          "data": {
            "text/plain": [
              "27"
            ]
          },
          "metadata": {
            "tags": []
          },
          "execution_count": 38
        },
        {
          "output_type": "execute_result",
          "data": {
            "text/plain": [
              "27"
            ]
          },
          "metadata": {
            "tags": []
          },
          "execution_count": 38
        },
        {
          "output_type": "execute_result",
          "data": {
            "text/plain": [
              "27"
            ]
          },
          "metadata": {
            "tags": []
          },
          "execution_count": 38
        },
        {
          "output_type": "execute_result",
          "data": {
            "text/plain": [
              "27"
            ]
          },
          "metadata": {
            "tags": []
          },
          "execution_count": 38
        },
        {
          "output_type": "execute_result",
          "data": {
            "text/plain": [
              "27"
            ]
          },
          "metadata": {
            "tags": []
          },
          "execution_count": 38
        },
        {
          "output_type": "execute_result",
          "data": {
            "text/plain": [
              "27"
            ]
          },
          "metadata": {
            "tags": []
          },
          "execution_count": 38
        },
        {
          "output_type": "execute_result",
          "data": {
            "text/plain": [
              "27"
            ]
          },
          "metadata": {
            "tags": []
          },
          "execution_count": 38
        },
        {
          "output_type": "execute_result",
          "data": {
            "text/plain": [
              "27"
            ]
          },
          "metadata": {
            "tags": []
          },
          "execution_count": 38
        },
        {
          "output_type": "execute_result",
          "data": {
            "text/plain": [
              "27"
            ]
          },
          "metadata": {
            "tags": []
          },
          "execution_count": 38
        },
        {
          "output_type": "execute_result",
          "data": {
            "text/plain": [
              "27"
            ]
          },
          "metadata": {
            "tags": []
          },
          "execution_count": 38
        },
        {
          "output_type": "execute_result",
          "data": {
            "text/plain": [
              "27"
            ]
          },
          "metadata": {
            "tags": []
          },
          "execution_count": 38
        },
        {
          "output_type": "execute_result",
          "data": {
            "text/plain": [
              "27"
            ]
          },
          "metadata": {
            "tags": []
          },
          "execution_count": 38
        },
        {
          "output_type": "execute_result",
          "data": {
            "text/plain": [
              "27"
            ]
          },
          "metadata": {
            "tags": []
          },
          "execution_count": 38
        },
        {
          "output_type": "execute_result",
          "data": {
            "text/plain": [
              "27"
            ]
          },
          "metadata": {
            "tags": []
          },
          "execution_count": 38
        },
        {
          "output_type": "execute_result",
          "data": {
            "text/plain": [
              "27"
            ]
          },
          "metadata": {
            "tags": []
          },
          "execution_count": 38
        },
        {
          "output_type": "execute_result",
          "data": {
            "text/plain": [
              "27"
            ]
          },
          "metadata": {
            "tags": []
          },
          "execution_count": 38
        },
        {
          "output_type": "execute_result",
          "data": {
            "text/plain": [
              "27"
            ]
          },
          "metadata": {
            "tags": []
          },
          "execution_count": 38
        },
        {
          "output_type": "execute_result",
          "data": {
            "text/plain": [
              "27"
            ]
          },
          "metadata": {
            "tags": []
          },
          "execution_count": 38
        },
        {
          "output_type": "execute_result",
          "data": {
            "text/plain": [
              "27"
            ]
          },
          "metadata": {
            "tags": []
          },
          "execution_count": 38
        },
        {
          "output_type": "execute_result",
          "data": {
            "text/plain": [
              "27"
            ]
          },
          "metadata": {
            "tags": []
          },
          "execution_count": 38
        },
        {
          "output_type": "execute_result",
          "data": {
            "text/plain": [
              "27"
            ]
          },
          "metadata": {
            "tags": []
          },
          "execution_count": 38
        },
        {
          "output_type": "execute_result",
          "data": {
            "text/plain": [
              "27"
            ]
          },
          "metadata": {
            "tags": []
          },
          "execution_count": 38
        },
        {
          "output_type": "execute_result",
          "data": {
            "text/plain": [
              "27"
            ]
          },
          "metadata": {
            "tags": []
          },
          "execution_count": 38
        },
        {
          "output_type": "execute_result",
          "data": {
            "text/plain": [
              "27"
            ]
          },
          "metadata": {
            "tags": []
          },
          "execution_count": 38
        },
        {
          "output_type": "execute_result",
          "data": {
            "text/plain": [
              "27"
            ]
          },
          "metadata": {
            "tags": []
          },
          "execution_count": 38
        },
        {
          "output_type": "execute_result",
          "data": {
            "text/plain": [
              "27"
            ]
          },
          "metadata": {
            "tags": []
          },
          "execution_count": 38
        },
        {
          "output_type": "execute_result",
          "data": {
            "text/plain": [
              "27"
            ]
          },
          "metadata": {
            "tags": []
          },
          "execution_count": 38
        },
        {
          "output_type": "execute_result",
          "data": {
            "text/plain": [
              "27"
            ]
          },
          "metadata": {
            "tags": []
          },
          "execution_count": 38
        },
        {
          "output_type": "execute_result",
          "data": {
            "text/plain": [
              "27"
            ]
          },
          "metadata": {
            "tags": []
          },
          "execution_count": 38
        },
        {
          "output_type": "execute_result",
          "data": {
            "text/plain": [
              "27"
            ]
          },
          "metadata": {
            "tags": []
          },
          "execution_count": 38
        },
        {
          "output_type": "execute_result",
          "data": {
            "text/plain": [
              "27"
            ]
          },
          "metadata": {
            "tags": []
          },
          "execution_count": 38
        },
        {
          "output_type": "execute_result",
          "data": {
            "text/plain": [
              "27"
            ]
          },
          "metadata": {
            "tags": []
          },
          "execution_count": 38
        },
        {
          "output_type": "execute_result",
          "data": {
            "text/plain": [
              "27"
            ]
          },
          "metadata": {
            "tags": []
          },
          "execution_count": 38
        },
        {
          "output_type": "execute_result",
          "data": {
            "text/plain": [
              "27"
            ]
          },
          "metadata": {
            "tags": []
          },
          "execution_count": 38
        },
        {
          "output_type": "execute_result",
          "data": {
            "text/plain": [
              "27"
            ]
          },
          "metadata": {
            "tags": []
          },
          "execution_count": 38
        },
        {
          "output_type": "execute_result",
          "data": {
            "text/plain": [
              "27"
            ]
          },
          "metadata": {
            "tags": []
          },
          "execution_count": 38
        },
        {
          "output_type": "execute_result",
          "data": {
            "text/plain": [
              "27"
            ]
          },
          "metadata": {
            "tags": []
          },
          "execution_count": 38
        },
        {
          "output_type": "execute_result",
          "data": {
            "text/plain": [
              "27"
            ]
          },
          "metadata": {
            "tags": []
          },
          "execution_count": 38
        },
        {
          "output_type": "execute_result",
          "data": {
            "text/plain": [
              "27"
            ]
          },
          "metadata": {
            "tags": []
          },
          "execution_count": 38
        },
        {
          "output_type": "execute_result",
          "data": {
            "text/plain": [
              "27"
            ]
          },
          "metadata": {
            "tags": []
          },
          "execution_count": 38
        },
        {
          "output_type": "execute_result",
          "data": {
            "text/plain": [
              "27"
            ]
          },
          "metadata": {
            "tags": []
          },
          "execution_count": 38
        },
        {
          "output_type": "execute_result",
          "data": {
            "text/plain": [
              "27"
            ]
          },
          "metadata": {
            "tags": []
          },
          "execution_count": 38
        },
        {
          "output_type": "execute_result",
          "data": {
            "text/plain": [
              "27"
            ]
          },
          "metadata": {
            "tags": []
          },
          "execution_count": 38
        },
        {
          "output_type": "execute_result",
          "data": {
            "text/plain": [
              "27"
            ]
          },
          "metadata": {
            "tags": []
          },
          "execution_count": 38
        },
        {
          "output_type": "execute_result",
          "data": {
            "text/plain": [
              "27"
            ]
          },
          "metadata": {
            "tags": []
          },
          "execution_count": 38
        },
        {
          "output_type": "execute_result",
          "data": {
            "text/plain": [
              "27"
            ]
          },
          "metadata": {
            "tags": []
          },
          "execution_count": 38
        },
        {
          "output_type": "execute_result",
          "data": {
            "text/plain": [
              "27"
            ]
          },
          "metadata": {
            "tags": []
          },
          "execution_count": 38
        },
        {
          "output_type": "execute_result",
          "data": {
            "text/plain": [
              "27"
            ]
          },
          "metadata": {
            "tags": []
          },
          "execution_count": 38
        },
        {
          "output_type": "execute_result",
          "data": {
            "text/plain": [
              "27"
            ]
          },
          "metadata": {
            "tags": []
          },
          "execution_count": 38
        },
        {
          "output_type": "execute_result",
          "data": {
            "text/plain": [
              "27"
            ]
          },
          "metadata": {
            "tags": []
          },
          "execution_count": 38
        },
        {
          "output_type": "execute_result",
          "data": {
            "text/plain": [
              "27"
            ]
          },
          "metadata": {
            "tags": []
          },
          "execution_count": 38
        },
        {
          "output_type": "execute_result",
          "data": {
            "text/plain": [
              "27"
            ]
          },
          "metadata": {
            "tags": []
          },
          "execution_count": 38
        },
        {
          "output_type": "execute_result",
          "data": {
            "text/plain": [
              "27"
            ]
          },
          "metadata": {
            "tags": []
          },
          "execution_count": 38
        },
        {
          "output_type": "execute_result",
          "data": {
            "text/plain": [
              "30"
            ]
          },
          "metadata": {
            "tags": []
          },
          "execution_count": 38
        },
        {
          "output_type": "execute_result",
          "data": {
            "text/plain": [
              "30"
            ]
          },
          "metadata": {
            "tags": []
          },
          "execution_count": 38
        },
        {
          "output_type": "execute_result",
          "data": {
            "text/plain": [
              "30"
            ]
          },
          "metadata": {
            "tags": []
          },
          "execution_count": 38
        },
        {
          "output_type": "execute_result",
          "data": {
            "text/plain": [
              "30"
            ]
          },
          "metadata": {
            "tags": []
          },
          "execution_count": 38
        },
        {
          "output_type": "execute_result",
          "data": {
            "text/plain": [
              "30"
            ]
          },
          "metadata": {
            "tags": []
          },
          "execution_count": 38
        },
        {
          "output_type": "execute_result",
          "data": {
            "text/plain": [
              "30"
            ]
          },
          "metadata": {
            "tags": []
          },
          "execution_count": 38
        },
        {
          "output_type": "execute_result",
          "data": {
            "text/plain": [
              "30"
            ]
          },
          "metadata": {
            "tags": []
          },
          "execution_count": 38
        },
        {
          "output_type": "execute_result",
          "data": {
            "text/plain": [
              "30"
            ]
          },
          "metadata": {
            "tags": []
          },
          "execution_count": 38
        },
        {
          "output_type": "execute_result",
          "data": {
            "text/plain": [
              "30"
            ]
          },
          "metadata": {
            "tags": []
          },
          "execution_count": 38
        },
        {
          "output_type": "execute_result",
          "data": {
            "text/plain": [
              "30"
            ]
          },
          "metadata": {
            "tags": []
          },
          "execution_count": 38
        },
        {
          "output_type": "execute_result",
          "data": {
            "text/plain": [
              "30"
            ]
          },
          "metadata": {
            "tags": []
          },
          "execution_count": 38
        },
        {
          "output_type": "execute_result",
          "data": {
            "text/plain": [
              "30"
            ]
          },
          "metadata": {
            "tags": []
          },
          "execution_count": 38
        },
        {
          "output_type": "execute_result",
          "data": {
            "text/plain": [
              "30"
            ]
          },
          "metadata": {
            "tags": []
          },
          "execution_count": 38
        },
        {
          "output_type": "execute_result",
          "data": {
            "text/plain": [
              "30"
            ]
          },
          "metadata": {
            "tags": []
          },
          "execution_count": 38
        },
        {
          "output_type": "execute_result",
          "data": {
            "text/plain": [
              "30"
            ]
          },
          "metadata": {
            "tags": []
          },
          "execution_count": 38
        },
        {
          "output_type": "execute_result",
          "data": {
            "text/plain": [
              "30"
            ]
          },
          "metadata": {
            "tags": []
          },
          "execution_count": 38
        },
        {
          "output_type": "execute_result",
          "data": {
            "text/plain": [
              "30"
            ]
          },
          "metadata": {
            "tags": []
          },
          "execution_count": 38
        },
        {
          "output_type": "execute_result",
          "data": {
            "text/plain": [
              "30"
            ]
          },
          "metadata": {
            "tags": []
          },
          "execution_count": 38
        },
        {
          "output_type": "execute_result",
          "data": {
            "text/plain": [
              "30"
            ]
          },
          "metadata": {
            "tags": []
          },
          "execution_count": 38
        },
        {
          "output_type": "execute_result",
          "data": {
            "text/plain": [
              "30"
            ]
          },
          "metadata": {
            "tags": []
          },
          "execution_count": 38
        },
        {
          "output_type": "execute_result",
          "data": {
            "text/plain": [
              "30"
            ]
          },
          "metadata": {
            "tags": []
          },
          "execution_count": 38
        },
        {
          "output_type": "execute_result",
          "data": {
            "text/plain": [
              "30"
            ]
          },
          "metadata": {
            "tags": []
          },
          "execution_count": 38
        },
        {
          "output_type": "execute_result",
          "data": {
            "text/plain": [
              "30"
            ]
          },
          "metadata": {
            "tags": []
          },
          "execution_count": 38
        },
        {
          "output_type": "execute_result",
          "data": {
            "text/plain": [
              "30"
            ]
          },
          "metadata": {
            "tags": []
          },
          "execution_count": 38
        },
        {
          "output_type": "execute_result",
          "data": {
            "text/plain": [
              "30"
            ]
          },
          "metadata": {
            "tags": []
          },
          "execution_count": 38
        },
        {
          "output_type": "execute_result",
          "data": {
            "text/plain": [
              "30"
            ]
          },
          "metadata": {
            "tags": []
          },
          "execution_count": 38
        },
        {
          "output_type": "execute_result",
          "data": {
            "text/plain": [
              "30"
            ]
          },
          "metadata": {
            "tags": []
          },
          "execution_count": 38
        },
        {
          "output_type": "execute_result",
          "data": {
            "text/plain": [
              "30"
            ]
          },
          "metadata": {
            "tags": []
          },
          "execution_count": 38
        },
        {
          "output_type": "execute_result",
          "data": {
            "text/plain": [
              "30"
            ]
          },
          "metadata": {
            "tags": []
          },
          "execution_count": 38
        },
        {
          "output_type": "execute_result",
          "data": {
            "text/plain": [
              "30"
            ]
          },
          "metadata": {
            "tags": []
          },
          "execution_count": 38
        },
        {
          "output_type": "execute_result",
          "data": {
            "text/plain": [
              "30"
            ]
          },
          "metadata": {
            "tags": []
          },
          "execution_count": 38
        },
        {
          "output_type": "execute_result",
          "data": {
            "text/plain": [
              "30"
            ]
          },
          "metadata": {
            "tags": []
          },
          "execution_count": 38
        },
        {
          "output_type": "execute_result",
          "data": {
            "text/plain": [
              "30"
            ]
          },
          "metadata": {
            "tags": []
          },
          "execution_count": 38
        },
        {
          "output_type": "execute_result",
          "data": {
            "text/plain": [
              "30"
            ]
          },
          "metadata": {
            "tags": []
          },
          "execution_count": 38
        },
        {
          "output_type": "execute_result",
          "data": {
            "text/plain": [
              "30"
            ]
          },
          "metadata": {
            "tags": []
          },
          "execution_count": 38
        },
        {
          "output_type": "execute_result",
          "data": {
            "text/plain": [
              "30"
            ]
          },
          "metadata": {
            "tags": []
          },
          "execution_count": 38
        },
        {
          "output_type": "execute_result",
          "data": {
            "text/plain": [
              "30"
            ]
          },
          "metadata": {
            "tags": []
          },
          "execution_count": 38
        },
        {
          "output_type": "execute_result",
          "data": {
            "text/plain": [
              "30"
            ]
          },
          "metadata": {
            "tags": []
          },
          "execution_count": 38
        },
        {
          "output_type": "execute_result",
          "data": {
            "text/plain": [
              "30"
            ]
          },
          "metadata": {
            "tags": []
          },
          "execution_count": 38
        },
        {
          "output_type": "execute_result",
          "data": {
            "text/plain": [
              "30"
            ]
          },
          "metadata": {
            "tags": []
          },
          "execution_count": 38
        },
        {
          "output_type": "execute_result",
          "data": {
            "text/plain": [
              "30"
            ]
          },
          "metadata": {
            "tags": []
          },
          "execution_count": 38
        },
        {
          "output_type": "execute_result",
          "data": {
            "text/plain": [
              "30"
            ]
          },
          "metadata": {
            "tags": []
          },
          "execution_count": 38
        },
        {
          "output_type": "execute_result",
          "data": {
            "text/plain": [
              "30"
            ]
          },
          "metadata": {
            "tags": []
          },
          "execution_count": 38
        },
        {
          "output_type": "execute_result",
          "data": {
            "text/plain": [
              "30"
            ]
          },
          "metadata": {
            "tags": []
          },
          "execution_count": 38
        },
        {
          "output_type": "execute_result",
          "data": {
            "text/plain": [
              "30"
            ]
          },
          "metadata": {
            "tags": []
          },
          "execution_count": 38
        },
        {
          "output_type": "execute_result",
          "data": {
            "text/plain": [
              "30"
            ]
          },
          "metadata": {
            "tags": []
          },
          "execution_count": 38
        },
        {
          "output_type": "execute_result",
          "data": {
            "text/plain": [
              "30"
            ]
          },
          "metadata": {
            "tags": []
          },
          "execution_count": 38
        },
        {
          "output_type": "execute_result",
          "data": {
            "text/plain": [
              "30"
            ]
          },
          "metadata": {
            "tags": []
          },
          "execution_count": 38
        },
        {
          "output_type": "execute_result",
          "data": {
            "text/plain": [
              "30"
            ]
          },
          "metadata": {
            "tags": []
          },
          "execution_count": 38
        },
        {
          "output_type": "execute_result",
          "data": {
            "text/plain": [
              "30"
            ]
          },
          "metadata": {
            "tags": []
          },
          "execution_count": 38
        },
        {
          "output_type": "execute_result",
          "data": {
            "text/plain": [
              "30"
            ]
          },
          "metadata": {
            "tags": []
          },
          "execution_count": 38
        },
        {
          "output_type": "execute_result",
          "data": {
            "text/plain": [
              "30"
            ]
          },
          "metadata": {
            "tags": []
          },
          "execution_count": 38
        },
        {
          "output_type": "execute_result",
          "data": {
            "text/plain": [
              "30"
            ]
          },
          "metadata": {
            "tags": []
          },
          "execution_count": 38
        },
        {
          "output_type": "execute_result",
          "data": {
            "text/plain": [
              "30"
            ]
          },
          "metadata": {
            "tags": []
          },
          "execution_count": 38
        },
        {
          "output_type": "execute_result",
          "data": {
            "text/plain": [
              "30"
            ]
          },
          "metadata": {
            "tags": []
          },
          "execution_count": 38
        },
        {
          "output_type": "execute_result",
          "data": {
            "text/plain": [
              "30"
            ]
          },
          "metadata": {
            "tags": []
          },
          "execution_count": 38
        },
        {
          "output_type": "execute_result",
          "data": {
            "text/plain": [
              "30"
            ]
          },
          "metadata": {
            "tags": []
          },
          "execution_count": 38
        },
        {
          "output_type": "execute_result",
          "data": {
            "text/plain": [
              "30"
            ]
          },
          "metadata": {
            "tags": []
          },
          "execution_count": 38
        },
        {
          "output_type": "execute_result",
          "data": {
            "text/plain": [
              "30"
            ]
          },
          "metadata": {
            "tags": []
          },
          "execution_count": 38
        },
        {
          "output_type": "execute_result",
          "data": {
            "text/plain": [
              "30"
            ]
          },
          "metadata": {
            "tags": []
          },
          "execution_count": 38
        },
        {
          "output_type": "execute_result",
          "data": {
            "text/plain": [
              "30"
            ]
          },
          "metadata": {
            "tags": []
          },
          "execution_count": 38
        },
        {
          "output_type": "execute_result",
          "data": {
            "text/plain": [
              "30"
            ]
          },
          "metadata": {
            "tags": []
          },
          "execution_count": 38
        },
        {
          "output_type": "execute_result",
          "data": {
            "text/plain": [
              "30"
            ]
          },
          "metadata": {
            "tags": []
          },
          "execution_count": 38
        },
        {
          "output_type": "execute_result",
          "data": {
            "text/plain": [
              "30"
            ]
          },
          "metadata": {
            "tags": []
          },
          "execution_count": 38
        },
        {
          "output_type": "execute_result",
          "data": {
            "text/plain": [
              "30"
            ]
          },
          "metadata": {
            "tags": []
          },
          "execution_count": 38
        },
        {
          "output_type": "execute_result",
          "data": {
            "text/plain": [
              "30"
            ]
          },
          "metadata": {
            "tags": []
          },
          "execution_count": 38
        },
        {
          "output_type": "execute_result",
          "data": {
            "text/plain": [
              "30"
            ]
          },
          "metadata": {
            "tags": []
          },
          "execution_count": 38
        },
        {
          "output_type": "execute_result",
          "data": {
            "text/plain": [
              "30"
            ]
          },
          "metadata": {
            "tags": []
          },
          "execution_count": 38
        },
        {
          "output_type": "execute_result",
          "data": {
            "text/plain": [
              "30"
            ]
          },
          "metadata": {
            "tags": []
          },
          "execution_count": 38
        },
        {
          "output_type": "execute_result",
          "data": {
            "text/plain": [
              "30"
            ]
          },
          "metadata": {
            "tags": []
          },
          "execution_count": 38
        },
        {
          "output_type": "execute_result",
          "data": {
            "text/plain": [
              "30"
            ]
          },
          "metadata": {
            "tags": []
          },
          "execution_count": 38
        },
        {
          "output_type": "execute_result",
          "data": {
            "text/plain": [
              "30"
            ]
          },
          "metadata": {
            "tags": []
          },
          "execution_count": 38
        },
        {
          "output_type": "execute_result",
          "data": {
            "text/plain": [
              "30"
            ]
          },
          "metadata": {
            "tags": []
          },
          "execution_count": 38
        },
        {
          "output_type": "execute_result",
          "data": {
            "text/plain": [
              "30"
            ]
          },
          "metadata": {
            "tags": []
          },
          "execution_count": 38
        },
        {
          "output_type": "execute_result",
          "data": {
            "text/plain": [
              "30"
            ]
          },
          "metadata": {
            "tags": []
          },
          "execution_count": 38
        },
        {
          "output_type": "execute_result",
          "data": {
            "text/plain": [
              "30"
            ]
          },
          "metadata": {
            "tags": []
          },
          "execution_count": 38
        },
        {
          "output_type": "execute_result",
          "data": {
            "text/plain": [
              "30"
            ]
          },
          "metadata": {
            "tags": []
          },
          "execution_count": 38
        },
        {
          "output_type": "execute_result",
          "data": {
            "text/plain": [
              "30"
            ]
          },
          "metadata": {
            "tags": []
          },
          "execution_count": 38
        },
        {
          "output_type": "execute_result",
          "data": {
            "text/plain": [
              "30"
            ]
          },
          "metadata": {
            "tags": []
          },
          "execution_count": 38
        },
        {
          "output_type": "execute_result",
          "data": {
            "text/plain": [
              "30"
            ]
          },
          "metadata": {
            "tags": []
          },
          "execution_count": 38
        },
        {
          "output_type": "execute_result",
          "data": {
            "text/plain": [
              "30"
            ]
          },
          "metadata": {
            "tags": []
          },
          "execution_count": 38
        },
        {
          "output_type": "execute_result",
          "data": {
            "text/plain": [
              "30"
            ]
          },
          "metadata": {
            "tags": []
          },
          "execution_count": 38
        },
        {
          "output_type": "execute_result",
          "data": {
            "text/plain": [
              "30"
            ]
          },
          "metadata": {
            "tags": []
          },
          "execution_count": 38
        },
        {
          "output_type": "execute_result",
          "data": {
            "text/plain": [
              "30"
            ]
          },
          "metadata": {
            "tags": []
          },
          "execution_count": 38
        },
        {
          "output_type": "execute_result",
          "data": {
            "text/plain": [
              "30"
            ]
          },
          "metadata": {
            "tags": []
          },
          "execution_count": 38
        },
        {
          "output_type": "execute_result",
          "data": {
            "text/plain": [
              "30"
            ]
          },
          "metadata": {
            "tags": []
          },
          "execution_count": 38
        },
        {
          "output_type": "execute_result",
          "data": {
            "text/plain": [
              "30"
            ]
          },
          "metadata": {
            "tags": []
          },
          "execution_count": 38
        },
        {
          "output_type": "execute_result",
          "data": {
            "text/plain": [
              "30"
            ]
          },
          "metadata": {
            "tags": []
          },
          "execution_count": 38
        },
        {
          "output_type": "execute_result",
          "data": {
            "text/plain": [
              "30"
            ]
          },
          "metadata": {
            "tags": []
          },
          "execution_count": 38
        },
        {
          "output_type": "execute_result",
          "data": {
            "text/plain": [
              "30"
            ]
          },
          "metadata": {
            "tags": []
          },
          "execution_count": 38
        },
        {
          "output_type": "execute_result",
          "data": {
            "text/plain": [
              "30"
            ]
          },
          "metadata": {
            "tags": []
          },
          "execution_count": 38
        },
        {
          "output_type": "execute_result",
          "data": {
            "text/plain": [
              "30"
            ]
          },
          "metadata": {
            "tags": []
          },
          "execution_count": 38
        },
        {
          "output_type": "execute_result",
          "data": {
            "text/plain": [
              "30"
            ]
          },
          "metadata": {
            "tags": []
          },
          "execution_count": 38
        },
        {
          "output_type": "execute_result",
          "data": {
            "text/plain": [
              "30"
            ]
          },
          "metadata": {
            "tags": []
          },
          "execution_count": 38
        },
        {
          "output_type": "execute_result",
          "data": {
            "text/plain": [
              "30"
            ]
          },
          "metadata": {
            "tags": []
          },
          "execution_count": 38
        },
        {
          "output_type": "execute_result",
          "data": {
            "text/plain": [
              "30"
            ]
          },
          "metadata": {
            "tags": []
          },
          "execution_count": 38
        },
        {
          "output_type": "execute_result",
          "data": {
            "text/plain": [
              "30"
            ]
          },
          "metadata": {
            "tags": []
          },
          "execution_count": 38
        },
        {
          "output_type": "execute_result",
          "data": {
            "text/plain": [
              "30"
            ]
          },
          "metadata": {
            "tags": []
          },
          "execution_count": 38
        },
        {
          "output_type": "execute_result",
          "data": {
            "text/plain": [
              "30"
            ]
          },
          "metadata": {
            "tags": []
          },
          "execution_count": 38
        },
        {
          "output_type": "execute_result",
          "data": {
            "text/plain": [
              "30"
            ]
          },
          "metadata": {
            "tags": []
          },
          "execution_count": 38
        },
        {
          "output_type": "execute_result",
          "data": {
            "text/plain": [
              "30"
            ]
          },
          "metadata": {
            "tags": []
          },
          "execution_count": 38
        },
        {
          "output_type": "execute_result",
          "data": {
            "text/plain": [
              "30"
            ]
          },
          "metadata": {
            "tags": []
          },
          "execution_count": 38
        },
        {
          "output_type": "execute_result",
          "data": {
            "text/plain": [
              "30"
            ]
          },
          "metadata": {
            "tags": []
          },
          "execution_count": 38
        },
        {
          "output_type": "execute_result",
          "data": {
            "text/plain": [
              "30"
            ]
          },
          "metadata": {
            "tags": []
          },
          "execution_count": 38
        },
        {
          "output_type": "execute_result",
          "data": {
            "text/plain": [
              "30"
            ]
          },
          "metadata": {
            "tags": []
          },
          "execution_count": 38
        },
        {
          "output_type": "execute_result",
          "data": {
            "text/plain": [
              "30"
            ]
          },
          "metadata": {
            "tags": []
          },
          "execution_count": 38
        },
        {
          "output_type": "execute_result",
          "data": {
            "text/plain": [
              "30"
            ]
          },
          "metadata": {
            "tags": []
          },
          "execution_count": 38
        },
        {
          "output_type": "execute_result",
          "data": {
            "text/plain": [
              "30"
            ]
          },
          "metadata": {
            "tags": []
          },
          "execution_count": 38
        },
        {
          "output_type": "execute_result",
          "data": {
            "text/plain": [
              "30"
            ]
          },
          "metadata": {
            "tags": []
          },
          "execution_count": 38
        },
        {
          "output_type": "execute_result",
          "data": {
            "text/plain": [
              "30"
            ]
          },
          "metadata": {
            "tags": []
          },
          "execution_count": 38
        },
        {
          "output_type": "execute_result",
          "data": {
            "text/plain": [
              "30"
            ]
          },
          "metadata": {
            "tags": []
          },
          "execution_count": 38
        },
        {
          "output_type": "execute_result",
          "data": {
            "text/plain": [
              "30"
            ]
          },
          "metadata": {
            "tags": []
          },
          "execution_count": 38
        },
        {
          "output_type": "execute_result",
          "data": {
            "text/plain": [
              "30"
            ]
          },
          "metadata": {
            "tags": []
          },
          "execution_count": 38
        },
        {
          "output_type": "execute_result",
          "data": {
            "text/plain": [
              "30"
            ]
          },
          "metadata": {
            "tags": []
          },
          "execution_count": 38
        },
        {
          "output_type": "execute_result",
          "data": {
            "text/plain": [
              "30"
            ]
          },
          "metadata": {
            "tags": []
          },
          "execution_count": 38
        },
        {
          "output_type": "execute_result",
          "data": {
            "text/plain": [
              "30"
            ]
          },
          "metadata": {
            "tags": []
          },
          "execution_count": 38
        },
        {
          "output_type": "execute_result",
          "data": {
            "text/plain": [
              "30"
            ]
          },
          "metadata": {
            "tags": []
          },
          "execution_count": 38
        },
        {
          "output_type": "execute_result",
          "data": {
            "text/plain": [
              "30"
            ]
          },
          "metadata": {
            "tags": []
          },
          "execution_count": 38
        },
        {
          "output_type": "execute_result",
          "data": {
            "text/plain": [
              "30"
            ]
          },
          "metadata": {
            "tags": []
          },
          "execution_count": 38
        },
        {
          "output_type": "execute_result",
          "data": {
            "text/plain": [
              "30"
            ]
          },
          "metadata": {
            "tags": []
          },
          "execution_count": 38
        },
        {
          "output_type": "execute_result",
          "data": {
            "text/plain": [
              "30"
            ]
          },
          "metadata": {
            "tags": []
          },
          "execution_count": 38
        },
        {
          "output_type": "execute_result",
          "data": {
            "text/plain": [
              "30"
            ]
          },
          "metadata": {
            "tags": []
          },
          "execution_count": 38
        },
        {
          "output_type": "execute_result",
          "data": {
            "text/plain": [
              "30"
            ]
          },
          "metadata": {
            "tags": []
          },
          "execution_count": 38
        },
        {
          "output_type": "execute_result",
          "data": {
            "text/plain": [
              "30"
            ]
          },
          "metadata": {
            "tags": []
          },
          "execution_count": 38
        },
        {
          "output_type": "execute_result",
          "data": {
            "text/plain": [
              "30"
            ]
          },
          "metadata": {
            "tags": []
          },
          "execution_count": 38
        },
        {
          "output_type": "execute_result",
          "data": {
            "text/plain": [
              "30"
            ]
          },
          "metadata": {
            "tags": []
          },
          "execution_count": 38
        },
        {
          "output_type": "execute_result",
          "data": {
            "text/plain": [
              "30"
            ]
          },
          "metadata": {
            "tags": []
          },
          "execution_count": 38
        },
        {
          "output_type": "execute_result",
          "data": {
            "text/plain": [
              "30"
            ]
          },
          "metadata": {
            "tags": []
          },
          "execution_count": 38
        },
        {
          "output_type": "execute_result",
          "data": {
            "text/plain": [
              "30"
            ]
          },
          "metadata": {
            "tags": []
          },
          "execution_count": 38
        },
        {
          "output_type": "execute_result",
          "data": {
            "text/plain": [
              "30"
            ]
          },
          "metadata": {
            "tags": []
          },
          "execution_count": 38
        },
        {
          "output_type": "execute_result",
          "data": {
            "text/plain": [
              "30"
            ]
          },
          "metadata": {
            "tags": []
          },
          "execution_count": 38
        },
        {
          "output_type": "execute_result",
          "data": {
            "text/plain": [
              "30"
            ]
          },
          "metadata": {
            "tags": []
          },
          "execution_count": 38
        },
        {
          "output_type": "execute_result",
          "data": {
            "text/plain": [
              "30"
            ]
          },
          "metadata": {
            "tags": []
          },
          "execution_count": 38
        },
        {
          "output_type": "execute_result",
          "data": {
            "text/plain": [
              "30"
            ]
          },
          "metadata": {
            "tags": []
          },
          "execution_count": 38
        },
        {
          "output_type": "execute_result",
          "data": {
            "text/plain": [
              "30"
            ]
          },
          "metadata": {
            "tags": []
          },
          "execution_count": 38
        },
        {
          "output_type": "execute_result",
          "data": {
            "text/plain": [
              "30"
            ]
          },
          "metadata": {
            "tags": []
          },
          "execution_count": 38
        },
        {
          "output_type": "execute_result",
          "data": {
            "text/plain": [
              "30"
            ]
          },
          "metadata": {
            "tags": []
          },
          "execution_count": 38
        },
        {
          "output_type": "execute_result",
          "data": {
            "text/plain": [
              "30"
            ]
          },
          "metadata": {
            "tags": []
          },
          "execution_count": 38
        },
        {
          "output_type": "execute_result",
          "data": {
            "text/plain": [
              "30"
            ]
          },
          "metadata": {
            "tags": []
          },
          "execution_count": 38
        },
        {
          "output_type": "execute_result",
          "data": {
            "text/plain": [
              "30"
            ]
          },
          "metadata": {
            "tags": []
          },
          "execution_count": 38
        },
        {
          "output_type": "execute_result",
          "data": {
            "text/plain": [
              "30"
            ]
          },
          "metadata": {
            "tags": []
          },
          "execution_count": 38
        },
        {
          "output_type": "execute_result",
          "data": {
            "text/plain": [
              "30"
            ]
          },
          "metadata": {
            "tags": []
          },
          "execution_count": 38
        },
        {
          "output_type": "execute_result",
          "data": {
            "text/plain": [
              "30"
            ]
          },
          "metadata": {
            "tags": []
          },
          "execution_count": 38
        },
        {
          "output_type": "execute_result",
          "data": {
            "text/plain": [
              "30"
            ]
          },
          "metadata": {
            "tags": []
          },
          "execution_count": 38
        },
        {
          "output_type": "execute_result",
          "data": {
            "text/plain": [
              "30"
            ]
          },
          "metadata": {
            "tags": []
          },
          "execution_count": 38
        },
        {
          "output_type": "execute_result",
          "data": {
            "text/plain": [
              "30"
            ]
          },
          "metadata": {
            "tags": []
          },
          "execution_count": 38
        },
        {
          "output_type": "execute_result",
          "data": {
            "text/plain": [
              "30"
            ]
          },
          "metadata": {
            "tags": []
          },
          "execution_count": 38
        },
        {
          "output_type": "execute_result",
          "data": {
            "text/plain": [
              "30"
            ]
          },
          "metadata": {
            "tags": []
          },
          "execution_count": 38
        },
        {
          "output_type": "execute_result",
          "data": {
            "text/plain": [
              "30"
            ]
          },
          "metadata": {
            "tags": []
          },
          "execution_count": 38
        },
        {
          "output_type": "execute_result",
          "data": {
            "text/plain": [
              "30"
            ]
          },
          "metadata": {
            "tags": []
          },
          "execution_count": 38
        },
        {
          "output_type": "execute_result",
          "data": {
            "text/plain": [
              "30"
            ]
          },
          "metadata": {
            "tags": []
          },
          "execution_count": 38
        },
        {
          "output_type": "execute_result",
          "data": {
            "text/plain": [
              "30"
            ]
          },
          "metadata": {
            "tags": []
          },
          "execution_count": 38
        },
        {
          "output_type": "execute_result",
          "data": {
            "text/plain": [
              "30"
            ]
          },
          "metadata": {
            "tags": []
          },
          "execution_count": 38
        },
        {
          "output_type": "execute_result",
          "data": {
            "text/plain": [
              "30"
            ]
          },
          "metadata": {
            "tags": []
          },
          "execution_count": 38
        },
        {
          "output_type": "execute_result",
          "data": {
            "text/plain": [
              "30"
            ]
          },
          "metadata": {
            "tags": []
          },
          "execution_count": 38
        },
        {
          "output_type": "execute_result",
          "data": {
            "text/plain": [
              "30"
            ]
          },
          "metadata": {
            "tags": []
          },
          "execution_count": 38
        },
        {
          "output_type": "execute_result",
          "data": {
            "text/plain": [
              "30"
            ]
          },
          "metadata": {
            "tags": []
          },
          "execution_count": 38
        },
        {
          "output_type": "execute_result",
          "data": {
            "text/plain": [
              "30"
            ]
          },
          "metadata": {
            "tags": []
          },
          "execution_count": 38
        },
        {
          "output_type": "execute_result",
          "data": {
            "text/plain": [
              "30"
            ]
          },
          "metadata": {
            "tags": []
          },
          "execution_count": 38
        },
        {
          "output_type": "execute_result",
          "data": {
            "text/plain": [
              "30"
            ]
          },
          "metadata": {
            "tags": []
          },
          "execution_count": 38
        },
        {
          "output_type": "execute_result",
          "data": {
            "text/plain": [
              "30"
            ]
          },
          "metadata": {
            "tags": []
          },
          "execution_count": 38
        },
        {
          "output_type": "execute_result",
          "data": {
            "text/plain": [
              "30"
            ]
          },
          "metadata": {
            "tags": []
          },
          "execution_count": 38
        },
        {
          "output_type": "execute_result",
          "data": {
            "text/plain": [
              "30"
            ]
          },
          "metadata": {
            "tags": []
          },
          "execution_count": 38
        },
        {
          "output_type": "execute_result",
          "data": {
            "text/plain": [
              "30"
            ]
          },
          "metadata": {
            "tags": []
          },
          "execution_count": 38
        },
        {
          "output_type": "execute_result",
          "data": {
            "text/plain": [
              "30"
            ]
          },
          "metadata": {
            "tags": []
          },
          "execution_count": 38
        },
        {
          "output_type": "execute_result",
          "data": {
            "text/plain": [
              "30"
            ]
          },
          "metadata": {
            "tags": []
          },
          "execution_count": 38
        },
        {
          "output_type": "execute_result",
          "data": {
            "text/plain": [
              "30"
            ]
          },
          "metadata": {
            "tags": []
          },
          "execution_count": 38
        },
        {
          "output_type": "execute_result",
          "data": {
            "text/plain": [
              "30"
            ]
          },
          "metadata": {
            "tags": []
          },
          "execution_count": 38
        },
        {
          "output_type": "execute_result",
          "data": {
            "text/plain": [
              "30"
            ]
          },
          "metadata": {
            "tags": []
          },
          "execution_count": 38
        },
        {
          "output_type": "execute_result",
          "data": {
            "text/plain": [
              "30"
            ]
          },
          "metadata": {
            "tags": []
          },
          "execution_count": 38
        },
        {
          "output_type": "execute_result",
          "data": {
            "text/plain": [
              "30"
            ]
          },
          "metadata": {
            "tags": []
          },
          "execution_count": 38
        },
        {
          "output_type": "execute_result",
          "data": {
            "text/plain": [
              "30"
            ]
          },
          "metadata": {
            "tags": []
          },
          "execution_count": 38
        },
        {
          "output_type": "execute_result",
          "data": {
            "text/plain": [
              "30"
            ]
          },
          "metadata": {
            "tags": []
          },
          "execution_count": 38
        },
        {
          "output_type": "execute_result",
          "data": {
            "text/plain": [
              "30"
            ]
          },
          "metadata": {
            "tags": []
          },
          "execution_count": 38
        },
        {
          "output_type": "execute_result",
          "data": {
            "text/plain": [
              "30"
            ]
          },
          "metadata": {
            "tags": []
          },
          "execution_count": 38
        },
        {
          "output_type": "execute_result",
          "data": {
            "text/plain": [
              "30"
            ]
          },
          "metadata": {
            "tags": []
          },
          "execution_count": 38
        },
        {
          "output_type": "execute_result",
          "data": {
            "text/plain": [
              "30"
            ]
          },
          "metadata": {
            "tags": []
          },
          "execution_count": 38
        },
        {
          "output_type": "execute_result",
          "data": {
            "text/plain": [
              "30"
            ]
          },
          "metadata": {
            "tags": []
          },
          "execution_count": 38
        },
        {
          "output_type": "execute_result",
          "data": {
            "text/plain": [
              "30"
            ]
          },
          "metadata": {
            "tags": []
          },
          "execution_count": 38
        },
        {
          "output_type": "execute_result",
          "data": {
            "text/plain": [
              "30"
            ]
          },
          "metadata": {
            "tags": []
          },
          "execution_count": 38
        },
        {
          "output_type": "execute_result",
          "data": {
            "text/plain": [
              "30"
            ]
          },
          "metadata": {
            "tags": []
          },
          "execution_count": 38
        },
        {
          "output_type": "execute_result",
          "data": {
            "text/plain": [
              "30"
            ]
          },
          "metadata": {
            "tags": []
          },
          "execution_count": 38
        },
        {
          "output_type": "execute_result",
          "data": {
            "text/plain": [
              "30"
            ]
          },
          "metadata": {
            "tags": []
          },
          "execution_count": 38
        },
        {
          "output_type": "execute_result",
          "data": {
            "text/plain": [
              "30"
            ]
          },
          "metadata": {
            "tags": []
          },
          "execution_count": 38
        },
        {
          "output_type": "execute_result",
          "data": {
            "text/plain": [
              "30"
            ]
          },
          "metadata": {
            "tags": []
          },
          "execution_count": 38
        },
        {
          "output_type": "execute_result",
          "data": {
            "text/plain": [
              "30"
            ]
          },
          "metadata": {
            "tags": []
          },
          "execution_count": 38
        },
        {
          "output_type": "execute_result",
          "data": {
            "text/plain": [
              "30"
            ]
          },
          "metadata": {
            "tags": []
          },
          "execution_count": 38
        },
        {
          "output_type": "execute_result",
          "data": {
            "text/plain": [
              "30"
            ]
          },
          "metadata": {
            "tags": []
          },
          "execution_count": 38
        },
        {
          "output_type": "execute_result",
          "data": {
            "text/plain": [
              "30"
            ]
          },
          "metadata": {
            "tags": []
          },
          "execution_count": 38
        },
        {
          "output_type": "execute_result",
          "data": {
            "text/plain": [
              "30"
            ]
          },
          "metadata": {
            "tags": []
          },
          "execution_count": 38
        },
        {
          "output_type": "execute_result",
          "data": {
            "text/plain": [
              "30"
            ]
          },
          "metadata": {
            "tags": []
          },
          "execution_count": 38
        },
        {
          "output_type": "execute_result",
          "data": {
            "text/plain": [
              "30"
            ]
          },
          "metadata": {
            "tags": []
          },
          "execution_count": 38
        },
        {
          "output_type": "execute_result",
          "data": {
            "text/plain": [
              "30"
            ]
          },
          "metadata": {
            "tags": []
          },
          "execution_count": 38
        },
        {
          "output_type": "execute_result",
          "data": {
            "text/plain": [
              "30"
            ]
          },
          "metadata": {
            "tags": []
          },
          "execution_count": 38
        },
        {
          "output_type": "execute_result",
          "data": {
            "text/plain": [
              "30"
            ]
          },
          "metadata": {
            "tags": []
          },
          "execution_count": 38
        },
        {
          "output_type": "execute_result",
          "data": {
            "text/plain": [
              "30"
            ]
          },
          "metadata": {
            "tags": []
          },
          "execution_count": 38
        },
        {
          "output_type": "execute_result",
          "data": {
            "text/plain": [
              "30"
            ]
          },
          "metadata": {
            "tags": []
          },
          "execution_count": 38
        },
        {
          "output_type": "execute_result",
          "data": {
            "text/plain": [
              "30"
            ]
          },
          "metadata": {
            "tags": []
          },
          "execution_count": 38
        },
        {
          "output_type": "execute_result",
          "data": {
            "text/plain": [
              "30"
            ]
          },
          "metadata": {
            "tags": []
          },
          "execution_count": 38
        },
        {
          "output_type": "execute_result",
          "data": {
            "text/plain": [
              "30"
            ]
          },
          "metadata": {
            "tags": []
          },
          "execution_count": 38
        },
        {
          "output_type": "execute_result",
          "data": {
            "text/plain": [
              "30"
            ]
          },
          "metadata": {
            "tags": []
          },
          "execution_count": 38
        },
        {
          "output_type": "execute_result",
          "data": {
            "text/plain": [
              "30"
            ]
          },
          "metadata": {
            "tags": []
          },
          "execution_count": 38
        },
        {
          "output_type": "execute_result",
          "data": {
            "text/plain": [
              "30"
            ]
          },
          "metadata": {
            "tags": []
          },
          "execution_count": 38
        },
        {
          "output_type": "execute_result",
          "data": {
            "text/plain": [
              "30"
            ]
          },
          "metadata": {
            "tags": []
          },
          "execution_count": 38
        },
        {
          "output_type": "execute_result",
          "data": {
            "text/plain": [
              "30"
            ]
          },
          "metadata": {
            "tags": []
          },
          "execution_count": 38
        },
        {
          "output_type": "execute_result",
          "data": {
            "text/plain": [
              "30"
            ]
          },
          "metadata": {
            "tags": []
          },
          "execution_count": 38
        },
        {
          "output_type": "execute_result",
          "data": {
            "text/plain": [
              "30"
            ]
          },
          "metadata": {
            "tags": []
          },
          "execution_count": 38
        },
        {
          "output_type": "execute_result",
          "data": {
            "text/plain": [
              "30"
            ]
          },
          "metadata": {
            "tags": []
          },
          "execution_count": 38
        },
        {
          "output_type": "execute_result",
          "data": {
            "text/plain": [
              "30"
            ]
          },
          "metadata": {
            "tags": []
          },
          "execution_count": 38
        },
        {
          "output_type": "execute_result",
          "data": {
            "text/plain": [
              "30"
            ]
          },
          "metadata": {
            "tags": []
          },
          "execution_count": 38
        },
        {
          "output_type": "execute_result",
          "data": {
            "text/plain": [
              "30"
            ]
          },
          "metadata": {
            "tags": []
          },
          "execution_count": 38
        },
        {
          "output_type": "execute_result",
          "data": {
            "text/plain": [
              "30"
            ]
          },
          "metadata": {
            "tags": []
          },
          "execution_count": 38
        },
        {
          "output_type": "execute_result",
          "data": {
            "text/plain": [
              "30"
            ]
          },
          "metadata": {
            "tags": []
          },
          "execution_count": 38
        },
        {
          "output_type": "execute_result",
          "data": {
            "text/plain": [
              "30"
            ]
          },
          "metadata": {
            "tags": []
          },
          "execution_count": 38
        },
        {
          "output_type": "execute_result",
          "data": {
            "text/plain": [
              "30"
            ]
          },
          "metadata": {
            "tags": []
          },
          "execution_count": 38
        },
        {
          "output_type": "execute_result",
          "data": {
            "text/plain": [
              "30"
            ]
          },
          "metadata": {
            "tags": []
          },
          "execution_count": 38
        },
        {
          "output_type": "execute_result",
          "data": {
            "text/plain": [
              "30"
            ]
          },
          "metadata": {
            "tags": []
          },
          "execution_count": 38
        },
        {
          "output_type": "execute_result",
          "data": {
            "text/plain": [
              "30"
            ]
          },
          "metadata": {
            "tags": []
          },
          "execution_count": 38
        },
        {
          "output_type": "execute_result",
          "data": {
            "text/plain": [
              "30"
            ]
          },
          "metadata": {
            "tags": []
          },
          "execution_count": 38
        },
        {
          "output_type": "execute_result",
          "data": {
            "text/plain": [
              "30"
            ]
          },
          "metadata": {
            "tags": []
          },
          "execution_count": 38
        },
        {
          "output_type": "execute_result",
          "data": {
            "text/plain": [
              "30"
            ]
          },
          "metadata": {
            "tags": []
          },
          "execution_count": 38
        },
        {
          "output_type": "execute_result",
          "data": {
            "text/plain": [
              "30"
            ]
          },
          "metadata": {
            "tags": []
          },
          "execution_count": 38
        },
        {
          "output_type": "execute_result",
          "data": {
            "text/plain": [
              "30"
            ]
          },
          "metadata": {
            "tags": []
          },
          "execution_count": 38
        },
        {
          "output_type": "execute_result",
          "data": {
            "text/plain": [
              "30"
            ]
          },
          "metadata": {
            "tags": []
          },
          "execution_count": 38
        },
        {
          "output_type": "execute_result",
          "data": {
            "text/plain": [
              "30"
            ]
          },
          "metadata": {
            "tags": []
          },
          "execution_count": 38
        },
        {
          "output_type": "execute_result",
          "data": {
            "text/plain": [
              "30"
            ]
          },
          "metadata": {
            "tags": []
          },
          "execution_count": 38
        },
        {
          "output_type": "execute_result",
          "data": {
            "text/plain": [
              "30"
            ]
          },
          "metadata": {
            "tags": []
          },
          "execution_count": 38
        },
        {
          "output_type": "execute_result",
          "data": {
            "text/plain": [
              "30"
            ]
          },
          "metadata": {
            "tags": []
          },
          "execution_count": 38
        },
        {
          "output_type": "execute_result",
          "data": {
            "text/plain": [
              "30"
            ]
          },
          "metadata": {
            "tags": []
          },
          "execution_count": 38
        },
        {
          "output_type": "execute_result",
          "data": {
            "text/plain": [
              "30"
            ]
          },
          "metadata": {
            "tags": []
          },
          "execution_count": 38
        },
        {
          "output_type": "execute_result",
          "data": {
            "text/plain": [
              "30"
            ]
          },
          "metadata": {
            "tags": []
          },
          "execution_count": 38
        },
        {
          "output_type": "execute_result",
          "data": {
            "text/plain": [
              "30"
            ]
          },
          "metadata": {
            "tags": []
          },
          "execution_count": 38
        },
        {
          "output_type": "execute_result",
          "data": {
            "text/plain": [
              "30"
            ]
          },
          "metadata": {
            "tags": []
          },
          "execution_count": 38
        },
        {
          "output_type": "execute_result",
          "data": {
            "text/plain": [
              "30"
            ]
          },
          "metadata": {
            "tags": []
          },
          "execution_count": 38
        },
        {
          "output_type": "execute_result",
          "data": {
            "text/plain": [
              "30"
            ]
          },
          "metadata": {
            "tags": []
          },
          "execution_count": 38
        },
        {
          "output_type": "execute_result",
          "data": {
            "text/plain": [
              "30"
            ]
          },
          "metadata": {
            "tags": []
          },
          "execution_count": 38
        },
        {
          "output_type": "execute_result",
          "data": {
            "text/plain": [
              "30"
            ]
          },
          "metadata": {
            "tags": []
          },
          "execution_count": 38
        },
        {
          "output_type": "execute_result",
          "data": {
            "text/plain": [
              "30"
            ]
          },
          "metadata": {
            "tags": []
          },
          "execution_count": 38
        },
        {
          "output_type": "execute_result",
          "data": {
            "text/plain": [
              "30"
            ]
          },
          "metadata": {
            "tags": []
          },
          "execution_count": 38
        },
        {
          "output_type": "execute_result",
          "data": {
            "text/plain": [
              "30"
            ]
          },
          "metadata": {
            "tags": []
          },
          "execution_count": 38
        },
        {
          "output_type": "execute_result",
          "data": {
            "text/plain": [
              "30"
            ]
          },
          "metadata": {
            "tags": []
          },
          "execution_count": 38
        },
        {
          "output_type": "execute_result",
          "data": {
            "text/plain": [
              "30"
            ]
          },
          "metadata": {
            "tags": []
          },
          "execution_count": 38
        },
        {
          "output_type": "execute_result",
          "data": {
            "text/plain": [
              "30"
            ]
          },
          "metadata": {
            "tags": []
          },
          "execution_count": 38
        },
        {
          "output_type": "execute_result",
          "data": {
            "text/plain": [
              "30"
            ]
          },
          "metadata": {
            "tags": []
          },
          "execution_count": 38
        },
        {
          "output_type": "execute_result",
          "data": {
            "text/plain": [
              "30"
            ]
          },
          "metadata": {
            "tags": []
          },
          "execution_count": 38
        },
        {
          "output_type": "execute_result",
          "data": {
            "text/plain": [
              "30"
            ]
          },
          "metadata": {
            "tags": []
          },
          "execution_count": 38
        },
        {
          "output_type": "execute_result",
          "data": {
            "text/plain": [
              "30"
            ]
          },
          "metadata": {
            "tags": []
          },
          "execution_count": 38
        },
        {
          "output_type": "execute_result",
          "data": {
            "text/plain": [
              "30"
            ]
          },
          "metadata": {
            "tags": []
          },
          "execution_count": 38
        },
        {
          "output_type": "execute_result",
          "data": {
            "text/plain": [
              "30"
            ]
          },
          "metadata": {
            "tags": []
          },
          "execution_count": 38
        },
        {
          "output_type": "execute_result",
          "data": {
            "text/plain": [
              "30"
            ]
          },
          "metadata": {
            "tags": []
          },
          "execution_count": 38
        },
        {
          "output_type": "execute_result",
          "data": {
            "text/plain": [
              "30"
            ]
          },
          "metadata": {
            "tags": []
          },
          "execution_count": 38
        },
        {
          "output_type": "execute_result",
          "data": {
            "text/plain": [
              "30"
            ]
          },
          "metadata": {
            "tags": []
          },
          "execution_count": 38
        },
        {
          "output_type": "execute_result",
          "data": {
            "text/plain": [
              "30"
            ]
          },
          "metadata": {
            "tags": []
          },
          "execution_count": 38
        },
        {
          "output_type": "execute_result",
          "data": {
            "text/plain": [
              "30"
            ]
          },
          "metadata": {
            "tags": []
          },
          "execution_count": 38
        },
        {
          "output_type": "execute_result",
          "data": {
            "text/plain": [
              "30"
            ]
          },
          "metadata": {
            "tags": []
          },
          "execution_count": 38
        },
        {
          "output_type": "execute_result",
          "data": {
            "text/plain": [
              "30"
            ]
          },
          "metadata": {
            "tags": []
          },
          "execution_count": 38
        },
        {
          "output_type": "execute_result",
          "data": {
            "text/plain": [
              "30"
            ]
          },
          "metadata": {
            "tags": []
          },
          "execution_count": 38
        },
        {
          "output_type": "execute_result",
          "data": {
            "text/plain": [
              "30"
            ]
          },
          "metadata": {
            "tags": []
          },
          "execution_count": 38
        },
        {
          "output_type": "execute_result",
          "data": {
            "text/plain": [
              "30"
            ]
          },
          "metadata": {
            "tags": []
          },
          "execution_count": 38
        },
        {
          "output_type": "execute_result",
          "data": {
            "text/plain": [
              "30"
            ]
          },
          "metadata": {
            "tags": []
          },
          "execution_count": 38
        },
        {
          "output_type": "execute_result",
          "data": {
            "text/plain": [
              "30"
            ]
          },
          "metadata": {
            "tags": []
          },
          "execution_count": 38
        },
        {
          "output_type": "execute_result",
          "data": {
            "text/plain": [
              "30"
            ]
          },
          "metadata": {
            "tags": []
          },
          "execution_count": 38
        },
        {
          "output_type": "execute_result",
          "data": {
            "text/plain": [
              "30"
            ]
          },
          "metadata": {
            "tags": []
          },
          "execution_count": 38
        },
        {
          "output_type": "execute_result",
          "data": {
            "text/plain": [
              "30"
            ]
          },
          "metadata": {
            "tags": []
          },
          "execution_count": 38
        },
        {
          "output_type": "execute_result",
          "data": {
            "text/plain": [
              "30"
            ]
          },
          "metadata": {
            "tags": []
          },
          "execution_count": 38
        },
        {
          "output_type": "execute_result",
          "data": {
            "text/plain": [
              "30"
            ]
          },
          "metadata": {
            "tags": []
          },
          "execution_count": 38
        },
        {
          "output_type": "execute_result",
          "data": {
            "text/plain": [
              "30"
            ]
          },
          "metadata": {
            "tags": []
          },
          "execution_count": 38
        },
        {
          "output_type": "execute_result",
          "data": {
            "text/plain": [
              "30"
            ]
          },
          "metadata": {
            "tags": []
          },
          "execution_count": 38
        },
        {
          "output_type": "execute_result",
          "data": {
            "text/plain": [
              "30"
            ]
          },
          "metadata": {
            "tags": []
          },
          "execution_count": 38
        },
        {
          "output_type": "execute_result",
          "data": {
            "text/plain": [
              "30"
            ]
          },
          "metadata": {
            "tags": []
          },
          "execution_count": 38
        },
        {
          "output_type": "execute_result",
          "data": {
            "text/plain": [
              "30"
            ]
          },
          "metadata": {
            "tags": []
          },
          "execution_count": 38
        },
        {
          "output_type": "execute_result",
          "data": {
            "text/plain": [
              "30"
            ]
          },
          "metadata": {
            "tags": []
          },
          "execution_count": 38
        },
        {
          "output_type": "execute_result",
          "data": {
            "text/plain": [
              "30"
            ]
          },
          "metadata": {
            "tags": []
          },
          "execution_count": 38
        },
        {
          "output_type": "execute_result",
          "data": {
            "text/plain": [
              "30"
            ]
          },
          "metadata": {
            "tags": []
          },
          "execution_count": 38
        },
        {
          "output_type": "execute_result",
          "data": {
            "text/plain": [
              "30"
            ]
          },
          "metadata": {
            "tags": []
          },
          "execution_count": 38
        },
        {
          "output_type": "execute_result",
          "data": {
            "text/plain": [
              "30"
            ]
          },
          "metadata": {
            "tags": []
          },
          "execution_count": 38
        },
        {
          "output_type": "execute_result",
          "data": {
            "text/plain": [
              "30"
            ]
          },
          "metadata": {
            "tags": []
          },
          "execution_count": 38
        },
        {
          "output_type": "execute_result",
          "data": {
            "text/plain": [
              "30"
            ]
          },
          "metadata": {
            "tags": []
          },
          "execution_count": 38
        },
        {
          "output_type": "execute_result",
          "data": {
            "text/plain": [
              "30"
            ]
          },
          "metadata": {
            "tags": []
          },
          "execution_count": 38
        },
        {
          "output_type": "execute_result",
          "data": {
            "text/plain": [
              "30"
            ]
          },
          "metadata": {
            "tags": []
          },
          "execution_count": 38
        },
        {
          "output_type": "execute_result",
          "data": {
            "text/plain": [
              "30"
            ]
          },
          "metadata": {
            "tags": []
          },
          "execution_count": 38
        },
        {
          "output_type": "execute_result",
          "data": {
            "text/plain": [
              "30"
            ]
          },
          "metadata": {
            "tags": []
          },
          "execution_count": 38
        },
        {
          "output_type": "execute_result",
          "data": {
            "text/plain": [
              "30"
            ]
          },
          "metadata": {
            "tags": []
          },
          "execution_count": 38
        },
        {
          "output_type": "execute_result",
          "data": {
            "text/plain": [
              "30"
            ]
          },
          "metadata": {
            "tags": []
          },
          "execution_count": 38
        },
        {
          "output_type": "execute_result",
          "data": {
            "text/plain": [
              "30"
            ]
          },
          "metadata": {
            "tags": []
          },
          "execution_count": 38
        },
        {
          "output_type": "execute_result",
          "data": {
            "text/plain": [
              "30"
            ]
          },
          "metadata": {
            "tags": []
          },
          "execution_count": 38
        },
        {
          "output_type": "execute_result",
          "data": {
            "text/plain": [
              "30"
            ]
          },
          "metadata": {
            "tags": []
          },
          "execution_count": 38
        },
        {
          "output_type": "execute_result",
          "data": {
            "text/plain": [
              "30"
            ]
          },
          "metadata": {
            "tags": []
          },
          "execution_count": 38
        },
        {
          "output_type": "execute_result",
          "data": {
            "text/plain": [
              "30"
            ]
          },
          "metadata": {
            "tags": []
          },
          "execution_count": 38
        },
        {
          "output_type": "execute_result",
          "data": {
            "text/plain": [
              "30"
            ]
          },
          "metadata": {
            "tags": []
          },
          "execution_count": 38
        },
        {
          "output_type": "execute_result",
          "data": {
            "text/plain": [
              "30"
            ]
          },
          "metadata": {
            "tags": []
          },
          "execution_count": 38
        },
        {
          "output_type": "execute_result",
          "data": {
            "text/plain": [
              "30"
            ]
          },
          "metadata": {
            "tags": []
          },
          "execution_count": 38
        },
        {
          "output_type": "execute_result",
          "data": {
            "text/plain": [
              "30"
            ]
          },
          "metadata": {
            "tags": []
          },
          "execution_count": 38
        },
        {
          "output_type": "execute_result",
          "data": {
            "text/plain": [
              "30"
            ]
          },
          "metadata": {
            "tags": []
          },
          "execution_count": 38
        },
        {
          "output_type": "execute_result",
          "data": {
            "text/plain": [
              "30"
            ]
          },
          "metadata": {
            "tags": []
          },
          "execution_count": 38
        },
        {
          "output_type": "execute_result",
          "data": {
            "text/plain": [
              "30"
            ]
          },
          "metadata": {
            "tags": []
          },
          "execution_count": 38
        },
        {
          "output_type": "execute_result",
          "data": {
            "text/plain": [
              "30"
            ]
          },
          "metadata": {
            "tags": []
          },
          "execution_count": 38
        },
        {
          "output_type": "execute_result",
          "data": {
            "text/plain": [
              "30"
            ]
          },
          "metadata": {
            "tags": []
          },
          "execution_count": 38
        },
        {
          "output_type": "execute_result",
          "data": {
            "text/plain": [
              "30"
            ]
          },
          "metadata": {
            "tags": []
          },
          "execution_count": 38
        },
        {
          "output_type": "execute_result",
          "data": {
            "text/plain": [
              "30"
            ]
          },
          "metadata": {
            "tags": []
          },
          "execution_count": 38
        },
        {
          "output_type": "execute_result",
          "data": {
            "text/plain": [
              "30"
            ]
          },
          "metadata": {
            "tags": []
          },
          "execution_count": 38
        },
        {
          "output_type": "execute_result",
          "data": {
            "text/plain": [
              "30"
            ]
          },
          "metadata": {
            "tags": []
          },
          "execution_count": 38
        },
        {
          "output_type": "execute_result",
          "data": {
            "text/plain": [
              "30"
            ]
          },
          "metadata": {
            "tags": []
          },
          "execution_count": 38
        },
        {
          "output_type": "execute_result",
          "data": {
            "text/plain": [
              "30"
            ]
          },
          "metadata": {
            "tags": []
          },
          "execution_count": 38
        },
        {
          "output_type": "execute_result",
          "data": {
            "text/plain": [
              "30"
            ]
          },
          "metadata": {
            "tags": []
          },
          "execution_count": 38
        },
        {
          "output_type": "execute_result",
          "data": {
            "text/plain": [
              "30"
            ]
          },
          "metadata": {
            "tags": []
          },
          "execution_count": 38
        },
        {
          "output_type": "execute_result",
          "data": {
            "text/plain": [
              "30"
            ]
          },
          "metadata": {
            "tags": []
          },
          "execution_count": 38
        },
        {
          "output_type": "execute_result",
          "data": {
            "text/plain": [
              "30"
            ]
          },
          "metadata": {
            "tags": []
          },
          "execution_count": 38
        },
        {
          "output_type": "execute_result",
          "data": {
            "text/plain": [
              "30"
            ]
          },
          "metadata": {
            "tags": []
          },
          "execution_count": 38
        },
        {
          "output_type": "execute_result",
          "data": {
            "text/plain": [
              "30"
            ]
          },
          "metadata": {
            "tags": []
          },
          "execution_count": 38
        },
        {
          "output_type": "execute_result",
          "data": {
            "text/plain": [
              "30"
            ]
          },
          "metadata": {
            "tags": []
          },
          "execution_count": 38
        },
        {
          "output_type": "execute_result",
          "data": {
            "text/plain": [
              "30"
            ]
          },
          "metadata": {
            "tags": []
          },
          "execution_count": 38
        },
        {
          "output_type": "execute_result",
          "data": {
            "text/plain": [
              "30"
            ]
          },
          "metadata": {
            "tags": []
          },
          "execution_count": 38
        },
        {
          "output_type": "execute_result",
          "data": {
            "text/plain": [
              "30"
            ]
          },
          "metadata": {
            "tags": []
          },
          "execution_count": 38
        },
        {
          "output_type": "execute_result",
          "data": {
            "text/plain": [
              "30"
            ]
          },
          "metadata": {
            "tags": []
          },
          "execution_count": 38
        },
        {
          "output_type": "execute_result",
          "data": {
            "text/plain": [
              "30"
            ]
          },
          "metadata": {
            "tags": []
          },
          "execution_count": 38
        },
        {
          "output_type": "execute_result",
          "data": {
            "text/plain": [
              "30"
            ]
          },
          "metadata": {
            "tags": []
          },
          "execution_count": 38
        },
        {
          "output_type": "execute_result",
          "data": {
            "text/plain": [
              "30"
            ]
          },
          "metadata": {
            "tags": []
          },
          "execution_count": 38
        },
        {
          "output_type": "execute_result",
          "data": {
            "text/plain": [
              "30"
            ]
          },
          "metadata": {
            "tags": []
          },
          "execution_count": 38
        },
        {
          "output_type": "execute_result",
          "data": {
            "text/plain": [
              "30"
            ]
          },
          "metadata": {
            "tags": []
          },
          "execution_count": 38
        },
        {
          "output_type": "execute_result",
          "data": {
            "text/plain": [
              "30"
            ]
          },
          "metadata": {
            "tags": []
          },
          "execution_count": 38
        },
        {
          "output_type": "execute_result",
          "data": {
            "text/plain": [
              "30"
            ]
          },
          "metadata": {
            "tags": []
          },
          "execution_count": 38
        },
        {
          "output_type": "execute_result",
          "data": {
            "text/plain": [
              "30"
            ]
          },
          "metadata": {
            "tags": []
          },
          "execution_count": 38
        },
        {
          "output_type": "execute_result",
          "data": {
            "text/plain": [
              "30"
            ]
          },
          "metadata": {
            "tags": []
          },
          "execution_count": 38
        },
        {
          "output_type": "execute_result",
          "data": {
            "text/plain": [
              "30"
            ]
          },
          "metadata": {
            "tags": []
          },
          "execution_count": 38
        },
        {
          "output_type": "execute_result",
          "data": {
            "text/plain": [
              "30"
            ]
          },
          "metadata": {
            "tags": []
          },
          "execution_count": 38
        },
        {
          "output_type": "execute_result",
          "data": {
            "text/plain": [
              "30"
            ]
          },
          "metadata": {
            "tags": []
          },
          "execution_count": 38
        },
        {
          "output_type": "execute_result",
          "data": {
            "text/plain": [
              "30"
            ]
          },
          "metadata": {
            "tags": []
          },
          "execution_count": 38
        },
        {
          "output_type": "execute_result",
          "data": {
            "text/plain": [
              "30"
            ]
          },
          "metadata": {
            "tags": []
          },
          "execution_count": 38
        },
        {
          "output_type": "execute_result",
          "data": {
            "text/plain": [
              "30"
            ]
          },
          "metadata": {
            "tags": []
          },
          "execution_count": 38
        },
        {
          "output_type": "execute_result",
          "data": {
            "text/plain": [
              "30"
            ]
          },
          "metadata": {
            "tags": []
          },
          "execution_count": 38
        },
        {
          "output_type": "execute_result",
          "data": {
            "text/plain": [
              "30"
            ]
          },
          "metadata": {
            "tags": []
          },
          "execution_count": 38
        },
        {
          "output_type": "execute_result",
          "data": {
            "text/plain": [
              "30"
            ]
          },
          "metadata": {
            "tags": []
          },
          "execution_count": 38
        },
        {
          "output_type": "execute_result",
          "data": {
            "text/plain": [
              "30"
            ]
          },
          "metadata": {
            "tags": []
          },
          "execution_count": 38
        },
        {
          "output_type": "execute_result",
          "data": {
            "text/plain": [
              "30"
            ]
          },
          "metadata": {
            "tags": []
          },
          "execution_count": 38
        },
        {
          "output_type": "execute_result",
          "data": {
            "text/plain": [
              "30"
            ]
          },
          "metadata": {
            "tags": []
          },
          "execution_count": 38
        },
        {
          "output_type": "execute_result",
          "data": {
            "text/plain": [
              "30"
            ]
          },
          "metadata": {
            "tags": []
          },
          "execution_count": 38
        },
        {
          "output_type": "execute_result",
          "data": {
            "text/plain": [
              "30"
            ]
          },
          "metadata": {
            "tags": []
          },
          "execution_count": 38
        },
        {
          "output_type": "execute_result",
          "data": {
            "text/plain": [
              "30"
            ]
          },
          "metadata": {
            "tags": []
          },
          "execution_count": 38
        },
        {
          "output_type": "execute_result",
          "data": {
            "text/plain": [
              "30"
            ]
          },
          "metadata": {
            "tags": []
          },
          "execution_count": 38
        },
        {
          "output_type": "execute_result",
          "data": {
            "text/plain": [
              "30"
            ]
          },
          "metadata": {
            "tags": []
          },
          "execution_count": 38
        },
        {
          "output_type": "execute_result",
          "data": {
            "text/plain": [
              "30"
            ]
          },
          "metadata": {
            "tags": []
          },
          "execution_count": 38
        },
        {
          "output_type": "execute_result",
          "data": {
            "text/plain": [
              "30"
            ]
          },
          "metadata": {
            "tags": []
          },
          "execution_count": 38
        },
        {
          "output_type": "execute_result",
          "data": {
            "text/plain": [
              "30"
            ]
          },
          "metadata": {
            "tags": []
          },
          "execution_count": 38
        },
        {
          "output_type": "execute_result",
          "data": {
            "text/plain": [
              "30"
            ]
          },
          "metadata": {
            "tags": []
          },
          "execution_count": 38
        },
        {
          "output_type": "execute_result",
          "data": {
            "text/plain": [
              "30"
            ]
          },
          "metadata": {
            "tags": []
          },
          "execution_count": 38
        },
        {
          "output_type": "execute_result",
          "data": {
            "text/plain": [
              "30"
            ]
          },
          "metadata": {
            "tags": []
          },
          "execution_count": 38
        },
        {
          "output_type": "execute_result",
          "data": {
            "text/plain": [
              "30"
            ]
          },
          "metadata": {
            "tags": []
          },
          "execution_count": 38
        },
        {
          "output_type": "execute_result",
          "data": {
            "text/plain": [
              "30"
            ]
          },
          "metadata": {
            "tags": []
          },
          "execution_count": 38
        },
        {
          "output_type": "execute_result",
          "data": {
            "text/plain": [
              "30"
            ]
          },
          "metadata": {
            "tags": []
          },
          "execution_count": 38
        },
        {
          "output_type": "execute_result",
          "data": {
            "text/plain": [
              "30"
            ]
          },
          "metadata": {
            "tags": []
          },
          "execution_count": 38
        },
        {
          "output_type": "execute_result",
          "data": {
            "text/plain": [
              "30"
            ]
          },
          "metadata": {
            "tags": []
          },
          "execution_count": 38
        },
        {
          "output_type": "execute_result",
          "data": {
            "text/plain": [
              "30"
            ]
          },
          "metadata": {
            "tags": []
          },
          "execution_count": 38
        },
        {
          "output_type": "execute_result",
          "data": {
            "text/plain": [
              "30"
            ]
          },
          "metadata": {
            "tags": []
          },
          "execution_count": 38
        },
        {
          "output_type": "execute_result",
          "data": {
            "text/plain": [
              "30"
            ]
          },
          "metadata": {
            "tags": []
          },
          "execution_count": 38
        },
        {
          "output_type": "execute_result",
          "data": {
            "text/plain": [
              "30"
            ]
          },
          "metadata": {
            "tags": []
          },
          "execution_count": 38
        },
        {
          "output_type": "execute_result",
          "data": {
            "text/plain": [
              "30"
            ]
          },
          "metadata": {
            "tags": []
          },
          "execution_count": 38
        },
        {
          "output_type": "execute_result",
          "data": {
            "text/plain": [
              "30"
            ]
          },
          "metadata": {
            "tags": []
          },
          "execution_count": 38
        },
        {
          "output_type": "execute_result",
          "data": {
            "text/plain": [
              "30"
            ]
          },
          "metadata": {
            "tags": []
          },
          "execution_count": 38
        },
        {
          "output_type": "execute_result",
          "data": {
            "text/plain": [
              "30"
            ]
          },
          "metadata": {
            "tags": []
          },
          "execution_count": 38
        },
        {
          "output_type": "execute_result",
          "data": {
            "text/plain": [
              "30"
            ]
          },
          "metadata": {
            "tags": []
          },
          "execution_count": 38
        },
        {
          "output_type": "execute_result",
          "data": {
            "text/plain": [
              "30"
            ]
          },
          "metadata": {
            "tags": []
          },
          "execution_count": 38
        },
        {
          "output_type": "execute_result",
          "data": {
            "text/plain": [
              "30"
            ]
          },
          "metadata": {
            "tags": []
          },
          "execution_count": 38
        },
        {
          "output_type": "execute_result",
          "data": {
            "text/plain": [
              "30"
            ]
          },
          "metadata": {
            "tags": []
          },
          "execution_count": 38
        },
        {
          "output_type": "execute_result",
          "data": {
            "text/plain": [
              "30"
            ]
          },
          "metadata": {
            "tags": []
          },
          "execution_count": 38
        },
        {
          "output_type": "execute_result",
          "data": {
            "text/plain": [
              "30"
            ]
          },
          "metadata": {
            "tags": []
          },
          "execution_count": 38
        },
        {
          "output_type": "execute_result",
          "data": {
            "text/plain": [
              "30"
            ]
          },
          "metadata": {
            "tags": []
          },
          "execution_count": 38
        },
        {
          "output_type": "execute_result",
          "data": {
            "text/plain": [
              "30"
            ]
          },
          "metadata": {
            "tags": []
          },
          "execution_count": 38
        },
        {
          "output_type": "execute_result",
          "data": {
            "text/plain": [
              "30"
            ]
          },
          "metadata": {
            "tags": []
          },
          "execution_count": 38
        },
        {
          "output_type": "execute_result",
          "data": {
            "text/plain": [
              "30"
            ]
          },
          "metadata": {
            "tags": []
          },
          "execution_count": 38
        },
        {
          "output_type": "execute_result",
          "data": {
            "text/plain": [
              "30"
            ]
          },
          "metadata": {
            "tags": []
          },
          "execution_count": 38
        },
        {
          "output_type": "execute_result",
          "data": {
            "text/plain": [
              "30"
            ]
          },
          "metadata": {
            "tags": []
          },
          "execution_count": 38
        },
        {
          "output_type": "execute_result",
          "data": {
            "text/plain": [
              "30"
            ]
          },
          "metadata": {
            "tags": []
          },
          "execution_count": 38
        },
        {
          "output_type": "execute_result",
          "data": {
            "text/plain": [
              "30"
            ]
          },
          "metadata": {
            "tags": []
          },
          "execution_count": 38
        },
        {
          "output_type": "execute_result",
          "data": {
            "text/plain": [
              "30"
            ]
          },
          "metadata": {
            "tags": []
          },
          "execution_count": 38
        },
        {
          "output_type": "execute_result",
          "data": {
            "text/plain": [
              "30"
            ]
          },
          "metadata": {
            "tags": []
          },
          "execution_count": 38
        },
        {
          "output_type": "execute_result",
          "data": {
            "text/plain": [
              "30"
            ]
          },
          "metadata": {
            "tags": []
          },
          "execution_count": 38
        },
        {
          "output_type": "execute_result",
          "data": {
            "text/plain": [
              "30"
            ]
          },
          "metadata": {
            "tags": []
          },
          "execution_count": 38
        },
        {
          "output_type": "execute_result",
          "data": {
            "text/plain": [
              "30"
            ]
          },
          "metadata": {
            "tags": []
          },
          "execution_count": 38
        },
        {
          "output_type": "execute_result",
          "data": {
            "text/plain": [
              "30"
            ]
          },
          "metadata": {
            "tags": []
          },
          "execution_count": 38
        },
        {
          "output_type": "execute_result",
          "data": {
            "text/plain": [
              "30"
            ]
          },
          "metadata": {
            "tags": []
          },
          "execution_count": 38
        },
        {
          "output_type": "execute_result",
          "data": {
            "text/plain": [
              "30"
            ]
          },
          "metadata": {
            "tags": []
          },
          "execution_count": 38
        },
        {
          "output_type": "execute_result",
          "data": {
            "text/plain": [
              "30"
            ]
          },
          "metadata": {
            "tags": []
          },
          "execution_count": 38
        },
        {
          "output_type": "execute_result",
          "data": {
            "text/plain": [
              "30"
            ]
          },
          "metadata": {
            "tags": []
          },
          "execution_count": 38
        },
        {
          "output_type": "execute_result",
          "data": {
            "text/plain": [
              "30"
            ]
          },
          "metadata": {
            "tags": []
          },
          "execution_count": 38
        },
        {
          "output_type": "execute_result",
          "data": {
            "text/plain": [
              "30"
            ]
          },
          "metadata": {
            "tags": []
          },
          "execution_count": 38
        },
        {
          "output_type": "execute_result",
          "data": {
            "text/plain": [
              "30"
            ]
          },
          "metadata": {
            "tags": []
          },
          "execution_count": 38
        },
        {
          "output_type": "execute_result",
          "data": {
            "text/plain": [
              "30"
            ]
          },
          "metadata": {
            "tags": []
          },
          "execution_count": 38
        },
        {
          "output_type": "execute_result",
          "data": {
            "text/plain": [
              "30"
            ]
          },
          "metadata": {
            "tags": []
          },
          "execution_count": 38
        },
        {
          "output_type": "execute_result",
          "data": {
            "text/plain": [
              "30"
            ]
          },
          "metadata": {
            "tags": []
          },
          "execution_count": 38
        },
        {
          "output_type": "execute_result",
          "data": {
            "text/plain": [
              "30"
            ]
          },
          "metadata": {
            "tags": []
          },
          "execution_count": 38
        },
        {
          "output_type": "execute_result",
          "data": {
            "text/plain": [
              "30"
            ]
          },
          "metadata": {
            "tags": []
          },
          "execution_count": 38
        },
        {
          "output_type": "execute_result",
          "data": {
            "text/plain": [
              "30"
            ]
          },
          "metadata": {
            "tags": []
          },
          "execution_count": 38
        },
        {
          "output_type": "execute_result",
          "data": {
            "text/plain": [
              "30"
            ]
          },
          "metadata": {
            "tags": []
          },
          "execution_count": 38
        },
        {
          "output_type": "execute_result",
          "data": {
            "text/plain": [
              "30"
            ]
          },
          "metadata": {
            "tags": []
          },
          "execution_count": 38
        },
        {
          "output_type": "execute_result",
          "data": {
            "text/plain": [
              "30"
            ]
          },
          "metadata": {
            "tags": []
          },
          "execution_count": 38
        },
        {
          "output_type": "execute_result",
          "data": {
            "text/plain": [
              "30"
            ]
          },
          "metadata": {
            "tags": []
          },
          "execution_count": 38
        },
        {
          "output_type": "execute_result",
          "data": {
            "text/plain": [
              "30"
            ]
          },
          "metadata": {
            "tags": []
          },
          "execution_count": 38
        },
        {
          "output_type": "execute_result",
          "data": {
            "text/plain": [
              "30"
            ]
          },
          "metadata": {
            "tags": []
          },
          "execution_count": 38
        },
        {
          "output_type": "execute_result",
          "data": {
            "text/plain": [
              "30"
            ]
          },
          "metadata": {
            "tags": []
          },
          "execution_count": 38
        },
        {
          "output_type": "execute_result",
          "data": {
            "text/plain": [
              "30"
            ]
          },
          "metadata": {
            "tags": []
          },
          "execution_count": 38
        },
        {
          "output_type": "execute_result",
          "data": {
            "text/plain": [
              "30"
            ]
          },
          "metadata": {
            "tags": []
          },
          "execution_count": 38
        },
        {
          "output_type": "execute_result",
          "data": {
            "text/plain": [
              "30"
            ]
          },
          "metadata": {
            "tags": []
          },
          "execution_count": 38
        },
        {
          "output_type": "execute_result",
          "data": {
            "text/plain": [
              "30"
            ]
          },
          "metadata": {
            "tags": []
          },
          "execution_count": 38
        },
        {
          "output_type": "execute_result",
          "data": {
            "text/plain": [
              "30"
            ]
          },
          "metadata": {
            "tags": []
          },
          "execution_count": 38
        },
        {
          "output_type": "execute_result",
          "data": {
            "text/plain": [
              "30"
            ]
          },
          "metadata": {
            "tags": []
          },
          "execution_count": 38
        },
        {
          "output_type": "execute_result",
          "data": {
            "text/plain": [
              "30"
            ]
          },
          "metadata": {
            "tags": []
          },
          "execution_count": 38
        },
        {
          "output_type": "execute_result",
          "data": {
            "text/plain": [
              "30"
            ]
          },
          "metadata": {
            "tags": []
          },
          "execution_count": 38
        },
        {
          "output_type": "execute_result",
          "data": {
            "text/plain": [
              "30"
            ]
          },
          "metadata": {
            "tags": []
          },
          "execution_count": 38
        },
        {
          "output_type": "execute_result",
          "data": {
            "text/plain": [
              "30"
            ]
          },
          "metadata": {
            "tags": []
          },
          "execution_count": 38
        },
        {
          "output_type": "execute_result",
          "data": {
            "text/plain": [
              "30"
            ]
          },
          "metadata": {
            "tags": []
          },
          "execution_count": 38
        },
        {
          "output_type": "execute_result",
          "data": {
            "text/plain": [
              "30"
            ]
          },
          "metadata": {
            "tags": []
          },
          "execution_count": 38
        },
        {
          "output_type": "execute_result",
          "data": {
            "text/plain": [
              "30"
            ]
          },
          "metadata": {
            "tags": []
          },
          "execution_count": 38
        },
        {
          "output_type": "execute_result",
          "data": {
            "text/plain": [
              "30"
            ]
          },
          "metadata": {
            "tags": []
          },
          "execution_count": 38
        },
        {
          "output_type": "execute_result",
          "data": {
            "text/plain": [
              "30"
            ]
          },
          "metadata": {
            "tags": []
          },
          "execution_count": 38
        },
        {
          "output_type": "execute_result",
          "data": {
            "text/plain": [
              "30"
            ]
          },
          "metadata": {
            "tags": []
          },
          "execution_count": 38
        },
        {
          "output_type": "execute_result",
          "data": {
            "text/plain": [
              "30"
            ]
          },
          "metadata": {
            "tags": []
          },
          "execution_count": 38
        },
        {
          "output_type": "execute_result",
          "data": {
            "text/plain": [
              "30"
            ]
          },
          "metadata": {
            "tags": []
          },
          "execution_count": 38
        },
        {
          "output_type": "execute_result",
          "data": {
            "text/plain": [
              "30"
            ]
          },
          "metadata": {
            "tags": []
          },
          "execution_count": 38
        },
        {
          "output_type": "execute_result",
          "data": {
            "text/plain": [
              "30"
            ]
          },
          "metadata": {
            "tags": []
          },
          "execution_count": 38
        },
        {
          "output_type": "execute_result",
          "data": {
            "text/plain": [
              "30"
            ]
          },
          "metadata": {
            "tags": []
          },
          "execution_count": 38
        },
        {
          "output_type": "execute_result",
          "data": {
            "text/plain": [
              "30"
            ]
          },
          "metadata": {
            "tags": []
          },
          "execution_count": 38
        },
        {
          "output_type": "execute_result",
          "data": {
            "text/plain": [
              "30"
            ]
          },
          "metadata": {
            "tags": []
          },
          "execution_count": 38
        },
        {
          "output_type": "execute_result",
          "data": {
            "text/plain": [
              "30"
            ]
          },
          "metadata": {
            "tags": []
          },
          "execution_count": 38
        },
        {
          "output_type": "execute_result",
          "data": {
            "text/plain": [
              "30"
            ]
          },
          "metadata": {
            "tags": []
          },
          "execution_count": 38
        },
        {
          "output_type": "execute_result",
          "data": {
            "text/plain": [
              "30"
            ]
          },
          "metadata": {
            "tags": []
          },
          "execution_count": 38
        },
        {
          "output_type": "execute_result",
          "data": {
            "text/plain": [
              "30"
            ]
          },
          "metadata": {
            "tags": []
          },
          "execution_count": 38
        },
        {
          "output_type": "execute_result",
          "data": {
            "text/plain": [
              "30"
            ]
          },
          "metadata": {
            "tags": []
          },
          "execution_count": 38
        },
        {
          "output_type": "execute_result",
          "data": {
            "text/plain": [
              "30"
            ]
          },
          "metadata": {
            "tags": []
          },
          "execution_count": 38
        },
        {
          "output_type": "execute_result",
          "data": {
            "text/plain": [
              "30"
            ]
          },
          "metadata": {
            "tags": []
          },
          "execution_count": 38
        },
        {
          "output_type": "execute_result",
          "data": {
            "text/plain": [
              "30"
            ]
          },
          "metadata": {
            "tags": []
          },
          "execution_count": 38
        },
        {
          "output_type": "execute_result",
          "data": {
            "text/plain": [
              "30"
            ]
          },
          "metadata": {
            "tags": []
          },
          "execution_count": 38
        },
        {
          "output_type": "execute_result",
          "data": {
            "text/plain": [
              "30"
            ]
          },
          "metadata": {
            "tags": []
          },
          "execution_count": 38
        },
        {
          "output_type": "execute_result",
          "data": {
            "text/plain": [
              "30"
            ]
          },
          "metadata": {
            "tags": []
          },
          "execution_count": 38
        },
        {
          "output_type": "execute_result",
          "data": {
            "text/plain": [
              "30"
            ]
          },
          "metadata": {
            "tags": []
          },
          "execution_count": 38
        },
        {
          "output_type": "execute_result",
          "data": {
            "text/plain": [
              "30"
            ]
          },
          "metadata": {
            "tags": []
          },
          "execution_count": 38
        },
        {
          "output_type": "execute_result",
          "data": {
            "text/plain": [
              "30"
            ]
          },
          "metadata": {
            "tags": []
          },
          "execution_count": 38
        },
        {
          "output_type": "execute_result",
          "data": {
            "text/plain": [
              "30"
            ]
          },
          "metadata": {
            "tags": []
          },
          "execution_count": 38
        },
        {
          "output_type": "execute_result",
          "data": {
            "text/plain": [
              "30"
            ]
          },
          "metadata": {
            "tags": []
          },
          "execution_count": 38
        },
        {
          "output_type": "execute_result",
          "data": {
            "text/plain": [
              "30"
            ]
          },
          "metadata": {
            "tags": []
          },
          "execution_count": 38
        },
        {
          "output_type": "execute_result",
          "data": {
            "text/plain": [
              "30"
            ]
          },
          "metadata": {
            "tags": []
          },
          "execution_count": 38
        },
        {
          "output_type": "execute_result",
          "data": {
            "text/plain": [
              "30"
            ]
          },
          "metadata": {
            "tags": []
          },
          "execution_count": 38
        },
        {
          "output_type": "execute_result",
          "data": {
            "text/plain": [
              "30"
            ]
          },
          "metadata": {
            "tags": []
          },
          "execution_count": 38
        },
        {
          "output_type": "execute_result",
          "data": {
            "text/plain": [
              "30"
            ]
          },
          "metadata": {
            "tags": []
          },
          "execution_count": 38
        },
        {
          "output_type": "execute_result",
          "data": {
            "text/plain": [
              "30"
            ]
          },
          "metadata": {
            "tags": []
          },
          "execution_count": 38
        },
        {
          "output_type": "execute_result",
          "data": {
            "text/plain": [
              "30"
            ]
          },
          "metadata": {
            "tags": []
          },
          "execution_count": 38
        },
        {
          "output_type": "execute_result",
          "data": {
            "text/plain": [
              "30"
            ]
          },
          "metadata": {
            "tags": []
          },
          "execution_count": 38
        },
        {
          "output_type": "execute_result",
          "data": {
            "text/plain": [
              "30"
            ]
          },
          "metadata": {
            "tags": []
          },
          "execution_count": 38
        },
        {
          "output_type": "execute_result",
          "data": {
            "text/plain": [
              "30"
            ]
          },
          "metadata": {
            "tags": []
          },
          "execution_count": 38
        },
        {
          "output_type": "execute_result",
          "data": {
            "text/plain": [
              "30"
            ]
          },
          "metadata": {
            "tags": []
          },
          "execution_count": 38
        },
        {
          "output_type": "execute_result",
          "data": {
            "text/plain": [
              "30"
            ]
          },
          "metadata": {
            "tags": []
          },
          "execution_count": 38
        },
        {
          "output_type": "execute_result",
          "data": {
            "text/plain": [
              "30"
            ]
          },
          "metadata": {
            "tags": []
          },
          "execution_count": 38
        },
        {
          "output_type": "execute_result",
          "data": {
            "text/plain": [
              "30"
            ]
          },
          "metadata": {
            "tags": []
          },
          "execution_count": 38
        },
        {
          "output_type": "execute_result",
          "data": {
            "text/plain": [
              "30"
            ]
          },
          "metadata": {
            "tags": []
          },
          "execution_count": 38
        },
        {
          "output_type": "execute_result",
          "data": {
            "text/plain": [
              "30"
            ]
          },
          "metadata": {
            "tags": []
          },
          "execution_count": 38
        },
        {
          "output_type": "execute_result",
          "data": {
            "text/plain": [
              "30"
            ]
          },
          "metadata": {
            "tags": []
          },
          "execution_count": 38
        },
        {
          "output_type": "execute_result",
          "data": {
            "text/plain": [
              "30"
            ]
          },
          "metadata": {
            "tags": []
          },
          "execution_count": 38
        },
        {
          "output_type": "execute_result",
          "data": {
            "text/plain": [
              "30"
            ]
          },
          "metadata": {
            "tags": []
          },
          "execution_count": 38
        },
        {
          "output_type": "execute_result",
          "data": {
            "text/plain": [
              "30"
            ]
          },
          "metadata": {
            "tags": []
          },
          "execution_count": 38
        },
        {
          "output_type": "execute_result",
          "data": {
            "text/plain": [
              "30"
            ]
          },
          "metadata": {
            "tags": []
          },
          "execution_count": 38
        },
        {
          "output_type": "execute_result",
          "data": {
            "text/plain": [
              "30"
            ]
          },
          "metadata": {
            "tags": []
          },
          "execution_count": 38
        },
        {
          "output_type": "execute_result",
          "data": {
            "text/plain": [
              "30"
            ]
          },
          "metadata": {
            "tags": []
          },
          "execution_count": 38
        },
        {
          "output_type": "execute_result",
          "data": {
            "text/plain": [
              "30"
            ]
          },
          "metadata": {
            "tags": []
          },
          "execution_count": 38
        },
        {
          "output_type": "execute_result",
          "data": {
            "text/plain": [
              "30"
            ]
          },
          "metadata": {
            "tags": []
          },
          "execution_count": 38
        },
        {
          "output_type": "execute_result",
          "data": {
            "text/plain": [
              "30"
            ]
          },
          "metadata": {
            "tags": []
          },
          "execution_count": 38
        },
        {
          "output_type": "execute_result",
          "data": {
            "text/plain": [
              "30"
            ]
          },
          "metadata": {
            "tags": []
          },
          "execution_count": 38
        },
        {
          "output_type": "execute_result",
          "data": {
            "text/plain": [
              "30"
            ]
          },
          "metadata": {
            "tags": []
          },
          "execution_count": 38
        },
        {
          "output_type": "execute_result",
          "data": {
            "text/plain": [
              "30"
            ]
          },
          "metadata": {
            "tags": []
          },
          "execution_count": 38
        },
        {
          "output_type": "execute_result",
          "data": {
            "text/plain": [
              "30"
            ]
          },
          "metadata": {
            "tags": []
          },
          "execution_count": 38
        },
        {
          "output_type": "execute_result",
          "data": {
            "text/plain": [
              "30"
            ]
          },
          "metadata": {
            "tags": []
          },
          "execution_count": 38
        },
        {
          "output_type": "execute_result",
          "data": {
            "text/plain": [
              "30"
            ]
          },
          "metadata": {
            "tags": []
          },
          "execution_count": 38
        },
        {
          "output_type": "execute_result",
          "data": {
            "text/plain": [
              "30"
            ]
          },
          "metadata": {
            "tags": []
          },
          "execution_count": 38
        },
        {
          "output_type": "execute_result",
          "data": {
            "text/plain": [
              "30"
            ]
          },
          "metadata": {
            "tags": []
          },
          "execution_count": 38
        },
        {
          "output_type": "execute_result",
          "data": {
            "text/plain": [
              "30"
            ]
          },
          "metadata": {
            "tags": []
          },
          "execution_count": 38
        },
        {
          "output_type": "execute_result",
          "data": {
            "text/plain": [
              "30"
            ]
          },
          "metadata": {
            "tags": []
          },
          "execution_count": 38
        },
        {
          "output_type": "execute_result",
          "data": {
            "text/plain": [
              "30"
            ]
          },
          "metadata": {
            "tags": []
          },
          "execution_count": 38
        },
        {
          "output_type": "execute_result",
          "data": {
            "text/plain": [
              "30"
            ]
          },
          "metadata": {
            "tags": []
          },
          "execution_count": 38
        },
        {
          "output_type": "execute_result",
          "data": {
            "text/plain": [
              "30"
            ]
          },
          "metadata": {
            "tags": []
          },
          "execution_count": 38
        },
        {
          "output_type": "execute_result",
          "data": {
            "text/plain": [
              "30"
            ]
          },
          "metadata": {
            "tags": []
          },
          "execution_count": 38
        },
        {
          "output_type": "execute_result",
          "data": {
            "text/plain": [
              "30"
            ]
          },
          "metadata": {
            "tags": []
          },
          "execution_count": 38
        },
        {
          "output_type": "execute_result",
          "data": {
            "text/plain": [
              "30"
            ]
          },
          "metadata": {
            "tags": []
          },
          "execution_count": 38
        },
        {
          "output_type": "execute_result",
          "data": {
            "text/plain": [
              "30"
            ]
          },
          "metadata": {
            "tags": []
          },
          "execution_count": 38
        },
        {
          "output_type": "execute_result",
          "data": {
            "text/plain": [
              "30"
            ]
          },
          "metadata": {
            "tags": []
          },
          "execution_count": 38
        },
        {
          "output_type": "execute_result",
          "data": {
            "text/plain": [
              "30"
            ]
          },
          "metadata": {
            "tags": []
          },
          "execution_count": 38
        },
        {
          "output_type": "execute_result",
          "data": {
            "text/plain": [
              "30"
            ]
          },
          "metadata": {
            "tags": []
          },
          "execution_count": 38
        },
        {
          "output_type": "execute_result",
          "data": {
            "text/plain": [
              "30"
            ]
          },
          "metadata": {
            "tags": []
          },
          "execution_count": 38
        },
        {
          "output_type": "execute_result",
          "data": {
            "text/plain": [
              "30"
            ]
          },
          "metadata": {
            "tags": []
          },
          "execution_count": 38
        },
        {
          "output_type": "execute_result",
          "data": {
            "text/plain": [
              "30"
            ]
          },
          "metadata": {
            "tags": []
          },
          "execution_count": 38
        },
        {
          "output_type": "execute_result",
          "data": {
            "text/plain": [
              "30"
            ]
          },
          "metadata": {
            "tags": []
          },
          "execution_count": 38
        },
        {
          "output_type": "execute_result",
          "data": {
            "text/plain": [
              "30"
            ]
          },
          "metadata": {
            "tags": []
          },
          "execution_count": 38
        },
        {
          "output_type": "execute_result",
          "data": {
            "text/plain": [
              "30"
            ]
          },
          "metadata": {
            "tags": []
          },
          "execution_count": 38
        },
        {
          "output_type": "execute_result",
          "data": {
            "text/plain": [
              "30"
            ]
          },
          "metadata": {
            "tags": []
          },
          "execution_count": 38
        },
        {
          "output_type": "execute_result",
          "data": {
            "text/plain": [
              "30"
            ]
          },
          "metadata": {
            "tags": []
          },
          "execution_count": 38
        },
        {
          "output_type": "execute_result",
          "data": {
            "text/plain": [
              "30"
            ]
          },
          "metadata": {
            "tags": []
          },
          "execution_count": 38
        },
        {
          "output_type": "execute_result",
          "data": {
            "text/plain": [
              "30"
            ]
          },
          "metadata": {
            "tags": []
          },
          "execution_count": 38
        },
        {
          "output_type": "execute_result",
          "data": {
            "text/plain": [
              "30"
            ]
          },
          "metadata": {
            "tags": []
          },
          "execution_count": 38
        },
        {
          "output_type": "execute_result",
          "data": {
            "text/plain": [
              "30"
            ]
          },
          "metadata": {
            "tags": []
          },
          "execution_count": 38
        },
        {
          "output_type": "execute_result",
          "data": {
            "text/plain": [
              "30"
            ]
          },
          "metadata": {
            "tags": []
          },
          "execution_count": 38
        },
        {
          "output_type": "execute_result",
          "data": {
            "text/plain": [
              "30"
            ]
          },
          "metadata": {
            "tags": []
          },
          "execution_count": 38
        },
        {
          "output_type": "execute_result",
          "data": {
            "text/plain": [
              "30"
            ]
          },
          "metadata": {
            "tags": []
          },
          "execution_count": 38
        },
        {
          "output_type": "execute_result",
          "data": {
            "text/plain": [
              "30"
            ]
          },
          "metadata": {
            "tags": []
          },
          "execution_count": 38
        },
        {
          "output_type": "execute_result",
          "data": {
            "text/plain": [
              "30"
            ]
          },
          "metadata": {
            "tags": []
          },
          "execution_count": 38
        },
        {
          "output_type": "execute_result",
          "data": {
            "text/plain": [
              "30"
            ]
          },
          "metadata": {
            "tags": []
          },
          "execution_count": 38
        },
        {
          "output_type": "execute_result",
          "data": {
            "text/plain": [
              "30"
            ]
          },
          "metadata": {
            "tags": []
          },
          "execution_count": 38
        },
        {
          "output_type": "execute_result",
          "data": {
            "text/plain": [
              "30"
            ]
          },
          "metadata": {
            "tags": []
          },
          "execution_count": 38
        },
        {
          "output_type": "execute_result",
          "data": {
            "text/plain": [
              "30"
            ]
          },
          "metadata": {
            "tags": []
          },
          "execution_count": 38
        },
        {
          "output_type": "execute_result",
          "data": {
            "text/plain": [
              "30"
            ]
          },
          "metadata": {
            "tags": []
          },
          "execution_count": 38
        },
        {
          "output_type": "execute_result",
          "data": {
            "text/plain": [
              "30"
            ]
          },
          "metadata": {
            "tags": []
          },
          "execution_count": 38
        },
        {
          "output_type": "execute_result",
          "data": {
            "text/plain": [
              "30"
            ]
          },
          "metadata": {
            "tags": []
          },
          "execution_count": 38
        },
        {
          "output_type": "execute_result",
          "data": {
            "text/plain": [
              "30"
            ]
          },
          "metadata": {
            "tags": []
          },
          "execution_count": 38
        },
        {
          "output_type": "execute_result",
          "data": {
            "text/plain": [
              "30"
            ]
          },
          "metadata": {
            "tags": []
          },
          "execution_count": 38
        },
        {
          "output_type": "execute_result",
          "data": {
            "text/plain": [
              "30"
            ]
          },
          "metadata": {
            "tags": []
          },
          "execution_count": 38
        },
        {
          "output_type": "execute_result",
          "data": {
            "text/plain": [
              "30"
            ]
          },
          "metadata": {
            "tags": []
          },
          "execution_count": 38
        },
        {
          "output_type": "execute_result",
          "data": {
            "text/plain": [
              "30"
            ]
          },
          "metadata": {
            "tags": []
          },
          "execution_count": 38
        },
        {
          "output_type": "execute_result",
          "data": {
            "text/plain": [
              "30"
            ]
          },
          "metadata": {
            "tags": []
          },
          "execution_count": 38
        },
        {
          "output_type": "execute_result",
          "data": {
            "text/plain": [
              "30"
            ]
          },
          "metadata": {
            "tags": []
          },
          "execution_count": 38
        },
        {
          "output_type": "execute_result",
          "data": {
            "text/plain": [
              "30"
            ]
          },
          "metadata": {
            "tags": []
          },
          "execution_count": 38
        },
        {
          "output_type": "execute_result",
          "data": {
            "text/plain": [
              "30"
            ]
          },
          "metadata": {
            "tags": []
          },
          "execution_count": 38
        },
        {
          "output_type": "execute_result",
          "data": {
            "text/plain": [
              "30"
            ]
          },
          "metadata": {
            "tags": []
          },
          "execution_count": 38
        },
        {
          "output_type": "execute_result",
          "data": {
            "text/plain": [
              "30"
            ]
          },
          "metadata": {
            "tags": []
          },
          "execution_count": 38
        },
        {
          "output_type": "execute_result",
          "data": {
            "text/plain": [
              "30"
            ]
          },
          "metadata": {
            "tags": []
          },
          "execution_count": 38
        },
        {
          "output_type": "execute_result",
          "data": {
            "text/plain": [
              "30"
            ]
          },
          "metadata": {
            "tags": []
          },
          "execution_count": 38
        },
        {
          "output_type": "execute_result",
          "data": {
            "text/plain": [
              "30"
            ]
          },
          "metadata": {
            "tags": []
          },
          "execution_count": 38
        },
        {
          "output_type": "execute_result",
          "data": {
            "text/plain": [
              "30"
            ]
          },
          "metadata": {
            "tags": []
          },
          "execution_count": 38
        },
        {
          "output_type": "execute_result",
          "data": {
            "text/plain": [
              "30"
            ]
          },
          "metadata": {
            "tags": []
          },
          "execution_count": 38
        },
        {
          "output_type": "execute_result",
          "data": {
            "text/plain": [
              "30"
            ]
          },
          "metadata": {
            "tags": []
          },
          "execution_count": 38
        },
        {
          "output_type": "execute_result",
          "data": {
            "text/plain": [
              "30"
            ]
          },
          "metadata": {
            "tags": []
          },
          "execution_count": 38
        },
        {
          "output_type": "execute_result",
          "data": {
            "text/plain": [
              "30"
            ]
          },
          "metadata": {
            "tags": []
          },
          "execution_count": 38
        },
        {
          "output_type": "execute_result",
          "data": {
            "text/plain": [
              "30"
            ]
          },
          "metadata": {
            "tags": []
          },
          "execution_count": 38
        },
        {
          "output_type": "execute_result",
          "data": {
            "text/plain": [
              "30"
            ]
          },
          "metadata": {
            "tags": []
          },
          "execution_count": 38
        },
        {
          "output_type": "execute_result",
          "data": {
            "text/plain": [
              "30"
            ]
          },
          "metadata": {
            "tags": []
          },
          "execution_count": 38
        },
        {
          "output_type": "execute_result",
          "data": {
            "text/plain": [
              "30"
            ]
          },
          "metadata": {
            "tags": []
          },
          "execution_count": 38
        },
        {
          "output_type": "execute_result",
          "data": {
            "text/plain": [
              "30"
            ]
          },
          "metadata": {
            "tags": []
          },
          "execution_count": 38
        },
        {
          "output_type": "execute_result",
          "data": {
            "text/plain": [
              "30"
            ]
          },
          "metadata": {
            "tags": []
          },
          "execution_count": 38
        },
        {
          "output_type": "execute_result",
          "data": {
            "text/plain": [
              "30"
            ]
          },
          "metadata": {
            "tags": []
          },
          "execution_count": 38
        },
        {
          "output_type": "execute_result",
          "data": {
            "text/plain": [
              "30"
            ]
          },
          "metadata": {
            "tags": []
          },
          "execution_count": 38
        },
        {
          "output_type": "execute_result",
          "data": {
            "text/plain": [
              "30"
            ]
          },
          "metadata": {
            "tags": []
          },
          "execution_count": 38
        },
        {
          "output_type": "execute_result",
          "data": {
            "text/plain": [
              "30"
            ]
          },
          "metadata": {
            "tags": []
          },
          "execution_count": 38
        },
        {
          "output_type": "execute_result",
          "data": {
            "text/plain": [
              "30"
            ]
          },
          "metadata": {
            "tags": []
          },
          "execution_count": 38
        },
        {
          "output_type": "execute_result",
          "data": {
            "text/plain": [
              "30"
            ]
          },
          "metadata": {
            "tags": []
          },
          "execution_count": 38
        },
        {
          "output_type": "execute_result",
          "data": {
            "text/plain": [
              "30"
            ]
          },
          "metadata": {
            "tags": []
          },
          "execution_count": 38
        },
        {
          "output_type": "execute_result",
          "data": {
            "text/plain": [
              "30"
            ]
          },
          "metadata": {
            "tags": []
          },
          "execution_count": 38
        },
        {
          "output_type": "execute_result",
          "data": {
            "text/plain": [
              "30"
            ]
          },
          "metadata": {
            "tags": []
          },
          "execution_count": 38
        },
        {
          "output_type": "execute_result",
          "data": {
            "text/plain": [
              "30"
            ]
          },
          "metadata": {
            "tags": []
          },
          "execution_count": 38
        },
        {
          "output_type": "execute_result",
          "data": {
            "text/plain": [
              "30"
            ]
          },
          "metadata": {
            "tags": []
          },
          "execution_count": 38
        },
        {
          "output_type": "execute_result",
          "data": {
            "text/plain": [
              "30"
            ]
          },
          "metadata": {
            "tags": []
          },
          "execution_count": 38
        },
        {
          "output_type": "execute_result",
          "data": {
            "text/plain": [
              "30"
            ]
          },
          "metadata": {
            "tags": []
          },
          "execution_count": 38
        },
        {
          "output_type": "execute_result",
          "data": {
            "text/plain": [
              "30"
            ]
          },
          "metadata": {
            "tags": []
          },
          "execution_count": 38
        },
        {
          "output_type": "execute_result",
          "data": {
            "text/plain": [
              "30"
            ]
          },
          "metadata": {
            "tags": []
          },
          "execution_count": 38
        },
        {
          "output_type": "execute_result",
          "data": {
            "text/plain": [
              "30"
            ]
          },
          "metadata": {
            "tags": []
          },
          "execution_count": 38
        },
        {
          "output_type": "execute_result",
          "data": {
            "text/plain": [
              "30"
            ]
          },
          "metadata": {
            "tags": []
          },
          "execution_count": 38
        },
        {
          "output_type": "execute_result",
          "data": {
            "text/plain": [
              "30"
            ]
          },
          "metadata": {
            "tags": []
          },
          "execution_count": 38
        },
        {
          "output_type": "execute_result",
          "data": {
            "text/plain": [
              "30"
            ]
          },
          "metadata": {
            "tags": []
          },
          "execution_count": 38
        },
        {
          "output_type": "execute_result",
          "data": {
            "text/plain": [
              "30"
            ]
          },
          "metadata": {
            "tags": []
          },
          "execution_count": 38
        },
        {
          "output_type": "execute_result",
          "data": {
            "text/plain": [
              "30"
            ]
          },
          "metadata": {
            "tags": []
          },
          "execution_count": 38
        },
        {
          "output_type": "execute_result",
          "data": {
            "text/plain": [
              "30"
            ]
          },
          "metadata": {
            "tags": []
          },
          "execution_count": 38
        },
        {
          "output_type": "execute_result",
          "data": {
            "text/plain": [
              "30"
            ]
          },
          "metadata": {
            "tags": []
          },
          "execution_count": 38
        },
        {
          "output_type": "execute_result",
          "data": {
            "text/plain": [
              "30"
            ]
          },
          "metadata": {
            "tags": []
          },
          "execution_count": 38
        },
        {
          "output_type": "execute_result",
          "data": {
            "text/plain": [
              "30"
            ]
          },
          "metadata": {
            "tags": []
          },
          "execution_count": 38
        },
        {
          "output_type": "execute_result",
          "data": {
            "text/plain": [
              "30"
            ]
          },
          "metadata": {
            "tags": []
          },
          "execution_count": 38
        },
        {
          "output_type": "execute_result",
          "data": {
            "text/plain": [
              "30"
            ]
          },
          "metadata": {
            "tags": []
          },
          "execution_count": 38
        },
        {
          "output_type": "execute_result",
          "data": {
            "text/plain": [
              "30"
            ]
          },
          "metadata": {
            "tags": []
          },
          "execution_count": 38
        },
        {
          "output_type": "execute_result",
          "data": {
            "text/plain": [
              "30"
            ]
          },
          "metadata": {
            "tags": []
          },
          "execution_count": 38
        },
        {
          "output_type": "execute_result",
          "data": {
            "text/plain": [
              "30"
            ]
          },
          "metadata": {
            "tags": []
          },
          "execution_count": 38
        },
        {
          "output_type": "execute_result",
          "data": {
            "text/plain": [
              "30"
            ]
          },
          "metadata": {
            "tags": []
          },
          "execution_count": 38
        },
        {
          "output_type": "execute_result",
          "data": {
            "text/plain": [
              "30"
            ]
          },
          "metadata": {
            "tags": []
          },
          "execution_count": 38
        },
        {
          "output_type": "execute_result",
          "data": {
            "text/plain": [
              "30"
            ]
          },
          "metadata": {
            "tags": []
          },
          "execution_count": 38
        },
        {
          "output_type": "execute_result",
          "data": {
            "text/plain": [
              "30"
            ]
          },
          "metadata": {
            "tags": []
          },
          "execution_count": 38
        },
        {
          "output_type": "execute_result",
          "data": {
            "text/plain": [
              "30"
            ]
          },
          "metadata": {
            "tags": []
          },
          "execution_count": 38
        },
        {
          "output_type": "execute_result",
          "data": {
            "text/plain": [
              "30"
            ]
          },
          "metadata": {
            "tags": []
          },
          "execution_count": 38
        },
        {
          "output_type": "execute_result",
          "data": {
            "text/plain": [
              "30"
            ]
          },
          "metadata": {
            "tags": []
          },
          "execution_count": 38
        },
        {
          "output_type": "execute_result",
          "data": {
            "text/plain": [
              "30"
            ]
          },
          "metadata": {
            "tags": []
          },
          "execution_count": 38
        },
        {
          "output_type": "execute_result",
          "data": {
            "text/plain": [
              "30"
            ]
          },
          "metadata": {
            "tags": []
          },
          "execution_count": 38
        },
        {
          "output_type": "execute_result",
          "data": {
            "text/plain": [
              "30"
            ]
          },
          "metadata": {
            "tags": []
          },
          "execution_count": 38
        },
        {
          "output_type": "execute_result",
          "data": {
            "text/plain": [
              "30"
            ]
          },
          "metadata": {
            "tags": []
          },
          "execution_count": 38
        },
        {
          "output_type": "execute_result",
          "data": {
            "text/plain": [
              "30"
            ]
          },
          "metadata": {
            "tags": []
          },
          "execution_count": 38
        },
        {
          "output_type": "execute_result",
          "data": {
            "text/plain": [
              "30"
            ]
          },
          "metadata": {
            "tags": []
          },
          "execution_count": 38
        },
        {
          "output_type": "execute_result",
          "data": {
            "text/plain": [
              "30"
            ]
          },
          "metadata": {
            "tags": []
          },
          "execution_count": 38
        },
        {
          "output_type": "execute_result",
          "data": {
            "text/plain": [
              "30"
            ]
          },
          "metadata": {
            "tags": []
          },
          "execution_count": 38
        },
        {
          "output_type": "execute_result",
          "data": {
            "text/plain": [
              "30"
            ]
          },
          "metadata": {
            "tags": []
          },
          "execution_count": 38
        },
        {
          "output_type": "execute_result",
          "data": {
            "text/plain": [
              "30"
            ]
          },
          "metadata": {
            "tags": []
          },
          "execution_count": 38
        },
        {
          "output_type": "execute_result",
          "data": {
            "text/plain": [
              "30"
            ]
          },
          "metadata": {
            "tags": []
          },
          "execution_count": 38
        },
        {
          "output_type": "execute_result",
          "data": {
            "text/plain": [
              "30"
            ]
          },
          "metadata": {
            "tags": []
          },
          "execution_count": 38
        },
        {
          "output_type": "execute_result",
          "data": {
            "text/plain": [
              "30"
            ]
          },
          "metadata": {
            "tags": []
          },
          "execution_count": 38
        },
        {
          "output_type": "execute_result",
          "data": {
            "text/plain": [
              "30"
            ]
          },
          "metadata": {
            "tags": []
          },
          "execution_count": 38
        },
        {
          "output_type": "execute_result",
          "data": {
            "text/plain": [
              "30"
            ]
          },
          "metadata": {
            "tags": []
          },
          "execution_count": 38
        },
        {
          "output_type": "execute_result",
          "data": {
            "text/plain": [
              "30"
            ]
          },
          "metadata": {
            "tags": []
          },
          "execution_count": 38
        },
        {
          "output_type": "execute_result",
          "data": {
            "text/plain": [
              "30"
            ]
          },
          "metadata": {
            "tags": []
          },
          "execution_count": 38
        },
        {
          "output_type": "execute_result",
          "data": {
            "text/plain": [
              "30"
            ]
          },
          "metadata": {
            "tags": []
          },
          "execution_count": 38
        },
        {
          "output_type": "execute_result",
          "data": {
            "text/plain": [
              "30"
            ]
          },
          "metadata": {
            "tags": []
          },
          "execution_count": 38
        },
        {
          "output_type": "execute_result",
          "data": {
            "text/plain": [
              "30"
            ]
          },
          "metadata": {
            "tags": []
          },
          "execution_count": 38
        },
        {
          "output_type": "execute_result",
          "data": {
            "text/plain": [
              "30"
            ]
          },
          "metadata": {
            "tags": []
          },
          "execution_count": 38
        },
        {
          "output_type": "execute_result",
          "data": {
            "text/plain": [
              "30"
            ]
          },
          "metadata": {
            "tags": []
          },
          "execution_count": 38
        },
        {
          "output_type": "execute_result",
          "data": {
            "text/plain": [
              "30"
            ]
          },
          "metadata": {
            "tags": []
          },
          "execution_count": 38
        },
        {
          "output_type": "execute_result",
          "data": {
            "text/plain": [
              "30"
            ]
          },
          "metadata": {
            "tags": []
          },
          "execution_count": 38
        },
        {
          "output_type": "execute_result",
          "data": {
            "text/plain": [
              "30"
            ]
          },
          "metadata": {
            "tags": []
          },
          "execution_count": 38
        },
        {
          "output_type": "execute_result",
          "data": {
            "text/plain": [
              "30"
            ]
          },
          "metadata": {
            "tags": []
          },
          "execution_count": 38
        },
        {
          "output_type": "execute_result",
          "data": {
            "text/plain": [
              "30"
            ]
          },
          "metadata": {
            "tags": []
          },
          "execution_count": 38
        },
        {
          "output_type": "execute_result",
          "data": {
            "text/plain": [
              "30"
            ]
          },
          "metadata": {
            "tags": []
          },
          "execution_count": 38
        },
        {
          "output_type": "execute_result",
          "data": {
            "text/plain": [
              "30"
            ]
          },
          "metadata": {
            "tags": []
          },
          "execution_count": 38
        },
        {
          "output_type": "execute_result",
          "data": {
            "text/plain": [
              "30"
            ]
          },
          "metadata": {
            "tags": []
          },
          "execution_count": 38
        },
        {
          "output_type": "execute_result",
          "data": {
            "text/plain": [
              "30"
            ]
          },
          "metadata": {
            "tags": []
          },
          "execution_count": 38
        },
        {
          "output_type": "execute_result",
          "data": {
            "text/plain": [
              "30"
            ]
          },
          "metadata": {
            "tags": []
          },
          "execution_count": 38
        },
        {
          "output_type": "execute_result",
          "data": {
            "text/plain": [
              "30"
            ]
          },
          "metadata": {
            "tags": []
          },
          "execution_count": 38
        },
        {
          "output_type": "execute_result",
          "data": {
            "text/plain": [
              "30"
            ]
          },
          "metadata": {
            "tags": []
          },
          "execution_count": 38
        },
        {
          "output_type": "execute_result",
          "data": {
            "text/plain": [
              "30"
            ]
          },
          "metadata": {
            "tags": []
          },
          "execution_count": 38
        },
        {
          "output_type": "execute_result",
          "data": {
            "text/plain": [
              "30"
            ]
          },
          "metadata": {
            "tags": []
          },
          "execution_count": 38
        },
        {
          "output_type": "execute_result",
          "data": {
            "text/plain": [
              "30"
            ]
          },
          "metadata": {
            "tags": []
          },
          "execution_count": 38
        },
        {
          "output_type": "execute_result",
          "data": {
            "text/plain": [
              "30"
            ]
          },
          "metadata": {
            "tags": []
          },
          "execution_count": 38
        },
        {
          "output_type": "execute_result",
          "data": {
            "text/plain": [
              "30"
            ]
          },
          "metadata": {
            "tags": []
          },
          "execution_count": 38
        },
        {
          "output_type": "execute_result",
          "data": {
            "text/plain": [
              "30"
            ]
          },
          "metadata": {
            "tags": []
          },
          "execution_count": 38
        },
        {
          "output_type": "execute_result",
          "data": {
            "text/plain": [
              "30"
            ]
          },
          "metadata": {
            "tags": []
          },
          "execution_count": 38
        },
        {
          "output_type": "execute_result",
          "data": {
            "text/plain": [
              "30"
            ]
          },
          "metadata": {
            "tags": []
          },
          "execution_count": 38
        },
        {
          "output_type": "execute_result",
          "data": {
            "text/plain": [
              "30"
            ]
          },
          "metadata": {
            "tags": []
          },
          "execution_count": 38
        },
        {
          "output_type": "execute_result",
          "data": {
            "text/plain": [
              "30"
            ]
          },
          "metadata": {
            "tags": []
          },
          "execution_count": 38
        },
        {
          "output_type": "execute_result",
          "data": {
            "text/plain": [
              "30"
            ]
          },
          "metadata": {
            "tags": []
          },
          "execution_count": 38
        },
        {
          "output_type": "execute_result",
          "data": {
            "text/plain": [
              "30"
            ]
          },
          "metadata": {
            "tags": []
          },
          "execution_count": 38
        },
        {
          "output_type": "execute_result",
          "data": {
            "text/plain": [
              "30"
            ]
          },
          "metadata": {
            "tags": []
          },
          "execution_count": 38
        },
        {
          "output_type": "execute_result",
          "data": {
            "text/plain": [
              "30"
            ]
          },
          "metadata": {
            "tags": []
          },
          "execution_count": 38
        },
        {
          "output_type": "execute_result",
          "data": {
            "text/plain": [
              "30"
            ]
          },
          "metadata": {
            "tags": []
          },
          "execution_count": 38
        },
        {
          "output_type": "execute_result",
          "data": {
            "text/plain": [
              "30"
            ]
          },
          "metadata": {
            "tags": []
          },
          "execution_count": 38
        },
        {
          "output_type": "execute_result",
          "data": {
            "text/plain": [
              "30"
            ]
          },
          "metadata": {
            "tags": []
          },
          "execution_count": 38
        },
        {
          "output_type": "execute_result",
          "data": {
            "text/plain": [
              "30"
            ]
          },
          "metadata": {
            "tags": []
          },
          "execution_count": 38
        },
        {
          "output_type": "execute_result",
          "data": {
            "text/plain": [
              "30"
            ]
          },
          "metadata": {
            "tags": []
          },
          "execution_count": 38
        },
        {
          "output_type": "execute_result",
          "data": {
            "text/plain": [
              "30"
            ]
          },
          "metadata": {
            "tags": []
          },
          "execution_count": 38
        },
        {
          "output_type": "execute_result",
          "data": {
            "text/plain": [
              "30"
            ]
          },
          "metadata": {
            "tags": []
          },
          "execution_count": 38
        },
        {
          "output_type": "execute_result",
          "data": {
            "text/plain": [
              "30"
            ]
          },
          "metadata": {
            "tags": []
          },
          "execution_count": 38
        },
        {
          "output_type": "execute_result",
          "data": {
            "text/plain": [
              "30"
            ]
          },
          "metadata": {
            "tags": []
          },
          "execution_count": 38
        },
        {
          "output_type": "execute_result",
          "data": {
            "text/plain": [
              "30"
            ]
          },
          "metadata": {
            "tags": []
          },
          "execution_count": 38
        },
        {
          "output_type": "execute_result",
          "data": {
            "text/plain": [
              "30"
            ]
          },
          "metadata": {
            "tags": []
          },
          "execution_count": 38
        },
        {
          "output_type": "execute_result",
          "data": {
            "text/plain": [
              "30"
            ]
          },
          "metadata": {
            "tags": []
          },
          "execution_count": 38
        },
        {
          "output_type": "execute_result",
          "data": {
            "text/plain": [
              "30"
            ]
          },
          "metadata": {
            "tags": []
          },
          "execution_count": 38
        },
        {
          "output_type": "execute_result",
          "data": {
            "text/plain": [
              "30"
            ]
          },
          "metadata": {
            "tags": []
          },
          "execution_count": 38
        },
        {
          "output_type": "execute_result",
          "data": {
            "text/plain": [
              "30"
            ]
          },
          "metadata": {
            "tags": []
          },
          "execution_count": 38
        },
        {
          "output_type": "execute_result",
          "data": {
            "text/plain": [
              "30"
            ]
          },
          "metadata": {
            "tags": []
          },
          "execution_count": 38
        },
        {
          "output_type": "execute_result",
          "data": {
            "text/plain": [
              "30"
            ]
          },
          "metadata": {
            "tags": []
          },
          "execution_count": 38
        },
        {
          "output_type": "execute_result",
          "data": {
            "text/plain": [
              "30"
            ]
          },
          "metadata": {
            "tags": []
          },
          "execution_count": 38
        },
        {
          "output_type": "execute_result",
          "data": {
            "text/plain": [
              "30"
            ]
          },
          "metadata": {
            "tags": []
          },
          "execution_count": 38
        },
        {
          "output_type": "execute_result",
          "data": {
            "text/plain": [
              "30"
            ]
          },
          "metadata": {
            "tags": []
          },
          "execution_count": 38
        },
        {
          "output_type": "execute_result",
          "data": {
            "text/plain": [
              "30"
            ]
          },
          "metadata": {
            "tags": []
          },
          "execution_count": 38
        },
        {
          "output_type": "execute_result",
          "data": {
            "text/plain": [
              "30"
            ]
          },
          "metadata": {
            "tags": []
          },
          "execution_count": 38
        },
        {
          "output_type": "execute_result",
          "data": {
            "text/plain": [
              "30"
            ]
          },
          "metadata": {
            "tags": []
          },
          "execution_count": 38
        },
        {
          "output_type": "execute_result",
          "data": {
            "text/plain": [
              "30"
            ]
          },
          "metadata": {
            "tags": []
          },
          "execution_count": 38
        },
        {
          "output_type": "execute_result",
          "data": {
            "text/plain": [
              "30"
            ]
          },
          "metadata": {
            "tags": []
          },
          "execution_count": 38
        },
        {
          "output_type": "execute_result",
          "data": {
            "text/plain": [
              "30"
            ]
          },
          "metadata": {
            "tags": []
          },
          "execution_count": 38
        },
        {
          "output_type": "execute_result",
          "data": {
            "text/plain": [
              "30"
            ]
          },
          "metadata": {
            "tags": []
          },
          "execution_count": 38
        },
        {
          "output_type": "execute_result",
          "data": {
            "text/plain": [
              "30"
            ]
          },
          "metadata": {
            "tags": []
          },
          "execution_count": 38
        },
        {
          "output_type": "execute_result",
          "data": {
            "text/plain": [
              "30"
            ]
          },
          "metadata": {
            "tags": []
          },
          "execution_count": 38
        },
        {
          "output_type": "execute_result",
          "data": {
            "text/plain": [
              "30"
            ]
          },
          "metadata": {
            "tags": []
          },
          "execution_count": 38
        },
        {
          "output_type": "execute_result",
          "data": {
            "text/plain": [
              "30"
            ]
          },
          "metadata": {
            "tags": []
          },
          "execution_count": 38
        },
        {
          "output_type": "execute_result",
          "data": {
            "text/plain": [
              "30"
            ]
          },
          "metadata": {
            "tags": []
          },
          "execution_count": 38
        },
        {
          "output_type": "execute_result",
          "data": {
            "text/plain": [
              "30"
            ]
          },
          "metadata": {
            "tags": []
          },
          "execution_count": 38
        },
        {
          "output_type": "execute_result",
          "data": {
            "text/plain": [
              "30"
            ]
          },
          "metadata": {
            "tags": []
          },
          "execution_count": 38
        },
        {
          "output_type": "execute_result",
          "data": {
            "text/plain": [
              "30"
            ]
          },
          "metadata": {
            "tags": []
          },
          "execution_count": 38
        },
        {
          "output_type": "execute_result",
          "data": {
            "text/plain": [
              "30"
            ]
          },
          "metadata": {
            "tags": []
          },
          "execution_count": 38
        },
        {
          "output_type": "execute_result",
          "data": {
            "text/plain": [
              "30"
            ]
          },
          "metadata": {
            "tags": []
          },
          "execution_count": 38
        },
        {
          "output_type": "execute_result",
          "data": {
            "text/plain": [
              "30"
            ]
          },
          "metadata": {
            "tags": []
          },
          "execution_count": 38
        },
        {
          "output_type": "execute_result",
          "data": {
            "text/plain": [
              "30"
            ]
          },
          "metadata": {
            "tags": []
          },
          "execution_count": 38
        },
        {
          "output_type": "execute_result",
          "data": {
            "text/plain": [
              "30"
            ]
          },
          "metadata": {
            "tags": []
          },
          "execution_count": 38
        },
        {
          "output_type": "execute_result",
          "data": {
            "text/plain": [
              "30"
            ]
          },
          "metadata": {
            "tags": []
          },
          "execution_count": 38
        },
        {
          "output_type": "execute_result",
          "data": {
            "text/plain": [
              "30"
            ]
          },
          "metadata": {
            "tags": []
          },
          "execution_count": 38
        },
        {
          "output_type": "execute_result",
          "data": {
            "text/plain": [
              "30"
            ]
          },
          "metadata": {
            "tags": []
          },
          "execution_count": 38
        },
        {
          "output_type": "execute_result",
          "data": {
            "text/plain": [
              "30"
            ]
          },
          "metadata": {
            "tags": []
          },
          "execution_count": 38
        },
        {
          "output_type": "execute_result",
          "data": {
            "text/plain": [
              "30"
            ]
          },
          "metadata": {
            "tags": []
          },
          "execution_count": 38
        },
        {
          "output_type": "execute_result",
          "data": {
            "text/plain": [
              "30"
            ]
          },
          "metadata": {
            "tags": []
          },
          "execution_count": 38
        },
        {
          "output_type": "execute_result",
          "data": {
            "text/plain": [
              "30"
            ]
          },
          "metadata": {
            "tags": []
          },
          "execution_count": 38
        },
        {
          "output_type": "execute_result",
          "data": {
            "text/plain": [
              "30"
            ]
          },
          "metadata": {
            "tags": []
          },
          "execution_count": 38
        },
        {
          "output_type": "execute_result",
          "data": {
            "text/plain": [
              "30"
            ]
          },
          "metadata": {
            "tags": []
          },
          "execution_count": 38
        },
        {
          "output_type": "execute_result",
          "data": {
            "text/plain": [
              "30"
            ]
          },
          "metadata": {
            "tags": []
          },
          "execution_count": 38
        },
        {
          "output_type": "execute_result",
          "data": {
            "text/plain": [
              "30"
            ]
          },
          "metadata": {
            "tags": []
          },
          "execution_count": 38
        },
        {
          "output_type": "execute_result",
          "data": {
            "text/plain": [
              "30"
            ]
          },
          "metadata": {
            "tags": []
          },
          "execution_count": 38
        },
        {
          "output_type": "execute_result",
          "data": {
            "text/plain": [
              "30"
            ]
          },
          "metadata": {
            "tags": []
          },
          "execution_count": 38
        },
        {
          "output_type": "execute_result",
          "data": {
            "text/plain": [
              "30"
            ]
          },
          "metadata": {
            "tags": []
          },
          "execution_count": 38
        },
        {
          "output_type": "execute_result",
          "data": {
            "text/plain": [
              "30"
            ]
          },
          "metadata": {
            "tags": []
          },
          "execution_count": 38
        },
        {
          "output_type": "execute_result",
          "data": {
            "text/plain": [
              "30"
            ]
          },
          "metadata": {
            "tags": []
          },
          "execution_count": 38
        },
        {
          "output_type": "execute_result",
          "data": {
            "text/plain": [
              "30"
            ]
          },
          "metadata": {
            "tags": []
          },
          "execution_count": 38
        },
        {
          "output_type": "execute_result",
          "data": {
            "text/plain": [
              "30"
            ]
          },
          "metadata": {
            "tags": []
          },
          "execution_count": 38
        },
        {
          "output_type": "execute_result",
          "data": {
            "text/plain": [
              "30"
            ]
          },
          "metadata": {
            "tags": []
          },
          "execution_count": 38
        },
        {
          "output_type": "execute_result",
          "data": {
            "text/plain": [
              "30"
            ]
          },
          "metadata": {
            "tags": []
          },
          "execution_count": 38
        },
        {
          "output_type": "execute_result",
          "data": {
            "text/plain": [
              "30"
            ]
          },
          "metadata": {
            "tags": []
          },
          "execution_count": 38
        },
        {
          "output_type": "execute_result",
          "data": {
            "text/plain": [
              "30"
            ]
          },
          "metadata": {
            "tags": []
          },
          "execution_count": 38
        },
        {
          "output_type": "execute_result",
          "data": {
            "text/plain": [
              "30"
            ]
          },
          "metadata": {
            "tags": []
          },
          "execution_count": 38
        },
        {
          "output_type": "execute_result",
          "data": {
            "text/plain": [
              "30"
            ]
          },
          "metadata": {
            "tags": []
          },
          "execution_count": 38
        },
        {
          "output_type": "execute_result",
          "data": {
            "text/plain": [
              "30"
            ]
          },
          "metadata": {
            "tags": []
          },
          "execution_count": 38
        },
        {
          "output_type": "execute_result",
          "data": {
            "text/plain": [
              "30"
            ]
          },
          "metadata": {
            "tags": []
          },
          "execution_count": 38
        },
        {
          "output_type": "execute_result",
          "data": {
            "text/plain": [
              "30"
            ]
          },
          "metadata": {
            "tags": []
          },
          "execution_count": 38
        },
        {
          "output_type": "execute_result",
          "data": {
            "text/plain": [
              "30"
            ]
          },
          "metadata": {
            "tags": []
          },
          "execution_count": 38
        },
        {
          "output_type": "execute_result",
          "data": {
            "text/plain": [
              "30"
            ]
          },
          "metadata": {
            "tags": []
          },
          "execution_count": 38
        },
        {
          "output_type": "execute_result",
          "data": {
            "text/plain": [
              "30"
            ]
          },
          "metadata": {
            "tags": []
          },
          "execution_count": 38
        },
        {
          "output_type": "execute_result",
          "data": {
            "text/plain": [
              "30"
            ]
          },
          "metadata": {
            "tags": []
          },
          "execution_count": 38
        },
        {
          "output_type": "execute_result",
          "data": {
            "text/plain": [
              "30"
            ]
          },
          "metadata": {
            "tags": []
          },
          "execution_count": 38
        },
        {
          "output_type": "execute_result",
          "data": {
            "text/plain": [
              "30"
            ]
          },
          "metadata": {
            "tags": []
          },
          "execution_count": 38
        },
        {
          "output_type": "execute_result",
          "data": {
            "text/plain": [
              "30"
            ]
          },
          "metadata": {
            "tags": []
          },
          "execution_count": 38
        },
        {
          "output_type": "execute_result",
          "data": {
            "text/plain": [
              "30"
            ]
          },
          "metadata": {
            "tags": []
          },
          "execution_count": 38
        },
        {
          "output_type": "execute_result",
          "data": {
            "text/plain": [
              "30"
            ]
          },
          "metadata": {
            "tags": []
          },
          "execution_count": 38
        },
        {
          "output_type": "execute_result",
          "data": {
            "text/plain": [
              "30"
            ]
          },
          "metadata": {
            "tags": []
          },
          "execution_count": 38
        },
        {
          "output_type": "execute_result",
          "data": {
            "text/plain": [
              "30"
            ]
          },
          "metadata": {
            "tags": []
          },
          "execution_count": 38
        },
        {
          "output_type": "execute_result",
          "data": {
            "text/plain": [
              "30"
            ]
          },
          "metadata": {
            "tags": []
          },
          "execution_count": 38
        },
        {
          "output_type": "execute_result",
          "data": {
            "text/plain": [
              "30"
            ]
          },
          "metadata": {
            "tags": []
          },
          "execution_count": 38
        },
        {
          "output_type": "execute_result",
          "data": {
            "text/plain": [
              "30"
            ]
          },
          "metadata": {
            "tags": []
          },
          "execution_count": 38
        },
        {
          "output_type": "execute_result",
          "data": {
            "text/plain": [
              "30"
            ]
          },
          "metadata": {
            "tags": []
          },
          "execution_count": 38
        },
        {
          "output_type": "execute_result",
          "data": {
            "text/plain": [
              "30"
            ]
          },
          "metadata": {
            "tags": []
          },
          "execution_count": 38
        },
        {
          "output_type": "execute_result",
          "data": {
            "text/plain": [
              "30"
            ]
          },
          "metadata": {
            "tags": []
          },
          "execution_count": 38
        },
        {
          "output_type": "execute_result",
          "data": {
            "text/plain": [
              "30"
            ]
          },
          "metadata": {
            "tags": []
          },
          "execution_count": 38
        },
        {
          "output_type": "execute_result",
          "data": {
            "text/plain": [
              "30"
            ]
          },
          "metadata": {
            "tags": []
          },
          "execution_count": 38
        },
        {
          "output_type": "execute_result",
          "data": {
            "text/plain": [
              "30"
            ]
          },
          "metadata": {
            "tags": []
          },
          "execution_count": 38
        },
        {
          "output_type": "execute_result",
          "data": {
            "text/plain": [
              "30"
            ]
          },
          "metadata": {
            "tags": []
          },
          "execution_count": 38
        },
        {
          "output_type": "execute_result",
          "data": {
            "text/plain": [
              "30"
            ]
          },
          "metadata": {
            "tags": []
          },
          "execution_count": 38
        },
        {
          "output_type": "execute_result",
          "data": {
            "text/plain": [
              "30"
            ]
          },
          "metadata": {
            "tags": []
          },
          "execution_count": 38
        },
        {
          "output_type": "execute_result",
          "data": {
            "text/plain": [
              "30"
            ]
          },
          "metadata": {
            "tags": []
          },
          "execution_count": 38
        },
        {
          "output_type": "execute_result",
          "data": {
            "text/plain": [
              "30"
            ]
          },
          "metadata": {
            "tags": []
          },
          "execution_count": 38
        },
        {
          "output_type": "execute_result",
          "data": {
            "text/plain": [
              "30"
            ]
          },
          "metadata": {
            "tags": []
          },
          "execution_count": 38
        },
        {
          "output_type": "execute_result",
          "data": {
            "text/plain": [
              "30"
            ]
          },
          "metadata": {
            "tags": []
          },
          "execution_count": 38
        },
        {
          "output_type": "execute_result",
          "data": {
            "text/plain": [
              "30"
            ]
          },
          "metadata": {
            "tags": []
          },
          "execution_count": 38
        },
        {
          "output_type": "execute_result",
          "data": {
            "text/plain": [
              "30"
            ]
          },
          "metadata": {
            "tags": []
          },
          "execution_count": 38
        },
        {
          "output_type": "execute_result",
          "data": {
            "text/plain": [
              "30"
            ]
          },
          "metadata": {
            "tags": []
          },
          "execution_count": 38
        },
        {
          "output_type": "execute_result",
          "data": {
            "text/plain": [
              "30"
            ]
          },
          "metadata": {
            "tags": []
          },
          "execution_count": 38
        },
        {
          "output_type": "execute_result",
          "data": {
            "text/plain": [
              "30"
            ]
          },
          "metadata": {
            "tags": []
          },
          "execution_count": 38
        },
        {
          "output_type": "execute_result",
          "data": {
            "text/plain": [
              "30"
            ]
          },
          "metadata": {
            "tags": []
          },
          "execution_count": 38
        },
        {
          "output_type": "execute_result",
          "data": {
            "text/plain": [
              "30"
            ]
          },
          "metadata": {
            "tags": []
          },
          "execution_count": 38
        }
      ]
    },
    {
      "cell_type": "code",
      "metadata": {
        "id": "JgpWhorBogdB"
      },
      "source": [
        "from tensorflow.keras.applications.vgg16 import preprocess_input \n",
        "\n",
        "img_h = 768\n",
        "img_w = 512\n",
        "\n",
        "dataset = CustomDataset(dataset_dir[0], 'training', \n",
        "                        img_generator=img_data_gen, mask_generator=mask_data_gen,\n",
        "                        preprocessing_function=None, out_shape=[img_w,img_h])\n",
        "\n",
        "#dataset1 = CustomDataset(dataset_dir[1], 'training', \n",
        "#                        img_generator=img_data_gen, mask_generator=mask_data_gen,\n",
        "#                        preprocessing_function=None, out_shape=[img_w,img_h])\n",
        "\n",
        "dataset_valid = CustomDataset(dataset_dir[0], 'validation', \n",
        "                              preprocessing_function=None,out_shape=[img_w,img_h])\n",
        "\n",
        "#dataset_valid1 = CustomDataset(dataset_dir[1], 'validation', \n",
        "#                              preprocessing_function=None,out_shape=[img_w,img_h])\n"
      ],
      "execution_count": 39,
      "outputs": []
    },
    {
      "cell_type": "code",
      "metadata": {
        "id": "HOBabUbmnFJE"
      },
      "source": [
        "\n",
        "train_dataset0 = tf.data.Dataset.from_generator(lambda: dataset,\n",
        "                                               output_types=(tf.float32, tf.float32),\n",
        "                                               output_shapes=([img_h, img_w, 3], [img_h, img_w, 1]))\n",
        "\n",
        "#train_dataset1 = tf.data.Dataset.from_generator(lambda: dataset1,\n",
        "#                                               output_types=(tf.float32, tf.float32),\n",
        "#                                               output_shapes=([img_h, img_w, 3], [img_h, img_w, 1]))\n",
        "\n",
        "#train_dataset = train_dataset0.concatenate(train_dataset1)\n",
        "\n",
        "train_dataset0 = train_dataset0.batch(5)\n",
        "\n",
        "train_dataset0 = train_dataset0.repeat()\n",
        "\n",
        "valid_dataset0 = tf.data.Dataset.from_generator(lambda: dataset_valid,\n",
        "                                               output_types=(tf.float32, tf.float32),\n",
        "                                               output_shapes=([img_h, img_w, 3], [img_h, img_w, 1]))\n",
        "#valid_dataset1 = tf.data.Dataset.from_generator(lambda: dataset_valid1,\n",
        "#                                               output_types=(tf.float32, tf.float32),\n",
        "#                                               output_shapes=([img_h, img_w, 3], [img_h, img_w, 1]))\n",
        "\n",
        "#valid_dataset = valid_dataset0.concatenate(valid_dataset1)\n",
        "\n",
        "valid_dataset0 = valid_dataset0.batch(5)\n",
        "\n",
        "valid_dataset0 = valid_dataset0.repeat()"
      ],
      "execution_count": 40,
      "outputs": []
    },
    {
      "cell_type": "code",
      "metadata": {
        "id": "9eunbPwWqPnB"
      },
      "source": [
        "# Let's test data generator\n",
        "# -------------------------\n",
        "\n",
        "import time\n",
        "from matplotlib import cm\n",
        "import matplotlib.pyplot as plt\n",
        "\n",
        "%matplotlib inline\n",
        "\n",
        "\n",
        "# Assign a color to each class\n",
        "evenly_spaced_interval = np.linspace(0, 1, 3)\n",
        "colors = [cm.rainbow(x) for x in evenly_spaced_interval]\n",
        "\n",
        "iterator = iter(valid_dataset0)"
      ],
      "execution_count": 41,
      "outputs": []
    },
    {
      "cell_type": "code",
      "metadata": {
        "colab": {
          "base_uri": "https://localhost:8080/",
          "height": 320
        },
        "id": "553NrJXrFCZo",
        "outputId": "5694971e-73c4-41eb-c45c-b744d814f990"
      },
      "source": [
        "fig, ax = plt.subplots(1, 2)\n",
        "\n",
        "augmented_img, target = next(iterator)\n",
        "augmented_img = augmented_img[0]   # First element\n",
        "augmented_img = augmented_img  # denormalize\n",
        "\n",
        "target = np.array(target[0, ..., 0])   # First element (squeezing channel dimension)\n",
        "\n",
        "print(np.unique(target))\n",
        "\n",
        "target_img = np.zeros([target.shape[0], target.shape[1], 3])\n",
        "\n",
        "target_img[np.where(target == 0)] = [0, 0, 0]\n",
        "for i in range(1, 3):\n",
        "  target_img[np.where(target == i)] = np.array(colors[i-1])[:3] * 255\n",
        "\n",
        "ax[0].imshow(np.uint8(augmented_img))\n",
        "ax[1].imshow(np.uint8(target_img))\n",
        "\n",
        "plt.show()\n",
        "\n",
        "print(np.max(np.uint8(target)))"
      ],
      "execution_count": 42,
      "outputs": [
        {
          "output_type": "stream",
          "text": [
            "[0. 1.]\n"
          ],
          "name": "stdout"
        },
        {
          "output_type": "execute_result",
          "data": {
            "text/plain": [
              "<matplotlib.image.AxesImage at 0x7ff874292a58>"
            ]
          },
          "metadata": {
            "tags": []
          },
          "execution_count": 42
        },
        {
          "output_type": "execute_result",
          "data": {
            "text/plain": [
              "<matplotlib.image.AxesImage at 0x7ff8742929e8>"
            ]
          },
          "metadata": {
            "tags": []
          },
          "execution_count": 42
        },
        {
          "output_type": "display_data",
          "data": {
            "image/png": "[encoded data removed]",
            "text/plain": [
              "<Figure size 432x288 with 2 Axes>"
            ]
          },
          "metadata": {
            "tags": [],
            "needs_background": "light"
          }
        },
        {
          "output_type": "stream",
          "text": [
            "1\n"
          ],
          "name": "stdout"
        }
      ]
    },
    {
      "cell_type": "code",
      "metadata": {
        "id": "JA1TGlOMnFJM",
        "colab": {
          "base_uri": "https://localhost:8080/"
        },
        "outputId": "2caf71e0-2dc8-41b1-dc8f-97096a02c33d"
      },
      "source": [
        "vgg = tf.keras.applications.VGG16(weights='imagenet', include_top=False, input_shape=(img_h, img_w, 3))\n",
        "vgg.summary()\n",
        "for layer in vgg.layers:\n",
        "  layer.trainable = False"
      ],
      "execution_count": 43,
      "outputs": [
        {
          "output_type": "stream",
          "text": [
            "Model: \"vgg16\"\n",
            "_________________________________________________________________\n",
            "Layer (type)                 Output Shape              Param #   \n",
            "=================================================================\n",
            "input_3 (InputLayer)         [(None, 768, 512, 3)]     0         \n",
            "_________________________________________________________________\n",
            "block1_conv1 (Conv2D)        (None, 768, 512, 64)      1792      \n",
            "_________________________________________________________________\n",
            "block1_conv2 (Conv2D)        (None, 768, 512, 64)      36928     \n",
            "_________________________________________________________________\n",
            "block1_pool (MaxPooling2D)   (None, 384, 256, 64)      0         \n",
            "_________________________________________________________________\n",
            "block2_conv1 (Conv2D)        (None, 384, 256, 128)     73856     \n",
            "_________________________________________________________________\n",
            "block2_conv2 (Conv2D)        (None, 384, 256, 128)     147584    \n",
            "_________________________________________________________________\n",
            "block2_pool (MaxPooling2D)   (None, 192, 128, 128)     0         \n",
            "_________________________________________________________________\n",
            "block3_conv1 (Conv2D)        (None, 192, 128, 256)     295168    \n",
            "_________________________________________________________________\n",
            "block3_conv2 (Conv2D)        (None, 192, 128, 256)     590080    \n",
            "_________________________________________________________________\n",
            "block3_conv3 (Conv2D)        (None, 192, 128, 256)     590080    \n",
            "_________________________________________________________________\n",
            "block3_pool (MaxPooling2D)   (None, 96, 64, 256)       0         \n",
            "_________________________________________________________________\n",
            "block4_conv1 (Conv2D)        (None, 96, 64, 512)       1180160   \n",
            "_________________________________________________________________\n",
            "block4_conv2 (Conv2D)        (None, 96, 64, 512)       2359808   \n",
            "_________________________________________________________________\n",
            "block4_conv3 (Conv2D)        (None, 96, 64, 512)       2359808   \n",
            "_________________________________________________________________\n",
            "block4_pool (MaxPooling2D)   (None, 48, 32, 512)       0         \n",
            "_________________________________________________________________\n",
            "block5_conv1 (Conv2D)        (None, 48, 32, 512)       2359808   \n",
            "_________________________________________________________________\n",
            "block5_conv2 (Conv2D)        (None, 48, 32, 512)       2359808   \n",
            "_________________________________________________________________\n",
            "block5_conv3 (Conv2D)        (None, 48, 32, 512)       2359808   \n",
            "_________________________________________________________________\n",
            "block5_pool (MaxPooling2D)   (None, 24, 16, 512)       0         \n",
            "=================================================================\n",
            "Total params: 14,714,688\n",
            "Trainable params: 14,714,688\n",
            "Non-trainable params: 0\n",
            "_________________________________________________________________\n"
          ],
          "name": "stdout"
        }
      ]
    },
    {
      "cell_type": "code",
      "metadata": {
        "id": "nYzNyfh9BQPy"
      },
      "source": [
        "def show_predictions(dataset=None, num=1):\n",
        "    iterator = iter(valid_dataset0)\n",
        "    fig, ax = plt.subplots(1, 3, figsize=(8, 8))\n",
        "    fig.show()\n",
        "    image, target = next(iterator)\n",
        "\n",
        "    image = image[0]\n",
        "    target = target[0, ..., 0]\n",
        "\n",
        "    out_sigmoid = model.predict(x=tf.expand_dims(image, 0))\n",
        "\n",
        "    # Get predicted class as the index corresponding to the maximum value in the vector probability\n",
        "    # predicted_class = tf.cast(out_sigmoid > score_th, tf.int32)\n",
        "    # predicted_class = predicted_class[0, ..., 0]\n",
        "    predicted_class = tf.argmax(out_sigmoid, -1)\n",
        "\n",
        "    out_sigmoid.shape\n",
        "\n",
        "    predicted_class = predicted_class[0, ...]\n",
        "\n",
        "    # Assign colors (just for visualization)\n",
        "    target_img = np.zeros([target.shape[0], target.shape[1], 3])\n",
        "    prediction_img = np.zeros([target.shape[0], target.shape[1], 3])\n",
        "\n",
        "    target_img[np.where(target == 0)] = [0, 0, 0]\n",
        "    for i in range(1, 3):\n",
        "      target_img[np.where(target == i)] = np.array(colors[i-1])[:3] * 255\n",
        "\n",
        "    prediction_img[np.where(predicted_class == 0)] = [0, 0, 0]\n",
        "    for i in range(1, 3):\n",
        "      prediction_img[np.where(predicted_class == i)] = np.array(colors[i-1])[:3] * 255\n",
        "\n",
        "    ax[0].imshow(np.uint8(image))\n",
        "    ax[1].imshow(np.uint8(target_img))\n",
        "    ax[2].imshow(np.uint8(prediction_img))\n",
        "\n",
        "    fig.canvas.draw()\n",
        "    time.sleep(1)"
      ],
      "execution_count": 44,
      "outputs": []
    },
    {
      "cell_type": "code",
      "metadata": {
        "id": "twjH476pLH1T"
      },
      "source": [
        "def display(display_list):\n",
        "  plt.figure(figsize=(15, 15))\n",
        "\n",
        "  title = ['Input Image', 'True Mask', 'Predicted Mask']\n",
        "\n",
        "  for i in range(len(display_list)):\n",
        "    plt.subplot(1, len(display_list), i+1)\n",
        "    plt.title(title[i])\n",
        "    plt.imshow(tf.keras.preprocessing.image.array_to_img(display_list[i]))\n",
        "    plt.axis('off')\n",
        "  plt.show()"
      ],
      "execution_count": 45,
      "outputs": []
    },
    {
      "cell_type": "code",
      "metadata": {
        "id": "Cm_gC_sZLH1U"
      },
      "source": [
        "def create_mask(pred_mask):\n",
        "  pred_mask = tf.argmax(pred_mask, axis=-1)\n",
        "  pred_mask = pred_mask[..., tf.newaxis]\n",
        "  return pred_mask[0]"
      ],
      "execution_count": 46,
      "outputs": []
    },
    {
      "cell_type": "code",
      "metadata": {
        "id": "IY7sDfmBLH1U"
      },
      "source": [
        "def show_predictions(dataset=None, num=1):\n",
        "    iterator = iter(valid_dataset0)\n",
        "    fig, ax = plt.subplots(1, 3, figsize=(8, 8))\n",
        "    fig.show()\n",
        "    image, target = next(iterator)\n",
        "\n",
        "    display([image, target,\n",
        "             create_mask(model.predict(image[tf.newaxis, ...]))])"
      ],
      "execution_count": 47,
      "outputs": []
    },
    {
      "cell_type": "code",
      "metadata": {
        "id": "6H8V28PvA0pW"
      },
      "source": [
        "class DisplayCallback(tf.keras.callbacks.Callback):\n",
        "  def on_epoch_end(self, epoch, logs=None):\n",
        "    show_predictions()\n",
        "    print ('\\nSample Prediction after epoch {}\\n'.format(epoch+1))"
      ],
      "execution_count": 48,
      "outputs": []
    },
    {
      "cell_type": "code",
      "metadata": {
        "id": "BvsdiF0TFTbt"
      },
      "source": [
        "def create_model(depth, start_f, num_classes):\n",
        "\n",
        "    model = tf.keras.Sequential()\n",
        "    \n",
        "    # Encoder\n",
        "    # -------\n",
        "    model.add(vgg)\n",
        "    \n",
        "    start_f = 256\n",
        "        \n",
        "    # Decoder\n",
        "    # -------\n",
        "    for i in range(depth):\n",
        "        model.add(tf.keras.layers.UpSampling2D(2, interpolation='bilinear'))\n",
        "        model.add(tf.keras.layers.Conv2D(filters=start_f,\n",
        "                                         kernel_size=(3, 3),\n",
        "                                         strides=(1, 1),\n",
        "                                         padding='same'))\n",
        "        model.add(tf.keras.layers.ReLU())\n",
        "\n",
        "        start_f = start_f // 2\n",
        "\n",
        "    # Prediction Layer\n",
        "    # ----------------\n",
        "    model.add(tf.keras.layers.Conv2D(filters=num_classes,\n",
        "                                     kernel_size=(1, 1),\n",
        "                                     strides=(1, 1),\n",
        "                                     padding='same',\n",
        "                                     activation='softmax'))\n",
        "    \n",
        "    return model"
      ],
      "execution_count": 49,
      "outputs": []
    },
    {
      "cell_type": "code",
      "metadata": {
        "id": "JDI7ayv6LH1U"
      },
      "source": [
        "def upsample(filters, size, norm_type='batchnorm', apply_dropout=False):\n",
        "  \"\"\"Upsamples an input.\n",
        "  Conv2DTranspose => Batchnorm => Dropout => Relu\n",
        "  Args:\n",
        "    filters: number of filters\n",
        "    size: filter size\n",
        "    norm_type: Normalization type; either 'batchnorm' or 'instancenorm'.\n",
        "    apply_dropout: If True, adds the dropout layer\n",
        "  Returns:\n",
        "    Upsample Sequential Model\n",
        "  \"\"\"\n",
        "  initializer = tf.keras.initializers.GlorotNormal()\n",
        "\n",
        "  result = tf.keras.Sequential()\n",
        "  result.add(tf.keras.layers.UpSampling2D(2, interpolation='bilinear'))\n",
        "  result.add(tf.keras.layers.Conv2D(filters=filters,\n",
        "                                         kernel_size=(3, 3),\n",
        "                                         strides=(1, 1),\n",
        "                                         padding='same', kernel_initializer=initializer))\n",
        "\n",
        "  result.add(tf.keras.layers.ReLU())\n",
        "\n",
        "  return result"
      ],
      "execution_count": 50,
      "outputs": []
    },
    {
      "cell_type": "code",
      "metadata": {
        "colab": {
          "base_uri": "https://localhost:8080/"
        },
        "id": "k97OK6CRnFJS",
        "scrolled": true,
        "outputId": "bb20df00-e09f-4837-fc98-553bd7414b84"
      },
      "source": [
        "from IPython.display import clear_output\n",
        "\n",
        "def display(display_list):\n",
        "  plt.figure(figsize=(15, 15))\n",
        "\n",
        "  title = ['Input Image', 'True Mask', 'Predicted Mask']\n",
        "\n",
        "  for i in range(len(display_list)):\n",
        "    plt.subplot(1, len(display_list), i+1)\n",
        "    plt.title(title[i])\n",
        "    plt.imshow(tf.keras.preprocessing.image.array_to_img(display_list[i]))\n",
        "    plt.axis('off')\n",
        "  plt.show()\n",
        "\n",
        "base_model = vgg\n",
        "\n",
        "# Use the activations of these layers\n",
        "layer_names = [\n",
        "    'block1_conv2',\n",
        "    'block2_conv2',   # 384x256\n",
        "    'block3_conv3',   # 192x128\n",
        "    'block4_conv3',  # 96x64\n",
        "    'block5_conv3',      # 48x32\n",
        "]\n",
        "layers = [base_model.get_layer(name).output for name in layer_names]\n",
        "\n",
        "# Create the feature extraction model\n",
        "down_stack = tf.keras.Model(inputs=base_model.input, outputs=layers)\n",
        "\n",
        "down_stack.trainable = False\n",
        "\n",
        "\n",
        "up_stack = [\n",
        "    upsample(512, 3),  # 4x4 -> 8x8\n",
        "    upsample(256, 3),  # 8x8 -> 16x16\n",
        "    upsample(128, 3),\n",
        "    upsample(64, 3)  # 16x16 -> 32x32\n",
        "]\n",
        "\n",
        "def unet_model(output_channels):\n",
        "  inputs = tf.keras.layers.Input(shape=[img_h, img_w, 3])\n",
        "  x = inputs\n",
        "\n",
        "  # Downsampling through the model\n",
        "  skips = down_stack(x)\n",
        "  x = skips[-1]\n",
        "  skips = reversed(skips[:-1])\n",
        "\n",
        "  # Upsampling and establishing the skip connections\n",
        "  for up, skip in zip(up_stack, skips):\n",
        "    x = up(x)\n",
        "    concat = tf.keras.layers.Concatenate()\n",
        "    x = concat([x, skip])\n",
        "\n",
        "  # This is the last layer of the model\n",
        "  last = tf.keras.layers.Conv2D(filters=output_channels,\n",
        "                                         kernel_size=(3, 3),\n",
        "                                         strides=(1, 1),\n",
        "                                         padding='same') #64x64 -> 128x128\n",
        "\n",
        "  x = last(x)\n",
        "\n",
        "  return tf.keras.Model(inputs=inputs, outputs=x)\n",
        "\n",
        "model = unet_model(3)\n",
        "\n",
        "# Visualize created model as a table\n",
        "\n",
        "# Randomly initializes the weights, drawing them from a normal distribution\n",
        "# initializer = tf.keras.initializers.GlorotNormal()\n",
        "\n",
        "# def get_crop_shape(target, refer):\n",
        "#         # width, the 3rd dimension\n",
        "#         cw = (target.get_shape()[2] - refer.get_shape()[2])\n",
        "#         assert (cw >= 0)\n",
        "#         if cw % 2 != 0:\n",
        "#             cw1, cw2 = int(cw/2), int(cw/2) + 1\n",
        "#         else:\n",
        "#             cw1, cw2 = int(cw/2), int(cw/2)\n",
        "#         # height, the 2nd dimension\n",
        "#         ch = (target.get_shape()[1] - refer.get_shape()[1])\n",
        "#         assert (ch >= 0)\n",
        "#         if ch % 2 != 0:\n",
        "#             ch1, ch2 = int(ch/2), int(ch/2) + 1\n",
        "#         else:\n",
        "#             ch1, ch2 = int(ch/2), int(ch/2)\n",
        "\n",
        "#         return (ch1, ch2), (cw1, cw2)\n",
        "\n",
        "\n",
        "# concat_axis = 3\n",
        "# inputs = tf.keras.layers.Input(shape = [img_h,img_w,3])\n",
        "\n",
        "# conv1 = tf.keras.layers.Conv2D(32, (3, 3), activation='relu', padding='same', name='conv1_1', kernel_initializer=initializer)(inputs)\n",
        "# conv1 = tf.keras.layers.Conv2D(32, (3, 3), activation='relu', padding='same', kernel_initializer=initializer)(conv1)\n",
        "# pool1 = tf.keras.layers.MaxPooling2D(pool_size=(2, 2))(conv1)\n",
        "# conv2 = tf.keras.layers.Conv2D(64, (3, 3), activation='relu', padding='same', kernel_initializer=initializer)(pool1)\n",
        "# conv2 = tf.keras.layers.Conv2D(64, (3, 3), activation='relu', padding='same', kernel_initializer=initializer)(conv2)\n",
        "# pool2 = tf.keras.layers.MaxPooling2D(pool_size=(2, 2))(conv2)\n",
        "\n",
        "# conv3 = tf.keras.layers.Conv2D(128, (3, 3), activation='relu', padding='same', kernel_initializer=initializer)(pool2)\n",
        "# conv3 = tf.keras.layers.Conv2D(128, (3, 3), activation='relu', padding='same', kernel_initializer=initializer)(conv3)\n",
        "# pool3 = tf.keras.layers.MaxPooling2D(pool_size=(2, 2))(conv3)\n",
        "\n",
        "# conv4 = tf.keras.layers.Conv2D(256, (3, 3), activation='relu', padding='same', kernel_initializer=initializer)(pool3)\n",
        "# conv4 = tf.keras.layers.Conv2D(256, (3, 3), activation='relu', padding='same', kernel_initializer=initializer)(conv4)\n",
        "# pool4 = tf.keras.layers.MaxPooling2D(pool_size=(2, 2))(conv4)\n",
        "\n",
        "# conv5 = tf.keras.layers.Conv2D(512, (3, 3), activation='relu', padding='same', kernel_initializer=initializer)(pool4)\n",
        "# conv5 = tf.keras.layers.Conv2D(512, (3, 3), activation='relu', padding='same', kernel_initializer=initializer)(conv5)\n",
        "\n",
        "# up_conv5 = tf.keras.layers.UpSampling2D(size=(2, 2))(conv5)\n",
        "# ch, cw = get_crop_shape(conv4, up_conv5)\n",
        "# crop_conv4 = tf.keras.layers.Cropping2D(cropping=(ch,cw))(conv4)\n",
        "# up6 = tf.keras.layers.concatenate([up_conv5, crop_conv4], axis=concat_axis)\n",
        "# conv6 = tf.keras.layers.Conv2D(256, (3, 3), activation='relu', padding='same', kernel_initializer=initializer)(up6)\n",
        "# conv6 = tf.keras.layers.Conv2D(256, (3, 3), activation='relu', padding='same', kernel_initializer=initializer)(conv6)\n",
        "\n",
        "# up_conv6 = tf.keras.layers.UpSampling2D(size=(2, 2))(conv6)\n",
        "# ch, cw = get_crop_shape(conv3, up_conv6)\n",
        "# crop_conv3 = tf.keras.layers.Cropping2D(cropping=(ch,cw))(conv3)\n",
        "# up7 = tf.keras.layers.concatenate([up_conv6, crop_conv3], axis=concat_axis) \n",
        "# conv7 = tf.keras.layers.Conv2D(128, (3, 3), activation='relu', padding='same', kernel_initializer=initializer)(up7)\n",
        "# conv7 = tf.keras.layers.Conv2D(128, (3, 3), activation='relu', padding='same', kernel_initializer=initializer)(conv7)\n",
        "\n",
        "# up_conv7 = tf.keras.layers.UpSampling2D(size=(2, 2))(conv7)\n",
        "# ch, cw = get_crop_shape(conv2, up_conv7)\n",
        "# crop_conv2 = tf.keras.layers.Cropping2D(cropping=(ch,cw))(conv2)\n",
        "# up8 = tf.keras.layers.concatenate([up_conv7, crop_conv2], axis=concat_axis)\n",
        "# conv8 = tf.keras.layers.Conv2D(64, (3, 3), activation='relu', padding='same', kernel_initializer=initializer)(up8)\n",
        "# conv8 = tf.keras.layers.Conv2D(64, (3, 3), activation='relu', padding='same', kernel_initializer=initializer)(conv8)\n",
        "\n",
        "# up_conv8 = tf.keras.layers.UpSampling2D(size=(2, 2))(conv8)\n",
        "# ch, cw = get_crop_shape(conv1, up_conv8)\n",
        "# crop_conv1 = tf.keras.layers.Cropping2D(cropping=(ch,cw))(conv1)\n",
        "# up9 = tf.keras.layers.concatenate([up_conv8, crop_conv1], axis=concat_axis)\n",
        "# conv9 = tf.keras.layers.Conv2D(32, (3, 3), activation='relu', padding='same', kernel_initializer=initializer)(up9)\n",
        "# conv9 = tf.keras.layers.Conv2D(32, (3, 3), activation='relu', padding='same', kernel_initializer=initializer)(conv9)\n",
        "\n",
        "# ch, cw = get_crop_shape(inputs, conv9)\n",
        "# conv9 = tf.keras.layers.ZeroPadding2D(padding=((ch[0], ch[1]), (cw[0], cw[1])))(conv9)\n",
        "# conv10 = tf.keras.layers.Conv2D(3, (1, 1), kernel_initializer=initializer)(conv9)\n",
        "\n",
        "# model = tf.keras.models.Model(inputs=inputs, outputs=conv10)\n",
        "\n",
        "# Visualize created model as a table\n",
        "\n",
        "\n",
        "# model = create_model(depth=5, \n",
        "#                       start_f=8, \n",
        "#                       num_classes=3)\n",
        "\n",
        "\n",
        "model.summary()\n",
        "\n",
        "# Visualize initialized weights\n",
        "# model.weights\n",
        "\n",
        "\n",
        "\n",
        "\n",
        "#model.summary()\n",
        "\n",
        "# Visualize initialized weights\n",
        "# model.weights"
      ],
      "execution_count": 51,
      "outputs": [
        {
          "output_type": "stream",
          "text": [
            "Model: \"model_3\"\n",
            "__________________________________________________________________________________________________\n",
            "Layer (type)                    Output Shape         Param #     Connected to                     \n",
            "==================================================================================================\n",
            "input_4 (InputLayer)            [(None, 768, 512, 3) 0                                            \n",
            "__________________________________________________________________________________________________\n",
            "model_2 (Functional)            [(None, 768, 512, 64 14714688    input_4[0][0]                    \n",
            "__________________________________________________________________________________________________\n",
            "sequential_4 (Sequential)       (None, 96, 64, 512)  2359808     model_2[0][4]                    \n",
            "__________________________________________________________________________________________________\n",
            "concatenate_4 (Concatenate)     (None, 96, 64, 1024) 0           sequential_4[0][0]               \n",
            "                                                                 model_2[0][3]                    \n",
            "__________________________________________________________________________________________________\n",
            "sequential_5 (Sequential)       (None, 192, 128, 256 2359552     concatenate_4[0][0]              \n",
            "__________________________________________________________________________________________________\n",
            "concatenate_5 (Concatenate)     (None, 192, 128, 512 0           sequential_5[0][0]               \n",
            "                                                                 model_2[0][2]                    \n",
            "__________________________________________________________________________________________________\n",
            "sequential_6 (Sequential)       (None, 384, 256, 128 589952      concatenate_5[0][0]              \n",
            "__________________________________________________________________________________________________\n",
            "concatenate_6 (Concatenate)     (None, 384, 256, 256 0           sequential_6[0][0]               \n",
            "                                                                 model_2[0][1]                    \n",
            "__________________________________________________________________________________________________\n",
            "sequential_7 (Sequential)       (None, 768, 512, 64) 147520      concatenate_6[0][0]              \n",
            "__________________________________________________________________________________________________\n",
            "concatenate_7 (Concatenate)     (None, 768, 512, 128 0           sequential_7[0][0]               \n",
            "                                                                 model_2[0][0]                    \n",
            "__________________________________________________________________________________________________\n",
            "conv2d_9 (Conv2D)               (None, 768, 512, 3)  3459        concatenate_7[0][0]              \n",
            "==================================================================================================\n",
            "Total params: 20,174,979\n",
            "Trainable params: 5,460,291\n",
            "Non-trainable params: 14,714,688\n",
            "__________________________________________________________________________________________________\n"
          ],
          "name": "stdout"
        }
      ]
    },
    {
      "cell_type": "code",
      "metadata": {
        "id": "NGzh16WTnFJW"
      },
      "source": [
        "# Optimization params\n",
        "# -------------------\n",
        "\n",
        "# Loss\n",
        "# Sparse Categorical Crossentropy to use integers (mask) instead of one-hot encoded labels\n",
        "loss = tf.keras.losses.SparseCategoricalCrossentropy() \n",
        "# learning rate\n",
        "lr = 8e-5\n",
        "optimizer = tf.keras.optimizers.Adam(learning_rate=lr)\n",
        "# -------------------\n",
        "\n",
        "# Here we define the intersection over union for each class in the batch.\n",
        "# Then we compute the final iou as the mean over classes\n",
        "def meanIoU(y_true, y_pred):\n",
        "    # get predicted class from softmax\n",
        "    y_pred = tf.expand_dims(tf.argmax(y_pred, -1), -1)\n",
        "\n",
        "    per_class_iou = []\n",
        "\n",
        "    for i in range(1,3): # exclude the background class 0\n",
        "      # Get prediction and target related to only a single class (i)\n",
        "      class_pred = tf.cast(tf.where(y_pred == i, 1, 0), tf.float32)\n",
        "      class_true = tf.cast(tf.where(y_true == i, 1, 0), tf.float32)\n",
        "      intersection = tf.reduce_sum(class_true * class_pred)\n",
        "      union = tf.reduce_sum(class_true) + tf.reduce_sum(class_pred) - intersection\n",
        "    \n",
        "      iou = (intersection + 1e-7) / (union + 1e-7)\n",
        "      per_class_iou.append(iou)\n",
        "\n",
        "    return tf.reduce_mean(per_class_iou)\n",
        "\n",
        "# Validation metrics\n",
        "# ------------------\n",
        "metrics = ['accuracy', meanIoU]\n",
        "# ------------------\n",
        "weights = [10,2,2]\n",
        "\n",
        "# Compile Model\n",
        "model.compile(optimizer=optimizer, loss=loss , metrics=metrics, loss_weights=weights)"
      ],
      "execution_count": 52,
      "outputs": []
    },
    {
      "cell_type": "code",
      "metadata": {
        "colab": {
          "base_uri": "https://localhost:8080/",
          "height": 408
        },
        "id": "9MlmYGVMnFJW",
        "outputId": "62e09e99-398d-499e-87c9-afda2c188b32"
      },
      "source": [
        "import os\n",
        "from datetime import datetime\n",
        "\n",
        "cwd1 = os.getcwd()\n",
        "\n",
        "exps_dir = os.path.join(cwd1, 'multiclass_exps')\n",
        "if not os.path.exists(exps_dir):\n",
        "    os.makedirs(exps_dir)\n",
        "\n",
        "now = datetime.now().strftime('%b%d_%H-%M-%S')\n",
        "\n",
        "model_name = 'CNN'\n",
        "\n",
        "exp_dir = os.path.join(exps_dir, model_name + '_' + str(now))\n",
        "if not os.path.exists(exp_dir):\n",
        "    os.makedirs(exp_dir)\n",
        "    \n",
        "callbacks = []\n",
        "\n",
        "# Model checkpoint\n",
        "# ----------------\n",
        "ckpt_dir = os.path.join(exp_dir, 'ckpts')\n",
        "if not os.path.exists(ckpt_dir):\n",
        "    os.makedirs(ckpt_dir)\n",
        "\n",
        "ckpt_callback = tf.keras.callbacks.ModelCheckpoint(filepath=os.path.join(ckpt_dir, 'cp.ckpt'), \n",
        "                                                   save_weights_only=True)  # False to save the model directly\n",
        "callbacks.append(ckpt_callback)\n",
        "\n",
        "# Visualize Learning on Tensorboard\n",
        "# ---------------------------------\n",
        "tb_dir = os.path.join(exp_dir, 'tb_logs')\n",
        "if not os.path.exists(tb_dir):\n",
        "    os.makedirs(tb_dir)\n",
        "    \n",
        "# By default shows losses and metrics for both training and validation\n",
        "tb_callback = tf.keras.callbacks.TensorBoard(log_dir=tb_dir,\n",
        "                                             profile_batch=0,\n",
        "                                             histogram_freq=0)  # if 1 shows weights histograms\n",
        "callbacks.append(tb_callback)\n",
        "\n",
        "# Early Stopping\n",
        "# --------------\n",
        "early_stop = True\n",
        "if early_stop:\n",
        "    es_callback = tf.keras.callbacks.EarlyStopping(monitor='val_meanIoU', patience=10, mode=\"max\")\n",
        "    callbacks.append(es_callback)\n",
        "\n",
        "#callbacks.append(DisplayCallback())\n",
        "\n",
        "model.fit(x=train_dataset0,\n",
        "          epochs=100,  #### set repeat in training dataset\n",
        "          steps_per_epoch=len(dataset),#+len(dataset1)\n",
        "          validation_data=valid_dataset0,\n",
        "          validation_steps=len(dataset_valid), #+len(dataset_valid1)\n",
        "          callbacks=callbacks)\n",
        "\n",
        "# How to visualize Tensorboard\n",
        "\n",
        "# 1. tensorboard --logdir EXPERIMENTS_DIR --port PORT     <- from terminal\n",
        "# 2. localhost:PORT   <- in your browser"
      ],
      "execution_count": 53,
      "outputs": [
        {
          "output_type": "stream",
          "text": [
            "Epoch 1/100\n",
            "107/654 [===>..........................] - ETA: 12:14 - loss: 12.9304 - accuracy: 0.8230 - meanIoU: 0.0078"
          ],
          "name": "stdout"
        },
        {
          "output_type": "error",
          "ename": "KeyboardInterrupt",
          "evalue": "ignored",
          "traceback": [
            "\u001b[0;31m---------------------------------------------------------------------------\u001b[0m",
            "\u001b[0;31mKeyboardInterrupt\u001b[0m                         Traceback (most recent call last)",
            "\u001b[0;32m<ipython-input-53-7e68b52b979d>\u001b[0m in \u001b[0;36m<module>\u001b[0;34m()\u001b[0m\n\u001b[1;32m     54\u001b[0m           \u001b[0mvalidation_data\u001b[0m\u001b[0;34m=\u001b[0m\u001b[0mvalid_dataset0\u001b[0m\u001b[0;34m,\u001b[0m\u001b[0;34m\u001b[0m\u001b[0;34m\u001b[0m\u001b[0m\n\u001b[1;32m     55\u001b[0m           \u001b[0mvalidation_steps\u001b[0m\u001b[0;34m=\u001b[0m\u001b[0mlen\u001b[0m\u001b[0;34m(\u001b[0m\u001b[0mdataset_valid\u001b[0m\u001b[0;34m)\u001b[0m\u001b[0;34m,\u001b[0m \u001b[0;31m#+len(dataset_valid1)\u001b[0m\u001b[0;34m\u001b[0m\u001b[0;34m\u001b[0m\u001b[0m\n\u001b[0;32m---> 56\u001b[0;31m           callbacks=callbacks)\n\u001b[0m\u001b[1;32m     57\u001b[0m \u001b[0;34m\u001b[0m\u001b[0m\n\u001b[1;32m     58\u001b[0m \u001b[0;31m# How to visualize Tensorboard\u001b[0m\u001b[0;34m\u001b[0m\u001b[0;34m\u001b[0m\u001b[0;34m\u001b[0m\u001b[0m\n",
            "\u001b[0;32m/usr/local/lib/python3.6/dist-packages/tensorflow/python/keras/engine/training.py\u001b[0m in \u001b[0;36mfit\u001b[0;34m(self, x, y, batch_size, epochs, verbose, callbacks, validation_split, validation_data, shuffle, class_weight, sample_weight, initial_epoch, steps_per_epoch, validation_steps, validation_batch_size, validation_freq, max_queue_size, workers, use_multiprocessing)\u001b[0m\n\u001b[1;32m   1098\u001b[0m                 _r=1):\n\u001b[1;32m   1099\u001b[0m               \u001b[0mcallbacks\u001b[0m\u001b[0;34m.\u001b[0m\u001b[0mon_train_batch_begin\u001b[0m\u001b[0;34m(\u001b[0m\u001b[0mstep\u001b[0m\u001b[0;34m)\u001b[0m\u001b[0;34m\u001b[0m\u001b[0;34m\u001b[0m\u001b[0m\n\u001b[0;32m-> 1100\u001b[0;31m               \u001b[0mtmp_logs\u001b[0m \u001b[0;34m=\u001b[0m \u001b[0mself\u001b[0m\u001b[0;34m.\u001b[0m\u001b[0mtrain_function\u001b[0m\u001b[0;34m(\u001b[0m\u001b[0miterator\u001b[0m\u001b[0;34m)\u001b[0m\u001b[0;34m\u001b[0m\u001b[0;34m\u001b[0m\u001b[0m\n\u001b[0m\u001b[1;32m   1101\u001b[0m               \u001b[0;32mif\u001b[0m \u001b[0mdata_handler\u001b[0m\u001b[0;34m.\u001b[0m\u001b[0mshould_sync\u001b[0m\u001b[0;34m:\u001b[0m\u001b[0;34m\u001b[0m\u001b[0;34m\u001b[0m\u001b[0m\n\u001b[1;32m   1102\u001b[0m                 \u001b[0mcontext\u001b[0m\u001b[0;34m.\u001b[0m\u001b[0masync_wait\u001b[0m\u001b[0;34m(\u001b[0m\u001b[0;34m)\u001b[0m\u001b[0;34m\u001b[0m\u001b[0;34m\u001b[0m\u001b[0m\n",
            "\u001b[0;32m/usr/local/lib/python3.6/dist-packages/tensorflow/python/eager/def_function.py\u001b[0m in \u001b[0;36m__call__\u001b[0;34m(self, *args, **kwds)\u001b[0m\n\u001b[1;32m    826\u001b[0m     \u001b[0mtracing_count\u001b[0m \u001b[0;34m=\u001b[0m \u001b[0mself\u001b[0m\u001b[0;34m.\u001b[0m\u001b[0mexperimental_get_tracing_count\u001b[0m\u001b[0;34m(\u001b[0m\u001b[0;34m)\u001b[0m\u001b[0;34m\u001b[0m\u001b[0;34m\u001b[0m\u001b[0m\n\u001b[1;32m    827\u001b[0m     \u001b[0;32mwith\u001b[0m \u001b[0mtrace\u001b[0m\u001b[0;34m.\u001b[0m\u001b[0mTrace\u001b[0m\u001b[0;34m(\u001b[0m\u001b[0mself\u001b[0m\u001b[0;34m.\u001b[0m\u001b[0m_name\u001b[0m\u001b[0;34m)\u001b[0m \u001b[0;32mas\u001b[0m \u001b[0mtm\u001b[0m\u001b[0;34m:\u001b[0m\u001b[0;34m\u001b[0m\u001b[0;34m\u001b[0m\u001b[0m\n\u001b[0;32m--> 828\u001b[0;31m       \u001b[0mresult\u001b[0m \u001b[0;34m=\u001b[0m \u001b[0mself\u001b[0m\u001b[0;34m.\u001b[0m\u001b[0m_call\u001b[0m\u001b[0;34m(\u001b[0m\u001b[0;34m*\u001b[0m\u001b[0margs\u001b[0m\u001b[0;34m,\u001b[0m \u001b[0;34m**\u001b[0m\u001b[0mkwds\u001b[0m\u001b[0;34m)\u001b[0m\u001b[0;34m\u001b[0m\u001b[0;34m\u001b[0m\u001b[0m\n\u001b[0m\u001b[1;32m    829\u001b[0m       \u001b[0mcompiler\u001b[0m \u001b[0;34m=\u001b[0m \u001b[0;34m\"xla\"\u001b[0m \u001b[0;32mif\u001b[0m \u001b[0mself\u001b[0m\u001b[0;34m.\u001b[0m\u001b[0m_experimental_compile\u001b[0m \u001b[0;32melse\u001b[0m \u001b[0;34m\"nonXla\"\u001b[0m\u001b[0;34m\u001b[0m\u001b[0;34m\u001b[0m\u001b[0m\n\u001b[1;32m    830\u001b[0m       \u001b[0mnew_tracing_count\u001b[0m \u001b[0;34m=\u001b[0m \u001b[0mself\u001b[0m\u001b[0;34m.\u001b[0m\u001b[0mexperimental_get_tracing_count\u001b[0m\u001b[0;34m(\u001b[0m\u001b[0;34m)\u001b[0m\u001b[0;34m\u001b[0m\u001b[0;34m\u001b[0m\u001b[0m\n",
            "\u001b[0;32m/usr/local/lib/python3.6/dist-packages/tensorflow/python/eager/def_function.py\u001b[0m in \u001b[0;36m_call\u001b[0;34m(self, *args, **kwds)\u001b[0m\n\u001b[1;32m    853\u001b[0m       \u001b[0;31m# In this case we have created variables on the first call, so we run the\u001b[0m\u001b[0;34m\u001b[0m\u001b[0;34m\u001b[0m\u001b[0;34m\u001b[0m\u001b[0m\n\u001b[1;32m    854\u001b[0m       \u001b[0;31m# defunned version which is guaranteed to never create variables.\u001b[0m\u001b[0;34m\u001b[0m\u001b[0;34m\u001b[0m\u001b[0;34m\u001b[0m\u001b[0m\n\u001b[0;32m--> 855\u001b[0;31m       \u001b[0;32mreturn\u001b[0m \u001b[0mself\u001b[0m\u001b[0;34m.\u001b[0m\u001b[0m_stateless_fn\u001b[0m\u001b[0;34m(\u001b[0m\u001b[0;34m*\u001b[0m\u001b[0margs\u001b[0m\u001b[0;34m,\u001b[0m \u001b[0;34m**\u001b[0m\u001b[0mkwds\u001b[0m\u001b[0;34m)\u001b[0m  \u001b[0;31m# pylint: disable=not-callable\u001b[0m\u001b[0;34m\u001b[0m\u001b[0;34m\u001b[0m\u001b[0m\n\u001b[0m\u001b[1;32m    856\u001b[0m     \u001b[0;32melif\u001b[0m \u001b[0mself\u001b[0m\u001b[0;34m.\u001b[0m\u001b[0m_stateful_fn\u001b[0m \u001b[0;32mis\u001b[0m \u001b[0;32mnot\u001b[0m \u001b[0;32mNone\u001b[0m\u001b[0;34m:\u001b[0m\u001b[0;34m\u001b[0m\u001b[0;34m\u001b[0m\u001b[0m\n\u001b[1;32m    857\u001b[0m       \u001b[0;31m# Release the lock early so that multiple threads can perform the call\u001b[0m\u001b[0;34m\u001b[0m\u001b[0;34m\u001b[0m\u001b[0;34m\u001b[0m\u001b[0m\n",
            "\u001b[0;32m/usr/local/lib/python3.6/dist-packages/tensorflow/python/eager/function.py\u001b[0m in \u001b[0;36m__call__\u001b[0;34m(self, *args, **kwargs)\u001b[0m\n\u001b[1;32m   2941\u001b[0m        filtered_flat_args) = self._maybe_define_function(args, kwargs)\n\u001b[1;32m   2942\u001b[0m     return graph_function._call_flat(\n\u001b[0;32m-> 2943\u001b[0;31m         filtered_flat_args, captured_inputs=graph_function.captured_inputs)  # pylint: disable=protected-access\n\u001b[0m\u001b[1;32m   2944\u001b[0m \u001b[0;34m\u001b[0m\u001b[0m\n\u001b[1;32m   2945\u001b[0m   \u001b[0;34m@\u001b[0m\u001b[0mproperty\u001b[0m\u001b[0;34m\u001b[0m\u001b[0;34m\u001b[0m\u001b[0m\n",
            "\u001b[0;32m/usr/local/lib/python3.6/dist-packages/tensorflow/python/eager/function.py\u001b[0m in \u001b[0;36m_call_flat\u001b[0;34m(self, args, captured_inputs, cancellation_manager)\u001b[0m\n\u001b[1;32m   1917\u001b[0m       \u001b[0;31m# No tape is watching; skip to running the function.\u001b[0m\u001b[0;34m\u001b[0m\u001b[0;34m\u001b[0m\u001b[0;34m\u001b[0m\u001b[0m\n\u001b[1;32m   1918\u001b[0m       return self._build_call_outputs(self._inference_function.call(\n\u001b[0;32m-> 1919\u001b[0;31m           ctx, args, cancellation_manager=cancellation_manager))\n\u001b[0m\u001b[1;32m   1920\u001b[0m     forward_backward = self._select_forward_and_backward_functions(\n\u001b[1;32m   1921\u001b[0m         \u001b[0margs\u001b[0m\u001b[0;34m,\u001b[0m\u001b[0;34m\u001b[0m\u001b[0;34m\u001b[0m\u001b[0m\n",
            "\u001b[0;32m/usr/local/lib/python3.6/dist-packages/tensorflow/python/eager/function.py\u001b[0m in \u001b[0;36mcall\u001b[0;34m(self, ctx, args, cancellation_manager)\u001b[0m\n\u001b[1;32m    558\u001b[0m               \u001b[0minputs\u001b[0m\u001b[0;34m=\u001b[0m\u001b[0margs\u001b[0m\u001b[0;34m,\u001b[0m\u001b[0;34m\u001b[0m\u001b[0;34m\u001b[0m\u001b[0m\n\u001b[1;32m    559\u001b[0m               \u001b[0mattrs\u001b[0m\u001b[0;34m=\u001b[0m\u001b[0mattrs\u001b[0m\u001b[0;34m,\u001b[0m\u001b[0;34m\u001b[0m\u001b[0;34m\u001b[0m\u001b[0m\n\u001b[0;32m--> 560\u001b[0;31m               ctx=ctx)\n\u001b[0m\u001b[1;32m    561\u001b[0m         \u001b[0;32melse\u001b[0m\u001b[0;34m:\u001b[0m\u001b[0;34m\u001b[0m\u001b[0;34m\u001b[0m\u001b[0m\n\u001b[1;32m    562\u001b[0m           outputs = execute.execute_with_cancellation(\n",
            "\u001b[0;32m/usr/local/lib/python3.6/dist-packages/tensorflow/python/eager/execute.py\u001b[0m in \u001b[0;36mquick_execute\u001b[0;34m(op_name, num_outputs, inputs, attrs, ctx, name)\u001b[0m\n\u001b[1;32m     58\u001b[0m     \u001b[0mctx\u001b[0m\u001b[0;34m.\u001b[0m\u001b[0mensure_initialized\u001b[0m\u001b[0;34m(\u001b[0m\u001b[0;34m)\u001b[0m\u001b[0;34m\u001b[0m\u001b[0;34m\u001b[0m\u001b[0m\n\u001b[1;32m     59\u001b[0m     tensors = pywrap_tfe.TFE_Py_Execute(ctx._handle, device_name, op_name,\n\u001b[0;32m---> 60\u001b[0;31m                                         inputs, attrs, num_outputs)\n\u001b[0m\u001b[1;32m     61\u001b[0m   \u001b[0;32mexcept\u001b[0m \u001b[0mcore\u001b[0m\u001b[0;34m.\u001b[0m\u001b[0m_NotOkStatusException\u001b[0m \u001b[0;32mas\u001b[0m \u001b[0me\u001b[0m\u001b[0;34m:\u001b[0m\u001b[0;34m\u001b[0m\u001b[0;34m\u001b[0m\u001b[0m\n\u001b[1;32m     62\u001b[0m     \u001b[0;32mif\u001b[0m \u001b[0mname\u001b[0m \u001b[0;32mis\u001b[0m \u001b[0;32mnot\u001b[0m \u001b[0;32mNone\u001b[0m\u001b[0;34m:\u001b[0m\u001b[0;34m\u001b[0m\u001b[0;34m\u001b[0m\u001b[0m\n",
            "\u001b[0;31mKeyboardInterrupt\u001b[0m: "
          ]
        }
      ]
    },
    {
      "cell_type": "markdown",
      "metadata": {
        "id": "PA6D_TBknFJZ"
      },
      "source": [
        "import time\n",
        "import matplotlib.pyplot as plt\n",
        "\n",
        "from PIL import Image\n",
        "\n",
        "%matplotlib inline\n",
        "\n",
        "iterator = iter(valid_dataset)"
      ]
    },
    {
      "cell_type": "code",
      "metadata": {
        "id": "3XiwaKZhnFJa",
        "scrolled": true
      },
      "source": [
        "#model.load_weights(os.path.join(os.getcwd(),'multiclass_exps/CNN_Dec17_21-14-41/ckpts/cp.ckpt'))\n",
        "\n",
        "fig, ax = plt.subplots(1, 3, figsize=(8, 8))\n",
        "fig.show()\n",
        "image, target = next(iterator)\n",
        "\n",
        "image = image[0]\n",
        "target = target[0, ..., 0]\n",
        "\n",
        "out_sigmoid = model.predict(x=tf.expand_dims(image, 0))\n",
        "\n",
        "# Get predicted class as the index corresponding to the maximum value in the vector probability\n",
        "# predicted_class = tf.cast(out_sigmoid > score_th, tf.int32)\n",
        "# predicted_class = predicted_class[0, ..., 0]\n",
        "predicted_class = tf.argmax(out_sigmoid, -1)\n",
        "\n",
        "out_sigmoid.shape\n",
        "\n",
        "predicted_class = predicted_class[0, ...]\n",
        "\n",
        "# Assign colors (just for visualization)\n",
        "target_img = np.zeros([target.shape[0], target.shape[1], 3])\n",
        "prediction_img = np.zeros([target.shape[0], target.shape[1], 3])\n",
        "\n",
        "target_img[np.where(target == 0)] = [0, 0, 0]\n",
        "for i in range(1, 3):\n",
        "  target_img[np.where(target == i)] = np.array(colors[i-1])[:3] * 255\n",
        "\n",
        "prediction_img[np.where(predicted_class == 0)] = [0, 0, 0]\n",
        "for i in range(1, 3):\n",
        "  prediction_img[np.where(predicted_class == i)] = np.array(colors[i-1])[:3] * 255\n",
        "\n",
        "ax[0].imshow(np.uint8(image))\n",
        "ax[1].imshow(np.uint8(target_img))\n",
        "ax[2].imshow(np.uint8(prediction_img))\n",
        "\n",
        "fig.canvas.draw()\n",
        "time.sleep(1)"
      ],
      "execution_count": null,
      "outputs": []
    },
    {
      "cell_type": "code",
      "metadata": {
        "id": "EZ1Yl-InnFJd"
      },
      "source": [
        "submission_dict = {} \n",
        "\n",
        "for i in range(0,8):\n",
        "    image_filenames = next(os.walk(os.path.join(test_dir[i],\"Images/\")))[2]\n",
        "\n",
        "    if i in range(4,6):\n",
        "        suffix = \".png\"\n",
        "    else:\n",
        "        suffix = \".jpg\"\n",
        "    \n",
        "    print (suffix)\n",
        "    for image_name in image_filenames:\n",
        "    \n",
        "    \n",
        "        image_name=image_name[:-4]\n",
        "        img = Image.open(os.path.join(test_dir[i], 'Images', image_name + suffix))\n",
        "        #mask = rme.read_rgb_mask(os.path.join(self.dataset_dir, 'Masks', curr_filename + '.png'))\n",
        "\n",
        "        # Resize image and mask\n",
        "        img = img.resize([img_w,img_h])\n",
        "        \n",
        "\n",
        "        \n",
        "        # mask = mask.resize(self.out_shape)\n",
        "    \n",
        "        img_arr = preprocess_input(np.array(img))\n",
        "    \n",
        "        # load mask <- HERE you should have your segmentation model instead\n",
        "        mask_arr = np.argmax(model.predict(x=tf.expand_dims(img_arr, 0)),axis=1)\n",
        "\n",
        "    \n",
        "        submission_dict[image_name] = {}\n",
        "        submission_dict[image_name]['shape'] = [img_h,img_w]\n",
        "        submission_dict[image_name]['team'] = teams[math.floor(i/2)]\n",
        "        submission_dict[image_name]['crop'] = crops[i%2]\n",
        "        submission_dict[image_name]['segmentation'] = {}\n",
        "\n",
        "        # RLE encoding\n",
        "        # crop\n",
        "        rle_encoded_crop = ps.rle_encode(mask_arr == 1)\n",
        "        # weed\n",
        "        rle_encoded_weed = ps.rle_encode(mask_arr == 2)\n",
        "\n",
        "        submission_dict[image_name]['segmentation']['crop'] = rle_encoded_crop\n",
        "        submission_dict[image_name]['segmentation']['weed'] = rle_encoded_weed\n",
        "\n",
        "        # Please notice that in this example we have a single prediction.\n",
        "        # For the competition you have to provide segmentation for each of\n",
        "        # the test images.\n",
        "\n",
        "        # Finally, save the results into the submission.json file\n",
        "with open(os.path.join(dataset_dir[0],\"submission.json\"), 'w') as f:\n",
        "    json.dump(submission_dict, f)\n",
        "    \n",
        "    "
      ],
      "execution_count": null,
      "outputs": []
    },
    {
      "cell_type": "markdown",
      "metadata": {
        "id": "WuVw1q_NnFJh"
      },
      "source": [
        "image_filenames = next(os.walk(os.path.join(test_dir,\"Images/\")))[2]\n",
        "\n",
        "for image_name in image_filenames:\n",
        "    image_name=image_name[:-4]\n",
        "    img = Image.open(os.path.join(test_dir, 'Images', image_name + '.jpg'))\n",
        "    #mask = rme.read_rgb_mask(os.path.join(self.dataset_dir, 'Masks', curr_filename + '.png'))\n",
        "\n",
        "    # Resize image and mask\n",
        "    img = img.resize([img_w,img_h])\n",
        "        \n",
        "\n",
        "        \n",
        "    # mask = mask.resize(self.out_shape)\n",
        "    \n",
        "    img_arr = np.array(img)\n",
        "    model.predict(x=tf.expand_dims(img_arr, 0))"
      ]
    },
    {
      "cell_type": "code",
      "metadata": {
        "id": "-JUMMkS9eyQW"
      },
      "source": [
        "tf.keras.utils.plot_model(model, show_shapes=True)\n"
      ],
      "execution_count": null,
      "outputs": []
    },
    {
      "cell_type": "code",
      "metadata": {
        "id": "zo1JbCO5nFJh",
        "scrolled": false
      },
      "source": [
        "print(dataset_dir[0])"
      ],
      "execution_count": null,
      "outputs": []
    },
    {
      "cell_type": "code",
      "metadata": {
        "id": "M75UjH7xxS7J"
      },
      "source": [
        ""
      ],
      "execution_count": null,
      "outputs": []
    }
  ]
}