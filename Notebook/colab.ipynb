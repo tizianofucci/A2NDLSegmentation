{
  "nbformat": 4,
  "nbformat_minor": 0,
  "metadata": {
    "colab": {
      "name": "Copia di Multiclass_Segmentation.ipynb",
      "provenance": [],
      "collapsed_sections": [],
      "toc_visible": true,
      "include_colab_link": true
    },
    "kernelspec": {
      "display_name": "Python 3",
      "language": "python",
      "name": "python3"
    },
    "language_info": {
      "codemirror_mode": {
        "name": "ipython",
        "version": 3
      },
      "file_extension": ".py",
      "mimetype": "text/x-python",
      "name": "python",
      "nbconvert_exporter": "python",
      "pygments_lexer": "ipython3",
      "version": "3.7.9"
    }
  },
  "cells": [
    {
      "cell_type": "markdown",
      "metadata": {
        "id": "view-in-github",
        "colab_type": "text"
      },
      "source": [
        "<a href=\"https://colab.research.google.com/github/tizianofucci/A2NDLSegmentation/blob/main/Notebook/colab.ipynb\" target=\"_parent\"><img src=\"https://colab.research.google.com/assets/colab-badge.svg\" alt=\"Open In Colab\"/></a>"
      ]
    },
    {
      "cell_type": "code",
      "metadata": {
        "id": "I5FnwOggnFIl"
      },
      "source": [
        "from IPython.core.interactiveshell import InteractiveShell\n",
        "InteractiveShell.ast_node_interactivity = \"all\""
      ],
      "execution_count": 2,
      "outputs": []
    },
    {
      "cell_type": "code",
      "metadata": {
        "id": "tOBDSA9BnFIx"
      },
      "source": [
        "import os\n",
        "\n",
        "# os.environ[\"CUDA_VISIBLE_DEVICES\"]=\"-1\" \n",
        "import tensorflow as tf\n",
        "import numpy as np\n",
        "\n",
        "# Set the seed for random operations. \n",
        "# This let our experiments to be reproducible. \n",
        "SEED = 1234\n",
        "tf.random.set_seed(SEED)  "
      ],
      "execution_count": 3,
      "outputs": []
    },
    {
      "cell_type": "code",
      "metadata": {
        "id": "bns18Nm7oORk"
      },
      "source": [
        "cwd = os.getcwd()"
      ],
      "execution_count": 4,
      "outputs": []
    },
    {
      "cell_type": "code",
      "metadata": {
        "id": "Z8bhsWQnnU-i",
        "colab": {
          "base_uri": "https://localhost:8080/"
        },
        "outputId": "15e755d0-957f-4701-9e8f-33457a3d376e"
      },
      "source": [
        "\n",
        "from google.colab import drive\n",
        "drive.mount('/content/drive', force_remount=True)"
      ],
      "execution_count": 5,
      "outputs": [
        {
          "output_type": "stream",
          "text": [
            "Mounted at /content/drive\n"
          ],
          "name": "stdout"
        }
      ]
    },
    {
      "cell_type": "code",
      "metadata": {
        "id": "Uw-loJ73n0eS",
        "colab": {
          "base_uri": "https://localhost:8080/"
        },
        "outputId": "fce4bcb5-e7c4-4531-dfa5-e30ba430bc14"
      },
      "source": [
        "!unzip /content/drive/MyDrive/Development_Dataset.zip"
      ],
      "execution_count": 6,
      "outputs": [
        {
          "output_type": "stream",
          "text": [
            "Archive:  /content/drive/MyDrive/Development_Dataset.zip\n",
            "  inflating: Development_Dataset/LICENSE.txt  \n",
            "   creating: Development_Dataset/Test_Dev/\n",
            "   creating: Development_Dataset/Test_Dev/Bipbip/\n",
            "   creating: Development_Dataset/Test_Dev/Bipbip/Haricot/\n",
            "   creating: Development_Dataset/Test_Dev/Bipbip/Haricot/Images/\n",
            "  inflating: Development_Dataset/Test_Dev/Bipbip/Haricot/Images/Bipbip_haricot_im_00211.jpg  \n",
            "  inflating: Development_Dataset/Test_Dev/Bipbip/Haricot/Images/Bipbip_haricot_im_00581.jpg  \n",
            "  inflating: Development_Dataset/Test_Dev/Bipbip/Haricot/Images/Bipbip_haricot_im_00721.jpg  \n",
            "  inflating: Development_Dataset/Test_Dev/Bipbip/Haricot/Images/Bipbip_haricot_im_00951.jpg  \n",
            "  inflating: Development_Dataset/Test_Dev/Bipbip/Haricot/Images/Bipbip_haricot_im_01341.jpg  \n",
            "  inflating: Development_Dataset/Test_Dev/Bipbip/Haricot/Images/Bipbip_haricot_im_02421.jpg  \n",
            "  inflating: Development_Dataset/Test_Dev/Bipbip/Haricot/Images/Bipbip_haricot_im_02781.jpg  \n",
            "  inflating: Development_Dataset/Test_Dev/Bipbip/Haricot/Images/Bipbip_haricot_im_02841.jpg  \n",
            "  inflating: Development_Dataset/Test_Dev/Bipbip/Haricot/Images/Bipbip_haricot_im_02901.jpg  \n",
            "  inflating: Development_Dataset/Test_Dev/Bipbip/Haricot/Images/Bipbip_haricot_im_03691.jpg  \n",
            "  inflating: Development_Dataset/Test_Dev/Bipbip/Haricot/Images/Bipbip_haricot_im_06581.jpg  \n",
            "  inflating: Development_Dataset/Test_Dev/Bipbip/Haricot/Images/Bipbip_haricot_im_06751.jpg  \n",
            "  inflating: Development_Dataset/Test_Dev/Bipbip/Haricot/Images/Bipbip_haricot_im_07181.jpg  \n",
            "  inflating: Development_Dataset/Test_Dev/Bipbip/Haricot/Images/Bipbip_haricot_im_07331.jpg  \n",
            "  inflating: Development_Dataset/Test_Dev/Bipbip/Haricot/Images/Bipbip_haricot_im_07421.jpg  \n",
            "   creating: Development_Dataset/Test_Dev/Bipbip/Mais/\n",
            "   creating: Development_Dataset/Test_Dev/Bipbip/Mais/Images/\n",
            "  inflating: Development_Dataset/Test_Dev/Bipbip/Mais/Images/Bipbip_mais_im_01931.jpg  \n",
            "  inflating: Development_Dataset/Test_Dev/Bipbip/Mais/Images/Bipbip_mais_im_02211.jpg  \n",
            "  inflating: Development_Dataset/Test_Dev/Bipbip/Mais/Images/Bipbip_mais_im_03621.jpg  \n",
            "  inflating: Development_Dataset/Test_Dev/Bipbip/Mais/Images/Bipbip_mais_im_04121.jpg  \n",
            "  inflating: Development_Dataset/Test_Dev/Bipbip/Mais/Images/Bipbip_mais_im_05521.jpg  \n",
            "  inflating: Development_Dataset/Test_Dev/Bipbip/Mais/Images/Bipbip_mais_im_06381.jpg  \n",
            "  inflating: Development_Dataset/Test_Dev/Bipbip/Mais/Images/Bipbip_mais_im_06831.jpg  \n",
            "  inflating: Development_Dataset/Test_Dev/Bipbip/Mais/Images/Bipbip_mais_im_07611.jpg  \n",
            "  inflating: Development_Dataset/Test_Dev/Bipbip/Mais/Images/Bipbip_mais_im_07681.jpg  \n",
            "  inflating: Development_Dataset/Test_Dev/Bipbip/Mais/Images/Bipbip_mais_im_09091.jpg  \n",
            "  inflating: Development_Dataset/Test_Dev/Bipbip/Mais/Images/Bipbip_mais_im_09571.jpg  \n",
            "  inflating: Development_Dataset/Test_Dev/Bipbip/Mais/Images/Bipbip_mais_im_09781.jpg  \n",
            "  inflating: Development_Dataset/Test_Dev/Bipbip/Mais/Images/Bipbip_mais_im_10441.jpg  \n",
            "  inflating: Development_Dataset/Test_Dev/Bipbip/Mais/Images/Bipbip_mais_im_10941.jpg  \n",
            "  inflating: Development_Dataset/Test_Dev/Bipbip/Mais/Images/Bipbip_mais_im_11021.jpg  \n",
            "   creating: Development_Dataset/Test_Dev/Pead/\n",
            "   creating: Development_Dataset/Test_Dev/Pead/Haricot/\n",
            "   creating: Development_Dataset/Test_Dev/Pead/Haricot/Images/\n",
            "  inflating: Development_Dataset/Test_Dev/Pead/Haricot/Images/Pead_haricot_00130_i750.jpg  \n",
            "  inflating: Development_Dataset/Test_Dev/Pead/Haricot/Images/Pead_haricot_00143_i750.jpg  \n",
            "  inflating: Development_Dataset/Test_Dev/Pead/Haricot/Images/Pead_haricot_00239_i750.jpg  \n",
            "  inflating: Development_Dataset/Test_Dev/Pead/Haricot/Images/Pead_haricot_00291_i750.jpg  \n",
            "  inflating: Development_Dataset/Test_Dev/Pead/Haricot/Images/Pead_haricot_00340_i750.jpg  \n",
            "  inflating: Development_Dataset/Test_Dev/Pead/Haricot/Images/Pead_haricot_00353_i750.jpg  \n",
            "  inflating: Development_Dataset/Test_Dev/Pead/Haricot/Images/Pead_haricot_00427_i750.jpg  \n",
            "  inflating: Development_Dataset/Test_Dev/Pead/Haricot/Images/Pead_haricot_00463_i750.jpg  \n",
            "  inflating: Development_Dataset/Test_Dev/Pead/Haricot/Images/Pead_haricot_00605_i750.jpg  \n",
            "  inflating: Development_Dataset/Test_Dev/Pead/Haricot/Images/Pead_haricot_00628_i750.jpg  \n",
            "  inflating: Development_Dataset/Test_Dev/Pead/Haricot/Images/Pead_haricot_00631_i750.jpg  \n",
            "  inflating: Development_Dataset/Test_Dev/Pead/Haricot/Images/Pead_haricot_00641_i750.jpg  \n",
            "  inflating: Development_Dataset/Test_Dev/Pead/Haricot/Images/Pead_haricot_00648_i750.jpg  \n",
            "  inflating: Development_Dataset/Test_Dev/Pead/Haricot/Images/Pead_haricot_00682_i750.jpg  \n",
            "  inflating: Development_Dataset/Test_Dev/Pead/Haricot/Images/Pead_haricot_00704_i750.jpg  \n",
            "   creating: Development_Dataset/Test_Dev/Pead/Mais/\n",
            "   creating: Development_Dataset/Test_Dev/Pead/Mais/Images/\n",
            "  inflating: Development_Dataset/Test_Dev/Pead/Mais/Images/Pead_mais_00173_i900.jpg  \n",
            "  inflating: Development_Dataset/Test_Dev/Pead/Mais/Images/Pead_mais_00206_i900.jpg  \n",
            "  inflating: Development_Dataset/Test_Dev/Pead/Mais/Images/Pead_mais_00229_i900.jpg  \n",
            "  inflating: Development_Dataset/Test_Dev/Pead/Mais/Images/Pead_mais_00308_i900.jpg  \n",
            "  inflating: Development_Dataset/Test_Dev/Pead/Mais/Images/Pead_mais_00346_i900.jpg  \n",
            "  inflating: Development_Dataset/Test_Dev/Pead/Mais/Images/Pead_mais_00387_i900.jpg  \n",
            "  inflating: Development_Dataset/Test_Dev/Pead/Mais/Images/Pead_mais_00395_i900.jpg  \n",
            "  inflating: Development_Dataset/Test_Dev/Pead/Mais/Images/Pead_mais_00427_i900.jpg  \n",
            "  inflating: Development_Dataset/Test_Dev/Pead/Mais/Images/Pead_mais_00459_i900.jpg  \n",
            "  inflating: Development_Dataset/Test_Dev/Pead/Mais/Images/Pead_mais_00556_i900.jpg  \n",
            "  inflating: Development_Dataset/Test_Dev/Pead/Mais/Images/Pead_mais_00584_i900.jpg  \n",
            "  inflating: Development_Dataset/Test_Dev/Pead/Mais/Images/Pead_mais_00595_i900.jpg  \n",
            "  inflating: Development_Dataset/Test_Dev/Pead/Mais/Images/Pead_mais_00679_i900.jpg  \n",
            "  inflating: Development_Dataset/Test_Dev/Pead/Mais/Images/Pead_mais_00723_i900.jpg  \n",
            "  inflating: Development_Dataset/Test_Dev/Pead/Mais/Images/Pead_mais_00796_i900.jpg  \n",
            "   creating: Development_Dataset/Test_Dev/Roseau/\n",
            "   creating: Development_Dataset/Test_Dev/Roseau/Haricot/\n",
            "   creating: Development_Dataset/Test_Dev/Roseau/Haricot/Images/\n",
            "  inflating: Development_Dataset/Test_Dev/Roseau/Haricot/Images/Roseau_haricot_0010_false.png  \n",
            "  inflating: Development_Dataset/Test_Dev/Roseau/Haricot/Images/Roseau_haricot_0018_false.png  \n",
            "  inflating: Development_Dataset/Test_Dev/Roseau/Haricot/Images/Roseau_haricot_0074_false.png  \n",
            "  inflating: Development_Dataset/Test_Dev/Roseau/Haricot/Images/Roseau_haricot_0150_false.png  \n",
            "  inflating: Development_Dataset/Test_Dev/Roseau/Haricot/Images/Roseau_haricot_0156_false.png  \n",
            "  inflating: Development_Dataset/Test_Dev/Roseau/Haricot/Images/Roseau_haricot_0188_false.png  \n",
            "  inflating: Development_Dataset/Test_Dev/Roseau/Haricot/Images/Roseau_haricot_0220_false.png  \n",
            "  inflating: Development_Dataset/Test_Dev/Roseau/Haricot/Images/Roseau_haricot_0224_false.png  \n",
            "  inflating: Development_Dataset/Test_Dev/Roseau/Haricot/Images/Roseau_haricot_0228_false.png  \n",
            "  inflating: Development_Dataset/Test_Dev/Roseau/Haricot/Images/Roseau_haricot_0256_false.png  \n",
            "  inflating: Development_Dataset/Test_Dev/Roseau/Haricot/Images/Roseau_haricot_0292_false.png  \n",
            "  inflating: Development_Dataset/Test_Dev/Roseau/Haricot/Images/Roseau_haricot_0300_false.png  \n",
            "  inflating: Development_Dataset/Test_Dev/Roseau/Haricot/Images/Roseau_haricot_0372_false.png  \n",
            "  inflating: Development_Dataset/Test_Dev/Roseau/Haricot/Images/Roseau_haricot_0396_false.png  \n",
            "  inflating: Development_Dataset/Test_Dev/Roseau/Haricot/Images/Roseau_haricot_0414_false.png  \n",
            "   creating: Development_Dataset/Test_Dev/Roseau/Mais/\n",
            "   creating: Development_Dataset/Test_Dev/Roseau/Mais/Images/\n",
            "   creating: Development_Dataset/Test_Dev/Roseau/Mais/Images/.ipynb_checkpoints/\n",
            "  inflating: Development_Dataset/Test_Dev/Roseau/Mais/Images/.ipynb_checkpoints/Roseau_mais_0008_false-checkpoint.png  \n",
            "  inflating: Development_Dataset/Test_Dev/Roseau/Mais/Images/Roseau_mais_0008_false.png  \n",
            "  inflating: Development_Dataset/Test_Dev/Roseau/Mais/Images/Roseau_mais_0030_false.png  \n",
            "  inflating: Development_Dataset/Test_Dev/Roseau/Mais/Images/Roseau_mais_0056_false.png  \n",
            "  inflating: Development_Dataset/Test_Dev/Roseau/Mais/Images/Roseau_mais_0068_false.png  \n",
            "  inflating: Development_Dataset/Test_Dev/Roseau/Mais/Images/Roseau_mais_0074_false.png  \n",
            "  inflating: Development_Dataset/Test_Dev/Roseau/Mais/Images/Roseau_mais_0098_false.png  \n",
            "  inflating: Development_Dataset/Test_Dev/Roseau/Mais/Images/Roseau_mais_0142_false.png  \n",
            "  inflating: Development_Dataset/Test_Dev/Roseau/Mais/Images/Roseau_mais_0174_false.png  \n",
            "  inflating: Development_Dataset/Test_Dev/Roseau/Mais/Images/Roseau_mais_0184_false.png  \n",
            "  inflating: Development_Dataset/Test_Dev/Roseau/Mais/Images/Roseau_mais_0188_false.png  \n",
            "  inflating: Development_Dataset/Test_Dev/Roseau/Mais/Images/Roseau_mais_0214_false.png  \n",
            "  inflating: Development_Dataset/Test_Dev/Roseau/Mais/Images/Roseau_mais_0286_false.png  \n",
            "  inflating: Development_Dataset/Test_Dev/Roseau/Mais/Images/Roseau_mais_0322_false.png  \n",
            "  inflating: Development_Dataset/Test_Dev/Roseau/Mais/Images/Roseau_mais_0332_false.png  \n",
            "  inflating: Development_Dataset/Test_Dev/Roseau/Mais/Images/Roseau_mais_0366_false.png  \n",
            "   creating: Development_Dataset/Test_Dev/Weedelec/\n",
            "   creating: Development_Dataset/Test_Dev/Weedelec/Haricot/\n",
            "   creating: Development_Dataset/Test_Dev/Weedelec/Haricot/Images/\n",
            "  inflating: Development_Dataset/Test_Dev/Weedelec/Haricot/Images/Weedelec_haricot_2019-09-25T114347-2.jpg  \n",
            "  inflating: Development_Dataset/Test_Dev/Weedelec/Haricot/Images/Weedelec_haricot_2019-09-25T114419-14.jpg  \n",
            "  inflating: Development_Dataset/Test_Dev/Weedelec/Haricot/Images/Weedelec_haricot_2019-09-25T114537-44.jpg  \n",
            "  inflating: Development_Dataset/Test_Dev/Weedelec/Haricot/Images/Weedelec_haricot_2019-09-25T114558-52.jpg  \n",
            "  inflating: Development_Dataset/Test_Dev/Weedelec/Haricot/Images/Weedelec_haricot_2019-09-25T114608-56.jpg  \n",
            "  inflating: Development_Dataset/Test_Dev/Weedelec/Haricot/Images/Weedelec_haricot_2019-09-25T114726-86.jpg  \n",
            "  inflating: Development_Dataset/Test_Dev/Weedelec/Haricot/Images/Weedelec_haricot_2019-09-25T114852-119.jpg  \n",
            "  inflating: Development_Dataset/Test_Dev/Weedelec/Haricot/Images/Weedelec_haricot_2019-09-25T115031-157.jpg  \n",
            "  inflating: Development_Dataset/Test_Dev/Weedelec/Haricot/Images/Weedelec_haricot_2019-09-25T115142-185.jpg  \n",
            "  inflating: Development_Dataset/Test_Dev/Weedelec/Haricot/Images/Weedelec_haricot_2019-09-25T115628-295.jpg  \n",
            "  inflating: Development_Dataset/Test_Dev/Weedelec/Haricot/Images/Weedelec_haricot_2019-09-25T115906-356.jpg  \n",
            "  inflating: Development_Dataset/Test_Dev/Weedelec/Haricot/Images/Weedelec_haricot_2019-09-25T115942-370.jpg  \n",
            "  inflating: Development_Dataset/Test_Dev/Weedelec/Haricot/Images/Weedelec_haricot_2019-09-25T120146-418.jpg  \n",
            "  inflating: Development_Dataset/Test_Dev/Weedelec/Haricot/Images/Weedelec_haricot_2019-09-25T120225-433.jpg  \n",
            "  inflating: Development_Dataset/Test_Dev/Weedelec/Haricot/Images/Weedelec_haricot_2019-09-25T120248-442.jpg  \n",
            "   creating: Development_Dataset/Test_Dev/Weedelec/Mais/\n",
            "   creating: Development_Dataset/Test_Dev/Weedelec/Mais/Images/\n",
            "  inflating: Development_Dataset/Test_Dev/Weedelec/Mais/Images/Weedelec_mais_2019-09-25T120608-14.jpg  \n",
            "  inflating: Development_Dataset/Test_Dev/Weedelec/Mais/Images/Weedelec_mais_2019-09-25T121047-122.jpg  \n",
            "  inflating: Development_Dataset/Test_Dev/Weedelec/Mais/Images/Weedelec_mais_2019-09-25T121103-128.jpg  \n",
            "  inflating: Development_Dataset/Test_Dev/Weedelec/Mais/Images/Weedelec_mais_2019-09-25T121125-137.jpg  \n",
            "  inflating: Development_Dataset/Test_Dev/Weedelec/Mais/Images/Weedelec_mais_2019-09-25T121133-140.jpg  \n",
            "  inflating: Development_Dataset/Test_Dev/Weedelec/Mais/Images/Weedelec_mais_2019-09-25T121212-155.jpg  \n",
            "  inflating: Development_Dataset/Test_Dev/Weedelec/Mais/Images/Weedelec_mais_2019-09-25T121237-165.jpg  \n",
            "  inflating: Development_Dataset/Test_Dev/Weedelec/Mais/Images/Weedelec_mais_2019-09-25T121350-193.jpg  \n",
            "  inflating: Development_Dataset/Test_Dev/Weedelec/Mais/Images/Weedelec_mais_2019-09-25T121539-235.jpg  \n",
            "  inflating: Development_Dataset/Test_Dev/Weedelec/Mais/Images/Weedelec_mais_2019-09-25T121602-244.jpg  \n",
            "  inflating: Development_Dataset/Test_Dev/Weedelec/Mais/Images/Weedelec_mais_2019-09-25T121800-290.jpg  \n",
            "  inflating: Development_Dataset/Test_Dev/Weedelec/Mais/Images/Weedelec_mais_2019-09-25T121851-310.jpg  \n",
            "  inflating: Development_Dataset/Test_Dev/Weedelec/Mais/Images/Weedelec_mais_2019-09-25T122021-345.jpg  \n",
            "  inflating: Development_Dataset/Test_Dev/Weedelec/Mais/Images/Weedelec_mais_2019-09-25T122122-369.jpg  \n",
            "  inflating: Development_Dataset/Test_Dev/Weedelec/Mais/Images/Weedelec_mais_2019-09-25T122227-395.jpg  \n",
            "   creating: Development_Dataset/Training/\n",
            "   creating: Development_Dataset/Training/Bipbip/\n",
            "   creating: Development_Dataset/Training/Bipbip/Haricot/\n",
            "   creating: Development_Dataset/Training/Bipbip/Haricot/Images/\n",
            "  inflating: Development_Dataset/Training/Bipbip/Haricot/Images/Bipbip_haricot_im_00321.jpg  \n",
            "  inflating: Development_Dataset/Training/Bipbip/Haricot/Images/Bipbip_haricot_im_00391.jpg  \n",
            "  inflating: Development_Dataset/Training/Bipbip/Haricot/Images/Bipbip_haricot_im_00451.jpg  \n",
            "  inflating: Development_Dataset/Training/Bipbip/Haricot/Images/Bipbip_haricot_im_00511.jpg  \n",
            "  inflating: Development_Dataset/Training/Bipbip/Haricot/Images/Bipbip_haricot_im_00651.jpg  \n",
            "  inflating: Development_Dataset/Training/Bipbip/Haricot/Images/Bipbip_haricot_im_00801.jpg  \n",
            "  inflating: Development_Dataset/Training/Bipbip/Haricot/Images/Bipbip_haricot_im_00871.jpg  \n",
            "  inflating: Development_Dataset/Training/Bipbip/Haricot/Images/Bipbip_haricot_im_01021.jpg  \n",
            "  inflating: Development_Dataset/Training/Bipbip/Haricot/Images/Bipbip_haricot_im_01091.jpg  \n",
            "  inflating: Development_Dataset/Training/Bipbip/Haricot/Images/Bipbip_haricot_im_01271.jpg  \n",
            "  inflating: Development_Dataset/Training/Bipbip/Haricot/Images/Bipbip_haricot_im_01451.jpg  \n",
            "  inflating: Development_Dataset/Training/Bipbip/Haricot/Images/Bipbip_haricot_im_01541.jpg  \n",
            "  inflating: Development_Dataset/Training/Bipbip/Haricot/Images/Bipbip_haricot_im_01631.jpg  \n",
            "  inflating: Development_Dataset/Training/Bipbip/Haricot/Images/Bipbip_haricot_im_01731.jpg  \n",
            "  inflating: Development_Dataset/Training/Bipbip/Haricot/Images/Bipbip_haricot_im_01821.jpg  \n",
            "  inflating: Development_Dataset/Training/Bipbip/Haricot/Images/Bipbip_haricot_im_01911.jpg  \n",
            "  inflating: Development_Dataset/Training/Bipbip/Haricot/Images/Bipbip_haricot_im_02171.jpg  \n",
            "  inflating: Development_Dataset/Training/Bipbip/Haricot/Images/Bipbip_haricot_im_02231.jpg  \n",
            "  inflating: Development_Dataset/Training/Bipbip/Haricot/Images/Bipbip_haricot_im_02301.jpg  \n",
            "  inflating: Development_Dataset/Training/Bipbip/Haricot/Images/Bipbip_haricot_im_02351.jpg  \n",
            "  inflating: Development_Dataset/Training/Bipbip/Haricot/Images/Bipbip_haricot_im_02531.jpg  \n",
            "  inflating: Development_Dataset/Training/Bipbip/Haricot/Images/Bipbip_haricot_im_02651.jpg  \n",
            "  inflating: Development_Dataset/Training/Bipbip/Haricot/Images/Bipbip_haricot_im_03041.jpg  \n",
            "  inflating: Development_Dataset/Training/Bipbip/Haricot/Images/Bipbip_haricot_im_03111.jpg  \n",
            "  inflating: Development_Dataset/Training/Bipbip/Haricot/Images/Bipbip_haricot_im_03231.jpg  \n",
            "  inflating: Development_Dataset/Training/Bipbip/Haricot/Images/Bipbip_haricot_im_03281.jpg  \n",
            "  inflating: Development_Dataset/Training/Bipbip/Haricot/Images/Bipbip_haricot_im_03291.jpg  \n",
            "  inflating: Development_Dataset/Training/Bipbip/Haricot/Images/Bipbip_haricot_im_03411.jpg  \n",
            "  inflating: Development_Dataset/Training/Bipbip/Haricot/Images/Bipbip_haricot_im_03461.jpg  \n",
            "  inflating: Development_Dataset/Training/Bipbip/Haricot/Images/Bipbip_haricot_im_03481.jpg  \n",
            "  inflating: Development_Dataset/Training/Bipbip/Haricot/Images/Bipbip_haricot_im_03531.jpg  \n",
            "  inflating: Development_Dataset/Training/Bipbip/Haricot/Images/Bipbip_haricot_im_03571.jpg  \n",
            "  inflating: Development_Dataset/Training/Bipbip/Haricot/Images/Bipbip_haricot_im_03611.jpg  \n",
            "  inflating: Development_Dataset/Training/Bipbip/Haricot/Images/Bipbip_haricot_im_03751.jpg  \n",
            "  inflating: Development_Dataset/Training/Bipbip/Haricot/Images/Bipbip_haricot_im_03841.jpg  \n",
            "  inflating: Development_Dataset/Training/Bipbip/Haricot/Images/Bipbip_haricot_im_03961.jpg  \n",
            "  inflating: Development_Dataset/Training/Bipbip/Haricot/Images/Bipbip_haricot_im_04031.jpg  \n",
            "  inflating: Development_Dataset/Training/Bipbip/Haricot/Images/Bipbip_haricot_im_04301.jpg  \n",
            "  inflating: Development_Dataset/Training/Bipbip/Haricot/Images/Bipbip_haricot_im_04401.jpg  \n",
            "  inflating: Development_Dataset/Training/Bipbip/Haricot/Images/Bipbip_haricot_im_04541.jpg  \n",
            "  inflating: Development_Dataset/Training/Bipbip/Haricot/Images/Bipbip_haricot_im_04591.jpg  \n",
            "  inflating: Development_Dataset/Training/Bipbip/Haricot/Images/Bipbip_haricot_im_04741.jpg  \n",
            "  inflating: Development_Dataset/Training/Bipbip/Haricot/Images/Bipbip_haricot_im_04791.jpg  \n",
            "  inflating: Development_Dataset/Training/Bipbip/Haricot/Images/Bipbip_haricot_im_04851.jpg  \n",
            "  inflating: Development_Dataset/Training/Bipbip/Haricot/Images/Bipbip_haricot_im_04991.jpg  \n",
            "  inflating: Development_Dataset/Training/Bipbip/Haricot/Images/Bipbip_haricot_im_05041.jpg  \n",
            "  inflating: Development_Dataset/Training/Bipbip/Haricot/Images/Bipbip_haricot_im_05111.jpg  \n",
            "  inflating: Development_Dataset/Training/Bipbip/Haricot/Images/Bipbip_haricot_im_05141.jpg  \n",
            "  inflating: Development_Dataset/Training/Bipbip/Haricot/Images/Bipbip_haricot_im_05231.jpg  \n",
            "  inflating: Development_Dataset/Training/Bipbip/Haricot/Images/Bipbip_haricot_im_05301.jpg  \n",
            "  inflating: Development_Dataset/Training/Bipbip/Haricot/Images/Bipbip_haricot_im_05351.jpg  \n",
            "  inflating: Development_Dataset/Training/Bipbip/Haricot/Images/Bipbip_haricot_im_05361.jpg  \n",
            "  inflating: Development_Dataset/Training/Bipbip/Haricot/Images/Bipbip_haricot_im_05411.jpg  \n",
            "  inflating: Development_Dataset/Training/Bipbip/Haricot/Images/Bipbip_haricot_im_05421.jpg  \n",
            "  inflating: Development_Dataset/Training/Bipbip/Haricot/Images/Bipbip_haricot_im_05461.jpg  \n",
            "  inflating: Development_Dataset/Training/Bipbip/Haricot/Images/Bipbip_haricot_im_05481.jpg  \n",
            "  inflating: Development_Dataset/Training/Bipbip/Haricot/Images/Bipbip_haricot_im_05531.jpg  \n",
            "  inflating: Development_Dataset/Training/Bipbip/Haricot/Images/Bipbip_haricot_im_05571.jpg  \n",
            "  inflating: Development_Dataset/Training/Bipbip/Haricot/Images/Bipbip_haricot_im_05741.jpg  \n",
            "  inflating: Development_Dataset/Training/Bipbip/Haricot/Images/Bipbip_haricot_im_05911.jpg  \n",
            "  inflating: Development_Dataset/Training/Bipbip/Haricot/Images/Bipbip_haricot_im_05991.jpg  \n",
            "  inflating: Development_Dataset/Training/Bipbip/Haricot/Images/Bipbip_haricot_im_06041.jpg  \n",
            "  inflating: Development_Dataset/Training/Bipbip/Haricot/Images/Bipbip_haricot_im_06101.jpg  \n",
            "  inflating: Development_Dataset/Training/Bipbip/Haricot/Images/Bipbip_haricot_im_06151.jpg  \n",
            "  inflating: Development_Dataset/Training/Bipbip/Haricot/Images/Bipbip_haricot_im_06241.jpg  \n",
            "  inflating: Development_Dataset/Training/Bipbip/Haricot/Images/Bipbip_haricot_im_06341.jpg  \n",
            "  inflating: Development_Dataset/Training/Bipbip/Haricot/Images/Bipbip_haricot_im_06401.jpg  \n",
            "  inflating: Development_Dataset/Training/Bipbip/Haricot/Images/Bipbip_haricot_im_06481.jpg  \n",
            "  inflating: Development_Dataset/Training/Bipbip/Haricot/Images/Bipbip_haricot_im_06531.jpg  \n",
            "  inflating: Development_Dataset/Training/Bipbip/Haricot/Images/Bipbip_haricot_im_06641.jpg  \n",
            "  inflating: Development_Dataset/Training/Bipbip/Haricot/Images/Bipbip_haricot_im_06691.jpg  \n",
            "  inflating: Development_Dataset/Training/Bipbip/Haricot/Images/Bipbip_haricot_im_06801.jpg  \n",
            "  inflating: Development_Dataset/Training/Bipbip/Haricot/Images/Bipbip_haricot_im_06851.jpg  \n",
            "  inflating: Development_Dataset/Training/Bipbip/Haricot/Images/Bipbip_haricot_im_06901.jpg  \n",
            "  inflating: Development_Dataset/Training/Bipbip/Haricot/Images/Bipbip_haricot_im_06941.jpg  \n",
            "  inflating: Development_Dataset/Training/Bipbip/Haricot/Images/Bipbip_haricot_im_07011.jpg  \n",
            "  inflating: Development_Dataset/Training/Bipbip/Haricot/Images/Bipbip_haricot_im_07071.jpg  \n",
            "  inflating: Development_Dataset/Training/Bipbip/Haricot/Images/Bipbip_haricot_im_07131.jpg  \n",
            "  inflating: Development_Dataset/Training/Bipbip/Haricot/Images/Bipbip_haricot_im_07371.jpg  \n",
            "  inflating: Development_Dataset/Training/Bipbip/Haricot/Images/Bipbip_haricot_im_07481.jpg  \n",
            "  inflating: Development_Dataset/Training/Bipbip/Haricot/Images/Bipbip_haricot_im_07531.jpg  \n",
            "  inflating: Development_Dataset/Training/Bipbip/Haricot/Images/Bipbip_haricot_im_07591.jpg  \n",
            "  inflating: Development_Dataset/Training/Bipbip/Haricot/Images/Bipbip_haricot_im_07701.jpg  \n",
            "  inflating: Development_Dataset/Training/Bipbip/Haricot/Images/Bipbip_haricot_im_07781.jpg  \n",
            "  inflating: Development_Dataset/Training/Bipbip/Haricot/Images/Bipbip_haricot_im_07861.jpg  \n",
            "  inflating: Development_Dataset/Training/Bipbip/Haricot/Images/Bipbip_haricot_im_07941.jpg  \n",
            "  inflating: Development_Dataset/Training/Bipbip/Haricot/Images/Bipbip_haricot_im_08071.jpg  \n",
            "  inflating: Development_Dataset/Training/Bipbip/Haricot/Images/Bipbip_haricot_im_08141.jpg  \n",
            "  inflating: Development_Dataset/Training/Bipbip/Haricot/Images/Bipbip_haricot_im_08221.jpg  \n",
            "  inflating: Development_Dataset/Training/Bipbip/Haricot/Images/Bipbip_haricot_im_08371.jpg  \n",
            "   creating: Development_Dataset/Training/Bipbip/Haricot/Masks/\n",
            "  inflating: Development_Dataset/Training/Bipbip/Haricot/Masks/Bipbip_haricot_im_00321.png  \n",
            "  inflating: Development_Dataset/Training/Bipbip/Haricot/Masks/Bipbip_haricot_im_00391.png  \n",
            "  inflating: Development_Dataset/Training/Bipbip/Haricot/Masks/Bipbip_haricot_im_00451.png  \n",
            "  inflating: Development_Dataset/Training/Bipbip/Haricot/Masks/Bipbip_haricot_im_00511.png  \n",
            "  inflating: Development_Dataset/Training/Bipbip/Haricot/Masks/Bipbip_haricot_im_00651.png  \n",
            "  inflating: Development_Dataset/Training/Bipbip/Haricot/Masks/Bipbip_haricot_im_00801.png  \n",
            "  inflating: Development_Dataset/Training/Bipbip/Haricot/Masks/Bipbip_haricot_im_00871.png  \n",
            "  inflating: Development_Dataset/Training/Bipbip/Haricot/Masks/Bipbip_haricot_im_01021.png  \n",
            "  inflating: Development_Dataset/Training/Bipbip/Haricot/Masks/Bipbip_haricot_im_01091.png  \n",
            "  inflating: Development_Dataset/Training/Bipbip/Haricot/Masks/Bipbip_haricot_im_01271.png  \n",
            "  inflating: Development_Dataset/Training/Bipbip/Haricot/Masks/Bipbip_haricot_im_01451.png  \n",
            "  inflating: Development_Dataset/Training/Bipbip/Haricot/Masks/Bipbip_haricot_im_01541.png  \n",
            "  inflating: Development_Dataset/Training/Bipbip/Haricot/Masks/Bipbip_haricot_im_01631.png  \n",
            "  inflating: Development_Dataset/Training/Bipbip/Haricot/Masks/Bipbip_haricot_im_01731.png  \n",
            "  inflating: Development_Dataset/Training/Bipbip/Haricot/Masks/Bipbip_haricot_im_01821.png  \n",
            "  inflating: Development_Dataset/Training/Bipbip/Haricot/Masks/Bipbip_haricot_im_01911.png  \n",
            "  inflating: Development_Dataset/Training/Bipbip/Haricot/Masks/Bipbip_haricot_im_02171.png  \n",
            "  inflating: Development_Dataset/Training/Bipbip/Haricot/Masks/Bipbip_haricot_im_02231.png  \n",
            "  inflating: Development_Dataset/Training/Bipbip/Haricot/Masks/Bipbip_haricot_im_02301.png  \n",
            "  inflating: Development_Dataset/Training/Bipbip/Haricot/Masks/Bipbip_haricot_im_02351.png  \n",
            "  inflating: Development_Dataset/Training/Bipbip/Haricot/Masks/Bipbip_haricot_im_02531.png  \n",
            "  inflating: Development_Dataset/Training/Bipbip/Haricot/Masks/Bipbip_haricot_im_02651.png  \n",
            "  inflating: Development_Dataset/Training/Bipbip/Haricot/Masks/Bipbip_haricot_im_03041.png  \n",
            "  inflating: Development_Dataset/Training/Bipbip/Haricot/Masks/Bipbip_haricot_im_03111.png  \n",
            "  inflating: Development_Dataset/Training/Bipbip/Haricot/Masks/Bipbip_haricot_im_03231.png  \n",
            "  inflating: Development_Dataset/Training/Bipbip/Haricot/Masks/Bipbip_haricot_im_03281.png  \n",
            "  inflating: Development_Dataset/Training/Bipbip/Haricot/Masks/Bipbip_haricot_im_03291.png  \n",
            "  inflating: Development_Dataset/Training/Bipbip/Haricot/Masks/Bipbip_haricot_im_03411.png  \n",
            "  inflating: Development_Dataset/Training/Bipbip/Haricot/Masks/Bipbip_haricot_im_03461.png  \n",
            "  inflating: Development_Dataset/Training/Bipbip/Haricot/Masks/Bipbip_haricot_im_03481.png  \n",
            "  inflating: Development_Dataset/Training/Bipbip/Haricot/Masks/Bipbip_haricot_im_03531.png  \n",
            "  inflating: Development_Dataset/Training/Bipbip/Haricot/Masks/Bipbip_haricot_im_03571.png  \n",
            "  inflating: Development_Dataset/Training/Bipbip/Haricot/Masks/Bipbip_haricot_im_03611.png  \n",
            "  inflating: Development_Dataset/Training/Bipbip/Haricot/Masks/Bipbip_haricot_im_03751.png  \n",
            "  inflating: Development_Dataset/Training/Bipbip/Haricot/Masks/Bipbip_haricot_im_03841.png  \n",
            "  inflating: Development_Dataset/Training/Bipbip/Haricot/Masks/Bipbip_haricot_im_03961.png  \n",
            "  inflating: Development_Dataset/Training/Bipbip/Haricot/Masks/Bipbip_haricot_im_04031.png  \n",
            "  inflating: Development_Dataset/Training/Bipbip/Haricot/Masks/Bipbip_haricot_im_04301.png  \n",
            "  inflating: Development_Dataset/Training/Bipbip/Haricot/Masks/Bipbip_haricot_im_04401.png  \n",
            "  inflating: Development_Dataset/Training/Bipbip/Haricot/Masks/Bipbip_haricot_im_04541.png  \n",
            "  inflating: Development_Dataset/Training/Bipbip/Haricot/Masks/Bipbip_haricot_im_04591.png  \n",
            "  inflating: Development_Dataset/Training/Bipbip/Haricot/Masks/Bipbip_haricot_im_04741.png  \n",
            "  inflating: Development_Dataset/Training/Bipbip/Haricot/Masks/Bipbip_haricot_im_04791.png  \n",
            "  inflating: Development_Dataset/Training/Bipbip/Haricot/Masks/Bipbip_haricot_im_04851.png  \n",
            "  inflating: Development_Dataset/Training/Bipbip/Haricot/Masks/Bipbip_haricot_im_04991.png  \n",
            "  inflating: Development_Dataset/Training/Bipbip/Haricot/Masks/Bipbip_haricot_im_05041.png  \n",
            "  inflating: Development_Dataset/Training/Bipbip/Haricot/Masks/Bipbip_haricot_im_05111.png  \n",
            "  inflating: Development_Dataset/Training/Bipbip/Haricot/Masks/Bipbip_haricot_im_05141.png  \n",
            "  inflating: Development_Dataset/Training/Bipbip/Haricot/Masks/Bipbip_haricot_im_05231.png  \n",
            "  inflating: Development_Dataset/Training/Bipbip/Haricot/Masks/Bipbip_haricot_im_05301.png  \n",
            "  inflating: Development_Dataset/Training/Bipbip/Haricot/Masks/Bipbip_haricot_im_05351.png  \n",
            "  inflating: Development_Dataset/Training/Bipbip/Haricot/Masks/Bipbip_haricot_im_05361.png  \n",
            "  inflating: Development_Dataset/Training/Bipbip/Haricot/Masks/Bipbip_haricot_im_05411.png  \n",
            "  inflating: Development_Dataset/Training/Bipbip/Haricot/Masks/Bipbip_haricot_im_05421.png  \n",
            "  inflating: Development_Dataset/Training/Bipbip/Haricot/Masks/Bipbip_haricot_im_05461.png  \n",
            "  inflating: Development_Dataset/Training/Bipbip/Haricot/Masks/Bipbip_haricot_im_05481.png  \n",
            "  inflating: Development_Dataset/Training/Bipbip/Haricot/Masks/Bipbip_haricot_im_05531.png  \n",
            "  inflating: Development_Dataset/Training/Bipbip/Haricot/Masks/Bipbip_haricot_im_05571.png  \n",
            "  inflating: Development_Dataset/Training/Bipbip/Haricot/Masks/Bipbip_haricot_im_05741.png  \n",
            "  inflating: Development_Dataset/Training/Bipbip/Haricot/Masks/Bipbip_haricot_im_05911.png  \n",
            "  inflating: Development_Dataset/Training/Bipbip/Haricot/Masks/Bipbip_haricot_im_05991.png  \n",
            "  inflating: Development_Dataset/Training/Bipbip/Haricot/Masks/Bipbip_haricot_im_06041.png  \n",
            "  inflating: Development_Dataset/Training/Bipbip/Haricot/Masks/Bipbip_haricot_im_06101.png  \n",
            "  inflating: Development_Dataset/Training/Bipbip/Haricot/Masks/Bipbip_haricot_im_06151.png  \n",
            "  inflating: Development_Dataset/Training/Bipbip/Haricot/Masks/Bipbip_haricot_im_06241.png  \n",
            "  inflating: Development_Dataset/Training/Bipbip/Haricot/Masks/Bipbip_haricot_im_06341.png  \n",
            "  inflating: Development_Dataset/Training/Bipbip/Haricot/Masks/Bipbip_haricot_im_06401.png  \n",
            "  inflating: Development_Dataset/Training/Bipbip/Haricot/Masks/Bipbip_haricot_im_06481.png  \n",
            "  inflating: Development_Dataset/Training/Bipbip/Haricot/Masks/Bipbip_haricot_im_06531.png  \n",
            "  inflating: Development_Dataset/Training/Bipbip/Haricot/Masks/Bipbip_haricot_im_06641.png  \n",
            "  inflating: Development_Dataset/Training/Bipbip/Haricot/Masks/Bipbip_haricot_im_06691.png  \n",
            "  inflating: Development_Dataset/Training/Bipbip/Haricot/Masks/Bipbip_haricot_im_06801.png  \n",
            "  inflating: Development_Dataset/Training/Bipbip/Haricot/Masks/Bipbip_haricot_im_06851.png  \n",
            "  inflating: Development_Dataset/Training/Bipbip/Haricot/Masks/Bipbip_haricot_im_06901.png  \n",
            "  inflating: Development_Dataset/Training/Bipbip/Haricot/Masks/Bipbip_haricot_im_06941.png  \n",
            "  inflating: Development_Dataset/Training/Bipbip/Haricot/Masks/Bipbip_haricot_im_07011.png  \n",
            "  inflating: Development_Dataset/Training/Bipbip/Haricot/Masks/Bipbip_haricot_im_07071.png  \n",
            "  inflating: Development_Dataset/Training/Bipbip/Haricot/Masks/Bipbip_haricot_im_07131.png  \n",
            "  inflating: Development_Dataset/Training/Bipbip/Haricot/Masks/Bipbip_haricot_im_07371.png  \n",
            "  inflating: Development_Dataset/Training/Bipbip/Haricot/Masks/Bipbip_haricot_im_07481.png  \n",
            "  inflating: Development_Dataset/Training/Bipbip/Haricot/Masks/Bipbip_haricot_im_07531.png  \n",
            "  inflating: Development_Dataset/Training/Bipbip/Haricot/Masks/Bipbip_haricot_im_07591.png  \n",
            "  inflating: Development_Dataset/Training/Bipbip/Haricot/Masks/Bipbip_haricot_im_07701.png  \n",
            "  inflating: Development_Dataset/Training/Bipbip/Haricot/Masks/Bipbip_haricot_im_07781.png  \n",
            "  inflating: Development_Dataset/Training/Bipbip/Haricot/Masks/Bipbip_haricot_im_07861.png  \n",
            "  inflating: Development_Dataset/Training/Bipbip/Haricot/Masks/Bipbip_haricot_im_07941.png  \n",
            "  inflating: Development_Dataset/Training/Bipbip/Haricot/Masks/Bipbip_haricot_im_08071.png  \n",
            "  inflating: Development_Dataset/Training/Bipbip/Haricot/Masks/Bipbip_haricot_im_08141.png  \n",
            "  inflating: Development_Dataset/Training/Bipbip/Haricot/Masks/Bipbip_haricot_im_08221.png  \n",
            "  inflating: Development_Dataset/Training/Bipbip/Haricot/Masks/Bipbip_haricot_im_08371.png  \n",
            "   creating: Development_Dataset/Training/Bipbip/Haricot/Splits/\n",
            "  inflating: Development_Dataset/Training/Bipbip/Haricot/Splits/train.txt  \n",
            "  inflating: Development_Dataset/Training/Bipbip/Haricot/Splits/val.txt  \n",
            "   creating: Development_Dataset/Training/Bipbip/Mais/\n",
            "   creating: Development_Dataset/Training/Bipbip/Mais/.ipynb_checkpoints/\n",
            "  inflating: Development_Dataset/Training/Bipbip/Mais/.ipynb_checkpoints/submission-checkpoint.json  \n",
            "   creating: Development_Dataset/Training/Bipbip/Mais/Images/\n",
            "  inflating: Development_Dataset/Training/Bipbip/Mais/Images/Bipbip_mais_im_01391.jpg  \n",
            "  inflating: Development_Dataset/Training/Bipbip/Mais/Images/Bipbip_mais_im_01461.jpg  \n",
            "  inflating: Development_Dataset/Training/Bipbip/Mais/Images/Bipbip_mais_im_01511.jpg  \n",
            "  inflating: Development_Dataset/Training/Bipbip/Mais/Images/Bipbip_mais_im_01561.jpg  \n",
            "  inflating: Development_Dataset/Training/Bipbip/Mais/Images/Bipbip_mais_im_01601.jpg  \n",
            "  inflating: Development_Dataset/Training/Bipbip/Mais/Images/Bipbip_mais_im_01681.jpg  \n",
            "  inflating: Development_Dataset/Training/Bipbip/Mais/Images/Bipbip_mais_im_01751.jpg  \n",
            "  inflating: Development_Dataset/Training/Bipbip/Mais/Images/Bipbip_mais_im_01871.jpg  \n",
            "  inflating: Development_Dataset/Training/Bipbip/Mais/Images/Bipbip_mais_im_02151.jpg  \n",
            "  inflating: Development_Dataset/Training/Bipbip/Mais/Images/Bipbip_mais_im_02281.jpg  \n",
            "  inflating: Development_Dataset/Training/Bipbip/Mais/Images/Bipbip_mais_im_02371.jpg  \n",
            "  inflating: Development_Dataset/Training/Bipbip/Mais/Images/Bipbip_mais_im_02411.jpg  \n",
            "  inflating: Development_Dataset/Training/Bipbip/Mais/Images/Bipbip_mais_im_02461.jpg  \n",
            "  inflating: Development_Dataset/Training/Bipbip/Mais/Images/Bipbip_mais_im_02511.jpg  \n",
            "  inflating: Development_Dataset/Training/Bipbip/Mais/Images/Bipbip_mais_im_02691.jpg  \n",
            "  inflating: Development_Dataset/Training/Bipbip/Mais/Images/Bipbip_mais_im_02731.jpg  \n",
            "  inflating: Development_Dataset/Training/Bipbip/Mais/Images/Bipbip_mais_im_02781.jpg  \n",
            "  inflating: Development_Dataset/Training/Bipbip/Mais/Images/Bipbip_mais_im_02891.jpg  \n",
            "  inflating: Development_Dataset/Training/Bipbip/Mais/Images/Bipbip_mais_im_02941.jpg  \n",
            "  inflating: Development_Dataset/Training/Bipbip/Mais/Images/Bipbip_mais_im_03121.jpg  \n",
            "  inflating: Development_Dataset/Training/Bipbip/Mais/Images/Bipbip_mais_im_03181.jpg  \n",
            "  inflating: Development_Dataset/Training/Bipbip/Mais/Images/Bipbip_mais_im_03231.jpg  \n",
            "  inflating: Development_Dataset/Training/Bipbip/Mais/Images/Bipbip_mais_im_03291.jpg  \n",
            "  inflating: Development_Dataset/Training/Bipbip/Mais/Images/Bipbip_mais_im_03391.jpg  \n",
            "  inflating: Development_Dataset/Training/Bipbip/Mais/Images/Bipbip_mais_im_03511.jpg  \n",
            "  inflating: Development_Dataset/Training/Bipbip/Mais/Images/Bipbip_mais_im_03581.jpg  \n",
            "  inflating: Development_Dataset/Training/Bipbip/Mais/Images/Bipbip_mais_im_03691.jpg  \n",
            "  inflating: Development_Dataset/Training/Bipbip/Mais/Images/Bipbip_mais_im_03751.jpg  \n",
            "  inflating: Development_Dataset/Training/Bipbip/Mais/Images/Bipbip_mais_im_03811.jpg  \n",
            "  inflating: Development_Dataset/Training/Bipbip/Mais/Images/Bipbip_mais_im_03871.jpg  \n",
            "  inflating: Development_Dataset/Training/Bipbip/Mais/Images/Bipbip_mais_im_03921.jpg  \n",
            "  inflating: Development_Dataset/Training/Bipbip/Mais/Images/Bipbip_mais_im_04031.jpg  \n",
            "  inflating: Development_Dataset/Training/Bipbip/Mais/Images/Bipbip_mais_im_04501.jpg  \n",
            "  inflating: Development_Dataset/Training/Bipbip/Mais/Images/Bipbip_mais_im_04561.jpg  \n",
            "  inflating: Development_Dataset/Training/Bipbip/Mais/Images/Bipbip_mais_im_04621.jpg  \n",
            "  inflating: Development_Dataset/Training/Bipbip/Mais/Images/Bipbip_mais_im_04671.jpg  \n",
            "  inflating: Development_Dataset/Training/Bipbip/Mais/Images/Bipbip_mais_im_04781.jpg  \n",
            "  inflating: Development_Dataset/Training/Bipbip/Mais/Images/Bipbip_mais_im_04911.jpg  \n",
            "  inflating: Development_Dataset/Training/Bipbip/Mais/Images/Bipbip_mais_im_05031.jpg  \n",
            "  inflating: Development_Dataset/Training/Bipbip/Mais/Images/Bipbip_mais_im_05221.jpg  \n",
            "  inflating: Development_Dataset/Training/Bipbip/Mais/Images/Bipbip_mais_im_05281.jpg  \n",
            "  inflating: Development_Dataset/Training/Bipbip/Mais/Images/Bipbip_mais_im_05381.jpg  \n",
            "  inflating: Development_Dataset/Training/Bipbip/Mais/Images/Bipbip_mais_im_05451.jpg  \n",
            "  inflating: Development_Dataset/Training/Bipbip/Mais/Images/Bipbip_mais_im_05691.jpg  \n",
            "  inflating: Development_Dataset/Training/Bipbip/Mais/Images/Bipbip_mais_im_05801.jpg  \n",
            "  inflating: Development_Dataset/Training/Bipbip/Mais/Images/Bipbip_mais_im_05871.jpg  \n",
            "  inflating: Development_Dataset/Training/Bipbip/Mais/Images/Bipbip_mais_im_06071.jpg  \n",
            "  inflating: Development_Dataset/Training/Bipbip/Mais/Images/Bipbip_mais_im_06141.jpg  \n",
            "  inflating: Development_Dataset/Training/Bipbip/Mais/Images/Bipbip_mais_im_06541.jpg  \n",
            "  inflating: Development_Dataset/Training/Bipbip/Mais/Images/Bipbip_mais_im_06691.jpg  \n",
            "  inflating: Development_Dataset/Training/Bipbip/Mais/Images/Bipbip_mais_im_06961.jpg  \n",
            "  inflating: Development_Dataset/Training/Bipbip/Mais/Images/Bipbip_mais_im_07041.jpg  \n",
            "  inflating: Development_Dataset/Training/Bipbip/Mais/Images/Bipbip_mais_im_07181.jpg  \n",
            "  inflating: Development_Dataset/Training/Bipbip/Mais/Images/Bipbip_mais_im_07271.jpg  \n",
            "  inflating: Development_Dataset/Training/Bipbip/Mais/Images/Bipbip_mais_im_07351.jpg  \n",
            "  inflating: Development_Dataset/Training/Bipbip/Mais/Images/Bipbip_mais_im_07451.jpg  \n",
            "  inflating: Development_Dataset/Training/Bipbip/Mais/Images/Bipbip_mais_im_07531.jpg  \n",
            "  inflating: Development_Dataset/Training/Bipbip/Mais/Images/Bipbip_mais_im_07761.jpg  \n",
            "  inflating: Development_Dataset/Training/Bipbip/Mais/Images/Bipbip_mais_im_07831.jpg  \n",
            "  inflating: Development_Dataset/Training/Bipbip/Mais/Images/Bipbip_mais_im_07911.jpg  \n",
            "  inflating: Development_Dataset/Training/Bipbip/Mais/Images/Bipbip_mais_im_07991.jpg  \n",
            "  inflating: Development_Dataset/Training/Bipbip/Mais/Images/Bipbip_mais_im_08061.jpg  \n",
            "  inflating: Development_Dataset/Training/Bipbip/Mais/Images/Bipbip_mais_im_08121.jpg  \n",
            "  inflating: Development_Dataset/Training/Bipbip/Mais/Images/Bipbip_mais_im_08261.jpg  \n",
            "  inflating: Development_Dataset/Training/Bipbip/Mais/Images/Bipbip_mais_im_08321.jpg  \n",
            "  inflating: Development_Dataset/Training/Bipbip/Mais/Images/Bipbip_mais_im_08381.jpg  \n",
            "  inflating: Development_Dataset/Training/Bipbip/Mais/Images/Bipbip_mais_im_08441.jpg  \n",
            "  inflating: Development_Dataset/Training/Bipbip/Mais/Images/Bipbip_mais_im_08511.jpg  \n",
            "  inflating: Development_Dataset/Training/Bipbip/Mais/Images/Bipbip_mais_im_08581.jpg  \n",
            "  inflating: Development_Dataset/Training/Bipbip/Mais/Images/Bipbip_mais_im_08661.jpg  \n",
            "  inflating: Development_Dataset/Training/Bipbip/Mais/Images/Bipbip_mais_im_08731.jpg  \n",
            "  inflating: Development_Dataset/Training/Bipbip/Mais/Images/Bipbip_mais_im_08811.jpg  \n",
            "  inflating: Development_Dataset/Training/Bipbip/Mais/Images/Bipbip_mais_im_09231.jpg  \n",
            "  inflating: Development_Dataset/Training/Bipbip/Mais/Images/Bipbip_mais_im_09311.jpg  \n",
            "  inflating: Development_Dataset/Training/Bipbip/Mais/Images/Bipbip_mais_im_09501.jpg  \n",
            "  inflating: Development_Dataset/Training/Bipbip/Mais/Images/Bipbip_mais_im_09641.jpg  \n",
            "  inflating: Development_Dataset/Training/Bipbip/Mais/Images/Bipbip_mais_im_09711.jpg  \n",
            "  inflating: Development_Dataset/Training/Bipbip/Mais/Images/Bipbip_mais_im_09841.jpg  \n",
            "  inflating: Development_Dataset/Training/Bipbip/Mais/Images/Bipbip_mais_im_09921.jpg  \n",
            "  inflating: Development_Dataset/Training/Bipbip/Mais/Images/Bipbip_mais_im_10001.jpg  \n",
            "  inflating: Development_Dataset/Training/Bipbip/Mais/Images/Bipbip_mais_im_10081.jpg  \n",
            "  inflating: Development_Dataset/Training/Bipbip/Mais/Images/Bipbip_mais_im_10161.jpg  \n",
            "  inflating: Development_Dataset/Training/Bipbip/Mais/Images/Bipbip_mais_im_10231.jpg  \n",
            "  inflating: Development_Dataset/Training/Bipbip/Mais/Images/Bipbip_mais_im_10301.jpg  \n",
            "  inflating: Development_Dataset/Training/Bipbip/Mais/Images/Bipbip_mais_im_10371.jpg  \n",
            "  inflating: Development_Dataset/Training/Bipbip/Mais/Images/Bipbip_mais_im_10691.jpg  \n",
            "  inflating: Development_Dataset/Training/Bipbip/Mais/Images/Bipbip_mais_im_10771.jpg  \n",
            "  inflating: Development_Dataset/Training/Bipbip/Mais/Images/Bipbip_mais_im_10851.jpg  \n",
            "  inflating: Development_Dataset/Training/Bipbip/Mais/Images/Bipbip_mais_im_11121.jpg  \n",
            "  inflating: Development_Dataset/Training/Bipbip/Mais/Images/Bipbip_mais_im_11221.jpg  \n",
            "   creating: Development_Dataset/Training/Bipbip/Mais/Masks/\n",
            "  inflating: Development_Dataset/Training/Bipbip/Mais/Masks/Bipbip_mais_im_01391.png  \n",
            "  inflating: Development_Dataset/Training/Bipbip/Mais/Masks/Bipbip_mais_im_01461.png  \n",
            "  inflating: Development_Dataset/Training/Bipbip/Mais/Masks/Bipbip_mais_im_01511.png  \n",
            "  inflating: Development_Dataset/Training/Bipbip/Mais/Masks/Bipbip_mais_im_01561.png  \n",
            "  inflating: Development_Dataset/Training/Bipbip/Mais/Masks/Bipbip_mais_im_01601.png  \n",
            "  inflating: Development_Dataset/Training/Bipbip/Mais/Masks/Bipbip_mais_im_01681.png  \n",
            "  inflating: Development_Dataset/Training/Bipbip/Mais/Masks/Bipbip_mais_im_01751.png  \n",
            "  inflating: Development_Dataset/Training/Bipbip/Mais/Masks/Bipbip_mais_im_01871.png  \n",
            "  inflating: Development_Dataset/Training/Bipbip/Mais/Masks/Bipbip_mais_im_02151.png  \n",
            "  inflating: Development_Dataset/Training/Bipbip/Mais/Masks/Bipbip_mais_im_02281.png  \n",
            "  inflating: Development_Dataset/Training/Bipbip/Mais/Masks/Bipbip_mais_im_02371.png  \n",
            "  inflating: Development_Dataset/Training/Bipbip/Mais/Masks/Bipbip_mais_im_02411.png  \n",
            "  inflating: Development_Dataset/Training/Bipbip/Mais/Masks/Bipbip_mais_im_02461.png  \n",
            "  inflating: Development_Dataset/Training/Bipbip/Mais/Masks/Bipbip_mais_im_02511.png  \n",
            "  inflating: Development_Dataset/Training/Bipbip/Mais/Masks/Bipbip_mais_im_02691.png  \n",
            "  inflating: Development_Dataset/Training/Bipbip/Mais/Masks/Bipbip_mais_im_02731.png  \n",
            "  inflating: Development_Dataset/Training/Bipbip/Mais/Masks/Bipbip_mais_im_02781.png  \n",
            "  inflating: Development_Dataset/Training/Bipbip/Mais/Masks/Bipbip_mais_im_02891.png  \n",
            "  inflating: Development_Dataset/Training/Bipbip/Mais/Masks/Bipbip_mais_im_02941.png  \n",
            "  inflating: Development_Dataset/Training/Bipbip/Mais/Masks/Bipbip_mais_im_03121.png  \n",
            "  inflating: Development_Dataset/Training/Bipbip/Mais/Masks/Bipbip_mais_im_03181.png  \n",
            "  inflating: Development_Dataset/Training/Bipbip/Mais/Masks/Bipbip_mais_im_03231.png  \n",
            "  inflating: Development_Dataset/Training/Bipbip/Mais/Masks/Bipbip_mais_im_03291.png  \n",
            "  inflating: Development_Dataset/Training/Bipbip/Mais/Masks/Bipbip_mais_im_03391.png  \n",
            "  inflating: Development_Dataset/Training/Bipbip/Mais/Masks/Bipbip_mais_im_03511.png  \n",
            "  inflating: Development_Dataset/Training/Bipbip/Mais/Masks/Bipbip_mais_im_03581.png  \n",
            "  inflating: Development_Dataset/Training/Bipbip/Mais/Masks/Bipbip_mais_im_03691.png  \n",
            "  inflating: Development_Dataset/Training/Bipbip/Mais/Masks/Bipbip_mais_im_03751.png  \n",
            "  inflating: Development_Dataset/Training/Bipbip/Mais/Masks/Bipbip_mais_im_03811.png  \n",
            "  inflating: Development_Dataset/Training/Bipbip/Mais/Masks/Bipbip_mais_im_03871.png  \n",
            "  inflating: Development_Dataset/Training/Bipbip/Mais/Masks/Bipbip_mais_im_03921.png  \n",
            "  inflating: Development_Dataset/Training/Bipbip/Mais/Masks/Bipbip_mais_im_04031.png  \n",
            "  inflating: Development_Dataset/Training/Bipbip/Mais/Masks/Bipbip_mais_im_04501.png  \n",
            "  inflating: Development_Dataset/Training/Bipbip/Mais/Masks/Bipbip_mais_im_04561.png  \n",
            "  inflating: Development_Dataset/Training/Bipbip/Mais/Masks/Bipbip_mais_im_04621.png  \n",
            "  inflating: Development_Dataset/Training/Bipbip/Mais/Masks/Bipbip_mais_im_04671.png  \n",
            "  inflating: Development_Dataset/Training/Bipbip/Mais/Masks/Bipbip_mais_im_04781.png  \n",
            "  inflating: Development_Dataset/Training/Bipbip/Mais/Masks/Bipbip_mais_im_04911.png  \n",
            "  inflating: Development_Dataset/Training/Bipbip/Mais/Masks/Bipbip_mais_im_05031.png  \n",
            "  inflating: Development_Dataset/Training/Bipbip/Mais/Masks/Bipbip_mais_im_05221.png  \n",
            "  inflating: Development_Dataset/Training/Bipbip/Mais/Masks/Bipbip_mais_im_05281.png  \n",
            "  inflating: Development_Dataset/Training/Bipbip/Mais/Masks/Bipbip_mais_im_05381.png  \n",
            "  inflating: Development_Dataset/Training/Bipbip/Mais/Masks/Bipbip_mais_im_05451.png  \n",
            "  inflating: Development_Dataset/Training/Bipbip/Mais/Masks/Bipbip_mais_im_05691.png  \n",
            "  inflating: Development_Dataset/Training/Bipbip/Mais/Masks/Bipbip_mais_im_05801.png  \n",
            "  inflating: Development_Dataset/Training/Bipbip/Mais/Masks/Bipbip_mais_im_05871.png  \n",
            "  inflating: Development_Dataset/Training/Bipbip/Mais/Masks/Bipbip_mais_im_06071.png  \n",
            "  inflating: Development_Dataset/Training/Bipbip/Mais/Masks/Bipbip_mais_im_06141.png  \n",
            "  inflating: Development_Dataset/Training/Bipbip/Mais/Masks/Bipbip_mais_im_06541.png  \n",
            "  inflating: Development_Dataset/Training/Bipbip/Mais/Masks/Bipbip_mais_im_06691.png  \n",
            "  inflating: Development_Dataset/Training/Bipbip/Mais/Masks/Bipbip_mais_im_06961.png  \n",
            "  inflating: Development_Dataset/Training/Bipbip/Mais/Masks/Bipbip_mais_im_07041.png  \n",
            "  inflating: Development_Dataset/Training/Bipbip/Mais/Masks/Bipbip_mais_im_07181.png  \n",
            "  inflating: Development_Dataset/Training/Bipbip/Mais/Masks/Bipbip_mais_im_07271.png  \n",
            "  inflating: Development_Dataset/Training/Bipbip/Mais/Masks/Bipbip_mais_im_07351.png  \n",
            "  inflating: Development_Dataset/Training/Bipbip/Mais/Masks/Bipbip_mais_im_07451.png  \n",
            "  inflating: Development_Dataset/Training/Bipbip/Mais/Masks/Bipbip_mais_im_07531.png  \n",
            "  inflating: Development_Dataset/Training/Bipbip/Mais/Masks/Bipbip_mais_im_07761.png  \n",
            "  inflating: Development_Dataset/Training/Bipbip/Mais/Masks/Bipbip_mais_im_07831.png  \n",
            "  inflating: Development_Dataset/Training/Bipbip/Mais/Masks/Bipbip_mais_im_07911.png  \n",
            "  inflating: Development_Dataset/Training/Bipbip/Mais/Masks/Bipbip_mais_im_07991.png  \n",
            "  inflating: Development_Dataset/Training/Bipbip/Mais/Masks/Bipbip_mais_im_08061.png  \n",
            "  inflating: Development_Dataset/Training/Bipbip/Mais/Masks/Bipbip_mais_im_08121.png  \n",
            "  inflating: Development_Dataset/Training/Bipbip/Mais/Masks/Bipbip_mais_im_08261.png  \n",
            "  inflating: Development_Dataset/Training/Bipbip/Mais/Masks/Bipbip_mais_im_08321.png  \n",
            "  inflating: Development_Dataset/Training/Bipbip/Mais/Masks/Bipbip_mais_im_08381.png  \n",
            "  inflating: Development_Dataset/Training/Bipbip/Mais/Masks/Bipbip_mais_im_08441.png  \n",
            "  inflating: Development_Dataset/Training/Bipbip/Mais/Masks/Bipbip_mais_im_08511.png  \n",
            "  inflating: Development_Dataset/Training/Bipbip/Mais/Masks/Bipbip_mais_im_08581.png  \n",
            "  inflating: Development_Dataset/Training/Bipbip/Mais/Masks/Bipbip_mais_im_08661.png  \n",
            "  inflating: Development_Dataset/Training/Bipbip/Mais/Masks/Bipbip_mais_im_08731.png  \n",
            "  inflating: Development_Dataset/Training/Bipbip/Mais/Masks/Bipbip_mais_im_08811.png  \n",
            "  inflating: Development_Dataset/Training/Bipbip/Mais/Masks/Bipbip_mais_im_09231.png  \n",
            "  inflating: Development_Dataset/Training/Bipbip/Mais/Masks/Bipbip_mais_im_09311.png  \n",
            "  inflating: Development_Dataset/Training/Bipbip/Mais/Masks/Bipbip_mais_im_09501.png  \n",
            "  inflating: Development_Dataset/Training/Bipbip/Mais/Masks/Bipbip_mais_im_09641.png  \n",
            "  inflating: Development_Dataset/Training/Bipbip/Mais/Masks/Bipbip_mais_im_09711.png  \n",
            "  inflating: Development_Dataset/Training/Bipbip/Mais/Masks/Bipbip_mais_im_09841.png  \n",
            "  inflating: Development_Dataset/Training/Bipbip/Mais/Masks/Bipbip_mais_im_09921.png  \n",
            "  inflating: Development_Dataset/Training/Bipbip/Mais/Masks/Bipbip_mais_im_10001.png  \n",
            "  inflating: Development_Dataset/Training/Bipbip/Mais/Masks/Bipbip_mais_im_10081.png  \n",
            "  inflating: Development_Dataset/Training/Bipbip/Mais/Masks/Bipbip_mais_im_10161.png  \n",
            "  inflating: Development_Dataset/Training/Bipbip/Mais/Masks/Bipbip_mais_im_10231.png  \n",
            "  inflating: Development_Dataset/Training/Bipbip/Mais/Masks/Bipbip_mais_im_10301.png  \n",
            "  inflating: Development_Dataset/Training/Bipbip/Mais/Masks/Bipbip_mais_im_10371.png  \n",
            "  inflating: Development_Dataset/Training/Bipbip/Mais/Masks/Bipbip_mais_im_10691.png  \n",
            "  inflating: Development_Dataset/Training/Bipbip/Mais/Masks/Bipbip_mais_im_10771.png  \n",
            "  inflating: Development_Dataset/Training/Bipbip/Mais/Masks/Bipbip_mais_im_10851.png  \n",
            "  inflating: Development_Dataset/Training/Bipbip/Mais/Masks/Bipbip_mais_im_11121.png  \n",
            "  inflating: Development_Dataset/Training/Bipbip/Mais/Masks/Bipbip_mais_im_11221.png  \n",
            "   creating: Development_Dataset/Training/Bipbip/Mais/Splits/\n",
            "   creating: Development_Dataset/Training/Bipbip/Mais/Splits/.ipynb_checkpoints/\n",
            "  inflating: Development_Dataset/Training/Bipbip/Mais/Splits/.ipynb_checkpoints/val-checkpoint.txt  \n",
            "  inflating: Development_Dataset/Training/Bipbip/Mais/Splits/train.txt  \n",
            "  inflating: Development_Dataset/Training/Bipbip/Mais/Splits/val.txt  \n",
            "  inflating: Development_Dataset/Training/Bipbip/Mais/submission.json  \n",
            " extracting: Development_Dataset/Training/Bipbip/Mais/submission.zip  \n"
          ],
          "name": "stdout"
        }
      ]
    },
    {
      "cell_type": "code",
      "metadata": {
        "id": "z3gCzJ2NP3Rl",
        "colab": {
          "base_uri": "https://localhost:8080/"
        },
        "outputId": "6f1bb398-3972-4a1a-c2e9-e4fde610b950"
      },
      "source": [
        "cd drive/MyDrive"
      ],
      "execution_count": 7,
      "outputs": [
        {
          "output_type": "stream",
          "text": [
            "/content/drive/MyDrive\n"
          ],
          "name": "stdout"
        }
      ]
    },
    {
      "cell_type": "markdown",
      "metadata": {
        "id": "mH3lzlVqnFI2"
      },
      "source": [
        "# Example: Image Segmentation\n",
        "## Build segmentation"
      ]
    },
    {
      "cell_type": "code",
      "metadata": {
        "id": "ht81O01Efh-Y"
      },
      "source": [
        "import sys\r\n",
        "sys.path.append('/content/drive/MyDrive/starting_kit')\r\n"
      ],
      "execution_count": 8,
      "outputs": []
    },
    {
      "cell_type": "code",
      "metadata": {
        "id": "4N88wG50nFI3"
      },
      "source": [
        "import read_mask_example as rme\n",
        "import prepare_submission as ps\n",
        "import shutil\n",
        "import random\n",
        "import json\n",
        "import math\n",
        "\n",
        "SEED = 1234\n",
        "tf.random.set_seed(SEED)  \n",
        "\n",
        "# Get current working directory\n",
        "cwd = os.path.join(os.path.dirname(os.getcwd()),\"Development_Dataset\")\n",
        "\n",
        "test_dir = {}\n",
        "dataset_dir = {}\n",
        "patches_dir = {}\n",
        "\n",
        "dataset_dir[0] = os.path.join(cwd,'Training/Bipbip/Mais')\n",
        "dataset_dir[1] = os.path.join(cwd,'Training/Bipbip/Haricot')\n",
        "\n",
        "patches_dir[0] = '/content/drive/MyDrive/Mais'\n",
        "patches_dir[1] = '/content/drive/MyDrive/Haricot'\n",
        "\n",
        "test_dir[0] = os.path.join(cwd,'Test_Dev/Bipbip/Mais')\n",
        "test_dir[1] = os.path.join(cwd,'Test_Dev/Bipbip/Haricot')\n",
        "test_dir[2] = os.path.join(cwd,'Test_Dev/Pead/Mais')\n",
        "test_dir[3] = os.path.join(cwd,'Test_Dev/Pead/Haricot')\n",
        "test_dir[4] = os.path.join(cwd,'Test_Dev/Roseau/Mais')\n",
        "test_dir[5] = os.path.join(cwd,'Test_Dev/Roseau/Haricot')\n",
        "test_dir[6] = os.path.join(cwd,'Test_Dev/Weedelec/Mais')\n",
        "test_dir[7] = os.path.join(cwd,'Test_Dev/Weedelec/Haricot')\n",
        "\n",
        "crops = {}\n",
        "\n",
        "crops[0] = \"Mais\"\n",
        "crops[1] = \"Haricot\"\n",
        "\n",
        "teams = {}\n",
        "\n",
        "teams[0] = \"Bipbip\"\n",
        "teams[1] = \"Pead\"\n",
        "teams[2] = \"Roseau\"\n",
        "teams[3] = \"Weedelec\"\n"
      ],
      "execution_count": 9,
      "outputs": []
    },
    {
      "cell_type": "code",
      "metadata": {
        "colab": {
          "base_uri": "https://localhost:8080/"
        },
        "id": "PHYiQhjvRgb1",
        "outputId": "8ccb87ab-ecea-4a43-97cc-1592e788639d"
      },
      "source": [
        "print(dataset_dir)\r\n",
        "print(test_dir)"
      ],
      "execution_count": 10,
      "outputs": [
        {
          "output_type": "stream",
          "text": [
            "{0: '/content/drive/Development_Dataset/Training/Bipbip/Mais', 1: '/content/drive/Development_Dataset/Training/Bipbip/Haricot'}\n",
            "{0: '/content/drive/Development_Dataset/Test_Dev/Bipbip/Mais', 1: '/content/drive/Development_Dataset/Test_Dev/Bipbip/Haricot', 2: '/content/drive/Development_Dataset/Test_Dev/Pead/Mais', 3: '/content/drive/Development_Dataset/Test_Dev/Pead/Haricot', 4: '/content/drive/Development_Dataset/Test_Dev/Roseau/Mais', 5: '/content/drive/Development_Dataset/Test_Dev/Roseau/Haricot', 6: '/content/drive/Development_Dataset/Test_Dev/Weedelec/Mais', 7: '/content/drive/Development_Dataset/Test_Dev/Weedelec/Haricot'}\n"
          ],
          "name": "stdout"
        }
      ]
    },
    {
      "cell_type": "code",
      "metadata": {
        "id": "J6Yg_m_hRgqo"
      },
      "source": [
        "dataset_dir = {0: '/content/Development_Dataset/Training/Bipbip/Mais', 1: '/content/Development_Dataset/Training/Bipbip/Haricot'}\r\n",
        "test_dir = {0: '/content/Development_Dataset/Test_Dev/Bipbip/Mais', 1: '/content/Development_Dataset/Test_Dev/Bipbip/Haricot', 2: '/content/Development_Dataset/Test_Dev/Pead/Mais', 3: '/content/Development_Dataset/Test_Dev/Pead/Haricot', 4: '/content/Development_Dataset/Test_Dev/Roseau/Mais', 5: '/content/Development_Dataset/Test_Dev/Roseau/Haricot', 6: '/content/Development_Dataset/Test_Dev/Weedelec/Mais', 7: '/content/Development_Dataset/Test_Dev/Weedelec/Haricot'}\r\n"
      ],
      "execution_count": 11,
      "outputs": []
    },
    {
      "cell_type": "code",
      "metadata": {
        "id": "13iz41XcOf1g"
      },
      "source": [
        ""
      ],
      "execution_count": 11,
      "outputs": []
    },
    {
      "cell_type": "markdown",
      "metadata": {
        "id": "dr1GxIkhID6v"
      },
      "source": [
        "from PIL import Image\r\n",
        "import shutil\r\n",
        "\r\n",
        "tf.compat.v1.disable_eager_execution()\r\n",
        "img_h_ = 1536\r\n",
        "img_w_ = 2048\r\n",
        "\r\n",
        "\r\n",
        "img_h = 768\r\n",
        "img_w = 512\r\n",
        "\r\n",
        "create_patches = True\r\n",
        "\r\n",
        "if (create_patches == True) :\r\n",
        "  for i in range(0,2):\r\n",
        "      image_filenames = next(os.walk(os.path.join(dataset_dir[i],\"Images/\")))[2]\r\n",
        "      for image_name in image_filenames:\r\n",
        "      \r\n",
        "      \r\n",
        "      \r\n",
        "          image_name=image_name[:-4]\r\n",
        "          img = Image.open(os.path.join(dataset_dir[i], 'Images', image_name + \".jpg\"))\r\n",
        "          mask = Image.open(os.path.join(dataset_dir[i], 'Masks', image_name + '.png'))\r\n",
        "\r\n",
        "          # Resize image and mask\r\n",
        "          img = img.resize([img_w_,img_h_])\r\n",
        "          \r\n",
        "          img_arr = tf.expand_dims(np.array(img), 0)\r\n",
        "          \r\n",
        "\r\n",
        "\r\n",
        "          mask_arr = tf.expand_dims(np.array(mask), 0)\r\n",
        "\r\n",
        "\r\n",
        "\r\n",
        "          patches = tf.image.extract_patches(images=img_arr,\r\n",
        "                            sizes=[1, img_h, img_w, 1],\r\n",
        "                            strides=[1, img_h-10, img_w-10, 1],\r\n",
        "                            rates=[1, 1, 1, 1],\r\n",
        "                            padding='VALID')\r\n",
        "          \r\n",
        "          patches_mask = tf.image.extract_patches(images=mask_arr,\r\n",
        "                            sizes=[1, img_h, img_w, 1],\r\n",
        "                            strides=[1, img_h-10, img_w-10, 1],\r\n",
        "                            rates=[1, 1, 1, 1],\r\n",
        "                            padding='VALID')\r\n",
        "          patches = tf.reshape(patches, [8, 768, 512, 3])\r\n",
        "\r\n",
        "          patches_mask = tf.reshape(patches_mask, [8, 768, 512, 3])\r\n",
        "\r\n",
        "\r\n",
        "          for j in range(0,8):\r\n",
        "            image = tf.io.encode_jpeg(patches[j])\r\n",
        "            writer = tf.io.write_file(os.path.join(patches_dir[i], 'Images',image_name+'patch'+str(j)+'.jpg'),image)\r\n",
        "            with tf.compat.v1.Session() as sess:\r\n",
        "              sess.run(writer)\r\n",
        "\r\n",
        "            msk = tf.io.encode_jpeg(patches_mask[j])\r\n",
        "            writer = tf.io.write_file(os.path.join(patches_dir[i], 'Masks',image_name+'patch'+str(j)+'.png'), msk)\r\n",
        "            with tf.compat.v1.Session() as sess:\r\n",
        "              sess.run(writer)\r\n",
        "else:\r\n",
        "  for i in range(0,2):\r\n",
        "    \r\n",
        "    tf.compat.v1.gfile.DeleteRecursively(os.path.join(dataset_dir[i], 'Images'))\r\n",
        "    tf.compat.v1.gfile.DeleteRecursively(os.path.join(dataset_dir[i], 'Masks'))\r\n",
        "    shutil.copytree(os.path.join(patches_dir[i], 'Masks'), os.path.join(dataset_dir[i], 'Masks'))\r\n",
        "    shutil.copytree(os.path.join(patches_dir[i], 'Images'), os.path.join(dataset_dir[i], 'Images'))"
      ]
    },
    {
      "cell_type": "code",
      "metadata": {
        "id": "o0m1fRXqzRNI"
      },
      "source": [
        "#!zip -r \"/content/drive/MyDrive/New_Development_Dataset.zip\" \"/content/Development_Dataset\""
      ],
      "execution_count": 12,
      "outputs": []
    },
    {
      "cell_type": "code",
      "metadata": {
        "id": "hsieZk4aKhm6"
      },
      "source": [
        "# ImageDataGenerator\n",
        "# ------------------\n",
        "\n",
        "from tensorflow.keras.preprocessing.image import ImageDataGenerator\n",
        "\n",
        "apply_data_augmentation = True\n",
        "\n",
        "# Create training ImageDataGenerator object\n",
        "# We need two different generators for images and corresponding masks\n",
        "if apply_data_augmentation:\n",
        "    img_data_gen = ImageDataGenerator(rotation_range=10,\n",
        "                                      width_shift_range=10,\n",
        "                                      height_shift_range=10,\n",
        "                                      zoom_range=0.3,\n",
        "                                      horizontal_flip=True,\n",
        "                                      vertical_flip=True,\n",
        "                                      fill_mode='reflect')\n",
        "    mask_data_gen = ImageDataGenerator(rotation_range=10,\n",
        "                                       width_shift_range=10,\n",
        "                                       height_shift_range=10,\n",
        "                                       zoom_range=0.3,\n",
        "                                       horizontal_flip=True,\n",
        "                                       vertical_flip=True,\n",
        "                                       fill_mode='reflect')"
      ],
      "execution_count": 13,
      "outputs": []
    },
    {
      "cell_type": "code",
      "metadata": {
        "id": "TyrdiIh_PWjB"
      },
      "source": [
        "from PIL import Image\n",
        "\n",
        "class CustomDataset(tf.keras.utils.Sequence):\n",
        "\n",
        "    \"\"\"\n",
        "        CustomDataset inheriting from tf.keras.utils.Sequence.\n",
        "\n",
        "        3 main methods:\n",
        "          - __init__: save dataset params like directory, filenames..\n",
        "          - __len__: return the total number of samples in the dataset\n",
        "          - __getitem__: return a sample from the dataset\n",
        "\n",
        "        Note: \n",
        "          - the custom dataset return a single sample from the dataset. Then, we use \n",
        "            a tf.data.Dataset object to group samples into batches.\n",
        "          - in this case we have a different structure of the dataset in memory. \n",
        "            We have all the images in the same folder and the training and validation splits\n",
        "            are defined in text files.\n",
        "\n",
        "      \"\"\"\n",
        "\n",
        "    def __init__(self, dataset_dir, which_subset, img_generator=None, mask_generator=None, \n",
        "                preprocessing_function=None, out_shape=[256, 256]):\n",
        "        if which_subset == 'training':\n",
        "            subset_file = os.path.join(dataset_dir, 'Splits', 'train.txt')\n",
        "        elif which_subset == 'validation':\n",
        "            subset_file = os.path.join(dataset_dir, 'Splits', 'val.txt')\n",
        "    \n",
        "        with open(subset_file, 'r') as f:\n",
        "            lines = f.readlines()\n",
        "    \n",
        "        subset_filenames = []\n",
        "        for line in lines:\n",
        "            subset_filenames.append(line.strip()) \n",
        "\n",
        "        self.which_subset = which_subset\n",
        "        self.dataset_dir = dataset_dir\n",
        "        self.subset_filenames = subset_filenames\n",
        "        self.img_generator = img_generator\n",
        "        self.mask_generator = mask_generator\n",
        "        self.preprocessing_function = preprocessing_function\n",
        "        self.out_shape = out_shape\n",
        "\n",
        "    def __len__(self):\n",
        "        return len(self.subset_filenames)\n",
        "\n",
        "    def __getitem__(self, index):\n",
        "        # Read Image\n",
        "        curr_filename = self.subset_filenames[index]\n",
        "        img = Image.open(os.path.join(self.dataset_dir, 'Images', curr_filename + '.jpg'))\n",
        "        #mask = rme.read_rgb_mask(os.path.join(self.dataset_dir, 'Masks', curr_filename + '.png'))\n",
        "\n",
        "        # Resize image and mask\n",
        "        img = img.resize(self.out_shape)\n",
        "        \n",
        "\n",
        "        \n",
        "       # mask = mask.resize(self.out_shape)\n",
        "    \n",
        "        img_arr = np.array(img)\n",
        "        mask_arr = rme.read_rgb_mask(os.path.join(self.dataset_dir, 'Masks', curr_filename + '.png'),self.out_shape)\n",
        "        #print(mask_arr.shape)\n",
        "  \n",
        "\n",
        "        mask_arr = np.expand_dims(mask_arr, -1)\n",
        "\n",
        "        if self.which_subset == 'training':\n",
        "            if self.img_generator is not None and self.mask_generator is not None:\n",
        "                # Perform data augmentation\n",
        "                # We can get a random transformation from the ImageDataGenerator using get_random_transform\n",
        "                # and we can apply it to the image using apply_transform\n",
        "                img_t = self.img_generator.get_random_transform(img_arr.shape, seed=SEED)\n",
        "                mask_t = self.mask_generator.get_random_transform(mask_arr.shape, seed=SEED)\n",
        "                img_arr = self.img_generator.apply_transform(img_arr, img_t)\n",
        "                # ImageDataGenerator use bilinear interpolation for augmenting the images.\n",
        "                # Thus, when applied to the masks it will output 'interpolated classes', which\n",
        "                # is an unwanted behaviour. As a trick, we can transform each class mask \n",
        "                # separately and then we can cast to integer values (as in the binary segmentation notebook).\n",
        "                # Finally, we merge the augmented binary masks to obtain the final segmentation mask.\n",
        "                out_mask = np.zeros_like(mask_arr)\n",
        "                for c in np.unique(mask_arr):\n",
        "                    if c > 0:\n",
        "                        curr_class_arr = np.float32(mask_arr == c)\n",
        "                        curr_class_arr = self.mask_generator.apply_transform(curr_class_arr, mask_t)\n",
        "                        # from [0, 1] to {0, 1}\n",
        "                        curr_class_arr = np.uint8(curr_class_arr)\n",
        "                        # recover original class\n",
        "                        curr_class_arr = curr_class_arr * c \n",
        "                        out_mask += curr_class_arr\n",
        "        else:\n",
        "            out_mask = mask_arr\n",
        "    \n",
        "        if self.preprocessing_function is not None:\n",
        "            img_arr = self.preprocessing_function(img_arr)\n",
        "        \n",
        "        return img_arr, np.float32(out_mask)"
      ],
      "execution_count": 14,
      "outputs": []
    },
    {
      "cell_type": "code",
      "metadata": {
        "id": "U_-iy88kXD52"
      },
      "source": [
        ""
      ],
      "execution_count": 14,
      "outputs": []
    },
    {
      "cell_type": "code",
      "metadata": {
        "id": "usz5SKPeQrOE",
        "outputId": "4884ec25-d117-412a-8474-035757121346",
        "colab": {
          "base_uri": "https://localhost:8080/"
        }
      },
      "source": [
        "for j in range (0,2):\n",
        "    if not os.path.exists(os.path.join(dataset_dir[j],\"Splits/\")):\n",
        "        os.makedirs(os.path.join(dataset_dir[j],\"Splits/\"))\n",
        "\n",
        "\n",
        "    image_filenames = next(os.walk(os.path.join(dataset_dir[j],\"Images/\")))[2]\n",
        "    \n",
        "    val=[]\n",
        "    train=[]\n",
        "    \n",
        "    for image_name in image_filenames:\n",
        "        if 100*random.random() < 10:\n",
        "            val.append(image_name[:-4])\n",
        "        else:\n",
        "            train.append(image_name[:-4])\n",
        "    \n",
        "    with open(os.path.join(dataset_dir[j],\"Splits\",\"train.txt\"), 'w') as file:  # Use file to refer to the file object\n",
        "        for i in train:\n",
        "            file.write(str(i)+\"\\n\")\n",
        "    \n",
        "    with open(os.path.join(dataset_dir[j],\"Splits\",\"val.txt\"), 'w') as file:  # Use file to refer to the file object\n",
        "        for i in val:\n",
        "            file.write(str(i)+\"\\n\")\n",
        "\n",
        "   "
      ],
      "execution_count": 15,
      "outputs": [
        {
          "output_type": "execute_result",
          "data": {
            "text/plain": [
              "21"
            ]
          },
          "metadata": {
            "tags": []
          },
          "execution_count": 15
        },
        {
          "output_type": "execute_result",
          "data": {
            "text/plain": [
              "21"
            ]
          },
          "metadata": {
            "tags": []
          },
          "execution_count": 15
        },
        {
          "output_type": "execute_result",
          "data": {
            "text/plain": [
              "21"
            ]
          },
          "metadata": {
            "tags": []
          },
          "execution_count": 15
        },
        {
          "output_type": "execute_result",
          "data": {
            "text/plain": [
              "21"
            ]
          },
          "metadata": {
            "tags": []
          },
          "execution_count": 15
        },
        {
          "output_type": "execute_result",
          "data": {
            "text/plain": [
              "21"
            ]
          },
          "metadata": {
            "tags": []
          },
          "execution_count": 15
        },
        {
          "output_type": "execute_result",
          "data": {
            "text/plain": [
              "21"
            ]
          },
          "metadata": {
            "tags": []
          },
          "execution_count": 15
        },
        {
          "output_type": "execute_result",
          "data": {
            "text/plain": [
              "21"
            ]
          },
          "metadata": {
            "tags": []
          },
          "execution_count": 15
        },
        {
          "output_type": "execute_result",
          "data": {
            "text/plain": [
              "21"
            ]
          },
          "metadata": {
            "tags": []
          },
          "execution_count": 15
        },
        {
          "output_type": "execute_result",
          "data": {
            "text/plain": [
              "21"
            ]
          },
          "metadata": {
            "tags": []
          },
          "execution_count": 15
        },
        {
          "output_type": "execute_result",
          "data": {
            "text/plain": [
              "21"
            ]
          },
          "metadata": {
            "tags": []
          },
          "execution_count": 15
        },
        {
          "output_type": "execute_result",
          "data": {
            "text/plain": [
              "21"
            ]
          },
          "metadata": {
            "tags": []
          },
          "execution_count": 15
        },
        {
          "output_type": "execute_result",
          "data": {
            "text/plain": [
              "21"
            ]
          },
          "metadata": {
            "tags": []
          },
          "execution_count": 15
        },
        {
          "output_type": "execute_result",
          "data": {
            "text/plain": [
              "21"
            ]
          },
          "metadata": {
            "tags": []
          },
          "execution_count": 15
        },
        {
          "output_type": "execute_result",
          "data": {
            "text/plain": [
              "21"
            ]
          },
          "metadata": {
            "tags": []
          },
          "execution_count": 15
        },
        {
          "output_type": "execute_result",
          "data": {
            "text/plain": [
              "21"
            ]
          },
          "metadata": {
            "tags": []
          },
          "execution_count": 15
        },
        {
          "output_type": "execute_result",
          "data": {
            "text/plain": [
              "21"
            ]
          },
          "metadata": {
            "tags": []
          },
          "execution_count": 15
        },
        {
          "output_type": "execute_result",
          "data": {
            "text/plain": [
              "21"
            ]
          },
          "metadata": {
            "tags": []
          },
          "execution_count": 15
        },
        {
          "output_type": "execute_result",
          "data": {
            "text/plain": [
              "21"
            ]
          },
          "metadata": {
            "tags": []
          },
          "execution_count": 15
        },
        {
          "output_type": "execute_result",
          "data": {
            "text/plain": [
              "21"
            ]
          },
          "metadata": {
            "tags": []
          },
          "execution_count": 15
        },
        {
          "output_type": "execute_result",
          "data": {
            "text/plain": [
              "21"
            ]
          },
          "metadata": {
            "tags": []
          },
          "execution_count": 15
        },
        {
          "output_type": "execute_result",
          "data": {
            "text/plain": [
              "21"
            ]
          },
          "metadata": {
            "tags": []
          },
          "execution_count": 15
        },
        {
          "output_type": "execute_result",
          "data": {
            "text/plain": [
              "21"
            ]
          },
          "metadata": {
            "tags": []
          },
          "execution_count": 15
        },
        {
          "output_type": "execute_result",
          "data": {
            "text/plain": [
              "21"
            ]
          },
          "metadata": {
            "tags": []
          },
          "execution_count": 15
        },
        {
          "output_type": "execute_result",
          "data": {
            "text/plain": [
              "21"
            ]
          },
          "metadata": {
            "tags": []
          },
          "execution_count": 15
        },
        {
          "output_type": "execute_result",
          "data": {
            "text/plain": [
              "21"
            ]
          },
          "metadata": {
            "tags": []
          },
          "execution_count": 15
        },
        {
          "output_type": "execute_result",
          "data": {
            "text/plain": [
              "21"
            ]
          },
          "metadata": {
            "tags": []
          },
          "execution_count": 15
        },
        {
          "output_type": "execute_result",
          "data": {
            "text/plain": [
              "21"
            ]
          },
          "metadata": {
            "tags": []
          },
          "execution_count": 15
        },
        {
          "output_type": "execute_result",
          "data": {
            "text/plain": [
              "21"
            ]
          },
          "metadata": {
            "tags": []
          },
          "execution_count": 15
        },
        {
          "output_type": "execute_result",
          "data": {
            "text/plain": [
              "21"
            ]
          },
          "metadata": {
            "tags": []
          },
          "execution_count": 15
        },
        {
          "output_type": "execute_result",
          "data": {
            "text/plain": [
              "21"
            ]
          },
          "metadata": {
            "tags": []
          },
          "execution_count": 15
        },
        {
          "output_type": "execute_result",
          "data": {
            "text/plain": [
              "21"
            ]
          },
          "metadata": {
            "tags": []
          },
          "execution_count": 15
        },
        {
          "output_type": "execute_result",
          "data": {
            "text/plain": [
              "21"
            ]
          },
          "metadata": {
            "tags": []
          },
          "execution_count": 15
        },
        {
          "output_type": "execute_result",
          "data": {
            "text/plain": [
              "21"
            ]
          },
          "metadata": {
            "tags": []
          },
          "execution_count": 15
        },
        {
          "output_type": "execute_result",
          "data": {
            "text/plain": [
              "21"
            ]
          },
          "metadata": {
            "tags": []
          },
          "execution_count": 15
        },
        {
          "output_type": "execute_result",
          "data": {
            "text/plain": [
              "21"
            ]
          },
          "metadata": {
            "tags": []
          },
          "execution_count": 15
        },
        {
          "output_type": "execute_result",
          "data": {
            "text/plain": [
              "21"
            ]
          },
          "metadata": {
            "tags": []
          },
          "execution_count": 15
        },
        {
          "output_type": "execute_result",
          "data": {
            "text/plain": [
              "21"
            ]
          },
          "metadata": {
            "tags": []
          },
          "execution_count": 15
        },
        {
          "output_type": "execute_result",
          "data": {
            "text/plain": [
              "21"
            ]
          },
          "metadata": {
            "tags": []
          },
          "execution_count": 15
        },
        {
          "output_type": "execute_result",
          "data": {
            "text/plain": [
              "21"
            ]
          },
          "metadata": {
            "tags": []
          },
          "execution_count": 15
        },
        {
          "output_type": "execute_result",
          "data": {
            "text/plain": [
              "21"
            ]
          },
          "metadata": {
            "tags": []
          },
          "execution_count": 15
        },
        {
          "output_type": "execute_result",
          "data": {
            "text/plain": [
              "21"
            ]
          },
          "metadata": {
            "tags": []
          },
          "execution_count": 15
        },
        {
          "output_type": "execute_result",
          "data": {
            "text/plain": [
              "21"
            ]
          },
          "metadata": {
            "tags": []
          },
          "execution_count": 15
        },
        {
          "output_type": "execute_result",
          "data": {
            "text/plain": [
              "21"
            ]
          },
          "metadata": {
            "tags": []
          },
          "execution_count": 15
        },
        {
          "output_type": "execute_result",
          "data": {
            "text/plain": [
              "21"
            ]
          },
          "metadata": {
            "tags": []
          },
          "execution_count": 15
        },
        {
          "output_type": "execute_result",
          "data": {
            "text/plain": [
              "21"
            ]
          },
          "metadata": {
            "tags": []
          },
          "execution_count": 15
        },
        {
          "output_type": "execute_result",
          "data": {
            "text/plain": [
              "21"
            ]
          },
          "metadata": {
            "tags": []
          },
          "execution_count": 15
        },
        {
          "output_type": "execute_result",
          "data": {
            "text/plain": [
              "21"
            ]
          },
          "metadata": {
            "tags": []
          },
          "execution_count": 15
        },
        {
          "output_type": "execute_result",
          "data": {
            "text/plain": [
              "21"
            ]
          },
          "metadata": {
            "tags": []
          },
          "execution_count": 15
        },
        {
          "output_type": "execute_result",
          "data": {
            "text/plain": [
              "21"
            ]
          },
          "metadata": {
            "tags": []
          },
          "execution_count": 15
        },
        {
          "output_type": "execute_result",
          "data": {
            "text/plain": [
              "21"
            ]
          },
          "metadata": {
            "tags": []
          },
          "execution_count": 15
        },
        {
          "output_type": "execute_result",
          "data": {
            "text/plain": [
              "21"
            ]
          },
          "metadata": {
            "tags": []
          },
          "execution_count": 15
        },
        {
          "output_type": "execute_result",
          "data": {
            "text/plain": [
              "21"
            ]
          },
          "metadata": {
            "tags": []
          },
          "execution_count": 15
        },
        {
          "output_type": "execute_result",
          "data": {
            "text/plain": [
              "21"
            ]
          },
          "metadata": {
            "tags": []
          },
          "execution_count": 15
        },
        {
          "output_type": "execute_result",
          "data": {
            "text/plain": [
              "21"
            ]
          },
          "metadata": {
            "tags": []
          },
          "execution_count": 15
        },
        {
          "output_type": "execute_result",
          "data": {
            "text/plain": [
              "21"
            ]
          },
          "metadata": {
            "tags": []
          },
          "execution_count": 15
        },
        {
          "output_type": "execute_result",
          "data": {
            "text/plain": [
              "21"
            ]
          },
          "metadata": {
            "tags": []
          },
          "execution_count": 15
        },
        {
          "output_type": "execute_result",
          "data": {
            "text/plain": [
              "21"
            ]
          },
          "metadata": {
            "tags": []
          },
          "execution_count": 15
        },
        {
          "output_type": "execute_result",
          "data": {
            "text/plain": [
              "21"
            ]
          },
          "metadata": {
            "tags": []
          },
          "execution_count": 15
        },
        {
          "output_type": "execute_result",
          "data": {
            "text/plain": [
              "21"
            ]
          },
          "metadata": {
            "tags": []
          },
          "execution_count": 15
        },
        {
          "output_type": "execute_result",
          "data": {
            "text/plain": [
              "21"
            ]
          },
          "metadata": {
            "tags": []
          },
          "execution_count": 15
        },
        {
          "output_type": "execute_result",
          "data": {
            "text/plain": [
              "21"
            ]
          },
          "metadata": {
            "tags": []
          },
          "execution_count": 15
        },
        {
          "output_type": "execute_result",
          "data": {
            "text/plain": [
              "21"
            ]
          },
          "metadata": {
            "tags": []
          },
          "execution_count": 15
        },
        {
          "output_type": "execute_result",
          "data": {
            "text/plain": [
              "21"
            ]
          },
          "metadata": {
            "tags": []
          },
          "execution_count": 15
        },
        {
          "output_type": "execute_result",
          "data": {
            "text/plain": [
              "21"
            ]
          },
          "metadata": {
            "tags": []
          },
          "execution_count": 15
        },
        {
          "output_type": "execute_result",
          "data": {
            "text/plain": [
              "21"
            ]
          },
          "metadata": {
            "tags": []
          },
          "execution_count": 15
        },
        {
          "output_type": "execute_result",
          "data": {
            "text/plain": [
              "21"
            ]
          },
          "metadata": {
            "tags": []
          },
          "execution_count": 15
        },
        {
          "output_type": "execute_result",
          "data": {
            "text/plain": [
              "21"
            ]
          },
          "metadata": {
            "tags": []
          },
          "execution_count": 15
        },
        {
          "output_type": "execute_result",
          "data": {
            "text/plain": [
              "21"
            ]
          },
          "metadata": {
            "tags": []
          },
          "execution_count": 15
        },
        {
          "output_type": "execute_result",
          "data": {
            "text/plain": [
              "21"
            ]
          },
          "metadata": {
            "tags": []
          },
          "execution_count": 15
        },
        {
          "output_type": "execute_result",
          "data": {
            "text/plain": [
              "21"
            ]
          },
          "metadata": {
            "tags": []
          },
          "execution_count": 15
        },
        {
          "output_type": "execute_result",
          "data": {
            "text/plain": [
              "21"
            ]
          },
          "metadata": {
            "tags": []
          },
          "execution_count": 15
        },
        {
          "output_type": "execute_result",
          "data": {
            "text/plain": [
              "21"
            ]
          },
          "metadata": {
            "tags": []
          },
          "execution_count": 15
        },
        {
          "output_type": "execute_result",
          "data": {
            "text/plain": [
              "21"
            ]
          },
          "metadata": {
            "tags": []
          },
          "execution_count": 15
        },
        {
          "output_type": "execute_result",
          "data": {
            "text/plain": [
              "21"
            ]
          },
          "metadata": {
            "tags": []
          },
          "execution_count": 15
        },
        {
          "output_type": "execute_result",
          "data": {
            "text/plain": [
              "21"
            ]
          },
          "metadata": {
            "tags": []
          },
          "execution_count": 15
        },
        {
          "output_type": "execute_result",
          "data": {
            "text/plain": [
              "21"
            ]
          },
          "metadata": {
            "tags": []
          },
          "execution_count": 15
        },
        {
          "output_type": "execute_result",
          "data": {
            "text/plain": [
              "21"
            ]
          },
          "metadata": {
            "tags": []
          },
          "execution_count": 15
        },
        {
          "output_type": "execute_result",
          "data": {
            "text/plain": [
              "21"
            ]
          },
          "metadata": {
            "tags": []
          },
          "execution_count": 15
        },
        {
          "output_type": "execute_result",
          "data": {
            "text/plain": [
              "21"
            ]
          },
          "metadata": {
            "tags": []
          },
          "execution_count": 15
        },
        {
          "output_type": "execute_result",
          "data": {
            "text/plain": [
              "21"
            ]
          },
          "metadata": {
            "tags": []
          },
          "execution_count": 15
        },
        {
          "output_type": "execute_result",
          "data": {
            "text/plain": [
              "21"
            ]
          },
          "metadata": {
            "tags": []
          },
          "execution_count": 15
        },
        {
          "output_type": "execute_result",
          "data": {
            "text/plain": [
              "21"
            ]
          },
          "metadata": {
            "tags": []
          },
          "execution_count": 15
        },
        {
          "output_type": "execute_result",
          "data": {
            "text/plain": [
              "21"
            ]
          },
          "metadata": {
            "tags": []
          },
          "execution_count": 15
        },
        {
          "output_type": "execute_result",
          "data": {
            "text/plain": [
              "21"
            ]
          },
          "metadata": {
            "tags": []
          },
          "execution_count": 15
        },
        {
          "output_type": "execute_result",
          "data": {
            "text/plain": [
              "21"
            ]
          },
          "metadata": {
            "tags": []
          },
          "execution_count": 15
        },
        {
          "output_type": "execute_result",
          "data": {
            "text/plain": [
              "21"
            ]
          },
          "metadata": {
            "tags": []
          },
          "execution_count": 15
        },
        {
          "output_type": "execute_result",
          "data": {
            "text/plain": [
              "21"
            ]
          },
          "metadata": {
            "tags": []
          },
          "execution_count": 15
        },
        {
          "output_type": "execute_result",
          "data": {
            "text/plain": [
              "21"
            ]
          },
          "metadata": {
            "tags": []
          },
          "execution_count": 15
        },
        {
          "output_type": "execute_result",
          "data": {
            "text/plain": [
              "21"
            ]
          },
          "metadata": {
            "tags": []
          },
          "execution_count": 15
        },
        {
          "output_type": "execute_result",
          "data": {
            "text/plain": [
              "21"
            ]
          },
          "metadata": {
            "tags": []
          },
          "execution_count": 15
        },
        {
          "output_type": "execute_result",
          "data": {
            "text/plain": [
              "24"
            ]
          },
          "metadata": {
            "tags": []
          },
          "execution_count": 15
        },
        {
          "output_type": "execute_result",
          "data": {
            "text/plain": [
              "24"
            ]
          },
          "metadata": {
            "tags": []
          },
          "execution_count": 15
        },
        {
          "output_type": "execute_result",
          "data": {
            "text/plain": [
              "24"
            ]
          },
          "metadata": {
            "tags": []
          },
          "execution_count": 15
        },
        {
          "output_type": "execute_result",
          "data": {
            "text/plain": [
              "24"
            ]
          },
          "metadata": {
            "tags": []
          },
          "execution_count": 15
        },
        {
          "output_type": "execute_result",
          "data": {
            "text/plain": [
              "24"
            ]
          },
          "metadata": {
            "tags": []
          },
          "execution_count": 15
        },
        {
          "output_type": "execute_result",
          "data": {
            "text/plain": [
              "24"
            ]
          },
          "metadata": {
            "tags": []
          },
          "execution_count": 15
        },
        {
          "output_type": "execute_result",
          "data": {
            "text/plain": [
              "24"
            ]
          },
          "metadata": {
            "tags": []
          },
          "execution_count": 15
        },
        {
          "output_type": "execute_result",
          "data": {
            "text/plain": [
              "24"
            ]
          },
          "metadata": {
            "tags": []
          },
          "execution_count": 15
        },
        {
          "output_type": "execute_result",
          "data": {
            "text/plain": [
              "24"
            ]
          },
          "metadata": {
            "tags": []
          },
          "execution_count": 15
        },
        {
          "output_type": "execute_result",
          "data": {
            "text/plain": [
              "24"
            ]
          },
          "metadata": {
            "tags": []
          },
          "execution_count": 15
        },
        {
          "output_type": "execute_result",
          "data": {
            "text/plain": [
              "24"
            ]
          },
          "metadata": {
            "tags": []
          },
          "execution_count": 15
        },
        {
          "output_type": "execute_result",
          "data": {
            "text/plain": [
              "24"
            ]
          },
          "metadata": {
            "tags": []
          },
          "execution_count": 15
        },
        {
          "output_type": "execute_result",
          "data": {
            "text/plain": [
              "24"
            ]
          },
          "metadata": {
            "tags": []
          },
          "execution_count": 15
        },
        {
          "output_type": "execute_result",
          "data": {
            "text/plain": [
              "24"
            ]
          },
          "metadata": {
            "tags": []
          },
          "execution_count": 15
        },
        {
          "output_type": "execute_result",
          "data": {
            "text/plain": [
              "24"
            ]
          },
          "metadata": {
            "tags": []
          },
          "execution_count": 15
        },
        {
          "output_type": "execute_result",
          "data": {
            "text/plain": [
              "24"
            ]
          },
          "metadata": {
            "tags": []
          },
          "execution_count": 15
        },
        {
          "output_type": "execute_result",
          "data": {
            "text/plain": [
              "24"
            ]
          },
          "metadata": {
            "tags": []
          },
          "execution_count": 15
        },
        {
          "output_type": "execute_result",
          "data": {
            "text/plain": [
              "24"
            ]
          },
          "metadata": {
            "tags": []
          },
          "execution_count": 15
        },
        {
          "output_type": "execute_result",
          "data": {
            "text/plain": [
              "24"
            ]
          },
          "metadata": {
            "tags": []
          },
          "execution_count": 15
        },
        {
          "output_type": "execute_result",
          "data": {
            "text/plain": [
              "24"
            ]
          },
          "metadata": {
            "tags": []
          },
          "execution_count": 15
        },
        {
          "output_type": "execute_result",
          "data": {
            "text/plain": [
              "24"
            ]
          },
          "metadata": {
            "tags": []
          },
          "execution_count": 15
        },
        {
          "output_type": "execute_result",
          "data": {
            "text/plain": [
              "24"
            ]
          },
          "metadata": {
            "tags": []
          },
          "execution_count": 15
        },
        {
          "output_type": "execute_result",
          "data": {
            "text/plain": [
              "24"
            ]
          },
          "metadata": {
            "tags": []
          },
          "execution_count": 15
        },
        {
          "output_type": "execute_result",
          "data": {
            "text/plain": [
              "24"
            ]
          },
          "metadata": {
            "tags": []
          },
          "execution_count": 15
        },
        {
          "output_type": "execute_result",
          "data": {
            "text/plain": [
              "24"
            ]
          },
          "metadata": {
            "tags": []
          },
          "execution_count": 15
        },
        {
          "output_type": "execute_result",
          "data": {
            "text/plain": [
              "24"
            ]
          },
          "metadata": {
            "tags": []
          },
          "execution_count": 15
        },
        {
          "output_type": "execute_result",
          "data": {
            "text/plain": [
              "24"
            ]
          },
          "metadata": {
            "tags": []
          },
          "execution_count": 15
        },
        {
          "output_type": "execute_result",
          "data": {
            "text/plain": [
              "24"
            ]
          },
          "metadata": {
            "tags": []
          },
          "execution_count": 15
        },
        {
          "output_type": "execute_result",
          "data": {
            "text/plain": [
              "24"
            ]
          },
          "metadata": {
            "tags": []
          },
          "execution_count": 15
        },
        {
          "output_type": "execute_result",
          "data": {
            "text/plain": [
              "24"
            ]
          },
          "metadata": {
            "tags": []
          },
          "execution_count": 15
        },
        {
          "output_type": "execute_result",
          "data": {
            "text/plain": [
              "24"
            ]
          },
          "metadata": {
            "tags": []
          },
          "execution_count": 15
        },
        {
          "output_type": "execute_result",
          "data": {
            "text/plain": [
              "24"
            ]
          },
          "metadata": {
            "tags": []
          },
          "execution_count": 15
        },
        {
          "output_type": "execute_result",
          "data": {
            "text/plain": [
              "24"
            ]
          },
          "metadata": {
            "tags": []
          },
          "execution_count": 15
        },
        {
          "output_type": "execute_result",
          "data": {
            "text/plain": [
              "24"
            ]
          },
          "metadata": {
            "tags": []
          },
          "execution_count": 15
        },
        {
          "output_type": "execute_result",
          "data": {
            "text/plain": [
              "24"
            ]
          },
          "metadata": {
            "tags": []
          },
          "execution_count": 15
        },
        {
          "output_type": "execute_result",
          "data": {
            "text/plain": [
              "24"
            ]
          },
          "metadata": {
            "tags": []
          },
          "execution_count": 15
        },
        {
          "output_type": "execute_result",
          "data": {
            "text/plain": [
              "24"
            ]
          },
          "metadata": {
            "tags": []
          },
          "execution_count": 15
        },
        {
          "output_type": "execute_result",
          "data": {
            "text/plain": [
              "24"
            ]
          },
          "metadata": {
            "tags": []
          },
          "execution_count": 15
        },
        {
          "output_type": "execute_result",
          "data": {
            "text/plain": [
              "24"
            ]
          },
          "metadata": {
            "tags": []
          },
          "execution_count": 15
        },
        {
          "output_type": "execute_result",
          "data": {
            "text/plain": [
              "24"
            ]
          },
          "metadata": {
            "tags": []
          },
          "execution_count": 15
        },
        {
          "output_type": "execute_result",
          "data": {
            "text/plain": [
              "24"
            ]
          },
          "metadata": {
            "tags": []
          },
          "execution_count": 15
        },
        {
          "output_type": "execute_result",
          "data": {
            "text/plain": [
              "24"
            ]
          },
          "metadata": {
            "tags": []
          },
          "execution_count": 15
        },
        {
          "output_type": "execute_result",
          "data": {
            "text/plain": [
              "24"
            ]
          },
          "metadata": {
            "tags": []
          },
          "execution_count": 15
        },
        {
          "output_type": "execute_result",
          "data": {
            "text/plain": [
              "24"
            ]
          },
          "metadata": {
            "tags": []
          },
          "execution_count": 15
        },
        {
          "output_type": "execute_result",
          "data": {
            "text/plain": [
              "24"
            ]
          },
          "metadata": {
            "tags": []
          },
          "execution_count": 15
        },
        {
          "output_type": "execute_result",
          "data": {
            "text/plain": [
              "24"
            ]
          },
          "metadata": {
            "tags": []
          },
          "execution_count": 15
        },
        {
          "output_type": "execute_result",
          "data": {
            "text/plain": [
              "24"
            ]
          },
          "metadata": {
            "tags": []
          },
          "execution_count": 15
        },
        {
          "output_type": "execute_result",
          "data": {
            "text/plain": [
              "24"
            ]
          },
          "metadata": {
            "tags": []
          },
          "execution_count": 15
        },
        {
          "output_type": "execute_result",
          "data": {
            "text/plain": [
              "24"
            ]
          },
          "metadata": {
            "tags": []
          },
          "execution_count": 15
        },
        {
          "output_type": "execute_result",
          "data": {
            "text/plain": [
              "24"
            ]
          },
          "metadata": {
            "tags": []
          },
          "execution_count": 15
        },
        {
          "output_type": "execute_result",
          "data": {
            "text/plain": [
              "24"
            ]
          },
          "metadata": {
            "tags": []
          },
          "execution_count": 15
        },
        {
          "output_type": "execute_result",
          "data": {
            "text/plain": [
              "24"
            ]
          },
          "metadata": {
            "tags": []
          },
          "execution_count": 15
        },
        {
          "output_type": "execute_result",
          "data": {
            "text/plain": [
              "24"
            ]
          },
          "metadata": {
            "tags": []
          },
          "execution_count": 15
        },
        {
          "output_type": "execute_result",
          "data": {
            "text/plain": [
              "24"
            ]
          },
          "metadata": {
            "tags": []
          },
          "execution_count": 15
        },
        {
          "output_type": "execute_result",
          "data": {
            "text/plain": [
              "24"
            ]
          },
          "metadata": {
            "tags": []
          },
          "execution_count": 15
        },
        {
          "output_type": "execute_result",
          "data": {
            "text/plain": [
              "24"
            ]
          },
          "metadata": {
            "tags": []
          },
          "execution_count": 15
        },
        {
          "output_type": "execute_result",
          "data": {
            "text/plain": [
              "24"
            ]
          },
          "metadata": {
            "tags": []
          },
          "execution_count": 15
        },
        {
          "output_type": "execute_result",
          "data": {
            "text/plain": [
              "24"
            ]
          },
          "metadata": {
            "tags": []
          },
          "execution_count": 15
        },
        {
          "output_type": "execute_result",
          "data": {
            "text/plain": [
              "24"
            ]
          },
          "metadata": {
            "tags": []
          },
          "execution_count": 15
        },
        {
          "output_type": "execute_result",
          "data": {
            "text/plain": [
              "24"
            ]
          },
          "metadata": {
            "tags": []
          },
          "execution_count": 15
        },
        {
          "output_type": "execute_result",
          "data": {
            "text/plain": [
              "24"
            ]
          },
          "metadata": {
            "tags": []
          },
          "execution_count": 15
        },
        {
          "output_type": "execute_result",
          "data": {
            "text/plain": [
              "24"
            ]
          },
          "metadata": {
            "tags": []
          },
          "execution_count": 15
        },
        {
          "output_type": "execute_result",
          "data": {
            "text/plain": [
              "24"
            ]
          },
          "metadata": {
            "tags": []
          },
          "execution_count": 15
        },
        {
          "output_type": "execute_result",
          "data": {
            "text/plain": [
              "24"
            ]
          },
          "metadata": {
            "tags": []
          },
          "execution_count": 15
        },
        {
          "output_type": "execute_result",
          "data": {
            "text/plain": [
              "24"
            ]
          },
          "metadata": {
            "tags": []
          },
          "execution_count": 15
        },
        {
          "output_type": "execute_result",
          "data": {
            "text/plain": [
              "24"
            ]
          },
          "metadata": {
            "tags": []
          },
          "execution_count": 15
        },
        {
          "output_type": "execute_result",
          "data": {
            "text/plain": [
              "24"
            ]
          },
          "metadata": {
            "tags": []
          },
          "execution_count": 15
        },
        {
          "output_type": "execute_result",
          "data": {
            "text/plain": [
              "24"
            ]
          },
          "metadata": {
            "tags": []
          },
          "execution_count": 15
        },
        {
          "output_type": "execute_result",
          "data": {
            "text/plain": [
              "24"
            ]
          },
          "metadata": {
            "tags": []
          },
          "execution_count": 15
        },
        {
          "output_type": "execute_result",
          "data": {
            "text/plain": [
              "24"
            ]
          },
          "metadata": {
            "tags": []
          },
          "execution_count": 15
        },
        {
          "output_type": "execute_result",
          "data": {
            "text/plain": [
              "24"
            ]
          },
          "metadata": {
            "tags": []
          },
          "execution_count": 15
        },
        {
          "output_type": "execute_result",
          "data": {
            "text/plain": [
              "24"
            ]
          },
          "metadata": {
            "tags": []
          },
          "execution_count": 15
        },
        {
          "output_type": "execute_result",
          "data": {
            "text/plain": [
              "24"
            ]
          },
          "metadata": {
            "tags": []
          },
          "execution_count": 15
        },
        {
          "output_type": "execute_result",
          "data": {
            "text/plain": [
              "24"
            ]
          },
          "metadata": {
            "tags": []
          },
          "execution_count": 15
        },
        {
          "output_type": "execute_result",
          "data": {
            "text/plain": [
              "24"
            ]
          },
          "metadata": {
            "tags": []
          },
          "execution_count": 15
        },
        {
          "output_type": "execute_result",
          "data": {
            "text/plain": [
              "24"
            ]
          },
          "metadata": {
            "tags": []
          },
          "execution_count": 15
        },
        {
          "output_type": "execute_result",
          "data": {
            "text/plain": [
              "24"
            ]
          },
          "metadata": {
            "tags": []
          },
          "execution_count": 15
        },
        {
          "output_type": "execute_result",
          "data": {
            "text/plain": [
              "24"
            ]
          },
          "metadata": {
            "tags": []
          },
          "execution_count": 15
        },
        {
          "output_type": "execute_result",
          "data": {
            "text/plain": [
              "24"
            ]
          },
          "metadata": {
            "tags": []
          },
          "execution_count": 15
        },
        {
          "output_type": "execute_result",
          "data": {
            "text/plain": [
              "24"
            ]
          },
          "metadata": {
            "tags": []
          },
          "execution_count": 15
        },
        {
          "output_type": "execute_result",
          "data": {
            "text/plain": [
              "24"
            ]
          },
          "metadata": {
            "tags": []
          },
          "execution_count": 15
        },
        {
          "output_type": "execute_result",
          "data": {
            "text/plain": [
              "24"
            ]
          },
          "metadata": {
            "tags": []
          },
          "execution_count": 15
        },
        {
          "output_type": "execute_result",
          "data": {
            "text/plain": [
              "24"
            ]
          },
          "metadata": {
            "tags": []
          },
          "execution_count": 15
        },
        {
          "output_type": "execute_result",
          "data": {
            "text/plain": [
              "24"
            ]
          },
          "metadata": {
            "tags": []
          },
          "execution_count": 15
        },
        {
          "output_type": "execute_result",
          "data": {
            "text/plain": [
              "24"
            ]
          },
          "metadata": {
            "tags": []
          },
          "execution_count": 15
        },
        {
          "output_type": "execute_result",
          "data": {
            "text/plain": [
              "24"
            ]
          },
          "metadata": {
            "tags": []
          },
          "execution_count": 15
        },
        {
          "output_type": "execute_result",
          "data": {
            "text/plain": [
              "24"
            ]
          },
          "metadata": {
            "tags": []
          },
          "execution_count": 15
        },
        {
          "output_type": "execute_result",
          "data": {
            "text/plain": [
              "24"
            ]
          },
          "metadata": {
            "tags": []
          },
          "execution_count": 15
        },
        {
          "output_type": "execute_result",
          "data": {
            "text/plain": [
              "24"
            ]
          },
          "metadata": {
            "tags": []
          },
          "execution_count": 15
        },
        {
          "output_type": "execute_result",
          "data": {
            "text/plain": [
              "24"
            ]
          },
          "metadata": {
            "tags": []
          },
          "execution_count": 15
        }
      ]
    },
    {
      "cell_type": "code",
      "metadata": {
        "id": "JgpWhorBogdB"
      },
      "source": [
        "from tensorflow.keras.applications.vgg16 import preprocess_input \n",
        "\n",
        "img_h = 768\n",
        "img_w = 512\n",
        "\n",
        "dataset = CustomDataset(dataset_dir[0], 'training', \n",
        "                        img_generator=img_data_gen, mask_generator=mask_data_gen,\n",
        "                        preprocessing_function=None, out_shape=[img_w,img_h])\n",
        "\n",
        "dataset1 = CustomDataset(dataset_dir[1], 'training', \n",
        "                        img_generator=img_data_gen, mask_generator=mask_data_gen,\n",
        "                        preprocessing_function=None, out_shape=[img_w,img_h])\n",
        "\n",
        "dataset_valid = CustomDataset(dataset_dir[0], 'validation', \n",
        "                              preprocessing_function=None,out_shape=[img_w,img_h])\n",
        "\n",
        "dataset_valid1 = CustomDataset(dataset_dir[1], 'validation', \n",
        "                              preprocessing_function=None,out_shape=[img_w,img_h])\n"
      ],
      "execution_count": 16,
      "outputs": []
    },
    {
      "cell_type": "code",
      "metadata": {
        "id": "HOBabUbmnFJE"
      },
      "source": [
        "\n",
        "train_dataset0 = tf.data.Dataset.from_generator(lambda: dataset,\n",
        "                                               output_types=(tf.float32, tf.float32),\n",
        "                                               output_shapes=([img_h, img_w, 3], [img_h, img_w, 1]))\n",
        "\n",
        "train_dataset1 = tf.data.Dataset.from_generator(lambda: dataset1,\n",
        "                                               output_types=(tf.float32, tf.float32),\n",
        "                                               output_shapes=([img_h, img_w, 3], [img_h, img_w, 1]))\n",
        "\n",
        "train_dataset = train_dataset0.concatenate(train_dataset1)\n",
        "\n",
        "train_dataset = train_dataset.batch(16)\n",
        "\n",
        "train_dataset = train_dataset.repeat()\n",
        "\n",
        "valid_dataset0 = tf.data.Dataset.from_generator(lambda: dataset_valid,\n",
        "                                               output_types=(tf.float32, tf.float32),\n",
        "                                               output_shapes=([img_h, img_w, 3], [img_h, img_w, 1]))\n",
        "valid_dataset1 = tf.data.Dataset.from_generator(lambda: dataset_valid1,\n",
        "                                               output_types=(tf.float32, tf.float32),\n",
        "                                               output_shapes=([img_h, img_w, 3], [img_h, img_w, 1]))\n",
        "\n",
        "valid_dataset = valid_dataset0.concatenate(valid_dataset1)\n",
        "\n",
        "valid_dataset = valid_dataset.batch(16)\n",
        "\n",
        "valid_dataset = valid_dataset.repeat()"
      ],
      "execution_count": 17,
      "outputs": []
    },
    {
      "cell_type": "code",
      "metadata": {
        "id": "9eunbPwWqPnB"
      },
      "source": [
        "# Let's test data generator\n",
        "# -------------------------\n",
        "\n",
        "import time\n",
        "from matplotlib import cm\n",
        "import matplotlib.pyplot as plt\n",
        "\n",
        "%matplotlib inline\n",
        "\n",
        "\n",
        "# Assign a color to each class\n",
        "evenly_spaced_interval = np.linspace(0, 1, 3)\n",
        "colors = [cm.rainbow(x) for x in evenly_spaced_interval]\n",
        "\n",
        "iterator = iter(valid_dataset)"
      ],
      "execution_count": 18,
      "outputs": []
    },
    {
      "cell_type": "code",
      "metadata": {
        "id": "553NrJXrFCZo",
        "outputId": "d7a0fa61-4578-461f-fa20-64e72848b6c5",
        "colab": {
          "base_uri": "https://localhost:8080/",
          "height": 320
        }
      },
      "source": [
        "fig, ax = plt.subplots(1, 2)\n",
        "\n",
        "augmented_img, target = next(iterator)\n",
        "augmented_img = augmented_img[0]   # First element\n",
        "augmented_img = augmented_img  # denormalize\n",
        "\n",
        "target = np.array(target[0, ..., 0])   # First element (squeezing channel dimension)\n",
        "\n",
        "print(np.unique(target))\n",
        "\n",
        "target_img = np.zeros([target.shape[0], target.shape[1], 3])\n",
        "\n",
        "target_img[np.where(target == 0)] = [0, 0, 0]\n",
        "for i in range(1, 3):\n",
        "  target_img[np.where(target == i)] = np.array(colors[i-1])[:3] * 255\n",
        "\n",
        "ax[0].imshow(np.uint8(augmented_img))\n",
        "ax[1].imshow(np.uint8(target_img))\n",
        "\n",
        "plt.show()\n",
        "\n",
        "print(np.max(np.uint8(target)))"
      ],
      "execution_count": 19,
      "outputs": [
        {
          "output_type": "stream",
          "text": [
            "[0. 1. 2.]\n"
          ],
          "name": "stdout"
        },
        {
          "output_type": "execute_result",
          "data": {
            "text/plain": [
              "<matplotlib.image.AxesImage at 0x7f3021194d68>"
            ]
          },
          "metadata": {
            "tags": []
          },
          "execution_count": 19
        },
        {
          "output_type": "execute_result",
          "data": {
            "text/plain": [
              "<matplotlib.image.AxesImage at 0x7f3020092b00>"
            ]
          },
          "metadata": {
            "tags": []
          },
          "execution_count": 19
        },
        {
          "output_type": "display_data",
          "data": {
            "image/png": "[encoded data removed]",
            "text/plain": [
              "<Figure size 432x288 with 2 Axes>"
            ]
          },
          "metadata": {
            "tags": [],
            "needs_background": "light"
          }
        },
        {
          "output_type": "stream",
          "text": [
            "2\n"
          ],
          "name": "stdout"
        }
      ]
    },
    {
      "cell_type": "markdown",
      "metadata": {
        "id": "JA1TGlOMnFJM"
      },
      "source": [
        "vgg = tf.keras.applications.VGG16(weights='imagenet', include_top=False, input_shape=(img_h, img_w, 3))\n",
        "vgg.summary()\n",
        "for layer in vgg.layers:\n",
        "  layer.trainable = False"
      ]
    },
    {
      "cell_type": "code",
      "metadata": {
        "id": "BvsdiF0TFTbt"
      },
      "source": [
        "def create_model(depth, start_f, num_classes):\n",
        "\n",
        "    model = tf.keras.Sequential()\n",
        "    \n",
        "    # Encoder\n",
        "    # -------\n",
        "    model.add(vgg)\n",
        "    \n",
        "    start_f = 256\n",
        "        \n",
        "    # Decoder\n",
        "    # -------\n",
        "    for i in range(depth):\n",
        "        model.add(tf.keras.layers.UpSampling2D(2, interpolation='bilinear'))\n",
        "        model.add(tf.keras.layers.Conv2D(filters=start_f,\n",
        "                                         kernel_size=(3, 3),\n",
        "                                         strides=(1, 1),\n",
        "                                         padding='same'))\n",
        "        model.add(tf.keras.layers.ReLU())\n",
        "\n",
        "        start_f = start_f // 2\n",
        "\n",
        "    # Prediction Layer\n",
        "    # ----------------\n",
        "    model.add(tf.keras.layers.Conv2D(filters=num_classes,\n",
        "                                     kernel_size=(1, 1),\n",
        "                                     strides=(1, 1),\n",
        "                                     padding='same',\n",
        "                                     activation='softmax'))\n",
        "    \n",
        "    return model"
      ],
      "execution_count": 20,
      "outputs": []
    },
    {
      "cell_type": "code",
      "metadata": {
        "id": "k97OK6CRnFJS",
        "scrolled": true,
        "outputId": "8e6a4f5d-2d7b-47f9-8e12-bfb649a4957c",
        "colab": {
          "base_uri": "https://localhost:8080/"
        }
      },
      "source": [
        "#model = create_model(depth=5, \n",
        "#                     start_f=8, \n",
        "#                     num_classes=3)\n",
        "\n",
        "# Visualize created model as a table\n",
        "\n",
        "# Randomly initializes the weights, drawing them from a normal distribution\n",
        "initializer = tf.keras.initializers.GlorotNormal()\n",
        "\n",
        "def get_crop_shape(target, refer):\n",
        "        # width, the 3rd dimension\n",
        "        cw = (target.get_shape()[2] - refer.get_shape()[2])\n",
        "        assert (cw >= 0)\n",
        "        if cw % 2 != 0:\n",
        "            cw1, cw2 = int(cw/2), int(cw/2) + 1\n",
        "        else:\n",
        "            cw1, cw2 = int(cw/2), int(cw/2)\n",
        "        # height, the 2nd dimension\n",
        "        ch = (target.get_shape()[1] - refer.get_shape()[1])\n",
        "        assert (ch >= 0)\n",
        "        if ch % 2 != 0:\n",
        "            ch1, ch2 = int(ch/2), int(ch/2) + 1\n",
        "        else:\n",
        "            ch1, ch2 = int(ch/2), int(ch/2)\n",
        "\n",
        "        return (ch1, ch2), (cw1, cw2)\n",
        "\n",
        "\n",
        "concat_axis = 3\n",
        "inputs = tf.keras.layers.Input(shape = [img_h,img_w,3])\n",
        "\n",
        "conv1 = tf.keras.layers.Conv2D(32, (3, 3), activation='relu', padding='same', name='conv1_1', kernel_initializer=initializer)(inputs)\n",
        "conv1 = tf.keras.layers.Conv2D(32, (3, 3), activation='relu', padding='same', kernel_initializer=initializer)(conv1)\n",
        "pool1 = tf.keras.layers.MaxPooling2D(pool_size=(2, 2))(conv1)\n",
        "conv2 = tf.keras.layers.Conv2D(64, (3, 3), activation='relu', padding='same', kernel_initializer=initializer)(pool1)\n",
        "conv2 = tf.keras.layers.Conv2D(64, (3, 3), activation='relu', padding='same', kernel_initializer=initializer)(conv2)\n",
        "pool2 = tf.keras.layers.MaxPooling2D(pool_size=(2, 2))(conv2)\n",
        "\n",
        "conv3 = tf.keras.layers.Conv2D(128, (3, 3), activation='relu', padding='same', kernel_initializer=initializer)(pool2)\n",
        "conv3 = tf.keras.layers.Conv2D(128, (3, 3), activation='relu', padding='same', kernel_initializer=initializer)(conv3)\n",
        "pool3 = tf.keras.layers.MaxPooling2D(pool_size=(2, 2))(conv3)\n",
        "\n",
        "conv4 = tf.keras.layers.Conv2D(256, (3, 3), activation='relu', padding='same', kernel_initializer=initializer)(pool3)\n",
        "conv4 = tf.keras.layers.Conv2D(256, (3, 3), activation='relu', padding='same', kernel_initializer=initializer)(conv4)\n",
        "pool4 = tf.keras.layers.MaxPooling2D(pool_size=(2, 2))(conv4)\n",
        "\n",
        "conv5 = tf.keras.layers.Conv2D(512, (3, 3), activation='relu', padding='same', kernel_initializer=initializer)(pool4)\n",
        "conv5 = tf.keras.layers.Conv2D(512, (3, 3), activation='relu', padding='same', kernel_initializer=initializer)(conv5)\n",
        "\n",
        "up_conv5 = tf.keras.layers.UpSampling2D(size=(2, 2))(conv5)\n",
        "ch, cw = get_crop_shape(conv4, up_conv5)\n",
        "crop_conv4 = tf.keras.layers.Cropping2D(cropping=(ch,cw))(conv4)\n",
        "up6 = tf.keras.layers.concatenate([up_conv5, crop_conv4], axis=concat_axis)\n",
        "conv6 = tf.keras.layers.Conv2D(256, (3, 3), activation='relu', padding='same', kernel_initializer=initializer)(up6)\n",
        "conv6 = tf.keras.layers.Conv2D(256, (3, 3), activation='relu', padding='same', kernel_initializer=initializer)(conv6)\n",
        "\n",
        "up_conv6 = tf.keras.layers.UpSampling2D(size=(2, 2))(conv6)\n",
        "ch, cw = get_crop_shape(conv3, up_conv6)\n",
        "crop_conv3 = tf.keras.layers.Cropping2D(cropping=(ch,cw))(conv3)\n",
        "up7 = tf.keras.layers.concatenate([up_conv6, crop_conv3], axis=concat_axis) \n",
        "conv7 = tf.keras.layers.Conv2D(128, (3, 3), activation='relu', padding='same', kernel_initializer=initializer)(up7)\n",
        "conv7 = tf.keras.layers.Conv2D(128, (3, 3), activation='relu', padding='same', kernel_initializer=initializer)(conv7)\n",
        "\n",
        "up_conv7 = tf.keras.layers.UpSampling2D(size=(2, 2))(conv7)\n",
        "ch, cw = get_crop_shape(conv2, up_conv7)\n",
        "crop_conv2 = tf.keras.layers.Cropping2D(cropping=(ch,cw))(conv2)\n",
        "up8 = tf.keras.layers.concatenate([up_conv7, crop_conv2], axis=concat_axis)\n",
        "conv8 = tf.keras.layers.Conv2D(64, (3, 3), activation='relu', padding='same', kernel_initializer=initializer)(up8)\n",
        "conv8 = tf.keras.layers.Conv2D(64, (3, 3), activation='relu', padding='same', kernel_initializer=initializer)(conv8)\n",
        "\n",
        "up_conv8 = tf.keras.layers.UpSampling2D(size=(2, 2))(conv8)\n",
        "ch, cw = get_crop_shape(conv1, up_conv8)\n",
        "crop_conv1 = tf.keras.layers.Cropping2D(cropping=(ch,cw))(conv1)\n",
        "up9 = tf.keras.layers.concatenate([up_conv8, crop_conv1], axis=concat_axis)\n",
        "conv9 = tf.keras.layers.Conv2D(32, (3, 3), activation='relu', padding='same', kernel_initializer=initializer)(up9)\n",
        "conv9 = tf.keras.layers.Conv2D(32, (3, 3), activation='relu', padding='same', kernel_initializer=initializer)(conv9)\n",
        "\n",
        "ch, cw = get_crop_shape(inputs, conv9)\n",
        "conv9 = tf.keras.layers.ZeroPadding2D(padding=((ch[0], ch[1]), (cw[0], cw[1])))(conv9)\n",
        "conv10 = tf.keras.layers.Conv2D(3, (1, 1), kernel_initializer=initializer)(conv9)\n",
        "\n",
        "model = tf.keras.models.Model(inputs=inputs, outputs=conv10)\n",
        "\n",
        "# Visualize created model as a table\n",
        "model.summary()\n",
        "\n",
        "# Visualize initialized weights\n",
        "# model.weights\n",
        "\n",
        "\n",
        "\n",
        "model.summary()\n",
        "\n",
        "# Visualize initialized weights\n",
        "# model.weights"
      ],
      "execution_count": 21,
      "outputs": [
        {
          "output_type": "stream",
          "text": [
            "Model: \"functional_1\"\n",
            "__________________________________________________________________________________________________\n",
            "Layer (type)                    Output Shape         Param #     Connected to                     \n",
            "==================================================================================================\n",
            "input_1 (InputLayer)            [(None, 768, 512, 3) 0                                            \n",
            "__________________________________________________________________________________________________\n",
            "conv1_1 (Conv2D)                (None, 768, 512, 32) 896         input_1[0][0]                    \n",
            "__________________________________________________________________________________________________\n",
            "conv2d (Conv2D)                 (None, 768, 512, 32) 9248        conv1_1[0][0]                    \n",
            "__________________________________________________________________________________________________\n",
            "max_pooling2d (MaxPooling2D)    (None, 384, 256, 32) 0           conv2d[0][0]                     \n",
            "__________________________________________________________________________________________________\n",
            "conv2d_1 (Conv2D)               (None, 384, 256, 64) 18496       max_pooling2d[0][0]              \n",
            "__________________________________________________________________________________________________\n",
            "conv2d_2 (Conv2D)               (None, 384, 256, 64) 36928       conv2d_1[0][0]                   \n",
            "__________________________________________________________________________________________________\n",
            "max_pooling2d_1 (MaxPooling2D)  (None, 192, 128, 64) 0           conv2d_2[0][0]                   \n",
            "__________________________________________________________________________________________________\n",
            "conv2d_3 (Conv2D)               (None, 192, 128, 128 73856       max_pooling2d_1[0][0]            \n",
            "__________________________________________________________________________________________________\n",
            "conv2d_4 (Conv2D)               (None, 192, 128, 128 147584      conv2d_3[0][0]                   \n",
            "__________________________________________________________________________________________________\n",
            "max_pooling2d_2 (MaxPooling2D)  (None, 96, 64, 128)  0           conv2d_4[0][0]                   \n",
            "__________________________________________________________________________________________________\n",
            "conv2d_5 (Conv2D)               (None, 96, 64, 256)  295168      max_pooling2d_2[0][0]            \n",
            "__________________________________________________________________________________________________\n",
            "conv2d_6 (Conv2D)               (None, 96, 64, 256)  590080      conv2d_5[0][0]                   \n",
            "__________________________________________________________________________________________________\n",
            "max_pooling2d_3 (MaxPooling2D)  (None, 48, 32, 256)  0           conv2d_6[0][0]                   \n",
            "__________________________________________________________________________________________________\n",
            "conv2d_7 (Conv2D)               (None, 48, 32, 512)  1180160     max_pooling2d_3[0][0]            \n",
            "__________________________________________________________________________________________________\n",
            "conv2d_8 (Conv2D)               (None, 48, 32, 512)  2359808     conv2d_7[0][0]                   \n",
            "__________________________________________________________________________________________________\n",
            "up_sampling2d (UpSampling2D)    (None, 96, 64, 512)  0           conv2d_8[0][0]                   \n",
            "__________________________________________________________________________________________________\n",
            "cropping2d (Cropping2D)         (None, 96, 64, 256)  0           conv2d_6[0][0]                   \n",
            "__________________________________________________________________________________________________\n",
            "concatenate (Concatenate)       (None, 96, 64, 768)  0           up_sampling2d[0][0]              \n",
            "                                                                 cropping2d[0][0]                 \n",
            "__________________________________________________________________________________________________\n",
            "conv2d_9 (Conv2D)               (None, 96, 64, 256)  1769728     concatenate[0][0]                \n",
            "__________________________________________________________________________________________________\n",
            "conv2d_10 (Conv2D)              (None, 96, 64, 256)  590080      conv2d_9[0][0]                   \n",
            "__________________________________________________________________________________________________\n",
            "up_sampling2d_1 (UpSampling2D)  (None, 192, 128, 256 0           conv2d_10[0][0]                  \n",
            "__________________________________________________________________________________________________\n",
            "cropping2d_1 (Cropping2D)       (None, 192, 128, 128 0           conv2d_4[0][0]                   \n",
            "__________________________________________________________________________________________________\n",
            "concatenate_1 (Concatenate)     (None, 192, 128, 384 0           up_sampling2d_1[0][0]            \n",
            "                                                                 cropping2d_1[0][0]               \n",
            "__________________________________________________________________________________________________\n",
            "conv2d_11 (Conv2D)              (None, 192, 128, 128 442496      concatenate_1[0][0]              \n",
            "__________________________________________________________________________________________________\n",
            "conv2d_12 (Conv2D)              (None, 192, 128, 128 147584      conv2d_11[0][0]                  \n",
            "__________________________________________________________________________________________________\n",
            "up_sampling2d_2 (UpSampling2D)  (None, 384, 256, 128 0           conv2d_12[0][0]                  \n",
            "__________________________________________________________________________________________________\n",
            "cropping2d_2 (Cropping2D)       (None, 384, 256, 64) 0           conv2d_2[0][0]                   \n",
            "__________________________________________________________________________________________________\n",
            "concatenate_2 (Concatenate)     (None, 384, 256, 192 0           up_sampling2d_2[0][0]            \n",
            "                                                                 cropping2d_2[0][0]               \n",
            "__________________________________________________________________________________________________\n",
            "conv2d_13 (Conv2D)              (None, 384, 256, 64) 110656      concatenate_2[0][0]              \n",
            "__________________________________________________________________________________________________\n",
            "conv2d_14 (Conv2D)              (None, 384, 256, 64) 36928       conv2d_13[0][0]                  \n",
            "__________________________________________________________________________________________________\n",
            "up_sampling2d_3 (UpSampling2D)  (None, 768, 512, 64) 0           conv2d_14[0][0]                  \n",
            "__________________________________________________________________________________________________\n",
            "cropping2d_3 (Cropping2D)       (None, 768, 512, 32) 0           conv2d[0][0]                     \n",
            "__________________________________________________________________________________________________\n",
            "concatenate_3 (Concatenate)     (None, 768, 512, 96) 0           up_sampling2d_3[0][0]            \n",
            "                                                                 cropping2d_3[0][0]               \n",
            "__________________________________________________________________________________________________\n",
            "conv2d_15 (Conv2D)              (None, 768, 512, 32) 27680       concatenate_3[0][0]              \n",
            "__________________________________________________________________________________________________\n",
            "conv2d_16 (Conv2D)              (None, 768, 512, 32) 9248        conv2d_15[0][0]                  \n",
            "__________________________________________________________________________________________________\n",
            "zero_padding2d (ZeroPadding2D)  (None, 768, 512, 32) 0           conv2d_16[0][0]                  \n",
            "__________________________________________________________________________________________________\n",
            "conv2d_17 (Conv2D)              (None, 768, 512, 3)  99          zero_padding2d[0][0]             \n",
            "==================================================================================================\n",
            "Total params: 7,846,723\n",
            "Trainable params: 7,846,723\n",
            "Non-trainable params: 0\n",
            "__________________________________________________________________________________________________\n",
            "Model: \"functional_1\"\n",
            "__________________________________________________________________________________________________\n",
            "Layer (type)                    Output Shape         Param #     Connected to                     \n",
            "==================================================================================================\n",
            "input_1 (InputLayer)            [(None, 768, 512, 3) 0                                            \n",
            "__________________________________________________________________________________________________\n",
            "conv1_1 (Conv2D)                (None, 768, 512, 32) 896         input_1[0][0]                    \n",
            "__________________________________________________________________________________________________\n",
            "conv2d (Conv2D)                 (None, 768, 512, 32) 9248        conv1_1[0][0]                    \n",
            "__________________________________________________________________________________________________\n",
            "max_pooling2d (MaxPooling2D)    (None, 384, 256, 32) 0           conv2d[0][0]                     \n",
            "__________________________________________________________________________________________________\n",
            "conv2d_1 (Conv2D)               (None, 384, 256, 64) 18496       max_pooling2d[0][0]              \n",
            "__________________________________________________________________________________________________\n",
            "conv2d_2 (Conv2D)               (None, 384, 256, 64) 36928       conv2d_1[0][0]                   \n",
            "__________________________________________________________________________________________________\n",
            "max_pooling2d_1 (MaxPooling2D)  (None, 192, 128, 64) 0           conv2d_2[0][0]                   \n",
            "__________________________________________________________________________________________________\n",
            "conv2d_3 (Conv2D)               (None, 192, 128, 128 73856       max_pooling2d_1[0][0]            \n",
            "__________________________________________________________________________________________________\n",
            "conv2d_4 (Conv2D)               (None, 192, 128, 128 147584      conv2d_3[0][0]                   \n",
            "__________________________________________________________________________________________________\n",
            "max_pooling2d_2 (MaxPooling2D)  (None, 96, 64, 128)  0           conv2d_4[0][0]                   \n",
            "__________________________________________________________________________________________________\n",
            "conv2d_5 (Conv2D)               (None, 96, 64, 256)  295168      max_pooling2d_2[0][0]            \n",
            "__________________________________________________________________________________________________\n",
            "conv2d_6 (Conv2D)               (None, 96, 64, 256)  590080      conv2d_5[0][0]                   \n",
            "__________________________________________________________________________________________________\n",
            "max_pooling2d_3 (MaxPooling2D)  (None, 48, 32, 256)  0           conv2d_6[0][0]                   \n",
            "__________________________________________________________________________________________________\n",
            "conv2d_7 (Conv2D)               (None, 48, 32, 512)  1180160     max_pooling2d_3[0][0]            \n",
            "__________________________________________________________________________________________________\n",
            "conv2d_8 (Conv2D)               (None, 48, 32, 512)  2359808     conv2d_7[0][0]                   \n",
            "__________________________________________________________________________________________________\n",
            "up_sampling2d (UpSampling2D)    (None, 96, 64, 512)  0           conv2d_8[0][0]                   \n",
            "__________________________________________________________________________________________________\n",
            "cropping2d (Cropping2D)         (None, 96, 64, 256)  0           conv2d_6[0][0]                   \n",
            "__________________________________________________________________________________________________\n",
            "concatenate (Concatenate)       (None, 96, 64, 768)  0           up_sampling2d[0][0]              \n",
            "                                                                 cropping2d[0][0]                 \n",
            "__________________________________________________________________________________________________\n",
            "conv2d_9 (Conv2D)               (None, 96, 64, 256)  1769728     concatenate[0][0]                \n",
            "__________________________________________________________________________________________________\n",
            "conv2d_10 (Conv2D)              (None, 96, 64, 256)  590080      conv2d_9[0][0]                   \n",
            "__________________________________________________________________________________________________\n",
            "up_sampling2d_1 (UpSampling2D)  (None, 192, 128, 256 0           conv2d_10[0][0]                  \n",
            "__________________________________________________________________________________________________\n",
            "cropping2d_1 (Cropping2D)       (None, 192, 128, 128 0           conv2d_4[0][0]                   \n",
            "__________________________________________________________________________________________________\n",
            "concatenate_1 (Concatenate)     (None, 192, 128, 384 0           up_sampling2d_1[0][0]            \n",
            "                                                                 cropping2d_1[0][0]               \n",
            "__________________________________________________________________________________________________\n",
            "conv2d_11 (Conv2D)              (None, 192, 128, 128 442496      concatenate_1[0][0]              \n",
            "__________________________________________________________________________________________________\n",
            "conv2d_12 (Conv2D)              (None, 192, 128, 128 147584      conv2d_11[0][0]                  \n",
            "__________________________________________________________________________________________________\n",
            "up_sampling2d_2 (UpSampling2D)  (None, 384, 256, 128 0           conv2d_12[0][0]                  \n",
            "__________________________________________________________________________________________________\n",
            "cropping2d_2 (Cropping2D)       (None, 384, 256, 64) 0           conv2d_2[0][0]                   \n",
            "__________________________________________________________________________________________________\n",
            "concatenate_2 (Concatenate)     (None, 384, 256, 192 0           up_sampling2d_2[0][0]            \n",
            "                                                                 cropping2d_2[0][0]               \n",
            "__________________________________________________________________________________________________\n",
            "conv2d_13 (Conv2D)              (None, 384, 256, 64) 110656      concatenate_2[0][0]              \n",
            "__________________________________________________________________________________________________\n",
            "conv2d_14 (Conv2D)              (None, 384, 256, 64) 36928       conv2d_13[0][0]                  \n",
            "__________________________________________________________________________________________________\n",
            "up_sampling2d_3 (UpSampling2D)  (None, 768, 512, 64) 0           conv2d_14[0][0]                  \n",
            "__________________________________________________________________________________________________\n",
            "cropping2d_3 (Cropping2D)       (None, 768, 512, 32) 0           conv2d[0][0]                     \n",
            "__________________________________________________________________________________________________\n",
            "concatenate_3 (Concatenate)     (None, 768, 512, 96) 0           up_sampling2d_3[0][0]            \n",
            "                                                                 cropping2d_3[0][0]               \n",
            "__________________________________________________________________________________________________\n",
            "conv2d_15 (Conv2D)              (None, 768, 512, 32) 27680       concatenate_3[0][0]              \n",
            "__________________________________________________________________________________________________\n",
            "conv2d_16 (Conv2D)              (None, 768, 512, 32) 9248        conv2d_15[0][0]                  \n",
            "__________________________________________________________________________________________________\n",
            "zero_padding2d (ZeroPadding2D)  (None, 768, 512, 32) 0           conv2d_16[0][0]                  \n",
            "__________________________________________________________________________________________________\n",
            "conv2d_17 (Conv2D)              (None, 768, 512, 3)  99          zero_padding2d[0][0]             \n",
            "==================================================================================================\n",
            "Total params: 7,846,723\n",
            "Trainable params: 7,846,723\n",
            "Non-trainable params: 0\n",
            "__________________________________________________________________________________________________\n"
          ],
          "name": "stdout"
        }
      ]
    },
    {
      "cell_type": "code",
      "metadata": {
        "id": "NGzh16WTnFJW"
      },
      "source": [
        "# Optimization params\n",
        "# -------------------\n",
        "\n",
        "# Loss\n",
        "# Sparse Categorical Crossentropy to use integers (mask) instead of one-hot encoded labels\n",
        "loss = tf.keras.losses.SparseCategoricalCrossentropy() \n",
        "# learning rate\n",
        "lr = 1e-5\n",
        "optimizer = tf.keras.optimizers.Adam(learning_rate=lr)\n",
        "# -------------------\n",
        "\n",
        "# Here we define the intersection over union for each class in the batch.\n",
        "# Then we compute the final iou as the mean over classes\n",
        "def meanIoU(y_true, y_pred):\n",
        "    # get predicted class from softmax\n",
        "    y_pred = tf.expand_dims(tf.argmax(y_pred, -1), -1)\n",
        "\n",
        "    per_class_iou = []\n",
        "\n",
        "    for i in range(1,3): # exclude the background class 0\n",
        "      # Get prediction and target related to only a single class (i)\n",
        "      class_pred = tf.cast(tf.where(y_pred == i, 1, 0), tf.float32)\n",
        "      class_true = tf.cast(tf.where(y_true == i, 1, 0), tf.float32)\n",
        "      intersection = tf.reduce_sum(class_true * class_pred)\n",
        "      union = tf.reduce_sum(class_true) + tf.reduce_sum(class_pred) - intersection\n",
        "    \n",
        "      iou = (intersection + 1e-7) / (union + 1e-7)\n",
        "      per_class_iou.append(iou)\n",
        "\n",
        "    return tf.reduce_mean(per_class_iou)\n",
        "\n",
        "# Validation metrics\n",
        "# ------------------\n",
        "metrics = ['accuracy', meanIoU]\n",
        "# ------------------\n",
        "\n",
        "# Compile Model\n",
        "model.compile(optimizer=optimizer, loss=loss, metrics=metrics)"
      ],
      "execution_count": 22,
      "outputs": []
    },
    {
      "cell_type": "code",
      "metadata": {
        "id": "9MlmYGVMnFJW",
        "outputId": "ddd5a8c8-7c3e-4c4f-9875-b8a2c6411482",
        "colab": {
          "base_uri": "https://localhost:8080/"
        }
      },
      "source": [
        "import os\n",
        "from datetime import datetime\n",
        "\n",
        "cwd1 = os.getcwd()\n",
        "\n",
        "exps_dir = os.path.join(cwd1, 'multiclass_exps')\n",
        "if not os.path.exists(exps_dir):\n",
        "    os.makedirs(exps_dir)\n",
        "\n",
        "now = datetime.now().strftime('%b%d_%H-%M-%S')\n",
        "\n",
        "model_name = 'CNN'\n",
        "\n",
        "exp_dir = os.path.join(exps_dir, model_name + '_' + str(now))\n",
        "if not os.path.exists(exp_dir):\n",
        "    os.makedirs(exp_dir)\n",
        "    \n",
        "callbacks = []\n",
        "\n",
        "# Model checkpoint\n",
        "# ----------------\n",
        "ckpt_dir = os.path.join(exp_dir, 'ckpts')\n",
        "if not os.path.exists(ckpt_dir):\n",
        "    os.makedirs(ckpt_dir)\n",
        "\n",
        "ckpt_callback = tf.keras.callbacks.ModelCheckpoint(filepath=os.path.join(ckpt_dir, 'cp.ckpt'), \n",
        "                                                   save_weights_only=True)  # False to save the model directly\n",
        "callbacks.append(ckpt_callback)\n",
        "\n",
        "# Visualize Learning on Tensorboard\n",
        "# ---------------------------------\n",
        "tb_dir = os.path.join(exp_dir, 'tb_logs')\n",
        "if not os.path.exists(tb_dir):\n",
        "    os.makedirs(tb_dir)\n",
        "    \n",
        "# By default shows losses and metrics for both training and validation\n",
        "tb_callback = tf.keras.callbacks.TensorBoard(log_dir=tb_dir,\n",
        "                                             profile_batch=0,\n",
        "                                             histogram_freq=0)  # if 1 shows weights histograms\n",
        "callbacks.append(tb_callback)\n",
        "\n",
        "# Early Stopping\n",
        "# --------------\n",
        "early_stop = True\n",
        "if early_stop:\n",
        "    es_callback = tf.keras.callbacks.EarlyStopping(monitor='val_meanIoU', patience=10, mode=\"max\")\n",
        "    callbacks.append(es_callback)\n",
        "\n",
        "\n",
        "model.fit(x=train_dataset,\n",
        "          epochs=100,  #### set repeat in training dataset\n",
        "          steps_per_epoch=len(dataset)+len(dataset1),\n",
        "          validation_data=valid_dataset,\n",
        "          validation_steps=len(dataset_valid)+len(dataset_valid1), \n",
        "          callbacks=callbacks)\n",
        "\n",
        "# How to visualize Tensorboard\n",
        "\n",
        "# 1. tensorboard --logdir EXPERIMENTS_DIR --port PORT     <- from terminal\n",
        "# 2. localhost:PORT   <- in your browser"
      ],
      "execution_count": null,
      "outputs": [
        {
          "output_type": "stream",
          "text": [
            "Epoch 1/100\n"
          ],
          "name": "stdout"
        }
      ]
    },
    {
      "cell_type": "markdown",
      "metadata": {
        "id": "PA6D_TBknFJZ"
      },
      "source": [
        "import time\n",
        "import matplotlib.pyplot as plt\n",
        "\n",
        "from PIL import Image\n",
        "\n",
        "%matplotlib inline\n",
        "\n",
        "iterator = iter(valid_dataset)"
      ]
    },
    {
      "cell_type": "code",
      "metadata": {
        "id": "3XiwaKZhnFJa",
        "scrolled": true
      },
      "source": [
        "fig, ax = plt.subplots(1, 3, figsize=(8, 8))\n",
        "fig.show()\n",
        "image, target = next(iterator)\n",
        "\n",
        "image = image[0]\n",
        "target = target[0, ..., 0]\n",
        "\n",
        "out_sigmoid = model.predict(x=tf.expand_dims(image, 0))\n",
        "\n",
        "# Get predicted class as the index corresponding to the maximum value in the vector probability\n",
        "# predicted_class = tf.cast(out_sigmoid > score_th, tf.int32)\n",
        "# predicted_class = predicted_class[0, ..., 0]\n",
        "predicted_class = tf.argmax(out_sigmoid, -1)\n",
        "\n",
        "out_sigmoid.shape\n",
        "\n",
        "predicted_class = predicted_class[0, ...]\n",
        "\n",
        "# Assign colors (just for visualization)\n",
        "target_img = np.zeros([target.shape[0], target.shape[1], 3])\n",
        "prediction_img = np.zeros([target.shape[0], target.shape[1], 3])\n",
        "\n",
        "target_img[np.where(target == 0)] = [0, 0, 0]\n",
        "for i in range(1, 3):\n",
        "  target_img[np.where(target == i)] = np.array(colors[i-1])[:3] * 255\n",
        "\n",
        "prediction_img[np.where(predicted_class == 0)] = [0, 0, 0]\n",
        "for i in range(1, 3):\n",
        "  prediction_img[np.where(predicted_class == i)] = np.array(colors[i-1])[:3] * 255\n",
        "\n",
        "ax[0].imshow(np.uint8(image))\n",
        "ax[1].imshow(np.uint8(target_img))\n",
        "ax[2].imshow(np.uint8(prediction_img))\n",
        "\n",
        "fig.canvas.draw()\n",
        "time.sleep(1)"
      ],
      "execution_count": null,
      "outputs": []
    },
    {
      "cell_type": "code",
      "metadata": {
        "id": "EZ1Yl-InnFJd"
      },
      "source": [
        "submission_dict = {} \n",
        "\n",
        "for i in range(0,8):\n",
        "    image_filenames = next(os.walk(os.path.join(test_dir[i],\"Images/\")))[2]\n",
        "\n",
        "    if i in range(4,6):\n",
        "        suffix = \".png\"\n",
        "    else:\n",
        "        suffix = \".jpg\"\n",
        "    \n",
        "    print (suffix)\n",
        "    for image_name in image_filenames:\n",
        "    \n",
        "    \n",
        "        image_name=image_name[:-4]\n",
        "        img = Image.open(os.path.join(test_dir[i], 'Images', image_name + suffix))\n",
        "        #mask = rme.read_rgb_mask(os.path.join(self.dataset_dir, 'Masks', curr_filename + '.png'))\n",
        "\n",
        "        # Resize image and mask\n",
        "        img = img.resize([img_w,img_h])\n",
        "        \n",
        "\n",
        "        \n",
        "        # mask = mask.resize(self.out_shape)\n",
        "    \n",
        "        img_arr = preprocess_input(np.array(img))\n",
        "    \n",
        "        # load mask <- HERE you should have your segmentation model instead\n",
        "        mask_arr = np.argmax(model.predict(x=tf.expand_dims(img_arr, 0)),axis=1)\n",
        "\n",
        "    \n",
        "        submission_dict[image_name] = {}\n",
        "        submission_dict[image_name]['shape'] = [img_h,img_w]\n",
        "        submission_dict[image_name]['team'] = teams[math.floor(i/2)]\n",
        "        submission_dict[image_name]['crop'] = crops[i%2]\n",
        "        submission_dict[image_name]['segmentation'] = {}\n",
        "\n",
        "        # RLE encoding\n",
        "        # crop\n",
        "        rle_encoded_crop = ps.rle_encode(mask_arr == 1)\n",
        "        # weed\n",
        "        rle_encoded_weed = ps.rle_encode(mask_arr == 2)\n",
        "\n",
        "        submission_dict[image_name]['segmentation']['crop'] = rle_encoded_crop\n",
        "        submission_dict[image_name]['segmentation']['weed'] = rle_encoded_weed\n",
        "\n",
        "        # Please notice that in this example we have a single prediction.\n",
        "        # For the competition you have to provide segmentation for each of\n",
        "        # the test images.\n",
        "\n",
        "        # Finally, save the results into the submission.json file\n",
        "with open(os.path.join(dataset_dir[0],\"submission.json\"), 'w') as f:\n",
        "    json.dump(submission_dict, f)\n",
        "    \n",
        "    "
      ],
      "execution_count": null,
      "outputs": []
    },
    {
      "cell_type": "markdown",
      "metadata": {
        "id": "WuVw1q_NnFJh"
      },
      "source": [
        "image_filenames = next(os.walk(os.path.join(test_dir,\"Images/\")))[2]\n",
        "\n",
        "for image_name in image_filenames:\n",
        "    image_name=image_name[:-4]\n",
        "    img = Image.open(os.path.join(test_dir, 'Images', image_name + '.jpg'))\n",
        "    #mask = rme.read_rgb_mask(os.path.join(self.dataset_dir, 'Masks', curr_filename + '.png'))\n",
        "\n",
        "    # Resize image and mask\n",
        "    img = img.resize([img_w,img_h])\n",
        "        \n",
        "\n",
        "        \n",
        "    # mask = mask.resize(self.out_shape)\n",
        "    \n",
        "    img_arr = np.array(img)\n",
        "    model.predict(x=tf.expand_dims(img_arr, 0))"
      ]
    },
    {
      "cell_type": "code",
      "metadata": {
        "id": "-JUMMkS9eyQW"
      },
      "source": [
        "fig, ax = plt.subplots(1, 2, figsize=(8, 8))\n",
        "fig.show()\n",
        "\n",
        "image = Image.open(os.path.join(cwd,'Test_Dev/Bipbip/Mais/Images', 'Bipbip_mais_im_02211.jpg'))\n",
        "\n",
        "image = preprocess_input(np.array(image))\n",
        "\n",
        "\n",
        "out_sigmoid = model.predict(x=tf.expand_dims(image, 0))\n",
        "\n",
        "# Get predicted class as the index corresponding to the maximum value in the vector probability\n",
        "# predicted_class = tf.cast(out_sigmoid > score_th, tf.int32)\n",
        "# predicted_class = predicted_class[0, ..., 0]\n",
        "predicted_class = tf.argmax(out_sigmoid, -1)\n",
        "\n",
        "out_sigmoid.shape\n",
        "\n",
        "predicted_class = predicted_class[0, ...]\n",
        "\n",
        "# Assign colors (just for visualization)\n",
        "prediction_img = np.zeros([target.shape[0], target.shape[1], 3])\n",
        "\n",
        "\n",
        "\n",
        "prediction_img[np.where(predicted_class == 0)] = [0, 0, 0]\n",
        "for i in range(1, 3):\n",
        "  prediction_img[np.where(predicted_class == i)] = np.array(colors[i-1])[:3] * 255\n",
        "\n",
        "ax[0].imshow(np.uint8(image))\n",
        "ax[1].imshow(np.uint8(prediction_img))\n",
        "\n",
        "fig.canvas.draw()\n",
        "time.sleep(1)"
      ],
      "execution_count": null,
      "outputs": []
    },
    {
      "cell_type": "code",
      "metadata": {
        "id": "zo1JbCO5nFJh",
        "scrolled": false
      },
      "source": [
        ""
      ],
      "execution_count": null,
      "outputs": []
    },
    {
      "cell_type": "code",
      "metadata": {
        "id": "M75UjH7xxS7J"
      },
      "source": [
        ""
      ],
      "execution_count": null,
      "outputs": []
    }
  ]
}