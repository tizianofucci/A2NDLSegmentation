{
  "nbformat": 4,
  "nbformat_minor": 0,
  "metadata": {
    "colab": {
      "name": "Localization_GAP.ipynb",
      "provenance": [],
      "collapsed_sections": []
    },
    "kernelspec": {
      "name": "python3",
      "display_name": "Python 3"
    },
    "accelerator": "GPU"
  },
  "cells": [
    {
      "cell_type": "code",
      "metadata": {
        "id": "jGKfaEUD3r9F"
      },
      "source": [
        "from IPython.core.interactiveshell import InteractiveShell\n",
        "InteractiveShell.ast_node_interactivity = \"all\""
      ],
      "execution_count": null,
      "outputs": []
    },
    {
      "cell_type": "code",
      "metadata": {
        "id": "9PfKgPyr4kLW"
      },
      "source": [
        "import os\n",
        "import tensorflow as tf\n",
        "import numpy as np\n",
        "\n",
        "SEED = 1234\n",
        "tf.random.set_seed(SEED)  \n",
        "\n",
        "# Get current working directory\n",
        "cwd = os.getcwd()"
      ],
      "execution_count": null,
      "outputs": []
    },
    {
      "cell_type": "code",
      "metadata": {
        "id": "SN4bxyxG5Dl8"
      },
      "source": [
        "# Run this cell only if you are using Colab with Drive\n",
        "from google.colab import drive\n",
        "drive.mount('/content/drive')"
      ],
      "execution_count": null,
      "outputs": []
    },
    {
      "cell_type": "code",
      "metadata": {
        "id": "CHpUA9gL4zLw"
      },
      "source": [
        "from tensorflow.keras.preprocessing.image import ImageDataGenerator\n",
        "\n",
        "apply_data_augmentation = False\n",
        "\n",
        "# Create training ImageDataGenerator object\n",
        "if apply_data_augmentation:\n",
        "    train_data_gen = ImageDataGenerator(rotation_range=10,\n",
        "                                        width_shift_range=10,\n",
        "                                        height_shift_range=10,\n",
        "                                        zoom_range=0.3,\n",
        "                                        horizontal_flip=True,\n",
        "                                        vertical_flip=True,\n",
        "                                        fill_mode='constant',\n",
        "                                        cval=0,\n",
        "                                        rescale=1./255)\n",
        "else:\n",
        "    train_data_gen = ImageDataGenerator(rescale=1./255)\n",
        "\n",
        "# Create validation and test ImageDataGenerator objects\n",
        "valid_data_gen = ImageDataGenerator(rescale=1./255)\n",
        "test_data_gen = ImageDataGenerator(rescale=1./255)"
      ],
      "execution_count": null,
      "outputs": []
    },
    {
      "cell_type": "code",
      "metadata": {
        "id": "T0vnvorSGCvD"
      },
      "source": [
        "# Run this cell only if you are using Colab with Drive\n",
        "!unzip '/content/drive/My Drive/MaskDataset.zip'"
      ],
      "execution_count": null,
      "outputs": []
    },
    {
      "cell_type": "code",
      "metadata": {
        "id": "pLUQOK7yYD2y"
      },
      "source": [
        "!ls /content"
      ],
      "execution_count": null,
      "outputs": []
    },
    {
      "cell_type": "code",
      "metadata": {
        "id": "O_hJ4t7U7oYn"
      },
      "source": [
        "# Create generators to read images from dataset directory\n",
        "# -------------------------------------------------------\n",
        "dataset_dir = os.path.join(cwd, 'MaskDataset')\n",
        "\n",
        "# Batch size\n",
        "bs = 32\n",
        "\n",
        "# img shape\n",
        "img_h = 256\n",
        "img_w = 256\n",
        "\n",
        "num_classes=2\n",
        "\n",
        "decide_class_indices = True\n",
        "if decide_class_indices:\n",
        "    classes = ['without_mask',       # 0\n",
        "               'with_mask',          # 1\n",
        "               ]\n",
        "else:\n",
        "    classes=None\n",
        "\n",
        "# Training\n",
        "training_dir = os.path.join(dataset_dir, 'train')\n",
        "train_gen = train_data_gen.flow_from_directory(training_dir,\n",
        "                                               batch_size=bs,\n",
        "                                               target_size=[img_h, img_w],\n",
        "                                               classes=classes,\n",
        "                                               class_mode='categorical',\n",
        "                                               shuffle=True,\n",
        "                                               seed=SEED)  # targets are directly converted into one-hot vectors\n",
        "\n",
        "# Validation\n",
        "validation_dir = os.path.join(dataset_dir, 'val')\n",
        "valid_gen = valid_data_gen.flow_from_directory(validation_dir,\n",
        "                                               batch_size=bs, \n",
        "                                               target_size=[img_h, img_w],\n",
        "                                               classes=classes,\n",
        "                                               class_mode='categorical',\n",
        "                                               shuffle=False,\n",
        "                                               seed=SEED)\n",
        "\n",
        "# Test\n",
        "test_dir = os.path.join(dataset_dir, 'test')\n",
        "test_gen = test_data_gen.flow_from_directory(test_dir,\n",
        "                                             batch_size=bs, \n",
        "                                             target_size=[img_h, img_w],\n",
        "                                             classes=classes,\n",
        "                                             class_mode='categorical',\n",
        "                                             shuffle=False,\n",
        "                                             seed=SEED)"
      ],
      "execution_count": null,
      "outputs": []
    },
    {
      "cell_type": "code",
      "metadata": {
        "id": "BDB0RcLAYThu"
      },
      "source": [
        "# Check how keras assigned the labels\n",
        "train_gen.class_indices"
      ],
      "execution_count": null,
      "outputs": []
    },
    {
      "cell_type": "code",
      "metadata": {
        "id": "0IbSHeEx9C4i"
      },
      "source": [
        "# Create Dataset objects\n",
        "# ----------------------\n",
        "\n",
        "# Training\n",
        "train_dataset = tf.data.Dataset.from_generator(lambda: train_gen,\n",
        "                                               output_types=(tf.float32, tf.float32),\n",
        "                                               output_shapes=([None, img_h, img_w, 3], [None, num_classes]))\n",
        "\n",
        "train_dataset = train_dataset.repeat()\n",
        "\n",
        "# Validation\n",
        "# ----------\n",
        "valid_dataset = tf.data.Dataset.from_generator(lambda: valid_gen, \n",
        "                                               output_types=(tf.float32, tf.float32),\n",
        "                                               output_shapes=([None, img_h, img_w, 3], [None, num_classes]))\n",
        "\n",
        "# Repeat\n",
        "valid_dataset = valid_dataset.repeat()\n",
        "\n",
        "# Test\n",
        "# ----\n",
        "test_dataset = tf.data.Dataset.from_generator(lambda: test_gen,\n",
        "                                              output_types=(tf.float32, tf.float32),\n",
        "                                              output_shapes=([None, img_h, img_w, 3], [None, num_classes]))\n",
        "\n",
        "# Repeat\n",
        "test_dataset = valid_dataset.repeat()"
      ],
      "execution_count": null,
      "outputs": []
    },
    {
      "cell_type": "code",
      "metadata": {
        "id": "wMBM48Iq-QH9"
      },
      "source": [
        "# Architecture: Features extraction -> Classifier\n",
        "\n",
        "start_f = 8\n",
        "depth = 5\n",
        "\n",
        "model = tf.keras.Sequential()\n",
        "\n",
        "encoder = tf.keras.Sequential()\n",
        "\n",
        "# Features extraction\n",
        "for i in range(depth):\n",
        "\n",
        "    if i == 0:\n",
        "        input_shape = [img_h, img_w, 3]\n",
        "    else:\n",
        "        input_shape=[None]\n",
        "\n",
        "    # Conv block: Conv2D -> Activation -> Pooling\n",
        "    encoder.add(tf.keras.layers.Conv2D(filters=start_f, \n",
        "                                     kernel_size=(3, 3),\n",
        "                                     strides=(1, 1),\n",
        "                                     padding='same',\n",
        "                                     input_shape=input_shape))\n",
        "    encoder.add(tf.keras.layers.ReLU())\n",
        "\n",
        "    if i < depth -1:\n",
        "      encoder.add(tf.keras.layers.MaxPool2D(pool_size=(2, 2)))\n",
        "\n",
        "    start_f *= 2\n",
        "\n",
        "model.add(encoder)\n",
        "\n",
        "# GAP\n",
        "model.add(tf.keras.layers.GlobalAveragePooling2D())\n",
        "    \n",
        "# Classifier\n",
        "model.add(tf.keras.layers.Dense(units=num_classes, activation='softmax'))"
      ],
      "execution_count": null,
      "outputs": []
    },
    {
      "cell_type": "code",
      "metadata": {
        "id": "861CrLRO-Q6i"
      },
      "source": [
        "# Visualize created model as a table\n",
        "model.summary()\n",
        "\n",
        "# Visualize initialized weights\n",
        "# model.weights"
      ],
      "execution_count": null,
      "outputs": []
    },
    {
      "cell_type": "code",
      "metadata": {
        "id": "cDAizpBEFW2I"
      },
      "source": [
        "model.layers[-1].weights[0].shape"
      ],
      "execution_count": null,
      "outputs": []
    },
    {
      "cell_type": "code",
      "metadata": {
        "id": "k6fX2MeR-U48"
      },
      "source": [
        "# Optimization params\n",
        "# -------------------\n",
        "\n",
        "# Loss\n",
        "loss = tf.keras.losses.CategoricalCrossentropy()\n",
        "\n",
        "# learning rate\n",
        "lr = 1e-3\n",
        "optimizer = tf.keras.optimizers.Adam(learning_rate=lr)\n",
        "# -------------------\n",
        "\n",
        "# Validation metrics\n",
        "# ------------------\n",
        "\n",
        "metrics = ['accuracy']\n",
        "# ------------------\n",
        "\n",
        "# Compile Model\n",
        "model.compile(optimizer=optimizer, loss=loss, metrics=metrics)"
      ],
      "execution_count": null,
      "outputs": []
    },
    {
      "cell_type": "code",
      "metadata": {
        "id": "gpQajwkDHQfP"
      },
      "source": [
        "%load_ext tensorboard\n",
        "%tensorboard --logdir /content/drive/My\\ Drive/Keras4/segmentation_experiments_GAP/#"
      ],
      "execution_count": null,
      "outputs": []
    },
    {
      "cell_type": "code",
      "metadata": {
        "id": "lzpRKbkJ-bea"
      },
      "source": [
        "import os\n",
        "from datetime import datetime\n",
        "\n",
        "\n",
        "cwd = os.getcwd()\n",
        "\n",
        "exps_dir = os.path.join('/content/drive/My Drive/Keras4/', 'segmentation_experiments_GAP')\n",
        "if not os.path.exists(exps_dir):\n",
        "    os.makedirs(exps_dir)\n",
        "\n",
        "now = datetime.now().strftime('%b%d_%H-%M-%S')\n",
        "\n",
        "model_name = 'CNN_GAP'\n",
        "\n",
        "exp_dir = os.path.join(exps_dir, model_name + '_' + str(now))\n",
        "if not os.path.exists(exp_dir):\n",
        "    os.makedirs(exp_dir)\n",
        "    \n",
        "callbacks = []\n",
        "\n",
        "# Model checkpoint\n",
        "# ----------------\n",
        "ckpt_dir = os.path.join(exp_dir, 'ckpts')\n",
        "if not os.path.exists(ckpt_dir):\n",
        "    os.makedirs(ckpt_dir)\n",
        "\n",
        "ckpt_callback = tf.keras.callbacks.ModelCheckpoint(filepath=os.path.join(ckpt_dir, 'cp_{epoch:02d}.ckpt'), \n",
        "                                                   save_weights_only=True)  # False to save the model directly\n",
        "callbacks.append(ckpt_callback)\n",
        "\n",
        "# Visualize Learning on Tensorboard\n",
        "# ---------------------------------\n",
        "tb_dir = os.path.join(exp_dir, 'tb_logs')\n",
        "if not os.path.exists(tb_dir):\n",
        "    os.makedirs(tb_dir)\n",
        "    \n",
        "# By default shows losses and metrics for both training and validation\n",
        "tb_callback = tf.keras.callbacks.TensorBoard(log_dir=tb_dir,\n",
        "                                             profile_batch=0,\n",
        "                                             histogram_freq=1)  # if 1 shows weights histograms\n",
        "callbacks.append(tb_callback)\n",
        "\n",
        "# Early Stopping\n",
        "# --------------\n",
        "early_stop = True\n",
        "if early_stop:\n",
        "    es_callback = tf.keras.callbacks.EarlyStopping(monitor='val_loss', patience=10)\n",
        "    callbacks.append(es_callback)"
      ],
      "execution_count": null,
      "outputs": []
    },
    {
      "cell_type": "code",
      "metadata": {
        "id": "5b_KC7_6y0vl"
      },
      "source": [
        "model.fit(x=train_dataset,\n",
        "          epochs=100,  #### set repeat in training dataset\n",
        "          steps_per_epoch=len(train_gen),\n",
        "          validation_data=valid_dataset,\n",
        "          validation_steps=len(valid_gen), \n",
        "          callbacks=callbacks)\n",
        "\n",
        "# How to visualize Tensorboard\n",
        "\n",
        "# 1. tensorboard --logdir EXPERIMENTS_DIR --port PORT     <- from terminal\n",
        "# 2. localhost:PORT   <- in your browser"
      ],
      "execution_count": null,
      "outputs": []
    },
    {
      "cell_type": "code",
      "metadata": {
        "id": "qQ743X0Geu5v"
      },
      "source": [
        "# Let's visualize the activations of our network\n",
        "from PIL import Image\n",
        "\n",
        "test_iter = iter(test_dataset)\n",
        "\n",
        "# Get a test image with a mask\n",
        "test_img, target = next(test_iter)\n",
        "test_img = test_img[0]\n",
        "\n",
        "# Visualize the image\n",
        "Image.fromarray(np.uint8(np.array(test_img)*255.))"
      ],
      "execution_count": null,
      "outputs": []
    },
    {
      "cell_type": "code",
      "metadata": {
        "id": "btO0GEFY2KVJ"
      },
      "source": [
        "np.argmax(target, 1)"
      ],
      "execution_count": null,
      "outputs": []
    },
    {
      "cell_type": "code",
      "metadata": {
        "id": "YI5zuPTQGoIV"
      },
      "source": [
        "out_model = tf.keras.Model(inputs=model.input, outputs=[model.output, model.layers[0].get_output_at(-1)])"
      ],
      "execution_count": null,
      "outputs": []
    },
    {
      "cell_type": "code",
      "metadata": {
        "id": "_TUWkExWnW0T"
      },
      "source": [
        "resize_feature = tf.keras.layers.experimental.preprocessing.Resizing(\n",
        "    256, 256, interpolation=\"bilinear\")"
      ],
      "execution_count": null,
      "outputs": []
    },
    {
      "cell_type": "code",
      "metadata": {
        "id": "vpxMAvVKk-dc"
      },
      "source": [
        "softmax_out, last_enc_feature = out_model(tf.expand_dims(test_img, 0))\n",
        " \n",
        "pred = tf.argmax(softmax_out, 1)\n",
        " \n",
        "resized_feature = resize_feature(last_enc_feature)"
      ],
      "execution_count": null,
      "outputs": []
    },
    {
      "cell_type": "code",
      "metadata": {
        "id": "-spL4e6aoS4D"
      },
      "source": [
        "# Get the weights in input to the output neuron corresponding to the 'with_mask' class\n",
        "mask_weights = model.layers[-1].weights[0][:, 1]\n",
        "\n",
        "resized_feature = tf.reshape(resized_feature, shape=[256*256, resized_feature.shape[-1]])\n",
        "cam = tf.linalg.matmul(resized_feature, tf.expand_dims(mask_weights, -1))\n",
        "cam = tf.reshape(cam, shape=[256, 256])"
      ],
      "execution_count": null,
      "outputs": []
    },
    {
      "cell_type": "code",
      "metadata": {
        "id": "oNxKk3fCraej"
      },
      "source": [
        "import matplotlib.pyplot as plt\n",
        "\n",
        "fig, ax = plt.subplots(nrows=1, ncols=2, sharey=True, sharex=True, figsize=plt.figaspect(0.5))\n",
        "ax[0].imshow(test_img)\n",
        "ax[1].imshow(test_img, alpha=0.5)\n",
        "ax[1].imshow(cam, cmap='jet', alpha=0.5)\n",
        "plt.show()"
      ],
      "execution_count": null,
      "outputs": []
    },
    {
      "cell_type": "code",
      "metadata": {
        "id": "sgdijsveXOKp"
      },
      "source": [
        "# we can obtain a course segmentation of the mask by thresholding \n",
        "# For example we can use thr = 0.5 * max(cam) \n",
        "\n",
        "fig, ax = plt.subplots(nrows=1, ncols=2, sharey=True, sharex=True, figsize=plt.figaspect(0.5))\n",
        "ax[0].imshow(test_img)\n",
        "ax[1].imshow(test_img, alpha=0.5)\n",
        "ax[1].imshow(0.5 * np.max(cam), cmap='gray', alpha=0.5)\n",
        "plt.show()"
      ],
      "execution_count": null,
      "outputs": []
    }
  ]
}