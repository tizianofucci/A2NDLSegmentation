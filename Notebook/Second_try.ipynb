{
 "cells": [
  {
   "cell_type": "code",
   "execution_count": 1,
   "metadata": {},
   "outputs": [],
   "source": [
    "from IPython.core.interactiveshell import InteractiveShell\n",
    "InteractiveShell.ast_node_interactivity = \"all\""
   ]
  },
  {
   "cell_type": "code",
   "execution_count": 2,
   "metadata": {},
   "outputs": [],
   "source": [
    "import os\n",
    "import tensorflow as tf\n",
    "import numpy as np\n",
    "import starting_kit.read_mask_example as rme\n",
    "import starting_kit.prepare_submission as ps\n",
    "import shutil\n",
    "import random\n",
    "import json\n",
    "import math\n",
    "\n",
    "SEED = 1234\n",
    "tf.random.set_seed(SEED)  \n",
    "\n",
    "# Get current working directory\n",
    "cwd = os.path.join(os.path.dirname(os.getcwd()),\"Development_Dataset\")\n",
    "\n",
    "test_dir = {}\n",
    "dataset_dir = {}\n",
    "\n",
    "dataset_dir[0] = os.path.join(cwd,'Training/Bipbip/Mais')\n",
    "dataset_dir[1] = os.path.join(cwd,'Training/Bipbip/Haricot')\n",
    "\n",
    "test_dir[0] = os.path.join(cwd,'Test_Dev/Bipbip/Mais')\n",
    "test_dir[1] = os.path.join(cwd,'Test_Dev/Bipbip/Haricot')\n",
    "test_dir[2] = os.path.join(cwd,'Test_Dev/Pead/Mais')\n",
    "test_dir[3] = os.path.join(cwd,'Test_Dev/Pead/Haricot')\n",
    "test_dir[4] = os.path.join(cwd,'Test_Dev/Roseau/Mais')\n",
    "test_dir[5] = os.path.join(cwd,'Test_Dev/Roseau/Haricot')\n",
    "test_dir[6] = os.path.join(cwd,'Test_Dev/Weedelec/Mais')\n",
    "test_dir[7] = os.path.join(cwd,'Test_Dev/Weedelec/Haricot')\n",
    "\n",
    "crops = {}\n",
    "\n",
    "crops[0] = \"Mais\"\n",
    "crops[1] = \"Haricot\"\n",
    "\n",
    "teams = {}\n",
    "\n",
    "teams[0] = \"Bipbip\"\n",
    "teams[1] = \"Pead\"\n",
    "teams[2] = \"Roseau\"\n",
    "teams[3] = \"Weedelec\"\n"
   ]
  },
  {
   "cell_type": "code",
   "execution_count": 3,
   "metadata": {},
   "outputs": [],
   "source": [
    "# ImageDataGenerator\n",
    "# ------------------\n",
    "\n",
    "from tensorflow.keras.preprocessing.image import ImageDataGenerator\n",
    "\n",
    "apply_data_augmentation = True\n",
    "\n",
    "# Create training ImageDataGenerator object\n",
    "# We need two different generators for images and corresponding masks\n",
    "if apply_data_augmentation:\n",
    "    img_data_gen = ImageDataGenerator(rotation_range=10,\n",
    "                                      width_shift_range=10,\n",
    "                                      height_shift_range=10,\n",
    "                                      zoom_range=0.3,\n",
    "                                      horizontal_flip=True,\n",
    "                                      vertical_flip=True,\n",
    "                                      fill_mode='reflect')\n",
    "    mask_data_gen = ImageDataGenerator(rotation_range=10,\n",
    "                                       width_shift_range=10,\n",
    "                                       height_shift_range=10,\n",
    "                                       zoom_range=0.3,\n",
    "                                       horizontal_flip=True,\n",
    "                                       vertical_flip=True,\n",
    "                                       fill_mode='reflect')"
   ]
  },
  {
   "cell_type": "code",
   "execution_count": 4,
   "metadata": {},
   "outputs": [],
   "source": [
    "from PIL import Image\n",
    "\n",
    "class CustomDataset(tf.keras.utils.Sequence):\n",
    "\n",
    "    \"\"\"\n",
    "        CustomDataset inheriting from tf.keras.utils.Sequence.\n",
    "\n",
    "        3 main methods:\n",
    "          - __init__: save dataset params like directory, filenames..\n",
    "          - __len__: return the total number of samples in the dataset\n",
    "          - __getitem__: return a sample from the dataset\n",
    "\n",
    "        Note: \n",
    "          - the custom dataset return a single sample from the dataset. Then, we use \n",
    "            a tf.data.Dataset object to group samples into batches.\n",
    "          - in this case we have a different structure of the dataset in memory. \n",
    "            We have all the images in the same folder and the training and validation splits\n",
    "            are defined in text files.\n",
    "\n",
    "      \"\"\"\n",
    "\n",
    "    def __init__(self, dataset_dir, which_subset, img_generator=None, mask_generator=None, \n",
    "                preprocessing_function=None, out_shape=[256, 256]):\n",
    "        if which_subset == 'training':\n",
    "            subset_file = os.path.join(dataset_dir, 'Splits', 'train.txt')\n",
    "        elif which_subset == 'validation':\n",
    "            subset_file = os.path.join(dataset_dir, 'Splits', 'val.txt')\n",
    "    \n",
    "        with open(subset_file, 'r') as f:\n",
    "            lines = f.readlines()\n",
    "    \n",
    "        subset_filenames = []\n",
    "        for line in lines:\n",
    "            subset_filenames.append(line.strip()) \n",
    "\n",
    "        self.which_subset = which_subset\n",
    "        self.dataset_dir = dataset_dir\n",
    "        self.subset_filenames = subset_filenames\n",
    "        self.img_generator = img_generator\n",
    "        self.mask_generator = mask_generator\n",
    "        self.preprocessing_function = preprocessing_function\n",
    "        self.out_shape = out_shape\n",
    "\n",
    "    def __len__(self):\n",
    "        return len(self.subset_filenames)\n",
    "\n",
    "    def __getitem__(self, index):\n",
    "        # Read Image\n",
    "        curr_filename = self.subset_filenames[index]\n",
    "        img = Image.open(os.path.join(self.dataset_dir, 'Images', curr_filename + '.jpg'))\n",
    "        #mask = rme.read_rgb_mask(os.path.join(self.dataset_dir, 'Masks', curr_filename + '.png'))\n",
    "\n",
    "        # Resize image and mask\n",
    "        img = img.resize(self.out_shape)\n",
    "        \n",
    "\n",
    "        \n",
    "       # mask = mask.resize(self.out_shape)\n",
    "    \n",
    "        img_arr = np.array(img)\n",
    "        mask_arr = rme.read_rgb_mask(os.path.join(self.dataset_dir, 'Masks', curr_filename + '.png'),self.out_shape)#WHAT NEEDS TO BE CHANGED\n",
    "        #print(mask_arr.shape)\n",
    "        \n",
    "        # in this dataset 255 mask label is assigned to an additional class, which corresponds \n",
    "        # to the contours of the objects. We remove it for simplicity.\n",
    "        mask_arr[mask_arr == 255] = 0  \n",
    "\n",
    "        mask_arr = np.expand_dims(mask_arr, -1)\n",
    "\n",
    "        if self.which_subset == 'training':\n",
    "            if self.img_generator is not None and self.mask_generator is not None:\n",
    "                # Perform data augmentation\n",
    "                # We can get a random transformation from the ImageDataGenerator using get_random_transform\n",
    "                # and we can apply it to the image using apply_transform\n",
    "                img_t = self.img_generator.get_random_transform(img_arr.shape, seed=SEED)\n",
    "                mask_t = self.mask_generator.get_random_transform(mask_arr.shape, seed=SEED)\n",
    "                img_arr = self.img_generator.apply_transform(img_arr, img_t)\n",
    "                # ImageDataGenerator use bilinear interpolation for augmenting the images.\n",
    "                # Thus, when applied to the masks it will output 'interpolated classes', which\n",
    "                # is an unwanted behaviour. As a trick, we can transform each class mask \n",
    "                # separately and then we can cast to integer values (as in the binary segmentation notebook).\n",
    "                # Finally, we merge the augmented binary masks to obtain the final segmentation mask.\n",
    "                out_mask = np.zeros_like(mask_arr)\n",
    "                for c in np.unique(mask_arr):\n",
    "                    if c > 0:\n",
    "                        curr_class_arr = np.float32(mask_arr == c)\n",
    "                        curr_class_arr = self.mask_generator.apply_transform(curr_class_arr, mask_t)\n",
    "                        # from [0, 1] to {0, 1}\n",
    "                        curr_class_arr = np.uint8(curr_class_arr)\n",
    "                        # recover original class\n",
    "                        curr_class_arr = curr_class_arr * c \n",
    "                        out_mask += curr_class_arr\n",
    "        else:\n",
    "            out_mask = mask_arr\n",
    "    \n",
    "        if self.preprocessing_function is not None:\n",
    "            img_arr = self.preprocessing_function(img_arr)\n",
    "        \n",
    "        return img_arr, np.float32(out_mask)"
   ]
  },
  {
   "cell_type": "code",
   "execution_count": 5,
   "metadata": {},
   "outputs": [
    {
     "data": {
      "text/plain": [
       "21"
      ]
     },
     "execution_count": 5,
     "metadata": {},
     "output_type": "execute_result"
    },
    {
     "data": {
      "text/plain": [
       "21"
      ]
     },
     "execution_count": 5,
     "metadata": {},
     "output_type": "execute_result"
    },
    {
     "data": {
      "text/plain": [
       "21"
      ]
     },
     "execution_count": 5,
     "metadata": {},
     "output_type": "execute_result"
    },
    {
     "data": {
      "text/plain": [
       "21"
      ]
     },
     "execution_count": 5,
     "metadata": {},
     "output_type": "execute_result"
    },
    {
     "data": {
      "text/plain": [
       "21"
      ]
     },
     "execution_count": 5,
     "metadata": {},
     "output_type": "execute_result"
    },
    {
     "data": {
      "text/plain": [
       "21"
      ]
     },
     "execution_count": 5,
     "metadata": {},
     "output_type": "execute_result"
    },
    {
     "data": {
      "text/plain": [
       "21"
      ]
     },
     "execution_count": 5,
     "metadata": {},
     "output_type": "execute_result"
    },
    {
     "data": {
      "text/plain": [
       "21"
      ]
     },
     "execution_count": 5,
     "metadata": {},
     "output_type": "execute_result"
    },
    {
     "data": {
      "text/plain": [
       "21"
      ]
     },
     "execution_count": 5,
     "metadata": {},
     "output_type": "execute_result"
    },
    {
     "data": {
      "text/plain": [
       "21"
      ]
     },
     "execution_count": 5,
     "metadata": {},
     "output_type": "execute_result"
    },
    {
     "data": {
      "text/plain": [
       "21"
      ]
     },
     "execution_count": 5,
     "metadata": {},
     "output_type": "execute_result"
    },
    {
     "data": {
      "text/plain": [
       "21"
      ]
     },
     "execution_count": 5,
     "metadata": {},
     "output_type": "execute_result"
    },
    {
     "data": {
      "text/plain": [
       "21"
      ]
     },
     "execution_count": 5,
     "metadata": {},
     "output_type": "execute_result"
    },
    {
     "data": {
      "text/plain": [
       "21"
      ]
     },
     "execution_count": 5,
     "metadata": {},
     "output_type": "execute_result"
    },
    {
     "data": {
      "text/plain": [
       "21"
      ]
     },
     "execution_count": 5,
     "metadata": {},
     "output_type": "execute_result"
    },
    {
     "data": {
      "text/plain": [
       "21"
      ]
     },
     "execution_count": 5,
     "metadata": {},
     "output_type": "execute_result"
    },
    {
     "data": {
      "text/plain": [
       "21"
      ]
     },
     "execution_count": 5,
     "metadata": {},
     "output_type": "execute_result"
    },
    {
     "data": {
      "text/plain": [
       "21"
      ]
     },
     "execution_count": 5,
     "metadata": {},
     "output_type": "execute_result"
    },
    {
     "data": {
      "text/plain": [
       "21"
      ]
     },
     "execution_count": 5,
     "metadata": {},
     "output_type": "execute_result"
    },
    {
     "data": {
      "text/plain": [
       "21"
      ]
     },
     "execution_count": 5,
     "metadata": {},
     "output_type": "execute_result"
    },
    {
     "data": {
      "text/plain": [
       "21"
      ]
     },
     "execution_count": 5,
     "metadata": {},
     "output_type": "execute_result"
    },
    {
     "data": {
      "text/plain": [
       "21"
      ]
     },
     "execution_count": 5,
     "metadata": {},
     "output_type": "execute_result"
    },
    {
     "data": {
      "text/plain": [
       "21"
      ]
     },
     "execution_count": 5,
     "metadata": {},
     "output_type": "execute_result"
    },
    {
     "data": {
      "text/plain": [
       "21"
      ]
     },
     "execution_count": 5,
     "metadata": {},
     "output_type": "execute_result"
    },
    {
     "data": {
      "text/plain": [
       "21"
      ]
     },
     "execution_count": 5,
     "metadata": {},
     "output_type": "execute_result"
    },
    {
     "data": {
      "text/plain": [
       "21"
      ]
     },
     "execution_count": 5,
     "metadata": {},
     "output_type": "execute_result"
    },
    {
     "data": {
      "text/plain": [
       "21"
      ]
     },
     "execution_count": 5,
     "metadata": {},
     "output_type": "execute_result"
    },
    {
     "data": {
      "text/plain": [
       "21"
      ]
     },
     "execution_count": 5,
     "metadata": {},
     "output_type": "execute_result"
    },
    {
     "data": {
      "text/plain": [
       "21"
      ]
     },
     "execution_count": 5,
     "metadata": {},
     "output_type": "execute_result"
    },
    {
     "data": {
      "text/plain": [
       "21"
      ]
     },
     "execution_count": 5,
     "metadata": {},
     "output_type": "execute_result"
    },
    {
     "data": {
      "text/plain": [
       "21"
      ]
     },
     "execution_count": 5,
     "metadata": {},
     "output_type": "execute_result"
    },
    {
     "data": {
      "text/plain": [
       "21"
      ]
     },
     "execution_count": 5,
     "metadata": {},
     "output_type": "execute_result"
    },
    {
     "data": {
      "text/plain": [
       "21"
      ]
     },
     "execution_count": 5,
     "metadata": {},
     "output_type": "execute_result"
    },
    {
     "data": {
      "text/plain": [
       "21"
      ]
     },
     "execution_count": 5,
     "metadata": {},
     "output_type": "execute_result"
    },
    {
     "data": {
      "text/plain": [
       "21"
      ]
     },
     "execution_count": 5,
     "metadata": {},
     "output_type": "execute_result"
    },
    {
     "data": {
      "text/plain": [
       "21"
      ]
     },
     "execution_count": 5,
     "metadata": {},
     "output_type": "execute_result"
    },
    {
     "data": {
      "text/plain": [
       "21"
      ]
     },
     "execution_count": 5,
     "metadata": {},
     "output_type": "execute_result"
    },
    {
     "data": {
      "text/plain": [
       "21"
      ]
     },
     "execution_count": 5,
     "metadata": {},
     "output_type": "execute_result"
    },
    {
     "data": {
      "text/plain": [
       "21"
      ]
     },
     "execution_count": 5,
     "metadata": {},
     "output_type": "execute_result"
    },
    {
     "data": {
      "text/plain": [
       "21"
      ]
     },
     "execution_count": 5,
     "metadata": {},
     "output_type": "execute_result"
    },
    {
     "data": {
      "text/plain": [
       "21"
      ]
     },
     "execution_count": 5,
     "metadata": {},
     "output_type": "execute_result"
    },
    {
     "data": {
      "text/plain": [
       "21"
      ]
     },
     "execution_count": 5,
     "metadata": {},
     "output_type": "execute_result"
    },
    {
     "data": {
      "text/plain": [
       "21"
      ]
     },
     "execution_count": 5,
     "metadata": {},
     "output_type": "execute_result"
    },
    {
     "data": {
      "text/plain": [
       "21"
      ]
     },
     "execution_count": 5,
     "metadata": {},
     "output_type": "execute_result"
    },
    {
     "data": {
      "text/plain": [
       "21"
      ]
     },
     "execution_count": 5,
     "metadata": {},
     "output_type": "execute_result"
    },
    {
     "data": {
      "text/plain": [
       "21"
      ]
     },
     "execution_count": 5,
     "metadata": {},
     "output_type": "execute_result"
    },
    {
     "data": {
      "text/plain": [
       "21"
      ]
     },
     "execution_count": 5,
     "metadata": {},
     "output_type": "execute_result"
    },
    {
     "data": {
      "text/plain": [
       "21"
      ]
     },
     "execution_count": 5,
     "metadata": {},
     "output_type": "execute_result"
    },
    {
     "data": {
      "text/plain": [
       "21"
      ]
     },
     "execution_count": 5,
     "metadata": {},
     "output_type": "execute_result"
    },
    {
     "data": {
      "text/plain": [
       "21"
      ]
     },
     "execution_count": 5,
     "metadata": {},
     "output_type": "execute_result"
    },
    {
     "data": {
      "text/plain": [
       "21"
      ]
     },
     "execution_count": 5,
     "metadata": {},
     "output_type": "execute_result"
    },
    {
     "data": {
      "text/plain": [
       "21"
      ]
     },
     "execution_count": 5,
     "metadata": {},
     "output_type": "execute_result"
    },
    {
     "data": {
      "text/plain": [
       "21"
      ]
     },
     "execution_count": 5,
     "metadata": {},
     "output_type": "execute_result"
    },
    {
     "data": {
      "text/plain": [
       "21"
      ]
     },
     "execution_count": 5,
     "metadata": {},
     "output_type": "execute_result"
    },
    {
     "data": {
      "text/plain": [
       "21"
      ]
     },
     "execution_count": 5,
     "metadata": {},
     "output_type": "execute_result"
    },
    {
     "data": {
      "text/plain": [
       "21"
      ]
     },
     "execution_count": 5,
     "metadata": {},
     "output_type": "execute_result"
    },
    {
     "data": {
      "text/plain": [
       "21"
      ]
     },
     "execution_count": 5,
     "metadata": {},
     "output_type": "execute_result"
    },
    {
     "data": {
      "text/plain": [
       "21"
      ]
     },
     "execution_count": 5,
     "metadata": {},
     "output_type": "execute_result"
    },
    {
     "data": {
      "text/plain": [
       "21"
      ]
     },
     "execution_count": 5,
     "metadata": {},
     "output_type": "execute_result"
    },
    {
     "data": {
      "text/plain": [
       "21"
      ]
     },
     "execution_count": 5,
     "metadata": {},
     "output_type": "execute_result"
    },
    {
     "data": {
      "text/plain": [
       "21"
      ]
     },
     "execution_count": 5,
     "metadata": {},
     "output_type": "execute_result"
    },
    {
     "data": {
      "text/plain": [
       "21"
      ]
     },
     "execution_count": 5,
     "metadata": {},
     "output_type": "execute_result"
    },
    {
     "data": {
      "text/plain": [
       "21"
      ]
     },
     "execution_count": 5,
     "metadata": {},
     "output_type": "execute_result"
    },
    {
     "data": {
      "text/plain": [
       "21"
      ]
     },
     "execution_count": 5,
     "metadata": {},
     "output_type": "execute_result"
    },
    {
     "data": {
      "text/plain": [
       "21"
      ]
     },
     "execution_count": 5,
     "metadata": {},
     "output_type": "execute_result"
    },
    {
     "data": {
      "text/plain": [
       "21"
      ]
     },
     "execution_count": 5,
     "metadata": {},
     "output_type": "execute_result"
    },
    {
     "data": {
      "text/plain": [
       "21"
      ]
     },
     "execution_count": 5,
     "metadata": {},
     "output_type": "execute_result"
    },
    {
     "data": {
      "text/plain": [
       "21"
      ]
     },
     "execution_count": 5,
     "metadata": {},
     "output_type": "execute_result"
    },
    {
     "data": {
      "text/plain": [
       "21"
      ]
     },
     "execution_count": 5,
     "metadata": {},
     "output_type": "execute_result"
    },
    {
     "data": {
      "text/plain": [
       "21"
      ]
     },
     "execution_count": 5,
     "metadata": {},
     "output_type": "execute_result"
    },
    {
     "data": {
      "text/plain": [
       "21"
      ]
     },
     "execution_count": 5,
     "metadata": {},
     "output_type": "execute_result"
    },
    {
     "data": {
      "text/plain": [
       "21"
      ]
     },
     "execution_count": 5,
     "metadata": {},
     "output_type": "execute_result"
    },
    {
     "data": {
      "text/plain": [
       "21"
      ]
     },
     "execution_count": 5,
     "metadata": {},
     "output_type": "execute_result"
    },
    {
     "data": {
      "text/plain": [
       "21"
      ]
     },
     "execution_count": 5,
     "metadata": {},
     "output_type": "execute_result"
    },
    {
     "data": {
      "text/plain": [
       "21"
      ]
     },
     "execution_count": 5,
     "metadata": {},
     "output_type": "execute_result"
    },
    {
     "data": {
      "text/plain": [
       "21"
      ]
     },
     "execution_count": 5,
     "metadata": {},
     "output_type": "execute_result"
    },
    {
     "data": {
      "text/plain": [
       "21"
      ]
     },
     "execution_count": 5,
     "metadata": {},
     "output_type": "execute_result"
    },
    {
     "data": {
      "text/plain": [
       "21"
      ]
     },
     "execution_count": 5,
     "metadata": {},
     "output_type": "execute_result"
    },
    {
     "data": {
      "text/plain": [
       "21"
      ]
     },
     "execution_count": 5,
     "metadata": {},
     "output_type": "execute_result"
    },
    {
     "data": {
      "text/plain": [
       "21"
      ]
     },
     "execution_count": 5,
     "metadata": {},
     "output_type": "execute_result"
    },
    {
     "data": {
      "text/plain": [
       "21"
      ]
     },
     "execution_count": 5,
     "metadata": {},
     "output_type": "execute_result"
    },
    {
     "data": {
      "text/plain": [
       "21"
      ]
     },
     "execution_count": 5,
     "metadata": {},
     "output_type": "execute_result"
    },
    {
     "data": {
      "text/plain": [
       "21"
      ]
     },
     "execution_count": 5,
     "metadata": {},
     "output_type": "execute_result"
    },
    {
     "data": {
      "text/plain": [
       "21"
      ]
     },
     "execution_count": 5,
     "metadata": {},
     "output_type": "execute_result"
    },
    {
     "data": {
      "text/plain": [
       "21"
      ]
     },
     "execution_count": 5,
     "metadata": {},
     "output_type": "execute_result"
    },
    {
     "data": {
      "text/plain": [
       "21"
      ]
     },
     "execution_count": 5,
     "metadata": {},
     "output_type": "execute_result"
    },
    {
     "data": {
      "text/plain": [
       "21"
      ]
     },
     "execution_count": 5,
     "metadata": {},
     "output_type": "execute_result"
    },
    {
     "data": {
      "text/plain": [
       "21"
      ]
     },
     "execution_count": 5,
     "metadata": {},
     "output_type": "execute_result"
    },
    {
     "data": {
      "text/plain": [
       "21"
      ]
     },
     "execution_count": 5,
     "metadata": {},
     "output_type": "execute_result"
    },
    {
     "data": {
      "text/plain": [
       "21"
      ]
     },
     "execution_count": 5,
     "metadata": {},
     "output_type": "execute_result"
    },
    {
     "data": {
      "text/plain": [
       "24"
      ]
     },
     "execution_count": 5,
     "metadata": {},
     "output_type": "execute_result"
    },
    {
     "data": {
      "text/plain": [
       "24"
      ]
     },
     "execution_count": 5,
     "metadata": {},
     "output_type": "execute_result"
    },
    {
     "data": {
      "text/plain": [
       "24"
      ]
     },
     "execution_count": 5,
     "metadata": {},
     "output_type": "execute_result"
    },
    {
     "data": {
      "text/plain": [
       "24"
      ]
     },
     "execution_count": 5,
     "metadata": {},
     "output_type": "execute_result"
    },
    {
     "data": {
      "text/plain": [
       "24"
      ]
     },
     "execution_count": 5,
     "metadata": {},
     "output_type": "execute_result"
    },
    {
     "data": {
      "text/plain": [
       "24"
      ]
     },
     "execution_count": 5,
     "metadata": {},
     "output_type": "execute_result"
    },
    {
     "data": {
      "text/plain": [
       "24"
      ]
     },
     "execution_count": 5,
     "metadata": {},
     "output_type": "execute_result"
    },
    {
     "data": {
      "text/plain": [
       "24"
      ]
     },
     "execution_count": 5,
     "metadata": {},
     "output_type": "execute_result"
    },
    {
     "data": {
      "text/plain": [
       "24"
      ]
     },
     "execution_count": 5,
     "metadata": {},
     "output_type": "execute_result"
    },
    {
     "data": {
      "text/plain": [
       "24"
      ]
     },
     "execution_count": 5,
     "metadata": {},
     "output_type": "execute_result"
    },
    {
     "data": {
      "text/plain": [
       "24"
      ]
     },
     "execution_count": 5,
     "metadata": {},
     "output_type": "execute_result"
    },
    {
     "data": {
      "text/plain": [
       "24"
      ]
     },
     "execution_count": 5,
     "metadata": {},
     "output_type": "execute_result"
    },
    {
     "data": {
      "text/plain": [
       "24"
      ]
     },
     "execution_count": 5,
     "metadata": {},
     "output_type": "execute_result"
    },
    {
     "data": {
      "text/plain": [
       "24"
      ]
     },
     "execution_count": 5,
     "metadata": {},
     "output_type": "execute_result"
    },
    {
     "data": {
      "text/plain": [
       "24"
      ]
     },
     "execution_count": 5,
     "metadata": {},
     "output_type": "execute_result"
    },
    {
     "data": {
      "text/plain": [
       "24"
      ]
     },
     "execution_count": 5,
     "metadata": {},
     "output_type": "execute_result"
    },
    {
     "data": {
      "text/plain": [
       "24"
      ]
     },
     "execution_count": 5,
     "metadata": {},
     "output_type": "execute_result"
    },
    {
     "data": {
      "text/plain": [
       "24"
      ]
     },
     "execution_count": 5,
     "metadata": {},
     "output_type": "execute_result"
    },
    {
     "data": {
      "text/plain": [
       "24"
      ]
     },
     "execution_count": 5,
     "metadata": {},
     "output_type": "execute_result"
    },
    {
     "data": {
      "text/plain": [
       "24"
      ]
     },
     "execution_count": 5,
     "metadata": {},
     "output_type": "execute_result"
    },
    {
     "data": {
      "text/plain": [
       "24"
      ]
     },
     "execution_count": 5,
     "metadata": {},
     "output_type": "execute_result"
    },
    {
     "data": {
      "text/plain": [
       "24"
      ]
     },
     "execution_count": 5,
     "metadata": {},
     "output_type": "execute_result"
    },
    {
     "data": {
      "text/plain": [
       "24"
      ]
     },
     "execution_count": 5,
     "metadata": {},
     "output_type": "execute_result"
    },
    {
     "data": {
      "text/plain": [
       "24"
      ]
     },
     "execution_count": 5,
     "metadata": {},
     "output_type": "execute_result"
    },
    {
     "data": {
      "text/plain": [
       "24"
      ]
     },
     "execution_count": 5,
     "metadata": {},
     "output_type": "execute_result"
    },
    {
     "data": {
      "text/plain": [
       "24"
      ]
     },
     "execution_count": 5,
     "metadata": {},
     "output_type": "execute_result"
    },
    {
     "data": {
      "text/plain": [
       "24"
      ]
     },
     "execution_count": 5,
     "metadata": {},
     "output_type": "execute_result"
    },
    {
     "data": {
      "text/plain": [
       "24"
      ]
     },
     "execution_count": 5,
     "metadata": {},
     "output_type": "execute_result"
    },
    {
     "data": {
      "text/plain": [
       "24"
      ]
     },
     "execution_count": 5,
     "metadata": {},
     "output_type": "execute_result"
    },
    {
     "data": {
      "text/plain": [
       "24"
      ]
     },
     "execution_count": 5,
     "metadata": {},
     "output_type": "execute_result"
    },
    {
     "data": {
      "text/plain": [
       "24"
      ]
     },
     "execution_count": 5,
     "metadata": {},
     "output_type": "execute_result"
    },
    {
     "data": {
      "text/plain": [
       "24"
      ]
     },
     "execution_count": 5,
     "metadata": {},
     "output_type": "execute_result"
    },
    {
     "data": {
      "text/plain": [
       "24"
      ]
     },
     "execution_count": 5,
     "metadata": {},
     "output_type": "execute_result"
    },
    {
     "data": {
      "text/plain": [
       "24"
      ]
     },
     "execution_count": 5,
     "metadata": {},
     "output_type": "execute_result"
    },
    {
     "data": {
      "text/plain": [
       "24"
      ]
     },
     "execution_count": 5,
     "metadata": {},
     "output_type": "execute_result"
    },
    {
     "data": {
      "text/plain": [
       "24"
      ]
     },
     "execution_count": 5,
     "metadata": {},
     "output_type": "execute_result"
    },
    {
     "data": {
      "text/plain": [
       "24"
      ]
     },
     "execution_count": 5,
     "metadata": {},
     "output_type": "execute_result"
    },
    {
     "data": {
      "text/plain": [
       "24"
      ]
     },
     "execution_count": 5,
     "metadata": {},
     "output_type": "execute_result"
    },
    {
     "data": {
      "text/plain": [
       "24"
      ]
     },
     "execution_count": 5,
     "metadata": {},
     "output_type": "execute_result"
    },
    {
     "data": {
      "text/plain": [
       "24"
      ]
     },
     "execution_count": 5,
     "metadata": {},
     "output_type": "execute_result"
    },
    {
     "data": {
      "text/plain": [
       "24"
      ]
     },
     "execution_count": 5,
     "metadata": {},
     "output_type": "execute_result"
    },
    {
     "data": {
      "text/plain": [
       "24"
      ]
     },
     "execution_count": 5,
     "metadata": {},
     "output_type": "execute_result"
    },
    {
     "data": {
      "text/plain": [
       "24"
      ]
     },
     "execution_count": 5,
     "metadata": {},
     "output_type": "execute_result"
    },
    {
     "data": {
      "text/plain": [
       "24"
      ]
     },
     "execution_count": 5,
     "metadata": {},
     "output_type": "execute_result"
    },
    {
     "data": {
      "text/plain": [
       "24"
      ]
     },
     "execution_count": 5,
     "metadata": {},
     "output_type": "execute_result"
    },
    {
     "data": {
      "text/plain": [
       "24"
      ]
     },
     "execution_count": 5,
     "metadata": {},
     "output_type": "execute_result"
    },
    {
     "data": {
      "text/plain": [
       "24"
      ]
     },
     "execution_count": 5,
     "metadata": {},
     "output_type": "execute_result"
    },
    {
     "data": {
      "text/plain": [
       "24"
      ]
     },
     "execution_count": 5,
     "metadata": {},
     "output_type": "execute_result"
    },
    {
     "data": {
      "text/plain": [
       "24"
      ]
     },
     "execution_count": 5,
     "metadata": {},
     "output_type": "execute_result"
    },
    {
     "data": {
      "text/plain": [
       "24"
      ]
     },
     "execution_count": 5,
     "metadata": {},
     "output_type": "execute_result"
    },
    {
     "data": {
      "text/plain": [
       "24"
      ]
     },
     "execution_count": 5,
     "metadata": {},
     "output_type": "execute_result"
    },
    {
     "data": {
      "text/plain": [
       "24"
      ]
     },
     "execution_count": 5,
     "metadata": {},
     "output_type": "execute_result"
    },
    {
     "data": {
      "text/plain": [
       "24"
      ]
     },
     "execution_count": 5,
     "metadata": {},
     "output_type": "execute_result"
    },
    {
     "data": {
      "text/plain": [
       "24"
      ]
     },
     "execution_count": 5,
     "metadata": {},
     "output_type": "execute_result"
    },
    {
     "data": {
      "text/plain": [
       "24"
      ]
     },
     "execution_count": 5,
     "metadata": {},
     "output_type": "execute_result"
    },
    {
     "data": {
      "text/plain": [
       "24"
      ]
     },
     "execution_count": 5,
     "metadata": {},
     "output_type": "execute_result"
    },
    {
     "data": {
      "text/plain": [
       "24"
      ]
     },
     "execution_count": 5,
     "metadata": {},
     "output_type": "execute_result"
    },
    {
     "data": {
      "text/plain": [
       "24"
      ]
     },
     "execution_count": 5,
     "metadata": {},
     "output_type": "execute_result"
    },
    {
     "data": {
      "text/plain": [
       "24"
      ]
     },
     "execution_count": 5,
     "metadata": {},
     "output_type": "execute_result"
    },
    {
     "data": {
      "text/plain": [
       "24"
      ]
     },
     "execution_count": 5,
     "metadata": {},
     "output_type": "execute_result"
    },
    {
     "data": {
      "text/plain": [
       "24"
      ]
     },
     "execution_count": 5,
     "metadata": {},
     "output_type": "execute_result"
    },
    {
     "data": {
      "text/plain": [
       "24"
      ]
     },
     "execution_count": 5,
     "metadata": {},
     "output_type": "execute_result"
    },
    {
     "data": {
      "text/plain": [
       "24"
      ]
     },
     "execution_count": 5,
     "metadata": {},
     "output_type": "execute_result"
    },
    {
     "data": {
      "text/plain": [
       "24"
      ]
     },
     "execution_count": 5,
     "metadata": {},
     "output_type": "execute_result"
    },
    {
     "data": {
      "text/plain": [
       "24"
      ]
     },
     "execution_count": 5,
     "metadata": {},
     "output_type": "execute_result"
    },
    {
     "data": {
      "text/plain": [
       "24"
      ]
     },
     "execution_count": 5,
     "metadata": {},
     "output_type": "execute_result"
    },
    {
     "data": {
      "text/plain": [
       "24"
      ]
     },
     "execution_count": 5,
     "metadata": {},
     "output_type": "execute_result"
    },
    {
     "data": {
      "text/plain": [
       "24"
      ]
     },
     "execution_count": 5,
     "metadata": {},
     "output_type": "execute_result"
    },
    {
     "data": {
      "text/plain": [
       "24"
      ]
     },
     "execution_count": 5,
     "metadata": {},
     "output_type": "execute_result"
    },
    {
     "data": {
      "text/plain": [
       "24"
      ]
     },
     "execution_count": 5,
     "metadata": {},
     "output_type": "execute_result"
    },
    {
     "data": {
      "text/plain": [
       "24"
      ]
     },
     "execution_count": 5,
     "metadata": {},
     "output_type": "execute_result"
    },
    {
     "data": {
      "text/plain": [
       "24"
      ]
     },
     "execution_count": 5,
     "metadata": {},
     "output_type": "execute_result"
    },
    {
     "data": {
      "text/plain": [
       "24"
      ]
     },
     "execution_count": 5,
     "metadata": {},
     "output_type": "execute_result"
    },
    {
     "data": {
      "text/plain": [
       "24"
      ]
     },
     "execution_count": 5,
     "metadata": {},
     "output_type": "execute_result"
    },
    {
     "data": {
      "text/plain": [
       "24"
      ]
     },
     "execution_count": 5,
     "metadata": {},
     "output_type": "execute_result"
    },
    {
     "data": {
      "text/plain": [
       "24"
      ]
     },
     "execution_count": 5,
     "metadata": {},
     "output_type": "execute_result"
    },
    {
     "data": {
      "text/plain": [
       "24"
      ]
     },
     "execution_count": 5,
     "metadata": {},
     "output_type": "execute_result"
    },
    {
     "data": {
      "text/plain": [
       "24"
      ]
     },
     "execution_count": 5,
     "metadata": {},
     "output_type": "execute_result"
    },
    {
     "data": {
      "text/plain": [
       "24"
      ]
     },
     "execution_count": 5,
     "metadata": {},
     "output_type": "execute_result"
    },
    {
     "data": {
      "text/plain": [
       "24"
      ]
     },
     "execution_count": 5,
     "metadata": {},
     "output_type": "execute_result"
    },
    {
     "data": {
      "text/plain": [
       "24"
      ]
     },
     "execution_count": 5,
     "metadata": {},
     "output_type": "execute_result"
    },
    {
     "data": {
      "text/plain": [
       "24"
      ]
     },
     "execution_count": 5,
     "metadata": {},
     "output_type": "execute_result"
    },
    {
     "data": {
      "text/plain": [
       "24"
      ]
     },
     "execution_count": 5,
     "metadata": {},
     "output_type": "execute_result"
    },
    {
     "data": {
      "text/plain": [
       "24"
      ]
     },
     "execution_count": 5,
     "metadata": {},
     "output_type": "execute_result"
    },
    {
     "data": {
      "text/plain": [
       "24"
      ]
     },
     "execution_count": 5,
     "metadata": {},
     "output_type": "execute_result"
    },
    {
     "data": {
      "text/plain": [
       "24"
      ]
     },
     "execution_count": 5,
     "metadata": {},
     "output_type": "execute_result"
    },
    {
     "data": {
      "text/plain": [
       "24"
      ]
     },
     "execution_count": 5,
     "metadata": {},
     "output_type": "execute_result"
    },
    {
     "data": {
      "text/plain": [
       "24"
      ]
     },
     "execution_count": 5,
     "metadata": {},
     "output_type": "execute_result"
    },
    {
     "data": {
      "text/plain": [
       "24"
      ]
     },
     "execution_count": 5,
     "metadata": {},
     "output_type": "execute_result"
    },
    {
     "data": {
      "text/plain": [
       "24"
      ]
     },
     "execution_count": 5,
     "metadata": {},
     "output_type": "execute_result"
    }
   ],
   "source": [
    "for j in range (0,2):\n",
    "    if not os.path.exists(os.path.join(dataset_dir[j],\"Splits/\")):\n",
    "        os.makedirs(os.path.join(dataset_dir[j],\"Splits/\"))\n",
    "\n",
    "    image_filenames = next(os.walk(os.path.join(dataset_dir[j],\"Images/\")))[2]\n",
    "    \n",
    "    val=[]\n",
    "    train=[]\n",
    "    \n",
    "    for image_name in image_filenames:\n",
    "        if 100*random.random() < 10:\n",
    "            val.append(image_name[:-4])\n",
    "        else:\n",
    "            train.append(image_name[:-4])\n",
    "    \n",
    "    with open(os.path.join(dataset_dir[j],\"Splits\",\"train.txt\"), 'w') as file:  # Use file to refer to the file object\n",
    "        for i in train:\n",
    "            file.write(str(i)+\"\\n\")\n",
    "    \n",
    "    with open(os.path.join(dataset_dir[j],\"Splits\",\"val.txt\"), 'w') as file:  # Use file to refer to the file object\n",
    "        for i in val:\n",
    "            file.write(str(i)+\"\\n\")\n",
    "\n",
    "   "
   ]
  },
  {
   "cell_type": "code",
   "execution_count": null,
   "metadata": {},
   "outputs": [],
   "source": []
  },
  {
   "cell_type": "code",
   "execution_count": 6,
   "metadata": {},
   "outputs": [],
   "source": [
    "from tensorflow.keras.applications.vgg16 import preprocess_input \n",
    "\n",
    "img_h = 768 #1536\n",
    "img_w = 1024 #2048\n",
    "\n",
    "dataset = CustomDataset(dataset_dir[0], 'training', \n",
    "                        img_generator=img_data_gen, mask_generator=mask_data_gen,\n",
    "                        preprocessing_function=preprocess_input, out_shape=[img_w,img_h])\n",
    "\n",
    "dataset1 = CustomDataset(dataset_dir[1], 'training', \n",
    "                        img_generator=img_data_gen, mask_generator=mask_data_gen,\n",
    "                        preprocessing_function=preprocess_input, out_shape=[img_w,img_h])\n",
    "\n",
    "dataset_valid = CustomDataset(dataset_dir[0], 'validation', \n",
    "                              preprocessing_function=preprocess_input,out_shape=[img_w,img_h])\n",
    "\n",
    "dataset_valid1 = CustomDataset(dataset_dir[1], 'validation', \n",
    "                              preprocessing_function=preprocess_input,out_shape=[img_w,img_h])\n"
   ]
  },
  {
   "cell_type": "code",
   "execution_count": 7,
   "metadata": {},
   "outputs": [],
   "source": [
    "\n",
    "train_dataset0 = tf.data.Dataset.from_generator(lambda: dataset,\n",
    "                                               output_types=(tf.float32, tf.float32),\n",
    "                                               output_shapes=([img_h, img_w, 3], [img_h, img_w, 1]))\n",
    "\n",
    "train_dataset1 = tf.data.Dataset.from_generator(lambda: dataset1,\n",
    "                                               output_types=(tf.float32, tf.float32),\n",
    "                                               output_shapes=([img_h, img_w, 3], [img_h, img_w, 1]))\n",
    "\n",
    "train_dataset = train_dataset0.concatenate(train_dataset1)\n",
    "\n",
    "train_dataset = train_dataset.batch(1)\n",
    "\n",
    "train_dataset = train_dataset.repeat()\n",
    "\n",
    "valid_dataset0 = tf.data.Dataset.from_generator(lambda: dataset_valid,\n",
    "                                               output_types=(tf.float32, tf.float32),\n",
    "                                               output_shapes=([img_h, img_w, 3], [img_h, img_w, 1]))\n",
    "valid_dataset1 = tf.data.Dataset.from_generator(lambda: dataset_valid1,\n",
    "                                               output_types=(tf.float32, tf.float32),\n",
    "                                               output_shapes=([img_h, img_w, 3], [img_h, img_w, 1]))\n",
    "\n",
    "valid_dataset = valid_dataset0.concatenate(valid_dataset1)\n",
    "\n",
    "valid_dataset = valid_dataset.batch(1)\n",
    "\n",
    "valid_dataset = valid_dataset.repeat()"
   ]
  },
  {
   "cell_type": "code",
   "execution_count": 8,
   "metadata": {},
   "outputs": [],
   "source": [
    "# Let's test data generator\n",
    "# -------------------------\n",
    "import time\n",
    "from matplotlib import cm\n",
    "import matplotlib.pyplot as plt\n",
    "\n",
    "%matplotlib inline\n",
    "\n",
    "# Assign a color to each class\n",
    "evenly_spaced_interval = np.linspace(0, 1, 3)\n",
    "colors = [cm.rainbow(x) for x in evenly_spaced_interval]\n",
    "\n",
    "iterator = iter(valid_dataset)"
   ]
  },
  {
   "cell_type": "code",
   "execution_count": 9,
   "metadata": {},
   "outputs": [
    {
     "name": "stdout",
     "output_type": "stream",
     "text": [
      "[0. 1. 2.]\n"
     ]
    },
    {
     "data": {
      "text/plain": [
       "<matplotlib.image.AxesImage at 0x2373fbac848>"
      ]
     },
     "execution_count": 9,
     "metadata": {},
     "output_type": "execute_result"
    },
    {
     "data": {
      "text/plain": [
       "<matplotlib.image.AxesImage at 0x23731da9b08>"
      ]
     },
     "execution_count": 9,
     "metadata": {},
     "output_type": "execute_result"
    },
    {
     "data": {
      "image/png": "[encoded data removed]",
      "text/plain": [
       "<Figure size 432x288 with 2 Axes>"
      ]
     },
     "metadata": {
      "needs_background": "light"
     },
     "output_type": "display_data"
    }
   ],
   "source": [
    "fig, ax = plt.subplots(1, 2)\n",
    "\n",
    "augmented_img, target = next(iterator)\n",
    "augmented_img = augmented_img[0]   # First element\n",
    "augmented_img = augmented_img  # denormalize\n",
    "\n",
    "target = np.array(target[0, ..., 0])   # First element (squeezing channel dimension)\n",
    "\n",
    "print(np.unique(target))\n",
    "\n",
    "target_img = np.zeros([target.shape[0], target.shape[1], 3])\n",
    "\n",
    "target_img[np.where(target == 0)] = [0, 0, 0]\n",
    "for i in range(1, 3):\n",
    "  target_img[np.where(target == i)] = np.array(colors[i-1])[:3] * 255\n",
    "\n",
    "ax[0].imshow(np.uint8(augmented_img))\n",
    "ax[1].imshow(np.uint8(target_img))\n",
    "\n",
    "plt.show()"
   ]
  },
  {
   "cell_type": "code",
   "execution_count": 10,
   "metadata": {},
   "outputs": [],
   "source": [
    "#vgg = tf.keras.applications.VGG16(weights='imagenet', include_top=False, input_shape=(img_h, img_w, 3))\n",
    "#vgg.summary()\n",
    "#for layer in vgg.layers:\n",
    "#  layer.trainable = False"
   ]
  },
  {
   "cell_type": "code",
   "execution_count": 11,
   "metadata": {},
   "outputs": [],
   "source": [
    "def create_model(depth, start_f, num_classes):\n",
    "\n",
    "    model = tf.keras.Sequential()\n",
    "    \n",
    "    # Encoder\n",
    "    # -------\n",
    "    model.add(vgg)\n",
    "    \n",
    "    start_f = 256\n",
    "        \n",
    "    # Decoder\n",
    "    # -------\n",
    "    for i in range(depth):\n",
    "        model.add(tf.keras.layers.UpSampling2D(2, interpolation='bilinear'))\n",
    "        model.add(tf.keras.layers.Conv2D(filters=start_f,\n",
    "                                         kernel_size=(3, 3),\n",
    "                                         strides=(1, 1),\n",
    "                                         padding='same'))\n",
    "        model.add(tf.keras.layers.ReLU())\n",
    "\n",
    "        start_f = start_f // 2\n",
    "\n",
    "    # Prediction Layer\n",
    "    # ----------------\n",
    "    model.add(tf.keras.layers.Conv2D(filters=num_classes,\n",
    "                                     kernel_size=(1, 1),\n",
    "                                     strides=(1, 1),\n",
    "                                     padding='same',\n",
    "                                     activation='softmax'))\n",
    "    \n",
    "    return model"
   ]
  },
  {
   "cell_type": "code",
   "execution_count": 12,
   "metadata": {},
   "outputs": [
    {
     "name": "stdout",
     "output_type": "stream",
     "text": [
      "Model: \"functional_1\"\n",
      "__________________________________________________________________________________________________\n",
      "Layer (type)                    Output Shape         Param #     Connected to                     \n",
      "==================================================================================================\n",
      "input_1 (InputLayer)            [(None, 768, 1024, 3 0                                            \n",
      "__________________________________________________________________________________________________\n",
      "conv1_1 (Conv2D)                (None, 768, 1024, 32 896         input_1[0][0]                    \n",
      "__________________________________________________________________________________________________\n",
      "conv2d (Conv2D)                 (None, 768, 1024, 32 9248        conv1_1[0][0]                    \n",
      "__________________________________________________________________________________________________\n",
      "max_pooling2d (MaxPooling2D)    (None, 384, 512, 32) 0           conv2d[0][0]                     \n",
      "__________________________________________________________________________________________________\n",
      "conv2d_1 (Conv2D)               (None, 384, 512, 64) 18496       max_pooling2d[0][0]              \n",
      "__________________________________________________________________________________________________\n",
      "conv2d_2 (Conv2D)               (None, 384, 512, 64) 36928       conv2d_1[0][0]                   \n",
      "__________________________________________________________________________________________________\n",
      "max_pooling2d_1 (MaxPooling2D)  (None, 192, 256, 64) 0           conv2d_2[0][0]                   \n",
      "__________________________________________________________________________________________________\n",
      "conv2d_3 (Conv2D)               (None, 192, 256, 128 73856       max_pooling2d_1[0][0]            \n",
      "__________________________________________________________________________________________________\n",
      "conv2d_4 (Conv2D)               (None, 192, 256, 128 147584      conv2d_3[0][0]                   \n",
      "__________________________________________________________________________________________________\n",
      "max_pooling2d_2 (MaxPooling2D)  (None, 96, 128, 128) 0           conv2d_4[0][0]                   \n",
      "__________________________________________________________________________________________________\n",
      "conv2d_5 (Conv2D)               (None, 96, 128, 256) 295168      max_pooling2d_2[0][0]            \n",
      "__________________________________________________________________________________________________\n",
      "conv2d_6 (Conv2D)               (None, 96, 128, 256) 590080      conv2d_5[0][0]                   \n",
      "__________________________________________________________________________________________________\n",
      "max_pooling2d_3 (MaxPooling2D)  (None, 48, 64, 256)  0           conv2d_6[0][0]                   \n",
      "__________________________________________________________________________________________________\n",
      "conv2d_7 (Conv2D)               (None, 48, 64, 512)  1180160     max_pooling2d_3[0][0]            \n",
      "__________________________________________________________________________________________________\n",
      "conv2d_8 (Conv2D)               (None, 48, 64, 512)  2359808     conv2d_7[0][0]                   \n",
      "__________________________________________________________________________________________________\n",
      "up_sampling2d (UpSampling2D)    (None, 96, 128, 512) 0           conv2d_8[0][0]                   \n",
      "__________________________________________________________________________________________________\n",
      "cropping2d (Cropping2D)         (None, 96, 128, 256) 0           conv2d_6[0][0]                   \n",
      "__________________________________________________________________________________________________\n",
      "concatenate (Concatenate)       (None, 96, 128, 768) 0           up_sampling2d[0][0]              \n",
      "                                                                 cropping2d[0][0]                 \n",
      "__________________________________________________________________________________________________\n",
      "conv2d_9 (Conv2D)               (None, 96, 128, 256) 1769728     concatenate[0][0]                \n",
      "__________________________________________________________________________________________________\n",
      "conv2d_10 (Conv2D)              (None, 96, 128, 256) 590080      conv2d_9[0][0]                   \n",
      "__________________________________________________________________________________________________\n",
      "up_sampling2d_1 (UpSampling2D)  (None, 192, 256, 256 0           conv2d_10[0][0]                  \n",
      "__________________________________________________________________________________________________\n",
      "cropping2d_1 (Cropping2D)       (None, 192, 256, 128 0           conv2d_4[0][0]                   \n",
      "__________________________________________________________________________________________________\n",
      "concatenate_1 (Concatenate)     (None, 192, 256, 384 0           up_sampling2d_1[0][0]            \n",
      "                                                                 cropping2d_1[0][0]               \n",
      "__________________________________________________________________________________________________\n",
      "conv2d_11 (Conv2D)              (None, 192, 256, 128 442496      concatenate_1[0][0]              \n",
      "__________________________________________________________________________________________________\n",
      "conv2d_12 (Conv2D)              (None, 192, 256, 128 147584      conv2d_11[0][0]                  \n",
      "__________________________________________________________________________________________________\n",
      "up_sampling2d_2 (UpSampling2D)  (None, 384, 512, 128 0           conv2d_12[0][0]                  \n",
      "__________________________________________________________________________________________________\n",
      "cropping2d_2 (Cropping2D)       (None, 384, 512, 64) 0           conv2d_2[0][0]                   \n",
      "__________________________________________________________________________________________________\n",
      "concatenate_2 (Concatenate)     (None, 384, 512, 192 0           up_sampling2d_2[0][0]            \n",
      "                                                                 cropping2d_2[0][0]               \n",
      "__________________________________________________________________________________________________\n",
      "conv2d_13 (Conv2D)              (None, 384, 512, 64) 110656      concatenate_2[0][0]              \n",
      "__________________________________________________________________________________________________\n",
      "conv2d_14 (Conv2D)              (None, 384, 512, 64) 36928       conv2d_13[0][0]                  \n",
      "__________________________________________________________________________________________________\n",
      "up_sampling2d_3 (UpSampling2D)  (None, 768, 1024, 64 0           conv2d_14[0][0]                  \n",
      "__________________________________________________________________________________________________\n",
      "cropping2d_3 (Cropping2D)       (None, 768, 1024, 32 0           conv2d[0][0]                     \n",
      "__________________________________________________________________________________________________\n",
      "concatenate_3 (Concatenate)     (None, 768, 1024, 96 0           up_sampling2d_3[0][0]            \n",
      "                                                                 cropping2d_3[0][0]               \n",
      "__________________________________________________________________________________________________\n",
      "conv2d_15 (Conv2D)              (None, 768, 1024, 32 27680       concatenate_3[0][0]              \n",
      "__________________________________________________________________________________________________\n",
      "conv2d_16 (Conv2D)              (None, 768, 1024, 32 9248        conv2d_15[0][0]                  \n",
      "__________________________________________________________________________________________________\n",
      "zero_padding2d (ZeroPadding2D)  (None, 768, 1024, 32 0           conv2d_16[0][0]                  \n",
      "__________________________________________________________________________________________________\n",
      "conv2d_17 (Conv2D)              (None, 768, 1024, 3) 99          zero_padding2d[0][0]             \n",
      "==================================================================================================\n",
      "Total params: 7,846,723\n",
      "Trainable params: 7,846,723\n",
      "Non-trainable params: 0\n",
      "__________________________________________________________________________________________________\n"
     ]
    }
   ],
   "source": [
    "#model = create_model(depth=5, \n",
    "#                     start_f=8, \n",
    "#                     num_classes=3)\n",
    "\n",
    "def get_crop_shape(target, refer):\n",
    "        # width, the 3rd dimension\n",
    "        cw = (target.get_shape()[2] - refer.get_shape()[2])\n",
    "        assert (cw >= 0)\n",
    "        if cw % 2 != 0:\n",
    "            cw1, cw2 = int(cw/2), int(cw/2) + 1\n",
    "        else:\n",
    "            cw1, cw2 = int(cw/2), int(cw/2)\n",
    "        # height, the 2nd dimension\n",
    "        ch = (target.get_shape()[1] - refer.get_shape()[1])\n",
    "        assert (ch >= 0)\n",
    "        if ch % 2 != 0:\n",
    "            ch1, ch2 = int(ch/2), int(ch/2) + 1\n",
    "        else:\n",
    "            ch1, ch2 = int(ch/2), int(ch/2)\n",
    "\n",
    "        return (ch1, ch2), (cw1, cw2)\n",
    "\n",
    "\n",
    "concat_axis = 3\n",
    "inputs = tf.keras.layers.Input(shape = [img_h,img_w,3])\n",
    "\n",
    "conv1 = tf.keras.layers.Conv2D(32, (3, 3), activation='relu', padding='same', name='conv1_1')(inputs)\n",
    "conv1 = tf.keras.layers.Conv2D(32, (3, 3), activation='relu', padding='same')(conv1)\n",
    "pool1 = tf.keras.layers.MaxPooling2D(pool_size=(2, 2))(conv1)\n",
    "conv2 = tf.keras.layers.Conv2D(64, (3, 3), activation='relu', padding='same')(pool1)\n",
    "conv2 = tf.keras.layers.Conv2D(64, (3, 3), activation='relu', padding='same')(conv2)\n",
    "pool2 = tf.keras.layers.MaxPooling2D(pool_size=(2, 2))(conv2)\n",
    "\n",
    "conv3 = tf.keras.layers.Conv2D(128, (3, 3), activation='relu', padding='same')(pool2)\n",
    "conv3 = tf.keras.layers.Conv2D(128, (3, 3), activation='relu', padding='same')(conv3)\n",
    "pool3 = tf.keras.layers.MaxPooling2D(pool_size=(2, 2))(conv3)\n",
    "\n",
    "conv4 = tf.keras.layers.Conv2D(256, (3, 3), activation='relu', padding='same')(pool3)\n",
    "conv4 = tf.keras.layers.Conv2D(256, (3, 3), activation='relu', padding='same')(conv4)\n",
    "pool4 = tf.keras.layers.MaxPooling2D(pool_size=(2, 2))(conv4)\n",
    "\n",
    "conv5 = tf.keras.layers.Conv2D(512, (3, 3), activation='relu', padding='same')(pool4)\n",
    "conv5 = tf.keras.layers.Conv2D(512, (3, 3), activation='relu', padding='same')(conv5)\n",
    "\n",
    "up_conv5 = tf.keras.layers.UpSampling2D(size=(2, 2))(conv5)\n",
    "ch, cw = get_crop_shape(conv4, up_conv5)\n",
    "crop_conv4 = tf.keras.layers.Cropping2D(cropping=(ch,cw))(conv4)\n",
    "up6 = tf.keras.layers.concatenate([up_conv5, crop_conv4], axis=concat_axis)\n",
    "conv6 = tf.keras.layers.Conv2D(256, (3, 3), activation='relu', padding='same')(up6)\n",
    "conv6 = tf.keras.layers.Conv2D(256, (3, 3), activation='relu', padding='same')(conv6)\n",
    "\n",
    "up_conv6 = tf.keras.layers.UpSampling2D(size=(2, 2))(conv6)\n",
    "ch, cw = get_crop_shape(conv3, up_conv6)\n",
    "crop_conv3 = tf.keras.layers.Cropping2D(cropping=(ch,cw))(conv3)\n",
    "up7 = tf.keras.layers.concatenate([up_conv6, crop_conv3], axis=concat_axis) \n",
    "conv7 = tf.keras.layers.Conv2D(128, (3, 3), activation='relu', padding='same')(up7)\n",
    "conv7 = tf.keras.layers.Conv2D(128, (3, 3), activation='relu', padding='same')(conv7)\n",
    "\n",
    "up_conv7 = tf.keras.layers.UpSampling2D(size=(2, 2))(conv7)\n",
    "ch, cw = get_crop_shape(conv2, up_conv7)\n",
    "crop_conv2 = tf.keras.layers.Cropping2D(cropping=(ch,cw))(conv2)\n",
    "up8 = tf.keras.layers.concatenate([up_conv7, crop_conv2], axis=concat_axis)\n",
    "conv8 = tf.keras.layers.Conv2D(64, (3, 3), activation='relu', padding='same')(up8)\n",
    "conv8 = tf.keras.layers.Conv2D(64, (3, 3), activation='relu', padding='same')(conv8)\n",
    "\n",
    "up_conv8 = tf.keras.layers.UpSampling2D(size=(2, 2))(conv8)\n",
    "ch, cw = get_crop_shape(conv1, up_conv8)\n",
    "crop_conv1 = tf.keras.layers.Cropping2D(cropping=(ch,cw))(conv1)\n",
    "up9 = tf.keras.layers.concatenate([up_conv8, crop_conv1], axis=concat_axis)\n",
    "conv9 = tf.keras.layers.Conv2D(32, (3, 3), activation='relu', padding='same')(up9)\n",
    "conv9 = tf.keras.layers.Conv2D(32, (3, 3), activation='relu', padding='same')(conv9)\n",
    "\n",
    "ch, cw = get_crop_shape(inputs, conv9)\n",
    "conv9 = tf.keras.layers.ZeroPadding2D(padding=((ch[0], ch[1]), (cw[0], cw[1])))(conv9)\n",
    "conv10 = tf.keras.layers.Conv2D(3, (1, 1))(conv9)\n",
    "\n",
    "model = tf.keras.models.Model(inputs=inputs, outputs=conv10)\n",
    "\n",
    "# Visualize created model as a table\n",
    "model.summary()\n",
    "\n",
    "# Visualize initialized weights\n",
    "# model.weights"
   ]
  },
  {
   "cell_type": "code",
   "execution_count": 13,
   "metadata": {},
   "outputs": [],
   "source": [
    "# Optimization params\n",
    "# -------------------\n",
    "\n",
    "# Loss\n",
    "# Sparse Categorical Crossentropy to use integers (mask) instead of one-hot encoded labels\n",
    "loss = tf.keras.losses.SparseCategoricalCrossentropy() \n",
    "# learning rate\n",
    "lr = 1e-4\n",
    "optimizer = tf.keras.optimizers.Adam(learning_rate=lr)\n",
    "# -------------------\n",
    "\n",
    "# Here we define the intersection over union for each class in the batch.\n",
    "# Then we compute the final iou as the mean over classes\n",
    "def meanIoU(y_true, y_pred):\n",
    "    # get predicted class from softmax\n",
    "    y_pred = tf.expand_dims(tf.argmax(y_pred, -1), -1)\n",
    "\n",
    "    per_class_iou = []\n",
    "\n",
    "    for i in range(1,3): # exclude the background class 0\n",
    "      # Get prediction and target related to only a single class (i)\n",
    "      class_pred = tf.cast(tf.where(y_pred == i, 1, 0), tf.float32)\n",
    "      class_true = tf.cast(tf.where(y_true == i, 1, 0), tf.float32)\n",
    "      intersection = tf.reduce_sum(class_true * class_pred)\n",
    "      union = tf.reduce_sum(class_true) + tf.reduce_sum(class_pred) - intersection\n",
    "    \n",
    "      iou = (intersection + 1e-7) / (union + 1e-7)\n",
    "      per_class_iou.append(iou)\n",
    "\n",
    "    return tf.reduce_mean(per_class_iou)\n",
    "\n",
    "# Validation metrics\n",
    "# ------------------\n",
    "metrics = ['accuracy', meanIoU]\n",
    "# ------------------\n",
    "\n",
    "# Compile Model\n",
    "model.compile(optimizer=optimizer, loss=loss, metrics=metrics)"
   ]
  },
  {
   "cell_type": "code",
   "execution_count": 14,
   "metadata": {},
   "outputs": [
    {
     "name": "stdout",
     "output_type": "stream",
     "text": [
      "Epoch 1/100\n",
      "170/170 [==============================] - 180s 1s/step - loss: 0.6537 - accuracy: 0.8807 - meanIoU: 0.1720 - val_loss: 0.5536 - val_accuracy: 0.9174 - val_meanIoU: 0.2147\n",
      "Epoch 2/100\n",
      "170/170 [==============================] - 178s 1s/step - loss: 0.2871 - accuracy: 0.9382 - meanIoU: 0.2764 - val_loss: 0.4251 - val_accuracy: 0.9417 - val_meanIoU: 0.3207\n",
      "Epoch 3/100\n",
      "170/170 [==============================] - 179s 1s/step - loss: 0.2849 - accuracy: 0.9383 - meanIoU: 0.2849 - val_loss: 0.2998 - val_accuracy: 0.9223 - val_meanIoU: 0.2555\n",
      "Epoch 4/100\n",
      "170/170 [==============================] - 179s 1s/step - loss: 0.2379 - accuracy: 0.9301 - meanIoU: 0.2534 - val_loss: 0.2589 - val_accuracy: 0.9246 - val_meanIoU: 0.2668\n",
      "Epoch 5/100\n",
      "170/170 [==============================] - 179s 1s/step - loss: 0.2214 - accuracy: 0.9190 - meanIoU: 0.2009 - val_loss: 0.2462 - val_accuracy: 0.8944 - val_meanIoU: 0.1545\n",
      "Epoch 6/100\n",
      "170/170 [==============================] - 179s 1s/step - loss: 0.2139 - accuracy: 0.9027 - meanIoU: 0.1269 - val_loss: 0.2213 - val_accuracy: 0.8829 - val_meanIoU: 0.1100\n",
      "Epoch 7/100\n",
      "170/170 [==============================] - 179s 1s/step - loss: 0.2489 - accuracy: 0.8682 - meanIoU: 0.0978 - val_loss: 0.2175 - val_accuracy: 0.8903 - val_meanIoU: 0.1095\n",
      "Epoch 8/100\n",
      "170/170 [==============================] - 179s 1s/step - loss: 0.2061 - accuracy: 0.8868 - meanIoU: 0.1023 - val_loss: 0.2395 - val_accuracy: 0.8826 - val_meanIoU: 0.1041\n",
      "Epoch 9/100\n",
      "170/170 [==============================] - 180s 1s/step - loss: 0.3502 - accuracy: 0.7685 - meanIoU: 0.1166 - val_loss: 0.4483 - val_accuracy: 0.6590 - val_meanIoU: 0.0730\n",
      "Epoch 10/100\n",
      "170/170 [==============================] - 179s 1s/step - loss: 0.2722 - accuracy: 0.8211 - meanIoU: 0.0956 - val_loss: 0.2422 - val_accuracy: 0.8384 - val_meanIoU: 0.1012\n",
      "Epoch 11/100\n",
      "170/170 [==============================] - 179s 1s/step - loss: 0.2506 - accuracy: 0.8742 - meanIoU: 0.1164 - val_loss: 0.2429 - val_accuracy: 0.8956 - val_meanIoU: 0.1194\n",
      "Epoch 12/100\n",
      "170/170 [==============================] - 178s 1s/step - loss: 0.2468 - accuracy: 0.9198 - meanIoU: 0.1706 - val_loss: 0.3788 - val_accuracy: 0.9467 - val_meanIoU: 0.3416\n",
      "Epoch 13/100\n",
      "170/170 [==============================] - 179s 1s/step - loss: 0.3377 - accuracy: 0.8624 - meanIoU: 0.1896 - val_loss: 0.4826 - val_accuracy: 0.9434 - val_meanIoU: 0.3324\n",
      "Epoch 14/100\n",
      "170/170 [==============================] - 179s 1s/step - loss: 0.2980 - accuracy: 0.9105 - meanIoU: 0.1594 - val_loss: 0.3432 - val_accuracy: 0.8950 - val_meanIoU: 0.1101\n",
      "Epoch 15/100\n",
      "170/170 [==============================] - 178s 1s/step - loss: 0.2211 - accuracy: 0.9026 - meanIoU: 0.1135 - val_loss: 0.2466 - val_accuracy: 0.8483 - val_meanIoU: 0.0944\n",
      "Epoch 16/100\n",
      "170/170 [==============================] - 182s 1s/step - loss: 0.2568 - accuracy: 0.8354 - meanIoU: 0.0797 - val_loss: 0.3862 - val_accuracy: 0.7129 - val_meanIoU: 0.0545\n",
      "Epoch 17/100\n",
      "170/170 [==============================] - 178s 1s/step - loss: 1.0882 - accuracy: 0.0505 - meanIoU: 0.0200 - val_loss: 1.0986 - val_accuracy: 0.0379 - val_meanIoU: 0.0191\n",
      "Epoch 18/100\n",
      "170/170 [==============================] - 178s 1s/step - loss: 1.0986 - accuracy: 0.0389 - meanIoU: 0.0199 - val_loss: 1.0986 - val_accuracy: 0.0379 - val_meanIoU: 0.0191\n",
      "Epoch 19/100\n",
      "170/170 [==============================] - 178s 1s/step - loss: 1.0986 - accuracy: 0.0389 - meanIoU: 0.0199 - val_loss: 1.0986 - val_accuracy: 0.0379 - val_meanIoU: 0.0191\n",
      "Epoch 20/100\n",
      "170/170 [==============================] - 178s 1s/step - loss: 1.0986 - accuracy: 0.0389 - meanIoU: 0.0199 - val_loss: 1.0986 - val_accuracy: 0.0379 - val_meanIoU: 0.0191\n",
      "Epoch 21/100\n",
      "170/170 [==============================] - 178s 1s/step - loss: 1.0986 - accuracy: 0.0389 - meanIoU: 0.0200 - val_loss: 1.0986 - val_accuracy: 0.0379 - val_meanIoU: 0.0191\n",
      "Epoch 22/100\n",
      "170/170 [==============================] - 178s 1s/step - loss: 1.0986 - accuracy: 0.0389 - meanIoU: 0.0200 - val_loss: 1.0986 - val_accuracy: 0.0379 - val_meanIoU: 0.0191\n"
     ]
    },
    {
     "data": {
      "text/plain": [
       "<tensorflow.python.keras.callbacks.History at 0x23744820788>"
      ]
     },
     "execution_count": 14,
     "metadata": {},
     "output_type": "execute_result"
    }
   ],
   "source": [
    "import os\n",
    "from datetime import datetime\n",
    "\n",
    "cwd1 = os.getcwd()\n",
    "\n",
    "exps_dir = os.path.join(cwd1, 'multiclass_exps')\n",
    "if not os.path.exists(exps_dir):\n",
    "    os.makedirs(exps_dir)\n",
    "\n",
    "now = datetime.now().strftime('%b%d_%H-%M-%S')\n",
    "\n",
    "model_name = 'CNN'\n",
    "\n",
    "exp_dir = os.path.join(exps_dir, model_name + '_' + str(now))\n",
    "if not os.path.exists(exp_dir):\n",
    "    os.makedirs(exp_dir)\n",
    "    \n",
    "callbacks = []\n",
    "\n",
    "# Model checkpoint\n",
    "# ----------------\n",
    "ckpt_dir = os.path.join(exp_dir, 'ckpts')\n",
    "if not os.path.exists(ckpt_dir):\n",
    "    os.makedirs(ckpt_dir)\n",
    "\n",
    "ckpt_callback = tf.keras.callbacks.ModelCheckpoint(filepath=os.path.join(ckpt_dir, 'cp_{epoch:02d}.ckpt'), \n",
    "                                                   save_weights_only=True)  # False to save the model directly\n",
    "callbacks.append(ckpt_callback)\n",
    "\n",
    "# Visualize Learning on Tensorboard\n",
    "# ---------------------------------\n",
    "tb_dir = os.path.join(exp_dir, 'tb_logs')\n",
    "if not os.path.exists(tb_dir):\n",
    "    os.makedirs(tb_dir)\n",
    "    \n",
    "# By default shows losses and metrics for both training and validation\n",
    "tb_callback = tf.keras.callbacks.TensorBoard(log_dir=tb_dir,\n",
    "                                             profile_batch=0,\n",
    "                                             histogram_freq=0)  # if 1 shows weights histograms\n",
    "callbacks.append(tb_callback)\n",
    "\n",
    "# Early Stopping\n",
    "# --------------\n",
    "early_stop = True\n",
    "if early_stop:\n",
    "    es_callback = tf.keras.callbacks.EarlyStopping(monitor='val_meanIoU', patience=10, mode=\"max\")\n",
    "    callbacks.append(es_callback)\n",
    "\n",
    "\n",
    "model.fit(x=train_dataset,\n",
    "          epochs=100,  #### set repeat in training dataset\n",
    "          steps_per_epoch=len(dataset)+len(dataset1),\n",
    "          validation_data=valid_dataset,\n",
    "          validation_steps=len(dataset_valid)+len(dataset_valid1), \n",
    "          callbacks=callbacks)\n",
    "\n",
    "# How to visualize Tensorboard\n",
    "\n",
    "# 1. tensorboard --logdir EXPERIMENTS_DIR --port PORT     <- from terminal\n",
    "# 2. localhost:PORT   <- in your browser"
   ]
  },
  {
   "cell_type": "code",
   "execution_count": 15,
   "metadata": {},
   "outputs": [],
   "source": [
    "import time\n",
    "import matplotlib.pyplot as plt\n",
    "\n",
    "from PIL import Image\n",
    "\n",
    "%matplotlib inline\n",
    "\n",
    "iterator = iter(valid_dataset)"
   ]
  },
  {
   "cell_type": "code",
   "execution_count": 16,
   "metadata": {},
   "outputs": [
    {
     "name": "stderr",
     "output_type": "stream",
     "text": [
      "C:\\Users\\ASUS\\anaconda3\\envs\\tf_env\\lib\\site-packages\\ipykernel_launcher.py:2: UserWarning: Matplotlib is currently using module://ipykernel.pylab.backend_inline, which is a non-GUI backend, so cannot show the figure.\n",
      "  \n"
     ]
    },
    {
     "data": {
      "text/plain": [
       "(1, 768, 1024, 3)"
      ]
     },
     "execution_count": 16,
     "metadata": {},
     "output_type": "execute_result"
    },
    {
     "data": {
      "text/plain": [
       "<matplotlib.image.AxesImage at 0x237445bec88>"
      ]
     },
     "execution_count": 16,
     "metadata": {},
     "output_type": "execute_result"
    },
    {
     "data": {
      "text/plain": [
       "<matplotlib.image.AxesImage at 0x237454ac488>"
      ]
     },
     "execution_count": 16,
     "metadata": {},
     "output_type": "execute_result"
    },
    {
     "data": {
      "text/plain": [
       "<matplotlib.image.AxesImage at 0x237445485c8>"
      ]
     },
     "execution_count": 16,
     "metadata": {},
     "output_type": "execute_result"
    },
    {
     "data": {
      "image/png": "[encoded data removed]",
      "text/plain": [
       "<Figure size 576x576 with 3 Axes>"
      ]
     },
     "metadata": {
      "needs_background": "light"
     },
     "output_type": "display_data"
    }
   ],
   "source": [
    "fig, ax = plt.subplots(1, 3, figsize=(8, 8))\n",
    "fig.show()\n",
    "image, target = next(iterator)\n",
    "\n",
    "image = image[0]\n",
    "target = target[0, ..., 0]\n",
    "\n",
    "out_sigmoid = model.predict(x=tf.expand_dims(image, 0))\n",
    "\n",
    "# Get predicted class as the index corresponding to the maximum value in the vector probability\n",
    "# predicted_class = tf.cast(out_sigmoid > score_th, tf.int32)\n",
    "# predicted_class = predicted_class[0, ..., 0]\n",
    "predicted_class = tf.argmax(out_sigmoid, -1)\n",
    "\n",
    "out_sigmoid.shape\n",
    "\n",
    "predicted_class = predicted_class[0, ...]\n",
    "\n",
    "# Assign colors (just for visualization)\n",
    "target_img = np.zeros([target.shape[0], target.shape[1], 3])\n",
    "prediction_img = np.zeros([target.shape[0], target.shape[1], 3])\n",
    "\n",
    "target_img[np.where(target == 0)] = [0, 0, 0]\n",
    "for i in range(1, 3):\n",
    "  target_img[np.where(target == i)] = np.array(colors[i-1])[:3] * 255\n",
    "\n",
    "prediction_img[np.where(predicted_class == 0)] = [0, 0, 0]\n",
    "for i in range(1, 3):\n",
    "  prediction_img[np.where(predicted_class == i)] = np.array(colors[i-1])[:3] * 255\n",
    "\n",
    "ax[0].imshow(np.uint8(image))\n",
    "ax[1].imshow(np.uint8(target_img))\n",
    "ax[2].imshow(np.uint8(prediction_img))\n",
    "\n",
    "fig.canvas.draw()\n",
    "time.sleep(1)"
   ]
  },
  {
   "cell_type": "code",
   "execution_count": 17,
   "metadata": {},
   "outputs": [
    {
     "data": {
      "text/plain": [
       "<tensorflow.python.training.tracking.util.CheckpointLoadStatus at 0x20122f46888>"
      ]
     },
     "execution_count": 17,
     "metadata": {},
     "output_type": "execute_result"
    },
    {
     "name": "stdout",
     "output_type": "stream",
     "text": [
      ".jpg\n",
      "WARNING:tensorflow:From <ipython-input-17-236fe7640a6c>:32: Sequential.predict_classes (from tensorflow.python.keras.engine.sequential) is deprecated and will be removed after 2021-01-01.\n",
      "Instructions for updating:\n",
      "Please use instead:* `np.argmax(model.predict(x), axis=-1)`,   if your model does multi-class classification   (e.g. if it uses a `softmax` last-layer activation).* `(model.predict(x) > 0.5).astype(\"int32\")`,   if your model does binary classification   (e.g. if it uses a `sigmoid` last-layer activation).\n",
      ".jpg\n",
      ".jpg\n",
      ".jpg\n",
      ".png\n",
      ".png\n",
      ".jpg\n",
      ".jpg\n"
     ]
    }
   ],
   "source": [
    "#model.load_weights(filepath='C:\\\\Users\\\\ASUS\\\\Documents\\\\Università\\\\ANNDL\\\\A2NDLSegmentation\\\\Notebook\\\\multiclass_exps\\\\CNN_Dec09_13-38-36\\\\ckpts\\\\cp_28.ckpt')\n",
    "\n",
    "\n",
    "submission_dict = {} \n",
    "\n",
    "for i in range(0,8):\n",
    "    image_filenames = next(os.walk(os.path.join(test_dir[i],\"Images/\")))[2]\n",
    "\n",
    "    if i in range(4,6):\n",
    "        suffix = \".png\"\n",
    "    else:\n",
    "        suffix = \".jpg\"\n",
    "    \n",
    "    print (suffix)\n",
    "    for image_name in image_filenames:\n",
    "    \n",
    "    \n",
    "        image_name=image_name[:-4]\n",
    "        img = Image.open(os.path.join(test_dir[i], 'Images', image_name + suffix))\n",
    "        #mask = rme.read_rgb_mask(os.path.join(self.dataset_dir, 'Masks', curr_filename + '.png'))\n",
    "\n",
    "        # Resize image and mask\n",
    "        img = img.resize([img_w,img_h])\n",
    "        \n",
    "\n",
    "        \n",
    "        # mask = mask.resize(self.out_shape)\n",
    "    \n",
    "        img_arr = preprocess_input(np.array(img))\n",
    "    \n",
    "        # load mask <- HERE you should have your segmentation model instead\n",
    "        mask_arr = model.predict_classes(x=tf.expand_dims(img_arr, 0))\n",
    "\n",
    "    \n",
    "        submission_dict[image_name] = {}\n",
    "        submission_dict[image_name]['shape'] = [img_h,img_w]\n",
    "        submission_dict[image_name]['team'] = teams[math.floor(i/2)]\n",
    "        submission_dict[image_name]['crop'] = crops[i%2]\n",
    "        submission_dict[image_name]['segmentation'] = {}\n",
    "\n",
    "        # RLE encoding\n",
    "        # crop\n",
    "        rle_encoded_crop = ps.rle_encode(mask_arr == 1)\n",
    "        # weed\n",
    "        rle_encoded_weed = ps.rle_encode(mask_arr == 2)\n",
    "\n",
    "        submission_dict[image_name]['segmentation']['crop'] = rle_encoded_crop\n",
    "        submission_dict[image_name]['segmentation']['weed'] = rle_encoded_weed\n",
    "\n",
    "        # Please notice that in this example we have a single prediction.\n",
    "        # For the competition you have to provide segmentation for each of\n",
    "        # the test images.\n",
    "\n",
    "        # Finally, save the results into the submission.json file\n",
    "with open(os.path.join(dataset_dir[0],\"submission.json\"), 'w') as f:\n",
    "    json.dump(submission_dict, f)\n",
    "    \n",
    "    "
   ]
  },
  {
   "cell_type": "markdown",
   "metadata": {},
   "source": [
    "image_filenames = next(os.walk(os.path.join(test_dir,\"Images/\")))[2]\n",
    "\n",
    "for image_name in image_filenames:\n",
    "    image_name=image_name[:-4]\n",
    "    img = Image.open(os.path.join(test_dir, 'Images', image_name + '.jpg'))\n",
    "    #mask = rme.read_rgb_mask(os.path.join(self.dataset_dir, 'Masks', curr_filename + '.png'))\n",
    "\n",
    "    # Resize image and mask\n",
    "    img = img.resize([img_w,img_h])\n",
    "        \n",
    "\n",
    "        \n",
    "    # mask = mask.resize(self.out_shape)\n",
    "    \n",
    "    img_arr = np.array(img)\n",
    "    model.predict(x=tf.expand_dims(img_arr, 0))"
   ]
  },
  {
   "cell_type": "code",
   "execution_count": 18,
   "metadata": {},
   "outputs": [
    {
     "data": {
      "text/plain": [
       "1536"
      ]
     },
     "execution_count": 18,
     "metadata": {},
     "output_type": "execute_result"
    }
   ],
   "source": [
    "img_h"
   ]
  },
  {
   "cell_type": "code",
   "execution_count": null,
   "metadata": {},
   "outputs": [],
   "source": [
    "img_w"
   ]
  },
  {
   "cell_type": "code",
   "execution_count": 26,
   "metadata": {},
   "outputs": [
    {
     "name": "stderr",
     "output_type": "stream",
     "text": [
      "C:\\Users\\ASUS\\anaconda3\\envs\\tf_env\\lib\\site-packages\\ipykernel_launcher.py:2: UserWarning: Matplotlib is currently using module://ipykernel.pylab.backend_inline, which is a non-GUI backend, so cannot show the figure.\n",
      "  \n"
     ]
    },
    {
     "data": {
      "text/plain": [
       "(1, 1536, 2048, 3)"
      ]
     },
     "execution_count": 26,
     "metadata": {},
     "output_type": "execute_result"
    },
    {
     "data": {
      "text/plain": [
       "<matplotlib.image.AxesImage at 0x16db7420948>"
      ]
     },
     "execution_count": 26,
     "metadata": {},
     "output_type": "execute_result"
    },
    {
     "data": {
      "text/plain": [
       "<matplotlib.image.AxesImage at 0x16db3beb488>"
      ]
     },
     "execution_count": 26,
     "metadata": {},
     "output_type": "execute_result"
    },
    {
     "data": {
      "image/png": "[encoded data removed]",
      "text/plain": [
       "<Figure size 576x576 with 2 Axes>"
      ]
     },
     "metadata": {
      "needs_background": "light"
     },
     "output_type": "display_data"
    }
   ],
   "source": [
    "fig, ax = plt.subplots(1, 2, figsize=(8, 8))\n",
    "fig.show()\n",
    "\n",
    "image = Image.open(os.path.join(cwd,'Test_Dev/Bipbip/Mais/Images', 'Bipbip_mais_im_02211.jpg'))\n",
    "\n",
    "image = preprocess_input(np.array(image))\n",
    "\n",
    "\n",
    "out_sigmoid = model.predict(x=tf.expand_dims(image, 0))\n",
    "\n",
    "# Get predicted class as the index corresponding to the maximum value in the vector probability\n",
    "# predicted_class = tf.cast(out_sigmoid > score_th, tf.int32)\n",
    "# predicted_class = predicted_class[0, ..., 0]\n",
    "predicted_class = tf.argmax(out_sigmoid, -1)\n",
    "\n",
    "out_sigmoid.shape\n",
    "\n",
    "predicted_class = predicted_class[0, ...]\n",
    "\n",
    "# Assign colors (just for visualization)\n",
    "prediction_img = np.zeros([target.shape[0], target.shape[1], 3])\n",
    "\n",
    "\n",
    "\n",
    "prediction_img[np.where(predicted_class == 0)] = [0, 0, 0]\n",
    "for i in range(1, 3):\n",
    "  prediction_img[np.where(predicted_class == i)] = np.array(colors[i-1])[:3] * 255\n",
    "\n",
    "ax[0].imshow(np.uint8(image))\n",
    "ax[1].imshow(np.uint8(prediction_img))\n",
    "\n",
    "fig.canvas.draw()\n",
    "time.sleep(1)"
   ]
  },
  {
   "cell_type": "code",
   "execution_count": 31,
   "metadata": {},
   "outputs": [
    {
     "data": {
      "text/plain": [
       "(TensorSpec(shape=(1536, 2048, 3), dtype=tf.float32, name=None),\n",
       " TensorSpec(shape=(1536, 2048, 1), dtype=tf.float32, name=None))"
      ]
     },
     "execution_count": 31,
     "metadata": {},
     "output_type": "execute_result"
    }
   ],
   "source": []
  },
  {
   "cell_type": "code",
   "execution_count": null,
   "metadata": {},
   "outputs": [],
   "source": []
  }
 ],
 "metadata": {
  "kernelspec": {
   "display_name": "Python 3",
   "language": "python",
   "name": "python3"
  },
  "language_info": {
   "codemirror_mode": {
    "name": "ipython",
    "version": 3
   },
   "file_extension": ".py",
   "mimetype": "text/x-python",
   "name": "python",
   "nbconvert_exporter": "python",
   "pygments_lexer": "ipython3",
   "version": "3.7.9"
  }
 },
 "nbformat": 4,
 "nbformat_minor": 4
}
