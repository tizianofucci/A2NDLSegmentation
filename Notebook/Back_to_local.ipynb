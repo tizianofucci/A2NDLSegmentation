{
 "cells": [
  {
   "cell_type": "markdown",
   "metadata": {
    "colab_type": "text",
    "id": "view-in-github"
   },
   "source": [
    "<a href=\"https://colab.research.google.com/github/tizianofucci/A2NDLSegmentation/blob/main/Notebook/colab.ipynb\" target=\"_parent\"><img src=\"https://colab.research.google.com/assets/colab-badge.svg\" alt=\"Open In Colab\"/></a>"
   ]
  },
  {
   "cell_type": "code",
   "execution_count": 1,
   "metadata": {
    "id": "I5FnwOggnFIl"
   },
   "outputs": [],
   "source": [
    "from IPython.core.interactiveshell import InteractiveShell\n",
    "InteractiveShell.ast_node_interactivity = \"all\""
   ]
  },
  {
   "cell_type": "code",
   "execution_count": 2,
   "metadata": {
    "id": "tOBDSA9BnFIx"
   },
   "outputs": [],
   "source": [
    "import os\n",
    "\n",
    "# os.environ[\"CUDA_VISIBLE_DEVICES\"]=\"-1\" \n",
    "import tensorflow as tf\n",
    "import numpy as np\n",
    "\n",
    "# Set the seed for random operations. \n",
    "# This let our experiments to be reproducible. \n",
    "SEED = 1234\n",
    "tf.random.set_seed(SEED)  "
   ]
  },
  {
   "cell_type": "code",
   "execution_count": 3,
   "metadata": {
    "id": "bns18Nm7oORk"
   },
   "outputs": [],
   "source": [
    "cwd = os.getcwd()"
   ]
  },
  {
   "cell_type": "markdown",
   "metadata": {
    "id": "mH3lzlVqnFI2"
   },
   "source": [
    "# Example: Image Segmentation\n",
    "## Build segmentation"
   ]
  },
  {
   "cell_type": "code",
   "execution_count": 4,
   "metadata": {
    "id": "4N88wG50nFI3"
   },
   "outputs": [],
   "source": [
    "import starting_kit.read_mask_example as rme\n",
    "import starting_kit.prepare_submission as ps\n",
    "import shutil\n",
    "import random\n",
    "import json\n",
    "import math\n",
    "\n",
    "SEED = 1234\n",
    "tf.random.set_seed(SEED)  \n",
    "\n",
    "# Get current working directory\n",
    "cwd = os.path.join(os.path.dirname(os.getcwd()),\"Development_Dataset\")\n",
    "\n",
    "test_dir = {}\n",
    "dataset_dir = {}\n",
    "patches_dir = {}\n",
    "\n",
    "dataset_dir[0] = os.path.join(cwd,'Training/Bipbip/Mais')\n",
    "dataset_dir[1] = os.path.join(cwd,'Training/Bipbip/Haricot')\n",
    "\n",
    "patches_dir[0] = '/content/drive/MyDrive/Mais'\n",
    "patches_dir[1] = '/content/drive/MyDrive/Haricot'\n",
    "\n",
    "test_dir[0] = os.path.join(cwd,'Test_Dev/Bipbip/Mais')\n",
    "test_dir[1] = os.path.join(cwd,'Test_Dev/Bipbip/Haricot')\n",
    "test_dir[2] = os.path.join(cwd,'Test_Dev/Pead/Mais')\n",
    "test_dir[3] = os.path.join(cwd,'Test_Dev/Pead/Haricot')\n",
    "test_dir[4] = os.path.join(cwd,'Test_Dev/Roseau/Mais')\n",
    "test_dir[5] = os.path.join(cwd,'Test_Dev/Roseau/Haricot')\n",
    "test_dir[6] = os.path.join(cwd,'Test_Dev/Weedelec/Mais')\n",
    "test_dir[7] = os.path.join(cwd,'Test_Dev/Weedelec/Haricot')\n",
    "\n",
    "crops = {}\n",
    "\n",
    "crops[0] = \"Mais\"\n",
    "crops[1] = \"Haricot\"\n",
    "\n",
    "teams = {}\n",
    "\n",
    "teams[0] = \"Bipbip\"\n",
    "teams[1] = \"Pead\"\n",
    "teams[2] = \"Roseau\"\n",
    "teams[3] = \"Weedelec\"\n"
   ]
  },
  {
   "cell_type": "code",
   "execution_count": 5,
   "metadata": {
    "colab": {
     "base_uri": "https://localhost:8080/"
    },
    "id": "PHYiQhjvRgb1",
    "outputId": "d219da04-bed3-4b69-d867-64aa6a5409ff"
   },
   "outputs": [
    {
     "name": "stdout",
     "output_type": "stream",
     "text": [
      "{0: 'D:\\\\Uni\\\\Artificial Neural Networks and Deep Learning\\\\Kaggle\\\\A2NDLSegmentation\\\\Development_Dataset\\\\Training/Bipbip/Mais', 1: 'D:\\\\Uni\\\\Artificial Neural Networks and Deep Learning\\\\Kaggle\\\\A2NDLSegmentation\\\\Development_Dataset\\\\Training/Bipbip/Haricot'}\n",
      "{0: 'D:\\\\Uni\\\\Artificial Neural Networks and Deep Learning\\\\Kaggle\\\\A2NDLSegmentation\\\\Development_Dataset\\\\Test_Dev/Bipbip/Mais', 1: 'D:\\\\Uni\\\\Artificial Neural Networks and Deep Learning\\\\Kaggle\\\\A2NDLSegmentation\\\\Development_Dataset\\\\Test_Dev/Bipbip/Haricot', 2: 'D:\\\\Uni\\\\Artificial Neural Networks and Deep Learning\\\\Kaggle\\\\A2NDLSegmentation\\\\Development_Dataset\\\\Test_Dev/Pead/Mais', 3: 'D:\\\\Uni\\\\Artificial Neural Networks and Deep Learning\\\\Kaggle\\\\A2NDLSegmentation\\\\Development_Dataset\\\\Test_Dev/Pead/Haricot', 4: 'D:\\\\Uni\\\\Artificial Neural Networks and Deep Learning\\\\Kaggle\\\\A2NDLSegmentation\\\\Development_Dataset\\\\Test_Dev/Roseau/Mais', 5: 'D:\\\\Uni\\\\Artificial Neural Networks and Deep Learning\\\\Kaggle\\\\A2NDLSegmentation\\\\Development_Dataset\\\\Test_Dev/Roseau/Haricot', 6: 'D:\\\\Uni\\\\Artificial Neural Networks and Deep Learning\\\\Kaggle\\\\A2NDLSegmentation\\\\Development_Dataset\\\\Test_Dev/Weedelec/Mais', 7: 'D:\\\\Uni\\\\Artificial Neural Networks and Deep Learning\\\\Kaggle\\\\A2NDLSegmentation\\\\Development_Dataset\\\\Test_Dev/Weedelec/Haricot'}\n"
     ]
    }
   ],
   "source": [
    "print(dataset_dir)\n",
    "print(test_dir)"
   ]
  },
  {
   "cell_type": "code",
   "execution_count": null,
   "metadata": {
    "id": "13iz41XcOf1g"
   },
   "outputs": [],
   "source": []
  },
  {
   "cell_type": "markdown",
   "metadata": {
    "id": "dr1GxIkhID6v"
   },
   "source": [
    "from PIL import Image\n",
    "import shutil\n",
    "\n",
    "tf.compat.v1.disable_eager_execution()\n",
    "img_h_ = 1536\n",
    "img_w_ = 2048\n",
    "\n",
    "\n",
    "img_h = 768\n",
    "img_w = 512\n",
    "\n",
    "create_patches = True\n",
    "\n",
    "if (create_patches == True) :\n",
    "  for i in range(0,2):\n",
    "      image_filenames = next(os.walk(os.path.join(dataset_dir[i],\"Images/\")))[2]\n",
    "      for image_name in image_filenames:\n",
    "      \n",
    "      \n",
    "      \n",
    "          image_name=image_name[:-4]\n",
    "          img = Image.open(os.path.join(dataset_dir[i], 'Images', image_name + \".jpg\"))\n",
    "          mask = Image.open(os.path.join(dataset_dir[i], 'Masks', image_name + '.png'))\n",
    "\n",
    "          # Resize image and mask\n",
    "          img = img.resize([img_w_,img_h_])\n",
    "          \n",
    "          img_arr = tf.expand_dims(np.array(img), 0)\n",
    "          \n",
    "\n",
    "\n",
    "          mask_arr = tf.expand_dims(np.array(mask), 0)\n",
    "\n",
    "\n",
    "\n",
    "          patches = tf.image.extract_patches(images=img_arr,\n",
    "                            sizes=[1, img_h, img_w, 1],\n",
    "                            strides=[1, img_h-10, img_w-10, 1],\n",
    "                            rates=[1, 1, 1, 1],\n",
    "                            padding='VALID')\n",
    "          \n",
    "          patches_mask = tf.image.extract_patches(images=mask_arr,\n",
    "                            sizes=[1, img_h, img_w, 1],\n",
    "                            strides=[1, img_h-10, img_w-10, 1],\n",
    "                            rates=[1, 1, 1, 1],\n",
    "                            padding='VALID')\n",
    "          patches = tf.reshape(patches, [8, 768, 512, 3])\n",
    "\n",
    "          patches_mask = tf.reshape(patches_mask, [8, 768, 512, 3])\n",
    "\n",
    "\n",
    "          for j in range(0,8):\n",
    "            image = tf.io.encode_jpeg(patches[j])\n",
    "            writer = tf.io.write_file(os.path.join(patches_dir[i], 'Images',image_name+'patch'+str(j)+'.jpg'),image)\n",
    "            with tf.compat.v1.Session() as sess:\n",
    "              sess.run(writer)\n",
    "\n",
    "            msk = tf.io.encode_png(patches_mask[j])\n",
    "            writer = tf.io.write_file(os.path.join(patches_dir[i], 'Masks',image_name+'patch'+str(j)+'.png'), msk)\n",
    "            with tf.compat.v1.Session() as sess:\n",
    "              sess.run(writer)\n",
    "else:\n",
    "  for i in range(0,2):\n",
    "    \n",
    "    tf.compat.v1.gfile.DeleteRecursively(os.path.join(dataset_dir[i], 'Images'))\n",
    "    tf.compat.v1.gfile.DeleteRecursively(os.path.join(dataset_dir[i], 'Masks'))\n",
    "    shutil.copytree(os.path.join(patches_dir[i], 'Masks'), os.path.join(dataset_dir[i], 'Masks'))\n",
    "    shutil.copytree(os.path.join(patches_dir[i], 'Images'), os.path.join(dataset_dir[i], 'Images'))"
   ]
  },
  {
   "cell_type": "code",
   "execution_count": 6,
   "metadata": {
    "id": "o0m1fRXqzRNI"
   },
   "outputs": [],
   "source": [
    "#!zip -r \"/content/drive/MyDrive/New_Development_Dataset.zip\" \"/content/Development_Dataset\""
   ]
  },
  {
   "cell_type": "code",
   "execution_count": 7,
   "metadata": {
    "id": "hsieZk4aKhm6"
   },
   "outputs": [],
   "source": [
    "# ImageDataGenerator\n",
    "# ------------------\n",
    "\n",
    "from tensorflow.keras.preprocessing.image import ImageDataGenerator\n",
    "\n",
    "apply_data_augmentation = True\n",
    "\n",
    "# Create training ImageDataGenerator object\n",
    "# We need two different generators for images and corresponding masks\n",
    "if apply_data_augmentation:\n",
    "    img_data_gen = ImageDataGenerator(rotation_range=10,\n",
    "                                      width_shift_range=10,\n",
    "                                      height_shift_range=10,\n",
    "                                      zoom_range=0.3,\n",
    "                                      horizontal_flip=True,\n",
    "                                      vertical_flip=True,\n",
    "                                      fill_mode='reflect')\n",
    "    mask_data_gen = ImageDataGenerator(rotation_range=10,\n",
    "                                       width_shift_range=10,\n",
    "                                       height_shift_range=10,\n",
    "                                       zoom_range=0.3,\n",
    "                                       horizontal_flip=True,\n",
    "                                       vertical_flip=True,\n",
    "                                       fill_mode='reflect')"
   ]
  },
  {
   "cell_type": "code",
   "execution_count": 8,
   "metadata": {
    "id": "TyrdiIh_PWjB"
   },
   "outputs": [],
   "source": [
    "from PIL import Image\n",
    "\n",
    "class CustomDataset(tf.keras.utils.Sequence):\n",
    "\n",
    "    \"\"\"\n",
    "        CustomDataset inheriting from tf.keras.utils.Sequence.\n",
    "\n",
    "        3 main methods:\n",
    "          - __init__: save dataset params like directory, filenames..\n",
    "          - __len__: return the total number of samples in the dataset\n",
    "          - __getitem__: return a sample from the dataset\n",
    "\n",
    "        Note: \n",
    "          - the custom dataset return a single sample from the dataset. Then, we use \n",
    "            a tf.data.Dataset object to group samples into batches.\n",
    "          - in this case we have a different structure of the dataset in memory. \n",
    "            We have all the images in the same folder and the training and validation splits\n",
    "            are defined in text files.\n",
    "\n",
    "      \"\"\"\n",
    "\n",
    "    def __init__(self, dataset_dir, which_subset, img_generator=None, mask_generator=None, \n",
    "                preprocessing_function=None, out_shape=[256, 256]):\n",
    "        if which_subset == 'training':\n",
    "            subset_file = os.path.join(dataset_dir, 'Splits', 'train.txt')\n",
    "        elif which_subset == 'validation':\n",
    "            subset_file = os.path.join(dataset_dir, 'Splits', 'val.txt')\n",
    "    \n",
    "        with open(subset_file, 'r') as f:\n",
    "            lines = f.readlines()\n",
    "    \n",
    "        subset_filenames = []\n",
    "        for line in lines:\n",
    "            subset_filenames.append(line.strip()) \n",
    "\n",
    "        self.which_subset = which_subset\n",
    "        self.dataset_dir = dataset_dir\n",
    "        self.subset_filenames = subset_filenames\n",
    "        self.img_generator = img_generator\n",
    "        self.mask_generator = mask_generator\n",
    "        self.preprocessing_function = preprocessing_function\n",
    "        self.out_shape = out_shape\n",
    "\n",
    "    def __len__(self):\n",
    "        return len(self.subset_filenames)\n",
    "\n",
    "    def __getitem__(self, index):\n",
    "        # Read Image\n",
    "        curr_filename = self.subset_filenames[index]\n",
    "        img = Image.open(os.path.join(self.dataset_dir, 'Images', curr_filename + '.jpg'))\n",
    "        #mask = rme.read_rgb_mask(os.path.join(self.dataset_dir, 'Masks', curr_filename + '.png'))\n",
    "\n",
    "        # Resize image and mask\n",
    "        img = img.resize(self.out_shape)\n",
    "        \n",
    "\n",
    "        \n",
    "       # mask = mask.resize(self.out_shape)\n",
    "    \n",
    "        img_arr = np.array(img)\n",
    "        mask_arr = rme.read_rgb_mask(os.path.join(self.dataset_dir, 'Masks', curr_filename + '.png'),self.out_shape)\n",
    "        #print(mask_arr.shape)\n",
    "  \n",
    "\n",
    "        mask_arr = np.expand_dims(mask_arr, -1)\n",
    "\n",
    "        if self.which_subset == 'training':\n",
    "            if self.img_generator is not None and self.mask_generator is not None:\n",
    "                # Perform data augmentation\n",
    "                # We can get a random transformation from the ImageDataGenerator using get_random_transform\n",
    "                # and we can apply it to the image using apply_transform\n",
    "                img_t = self.img_generator.get_random_transform(img_arr.shape, seed=SEED)\n",
    "                mask_t = self.mask_generator.get_random_transform(mask_arr.shape, seed=SEED)\n",
    "                img_arr = self.img_generator.apply_transform(img_arr, img_t)\n",
    "                # ImageDataGenerator use bilinear interpolation for augmenting the images.\n",
    "                # Thus, when applied to the masks it will output 'interpolated classes', which\n",
    "                # is an unwanted behaviour. As a trick, we can transform each class mask \n",
    "                # separately and then we can cast to integer values (as in the binary segmentation notebook).\n",
    "                # Finally, we merge the augmented binary masks to obtain the final segmentation mask.\n",
    "                out_mask = np.zeros_like(mask_arr)\n",
    "                for c in np.unique(mask_arr):\n",
    "                    if c > 0:\n",
    "                        curr_class_arr = np.float32(mask_arr == c)\n",
    "                        curr_class_arr = self.mask_generator.apply_transform(curr_class_arr, mask_t)\n",
    "                        # from [0, 1] to {0, 1}\n",
    "                        curr_class_arr = np.uint8(curr_class_arr)\n",
    "                        # recover original class\n",
    "                        curr_class_arr = curr_class_arr * c \n",
    "                        out_mask += curr_class_arr\n",
    "        else:\n",
    "            out_mask = mask_arr\n",
    "    \n",
    "        if self.preprocessing_function is not None:\n",
    "            img_arr = self.preprocessing_function(img_arr)\n",
    "        \n",
    "        return img_arr, np.float32(out_mask)"
   ]
  },
  {
   "cell_type": "code",
   "execution_count": null,
   "metadata": {
    "id": "U_-iy88kXD52"
   },
   "outputs": [],
   "source": []
  },
  {
   "cell_type": "code",
   "execution_count": 9,
   "metadata": {
    "colab": {
     "base_uri": "https://localhost:8080/"
    },
    "id": "usz5SKPeQrOE",
    "outputId": "e24943c9-d2f9-4281-83e4-d357c55b1667"
   },
   "outputs": [
    {
     "data": {
      "text/plain": [
       "21"
      ]
     },
     "execution_count": 9,
     "metadata": {},
     "output_type": "execute_result"
    },
    {
     "data": {
      "text/plain": [
       "21"
      ]
     },
     "execution_count": 9,
     "metadata": {},
     "output_type": "execute_result"
    },
    {
     "data": {
      "text/plain": [
       "21"
      ]
     },
     "execution_count": 9,
     "metadata": {},
     "output_type": "execute_result"
    },
    {
     "data": {
      "text/plain": [
       "21"
      ]
     },
     "execution_count": 9,
     "metadata": {},
     "output_type": "execute_result"
    },
    {
     "data": {
      "text/plain": [
       "21"
      ]
     },
     "execution_count": 9,
     "metadata": {},
     "output_type": "execute_result"
    },
    {
     "data": {
      "text/plain": [
       "21"
      ]
     },
     "execution_count": 9,
     "metadata": {},
     "output_type": "execute_result"
    },
    {
     "data": {
      "text/plain": [
       "21"
      ]
     },
     "execution_count": 9,
     "metadata": {},
     "output_type": "execute_result"
    },
    {
     "data": {
      "text/plain": [
       "21"
      ]
     },
     "execution_count": 9,
     "metadata": {},
     "output_type": "execute_result"
    },
    {
     "data": {
      "text/plain": [
       "21"
      ]
     },
     "execution_count": 9,
     "metadata": {},
     "output_type": "execute_result"
    },
    {
     "data": {
      "text/plain": [
       "21"
      ]
     },
     "execution_count": 9,
     "metadata": {},
     "output_type": "execute_result"
    },
    {
     "data": {
      "text/plain": [
       "21"
      ]
     },
     "execution_count": 9,
     "metadata": {},
     "output_type": "execute_result"
    },
    {
     "data": {
      "text/plain": [
       "21"
      ]
     },
     "execution_count": 9,
     "metadata": {},
     "output_type": "execute_result"
    },
    {
     "data": {
      "text/plain": [
       "21"
      ]
     },
     "execution_count": 9,
     "metadata": {},
     "output_type": "execute_result"
    },
    {
     "data": {
      "text/plain": [
       "21"
      ]
     },
     "execution_count": 9,
     "metadata": {},
     "output_type": "execute_result"
    },
    {
     "data": {
      "text/plain": [
       "21"
      ]
     },
     "execution_count": 9,
     "metadata": {},
     "output_type": "execute_result"
    },
    {
     "data": {
      "text/plain": [
       "21"
      ]
     },
     "execution_count": 9,
     "metadata": {},
     "output_type": "execute_result"
    },
    {
     "data": {
      "text/plain": [
       "21"
      ]
     },
     "execution_count": 9,
     "metadata": {},
     "output_type": "execute_result"
    },
    {
     "data": {
      "text/plain": [
       "21"
      ]
     },
     "execution_count": 9,
     "metadata": {},
     "output_type": "execute_result"
    },
    {
     "data": {
      "text/plain": [
       "21"
      ]
     },
     "execution_count": 9,
     "metadata": {},
     "output_type": "execute_result"
    },
    {
     "data": {
      "text/plain": [
       "21"
      ]
     },
     "execution_count": 9,
     "metadata": {},
     "output_type": "execute_result"
    },
    {
     "data": {
      "text/plain": [
       "21"
      ]
     },
     "execution_count": 9,
     "metadata": {},
     "output_type": "execute_result"
    },
    {
     "data": {
      "text/plain": [
       "21"
      ]
     },
     "execution_count": 9,
     "metadata": {},
     "output_type": "execute_result"
    },
    {
     "data": {
      "text/plain": [
       "21"
      ]
     },
     "execution_count": 9,
     "metadata": {},
     "output_type": "execute_result"
    },
    {
     "data": {
      "text/plain": [
       "21"
      ]
     },
     "execution_count": 9,
     "metadata": {},
     "output_type": "execute_result"
    },
    {
     "data": {
      "text/plain": [
       "21"
      ]
     },
     "execution_count": 9,
     "metadata": {},
     "output_type": "execute_result"
    },
    {
     "data": {
      "text/plain": [
       "21"
      ]
     },
     "execution_count": 9,
     "metadata": {},
     "output_type": "execute_result"
    },
    {
     "data": {
      "text/plain": [
       "21"
      ]
     },
     "execution_count": 9,
     "metadata": {},
     "output_type": "execute_result"
    },
    {
     "data": {
      "text/plain": [
       "21"
      ]
     },
     "execution_count": 9,
     "metadata": {},
     "output_type": "execute_result"
    },
    {
     "data": {
      "text/plain": [
       "21"
      ]
     },
     "execution_count": 9,
     "metadata": {},
     "output_type": "execute_result"
    },
    {
     "data": {
      "text/plain": [
       "21"
      ]
     },
     "execution_count": 9,
     "metadata": {},
     "output_type": "execute_result"
    },
    {
     "data": {
      "text/plain": [
       "21"
      ]
     },
     "execution_count": 9,
     "metadata": {},
     "output_type": "execute_result"
    },
    {
     "data": {
      "text/plain": [
       "21"
      ]
     },
     "execution_count": 9,
     "metadata": {},
     "output_type": "execute_result"
    },
    {
     "data": {
      "text/plain": [
       "21"
      ]
     },
     "execution_count": 9,
     "metadata": {},
     "output_type": "execute_result"
    },
    {
     "data": {
      "text/plain": [
       "21"
      ]
     },
     "execution_count": 9,
     "metadata": {},
     "output_type": "execute_result"
    },
    {
     "data": {
      "text/plain": [
       "21"
      ]
     },
     "execution_count": 9,
     "metadata": {},
     "output_type": "execute_result"
    },
    {
     "data": {
      "text/plain": [
       "21"
      ]
     },
     "execution_count": 9,
     "metadata": {},
     "output_type": "execute_result"
    },
    {
     "data": {
      "text/plain": [
       "21"
      ]
     },
     "execution_count": 9,
     "metadata": {},
     "output_type": "execute_result"
    },
    {
     "data": {
      "text/plain": [
       "21"
      ]
     },
     "execution_count": 9,
     "metadata": {},
     "output_type": "execute_result"
    },
    {
     "data": {
      "text/plain": [
       "21"
      ]
     },
     "execution_count": 9,
     "metadata": {},
     "output_type": "execute_result"
    },
    {
     "data": {
      "text/plain": [
       "21"
      ]
     },
     "execution_count": 9,
     "metadata": {},
     "output_type": "execute_result"
    },
    {
     "data": {
      "text/plain": [
       "21"
      ]
     },
     "execution_count": 9,
     "metadata": {},
     "output_type": "execute_result"
    },
    {
     "data": {
      "text/plain": [
       "21"
      ]
     },
     "execution_count": 9,
     "metadata": {},
     "output_type": "execute_result"
    },
    {
     "data": {
      "text/plain": [
       "21"
      ]
     },
     "execution_count": 9,
     "metadata": {},
     "output_type": "execute_result"
    },
    {
     "data": {
      "text/plain": [
       "21"
      ]
     },
     "execution_count": 9,
     "metadata": {},
     "output_type": "execute_result"
    },
    {
     "data": {
      "text/plain": [
       "21"
      ]
     },
     "execution_count": 9,
     "metadata": {},
     "output_type": "execute_result"
    },
    {
     "data": {
      "text/plain": [
       "21"
      ]
     },
     "execution_count": 9,
     "metadata": {},
     "output_type": "execute_result"
    },
    {
     "data": {
      "text/plain": [
       "21"
      ]
     },
     "execution_count": 9,
     "metadata": {},
     "output_type": "execute_result"
    },
    {
     "data": {
      "text/plain": [
       "21"
      ]
     },
     "execution_count": 9,
     "metadata": {},
     "output_type": "execute_result"
    },
    {
     "data": {
      "text/plain": [
       "21"
      ]
     },
     "execution_count": 9,
     "metadata": {},
     "output_type": "execute_result"
    },
    {
     "data": {
      "text/plain": [
       "21"
      ]
     },
     "execution_count": 9,
     "metadata": {},
     "output_type": "execute_result"
    },
    {
     "data": {
      "text/plain": [
       "21"
      ]
     },
     "execution_count": 9,
     "metadata": {},
     "output_type": "execute_result"
    },
    {
     "data": {
      "text/plain": [
       "21"
      ]
     },
     "execution_count": 9,
     "metadata": {},
     "output_type": "execute_result"
    },
    {
     "data": {
      "text/plain": [
       "21"
      ]
     },
     "execution_count": 9,
     "metadata": {},
     "output_type": "execute_result"
    },
    {
     "data": {
      "text/plain": [
       "21"
      ]
     },
     "execution_count": 9,
     "metadata": {},
     "output_type": "execute_result"
    },
    {
     "data": {
      "text/plain": [
       "21"
      ]
     },
     "execution_count": 9,
     "metadata": {},
     "output_type": "execute_result"
    },
    {
     "data": {
      "text/plain": [
       "21"
      ]
     },
     "execution_count": 9,
     "metadata": {},
     "output_type": "execute_result"
    },
    {
     "data": {
      "text/plain": [
       "21"
      ]
     },
     "execution_count": 9,
     "metadata": {},
     "output_type": "execute_result"
    },
    {
     "data": {
      "text/plain": [
       "21"
      ]
     },
     "execution_count": 9,
     "metadata": {},
     "output_type": "execute_result"
    },
    {
     "data": {
      "text/plain": [
       "21"
      ]
     },
     "execution_count": 9,
     "metadata": {},
     "output_type": "execute_result"
    },
    {
     "data": {
      "text/plain": [
       "21"
      ]
     },
     "execution_count": 9,
     "metadata": {},
     "output_type": "execute_result"
    },
    {
     "data": {
      "text/plain": [
       "21"
      ]
     },
     "execution_count": 9,
     "metadata": {},
     "output_type": "execute_result"
    },
    {
     "data": {
      "text/plain": [
       "21"
      ]
     },
     "execution_count": 9,
     "metadata": {},
     "output_type": "execute_result"
    },
    {
     "data": {
      "text/plain": [
       "21"
      ]
     },
     "execution_count": 9,
     "metadata": {},
     "output_type": "execute_result"
    },
    {
     "data": {
      "text/plain": [
       "21"
      ]
     },
     "execution_count": 9,
     "metadata": {},
     "output_type": "execute_result"
    },
    {
     "data": {
      "text/plain": [
       "21"
      ]
     },
     "execution_count": 9,
     "metadata": {},
     "output_type": "execute_result"
    },
    {
     "data": {
      "text/plain": [
       "21"
      ]
     },
     "execution_count": 9,
     "metadata": {},
     "output_type": "execute_result"
    },
    {
     "data": {
      "text/plain": [
       "21"
      ]
     },
     "execution_count": 9,
     "metadata": {},
     "output_type": "execute_result"
    },
    {
     "data": {
      "text/plain": [
       "21"
      ]
     },
     "execution_count": 9,
     "metadata": {},
     "output_type": "execute_result"
    },
    {
     "data": {
      "text/plain": [
       "21"
      ]
     },
     "execution_count": 9,
     "metadata": {},
     "output_type": "execute_result"
    },
    {
     "data": {
      "text/plain": [
       "21"
      ]
     },
     "execution_count": 9,
     "metadata": {},
     "output_type": "execute_result"
    },
    {
     "data": {
      "text/plain": [
       "21"
      ]
     },
     "execution_count": 9,
     "metadata": {},
     "output_type": "execute_result"
    },
    {
     "data": {
      "text/plain": [
       "21"
      ]
     },
     "execution_count": 9,
     "metadata": {},
     "output_type": "execute_result"
    },
    {
     "data": {
      "text/plain": [
       "21"
      ]
     },
     "execution_count": 9,
     "metadata": {},
     "output_type": "execute_result"
    },
    {
     "data": {
      "text/plain": [
       "21"
      ]
     },
     "execution_count": 9,
     "metadata": {},
     "output_type": "execute_result"
    },
    {
     "data": {
      "text/plain": [
       "21"
      ]
     },
     "execution_count": 9,
     "metadata": {},
     "output_type": "execute_result"
    },
    {
     "data": {
      "text/plain": [
       "21"
      ]
     },
     "execution_count": 9,
     "metadata": {},
     "output_type": "execute_result"
    },
    {
     "data": {
      "text/plain": [
       "21"
      ]
     },
     "execution_count": 9,
     "metadata": {},
     "output_type": "execute_result"
    },
    {
     "data": {
      "text/plain": [
       "21"
      ]
     },
     "execution_count": 9,
     "metadata": {},
     "output_type": "execute_result"
    },
    {
     "data": {
      "text/plain": [
       "21"
      ]
     },
     "execution_count": 9,
     "metadata": {},
     "output_type": "execute_result"
    },
    {
     "data": {
      "text/plain": [
       "21"
      ]
     },
     "execution_count": 9,
     "metadata": {},
     "output_type": "execute_result"
    },
    {
     "data": {
      "text/plain": [
       "21"
      ]
     },
     "execution_count": 9,
     "metadata": {},
     "output_type": "execute_result"
    },
    {
     "data": {
      "text/plain": [
       "21"
      ]
     },
     "execution_count": 9,
     "metadata": {},
     "output_type": "execute_result"
    },
    {
     "data": {
      "text/plain": [
       "21"
      ]
     },
     "execution_count": 9,
     "metadata": {},
     "output_type": "execute_result"
    },
    {
     "data": {
      "text/plain": [
       "21"
      ]
     },
     "execution_count": 9,
     "metadata": {},
     "output_type": "execute_result"
    },
    {
     "data": {
      "text/plain": [
       "21"
      ]
     },
     "execution_count": 9,
     "metadata": {},
     "output_type": "execute_result"
    },
    {
     "data": {
      "text/plain": [
       "21"
      ]
     },
     "execution_count": 9,
     "metadata": {},
     "output_type": "execute_result"
    },
    {
     "data": {
      "text/plain": [
       "21"
      ]
     },
     "execution_count": 9,
     "metadata": {},
     "output_type": "execute_result"
    },
    {
     "data": {
      "text/plain": [
       "21"
      ]
     },
     "execution_count": 9,
     "metadata": {},
     "output_type": "execute_result"
    },
    {
     "data": {
      "text/plain": [
       "21"
      ]
     },
     "execution_count": 9,
     "metadata": {},
     "output_type": "execute_result"
    },
    {
     "data": {
      "text/plain": [
       "21"
      ]
     },
     "execution_count": 9,
     "metadata": {},
     "output_type": "execute_result"
    },
    {
     "data": {
      "text/plain": [
       "24"
      ]
     },
     "execution_count": 9,
     "metadata": {},
     "output_type": "execute_result"
    },
    {
     "data": {
      "text/plain": [
       "24"
      ]
     },
     "execution_count": 9,
     "metadata": {},
     "output_type": "execute_result"
    },
    {
     "data": {
      "text/plain": [
       "24"
      ]
     },
     "execution_count": 9,
     "metadata": {},
     "output_type": "execute_result"
    },
    {
     "data": {
      "text/plain": [
       "24"
      ]
     },
     "execution_count": 9,
     "metadata": {},
     "output_type": "execute_result"
    },
    {
     "data": {
      "text/plain": [
       "24"
      ]
     },
     "execution_count": 9,
     "metadata": {},
     "output_type": "execute_result"
    },
    {
     "data": {
      "text/plain": [
       "24"
      ]
     },
     "execution_count": 9,
     "metadata": {},
     "output_type": "execute_result"
    },
    {
     "data": {
      "text/plain": [
       "24"
      ]
     },
     "execution_count": 9,
     "metadata": {},
     "output_type": "execute_result"
    },
    {
     "data": {
      "text/plain": [
       "24"
      ]
     },
     "execution_count": 9,
     "metadata": {},
     "output_type": "execute_result"
    },
    {
     "data": {
      "text/plain": [
       "24"
      ]
     },
     "execution_count": 9,
     "metadata": {},
     "output_type": "execute_result"
    },
    {
     "data": {
      "text/plain": [
       "24"
      ]
     },
     "execution_count": 9,
     "metadata": {},
     "output_type": "execute_result"
    },
    {
     "data": {
      "text/plain": [
       "24"
      ]
     },
     "execution_count": 9,
     "metadata": {},
     "output_type": "execute_result"
    },
    {
     "data": {
      "text/plain": [
       "24"
      ]
     },
     "execution_count": 9,
     "metadata": {},
     "output_type": "execute_result"
    },
    {
     "data": {
      "text/plain": [
       "24"
      ]
     },
     "execution_count": 9,
     "metadata": {},
     "output_type": "execute_result"
    },
    {
     "data": {
      "text/plain": [
       "24"
      ]
     },
     "execution_count": 9,
     "metadata": {},
     "output_type": "execute_result"
    },
    {
     "data": {
      "text/plain": [
       "24"
      ]
     },
     "execution_count": 9,
     "metadata": {},
     "output_type": "execute_result"
    },
    {
     "data": {
      "text/plain": [
       "24"
      ]
     },
     "execution_count": 9,
     "metadata": {},
     "output_type": "execute_result"
    },
    {
     "data": {
      "text/plain": [
       "24"
      ]
     },
     "execution_count": 9,
     "metadata": {},
     "output_type": "execute_result"
    },
    {
     "data": {
      "text/plain": [
       "24"
      ]
     },
     "execution_count": 9,
     "metadata": {},
     "output_type": "execute_result"
    },
    {
     "data": {
      "text/plain": [
       "24"
      ]
     },
     "execution_count": 9,
     "metadata": {},
     "output_type": "execute_result"
    },
    {
     "data": {
      "text/plain": [
       "24"
      ]
     },
     "execution_count": 9,
     "metadata": {},
     "output_type": "execute_result"
    },
    {
     "data": {
      "text/plain": [
       "24"
      ]
     },
     "execution_count": 9,
     "metadata": {},
     "output_type": "execute_result"
    },
    {
     "data": {
      "text/plain": [
       "24"
      ]
     },
     "execution_count": 9,
     "metadata": {},
     "output_type": "execute_result"
    },
    {
     "data": {
      "text/plain": [
       "24"
      ]
     },
     "execution_count": 9,
     "metadata": {},
     "output_type": "execute_result"
    },
    {
     "data": {
      "text/plain": [
       "24"
      ]
     },
     "execution_count": 9,
     "metadata": {},
     "output_type": "execute_result"
    },
    {
     "data": {
      "text/plain": [
       "24"
      ]
     },
     "execution_count": 9,
     "metadata": {},
     "output_type": "execute_result"
    },
    {
     "data": {
      "text/plain": [
       "24"
      ]
     },
     "execution_count": 9,
     "metadata": {},
     "output_type": "execute_result"
    },
    {
     "data": {
      "text/plain": [
       "24"
      ]
     },
     "execution_count": 9,
     "metadata": {},
     "output_type": "execute_result"
    },
    {
     "data": {
      "text/plain": [
       "24"
      ]
     },
     "execution_count": 9,
     "metadata": {},
     "output_type": "execute_result"
    },
    {
     "data": {
      "text/plain": [
       "24"
      ]
     },
     "execution_count": 9,
     "metadata": {},
     "output_type": "execute_result"
    },
    {
     "data": {
      "text/plain": [
       "24"
      ]
     },
     "execution_count": 9,
     "metadata": {},
     "output_type": "execute_result"
    },
    {
     "data": {
      "text/plain": [
       "24"
      ]
     },
     "execution_count": 9,
     "metadata": {},
     "output_type": "execute_result"
    },
    {
     "data": {
      "text/plain": [
       "24"
      ]
     },
     "execution_count": 9,
     "metadata": {},
     "output_type": "execute_result"
    },
    {
     "data": {
      "text/plain": [
       "24"
      ]
     },
     "execution_count": 9,
     "metadata": {},
     "output_type": "execute_result"
    },
    {
     "data": {
      "text/plain": [
       "24"
      ]
     },
     "execution_count": 9,
     "metadata": {},
     "output_type": "execute_result"
    },
    {
     "data": {
      "text/plain": [
       "24"
      ]
     },
     "execution_count": 9,
     "metadata": {},
     "output_type": "execute_result"
    },
    {
     "data": {
      "text/plain": [
       "24"
      ]
     },
     "execution_count": 9,
     "metadata": {},
     "output_type": "execute_result"
    },
    {
     "data": {
      "text/plain": [
       "24"
      ]
     },
     "execution_count": 9,
     "metadata": {},
     "output_type": "execute_result"
    },
    {
     "data": {
      "text/plain": [
       "24"
      ]
     },
     "execution_count": 9,
     "metadata": {},
     "output_type": "execute_result"
    },
    {
     "data": {
      "text/plain": [
       "24"
      ]
     },
     "execution_count": 9,
     "metadata": {},
     "output_type": "execute_result"
    },
    {
     "data": {
      "text/plain": [
       "24"
      ]
     },
     "execution_count": 9,
     "metadata": {},
     "output_type": "execute_result"
    },
    {
     "data": {
      "text/plain": [
       "24"
      ]
     },
     "execution_count": 9,
     "metadata": {},
     "output_type": "execute_result"
    },
    {
     "data": {
      "text/plain": [
       "24"
      ]
     },
     "execution_count": 9,
     "metadata": {},
     "output_type": "execute_result"
    },
    {
     "data": {
      "text/plain": [
       "24"
      ]
     },
     "execution_count": 9,
     "metadata": {},
     "output_type": "execute_result"
    },
    {
     "data": {
      "text/plain": [
       "24"
      ]
     },
     "execution_count": 9,
     "metadata": {},
     "output_type": "execute_result"
    },
    {
     "data": {
      "text/plain": [
       "24"
      ]
     },
     "execution_count": 9,
     "metadata": {},
     "output_type": "execute_result"
    },
    {
     "data": {
      "text/plain": [
       "24"
      ]
     },
     "execution_count": 9,
     "metadata": {},
     "output_type": "execute_result"
    },
    {
     "data": {
      "text/plain": [
       "24"
      ]
     },
     "execution_count": 9,
     "metadata": {},
     "output_type": "execute_result"
    },
    {
     "data": {
      "text/plain": [
       "24"
      ]
     },
     "execution_count": 9,
     "metadata": {},
     "output_type": "execute_result"
    },
    {
     "data": {
      "text/plain": [
       "24"
      ]
     },
     "execution_count": 9,
     "metadata": {},
     "output_type": "execute_result"
    },
    {
     "data": {
      "text/plain": [
       "24"
      ]
     },
     "execution_count": 9,
     "metadata": {},
     "output_type": "execute_result"
    },
    {
     "data": {
      "text/plain": [
       "24"
      ]
     },
     "execution_count": 9,
     "metadata": {},
     "output_type": "execute_result"
    },
    {
     "data": {
      "text/plain": [
       "24"
      ]
     },
     "execution_count": 9,
     "metadata": {},
     "output_type": "execute_result"
    },
    {
     "data": {
      "text/plain": [
       "24"
      ]
     },
     "execution_count": 9,
     "metadata": {},
     "output_type": "execute_result"
    },
    {
     "data": {
      "text/plain": [
       "24"
      ]
     },
     "execution_count": 9,
     "metadata": {},
     "output_type": "execute_result"
    },
    {
     "data": {
      "text/plain": [
       "24"
      ]
     },
     "execution_count": 9,
     "metadata": {},
     "output_type": "execute_result"
    },
    {
     "data": {
      "text/plain": [
       "24"
      ]
     },
     "execution_count": 9,
     "metadata": {},
     "output_type": "execute_result"
    },
    {
     "data": {
      "text/plain": [
       "24"
      ]
     },
     "execution_count": 9,
     "metadata": {},
     "output_type": "execute_result"
    },
    {
     "data": {
      "text/plain": [
       "24"
      ]
     },
     "execution_count": 9,
     "metadata": {},
     "output_type": "execute_result"
    },
    {
     "data": {
      "text/plain": [
       "24"
      ]
     },
     "execution_count": 9,
     "metadata": {},
     "output_type": "execute_result"
    },
    {
     "data": {
      "text/plain": [
       "24"
      ]
     },
     "execution_count": 9,
     "metadata": {},
     "output_type": "execute_result"
    },
    {
     "data": {
      "text/plain": [
       "24"
      ]
     },
     "execution_count": 9,
     "metadata": {},
     "output_type": "execute_result"
    },
    {
     "data": {
      "text/plain": [
       "24"
      ]
     },
     "execution_count": 9,
     "metadata": {},
     "output_type": "execute_result"
    },
    {
     "data": {
      "text/plain": [
       "24"
      ]
     },
     "execution_count": 9,
     "metadata": {},
     "output_type": "execute_result"
    },
    {
     "data": {
      "text/plain": [
       "24"
      ]
     },
     "execution_count": 9,
     "metadata": {},
     "output_type": "execute_result"
    },
    {
     "data": {
      "text/plain": [
       "24"
      ]
     },
     "execution_count": 9,
     "metadata": {},
     "output_type": "execute_result"
    },
    {
     "data": {
      "text/plain": [
       "24"
      ]
     },
     "execution_count": 9,
     "metadata": {},
     "output_type": "execute_result"
    },
    {
     "data": {
      "text/plain": [
       "24"
      ]
     },
     "execution_count": 9,
     "metadata": {},
     "output_type": "execute_result"
    },
    {
     "data": {
      "text/plain": [
       "24"
      ]
     },
     "execution_count": 9,
     "metadata": {},
     "output_type": "execute_result"
    },
    {
     "data": {
      "text/plain": [
       "24"
      ]
     },
     "execution_count": 9,
     "metadata": {},
     "output_type": "execute_result"
    },
    {
     "data": {
      "text/plain": [
       "24"
      ]
     },
     "execution_count": 9,
     "metadata": {},
     "output_type": "execute_result"
    },
    {
     "data": {
      "text/plain": [
       "24"
      ]
     },
     "execution_count": 9,
     "metadata": {},
     "output_type": "execute_result"
    },
    {
     "data": {
      "text/plain": [
       "24"
      ]
     },
     "execution_count": 9,
     "metadata": {},
     "output_type": "execute_result"
    },
    {
     "data": {
      "text/plain": [
       "24"
      ]
     },
     "execution_count": 9,
     "metadata": {},
     "output_type": "execute_result"
    },
    {
     "data": {
      "text/plain": [
       "24"
      ]
     },
     "execution_count": 9,
     "metadata": {},
     "output_type": "execute_result"
    },
    {
     "data": {
      "text/plain": [
       "24"
      ]
     },
     "execution_count": 9,
     "metadata": {},
     "output_type": "execute_result"
    },
    {
     "data": {
      "text/plain": [
       "24"
      ]
     },
     "execution_count": 9,
     "metadata": {},
     "output_type": "execute_result"
    },
    {
     "data": {
      "text/plain": [
       "24"
      ]
     },
     "execution_count": 9,
     "metadata": {},
     "output_type": "execute_result"
    },
    {
     "data": {
      "text/plain": [
       "24"
      ]
     },
     "execution_count": 9,
     "metadata": {},
     "output_type": "execute_result"
    },
    {
     "data": {
      "text/plain": [
       "24"
      ]
     },
     "execution_count": 9,
     "metadata": {},
     "output_type": "execute_result"
    },
    {
     "data": {
      "text/plain": [
       "24"
      ]
     },
     "execution_count": 9,
     "metadata": {},
     "output_type": "execute_result"
    },
    {
     "data": {
      "text/plain": [
       "24"
      ]
     },
     "execution_count": 9,
     "metadata": {},
     "output_type": "execute_result"
    },
    {
     "data": {
      "text/plain": [
       "24"
      ]
     },
     "execution_count": 9,
     "metadata": {},
     "output_type": "execute_result"
    },
    {
     "data": {
      "text/plain": [
       "24"
      ]
     },
     "execution_count": 9,
     "metadata": {},
     "output_type": "execute_result"
    },
    {
     "data": {
      "text/plain": [
       "24"
      ]
     },
     "execution_count": 9,
     "metadata": {},
     "output_type": "execute_result"
    },
    {
     "data": {
      "text/plain": [
       "24"
      ]
     },
     "execution_count": 9,
     "metadata": {},
     "output_type": "execute_result"
    },
    {
     "data": {
      "text/plain": [
       "24"
      ]
     },
     "execution_count": 9,
     "metadata": {},
     "output_type": "execute_result"
    },
    {
     "data": {
      "text/plain": [
       "24"
      ]
     },
     "execution_count": 9,
     "metadata": {},
     "output_type": "execute_result"
    },
    {
     "data": {
      "text/plain": [
       "24"
      ]
     },
     "execution_count": 9,
     "metadata": {},
     "output_type": "execute_result"
    },
    {
     "data": {
      "text/plain": [
       "24"
      ]
     },
     "execution_count": 9,
     "metadata": {},
     "output_type": "execute_result"
    },
    {
     "data": {
      "text/plain": [
       "24"
      ]
     },
     "execution_count": 9,
     "metadata": {},
     "output_type": "execute_result"
    }
   ],
   "source": [
    "for j in range (0,2):\n",
    "    if not os.path.exists(os.path.join(dataset_dir[j],\"Splits/\")):\n",
    "        os.makedirs(os.path.join(dataset_dir[j],\"Splits/\"))\n",
    "\n",
    "\n",
    "    image_filenames = next(os.walk(os.path.join(dataset_dir[j],\"Images/\")))[2]\n",
    "    \n",
    "    val=[]\n",
    "    train=[]\n",
    "    \n",
    "    for image_name in image_filenames:\n",
    "        if 100*random.random() < 10:\n",
    "            val.append(image_name[:-4])\n",
    "        else:\n",
    "            train.append(image_name[:-4])\n",
    "    \n",
    "    with open(os.path.join(dataset_dir[j],\"Splits\",\"train.txt\"), 'w') as file:  # Use file to refer to the file object\n",
    "        for i in train:\n",
    "            file.write(str(i)+\"\\n\")\n",
    "    \n",
    "    with open(os.path.join(dataset_dir[j],\"Splits\",\"val.txt\"), 'w') as file:  # Use file to refer to the file object\n",
    "        for i in val:\n",
    "            file.write(str(i)+\"\\n\")\n",
    "\n",
    "   "
   ]
  },
  {
   "cell_type": "code",
   "execution_count": 10,
   "metadata": {
    "id": "JgpWhorBogdB"
   },
   "outputs": [],
   "source": [
    "from tensorflow.keras.applications.vgg16 import preprocess_input \n",
    "\n",
    "img_h = 768\n",
    "img_w = 512\n",
    "\n",
    "dataset = CustomDataset(dataset_dir[0], 'training', \n",
    "                        img_generator=img_data_gen, mask_generator=mask_data_gen,\n",
    "                        preprocessing_function=preprocess_input, out_shape=[img_w,img_h])\n",
    "\n",
    "#dataset1 = CustomDataset(dataset_dir[1], 'training', \n",
    "#                        img_generator=img_data_gen, mask_generator=mask_data_gen,\n",
    "#                        preprocessing_function=None, out_shape=[img_w,img_h])\n",
    "\n",
    "dataset_valid = CustomDataset(dataset_dir[0], 'validation', \n",
    "                              preprocessing_function=preprocess_input,out_shape=[img_w,img_h])\n",
    "\n",
    "#dataset_valid1 = CustomDataset(dataset_dir[1], 'validation', \n",
    "#                              preprocessing_function=None,out_shape=[img_w,img_h])\n"
   ]
  },
  {
   "cell_type": "code",
   "execution_count": 11,
   "metadata": {
    "id": "HOBabUbmnFJE"
   },
   "outputs": [],
   "source": [
    "\n",
    "train_dataset0 = tf.data.Dataset.from_generator(lambda: dataset,\n",
    "                                               output_types=(tf.float32, tf.float32),\n",
    "                                               output_shapes=([img_h, img_w, 3], [img_h, img_w, 1]))\n",
    "\n",
    "#train_dataset1 = tf.data.Dataset.from_generator(lambda: dataset1,\n",
    "#                                               output_types=(tf.float32, tf.float32),\n",
    "#                                               output_shapes=([img_h, img_w, 3], [img_h, img_w, 1]))\n",
    "\n",
    "#train_dataset = train_dataset0.concatenate(train_dataset1)\n",
    "\n",
    "train_dataset0 = train_dataset0.batch(1)\n",
    "\n",
    "train_dataset0 = train_dataset0.repeat()\n",
    "\n",
    "valid_dataset0 = tf.data.Dataset.from_generator(lambda: dataset_valid,\n",
    "                                               output_types=(tf.float32, tf.float32),\n",
    "                                               output_shapes=([img_h, img_w, 3], [img_h, img_w, 1]))\n",
    "#valid_dataset1 = tf.data.Dataset.from_generator(lambda: dataset_valid1,\n",
    "#                                               output_types=(tf.float32, tf.float32),\n",
    "#                                               output_shapes=([img_h, img_w, 3], [img_h, img_w, 1]))\n",
    "\n",
    "#valid_dataset = valid_dataset0.concatenate(valid_dataset1)\n",
    "\n",
    "valid_dataset0 = valid_dataset0.batch(1)\n",
    "\n",
    "valid_dataset0 = valid_dataset0.repeat()"
   ]
  },
  {
   "cell_type": "code",
   "execution_count": 12,
   "metadata": {
    "id": "9eunbPwWqPnB"
   },
   "outputs": [],
   "source": [
    "# Let's test data generator\n",
    "# -------------------------\n",
    "\n",
    "import time\n",
    "from matplotlib import cm\n",
    "import matplotlib.pyplot as plt\n",
    "\n",
    "%matplotlib inline\n",
    "\n",
    "\n",
    "# Assign a color to each class\n",
    "evenly_spaced_interval = np.linspace(0, 1, 3)\n",
    "colors = [cm.rainbow(x) for x in evenly_spaced_interval]\n",
    "\n",
    "iterator = iter(valid_dataset0)"
   ]
  },
  {
   "cell_type": "code",
   "execution_count": 13,
   "metadata": {
    "colab": {
     "base_uri": "https://localhost:8080/",
     "height": 319
    },
    "id": "553NrJXrFCZo",
    "outputId": "f711df46-42c9-49b7-c0cd-150893a3e46d"
   },
   "outputs": [
    {
     "name": "stdout",
     "output_type": "stream",
     "text": [
      "[0. 1. 2.]\n"
     ]
    },
    {
     "data": {
      "text/plain": [
<<<<<<< HEAD
       "<matplotlib.image.AxesImage at 0x2ed9f9facc8>"
=======
       "<matplotlib.image.AxesImage at 0x2938e9a3948>"
>>>>>>> 8c194a1ea55357bef2a8399e9c0282c0c73173ff
      ]
     },
     "execution_count": 13,
     "metadata": {},
     "output_type": "execute_result"
    },
    {
     "data": {
      "text/plain": [
<<<<<<< HEAD
       "<matplotlib.image.AxesImage at 0x2ed9ffcc948>"
=======
       "<matplotlib.image.AxesImage at 0x2938e99ee08>"
>>>>>>> 8c194a1ea55357bef2a8399e9c0282c0c73173ff
      ]
     },
     "execution_count": 13,
     "metadata": {},
     "output_type": "execute_result"
    },
    {
     "data": {
<<<<<<< HEAD
      "image/png": "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\n",
=======
      "image/png": "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\n",
>>>>>>> 8c194a1ea55357bef2a8399e9c0282c0c73173ff
      "text/plain": [
       "<Figure size 432x288 with 2 Axes>"
      ]
     },
     "metadata": {
      "needs_background": "light"
     },
     "output_type": "display_data"
    },
    {
     "name": "stdout",
     "output_type": "stream",
     "text": [
      "2\n"
     ]
    }
   ],
   "source": [
    "fig, ax = plt.subplots(1, 2)\n",
    "\n",
    "augmented_img, target = next(iterator)\n",
    "augmented_img = augmented_img[0]   # First element\n",
    "augmented_img = augmented_img  # denormalize\n",
    "\n",
    "target = np.array(target[0, ..., 0])   # First element (squeezing channel dimension)\n",
    "\n",
    "print(np.unique(target))\n",
    "\n",
    "target_img = np.zeros([target.shape[0], target.shape[1], 3])\n",
    "\n",
    "target_img[np.where(target == 0)] = [0, 0, 0]\n",
    "for i in range(1, 3):\n",
    "  target_img[np.where(target == i)] = np.array(colors[i-1])[:3] * 255\n",
    "\n",
    "ax[0].imshow(np.uint8(augmented_img))\n",
    "ax[1].imshow(np.uint8(target_img))\n",
    "\n",
    "plt.show()\n",
    "\n",
    "print(np.max(np.uint8(target)))"
   ]
  },
  {
   "cell_type": "code",
   "execution_count": 14,
   "metadata": {
    "id": "JA1TGlOMnFJM"
   },
   "outputs": [
    {
     "name": "stdout",
     "output_type": "stream",
     "text": [
      "Model: \"vgg16\"\n",
      "_________________________________________________________________\n",
      "Layer (type)                 Output Shape              Param #   \n",
      "=================================================================\n",
      "input_1 (InputLayer)         [(None, 768, 512, 3)]     0         \n",
      "_________________________________________________________________\n",
      "block1_conv1 (Conv2D)        (None, 768, 512, 64)      1792      \n",
      "_________________________________________________________________\n",
      "block1_conv2 (Conv2D)        (None, 768, 512, 64)      36928     \n",
      "_________________________________________________________________\n",
      "block1_pool (MaxPooling2D)   (None, 384, 256, 64)      0         \n",
      "_________________________________________________________________\n",
      "block2_conv1 (Conv2D)        (None, 384, 256, 128)     73856     \n",
      "_________________________________________________________________\n",
      "block2_conv2 (Conv2D)        (None, 384, 256, 128)     147584    \n",
      "_________________________________________________________________\n",
      "block2_pool (MaxPooling2D)   (None, 192, 128, 128)     0         \n",
      "_________________________________________________________________\n",
      "block3_conv1 (Conv2D)        (None, 192, 128, 256)     295168    \n",
      "_________________________________________________________________\n",
      "block3_conv2 (Conv2D)        (None, 192, 128, 256)     590080    \n",
      "_________________________________________________________________\n",
      "block3_conv3 (Conv2D)        (None, 192, 128, 256)     590080    \n",
      "_________________________________________________________________\n",
      "block3_pool (MaxPooling2D)   (None, 96, 64, 256)       0         \n",
      "_________________________________________________________________\n",
      "block4_conv1 (Conv2D)        (None, 96, 64, 512)       1180160   \n",
      "_________________________________________________________________\n",
      "block4_conv2 (Conv2D)        (None, 96, 64, 512)       2359808   \n",
      "_________________________________________________________________\n",
      "block4_conv3 (Conv2D)        (None, 96, 64, 512)       2359808   \n",
      "_________________________________________________________________\n",
      "block4_pool (MaxPooling2D)   (None, 48, 32, 512)       0         \n",
      "_________________________________________________________________\n",
      "block5_conv1 (Conv2D)        (None, 48, 32, 512)       2359808   \n",
      "_________________________________________________________________\n",
      "block5_conv2 (Conv2D)        (None, 48, 32, 512)       2359808   \n",
      "_________________________________________________________________\n",
      "block5_conv3 (Conv2D)        (None, 48, 32, 512)       2359808   \n",
      "_________________________________________________________________\n",
      "block5_pool (MaxPooling2D)   (None, 24, 16, 512)       0         \n",
      "=================================================================\n",
      "Total params: 14,714,688\n",
      "Trainable params: 14,714,688\n",
      "Non-trainable params: 0\n",
      "_________________________________________________________________\n"
     ]
    }
   ],
   "source": [
    "vgg = tf.keras.applications.VGG16(weights='imagenet', include_top=False, input_shape=(img_h, img_w, 3))\n",
    "vgg.summary()\n",
    "for layer in vgg.layers:\n",
    "  layer.trainable = False"
   ]
  },
  {
   "cell_type": "code",
   "execution_count": 15,
   "metadata": {},
   "outputs": [],
   "source": [
    "def display(display_list):\n",
    "  plt.figure(figsize=(15, 15))\n",
    "\n",
    "  title = ['Input Image', 'True Mask', 'Predicted Mask']\n",
    "\n",
    "  for i in range(len(display_list)):\n",
    "    plt.subplot(1, len(display_list), i+1)\n",
    "    plt.title(title[i])\n",
    "    plt.imshow(tf.keras.preprocessing.image.array_to_img(display_list[i]))\n",
    "    plt.axis('off')\n",
    "  plt.show()"
   ]
  },
  {
   "cell_type": "code",
   "execution_count": 16,
   "metadata": {},
   "outputs": [],
   "source": [
    "def create_mask(pred_mask):\n",
    "  pred_mask = tf.argmax(pred_mask, axis=-1)\n",
    "  pred_mask = pred_mask[..., tf.newaxis]\n",
    "  return pred_mask[0]"
   ]
  },
  {
   "cell_type": "code",
   "execution_count": 17,
   "metadata": {
    "id": "nYzNyfh9BQPy"
   },
   "outputs": [],
   "source": [
    "def show_predictions(dataset=None, num=1):\n",
    "    iterator = iter(valid_dataset0)\n",
    "    fig, ax = plt.subplots(1, 3, figsize=(8, 8))\n",
    "    fig.show()\n",
    "    image, target = next(iterator)\n",
    "\n",
    "    display([image, target,\n",
    "             create_mask(model.predict(image[tf.newaxis, ...]))])"
   ]
  },
  {
   "cell_type": "code",
   "execution_count": 18,
   "metadata": {
    "id": "6H8V28PvA0pW"
   },
   "outputs": [],
   "source": [
    "class DisplayCallback(tf.keras.callbacks.Callback):\n",
    "  def on_epoch_end(self, epoch, logs=None):\n",
    "    show_predictions()\n",
    "    print ('\\nSample Prediction after epoch {}\\n'.format(epoch+1))"
   ]
  },
  {
   "cell_type": "code",
   "execution_count": 19,
   "metadata": {
    "id": "BvsdiF0TFTbt"
   },
   "outputs": [],
   "source": [
    "def create_model(depth, start_f, num_classes):\n",
    "\n",
    "    model = tf.keras.Sequential()\n",
    "    \n",
    "    # Encoder\n",
    "    # -------\n",
    "    model.add(vgg)\n",
    "    \n",
    "    start_f = 256\n",
    "        \n",
    "    # Decoder\n",
    "    # -------\n",
    "    for i in range(depth):\n",
    "        model.add(tf.keras.layers.UpSampling2D(2, interpolation='bilinear'))\n",
    "        model.add(tf.keras.layers.Conv2D(filters=start_f,\n",
    "                                         kernel_size=(3, 3),\n",
    "                                         strides=(1, 1),\n",
    "                                         padding='same'))\n",
    "        model.add(tf.keras.layers.ReLU())\n",
    "\n",
    "        start_f = start_f // 2\n",
    "\n",
    "    # Prediction Layer\n",
    "    # ----------------\n",
    "    model.add(tf.keras.layers.Conv2D(filters=num_classes,\n",
    "                                     kernel_size=(1, 1),\n",
    "                                     strides=(1, 1),\n",
    "                                     padding='same',\n",
    "                                     activation='softmax'))\n",
    "    \n",
    "    return model"
   ]
  },
  {
   "cell_type": "code",
   "execution_count": 20,
   "metadata": {},
   "outputs": [],
   "source": [
    "def upsample(filters, size, norm_type='batchnorm', apply_dropout=False):\n",
    "  \"\"\"Upsamples an input.\n",
    "  Conv2DTranspose => Batchnorm => Dropout => Relu\n",
    "  Args:\n",
    "    filters: number of filters\n",
    "    size: filter size\n",
    "    norm_type: Normalization type; either 'batchnorm' or 'instancenorm'.\n",
    "    apply_dropout: If True, adds the dropout layer\n",
    "  Returns:\n",
    "    Upsample Sequential Model\n",
    "  \"\"\"\n",
    "  initializer = tf.keras.initializers.GlorotNormal()\n",
    "\n",
    "  result = tf.keras.Sequential()\n",
    "  result.add(tf.keras.layers.UpSampling2D(2, interpolation='bilinear'))\n",
    "  result.add(tf.keras.layers.Conv2D(filters=filters,\n",
    "                                         kernel_size=(3, 3),\n",
    "                                         strides=(1, 1),\n",
    "                                         padding='same', kernel_initializer=initializer))\n",
    "\n",
    "  result.add(tf.keras.layers.ReLU())\n",
    "\n",
    "  return result"
   ]
  },
  {
   "cell_type": "code",
<<<<<<< HEAD
   "execution_count": 21,
=======
   "execution_count": 22,
>>>>>>> 8c194a1ea55357bef2a8399e9c0282c0c73173ff
   "metadata": {
    "colab": {
     "base_uri": "https://localhost:8080/"
    },
    "id": "k97OK6CRnFJS",
    "outputId": "3f563448-b782-4ce0-acc8-7cf92b1f02ae"
   },
   "outputs": [
    {
     "name": "stdout",
     "output_type": "stream",
     "text": [
      "Model: \"functional_3\"\n",
      "__________________________________________________________________________________________________\n",
      "Layer (type)                    Output Shape         Param #     Connected to                     \n",
      "==================================================================================================\n",
      "input_2 (InputLayer)            [(None, 768, 512, 3) 0                                            \n",
      "__________________________________________________________________________________________________\n",
      "functional_1 (Functional)       [(None, 768, 512, 64 14714688    input_2[0][0]                    \n",
      "__________________________________________________________________________________________________\n",
      "sequential (Sequential)         (None, 96, 64, 512)  2359808     functional_1[0][4]               \n",
      "__________________________________________________________________________________________________\n",
      "concatenate (Concatenate)       (None, 96, 64, 1024) 0           sequential[0][0]                 \n",
      "                                                                 functional_1[0][3]               \n",
      "__________________________________________________________________________________________________\n",
      "sequential_1 (Sequential)       (None, 192, 128, 256 2359552     concatenate[0][0]                \n",
      "__________________________________________________________________________________________________\n",
      "concatenate_1 (Concatenate)     (None, 192, 128, 512 0           sequential_1[0][0]               \n",
      "                                                                 functional_1[0][2]               \n",
      "__________________________________________________________________________________________________\n",
      "sequential_2 (Sequential)       (None, 384, 256, 128 589952      concatenate_1[0][0]              \n",
      "__________________________________________________________________________________________________\n",
      "concatenate_2 (Concatenate)     (None, 384, 256, 256 0           sequential_2[0][0]               \n",
      "                                                                 functional_1[0][1]               \n",
      "__________________________________________________________________________________________________\n",
      "sequential_3 (Sequential)       (None, 768, 512, 64) 147520      concatenate_2[0][0]              \n",
      "__________________________________________________________________________________________________\n",
      "concatenate_3 (Concatenate)     (None, 768, 512, 128 0           sequential_3[0][0]               \n",
      "                                                                 functional_1[0][0]               \n",
      "__________________________________________________________________________________________________\n",
      "conv2d_4 (Conv2D)               (None, 768, 512, 3)  387         concatenate_3[0][0]              \n",
      "==================================================================================================\n",
      "Total params: 20,171,907\n",
      "Trainable params: 5,457,219\n",
      "Non-trainable params: 14,714,688\n",
      "__________________________________________________________________________________________________\n"
     ]
    }
   ],
   "source": [
    "from IPython.display import clear_output\n",
    "\n",
    "def display(display_list):\n",
    "  plt.figure(figsize=(15, 15))\n",
    "\n",
    "  title = ['Input Image', 'True Mask', 'Predicted Mask']\n",
    "\n",
    "  for i in range(len(display_list)):\n",
    "    plt.subplot(1, len(display_list), i+1)\n",
    "    plt.title(title[i])\n",
    "    plt.imshow(tf.keras.preprocessing.image.array_to_img(display_list[i]))\n",
    "    plt.axis('off')\n",
    "  plt.show()\n",
    "\n",
    "base_model = vgg\n",
    "\n",
    "# Use the activations of these layers\n",
    "layer_names = [\n",
    "    'block1_conv2',\n",
    "    'block2_conv2',   # 384x256\n",
    "    'block3_conv3',   # 192x128\n",
    "    'block4_conv3',  # 96x64\n",
    "    'block5_conv3',      # 48x32\n",
    "]\n",
    "layers = [base_model.get_layer(name).output for name in layer_names]\n",
    "\n",
    "# Create the feature extraction model\n",
    "down_stack = tf.keras.Model(inputs=base_model.input, outputs=layers)\n",
    "\n",
    "down_stack.trainable = False\n",
    "\n",
    "\n",
    "up_stack = [\n",
    "    upsample(512, 3),  # 4x4 -> 8x8\n",
    "    upsample(256, 3),  # 8x8 -> 16x16\n",
    "    upsample(128, 3),\n",
    "    upsample(64, 3)  # 16x16 -> 32x32\n",
    "]\n",
    "\n",
    "def unet_model(output_channels):\n",
    "  inputs = tf.keras.layers.Input(shape=[img_h, img_w, 3])\n",
    "  x = inputs\n",
    "\n",
    "  # Downsampling through the model\n",
    "  skips = down_stack(x)\n",
    "  x = skips[-1]\n",
    "  skips = reversed(skips[:-1])\n",
    "\n",
    "  # Upsampling and establishing the skip connections\n",
    "  for up, skip in zip(up_stack, skips):\n",
    "    x = up(x)\n",
    "    concat = tf.keras.layers.Concatenate()\n",
    "    x = concat([x, skip])\n",
    "\n",
    "  # This is the last layer of the model\n",
    "  last = tf.keras.layers.Conv2D(filters=output_channels,\n",
    "                                         kernel_size=(1, 1),\n",
    "                                         strides=(1, 1),\n",
    "                                         padding='same') #64x64 -> 128x128\n",
    "\n",
    "  x = last(x)\n",
    "\n",
    "  return tf.keras.Model(inputs=inputs, outputs=x)\n",
    "\n",
    "model = unet_model(3)\n",
    "\n",
    "# Visualize created model as a table\n",
    "\n",
    "# Randomly initializes the weights, drawing them from a normal distribution\n",
    "# initializer = tf.keras.initializers.GlorotNormal()\n",
    "\n",
    "# def get_crop_shape(target, refer):\n",
    "#         # width, the 3rd dimension\n",
    "#         cw = (target.get_shape()[2] - refer.get_shape()[2])\n",
    "#         assert (cw >= 0)\n",
    "#         if cw % 2 != 0:\n",
    "#             cw1, cw2 = int(cw/2), int(cw/2) + 1\n",
    "#         else:\n",
    "#             cw1, cw2 = int(cw/2), int(cw/2)\n",
    "#         # height, the 2nd dimension\n",
    "#         ch = (target.get_shape()[1] - refer.get_shape()[1])\n",
    "#         assert (ch >= 0)\n",
    "#         if ch % 2 != 0:\n",
    "#             ch1, ch2 = int(ch/2), int(ch/2) + 1\n",
    "#         else:\n",
    "#             ch1, ch2 = int(ch/2), int(ch/2)\n",
    "\n",
    "#         return (ch1, ch2), (cw1, cw2)\n",
    "\n",
    "\n",
    "# concat_axis = 3\n",
    "# inputs = tf.keras.layers.Input(shape = [img_h,img_w,3])\n",
    "\n",
    "# conv1 = tf.keras.layers.Conv2D(32, (3, 3), activation='relu', padding='same', name='conv1_1', kernel_initializer=initializer)(inputs)\n",
    "# conv1 = tf.keras.layers.Conv2D(32, (3, 3), activation='relu', padding='same', kernel_initializer=initializer)(conv1)\n",
    "# pool1 = tf.keras.layers.MaxPooling2D(pool_size=(2, 2))(conv1)\n",
    "# conv2 = tf.keras.layers.Conv2D(64, (3, 3), activation='relu', padding='same', kernel_initializer=initializer)(pool1)\n",
    "# conv2 = tf.keras.layers.Conv2D(64, (3, 3), activation='relu', padding='same', kernel_initializer=initializer)(conv2)\n",
    "# pool2 = tf.keras.layers.MaxPooling2D(pool_size=(2, 2))(conv2)\n",
    "\n",
    "# conv3 = tf.keras.layers.Conv2D(128, (3, 3), activation='relu', padding='same', kernel_initializer=initializer)(pool2)\n",
    "# conv3 = tf.keras.layers.Conv2D(128, (3, 3), activation='relu', padding='same', kernel_initializer=initializer)(conv3)\n",
    "# pool3 = tf.keras.layers.MaxPooling2D(pool_size=(2, 2))(conv3)\n",
    "\n",
    "# conv4 = tf.keras.layers.Conv2D(256, (3, 3), activation='relu', padding='same', kernel_initializer=initializer)(pool3)\n",
    "# conv4 = tf.keras.layers.Conv2D(256, (3, 3), activation='relu', padding='same', kernel_initializer=initializer)(conv4)\n",
    "# pool4 = tf.keras.layers.MaxPooling2D(pool_size=(2, 2))(conv4)\n",
    "\n",
    "# conv5 = tf.keras.layers.Conv2D(512, (3, 3), activation='relu', padding='same', kernel_initializer=initializer)(pool4)\n",
    "# conv5 = tf.keras.layers.Conv2D(512, (3, 3), activation='relu', padding='same', kernel_initializer=initializer)(conv5)\n",
    "\n",
    "# up_conv5 = tf.keras.layers.UpSampling2D(size=(2, 2))(conv5)\n",
    "# ch, cw = get_crop_shape(conv4, up_conv5)\n",
    "# crop_conv4 = tf.keras.layers.Cropping2D(cropping=(ch,cw))(conv4)\n",
    "# up6 = tf.keras.layers.concatenate([up_conv5, crop_conv4], axis=concat_axis)\n",
    "# conv6 = tf.keras.layers.Conv2D(256, (3, 3), activation='relu', padding='same', kernel_initializer=initializer)(up6)\n",
    "# conv6 = tf.keras.layers.Conv2D(256, (3, 3), activation='relu', padding='same', kernel_initializer=initializer)(conv6)\n",
    "\n",
    "# up_conv6 = tf.keras.layers.UpSampling2D(size=(2, 2))(conv6)\n",
    "# ch, cw = get_crop_shape(conv3, up_conv6)\n",
    "# crop_conv3 = tf.keras.layers.Cropping2D(cropping=(ch,cw))(conv3)\n",
    "# up7 = tf.keras.layers.concatenate([up_conv6, crop_conv3], axis=concat_axis) \n",
    "# conv7 = tf.keras.layers.Conv2D(128, (3, 3), activation='relu', padding='same', kernel_initializer=initializer)(up7)\n",
    "# conv7 = tf.keras.layers.Conv2D(128, (3, 3), activation='relu', padding='same', kernel_initializer=initializer)(conv7)\n",
    "\n",
    "# up_conv7 = tf.keras.layers.UpSampling2D(size=(2, 2))(conv7)\n",
    "# ch, cw = get_crop_shape(conv2, up_conv7)\n",
    "# crop_conv2 = tf.keras.layers.Cropping2D(cropping=(ch,cw))(conv2)\n",
    "# up8 = tf.keras.layers.concatenate([up_conv7, crop_conv2], axis=concat_axis)\n",
    "# conv8 = tf.keras.layers.Conv2D(64, (3, 3), activation='relu', padding='same', kernel_initializer=initializer)(up8)\n",
    "# conv8 = tf.keras.layers.Conv2D(64, (3, 3), activation='relu', padding='same', kernel_initializer=initializer)(conv8)\n",
    "\n",
    "# up_conv8 = tf.keras.layers.UpSampling2D(size=(2, 2))(conv8)\n",
    "# ch, cw = get_crop_shape(conv1, up_conv8)\n",
    "# crop_conv1 = tf.keras.layers.Cropping2D(cropping=(ch,cw))(conv1)\n",
    "# up9 = tf.keras.layers.concatenate([up_conv8, crop_conv1], axis=concat_axis)\n",
    "# conv9 = tf.keras.layers.Conv2D(32, (3, 3), activation='relu', padding='same', kernel_initializer=initializer)(up9)\n",
    "# conv9 = tf.keras.layers.Conv2D(32, (3, 3), activation='relu', padding='same', kernel_initializer=initializer)(conv9)\n",
    "\n",
    "# ch, cw = get_crop_shape(inputs, conv9)\n",
    "# conv9 = tf.keras.layers.ZeroPadding2D(padding=((ch[0], ch[1]), (cw[0], cw[1])))(conv9)\n",
    "# conv10 = tf.keras.layers.Conv2D(3, (1, 1), kernel_initializer=initializer)(conv9)\n",
    "\n",
    "# model = tf.keras.models.Model(inputs=inputs, outputs=conv10)\n",
    "\n",
    "# Visualize created model as a table\n",
    "\n",
    "\n",
    "# model = create_model(depth=5, \n",
    "#                       start_f=8, \n",
    "#                       num_classes=3)\n",
    "\n",
    "\n",
    "model.summary()\n",
    "\n",
    "# Visualize initialized weights\n",
    "# model.weights\n",
    "\n",
    "\n",
    "\n",
    "\n",
    "#model.summary()\n",
    "\n",
    "# Visualize initialized weights\n",
    "# model.weights"
   ]
  },
  {
   "cell_type": "code",
<<<<<<< HEAD
   "execution_count": 22,
   "metadata": {},
   "outputs": [],
   "source": [
    "def custom_loss(y_true,y_pred):\n",
    "    squared_difference = tf.square(y_true - y_pred)\n",
    "    return tf.reduce_mean(squared_difference, axis=-1)\n",
    "    "
   ]
  },
  {
   "cell_type": "code",
=======
>>>>>>> 8c194a1ea55357bef2a8399e9c0282c0c73173ff
   "execution_count": 23,
   "metadata": {
    "id": "NGzh16WTnFJW"
   },
   "outputs": [],
   "source": [
    "# Optimization params\n",
    "# -------------------\n",
    "\n",
    "# Loss\n",
    "# Sparse Categorical Crossentropy to use integers (mask) instead of one-hot encoded labels\n",
    "loss = tf.keras.losses.SparseCategoricalCrossentropy() \n",
    "\n",
    "\n",
    "# learning rate\n",
    "lr = 1e-5\n",
    "optimizer = tf.keras.optimizers.Adam(learning_rate=lr)\n",
    "# -------------------\n",
    "\n",
    "# Here we define the intersection over union for each class in the batch.\n",
    "# Then we compute the final iou as the mean over classes\n",
    "def meanIoU(y_true, y_pred):\n",
    "    # get predicted class from softmax\n",
    "    y_pred = tf.expand_dims(tf.argmax(y_pred, -1), -1)\n",
    "\n",
    "    per_class_iou = []\n",
    "\n",
    "    for i in range(1,3): # exclude the background class 0\n",
    "      # Get prediction and target related to only a single class (i)\n",
    "      class_pred = tf.cast(tf.where(y_pred == i, 1, 0), tf.float32)\n",
    "      class_true = tf.cast(tf.where(y_true == i, 1, 0), tf.float32)\n",
    "      intersection = tf.reduce_sum(class_true * class_pred)\n",
    "      union = tf.reduce_sum(class_true) + tf.reduce_sum(class_pred) - intersection\n",
    "    \n",
    "      iou = (intersection + 1e-7) / (union + 1e-7)\n",
    "      per_class_iou.append(iou)\n",
    "\n",
    "    return tf.reduce_mean(per_class_iou)\n",
    "\n",
    "# Validation metrics\n",
    "# ------------------\n",
    "metrics = ['accuracy', meanIoU]\n",
    "# ------------------\n",
    "\n",
    "weights = [10,0.5,0.5]\n",
    "\n",
    "\n",
    "# Compile Model\n",
    "model.compile(optimizer=optimizer, loss=loss , metrics=metrics, loss_weights=weights)"
   ]
  },
  {
   "cell_type": "code",
   "execution_count": 24,
   "metadata": {
    "colab": {
     "base_uri": "https://localhost:8080/"
    },
    "id": "9MlmYGVMnFJW",
    "outputId": "a03254ed-2a1e-4d03-bd98-a1ef9185f32c"
   },
   "outputs": [
    {
     "name": "stdout",
     "output_type": "stream",
     "text": [
      "Epoch 1/100\n",
<<<<<<< HEAD
      "656/656 [==============================] - 642s 979ms/step - loss: 10.9409 - accuracy: 0.8239 - meanIoU: 0.0121 - val_loss: 5.5437 - val_accuracy: 0.8692 - val_meanIoU: 0.0059\n",
      "Epoch 2/100\n",
      "656/656 [==============================] - 640s 975ms/step - loss: 3.6259 - accuracy: 0.8624 - meanIoU: 0.0360 - val_loss: 3.2216 - val_accuracy: 0.8725 - val_meanIoU: 0.0333\n",
      "Epoch 3/100\n",
      "656/656 [==============================] - 653s 996ms/step - loss: 2.7348 - accuracy: 0.8706 - meanIoU: 0.0895 - val_loss: 2.8879 - val_accuracy: 0.8776 - val_meanIoU: 0.0771\n",
      "Epoch 4/100\n",
      "656/656 [==============================] - 659s 1s/step - loss: 2.6747 - accuracy: 0.8732 - meanIoU: 0.1089 - val_loss: 2.7008 - val_accuracy: 0.8813 - val_meanIoU: 0.1001\n",
      "Epoch 5/100\n",
      "656/656 [==============================] - 661s 1s/step - loss: 2.5715 - accuracy: 0.8767 - meanIoU: 0.1246 - val_loss: 2.7834 - val_accuracy: 0.8813 - val_meanIoU: 0.0992\n",
      "Epoch 6/100\n",
      "656/656 [==============================] - 667s 1s/step - loss: 2.5488 - accuracy: 0.8906 - meanIoU: 0.1943 - val_loss: 2.7913 - val_accuracy: 0.8893 - val_meanIoU: 0.1423\n",
      "Epoch 7/100\n",
      "656/656 [==============================] - 659s 1s/step - loss: 2.5249 - accuracy: 0.8942 - meanIoU: 0.2143 - val_loss: 2.7147 - val_accuracy: 0.8944 - val_meanIoU: 0.1708\n",
      "Epoch 8/100\n",
      "656/656 [==============================] - 645s 983ms/step - loss: 2.4796 - accuracy: 0.9022 - meanIoU: 0.2547 - val_loss: 2.5677 - val_accuracy: 0.8994 - val_meanIoU: 0.2056\n",
      "Epoch 9/100\n",
      "656/656 [==============================] - 634s 966ms/step - loss: 2.4176 - accuracy: 0.9021 - meanIoU: 0.2551 - val_loss: 2.5722 - val_accuracy: 0.8976 - val_meanIoU: 0.1967\n",
      "Epoch 10/100\n",
      "656/656 [==============================] - 623s 950ms/step - loss: 2.3460 - accuracy: 0.9056 - meanIoU: 0.2650 - val_loss: 2.6324 - val_accuracy: 0.9104 - val_meanIoU: 0.2231\n",
      "Epoch 11/100\n",
      "656/656 [==============================] - 632s 964ms/step - loss: 2.3255 - accuracy: 0.9169 - meanIoU: 0.3102 - val_loss: 2.7145 - val_accuracy: 0.9138 - val_meanIoU: 0.2298\n",
      "Epoch 12/100\n",
      "656/656 [==============================] - 640s 975ms/step - loss: 2.2701 - accuracy: 0.9181 - meanIoU: 0.3167 - val_loss: 2.6381 - val_accuracy: 0.9158 - val_meanIoU: 0.2498\n",
      "Epoch 13/100\n",
      "656/656 [==============================] - 631s 962ms/step - loss: 2.2804 - accuracy: 0.9227 - meanIoU: 0.3412 - val_loss: 2.5227 - val_accuracy: 0.9168 - val_meanIoU: 0.2486\n",
      "Epoch 14/100\n",
      "656/656 [==============================] - 638s 972ms/step - loss: 2.1956 - accuracy: 0.9156 - meanIoU: 0.3198 - val_loss: 2.6034 - val_accuracy: 0.9115 - val_meanIoU: 0.2420\n",
      "Epoch 15/100\n",
      "656/656 [==============================] - 653s 996ms/step - loss: 2.1946 - accuracy: 0.9204 - meanIoU: 0.3435 - val_loss: 2.4059 - val_accuracy: 0.9221 - val_meanIoU: 0.2827\n",
      "Epoch 16/100\n",
      "656/656 [==============================] - 638s 973ms/step - loss: 2.2003 - accuracy: 0.9212 - meanIoU: 0.3525 - val_loss: 2.4599 - val_accuracy: 0.9168 - val_meanIoU: 0.2802\n",
      "Epoch 17/100\n",
      "656/656 [==============================] - 618s 942ms/step - loss: 2.1239 - accuracy: 0.9292 - meanIoU: 0.3772 - val_loss: 2.4342 - val_accuracy: 0.9225 - val_meanIoU: 0.2958\n",
      "Epoch 18/100\n",
      "656/656 [==============================] - 632s 963ms/step - loss: 2.1309 - accuracy: 0.9322 - meanIoU: 0.3942 - val_loss: 2.3131 - val_accuracy: 0.9339 - val_meanIoU: 0.3468\n",
      "Epoch 19/100\n",
      "656/656 [==============================] - 629s 959ms/step - loss: 2.1556 - accuracy: 0.9419 - meanIoU: 0.4410 - val_loss: 2.3799 - val_accuracy: 0.9395 - val_meanIoU: 0.3789\n",
      "Epoch 20/100\n",
      "656/656 [==============================] - 627s 955ms/step - loss: 2.1850 - accuracy: 0.9393 - meanIoU: 0.4447 - val_loss: 2.2346 - val_accuracy: 0.9473 - val_meanIoU: 0.4350\n",
      "Epoch 21/100\n",
      "656/656 [==============================] - 640s 975ms/step - loss: 2.1530 - accuracy: 0.9379 - meanIoU: 0.4480 - val_loss: 2.1808 - val_accuracy: 0.9437 - val_meanIoU: 0.4105\n",
      "Epoch 22/100\n",
      "656/656 [==============================] - 641s 977ms/step - loss: 2.1280 - accuracy: 0.9420 - meanIoU: 0.4639 - val_loss: 2.2147 - val_accuracy: 0.9405 - val_meanIoU: 0.3832\n",
      "Epoch 23/100\n",
      "656/656 [==============================] - 661s 1s/step - loss: 2.0928 - accuracy: 0.9412 - meanIoU: 0.4633 - val_loss: 2.2775 - val_accuracy: 0.9421 - val_meanIoU: 0.4042\n",
      "Epoch 24/100\n",
      "656/656 [==============================] - 627s 955ms/step - loss: 2.0877 - accuracy: 0.9404 - meanIoU: 0.4685 - val_loss: 2.3587 - val_accuracy: 0.9433 - val_meanIoU: 0.4057\n",
      "Epoch 25/100\n",
      "656/656 [==============================] - 628s 957ms/step - loss: 2.1002 - accuracy: 0.9416 - meanIoU: 0.4719 - val_loss: 2.3857 - val_accuracy: 0.9415 - val_meanIoU: 0.3870\n",
      "Epoch 26/100\n",
      "656/656 [==============================] - 629s 959ms/step - loss: 2.0904 - accuracy: 0.9452 - meanIoU: 0.4937 - val_loss: 2.3830 - val_accuracy: 0.9424 - val_meanIoU: 0.4101\n",
      "Epoch 27/100\n",
      "656/656 [==============================] - 630s 960ms/step - loss: 2.0793 - accuracy: 0.9476 - meanIoU: 0.5061 - val_loss: 2.2714 - val_accuracy: 0.9479 - val_meanIoU: 0.4409\n",
      "Epoch 28/100\n",
      "656/656 [==============================] - 638s 972ms/step - loss: 2.0999 - accuracy: 0.9466 - meanIoU: 0.5007 - val_loss: 2.3126 - val_accuracy: 0.9475 - val_meanIoU: 0.4170\n",
      "Epoch 29/100\n",
      "656/656 [==============================] - 633s 965ms/step - loss: 2.0727 - accuracy: 0.9488 - meanIoU: 0.5191 - val_loss: 2.2756 - val_accuracy: 0.9485 - val_meanIoU: 0.4802\n",
      "Epoch 30/100\n",
      "656/656 [==============================] - 633s 964ms/step - loss: 2.0903 - accuracy: 0.9520 - meanIoU: 0.5278 - val_loss: 2.2474 - val_accuracy: 0.9518 - val_meanIoU: 0.4529\n",
      "Epoch 31/100\n",
      "656/656 [==============================] - 616s 940ms/step - loss: 2.0686 - accuracy: 0.9514 - meanIoU: 0.5365 - val_loss: 2.1440 - val_accuracy: 0.9574 - val_meanIoU: 0.5285\n",
      "Epoch 32/100\n",
      "656/656 [==============================] - 608s 926ms/step - loss: 2.0300 - accuracy: 0.9548 - meanIoU: 0.5482 - val_loss: 2.1387 - val_accuracy: 0.9559 - val_meanIoU: 0.5127\n",
      "Epoch 33/100\n",
      "656/656 [==============================] - 606s 924ms/step - loss: 2.0910 - accuracy: 0.9535 - meanIoU: 0.5481 - val_loss: 2.3582 - val_accuracy: 0.9547 - val_meanIoU: 0.4704\n",
      "Epoch 34/100\n",
      "656/656 [==============================] - 604s 920ms/step - loss: 2.0569 - accuracy: 0.9490 - meanIoU: 0.5319 - val_loss: 2.0512 - val_accuracy: 0.9528 - val_meanIoU: 0.5187\n",
      "Epoch 35/100\n",
      "656/656 [==============================] - 602s 918ms/step - loss: 2.0444 - accuracy: 0.9530 - meanIoU: 0.5404 - val_loss: 2.0409 - val_accuracy: 0.9620 - val_meanIoU: 0.5220\n",
      "Epoch 36/100\n",
      "656/656 [==============================] - 603s 919ms/step - loss: 1.9779 - accuracy: 0.9565 - meanIoU: 0.5589 - val_loss: 2.0550 - val_accuracy: 0.9583 - val_meanIoU: 0.5254\n",
      "Epoch 37/100\n",
      "656/656 [==============================] - 603s 919ms/step - loss: 2.0058 - accuracy: 0.9561 - meanIoU: 0.5595 - val_loss: 2.1584 - val_accuracy: 0.9568 - val_meanIoU: 0.5142\n",
      "Epoch 38/100\n",
      "656/656 [==============================] - 604s 920ms/step - loss: 2.0163 - accuracy: 0.9558 - meanIoU: 0.5600 - val_loss: 2.0473 - val_accuracy: 0.9585 - val_meanIoU: 0.5136\n",
      "Epoch 39/100\n",
      "656/656 [==============================] - 604s 921ms/step - loss: 1.9790 - accuracy: 0.9578 - meanIoU: 0.5646 - val_loss: 2.0348 - val_accuracy: 0.9600 - val_meanIoU: 0.5311\n",
      "Epoch 40/100\n",
      "656/656 [==============================] - 604s 920ms/step - loss: 1.9918 - accuracy: 0.9586 - meanIoU: 0.5737 - val_loss: 2.0616 - val_accuracy: 0.9612 - val_meanIoU: 0.5367\n",
      "Epoch 41/100\n",
      "656/656 [==============================] - 603s 919ms/step - loss: 1.9887 - accuracy: 0.9603 - meanIoU: 0.5720 - val_loss: 2.1153 - val_accuracy: 0.9622 - val_meanIoU: 0.5248\n",
      "Epoch 42/100\n",
      "656/656 [==============================] - 603s 919ms/step - loss: 2.0067 - accuracy: 0.9601 - meanIoU: 0.5773 - val_loss: 2.1398 - val_accuracy: 0.9615 - val_meanIoU: 0.5303\n",
      "Epoch 43/100\n",
      "656/656 [==============================] - 603s 919ms/step - loss: 1.9592 - accuracy: 0.9613 - meanIoU: 0.5812 - val_loss: 2.0637 - val_accuracy: 0.9643 - val_meanIoU: 0.5436\n",
      "Epoch 44/100\n",
      "656/656 [==============================] - 609s 929ms/step - loss: 1.9299 - accuracy: 0.9614 - meanIoU: 0.5829 - val_loss: 2.0660 - val_accuracy: 0.9635 - val_meanIoU: 0.5362\n",
      "Epoch 45/100\n",
      "656/656 [==============================] - 602s 918ms/step - loss: 2.0086 - accuracy: 0.9614 - meanIoU: 0.5831 - val_loss: 2.2538 - val_accuracy: 0.9615 - val_meanIoU: 0.5334\n",
      "Epoch 46/100\n",
      "656/656 [==============================] - 603s 919ms/step - loss: 1.9608 - accuracy: 0.9626 - meanIoU: 0.5900 - val_loss: 2.2060 - val_accuracy: 0.9628 - val_meanIoU: 0.5270\n",
      "Epoch 47/100\n",
      "656/656 [==============================] - 602s 918ms/step - loss: 1.9744 - accuracy: 0.9624 - meanIoU: 0.5871 - val_loss: 2.0305 - val_accuracy: 0.9678 - val_meanIoU: 0.5325\n",
      "Epoch 48/100\n",
      "656/656 [==============================] - 604s 921ms/step - loss: 1.9595 - accuracy: 0.9647 - meanIoU: 0.5877 - val_loss: 2.1178 - val_accuracy: 0.9670 - val_meanIoU: 0.5339\n",
      "Epoch 49/100\n",
      "656/656 [==============================] - 603s 920ms/step - loss: 1.9686 - accuracy: 0.9639 - meanIoU: 0.5862 - val_loss: 2.1283 - val_accuracy: 0.9672 - val_meanIoU: 0.5349\n",
      "Epoch 50/100\n",
      "656/656 [==============================] - 603s 919ms/step - loss: 1.9548 - accuracy: 0.9646 - meanIoU: 0.5893 - val_loss: 2.1293 - val_accuracy: 0.9681 - val_meanIoU: 0.5314\n",
      "Epoch 51/100\n",
      "656/656 [==============================] - 603s 919ms/step - loss: 1.9079 - accuracy: 0.9640 - meanIoU: 0.5900 - val_loss: 1.9294 - val_accuracy: 0.9681 - val_meanIoU: 0.5395\n",
      "Epoch 52/100\n",
      "656/656 [==============================] - 604s 920ms/step - loss: 1.8983 - accuracy: 0.9637 - meanIoU: 0.5848 - val_loss: 2.0064 - val_accuracy: 0.9676 - val_meanIoU: 0.5372\n",
      "Epoch 53/100\n",
      "656/656 [==============================] - 604s 921ms/step - loss: 1.9300 - accuracy: 0.9642 - meanIoU: 0.5883 - val_loss: 2.0760 - val_accuracy: 0.9667 - val_meanIoU: 0.5339\n"
     ]
    },
    {
     "data": {
      "text/plain": [
       "<tensorflow.python.keras.callbacks.History at 0x2eda111fc08>"
      ]
     },
     "execution_count": 24,
     "metadata": {},
     "output_type": "execute_result"
=======
      " 1/83 [..............................] - ETA: 0s - loss: 10.9348 - accuracy: 0.1412 - meanIoU: 0.0428"
     ]
    },
    {
     "ename": "KeyboardInterrupt",
     "evalue": "",
     "output_type": "error",
     "traceback": [
      "\u001b[1;31m---------------------------------------------------------------------------\u001b[0m",
      "\u001b[1;31mKeyboardInterrupt\u001b[0m                         Traceback (most recent call last)",
      "\u001b[1;32m<ipython-input-24-7e68b52b979d>\u001b[0m in \u001b[0;36m<module>\u001b[1;34m\u001b[0m\n\u001b[0;32m     54\u001b[0m           \u001b[0mvalidation_data\u001b[0m\u001b[1;33m=\u001b[0m\u001b[0mvalid_dataset0\u001b[0m\u001b[1;33m,\u001b[0m\u001b[1;33m\u001b[0m\u001b[1;33m\u001b[0m\u001b[0m\n\u001b[0;32m     55\u001b[0m           \u001b[0mvalidation_steps\u001b[0m\u001b[1;33m=\u001b[0m\u001b[0mlen\u001b[0m\u001b[1;33m(\u001b[0m\u001b[0mdataset_valid\u001b[0m\u001b[1;33m)\u001b[0m\u001b[1;33m,\u001b[0m \u001b[1;31m#+len(dataset_valid1)\u001b[0m\u001b[1;33m\u001b[0m\u001b[1;33m\u001b[0m\u001b[0m\n\u001b[1;32m---> 56\u001b[1;33m           callbacks=callbacks)\n\u001b[0m\u001b[0;32m     57\u001b[0m \u001b[1;33m\u001b[0m\u001b[0m\n\u001b[0;32m     58\u001b[0m \u001b[1;31m# How to visualize Tensorboard\u001b[0m\u001b[1;33m\u001b[0m\u001b[1;33m\u001b[0m\u001b[1;33m\u001b[0m\u001b[0m\n",
      "\u001b[1;32mc:\\users\\fucci\\anaconda3\\envs\\tf_env\\lib\\site-packages\\tensorflow\\python\\keras\\engine\\training.py\u001b[0m in \u001b[0;36m_method_wrapper\u001b[1;34m(self, *args, **kwargs)\u001b[0m\n\u001b[0;32m    106\u001b[0m   \u001b[1;32mdef\u001b[0m \u001b[0m_method_wrapper\u001b[0m\u001b[1;33m(\u001b[0m\u001b[0mself\u001b[0m\u001b[1;33m,\u001b[0m \u001b[1;33m*\u001b[0m\u001b[0margs\u001b[0m\u001b[1;33m,\u001b[0m \u001b[1;33m**\u001b[0m\u001b[0mkwargs\u001b[0m\u001b[1;33m)\u001b[0m\u001b[1;33m:\u001b[0m\u001b[1;33m\u001b[0m\u001b[1;33m\u001b[0m\u001b[0m\n\u001b[0;32m    107\u001b[0m     \u001b[1;32mif\u001b[0m \u001b[1;32mnot\u001b[0m \u001b[0mself\u001b[0m\u001b[1;33m.\u001b[0m\u001b[0m_in_multi_worker_mode\u001b[0m\u001b[1;33m(\u001b[0m\u001b[1;33m)\u001b[0m\u001b[1;33m:\u001b[0m  \u001b[1;31m# pylint: disable=protected-access\u001b[0m\u001b[1;33m\u001b[0m\u001b[1;33m\u001b[0m\u001b[0m\n\u001b[1;32m--> 108\u001b[1;33m       \u001b[1;32mreturn\u001b[0m \u001b[0mmethod\u001b[0m\u001b[1;33m(\u001b[0m\u001b[0mself\u001b[0m\u001b[1;33m,\u001b[0m \u001b[1;33m*\u001b[0m\u001b[0margs\u001b[0m\u001b[1;33m,\u001b[0m \u001b[1;33m**\u001b[0m\u001b[0mkwargs\u001b[0m\u001b[1;33m)\u001b[0m\u001b[1;33m\u001b[0m\u001b[1;33m\u001b[0m\u001b[0m\n\u001b[0m\u001b[0;32m    109\u001b[0m \u001b[1;33m\u001b[0m\u001b[0m\n\u001b[0;32m    110\u001b[0m     \u001b[1;31m# Running inside `run_distribute_coordinator` already.\u001b[0m\u001b[1;33m\u001b[0m\u001b[1;33m\u001b[0m\u001b[1;33m\u001b[0m\u001b[0m\n",
      "\u001b[1;32mc:\\users\\fucci\\anaconda3\\envs\\tf_env\\lib\\site-packages\\tensorflow\\python\\keras\\engine\\training.py\u001b[0m in \u001b[0;36mfit\u001b[1;34m(self, x, y, batch_size, epochs, verbose, callbacks, validation_split, validation_data, shuffle, class_weight, sample_weight, initial_epoch, steps_per_epoch, validation_steps, validation_batch_size, validation_freq, max_queue_size, workers, use_multiprocessing)\u001b[0m\n\u001b[0;32m   1096\u001b[0m                 batch_size=batch_size):\n\u001b[0;32m   1097\u001b[0m               \u001b[0mcallbacks\u001b[0m\u001b[1;33m.\u001b[0m\u001b[0mon_train_batch_begin\u001b[0m\u001b[1;33m(\u001b[0m\u001b[0mstep\u001b[0m\u001b[1;33m)\u001b[0m\u001b[1;33m\u001b[0m\u001b[1;33m\u001b[0m\u001b[0m\n\u001b[1;32m-> 1098\u001b[1;33m               \u001b[0mtmp_logs\u001b[0m \u001b[1;33m=\u001b[0m \u001b[0mtrain_function\u001b[0m\u001b[1;33m(\u001b[0m\u001b[0miterator\u001b[0m\u001b[1;33m)\u001b[0m\u001b[1;33m\u001b[0m\u001b[1;33m\u001b[0m\u001b[0m\n\u001b[0m\u001b[0;32m   1099\u001b[0m               \u001b[1;32mif\u001b[0m \u001b[0mdata_handler\u001b[0m\u001b[1;33m.\u001b[0m\u001b[0mshould_sync\u001b[0m\u001b[1;33m:\u001b[0m\u001b[1;33m\u001b[0m\u001b[1;33m\u001b[0m\u001b[0m\n\u001b[0;32m   1100\u001b[0m                 \u001b[0mcontext\u001b[0m\u001b[1;33m.\u001b[0m\u001b[0masync_wait\u001b[0m\u001b[1;33m(\u001b[0m\u001b[1;33m)\u001b[0m\u001b[1;33m\u001b[0m\u001b[1;33m\u001b[0m\u001b[0m\n",
      "\u001b[1;32mc:\\users\\fucci\\anaconda3\\envs\\tf_env\\lib\\site-packages\\tensorflow\\python\\eager\\def_function.py\u001b[0m in \u001b[0;36m__call__\u001b[1;34m(self, *args, **kwds)\u001b[0m\n\u001b[0;32m    778\u001b[0m       \u001b[1;32melse\u001b[0m\u001b[1;33m:\u001b[0m\u001b[1;33m\u001b[0m\u001b[1;33m\u001b[0m\u001b[0m\n\u001b[0;32m    779\u001b[0m         \u001b[0mcompiler\u001b[0m \u001b[1;33m=\u001b[0m \u001b[1;34m\"nonXla\"\u001b[0m\u001b[1;33m\u001b[0m\u001b[1;33m\u001b[0m\u001b[0m\n\u001b[1;32m--> 780\u001b[1;33m         \u001b[0mresult\u001b[0m \u001b[1;33m=\u001b[0m \u001b[0mself\u001b[0m\u001b[1;33m.\u001b[0m\u001b[0m_call\u001b[0m\u001b[1;33m(\u001b[0m\u001b[1;33m*\u001b[0m\u001b[0margs\u001b[0m\u001b[1;33m,\u001b[0m \u001b[1;33m**\u001b[0m\u001b[0mkwds\u001b[0m\u001b[1;33m)\u001b[0m\u001b[1;33m\u001b[0m\u001b[1;33m\u001b[0m\u001b[0m\n\u001b[0m\u001b[0;32m    781\u001b[0m \u001b[1;33m\u001b[0m\u001b[0m\n\u001b[0;32m    782\u001b[0m       \u001b[0mnew_tracing_count\u001b[0m \u001b[1;33m=\u001b[0m \u001b[0mself\u001b[0m\u001b[1;33m.\u001b[0m\u001b[0m_get_tracing_count\u001b[0m\u001b[1;33m(\u001b[0m\u001b[1;33m)\u001b[0m\u001b[1;33m\u001b[0m\u001b[1;33m\u001b[0m\u001b[0m\n",
      "\u001b[1;32mc:\\users\\fucci\\anaconda3\\envs\\tf_env\\lib\\site-packages\\tensorflow\\python\\eager\\def_function.py\u001b[0m in \u001b[0;36m_call\u001b[1;34m(self, *args, **kwds)\u001b[0m\n\u001b[0;32m    805\u001b[0m       \u001b[1;31m# In this case we have created variables on the first call, so we run the\u001b[0m\u001b[1;33m\u001b[0m\u001b[1;33m\u001b[0m\u001b[1;33m\u001b[0m\u001b[0m\n\u001b[0;32m    806\u001b[0m       \u001b[1;31m# defunned version which is guaranteed to never create variables.\u001b[0m\u001b[1;33m\u001b[0m\u001b[1;33m\u001b[0m\u001b[1;33m\u001b[0m\u001b[0m\n\u001b[1;32m--> 807\u001b[1;33m       \u001b[1;32mreturn\u001b[0m \u001b[0mself\u001b[0m\u001b[1;33m.\u001b[0m\u001b[0m_stateless_fn\u001b[0m\u001b[1;33m(\u001b[0m\u001b[1;33m*\u001b[0m\u001b[0margs\u001b[0m\u001b[1;33m,\u001b[0m \u001b[1;33m**\u001b[0m\u001b[0mkwds\u001b[0m\u001b[1;33m)\u001b[0m  \u001b[1;31m# pylint: disable=not-callable\u001b[0m\u001b[1;33m\u001b[0m\u001b[1;33m\u001b[0m\u001b[0m\n\u001b[0m\u001b[0;32m    808\u001b[0m     \u001b[1;32melif\u001b[0m \u001b[0mself\u001b[0m\u001b[1;33m.\u001b[0m\u001b[0m_stateful_fn\u001b[0m \u001b[1;32mis\u001b[0m \u001b[1;32mnot\u001b[0m \u001b[1;32mNone\u001b[0m\u001b[1;33m:\u001b[0m\u001b[1;33m\u001b[0m\u001b[1;33m\u001b[0m\u001b[0m\n\u001b[0;32m    809\u001b[0m       \u001b[1;31m# Release the lock early so that multiple threads can perform the call\u001b[0m\u001b[1;33m\u001b[0m\u001b[1;33m\u001b[0m\u001b[1;33m\u001b[0m\u001b[0m\n",
      "\u001b[1;32mc:\\users\\fucci\\anaconda3\\envs\\tf_env\\lib\\site-packages\\tensorflow\\python\\eager\\function.py\u001b[0m in \u001b[0;36m__call__\u001b[1;34m(self, *args, **kwargs)\u001b[0m\n\u001b[0;32m   2827\u001b[0m     \u001b[1;32mwith\u001b[0m \u001b[0mself\u001b[0m\u001b[1;33m.\u001b[0m\u001b[0m_lock\u001b[0m\u001b[1;33m:\u001b[0m\u001b[1;33m\u001b[0m\u001b[1;33m\u001b[0m\u001b[0m\n\u001b[0;32m   2828\u001b[0m       \u001b[0mgraph_function\u001b[0m\u001b[1;33m,\u001b[0m \u001b[0margs\u001b[0m\u001b[1;33m,\u001b[0m \u001b[0mkwargs\u001b[0m \u001b[1;33m=\u001b[0m \u001b[0mself\u001b[0m\u001b[1;33m.\u001b[0m\u001b[0m_maybe_define_function\u001b[0m\u001b[1;33m(\u001b[0m\u001b[0margs\u001b[0m\u001b[1;33m,\u001b[0m \u001b[0mkwargs\u001b[0m\u001b[1;33m)\u001b[0m\u001b[1;33m\u001b[0m\u001b[1;33m\u001b[0m\u001b[0m\n\u001b[1;32m-> 2829\u001b[1;33m     \u001b[1;32mreturn\u001b[0m \u001b[0mgraph_function\u001b[0m\u001b[1;33m.\u001b[0m\u001b[0m_filtered_call\u001b[0m\u001b[1;33m(\u001b[0m\u001b[0margs\u001b[0m\u001b[1;33m,\u001b[0m \u001b[0mkwargs\u001b[0m\u001b[1;33m)\u001b[0m  \u001b[1;31m# pylint: disable=protected-access\u001b[0m\u001b[1;33m\u001b[0m\u001b[1;33m\u001b[0m\u001b[0m\n\u001b[0m\u001b[0;32m   2830\u001b[0m \u001b[1;33m\u001b[0m\u001b[0m\n\u001b[0;32m   2831\u001b[0m   \u001b[1;33m@\u001b[0m\u001b[0mproperty\u001b[0m\u001b[1;33m\u001b[0m\u001b[1;33m\u001b[0m\u001b[0m\n",
      "\u001b[1;32mc:\\users\\fucci\\anaconda3\\envs\\tf_env\\lib\\site-packages\\tensorflow\\python\\eager\\function.py\u001b[0m in \u001b[0;36m_filtered_call\u001b[1;34m(self, args, kwargs, cancellation_manager)\u001b[0m\n\u001b[0;32m   1846\u001b[0m                            resource_variable_ops.BaseResourceVariable))],\n\u001b[0;32m   1847\u001b[0m         \u001b[0mcaptured_inputs\u001b[0m\u001b[1;33m=\u001b[0m\u001b[0mself\u001b[0m\u001b[1;33m.\u001b[0m\u001b[0mcaptured_inputs\u001b[0m\u001b[1;33m,\u001b[0m\u001b[1;33m\u001b[0m\u001b[1;33m\u001b[0m\u001b[0m\n\u001b[1;32m-> 1848\u001b[1;33m         cancellation_manager=cancellation_manager)\n\u001b[0m\u001b[0;32m   1849\u001b[0m \u001b[1;33m\u001b[0m\u001b[0m\n\u001b[0;32m   1850\u001b[0m   \u001b[1;32mdef\u001b[0m \u001b[0m_call_flat\u001b[0m\u001b[1;33m(\u001b[0m\u001b[0mself\u001b[0m\u001b[1;33m,\u001b[0m \u001b[0margs\u001b[0m\u001b[1;33m,\u001b[0m \u001b[0mcaptured_inputs\u001b[0m\u001b[1;33m,\u001b[0m \u001b[0mcancellation_manager\u001b[0m\u001b[1;33m=\u001b[0m\u001b[1;32mNone\u001b[0m\u001b[1;33m)\u001b[0m\u001b[1;33m:\u001b[0m\u001b[1;33m\u001b[0m\u001b[1;33m\u001b[0m\u001b[0m\n",
      "\u001b[1;32mc:\\users\\fucci\\anaconda3\\envs\\tf_env\\lib\\site-packages\\tensorflow\\python\\eager\\function.py\u001b[0m in \u001b[0;36m_call_flat\u001b[1;34m(self, args, captured_inputs, cancellation_manager)\u001b[0m\n\u001b[0;32m   1922\u001b[0m       \u001b[1;31m# No tape is watching; skip to running the function.\u001b[0m\u001b[1;33m\u001b[0m\u001b[1;33m\u001b[0m\u001b[1;33m\u001b[0m\u001b[0m\n\u001b[0;32m   1923\u001b[0m       return self._build_call_outputs(self._inference_function.call(\n\u001b[1;32m-> 1924\u001b[1;33m           ctx, args, cancellation_manager=cancellation_manager))\n\u001b[0m\u001b[0;32m   1925\u001b[0m     forward_backward = self._select_forward_and_backward_functions(\n\u001b[0;32m   1926\u001b[0m         \u001b[0margs\u001b[0m\u001b[1;33m,\u001b[0m\u001b[1;33m\u001b[0m\u001b[1;33m\u001b[0m\u001b[0m\n",
      "\u001b[1;32mc:\\users\\fucci\\anaconda3\\envs\\tf_env\\lib\\site-packages\\tensorflow\\python\\eager\\function.py\u001b[0m in \u001b[0;36mcall\u001b[1;34m(self, ctx, args, cancellation_manager)\u001b[0m\n\u001b[0;32m    548\u001b[0m               \u001b[0minputs\u001b[0m\u001b[1;33m=\u001b[0m\u001b[0margs\u001b[0m\u001b[1;33m,\u001b[0m\u001b[1;33m\u001b[0m\u001b[1;33m\u001b[0m\u001b[0m\n\u001b[0;32m    549\u001b[0m               \u001b[0mattrs\u001b[0m\u001b[1;33m=\u001b[0m\u001b[0mattrs\u001b[0m\u001b[1;33m,\u001b[0m\u001b[1;33m\u001b[0m\u001b[1;33m\u001b[0m\u001b[0m\n\u001b[1;32m--> 550\u001b[1;33m               ctx=ctx)\n\u001b[0m\u001b[0;32m    551\u001b[0m         \u001b[1;32melse\u001b[0m\u001b[1;33m:\u001b[0m\u001b[1;33m\u001b[0m\u001b[1;33m\u001b[0m\u001b[0m\n\u001b[0;32m    552\u001b[0m           outputs = execute.execute_with_cancellation(\n",
      "\u001b[1;32mc:\\users\\fucci\\anaconda3\\envs\\tf_env\\lib\\site-packages\\tensorflow\\python\\eager\\execute.py\u001b[0m in \u001b[0;36mquick_execute\u001b[1;34m(op_name, num_outputs, inputs, attrs, ctx, name)\u001b[0m\n\u001b[0;32m     58\u001b[0m     \u001b[0mctx\u001b[0m\u001b[1;33m.\u001b[0m\u001b[0mensure_initialized\u001b[0m\u001b[1;33m(\u001b[0m\u001b[1;33m)\u001b[0m\u001b[1;33m\u001b[0m\u001b[1;33m\u001b[0m\u001b[0m\n\u001b[0;32m     59\u001b[0m     tensors = pywrap_tfe.TFE_Py_Execute(ctx._handle, device_name, op_name,\n\u001b[1;32m---> 60\u001b[1;33m                                         inputs, attrs, num_outputs)\n\u001b[0m\u001b[0;32m     61\u001b[0m   \u001b[1;32mexcept\u001b[0m \u001b[0mcore\u001b[0m\u001b[1;33m.\u001b[0m\u001b[0m_NotOkStatusException\u001b[0m \u001b[1;32mas\u001b[0m \u001b[0me\u001b[0m\u001b[1;33m:\u001b[0m\u001b[1;33m\u001b[0m\u001b[1;33m\u001b[0m\u001b[0m\n\u001b[0;32m     62\u001b[0m     \u001b[1;32mif\u001b[0m \u001b[0mname\u001b[0m \u001b[1;32mis\u001b[0m \u001b[1;32mnot\u001b[0m \u001b[1;32mNone\u001b[0m\u001b[1;33m:\u001b[0m\u001b[1;33m\u001b[0m\u001b[1;33m\u001b[0m\u001b[0m\n",
      "\u001b[1;31mKeyboardInterrupt\u001b[0m: "
     ]
>>>>>>> 8c194a1ea55357bef2a8399e9c0282c0c73173ff
    }
   ],
   "source": [
    "import os\n",
    "from datetime import datetime\n",
    "\n",
    "cwd1 = os.getcwd()\n",
    "\n",
    "exps_dir = os.path.join(cwd1, 'multiclass_exps')\n",
    "if not os.path.exists(exps_dir):\n",
    "    os.makedirs(exps_dir)\n",
    "\n",
    "now = datetime.now().strftime('%b%d_%H-%M-%S')\n",
    "\n",
    "model_name = 'CNN'\n",
    "\n",
    "exp_dir = os.path.join(exps_dir, model_name + '_' + str(now))\n",
    "if not os.path.exists(exp_dir):\n",
    "    os.makedirs(exp_dir)\n",
    "    \n",
    "callbacks = []\n",
    "\n",
    "# Model checkpoint\n",
    "# ----------------\n",
    "ckpt_dir = os.path.join(exp_dir, 'ckpts')\n",
    "if not os.path.exists(ckpt_dir):\n",
    "    os.makedirs(ckpt_dir)\n",
    "\n",
    "ckpt_callback = tf.keras.callbacks.ModelCheckpoint(filepath=os.path.join(ckpt_dir, 'cp.ckpt'), \n",
    "                                                   save_weights_only=True)  # False to save the model directly\n",
    "callbacks.append(ckpt_callback)\n",
    "\n",
    "# Visualize Learning on Tensorboard\n",
    "# ---------------------------------\n",
    "tb_dir = os.path.join(exp_dir, 'tb_logs')\n",
    "if not os.path.exists(tb_dir):\n",
    "    os.makedirs(tb_dir)\n",
    "    \n",
    "# By default shows losses and metrics for both training and validation\n",
    "tb_callback = tf.keras.callbacks.TensorBoard(log_dir=tb_dir,\n",
    "                                             profile_batch=0,\n",
    "                                             histogram_freq=0)  # if 1 shows weights histograms\n",
    "callbacks.append(tb_callback)\n",
    "\n",
    "# Early Stopping\n",
    "# --------------\n",
    "early_stop = True\n",
    "if early_stop:\n",
    "    es_callback = tf.keras.callbacks.EarlyStopping(monitor='val_meanIoU', patience=10, mode=\"max\")\n",
    "    callbacks.append(es_callback)\n",
    "\n",
    "#callbacks.append(DisplayCallback())\n",
    "\n",
    "\n",
    "model.fit(x=train_dataset0,\n",
    "          epochs=100,  #### set repeat in training dataset\n",
    "          steps_per_epoch=len(dataset),#+len(dataset1)\n",
    "          validation_data=valid_dataset0,\n",
    "          validation_steps=len(dataset_valid), #+len(dataset_valid1)\n",
    "          callbacks=callbacks)\n",
    "\n",
    "# How to visualize Tensorboard\n",
    "\n",
    "# 1. tensorboard --logdir EXPERIMENTS_DIR --port PORT     <- from terminal\n",
    "# 2. localhost:PORT   <- in your browser"
   ]
  },
  {
   "cell_type": "markdown",
   "metadata": {
    "id": "PA6D_TBknFJZ"
   },
   "source": [
    "import time\n",
    "import matplotlib.pyplot as plt\n",
    "\n",
    "from PIL import Image\n",
    "\n",
    "%matplotlib inline\n",
    "\n",
    "iterator = iter(valid_dataset)"
   ]
  },
  {
   "cell_type": "code",
   "execution_count": 25,
   "metadata": {
    "colab": {
     "base_uri": "https://localhost:8080/",
     "height": 299
    },
    "id": "3XiwaKZhnFJa",
    "outputId": "175284ff-269a-4a82-bd45-504bb5ff4002",
    "scrolled": true
   },
   "outputs": [
    {
     "name": "stderr",
     "output_type": "stream",
     "text": [
      "C:\\Users\\ASUS\\anaconda3\\envs\\tf_env\\lib\\site-packages\\ipykernel_launcher.py:4: UserWarning: Matplotlib is currently using module://ipykernel.pylab.backend_inline, which is a non-GUI backend, so cannot show the figure.\n",
      "  after removing the cwd from sys.path.\n"
     ]
    },
    {
     "data": {
      "text/plain": [
       "(1, 768, 512, 3)"
      ]
     },
     "execution_count": 25,
     "metadata": {},
     "output_type": "execute_result"
    },
    {
     "data": {
      "text/plain": [
       "<matplotlib.image.AxesImage at 0x2eda00a0e88>"
      ]
     },
     "execution_count": 25,
     "metadata": {},
     "output_type": "execute_result"
    },
    {
     "data": {
      "text/plain": [
       "<matplotlib.image.AxesImage at 0x2ede9c6c108>"
      ]
     },
     "execution_count": 25,
     "metadata": {},
     "output_type": "execute_result"
    },
    {
     "data": {
      "text/plain": [
       "<matplotlib.image.AxesImage at 0x2ede9e94488>"
      ]
     },
     "execution_count": 25,
     "metadata": {},
     "output_type": "execute_result"
    },
    {
     "data": {
      "image/png": "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\n",
      "text/plain": [
       "<Figure size 576x576 with 3 Axes>"
      ]
     },
     "metadata": {
      "needs_background": "light"
     },
     "output_type": "display_data"
    }
   ],
   "source": [
    "#model.load_weights(os.path.join(os.getcwd(),'multiclass_exps/CNN_Dec15_01-23-05/ckpts/cp.ckpt'))\n",
    "\n",
    "fig, ax = plt.subplots(1, 3, figsize=(8, 8))\n",
    "fig.show()\n",
    "image, target = next(iterator)\n",
    "\n",
    "image = image[0]\n",
    "target = target[0, ..., 0]\n",
    "\n",
    "out_sigmoid = model.predict(x=tf.expand_dims(image, 0))\n",
    "\n",
    "# Get predicted class as the index corresponding to the maximum value in the vector probability\n",
    "# predicted_class = tf.cast(out_sigmoid > score_th, tf.int32)\n",
    "# predicted_class = predicted_class[0, ..., 0]\n",
    "predicted_class = tf.argmax(out_sigmoid, -1)\n",
    "\n",
    "out_sigmoid.shape\n",
    "\n",
    "predicted_class = predicted_class[0, ...]\n",
    "\n",
    "# Assign colors (just for visualization)\n",
    "target_img = np.zeros([target.shape[0], target.shape[1], 3])\n",
    "prediction_img = np.zeros([target.shape[0], target.shape[1], 3])\n",
    "\n",
    "target_img[np.where(target == 0)] = [0, 0, 0]\n",
    "for i in range(1, 3):\n",
    "  target_img[np.where(target == i)] = np.array(colors[i-1])[:3] * 255\n",
    "\n",
    "prediction_img[np.where(predicted_class == 0)] = [0, 0, 0]\n",
    "for i in range(1, 3):\n",
    "  prediction_img[np.where(predicted_class == i)] = np.array(colors[i-1])[:3] * 255\n",
    "\n",
    "ax[0].imshow(np.uint8(image))\n",
    "ax[1].imshow(np.uint8(target_img))\n",
    "ax[2].imshow(np.uint8(prediction_img))\n",
    "\n",
    "fig.canvas.draw()\n",
    "time.sleep(1)"
   ]
  },
  {
   "cell_type": "code",
   "execution_count": 28,
   "metadata": {
    "id": "EZ1Yl-InnFJd"
   },
   "outputs": [
    {
     "name": "stdout",
     "output_type": "stream",
     "text": [
      ".jpg\n",
      ".jpg\n",
      ".jpg\n",
      ".jpg\n",
      ".png\n",
      ".png\n",
      ".jpg\n",
      ".jpg\n"
     ]
    }
   ],
   "source": [
    "submission_dict = {} \n",
    "\n",
    "for i in range(0,8):\n",
    "    image_filenames = next(os.walk(os.path.join(test_dir[i],\"Images/\")))[2]\n",
    "\n",
    "    if i in range(4,6):\n",
    "        suffix = \".png\"\n",
    "    else:\n",
    "        suffix = \".jpg\"\n",
    "    \n",
    "    print (suffix)\n",
    "    for image_name in image_filenames:\n",
    "    \n",
    "    \n",
    "        image_name=image_name[:-4]\n",
    "        img = Image.open(os.path.join(test_dir[i], 'Images', image_name + suffix))\n",
    "        #mask = rme.read_rgb_mask(os.path.join(self.dataset_dir, 'Masks', curr_filename + '.png'))\n",
    "\n",
    "        # Resize image and mask\n",
    "        img = img.resize([img_w,img_h])\n",
    "        \n",
    "\n",
    "        \n",
    "        # mask = mask.resize(self.out_shape)\n",
    "    \n",
    "        img_arr = preprocess_input(np.array(img))\n",
    "    \n",
    "        # load mask <- HERE you should have your segmentation model instead\n",
    "        mask_arr = np.argmax(model.predict(x=tf.expand_dims(img_arr, 0)),axis=1)\n",
    "\n",
    "    \n",
    "        submission_dict[image_name] = {}\n",
    "        submission_dict[image_name]['shape'] = [img_h,img_w]\n",
    "        submission_dict[image_name]['team'] = teams[math.floor(i/2)]\n",
    "        submission_dict[image_name]['crop'] = crops[i%2]\n",
    "        submission_dict[image_name]['segmentation'] = {}\n",
    "\n",
    "        # RLE encoding\n",
    "        # crop\n",
    "        rle_encoded_crop = ps.rle_encode(mask_arr == 1)\n",
    "        # weed\n",
    "        rle_encoded_weed = ps.rle_encode(mask_arr == 2)\n",
    "\n",
    "        submission_dict[image_name]['segmentation']['crop'] = rle_encoded_crop\n",
    "        submission_dict[image_name]['segmentation']['weed'] = rle_encoded_weed\n",
    "\n",
    "        # Please notice that in this example we have a single prediction.\n",
    "        # For the competition you have to provide segmentation for each of\n",
    "        # the test images.\n",
    "\n",
    "        # Finally, save the results into the submission.json file\n",
    "with open(os.path.join(dataset_dir[0],\"submission.json\"), 'w') as f:\n",
    "    json.dump(submission_dict, f)\n",
    "    \n",
    "    "
   ]
  },
  {
   "cell_type": "markdown",
   "metadata": {
    "id": "WuVw1q_NnFJh"
   },
   "source": [
    "image_filenames = next(os.walk(os.path.join(test_dir,\"Images/\")))[2]\n",
    "\n",
    "for image_name in image_filenames:\n",
    "    image_name=image_name[:-4]\n",
    "    img = Image.open(os.path.join(test_dir, 'Images', image_name + '.jpg'))\n",
    "    #mask = rme.read_rgb_mask(os.path.join(self.dataset_dir, 'Masks', curr_filename + '.png'))\n",
    "\n",
    "    # Resize image and mask\n",
    "    img = img.resize([img_w,img_h])\n",
    "        \n",
    "\n",
    "        \n",
    "    # mask = mask.resize(self.out_shape)\n",
    "    \n",
    "    img_arr = np.array(img)\n",
    "    model.predict(x=tf.expand_dims(img_arr, 0))"
   ]
  },
  {
   "cell_type": "code",
   "execution_count": 24,
   "metadata": {
    "colab": {
     "base_uri": "https://localhost:8080/",
     "height": 1000
    },
    "id": "-JUMMkS9eyQW",
    "outputId": "75fd90bc-2d67-4f87-c550-67fb273fa116"
   },
   "outputs": [
    {
     "data": {
      "image/png": "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\n",
      "text/plain": [
       "<IPython.core.display.Image object>"
      ]
     },
     "execution_count": 24,
     "metadata": {},
     "output_type": "execute_result"
    }
   ],
   "source": [
    "\n",
    "tf.keras.utils.plot_model(model, show_shapes=True)\n"
   ]
  },
  {
   "cell_type": "code",
   "execution_count": 26,
   "metadata": {
    "id": "zo1JbCO5nFJh"
   },
   "outputs": [
    {
     "name": "stderr",
     "output_type": "stream",
     "text": [
      "C:\\Users\\ASUS\\anaconda3\\envs\\tf_env\\lib\\site-packages\\ipykernel_launcher.py:4: UserWarning: Matplotlib is currently using module://ipykernel.pylab.backend_inline, which is a non-GUI backend, so cannot show the figure.\n",
      "  after removing the cwd from sys.path.\n"
     ]
    },
    {
     "data": {
      "text/plain": [
       "(1, 768, 512, 3)"
      ]
     },
     "execution_count": 26,
     "metadata": {},
     "output_type": "execute_result"
    },
    {
     "data": {
      "text/plain": [
       "(1, 768, 512, 3)"
      ]
     },
     "execution_count": 26,
     "metadata": {},
     "output_type": "execute_result"
    },
    {
     "data": {
      "text/plain": [
       "(1, 768, 512, 3)"
      ]
     },
     "execution_count": 26,
     "metadata": {},
     "output_type": "execute_result"
    },
    {
     "data": {
      "text/plain": [
       "(1, 768, 512, 3)"
      ]
     },
     "execution_count": 26,
     "metadata": {},
     "output_type": "execute_result"
    },
    {
     "data": {
      "text/plain": [
       "(1, 768, 512, 3)"
      ]
     },
     "execution_count": 26,
     "metadata": {},
     "output_type": "execute_result"
    },
    {
     "data": {
      "text/plain": [
       "(1, 768, 512, 3)"
      ]
     },
     "execution_count": 26,
     "metadata": {},
     "output_type": "execute_result"
    },
    {
     "data": {
      "text/plain": [
       "(1, 768, 512, 3)"
      ]
     },
     "execution_count": 26,
     "metadata": {},
     "output_type": "execute_result"
    },
    {
     "data": {
      "text/plain": [
       "(1, 768, 512, 3)"
      ]
     },
     "execution_count": 26,
     "metadata": {},
     "output_type": "execute_result"
    },
    {
     "data": {
      "text/plain": [
       "<matplotlib.image.AxesImage at 0x2eda0ad6f08>"
      ]
     },
     "execution_count": 26,
     "metadata": {},
     "output_type": "execute_result"
    },
    {
     "data": {
      "text/plain": [
       "<matplotlib.image.AxesImage at 0x2ede956aa08>"
      ]
     },
     "execution_count": 26,
     "metadata": {},
     "output_type": "execute_result"
    },
    {
     "data": {
      "image/png": "iVBORw0KGgoAAAANSUhEUgAAAfUAAAC7CAYAAAB8bQe5AAAAOXRFWHRTb2Z0d2FyZQBNYXRwbG90bGliIHZlcnNpb24zLjMuMiwgaHR0cHM6Ly9tYXRwbG90bGliLm9yZy8vihELAAAACXBIWXMAAAsTAAALEwEAmpwYAAEAAElEQVR4nOz9Z7QtSZaYh30R6c3x7nrzbL3y1dXT3TODxoCi4EGBEAliQIpGAgFSi1haXIukAEEgAQoifggCCIFcIgSQooQl0QDCiMQiMRrCDMZ1N9pUVZd7/r53/fE+T/oM/biveqqnzXR3VderKt7vz73nnMzIfSLPzh2xY8feQinFJZdccskll1zyyUc+bQEuueSSSy655JIPh0ujfskll1xyySWfEi6N+iWXXHLJJZd8Srg06pdccskll1zyKeHSqF9yySWXXHLJp4RLo37JJZdccsklnxI+cqMuhPhdQoi7QogHQog/+VFf/5JLLvlwuNTlSy75+CE+yn3qQggNuAf8duAE+Brwh5VS735kQlxyySUfmEtdvuSSjycf9Uz9c8ADpdSBUioB/ivg93/EMlxyySUfnEtdvuSSjyEftVHfBI7f9/rkyXuXXHLJJ4tLXb7kko8h+kd8PfFd3vsO/78Q4o8BfwxASvFqremBmYMSINS3mhEUgCJNBUUon3ykUIiL/99/EQVQfPcLKhDi4v1vF1B8+7/qyRHi/Y38emvfOl9cXF9d/Psd7Ynv0RPiu0jwpEN+w3kCIUBIiRQCpUApxcVSynt/QRXqfTKIb/1977sIKdGk/HUhFSjUxXnqfd9N/PqfolDfOuY3dpUAxJO2FOK9Tv+NhyGk/PZ+e9ImT84XUiAQCCEoiuLX+1Q8aVnIJ7dAoYr3RFffavKiF58c/153vtdHfJfXT9pV6kJmpQTqvYaftP2+ZhCIX+/j932vb+urb/XpRV+q984U39bKr99bIS+Ovfj1fusHqd77Iatf75+L39dFh79PHZjOgqFSqvUdnf7j4YfWZeDV906tsodD/bs0oBhzj4TlhyfpJZf8EGhYWJRJWKIoyImfhhg/si5/1Eb9BNh+3+st4Ow3HqSU+mvAXwNoNErqn/m3XyaT6uKhJ0AWBRoJSsUILeX8oUH+sAwo0FKkMkFIpBQIUaAUZGlKmsVkef7EAEokOYUSqFzH0AuUEmjyyYNVaEhNQ+UXRkjJDFEUKCSa0NB0QEgUGqj8YmBw8TimkAUSDaEUaDlSaYCOJgS6Xlw8r4UGAjR0hCzQNQWiACVQSiMv1PvGDhqSjFxTSHVxvCYEluOg6RaqiBHCIslToihGKoFQCqnlPLEVoGkIQBMagoJcKbJcYjgSVWgIJJqmk0QpWZ5TFBpoClEUZGmKIkeTiiRTFCqjUDkiNylUAaJAygtjaAgdRI7QDYq8QIocJeXFrREFRaGjGwIpMyQmIAjDCEjRNQ3TsNF10DWNTEkoUnTdeiJ/jipyhCYxNEmaX3S9YXLRZ1kCmkYWg1I5RZ5TCImlayiVkReCPJfkKifPUvIc8iyjUAIhC5CQZwVFBkmWURRAAQUFiJyCHCl1CgV5moLSgAJR6BQyQyCRKKQuMW39YlCSF8RJQpbl5Ah07eLeSWGgSUDoSHkxwBCahlIFGhI0A0VGJgpUppGqBKWlWMrC1HRMYSKkhqEVCCnQNMl/8bd++fDHpLffjR9al4W4GKFoGPxu/grX+b1PNObJsSgGvMN/zhd/rIJfcsn3w8Bhnc/Q5y2WdJ+WGD+yLn/URv1rwHUhxD5wCvws8M9/vxN0R0MZJrpKKYoUIQ2KAnISchHi5AJ9WUaYGrooQFoINJQw0DQohEClBRQCpXKksihUjhQKIfRvzQB1oT2ZNekIMuDiQYsh0Z48ipSuoYSGLrmYIYuLWa4UIAVoaOTiySxTyQuDWmQU6EhdYOsGmiEvZphKYWoGhqbhOjZClyA1LF0RRhESRZzkhFGBJCcvDApVILWL2VmWSuKwwDQS0AWoBFEIDN24kD8TgERqGlIICqUuDIgoKHIDJXN0JdCUREhBnl/M8k1bIlJBlhdkWUSeXXhExJM2NAGasFECCpkhlQRNoSsDdXFFlNTQhCBSCYVS6ErD1CUCnfzJjJ7cIC0yhCbRLR1dtzEkSE3DMSRKCCxlYBgOSkiUBiIX5EqhhMI0LGwKBJIiK8jJ8colLNumSHMQgjzLSFLwPYu0KMiVwLYkZAlpoYjTgiSOyZKMJM5IipQ8VYRJiFkIVAxJVlDkGTkSIRVKQpZLlGYBOUpp6CIlRWLoOYKCTEGe5Ugs8ixDKoGpSTIkujDRNXXhjRCAEkggKwQ88ZxIFHmRk2SQCQFFSJIXCF1g6wrXMDFMA03qGAZYuoljuT8ejf3e/NC6LJAoCmyqdHjxOwx6woJ/xJ8lYvrjlPuSS74vEVMe8gtPW4wfmY/UqCulMiHEHwd+AdCA/7tS6p3ve47MMZUkUy66KFCFQLGiSC0sU9H29ugnS3RLIoWGFBKpiYsHnqZRALGWkABCqAvjgIakQIkCIXQMTaK/54UWEjCRoiDPLpwviAs3tyYFBRpSaCAVhRSYCAqpoUsDKS+mdjo6pimxTJMkyTB0nWa1TKteplS10GwXzyiIwpjRckmtWmM8GTGdrtjfXEepiFqthq5pTAdLLN9lOF4Qp4ooXbGz3iTPBEgolT2Gg1PO+gmOa2LIlH4/YDoLWKxiNF3HLVVwLElBTpqkJHFGnCYUmUI3PIQhQGUUhSQriovBEAlxJMlFRlEoNF3iuC62IcjyC0+HpoGmX7iETV0njXNAkIuUPMlQqoYqMoSh4zgmFJAhkCKnyC8e6bqhXTgo0KBIMS0L09GxdAvXugj5WCxDTF3D0XWSQiGkRq4yHFNh2CVu7O6yWoyZpxEVp0y9WiaMIparFHSTYDGlPxjQrtYpbBuPFNMto+Uxj7sDlitBjMQqUmbzKWlaEOYpKi+I0hSVJ+RZzipMyNKQIM7JU8jQAIFKBfp77n9NQ9fkk6FhgdJ0igwMWaChEBKkYSCUuhh8AplKKIREf+J6LxSQZ8RpTlpEIApyFLIQ6LZBqeRj6RrlUplW3ccveWx2WvyH/7e//WPS3O+ilz+CLr9n1CUGiuI3fKr4+/xJ7vDf/JgkvuSS/3HwUc/UUUr9XeDv/uDHQ1EIhFDomk6Wp0gMDE0hjZzuPMCWFrolL9aINYmhG1iWjWU7CKGzCmbMFguSlUCoFIQBhUKKDDCQOhi6ji4VQprkXHRMUagLwy81NE3DlBLHstC1Asu02Vhvs7G5xmx6xmQS016rY8uCQkqqZYdEV6zXtzjqndFwyuiWQNd1CtPGFAZpHtOcjpkOJnTWm6xmpyyijKrjX8z2pYFXKYFh8NznX+XR8bvEZyeUqxXGswV7z75Ar39G48oNJuE9mqU6V6+uU6QZ/VGfPMro9hcEUUpBxvUrWxhCUKs2KYTG/YcPmM0SWlstBpMBybxAIQjDmGUeITwdicZiFZCm8UUfORa6KvBdlygHQxO4jkXV9TBMRRRnZEVBkuZYukQXAsdzsXTBbBFw2huxt9Gm7DgoraDTKPHg8SkqErieyZUrGyxSjd5Ssr1e58ZmhdvvvossYkzDIE5SxsMZ4/kSx3FpNGpM4xi/1cQfDZGOST9YcvveCT/5wi0WwYLhZMLzLz5Pp93kV3/pa5zFC1p7LtcaHi+WXL72xj0KzebGlXVWQQmR58SaiW9o3H14TKfV5PCsh2YKRqOYeRJTJAlBELBaxeRSIyO98GgAICgKBcWFh0jq78VyaCCLJwMaASK7CPN4z9sDkAukFMRFSpLFKHkxeEkRGIbBlc0NdlvrFDm89MUv0LItRouQW7udD1lTfxDd/OF0ucIOAQOa3GLOCR4dDJwnnwp81lDkPx5hL7nkKeLS5Iv8KUx8QBAz41f484SMP/RrfeRG/YdFKUVRCJTUkUKgY5PIEF1mFw/DhaBslZCGQtd1NKkjpcBybCzbQ+oGuZZixSEWNppm4lg6mpAUOSgh2dlaYxZOsKWOEhr1UhndEUznK168fg1l5RRhQqPRplzxWQZjzrsznLKBaztkVDGsAl1KSh2ftIiIU8XNnefJXZ358QDflQzHMzZbZVbDPu7OTRaTGcEy48q1a4wWIzY2YybjgHmukwgLw8xoVV3yIqX76DVMNNav75MoKNKUR2+9Rr1ao1GuUnn1Foa0mU66JMokERqVis+mNEgKwXw15aQ7ZL6K2NvR2b+6yQsvPcdsEjAa9ag7NpmhME0PKTIeHnVJc8HV3W3yaIphl9nZrvPNN95hHua0mmXKZZswWLJ79Sa9syP8eofdnW1MXePwwbu02rtMxgM29m9w+PBtlvM5VV1xbX+bXJPUKzaD8YxKpcre822qlSYn3VPCwiEOV5ydnhMvx3iaQPPKbK+t8/jwEN1NuVEpc9iboaSBHQdMTxdoroOtJNfWN+k/7FJutBkNenhFysnxMctVQKNiUAw09MmYgWryzMvPsnk2wXFMgvkSZTi4VsZqMMHY2eW569vMFiuqJYPP/tRPYEWSX/nyVzBdF6lyHhyfkguD5SpCiZAo0EjzhDBNyENFlCZo5GTiYnlEFSBEiv7E8BcIpAKlXcRr6BpI/cIL5BgKx/NotsvEKiQDREsQ+Sa/6+VXmc2WPHj8GE0zedd62pr6m2NT5QX+F5TZ5IhfY5PPfeszRcGQO09Ruksu+fHgs8Yf5P/DNj+JeLLhrCAnJeQf8We+i9fqg/GxN+ooQZanOMKErEAjxVYSSy+DjBGqjtHw0Q0b09IwDYFlmFiWg+NarKKITrmB3q7R2mzhiJx6p8ZgPEbHpFKt09lb5+1332a5DMjClDRMqTSaXNlVxGnO3rVryCwkKzTIBZW1HfTyAsdzWQ4n+L6HW3bYubbGSb+PnVapP7vL0cEBJ/0TFr0lW/4exAF37y956aXnOXhwG01BnKS8c/+EesMjznI81yfPM8q+wVF3ghQZQbRClybXrl1jPhtwdnSGX6vSXquTFhp2pUK7UmIxGjM6z1jOF/gln0LTifKc/d01hKzTHcwJZxGjfo+DHFxXYJV8qvUGrU4TVMrrr30Tw/DYaDXwbQO74WIkOsN5yDLKWG/vUFoOaTRdjs8nJLrGKoopVcrkRcrp2TFJpGjXysyWS5ZRytnD20ymS2o27H/mJiePHxCkgs5anXAVkEQaq0Sw6A6QacFi2seUsNGo4JCiezVcA4bBkvNJgIOGWS9x3XOYzWdsbe8QBgmD/pjD0ZRMt/CrLodHh8yCgNr6JsFoiswytje30W0fgNlyzte/9gbLMOP561eZPjzA1iGIA/aevYEtJCfTHgK4srVFNF9Su/Ysr8Y3efPuAbdeuMreRoU3H5zTuLWDHuU87C/wLcHZcE4cJwRRQpJEBMGSNM5R7wXFFxcBhIYSCAm6bmKbAtdx8VyDRqOMvqYTVArmQUA2GHA2mXC+OMJzFafxVXwUlmPjVkt4+VOJ0P0hEXyWf52v8h/xWf51xjykyTMIBBETjvnS0xbwkks+dDw6rPHytww6gETjFf6X3Obn6PHmtzxU0tDQDJ109aPr88ffqCNQKiMrVgilYaJdRLhLk46xxrOvPku4KsgktFodalVJGuZ4ZZe0gHg0Ax3Kvkd3OqHql+gNR4znAXXfoDcbIHsGnU6LJInYqjdQ6ZjDwwnuWh1NwJ13HgIZLdPEr1UotIIiWKEsg26/x+baGobjcTad0j0bkIYptw+OaXsmHdvh5st72L4gTgOkSOnNc5bzhKu760yWM6YPTugGKzzfQRQ6YbSgUipzxchBaCxnU5I05PjBIyzfo1WvctSfYAidvRt7nJ31OJtMsTNo7FynqgTB9JjevXvYlRYPj45wnRKm6bB2pYXfLjGfhDiORraYcTAKeHDaZW+jjW8ajGdT1ja30DXBqN8HVeBXmhRZilP3USWD8WRCGGZsrHmUPJPuyYCS67Gztc7br7/Gwdhm/+oafqlEvByBsuhsX+Hw+BGVSpndik+S5ASR4vrVDWS+YhgUYICtUgxTkocLKldvMjy9T+K02d9dQ49iUmkSRClCy3j5xevYpSqjRcAiK3BWU9xkRSwgGvfZazdIioTtF/b55ut3SNKUWtklNzxuXt9lOB5xMOnzjW98jZIsaF6/RjrJGZz1aZZMypUapWoFXSnOpjPe+Ic/T5QWpEFIfxqwW62x24rYev55Zr0hO89YeK7Jsj/kZDxCJQXlVod8NefkqIffrkGYMl6EqCwno2Cj2UAaBa1Gg8lswcufeR4rE/zdO7/KgwdvMV3O8WwHHYM4Vpwtl7x9/x4/tbOPTFMSc0n9s+2nrag/ED4dfiv/LhKdE74EPINC8ZhfYvGdwfOXXPKJZ8ojjvhlrvI7v82w+2zwL/MP+UX+Pb7KfwRC8D/98/8yV3/nZ/hPXvzjP/L1PvZGXVFQKEiLCIlOLi4CpiSCbXOdVr2GvVtmNFtQdUsYtiSMZ7z51kNefvFFFsaIRrtOuJKU/TLz2ZTVdMHG+hbj+ZSy7nHy+BHTecAqyug81yDOTRZJD2Nmsrm7hikNwt75RZATkK5C0jRlOZ5QiAzbqxKmK6JVwnKxYLO1xqYlmC0VzfUGvfGCtuchNY1ETzh99112t1p0wyVxnNLYWmMyGxHlNq6ZsJwm9MdjQKAbCc+/8iInvWOihaTka9jSxZ4EbOxt0B12GfUmnJ33qZZqWBroUrK5v4m/u080neK7FSpVl9EoQDckp2cjTKPMoD/Gt1w2fIv+PGDQG+KZDq6rYXplZvMBhqkTLyImkxGLKEPoDrlKMXPY322zsbXOu3cfcvXKNW4+u8vBUQ+73iAPEgaTgFK7xKN7Y2bLlFHq4Ws1Bt0e9WaL1XzKjZ0mRZGRe1XMbEGt7JA7FrkCpTkMZwGG4VKkY775zS5JItnfWkMzBP3xmHLQQVsNePD4GN/R2N3fQ5oWm+02iIzp2Ql5nnLYm3Lz5nV6swm9aYRtQd6qs3f1Cv2zU8ZHp8xsH3syolmq8ny7glcv0T0Z41Z9Th8cYYmC1PMoaTob601My2QQwau/83dSzKaYjTLdo2MC20Tlipv7V5lNpxiOSaCV2blR4oXPfZa1ssn9b7zDO49Pcep1hmdDWnUfr2LRPTzl9Tdv8+qLz3LL2mak+twXJkmWYZkFcZYQpZBbBTk6m9e2SYw+6eHJ01bVHwiB/NY6+g6/9cksfcpX+SsUpE9Zuksu+fCJmfO3+Rf4HfwFXuRfQsMALrZA21S5xT/D1/mrlHdqvPCHf4Ys/mB68Akw6gqhsidJADQ0pchUTlVvU++0qVfqNPd+gpul1sXWpydJQ17+bIpCsRGPCOMxd97+KhVNw/UsTLtFsIgRqkBTCcLRMBY5Ddvg+KiH13RRuUQJjdFwgi4KPKdElC5YTMdMAoVTJLSaTfZ2NvjSl79MEsHLz+7Trthk2ZJlouPbDoeDMXkY0Y9WlOo1FlHC5196lkAtOHx0yDIQxGmEKywG41NarTqNisN4PKC1vkN97xpvvfUGhZ5RLQr6jydojotjuqwWY+LZEs92+MytKxydDtAM8MotdNtmcXbCaBCzu+0zjxOGwz7DqUa1VkVInbXWs9TbJYr5gsXrd1iuYnShUS15jM9OyMjQlcYXfuZnEHrGV/7Bl8hEzHQeMY1ikDlJltOu1njzjdc47fdJkhUVy0TTNW5d3+fRvfs4usn287ucdrsUVpnmRoc0zXnhhWdQWU6qOxzfv8PJ2YBhqU2t4uJZBobIEHFKnCukMljNV6zv7zBfzZCZpH90hO9VcA0LR0sopMkKGzUP6N+9j+k7hNMZ9UqFk9MTonabWs3jaqfBMox4eO8enUYdS+S0ajWmyxhfCca9PkIVDN65D0rS3Nuj3irz8OCYIilwGiWibMzdoyn11hqnDx9zfnxKuebheg7D4YRMGGxs+/imS0XPOT0dcD5bcnDvAcFGG0yBLFJ8U2dlZMgso3ceoJfqlH2P+SIjEhaff+Un2T454sv9xwTKwlAzhJKMkwDNlrz5+rusf9FFzWdPWVN/eN7b0nbEr3LErz1laS655MdHxIS/yx9nxD1+kn8Ll9a3fv9rvESb51mEB/TeesyDX3jtA13rY2/UJeJi609uIMTFPvW0SMnSgtk4YFp22a1uPdn8rP36iU++mWVXmJ4Nqbpltnb3mAcjDvpDFqs5lbJPXmQ0nCpGTVIkKa6rMR+vePW5FxgvxgzHE0zTJZh3STLFJIx5/sYtbtzc5uDkmIPDOa1KCWfdhmJBve4wXWnomkAXguCsy/7+C6zyMZarUa2aPDh+SHNtg41Om4NHZ3Ta24RZSkxGHOZsPLtL//V3ODs4YHB2TBzFhGmOrDYwdajWSyyCKYW+wf7VBm+9/Q6+s8ULL1yn3zvi6PCQLE5oew6L7oR33niDWrWO53g4pTJXtjYRKiUqQrrHM7xynVsv3qTfOyMJC5xShUanQqPWYDyaUV3bZDzps3t1kzffuc/mdodqyWY2C5CmDUJx69l9vvmNd3n2uRtMZjMsz2M0nePVaqjBimF/RKtWwjcUaaJjGTq/9o23qTfKuJaGkgUv3LrBbKXIDY9xVlD3fZzwmCyVVLeu8MpVk3jRY1HoVHyXa7ubzKcjvFaNRtni9r17ZFqZdruOMAXj0x6aFERuzvZmjSTLSFWG0jTiZcDm9gbSculYBst3blNf9wg0g92dOqenQ9JU55lnrvDw3n2iso9veZQ2S2xub/Klr5zhGy5lXbKYnrK91ySeLpitIpxKlVrZZRksKFXrjMcDVnFCMp8wGWgcPTrAL5XJKZgt59iNCkWq6A8D/JKN75hMe11GgxHb+5vYlsOLjQ2+Oj4kM1xEkTOfjfiVb7yBHQm8d0oIKk9DPX8ovldA0Irhjz/qXTxJ5fTR1a+65JJvIyPi1/gLnPM6f4ifexIJDxYVfgt/kp/r/wv8l//0n7vIs/EB+Ngb9QtSFBpCFEgZkmYKv+yz3qni2yaIFDC42B8kfz3r6ZMcoKHm8Etvv4H95TcwXANHM6itN3nw6ARf6Gxttah7NvbWNot4yXpFYFfq1FoWJ8GY3lmPRrXEdDlnuYpZrcY8OBREi4C6KbCrLRoNm+G4y2AIZUdRdnzKrovuumBLomGE51ZJozLXdqr0ByPOBktefOlZijzhwe0HOEJiljWGB0Oeu3mVJAl59+4RWZIjhGQRzrm+s83Vq1d5fHgPGYX044C1Zov6RhPDqKMGExxPYVU95qMxruvSqFfIgFa7wWgyJUpyytUyFJLJ8A7T0YT1nX0WQcBssqC8WqKaDfyOwcat5zh8+Ca942NKZY/NaplwtWQkTNqtBuWyT7PdJs4CbNvG9spkWoaZJpw+PsWwLVqeiV/xEZaJUClKUziewEojxFJgGiVs18Gt+TTWNGZBQhZGDM4f0d6/QssQHJ/dpbS1SxGnrO89Q3ttC6PyNl/5+gPMUpWSrdNZC6iUHM7OxyTLGE1omKUSUZaRpjGmpjPuB9RKPpbhshgPiNOcYDzD9cukRcKg30drldnd7zA4HaFcn1c/9xnefuc2lXYdW08ZT09YK9VYmILNK1v07jziK48e8cKNLYQImQ56lGv7iDRmfHZCkGZ01lqUDI0Fgu39OuNxwEhKguGAs8GCK89eIVnMGOcJrUaTIEkpNTyiYIlhSuxAwxM6mTTJ8yVhFLHqCJ7Z3GN0OsKqeU9LOT8QCkVA/8d+Hd02UIUi/4CuzUsu+WAojvgVerzFFl94koVUcJ3fw8v8K3wz/huoJ8nPflQ+IUYdNCVI1JN0ozImySPuHfdJ8jb7+RKheU/cGSZKPQlGeDI4b3gNbtSrZHaIbVWob1Q4Pu3i1T06lSpHvWOCwZJaY4TvW0xmM0zTQxcpDaNEXikIF0s8AWvtBhu7W/S7B3S7S0r1Oq/ueBydPyZKXRI1R5hNdNMmMyzcPOUf/NI/pNbyGPdGfPHzn2M6n9LsbJEXR9y9fQddGDSbTfIiJQlDRqsl592YatVF6mXWyibT5ZROq01uCIbTOdVKg35vwuDskK2dq9x+6y2qXglV6Lz4k1/gra/9MrrtoTQYzUOEKZDDJeWaz3Q+ZTaf0ey02NzZI16GaEXI9StXUVJDZRHLMObrX/4G7c1tdnaaOI7JbBLSvnaVum+xWq7oDrss5nPmy5Bas4MwPB4+OqJdMlFCUK80mIwn6FqO4UgG/QHoBuubbYRpUd/oUPFsCt1AJRGPHtylXmuR5hmz6YXhGk4mbO9sYtsG9+++S63exo8zxtM5UggcNSQJbJaZyVFvzJbR4cbNbZIg52gwJp6P6fYnrDVrOL5HxbKI5wuCMCbJE7yKy7PPPcfpyQlRIqjaKfNViI6OcCxGZyPuD07xDMVqMkI1Smj5kGkkWLt6i9V8Spib7LYsFv0TctMkyy5S8AqliApFuEoIS4LmzgZNqVGu1rH1M4IopEDx05/f49HZkFwZJGnO2+/e5bzfZ2tnizxKKZdtNN3lZmmNb45PCZVGlEQ8PD1kZo3ZM9fYc5tPUz1/IN4fJPR+5vz44wGyMPmxX+OSS34QMiL+MX+ZNf5zDC4yQRp4/B7+YxwafJm/SPEBDPsnwKgrclWgPdnPK4oCpVls+G1eurlPHCrAuJiWi4uZ+nu8lzvdd5qY7XVO3r5Hy5LcaG4wWSm0xYThqM/gbEyr1mBnd4skjdB0nbPumGduXSdPQ+r1Knfu3KVU8mi11uidnVGr1tBCjcpai6PjE8pWlZIVs9Vp8Ph0TJgqcsYYfh2rXCKZC2rrkuFoQGN9h+H5IbX1NqFtIeOQaRQiNEmcCiwU5XKZXNMZrpZ87jOfp940kZpOr9fn4Rtf59rNW+x2Gjx3fZP+NECR8Po7h+hFhlty6TQdDh4NKfIclaasNbfZWO9geA5xtERoBsPhgFZ7naQoGI7HtMo1au0280DH0mPWKg7xfEQS5xSyoN1ukCVLdLdE1TXwypLZKKHerHJy9A5maZ299SZCSgpSwighWy3ZubFLssrZ2qhzdjZgOZtf5Nxf9JhFHrrjY2g5pVKF5voGajkijxKC8ZjTswnHZ3222xVOH58ThSm+o7F4fBtpWKTK4t6dR9Sb61RKOqQZjl/DKencatYpohl70win5IEqOO1PKLWa1J78tjQNpkpH6RZJCq1OE0s3CJIUEUV0lwtu7q0x7fU5700x5wl7+002KzmL3inJasXp+Yj9G1d5ZmeL23cOwVcsZgtqrsPg5IwQydb1XVJiVoOA0+6Adr3K5z97k4N3H3L3/kM0BHqjQzbssUoCdho+47MBzU4diYYhFTW7wk0n5l6QkOQjkjymH/UZaucsnU/qDFQ9zfzal1zyVLjNz7HJF/gcfxwN48kis8XP8GdY4xX+Nj/7I7f9sTfqFxnMC3IRIbAphMSUBfVKi9VKYZgaQTBGZFNMu47pOrxn2N8rEqZpBomhk60iJmrKahmSRytylTKapVQadcJUcfvRAWXNYHtvnbdPH/K1N97FdkzankPZdrFtE79q0Ts5ZZ7nhDmUNZtIs5iNl9g1D60raDU26UcRJiaTs2PWym0qrs/uCzssJsfcu3eb6/vbjLqneCQ8Xowo4ZGMp0hNYpmSeLUEAS/ttZmvxszOfWqeTsW2+cyrP0GYBESZQGYGs1VInsOV9TpCJCyHAzb2d7nzsM9ksOC5Z5/Hq9gESlBMA7QixbczarUab91+h1s7a9RdB8/1uPvuXSqVCp2NNppVIkxCFuMpo/GKYThjfXODk0cnzJcBlu1SqtQ4Hs+xK2toaUyOYjheYrsON565QbPeIAbSPMG0PFJ9gSYFi0GfJId2s07ZN3l054AglYwnMyrVElGWsr7dQRcGOC4Vp2B3e4P+ZIYQkKQJ+TJmNV/hVtZxHR1Ha4DQiRYrhuMJwi8xH0+YTJaU7RG26zA7O8L2bNxyBZEnCBKW3ceMRiss22Q2W+LbDr3RjNr6Ont1k8fdKc9srhFlxxhCMF3kbHcaRN0BgyCg1bLQHZ1lobHW8ZlMChIlMSplbN/GzTPe+LUv45UqeIZP7kg21xvcv39OqFtc2WoSxykHZzMSv87NtX0qdsHhwQmJUpiWi21qyCKlHJX56WaFLz2Yc5pMybQFkgFvHX6UtVw+PCKmdHn9aYvxofFeKtxLLvl+FGT8Q/73JMz5In8a+SQezMDhef7QBzLqH3U99R+aizIjBgUmQigMTWJqJpYQrK+1MK2EwfFtescnDLsPyaIBhZqR53Pei4oRCEq1FoKMQb/L2eNjGm0P2zGZj7pEozlGkVA1HEr1MiiDn37pZZ7ZcvELjc6VbfZu7uFXq1RLTbauXKXR3sCrVVhOhli5htJyLM1kHAeMlwluIVmFGZlQbNTLmF7G2eEJs0HMjVs3eHRyzPlkRX8ekouYsmFz89Ytrl3Z59rNHYyySWtjk+vXt5lMpxwfnWO7HueLGV965zaH53NG0xHzMKHlV9jc2mBrf5tlAtL2UCSst+q88PwVHDuHQnHa7/Hu/Xv0+j20UpPDh4/IFysePDgijnKOz7pouiBcLQkLhTA9GtUWutKRqeDK1R2m8yUyy3BNk85ah3Ax4vGd+8xnS8JcctKfEcUZhmHyzjsPGU+W6ELj+eefRdclLz97iyvXbvLiT3wOr9zk/LRP92REq72BI1JkFjPvX6S4PTrq8s27j7h7/z7decju87cwiUHqmFJw5dZ1XvncSxgyYTEdc/vuY0qNBo+OD4iFoGZr5IuAG/tr3Lh2DXIo1Rt0j45Yzqd0J3Oschvbcum0febzCZo0mKU5plAcHw1wbYdoMmcYJuxdu8r27haG7RItA2Z5zpWdDpPJnPFwwOHxYwrTZO/mPq6RMjp5zF67TiEMrty4yqsvPM/2Rom6qZMFEaYlCfojJgnMVhG2Z+PFc+487vOLrx+ytbtOwy+xCGM6DY9yycc0JC+/9DwvtNbRxZxcRhhmSvaxH55/d2YcseD8aYvxobDFF/gp/h2+e1XaSy75djJCvsJf5oQvoz7ECM5PxKNAyQwNHUOYaELQ0NpEqeQrb7zL3v51wniCp5mEMmM572O7zkWZUd8EbASCrfZNjju/hu9EnJ6f4a29RJKNubK7QximmBbYrkW7XePodMDJcZ9mrYIyVnzpF79OvVUimE4xdR9l5FhWmUwPSeYjWpUa7WqJcDzhdDBk/M1TrmyV2NhZp7pW5bh3ztGDUzY2N8kzRRy/Q9lxCfMpo+iIVslnPl9y/2tHiDxlbW+HohDo+YSyu45vmUz654y6TZQy8FTB2aNj1rY7pPEJjiXwbIdFURBM5xjtbXKtQmMt4+DufdIkx5Aavl/iC6+8hMGS8eAY25DU99aYB3PitMD1bGRRMJ8MuP/uIT/5T/4+HNcmSmLWsi6n52PWNzZpbFTI45i33rpHmkpKtRrzIMBsVnFzn4PbB3z1zSN+6tXr9E8fUWglBr0xs3GXYJVRqzXY2m5T5CtsU2c2GXB8PmB/e4vhZMrVvR2OHp+yvbXOeDAgzApG531kKmi210iWS0pemVH/jOF8Qa1ex5Y5WZ7ylV/6ZXb39zi8e5f4yhWqJY9JkGEwZTSasbPdZDBeMV2GRIspb0wj1hs6UoCpCQaDEWtbTbzNTbKjU27fvs/+/hZv3b7Py597hflwyNr6GqQxGzWXAp1rV69gWhKEybA35vToDN+voGuCSBjkaYImctJ4TqDrlJs2k9mcsudS8i2CJKJkOYRhQJEuWQUT0gSWaYpuCjwKNFPgOU0aYcZiFrC/cYPq8DaTfMFarc4kmj9tNf2hUSjO+BopwdMW5QNjUuJ38VeY8OBpi/KBuVjnFZ+K+/JxJ2LKL/N/5Gf5b9CxP5Q2PxlGHRNd6hc1zvUCIzM4Pzqn3fGZnZxw/ZlnmMcr0lRhmTpJNMXzfVQxR0gTkFTdNuVak1It5/C8y7033yYsUuqewWK+YL29gd+qcH42oFQy2VrvYDsWprAI5yvOH51Q8l1ef+MtOg2Pkj9iFkbYUuPh+DZ5bNC+usn++iZu9R2K0Ga+mDJ5NMSxHNabTYQomA3OGQ8l5XaHMI8I/YTFQKdedWn6Cc2qR2+6oD8cM3ZdlmGIlFAqlTjqLejsX2UpxzTqGlXLpL3ZYjGf4DUqxL1Tbl69gWUaTLtnzCdz8jAiXqVESpALyJTCqGywXsqIanMOHp1gWSUmszknZ8eg2+xttFjNAxazKZ5VJ04y0jQDkXLcO+Zrr38FaVlMRISaFjimzXk4JDt5gxvePmmWcmPDI09XbHWaIC1MmbNardByA5EsCZY+Nb/Mcpmz+/wVjh/ewTA0jh+fEoQxWh5jGIpyp826AOGXWWs3ufPuPYZxgRFOqHe2aWQai3nCOB6inBJf+Mw2o8GAF29cQ/Ncdvf2+MaXvkSg1fBdHaWZXNtZQ/MdevMxw+mA5174LKcHj8nzAt/VyJKMeTKl3qiiSXA9Qd2UvP36N3nu1lUePzig3Sxjuy6kijRdESQCTYQXlf3yjFUS4Eib4VkXq+QT9qc8XMXkoylHps319RYxBfvXbzAfnpMIA0FEsZLMAqiVHHpHA/xaiZs3dmn6BvMgxSnbIDVKpTKu5bGIA3rLBVJ+EvdqKY758tMW4kNA8AX+TdZ5hXv8HT5J++YEkh2+yA1+HwF9dGxu8QeQGPx9/gT3f/B6PZf8iBzyy3T5Jlt8/kNp72Nv1AUCx7ApcokuJa7U2TLr7HU22X/xCm++cRfHa+Kv26SrJaNplyKJyaMFXiXDLNUBgW1YPFotiA/GqGTBZ59/lsfdI07OR/hWGUOz0V2H6aNjtpwOGx2X7jSgP1mghMnudoeq5+I1qyRFQZEJ8mBBuEq49txz9E7PcKROGM65WX+BcTCh2VhnPp4RBxHLTHGtsUX7mX2OzoYUywmBHZJkguk8oGFVKDSdFTqlUoVq2cWvuMxGE2zTxl0vc3j7EW+dPmA2X1GvVxAaNDaarG/vMB70qDbanJyMyOM5YaIQlo6SOuNgjJQm4SDl/u13eXg4xLMN1tYbOKaJ6etoRUbZK9Fe26C1tc2df/ALJF/7x9x6/ibzRUCU5limSbYMsB2Xe/ExcbFC0zSKxCBTEflKcl70qGY+QaKoZgln/RXtTp1WbRPn9ITebMbOlXUe3rtPrtvs1MuswiWWqTMZzbl+ZZ88TygKgWfZjHoDAsvg6M2H3HrxGaaTPoOjlKrn4NoeKkso+wa/9OYRnb0bhJpGudYmsyzuvHWXFS5hFKMWAYvpHGFZtLaukC4nCLvCS9st3n63y956A8cuYZkas9EITIusUATTGZkQtG7cZE0ljPoD4jxnuQo5n6f4WkIhBSXDYTkLUJZFo9kgWKbolk3Lc+mOVrS32symfar7W4zGCxzfIM1tHj06pR/EXNmp4ZTXKA0jpCPZ2FgjzWO29jcxLI/TVUbNdckGY4RtkBU5QrcwlCDPs2/Vh/skETDgkF9+2mJ8YCxKvPCklPyQu09Zmh8MiU6FHZ7nZ/kp/h2s9+U5EAgUit/LX+Vv8c9yylcB0DAxcC/r3X/IFGRkRB9aex97ow4XSVyELkEUrOktpGZyfN7jm70+fp5T5Bm1kk9oWYwe9ViMRiR+CcergUpQwkQTUF5rMbp7TKtWJWFOURSULYMszVisFuQHS0wNwlixKqZUTI/qdpO78wNs18GqVpjEESVL4+HhOTf2t0mzKf/4tTs0/DorI0aGMffOUtLVirPTBzhCkWRQhDmVaoPG3hoPz36RzU6bXvEW9ayJ62ikecqt528xn3dJ4oLDszFeVLC/u49jS8I04daz1zg+f4xKc1xLJ0kzbt89wPMdUqWxWpyz1mqhyBAqYTFbYFsOLzz7DEG8YtSfMBxFbNYrGLqOrUlWYcQiWtGqNwjTiJPTQ27feYCvm6wG93nnywOUAstIMbwyQxFxrB0gnSVOoaE0iBOFUBJNaGSsKFwNKXQGYUJ3OuD24pyr0yX7G+volsWjx6dkhcSRKeWSIF6OOBlFFGGEkAamZzCdTInRCJchVQnlssZsOsaxbHYtG8uSnHV7tFttnOY6v/+f+h2MBwMePz5ge2ON/vExbU/n9K1vECeKUmeH7R2Ls96IOLuPa7lYGjzo96nqEsuskGYpaJKNq9cY90acdU/RNIP+aEE5ishzRRYneL4PuWR+fkL16j7L+YLZdIThOMTjPmnmkcUF29eu0j06pD9dYhATq4J6Kce1BMEyYn23STLp8vDhEV+fjnjh6lWk4xDdO+AbgyGttQZGySIsJzh+iflyRiEl7VqVQRIhdRNbuER5SJF/7MNjvg2F4h3+ayYcPG1RPjCWVsIuqhyrX+MB/7+nLc5vik2Nn+HP8DL/Cib+t4K0fiM5CZ/hj7LOq3R4gTYv4NLkv+d/zWP+0Ucr9KcYDQPnyX6cD4NPgFEv0JSGElDSLF5sX+Xo9IyyU6GZpyyjmMlgQnWzg6FJtjZ2WDgOJb+GbtsUhCyDGWWvw/7aFabma8zSlOh0hpFLhG6zXM5hptD9MlXXp1Hx8dstlqMFQZ5y1p8QhCEHB31MR2Nv7yqbLRfP1ng0SfEpWCzO2avukdcs8tkKXepIE/JYousFO3vblMslxr0BnUqJ+v4O6dEbWCtFtexzfD7EO/Wp1B3Ozk6pmjb1TgXl60zHU1y7TPIkwj/MhmjzArfkohEBFscHB5RLVU67Z5z1BmiajatbaBoIPWIe5Gxt7xCvFui2S7XqUSQK2844fHSMhYblWDxz5Tpn3VNG4xGGVqZWskEkDJY5R6O3yJ0pwgygyEljh6SIUQLa1Sp10WCtUuOgf87rozsEYUCOg2EIpsGKLEpwZIGte9TLNaJ0wsOTOc9s1/HkGKdVYbFYslyEeIZLFq4ospTxpKBUccmSBNd3SNIC2yujRQviKOLwa7/G+u5VNKVx9eZzeCWfo6Mz3EqJeLIgLTTS0Sm9LEEIiZnFzJMcn5h8OicsV4myDnmUMIuX9AY9RAHD4ZiNnU28oiANc9x6DaHP6I8H7Fx/Bms6Yz6dYCjFcrGipHIcS+KRMAhTjo4PCccjolWMvXON+eEDgrU6utAYz1cUZ+escui0Kty9e8IvjpZ85voma2sbrJZzxosV9cmUIoL5dEHJMonThMkyYjRfkSEu7u+TvIufJAJ6F0UsPkGu6u9FVEyZcczr/D9IWDxtcb4vHh3+Z/xnXOd3f9e8AQpFzJwH/Dz/gD/FOq/wB/mbvJfbU6H4p/kb/Jf8Pnq8+dF/gU8ha3yGCrsfWns/slEXQmwDfwNY4yKV219TSv1fhBB/FvijwODJoX9KKfV3n5zzvwP+CJAD/xul1C/85leS5JnEMiTX9R2yGCzTJch19m7e5N6bb7IKRqTBEsPzkJqOYbmkRY6VZchkQdnbAiRrrX1mWkJpqWhvtpF5hiokjRsNxtMZq+kKpYeYlsHg8ZhZpmhIjevbLYSmOE1WlF0HVSTUN65iuhrGcoXbECjDIMkUrUaDatlnOVuRFxp5lnHSP+Sdd+8RpykVz8av2zw8fISRWqzV1wgnMevNGiXfZhlDEcWMo4S4gFqUMZ528SyPLANTs7l+dY/9zW2idIlheSyGIzzTJi8k4+6IdLak3DCp+zr1lkeS5ORxyng6QtdMFsM+s7HDtWeu4xqS6nJJfzajLmtMwoDuYEae5ZQqGoVR8PhszlhMyKwQUKR5RpZIVBaz7qzxTGOfklWh7FR48PCIsl1Dml184ZCmkkQKZtGKt8+P+ez6DrWaz3TeY7rKyIKUScPHcV3iosAte0h9iWOXEPIi/0ASRXi1EqWSy/nxGaPpksFoQqNkUW7YtMou0eicZaSQhkWl5LG9tU0YzrFNE00pTK9EPJmzub/D44f3kbpFZa2O0jQm4wXH9+7ilXxcV+fw7hlKmaxmEYcPz/FKHhQJ88dThKmjZTndo1Mmkxmu28S1TGrNKmXXIUkTGlWXVIsQq5Cdm1cZfu1duuMFpldhOVxSqns0jJRxd4gqYobTgOs3t3n7zXfpzlzW6j5ap0QsdBrtBvfu3GPr6jZmlrNz6zoMxtw7e0guU1AGprYiUh9sG9VHp88XtaS/zF9izMMPJPPHhZp+BT23eKB+/mmL8n2xqPC7+Mtc5/d8xyBQociIeJO/wTf463R5HUVBjX0KCrQns3mBoMwWv5v/mP+aP0DI6Gl8lU8Rgs/wr2JR/tBa/CAz9Qz4t5RSrwkhSsA3hBB/78ln/6FS6v/8/oOFEM8CPws8B2wAf18IcUMp9X0T3QrA0qAVV4iVzswJGE+XmGQcPDoAZRDnglyzSMIAlcVYlkUYBcSRBM3CQCGAltuhXKnRcDyu3LzJvaP7pKMQMQ/oNDxG0yXbu1cJ4jnL5YTegx6lq1epb7aQBcThkEqlhO46fP2112lXSsxmCdevbXLn0X0Ic4piD3+thOWUieKArZ1t1jfLPLx7zGo54e6jGZ6tEWsJzZ0yk3GEIXTCOCLp9zDyAt9xyfKULFqRJmVuXL1KEUXMgxWmbpIIydFgyGwe4Jkr6iWJb9uAwGs3WXkuUZZRaDql1jbzYZ9aDearEA2J768TBgtuH9ymVa6SrxKatsZiOqEbL1nFS6aTgNFwgdV0WOoRuRVTFKCtLCpssFldJ50FoBwkDg9PTqibC0zTIZ6FKF1HN3Wa5pLTmYFJzCRfcTiR1BoVWo0KRjogrWiEUcwqiUnCFM/3MC0f19cZzAuUyrh5ax+hCvqDHq21Bqt5gKYVlEo25UqNszClXiuTzeaUHYcsWvLgfMlGq87mxhrdWYTKFOlywd27BxhS0js9RbNtOpUyUZ5Tq1RZhgksYyrVKqZb4pVXn2HS69KdRpiGhWeWOTo5Rys32d1qk4UrlosE0fHYa9bRLJO3vvkA3fMwbAtH1zh8eIJlZtjFAk2XND1J9+yMPIFEpbiOQ5Hk3Ds8wbJ8BudTOlc2ma8SvGaZ5TJAEyk60B2NsDtNHKmRGAVKKbJMomkKvfjAe6M/En1WT9JkvsZ/yqdhlg5g3RT80tmfJhj3nrYo3xOB5J/g3+c5/jng4j4oCmYcMuGAPm9zl7/DEb/6bdXy1ngZ+RvMhECww09zi/85r/HXP9Lv8WlDolFh+0P1tP3IRl0pdQ4XG0yVUgshxG1g8/uc8vuB/0opFQOPhBAPgM/B9w9/FQiec69StVyWi4DlbIaj6QgDstmc1SpBR0PXdTQ0ZsGSLFhgmCazaEJFc5BWgK6VcHQDZ73BnV++w2Gvh2dKTKlj10rMpim3Xv4JRv0zXM+je9al1awTJQFZoHj55WeQ5LRb67z+7ltslcvsX9lmuJiyWE3o+HVmak4wn1LyQXcc3n34mNk4xPJyllFGEilarod0DAyRwFziNxqMz8+o+gambSOEjqYJDDtFKzlYUrJYztlsNDnpDahXbdabTY7Cc0QaEecZ56lBtd4hXSzRdIhWIeudNqskYj6fkxUXKXZrfolas43KFmi7Hb761a+xFBq1iofpVyitEnqjMXquqJTLZJZBZinqlk3TbTDtr3jx2guUDZdCGEzNE7qLPp7uokUwWC4pCFnZEZpZkKqc1JIIvSCMNQoiVuWLgdpysWSW5Bi6jW3qBNM5J4MAzYyolDy2hIGDJE5X/MqvfIWN9TadTp1gPGFje4PR8JzYcDk6esi4v6B/2sctKfp9QalcJguW9GyX7UYZRyScnA1xbQOZxsyXCVqa4xQ58/mY8WSO59UQYUx3FXHt2hVOHj2m7zrMZjM006XWqNA97YGQTOYBYZZjOwZgcPLolLxVxS37rO2sUTZ1Dg/PCWwdV6YUlk2Rx8S5Rqg8XK+MVzdIkbiOg41G9HBFKDLWN2pYpklZ0zk7GpDIGKcwGQ8WOHaZ5XDG7eMucz2iEBIFGJpNWqx+VFX+SPX5iF/lv+WPEDH5QPJ+nDh6+0342LuiBXPOeJP/F3NOyYk54Sv0eZsl3e9aUMelxSv8ke9hcAQurR+/2J9ydGxcPtwUzx/KmroQYg94BfjHwE8Df1wI8S8BX+di9D/h4gHxlfeddsL3eGgIIf4Y8McA/LLNZnsLu6STnHZxCp1YhZyc9JkGOVc3b7DKYpIkR0jFdD7HTFZYbpN53MdZRej2DOnoqGLFWnsTtd6lXasyW6wYD/uc9CI6a5vYpRp5/5wiVtx49gYP7t1l0BtimTYn3T4ZLqskYWdtE9evctAfUYQLlouQKIjY6bTZ3d9mka9YzOf4jk2336NVK7OzfYXepEsW5OxtNxkkM6aThP7RCZ2NDaSWYbkp9+/2qZZ8pKETHA95/tl9emdL5naEY7ucD0ecTVdUXRuvZJAGEIVLTmYTDNNmb2eTRrvG4fEh3fMFulcly2aEkxWvvPQMna1dTo4OkOj8kz/zM9x5cJsoSsljSaOzBW6JxwcnVByLZrPKG+++TWy3KF2t09nYYa26higESpcYxh6Pjx/w+mEXv1LDMi3CPGFiTCBN0SUs0pBMWuRagkSyXI2o133CcYpKCpbhksM8xLEsRD5iOVlhG00GI4O97TXa1U2EeEgaJkjdpN1pk2U5UjbQhCBNE4o0RNoVfKNEPO/T710sV+TBkpnrgNSwLZ1XX32J5aTP8fkMx2qzCAOaGzuEk5jjo3OuXN2kEJOLoDdbZ3LeJYoFq+GYVVrQqTUo+XVqFYNu75SiENR8i8ePlgykhreIMW2Louzh2QbLLKG9VsNbzJlnkuVoySpKiJdLJhOFsA22tAZutUTZ85kuI6bLgk5Fo8hz8mxOfa1DMZ6wyjIMPWY8jZFGDqLAkIJMkyA1DPHhhcd8mPr8fl2usMPX+atMPwXBcZ80FDlf4v/0Q51zhd9Ogxvf83P7E1AZ8OOOjoND40Nu8wMihPCBvw38m0qpuRDiPwH+HBe+tT8H/EXgf8V3T7P0Xf1vSqm/Bvw1gPqao94+vIutynSqJr5fYraYEuU6Mo8ZT8+5/VbBjRd/At0zyHRBNM9ZDU6QWcxScyjmY3RdUBQxW811fmXQp99d8NKtfao1i6PHQ7onx3zz1/4h0+kYpSQnsxQnSfj8Z59FmhrjVUC8iKm39kj1ggdHPcLVFLGKSFJolH1W+YI3jw45Pu5TNTUM08S1TApp0uv1Wd8o0U8HzMKIQJPUfQvNd5iPulSrdXqLGJUnBMsVs9UCoQxOT0dsbmygGzkl1+b4pI9rpWzsrKPpNR4+PGYxWiGlIo4CHj46Q3dN8ihDQ+P84X0qnk9WJLzx7gHPxBnT+RSFidRXOI7L2fEhjuGiCRPXsyj7GqP5nN58jq07BMNzxq5k99oWq2VGqewSZBmHvTNKzTXCfEAaJxS2SaRF4CiIrYuEmUKhGSFCgBIZub5ivMqwTZ16p0GhF3zj63fY6LRoNipMFimff+UWi8WIxWxE73xAqVFm0Rtw+PgR1eoaN3Y3qbc6mG6d7fU2h4/uc3w+42S4YKdRZ7FasQwyqrbF2cEjpHGxFHD3/gHngyFxUlD2bXbXGxjSQFou4WLEwVEX35ZcW99j0u2T6CtWq4hyvYSmUqbLOa16hXmSIgUoXSMVkhs3r5DlGUWW0FqrcjRMqW48j9V7QG+0YK3WIDzpohs6wXxFuVqmSBJsS8OqlIhHY2xXYkhwvRqpUuiyoNPZYDwaYhlgiYJud8r6RoNMFCitQNNszCJHygKphR9UlX8s+vx+Xd4Qn1XVDzEg6JIfHxoWr/KvIr5HZDxAi1tI9A9UfOR/7FiUMflwKyx+IKMuhDC4eAD8v5VSPweglOq97/O/Dvx3T16eANvvO30LOPsBroEQBRsNm9lsxNlsRBIL4lij1exQX6uTBRlJHFM4OobpotkrlssRttQhW0FhEcVzKDJapsVap46+EGiaRopByXeZqQBXc6g/f4NVd0LJD6AQpNkCqXmUdItMKO4/6DFYTtn2HLY211muFui6xSoIGMwm1HWPW1tVVC5ZhhmNtRa5giwOMUwXp9akd94jNnOEYRHPUhotj4PeObqQdOolTMeDvsIyDHSxosgTevMFcRCyVq+xTFPefHBCu+NzNOxhKw1TNymVDXI0gjhGZYpSycKxTcIkRaEQBfQXIfkqpLlRxTY8wjin2amxDCCTBWkWEUUxtarHtD8kycGtlXErJoePHyBMG9M1kZbP0eljTC3DtS2EEkRpwcgaE4UBhZSYWkZOgZ67KJmiKNBMg/PzYzY7G4RRhFOyaFaq2G6Zhcpx3ZTuYMTxyUP2r2wTLleUNAvTKVF1LTzPIohiXNfkwcFdqraB4ZYp0j6z0YJ5eYP1Zo20JWk1G7xz+w6O7WLbHipJsKSF72sYlkSYOrNJD8OE3au76PGKeBUwnEypegYnQc7OepODsyGOb2HqFts3rvPozdewvYvguaIImEYFG+sbDM+OODzp0luYhL6i036WSnaC7SpuXN2hP+zTaHQ4PBth+T7tdpXReIlt6GRKUq14GKIgCmPSNIDsIq49z2PiWCGlhmEojscLYi+7qBEuQWkSoT74mtxHoc8+6z+wPF67ymo0R+WXudQ/ampcYZ1Xv+dar0BgUeUyJe4Ho8ktjI+LURdCCOA/A24rpf7S+95ff7I+B/AHgLef/P93gP9CCPGXuAisuQ5Pshp8/+uQSEWu69QbTSq6ztl4jr8KmXuKB19+g5eee4HFbImtK6aTCfmgj1IJGRoUGmGaUy40hMxB2YS6iW0kvH30iO1G6aKaW5ExnM/RWWBmGqZpYFkmx+MZWTSn0XTpD5c8/+welplgC4vcUMSZYBrPcDBot1oc90ZQSJq1MqEMmAUBwTJgMBhiWz6zYM6zzz7P7fP7LCdLskxnsspwDBdTLwiigiANqJbKmLZgnoM1WzCejvENF9u3yVc5Z/0RrWqJmu0Rr0KyPGY0jtnb36YYz8jRcT2bWtXn0cERjuUQRwvyuUGKYHDaxfR8oiKnsr7B7V99gzhNSZSkZWvEYUy5WmY0XKFrBoPpElstyBYhqzODkuNSq1msb+3y8OEhWZrjNUvE4YQ8LzBw0DRJVjigUnKRo2OgSxdP0xmc94nSgu5wwnC+ojvKSJWGppssgh6bnQqlSo3u6ZRJf4jleniuw3Q8xbMs7t4/pFiF9OIY13HJkNy8WkOJmEdnU6aLhFprTtX12Nxd48Hd+wSrnHK9SRZEpKuEO/cOKdUb3Npr8fBhl2Uckxc50aiP02qhGxLXzTBlhluqM+92+dqXvkrJgNj0ubK5ji4Ftdmcg4OHBHGCIkFTNU6PTtF2djCrazw+vk2UpqTxgkxzQaU4msZqFVIu68yGSzQkO/t79E9njNUCQ+okcYpbq+MLEyEloRaRhhGJXJEUOYXIkEaBjgWG8aOq8keqzz+MyzYcL1AfPADwkh+BgvT7Fqa5CLO7nKF/ULb4/HcEIn7QgkAfZKb+08C/CLwlhHjjyXt/CvjDQoiXuXDFPQb+NQCl1DtCiL8JvMtFpO2/8ZtFygIIobHIEubjKZYPq0CnUSphNWGWRLRurLMMQ8bjAQ4ho8GYfDpDkwpNCgolMYVGmp6hmSamLujUK3zzza+yVqpwmhW0OzXSkSLPEvbXN3nnzgOCcYzrOJTKFrkKqFkdjA2Ns7MhzZpPbzDCiW2mwzm+52E1HXxLEsUWs8ECx/CZLhOUyLmytUEYxdx7fIKuK746fhu7ouPWLKJeyOB8zqsvfY6FWPL21+9wZadJSo6lm6z6Q/qBgWV6TGYTol7C+nqHWrmEUoLNnS0ePX4MymB/p0ma5NiGhe8Z7N28xuPzY3KlMF0T0hxh6oz6Q/KsYHNDcnJ4zHGus9lySbOQcLyg75dYBktuXt2GFKbLnFWUkymF0ASmXRDlIWePe5z2BpjSwS9b9PpDlGsiyMllgTAVIlHkGEhypJQICjo7e7CaMRgvqe+0eXRQ0O9PWc0Vs2FErWFTqAbLIMJxbBbLiLxQBCWLaDXlzp0ZURTTapRRSuL7PlLTEJrJeDxE5TBdGYQnA8rP7CGFxLPKrJZT5tMJz738CjKacXzwmMVsxiKoY5oWaxtrjM/7REJxfnJCLG2uXN2n0lvSPT5B1wy0MGalLGQ8ZzTQyShYW19jezvlwcNjCrtELYvR0wHB0kU0Wmheg+M3voHlKPyqRziZIy2NPJnx4PEJzz37DE6pTCF11rcrDIcp/d6YCA+ngMZmm3C5QvPLGEVKkkCcLdGkxBAGUgoc0QAefQB1/mj0uckz6Dhk/ObLBUX2mzb3scDAxaLC8lNSmAagwu63an3/RhSKA/4e/4h//9si5S/5YRE0ufUd3pDgW7tHfzQ+SPT7r/LdfS/fM1mwUuo/AP6DH+Y6QkikTDBNydlwxtlpzG/77C3mVs68H6LVq6ySBePxiIZnkYQLosUSqQrqzRrScCiKnNlsjOu3WEZztsvrpNev4RsGcb4kDBK21pqcDCc8ejiiU2lxODmnSFPiTCKkxzSMGc7maCojDiIarRaWA2kUk+Y5570ehrQJ1MXWr8k0xlQaKis47M/IUhNHU+jCQrFiFE4hzqjnZQxp8PDRI7ySRkmDYBHhOpJQZLQqZbyqj+P73L8zxPfLTJYTVkGBZU04OV3gmBbCtEjTEMOwwMrRqzVKVZ/iLELXBK5XIlvmDHp9RFKQJjlJmFApOTw6mdBqbZOrgGa1AkJD83xMz8WMQ9quydn5gNbWJrqW0O33yZSDa1lkuUQ3LCQ5WbECoZBKPlnzXYDQ0YVFTIYuFJZwKeIl4+mU+bjHdLrA9V02DJ1qJaAQPiqJCIIlcqTjWQbLIKUoYDqasliE+LZJlmTcOTim06pz+OgAhMvu1TVUmnF81mMRGlT3WqxmPZJOGcvWCFZTdvZ26D9+SKPV4LkXb3B8fMbJ8TmgEUfnVKtlrDwhFjCfBBz0F5jVGvY84HQ44fq1bYq4oDA0+oMelm+g8gbYFcqlCZpmEMQZ677i9PxNbg9t6vUq0m/iGhG6XmLvepXe+YCTMAVMpquANI0QecgwivDLPrq0kK5Ovb6GRkoQLUmVTc0ThIwRKkUqByE1hKbQxHd/AP+gfFT6bFH5jpnJJ53n+cNs85P8Hf4on5ZtenWuIfne3p8H/DznfOMjlOjTSUpAyBgDDw3zSYKfpzdT/0gQQmEZiiQzSGPJXrtFfzJE0xXD6ZhgusC0bObziHKWopsmBRd7d1dBRFoMqFQaCE2wnA+YjgdIBXGR0u8vqJYqlD2Pat1iMJ+wmM4xrDL1Vp00zkClDEcBURJiYoEhyIlZLia06m3Wn3uR7nDEYj5lNZ+RhRFhCKatYToeuutxevCYeqmO6WrMp3MM20RSUK5bbNUa9CcBURiRZS5eo4yKI1RSECqDRETMBxnT28foRs4kWiLKkmS+QOoF0TzAaVXoHo/oK0muSRzXZs+sczbqst2pMzgbce/eI6oVGyl0zEqJbD5kFoSMZ3NKpmAyXpIWEbo0qDccRFIwOOsyT3Lm4wGmEIynU5QUKGWQFym+X2Y5WyGLiDQr0HwToWsUeYGl6wjhogodKXK0J8lRNGIGvR6j0ZTdvT1ODo/xvAbljTLL6QTHdRj1h5ydz1lfXyOYT3EcA73sIdMJeaqYF9lFNqw45+jolJdffpZitUIzLAxbp1GuUC6F7LRdwumAr732Dq++dJNWu0O5vkYSLBmvVlTKOuN5jKFppCIlzxT97oBgsUCYDpKc47ffRmoGrm1ScjzOTodUqxU21jw8p0G5XicNQubjLldffoFiOuW1tx/iN9uspzBeBVzdqtE0FdNAZ3LaZ14yqMiMMEkolxxGvSHoJtWKD5qOUIrSeoNOo83JwRGRptHZ2mFyeE6oJJom0YuLynIKBdLE0D8Zs9qQITnx0xbjQ0VdLHY9bTE+RAQbfPY73k1ZIdAQCLp887tug7vkh0HxS/wf6PM2X+RPoSjQsT+wfnzsjbpSEGaK3ugUz3YRMiFOJPPxgrWKj6RgluRMJiPWsg626RL5HpYQOL6P1A2iKCKKMxxLI0sTyn4ZVfIYH50TjBfkrQaGVsGxXarVKo7jkBgZditjPpkwtmNqTotKu4ZjanTPBwzHM2zHppoZZEmKX/Eply2ixz3OElDhCrlM0bQlFiZJEjNaLtAKk1USoPkao3zIM2vP4S0T8jDGNxWDcEWjVmYynrLVXqNUc8mygu6oR7HMcAxBMMrZ2tqjXNao72xyPJkhtYBqyUOJlCwNOTs+5PSsoFxtYHkODaHT6Wxy995tanlEvVRGWgbBwmb/xhbH58d4pk40jzg+XWKYNpudJkendzB0H8vRaa2tc3jwgFq9SceTHB6PqVQrGEbOKikY61OUZiIzhSUlSil0KYgLKIQBCgzlohc55AmD8QqheZwcHxPez/B9jyCM2N7e4dYLNQaDCSINMS2N1XSIyCS94YQUh/22zdpOC9OUeI6NUy2R5zm1SglPM+jPXcrlBsOzIdEq4I3X7rCxs42KQkbdE+6fDohvbPDodMnNG9sY8ZLpKmGz0yBOUyxdwzZMkjAnSyPGSULJs0jigulkyjwO0YWFXx1ia4rRaMbJJMSOU4ajM6Qt2KpWibIEhUa5XAE1IdZ19GqVjUaF0vmQ3NBRomA4GDAZDrF9j9WqYDE5oj8YU1OC4WJJEsxoVzzyXJEnJkrMQVpImaNrYMoPtqb+UZESUXzKjMGI+/w0f4I6Vxl/CkqvdniRq/xOYmbYVL/1/mN+CQ2TXb7Ib+PP8Pf4k5x+267GS35YJjzExMeiQsQEHZuA/gdq82NfBUKpi7Ske7vbzEXOWW/AMkiZLmM0YYF0abfqqDSCJEcWUG+u47fWUbpFnKYMh0Pm4z6DfhdNt7A8j0W8pOmW2d9qEqmUotDwKyVOuuf0eiMMU4Bw8Mp1OvUaw1XAyfkS3XKoN31KFY8gDPjqa2+QRTFxHHF02Kdcq4MB4TzBNAU1v4LhuygN6q7N1nqTZsvHNV0iUr5+/nW8RoW1vQaZrqj7VcrVKrqncXp+yqOjE+49PKJecbm6v0Vno42r60yG53i2T7mzDZqBbuhMFgvqrQ7PvPIqpbJHxZGMhucE8xmFULx9+x30QtBo1elNRvQGMxzD4vDkkLW1TYTS8aslmnWf2XTCncd9ssKhQJACk9GAaqXGdDijO0vwKyUmoyFxlDLJBsxZIpUAqSENQVoUhElMIQq0oiCnIIlC0sKhVF1HE5JGvcT+zibteglNSmzALTuMpwGDwYjJbIbf2GB/b4coDfFMuLpX58UXb5IXsIwE03nMo0eHnJ/3ePD4BGEblB1BFIVUSg6mbROnisV8zPnonFanwxe/8BKrMOTmdhm9yCAtmAz6hHmBUmAYOkqa1GolbMuhyBXLRGE5Bq5j47k+vmOQL5f0jgZkmcZmxcHzDa7sX2c1C8GUOIbGbDS8iC/QdYIIjm6/w1t37xJpBaooOHhwyCTI6Gxt4VgVpGXhCovRcEZ/uWA+G1Oq11kkGcLUMGVBkityQqS00IRFIa2nrao/IJ8O9/T7mXKIQ51/kb/Pz/BnMfGftkg/MhZlfjt/gRIbLH5DjMAGryLRkBjs8EXqXH1KUn56EEg6vAhcLE0lLHiXv/WB2vzYz9QB8qIgyyStShlXUxiZzu6LN+ifDQlJODx4xN66SZYmCF2iSQOlCpTKiaMAKLAsl0ylyCIjmE3Zrnf4x3ff4Hy0oFY2eGe2RJM6RRpze3nO5567SqnuUXIdJIJ4EZAsM+bzMpPZlChMUQqaVZ8HR+dsbbZoteo8PDtHxRahUnQ0wUn/GB2dBAtNKziZnOHrOl6jhJQu46LPV+evI88kXuazv9thNF7Qrq8TxRExBVfbTR4cDvAqdfqjEYbtU6+ZpFHIG69/jdkkRBNg2AYHj465fec+V7e3yKwSTctF5RGj2YydrS2sksNqtaLqGxwf99ncu4kjLabTMcFySRxnrG+v47pzVsGUvMhQiU2uS067C6TQWW83eHR8ws1rV5A1m1E4p18eo3TIlECTHoYeMU0SVJEDEk0KlEopFw6anhMtliAFhV1llWaYpsloMqdccTFNm61ODV+mPHzUZ9Y/o7yziRAWu7sVolzw5TfuoKFT8nQs22J36xrd0yGNUpnxeIpp2qzihCSFqtBYyJztzRpCrzAa9Ehih5JbQjc9kIrtvQ1WUcpiOsXSFbV2k+OHj1kmObZt49oGSjdoNlzOz+c0Kj7bmxsMT86I4pwvfPEVDJWSK8FrX79LqWwR5xmDyQIRJwyWCUU0Z3/3KmUzZ5pEBKuELJrQbjcZjGdMghA9jchyg4QCLUuIhUG5WqJ7ckQY57hOGSUsCpGCspBSoqSBLb73fuKPE9+tiMgnnYKEnIQqu/xW/jS7/FZ+hT/PY37xE+ei/gn+Dfb5nyCQONQpyEgJMfEx8BjzgB1+CykrurzxtMX9xGPgUuMqAoF4MmBKCD5Qm58ADVNQSI57XYanc+r+JrJi8NqbDygKDZVpKE0yDhbEaU4uJFlRkCoddBPbq2B5ZQQpQuVE8QpVhNRLdWzbQKYrGtUGli4RWY7IC3YrJlm2ZDLsE4QrkrygXvPRjIKzkzMMYWDaJskqYjqb0eudcXx0xqPTLjJO0Q1FisF0FlBEGVLTmK/GLMYLqrZNliZMuyP0xEbXbCItIN4ISNcDCktHWBYn3R5BKIkXGf3eGJkXnBw+ZD7sM5pNuH/QRXPqXHvuOWodF8uSOJZJkYd4jsnjkxMGpwM21tr8E7/7t2BXbM57PY4edzk7HxBGik6rShBMsf0SaaFA10iziFUcMZpMKJWrGIYGGqSFTRZf7JfOC52NZp1h7wyVQ2hMyI0QJUAWGqaRoISBlmtoSsOQBWgFviXZ29gmLjKmUUYmJI8eP+bh/SMUOq6jMxlN+Oabt5muEgyvzN4zO7Q6ZSajAZ5jMZ5cVGZThaJUdUiTGZqu0zsb8vDolEkQYlsepuVyfnSK47lsXtllo1NHpTqHDx7RXNtmNeoy6M/J0hXL0ZSvvXlIIWFve5PlfMU7906I3XVa27tYmsJzDDSR06hUMWyLtfV1FrMlyrW4cmWNPI84Ox9zdnpRAKZca7EYr2jUPGSaEg5HpAoW8yHV9ho7W9t4jk57rYNnm1zZ3eDk3n0ejmIOzgKmsaRRq7Cx1qCmmQRpxNpmA7eIqQr7yW4CgdRshGYQiU+G8fgkVpT7zUhYsmIIXOTy3uO38bP8f/kZ/j1KbDxl6X5wTHye459DIPgm/09+jn+eCQe8w9+kIOMxv8iKESPuccpXmXxKCvI8TTJiQsbfeq1j8zv4ix+ozY/9TF0Bqii4sbvJUf+U+w/eZjRLcA2T8yylN58yH85JShpJkqFZNmgFFDlJrginE5L5FKHANCVCCAzNRUidUAoazSr98ZJGySfVcky3jKvnzLMcVQhG94/RTJMgiFhv1ljbaCKlIBhP0C0T13LY293GrmwzXmUk00MO7pzjeB2yaM7ezjrHgxG+0hGWxjxYUGQZQhhUVYWBnJJrklxljOwZS/Um60aHcqWETGLKFZc0mVJyNQyvSu98xPXtDeIiozfsE/dShmcLGqUyW3vrRPdDJrMVmjC4cXWLuw8fcDrokwQmzY7O8GzK1f1tznunxEGC5Rs8ODjAsstMJ1N0pRj2hhiaTq83RBY5zbbHbDFid3uLs9Nj3r17l70rV1nbqpFES6bFAiUzRK6QQuBaOoXMyJUE7SIVoikVZdtFK0xm0xl5UDBPAiqVJp6RswgWzNOccr3BajGmN5gQZDHJfMHedptVlFFtljC1jHnmoBsF9ZpHYks0ChIV49kW16/vMu4PmMymrK+36Y9nHPVHyCIhzAVK5bz1xmukUUKnVSdcZTi+i5j3KAyfcZBi+C4yWjHpP8ZUVZrNCrYoSKXGfBmRrpY8enyEkYec9MesrW9SbmSY7+0GWEw5eXQImolfrdCoVEiSmDxdgCozGXQx6008y+fkrE/Zt9CymCTOObz9iMJtc3XTQtc0+sM+a80GpWHOcjYjI8TJfXTdR5oXyy5CKlDR01bVH4iLCN9PwFzihyBlxV3+Wzq89GTGJTDx+a38uzzHH+JX+fO8w98k4+N9jzb5HE2eIWTEA34ekNzjvwMU57zGiHsociKmTHn0sf8+nwRMfMrvy64sEBg4H6jNj71RRwmSVDANQ9ZbTZIwZxWPcS2T/mJCPs/wLQchUpIwxvAcZAGqCFiMBySLOZ5jskwC0kCiSx0h55QrJa5vrxMNB/T6EyytjGnorKKM88UCXQrIJDsbDYIixLN8rIrDcW+IVAWOIanUfHRNgm6yyAzyOERqEkPP8G2dSqmCZtrEYUocZWyseyTEmLJEmgv8xGbmmGSiIJaCQsXkacpj/ZiyXaKW1tBijU6zQ2/U5+C4S8WqUBgORR6xHHVJwhhNGazvrDFdRdiOS1sz6bRb9Ec9fMtlNZ3w8HhGqSvx7BJ+pYmzWtA9P8LEwNYVw8EJMlW8/Mpz9FcD7r09xdB1hGWQohjPFxQnA/Z2d4gePOLxg8eMpyWK8oK4vMAUGiiF0HMswyXMBaZ28fNK8wzBjGgQcWf5mJ/4iZd5fPCQ1Sqh3+/hlzxKnkvZ0VG5QmgayWqKS06eFpwf9lhlOdr2NstVijBNLL1gOl0QhSF+vU6aFCRpxu17R+i6xDEVGJJW2aA3nFNIE4OE+lqTWpRRrXp0uz3q9RKD4YJ2p0wR55wf3CUtNAzLII8jhDAZz1NUHDJdBti2h191CEddjicrNMtjPhkyrLg8uPcAq1Sj6btsbK7RPZsSzZc0N5ssliGu4xLFCbVy/eKeTOfsNsoMRzMa7RprGx3WNiRnwwA7XpCUW1zb3mEUBLTadfJoxQiFVjdpLGvEhonQDDRNID4hWdcu0o5+umbqAPf47/kp/rff9kAWCJrc5J/iP+U6v5f/gX+bOcdPUcrvjUDyGf4YGhbH/A8YeHyRf42/z59gxhFb/Aqf4Y9ynd8NiMta6h8S63zmQ/fmfOyNuqIgVjGL8Yil5aJjsbXRIlgUvHKrxcPTHsEowPNKpHFIkdsUBSynfVbTEYKc5TJHN3WkKCiXSpQaNXRDo91qMkgLGoVgNQ9B+sTRks1GE69qkaYXM36j0FiEcx7eH+HYZfb3WwRBSBQXtNoNwiRlMhhQ0kN8V+fmlToHh2dU/RZFHrLVqRFHKa3NBncfHDBLEzqtFkWa4eVNEqNHAReyq4Qih0CbkdVizFxQzlziSFF1bXrnfQzTIlMhSaLQdJM813j7nW9SLZeIggTXcTg9PyLPFUsZ4ZoO+22H+TxCZQFf/fo3MF2LXErKtsFwMWWz1aDdaBEmKxaTACUvZtkUOSKN6FR9dMuge94jiKDkmJCELO3lxbpuYVGQoYsCqUmyJAeRkauMjBhbCtp+i3iW8o9++eu01moslxEUgmAWsgxyruytkStFJRcUeUyY6WTpmKzQqfsuWTBFM3R8q2A6STkbndNqVpj1B8yWK+qNJvWqRa87ocghCQJyIbDtMqPFCmWWCGZzlknKMsvptNrMF4uLsqyaRGkahqkxG68oGSVmqxB7viQLR6gsJSl0JLDIM2rlKmmSMw4WFH6Ts4Pji3Kq8wn9YI5bq/Lii/scHXZZpdCq19Ftl6PDI6IwIYsVlsoZzwKmYUg+1Vnb3GA5GrG7WyEPElZhwOP5AsuxGEwmPPPKs2iPzzhaLrA9B0M6FJqGEDqweLqK+gNSYRubKgEf3zKlPwpD7nDO19nmt3zH8oKGwbP8QSrs8rf4Z5lz8pSk/N7YVFnjZQB81vi9/F+f7JcWBPQ54O/xPD+LQJIRc8gvP1V5Py24NL9vPoAfhY+9H+xiM76i0erQrNTZv3kLv9PCKJvcOThhMQ8utsiIjEKlpEnMct5lMR6QRSm6MLAdG6FJhKaRFxm6blMqNyjVGnQnY2q+ye5em7ovqNXKGKZEcTHTbLVbdBotNrbqNDyX3fUKiAQhwXMMBBFZuuDenS8jsoJpouh1F+xvVghWI+I8xnBccKB3+v9n778DbUvO6l70V1Uzrpx23iefPp3UasVWAAkJBAgEIoog2RiTfXEAh3vB11xj3sPXxn7Y2NfvYsCY4CeDTRZBgIQIVkSxu9Xx5LPzXnnNPGdV3T/2UaubbsXTre6W3zh/7LNmrDXXqvVVfTW+McYMuj2Or64wXUyYjqasyhaO9ZHSxSJBgBYlWWnIyoKraofErWj3eqyvbXDsxCr1pkccx6TWYDSU6QLXKMrUYrSHFiHNVg/fraFLxcWtQxxVp9FqMC8rrLHMx9Ojwcg0hsJF43Jx6xI7wwV+vUevF3J4uCBNKzy/xvLaBqUtmc1zuo0WbuAiAon2C4Q6+hlzhMR1XbSR5NWCShcIKqSV1LwmDdlGOQG9tk+nHrDcCWnXHaJozHy0x7VrWxRZgvADQt+lmMW06g3W1lapMGRlhcQS5xXWtdQbPssbx9DasHVtl2t7+zx4YYtFlpJZaLUbmNIgjKHb9Ln/4avkONRCj3x+wCIvGB3ugudSZprhJKWyPo7rsLs/R2EQNqPfaRMELbq9AWvLXQLPR7kORkqOnz7OrbecYn1znZPH+2xsLrPU7TAbLwg7XUwZM5rNKfKErd1DKuGhpEutVWN1ZZlBr4snBKEr2du6xmQW46JwXZfRNGN1YxlPCXKTc+nCQ1hHsFpb4xhdLGN8BdKpcJ4lqVCPBiG9p7sZTzoKFryLn/yECmsCwQZ38eX85DOSHX+KL6bLaSyGZZ6Dwqck5Q7exAv5Ps7x1Y+wtPf4MA/y209ziz8/8BC/yzbvPdKbeJLwjJ+pCwGVrYjzGbp0KEzC/vwie7slvvZxnJLKOjhhyHQ6w4icLIuxlUYAiySmqCqKStMIAiQxRTQlkRXtsMNUx2yWdQ4WY8pYctPp4+TJBKqKKI1YpAW10KHmS1Y3B5RG4+mQdtNyZXcGBwccW1uj2/N46MJF/IZLzTMoJRhHC4o4QTsZUbRgqVOjERwFxOffcjOVjZhFOY1Gk1JMqaRFGAdHpWAgq3Iq7XBPcTfH4hPkUcnscEG/3yFOI2wh8bt9Tp3dYGv/ECVdfCS6mjMaWjY2l7l23wNIKZkuUlAVVAVl7pDnCSfW1jhx4jjv//DdlNEMKzN296bM5xlhrUEz9BGUnL9yDYGh2/Bp+028mkRrSdkBoQyu8tDWIpWD60hKO0MbgxAKR0iMKpCFy+JAI5B0Gi6Xr17D9wMcpei2egip6XebVEXKpctTTh0/htvQrG+s4imJ0SVbW3sgA5oNhzwrMcBsPCeJU9bXlkiSmLzwadUdFuMJNc+h3+syn0wotGR9SRGnKVkypdvpkUYxRSWp5hnDecJSyydezFheX6W5iJnN5hRZRqR9klyj7IJryYJjp44z3NvBGEVeufi1Pnlasn35ALdWZ7xIWG6FHOxssbm6wuVpjhSWIl9QFik0fKywhGGA8gMa9SnauqA1w8kBx06vM9oZstwLmScpsiho+uC7LsPhDLeVIlSdeqdObHcJxDpaPOPH58AR27fFJkPuf7qb8qTjEm9jjw+zwV1PuF8guIWvZ8x53slPkDH93DbwE0JwK9+AxEEgkNeFdEJ6vIS/+wiD/2OObZd4OyXJ09bazyeUxHyYX+AYL+fJWpZ6xgd1Y6CsDJWF2WLMcARlHrC52mL/YEQ6LynSgjzVtMIWM+tiKpC2xAhBt1FDOGBMiVL2aJ3YDdBW4lrJifVNosmc0XBBKGugXZx6E095+I0W+wf7pDOHquMSUGOcLHCLjMFKm+WGT60zYO9gSttbwlnK2T2cEjZ6rB9f5trOIUJbKHMaypAsUpYGS0RpzCLOWe2FVHmFj4PqVSA0prRUOCgpEJUl0wklhsK5hoeLVBJdlmxuHGOpFXLxyi6FtoymQ+oqpN9rM0400SLHPZzgK4c4LphlM+qhj+uGIAxxlDOZJJw75+F7irQs8YM6SlQ4QlGkBWsrA8LQ4WDvgHrjqIyu1lhhsZgwHE+xvsV3QhynIjYK61ZIVbIoMxQSKQUlOaIyhLrGUq9NEPpcvHyV5f6ApX6Nq1e3SCuDH/jEhcX3A4p0zr0P3s/GSpfz5y+zsrLCdDhBVwIhKpT0sbZEKZdFNMZWltue+1y2rl4gWqR0Oz1smTNbzJlGCa2aollTzCYwG43IihxrfTpNw2KywHFzOmGNUmtUq0fgWLxOHaEs6702O6MZ7UadSZSxsbHM9qVLlFrh+w7Dqxd4+/Y1NjdWWF9dZxQl9MKATq9PFiWUtSYeMYV22FxbokhTZrOYuCgxpmJjdYA0kvlshissjYbH+fvPU+u2KUYpW1d3uPPWU6z12kghKUOFElAJQ6HWyWWKZoJ85ifdrkN83snEfgwFEQ/yFtZ58Sdk+EsUL+d/5Ra+nof5Pa7yP9jiPUTs8XTX8P/VNn/stXjU52Wxz6DByOcHLvJ2IvZpfgYOhp8Mz/jeZbFYNHkuqYcd9so5WTRFuEu06i0W6QHJJMOTkjyLUX6INhoHCIMa1oItBUHgkhUZtipx1B61Vh3lN/CbbfbOX6PXbFAay/lrF/DcGt1uk/5SSC2Q5Lmg5vgIXeGYCqkE8TxDKQuJ5sGta6wELdqDFv01h4OreyztL3PH2TNkVcL2zphea42wGRBpSbkoidMph/s5/V6fllsnVwGVTaisRJg6xpYIYXGEROuSOTOclodq11joMaHOSOd16u0m+B5nTywxP8yZJTllbnE8ye7ejLXVJVY3LRce2qLb6RAlBiEM/aU2QmimcUqt2UCbgjzNUa6kFno0WyFpkeKoBtZxWTl+gkEv4F3vfg8bq6ept0KSsMR3G1iR40uLJwWV1tiqQMkQgQsSfMenXy3jqYAojdlY7qCF5nCWok1Io67p9/u0ex2Gh3u0GiHdzirzaIYAKl3Q6TRwnALcEN8Br+UjXCjynDS1nL+8hywkhwcTpFuj3W0QxxmLKCb3lzh38xku3fsAZdUgtC65LhhPctxaHWE1h+MxtXad2zY6JGlObhST8RjlBXiOYH84J8HSN5Jmvc7ucEFepnhdhR9m7MweZCqbrCxtMtpeEF87YPPYMsl0wnS6wJEKEkW73mDj5CrD3SFFnjGazsgrg3RdymSBUIK1lQHDgwlht8Gphs/25QOaawN8o+murxPtjYiEwfElgRyQiSH4wdPdVT8tWMznnUzso3Ev/5UX8j20H+NK+1hIFANups85XsoPsGCHj/CLfIhfYPI0KNK51D5tIZmCBZd4+1Pcos89upzmdvVN2NWE89t/ypxtUkafk3tH7DDiwf95gjoWXCPBaM5fuYrjuihl2N7bYj5OOLG5hrdsMWWAFhWmAiMsrhvguQ55lYGWtLwaynOwVpNmCUmV4zkpPRWw7fjUGm1GaUZNuHT7TZQQaK2YZzmeaJNlOVUVkRWW9UGPKElptQbcd/4BNppdmk2f0fAQT7isD1pk2YJFqml3GyQmpxf02T4Y4VoHP/SpCo3yFXlaMLcVYb2DG5YYoVFSY6yLkVDqFIMELdCioBICHEmqEuZ6QlOGdLcnmAiiOKZISxphk3bXY2W5i600jVqHu17Y54GHz+PJkCiLMRoqk/H2P3svoSpptgL8Wpe1lTpFljOfRwhTsX94SFVZ7v/offSW+qSpIs9zassBCy9BKIGuXISoCKTCVApFG6VKpBcTkKOjJXYu7bJQY+ZRxtnT6wzHc8ajiNW1JZrtLkmlSIdzsrSg2+/TatQIGzWuXr7I3v6UsydXyYsJizxjbW0FR0hG4ykWaLdD9rcuYZ2AVq/LZDgkqdd5zWteweUHH+RguOCBDzxEnMTk2qHRGBCSE4Y+Dzz0MN1ul1bNZTJecNBuES1mjGclVldMH77EsY1NksWEqDR88GBMd7nLYKmNv1pw4J/H+vbI0CYvifZbdAZtdq7ssYhbLLWb6KwkiRZkOERzwzCOOdZpcuHSJfYmM15y581cuLBDc7CELlKsKZES0izF90JavQ6TgyHHj61yuHXAoN+knEfECDJcGk6XXH5q17NnAkoSZlx9upvxlGHCBe7ml/lCfuhTlu4dzYQFLTb5Qv4xz+PbeSc/wYf4eQqiz02DgVXuZJk7Pq1jL/DHn1fMd+kqbrnj1bz6np+iX94K25ZXkTPiYf4rX8OMy095G3zatDn+pF3vGZ+zs9YS6BbTRUav02Olv8Ta+nFWB0s8786bsdIyjgoC10P6dSolwUCS5+RFTuB7BIFLrkuqoiT0G9TrTRzh0mw22dg4yV4VsT+ZcLi7jclTSqPJ0ph4EdHr9YiTCfE0IfRc9g4OiaOC5dUeV/eu4SmXfq9NXOSksWUwGLBybJVcV4StBqmFW0+fpUgTJsMxl7Z2GU0mRHFOmlcUBTi+j96FoAhxVAVCYGVFaUAaHyHBcUokFmFBOhnIihLNITMu1Pao1g2dQZcX3H6OEycGtDpNlpd69Lo1hBQ0ej3Wj53ECzXL/SatTohwBb4o6A26nL7pFFE0p8xz/Fqd7dkhV68e4ngOp06v80UveyG1wOJgaTebeN0ajlBIMgwG31EYUSMt60SlS5ZLhHGI8wZZlBAIwWAw4NTmEq6UuE7I7TedIE8y4vmUxWJ+5B9eC3j44hUmi4w0Ken11mg1AgQu3X5A04fFLOHq9j6tTpN+q8HasWW6zYCaq1hfbtNb7mCzjHseuMooSmn3QiaTQxxf4YqEKMmYRXOSPKffbROGAfVWjUGvxnS+oBH4KAkCl5oDk1mEE7S46fbbePHzzpJmu0zCi4zbD2FUCVIhVIkJU6q1lLWVDo4jKErDzsGCU895DuvHV+mHCi0ts8MRsXQ5vXEcZSS6rFhbG9Bv+kzmC/xGi2ajgU01syylXhMcO3WCpaV1lK0YjmYoRzDXMZUp0aKNp54dMrELth8RavmrkM6zQxXvU+F9/F8MeeAzIj8JBE02+DL+P/x1/ohb+Xpc6k9hKz+ODidReJ/WsQ7BDbuIPVMgleKWr34pr7vzX9KpTqEpuMa7+AA/S5+beSX/BMVT36/O8uW0OfGkXe9ZMFMX9INN3DDAI0OKI73s5aUu1hFENqYVuTieg84jZLhMGSf4jsRiMaVFKoGyoDznqGa6MBgtmc3m+KVmbXWN9PIBvvJRSlEuFqRpxmKWYUMXRyoaLY8ki+m4iulsSFIWZGlJp95mEk3YvjaiFbaRviSvJA4ls8k+h9MFa91lZCM4kpXt9ui360yiIcp4pHlGlXkIZVjKlsm9HMdTpEWEFAKEQRgXgUS6CbaQmFIeWZwqg64KjBDsyCs0VjqQF8wvV9x68xn2hwf4bkgQVFy8dJHFZEGnW8dRimK2wJOKVj3g0pUhi3nGbDJl0Otxbe8QT7TorEFpChylGC8ilGzS7MSUVBTkWKmQqqDh9UiLOkmhMFpjqwmakliHFGVEM3M5vtKn0AV7ozEIh1JbhOPR6A1wQ4GdzNndnVAJRd1zuO+jF6m32nTaNZp1h+2tHYRUpKllkc3odxtkpWbQ73L+0mXKSpOlETv7hmPHjnNqbY2P3PsQhdEcPz5gfWMJ5SvSGVy4esixzQ7b1/boLfXIC0u/32KlHvPAzgzZCGn4DpN0yqIscHRMlub4nQ7+ZsDqKxrk7phSpyA9tAAlAipREPsPcM/lBYUKGM3mnFgesDWe4ePiSIc00wROg92DCX3fJ4oidiZzuoFP5TjUm20ODhNMHDGvBHVZMctLlhsKawpErUW/7pHqOTMbgTaUlUfTe3ak3z/Ez3/CNdknwz9dIK8H06dvfTpil7fzv/ON/ArOZxgUJA4bvJRv4Fe4yl/w23wHM648RS09wgp38umQtCyWA+79vAnqd3jfypnFi3nre/85sZ1zgi/iL/hxLIaEES/jB7nCn3M3v/SUtUHhcY6velIFmZ7xQV2hMG4Ni4cXhAT1BrNoRpGUNBzJ8ZXjHF9aZTxPGY1m+LMJ1ubE84LA8Qh8gZWC0SRiqd/B6pKiEggHsB7NZpfe0jIP3v8wofSZzCO6VUirU6Moc5qhj/KaHEzm+Mrh2NlTxPM5h4cjlvp9rDLUHJ9uq06Wa7CC8XBMrdEkkHCut4J0FLt72/iuR1YYRrOMZquLzjKSpKIoCtwwYOf8Ad1b+yy6FcqWVDqiEgopfKw1YJu4niWvFAILSIRyENZHmIxUJ+zVSmq3etzz8Pup2xVuPt0nL3Oy+MjrPI4yJtMJhZD0GgFlUeILQV5JGu02h6MJi3nEmdMn8VxLphUIw8MPX+HUsXUwBdu7+7SWG+BaarUTLFJ1ZMdaHZDl+2AmlDbECkVNNej5K9x9/xaOE7C6sUbNL7hwcZfuyU20KcnSigKPVuhz/tI+s6BDFifsH+aEjQYnNmu4qmSlNyAMFIskJk4SkmFEMqjwwzqYlBPLXbavjZmnJTt7Q6QD6bTkYHeOUIKN9T5uENBqLZjPElaWBiS6YHd3RFK2qSmL1grrh3SXXOI8oz9os0gL0II0S8hqc4xrQDqg6ygFSoCxLsIKjI3JV/epDrvUcWi2atx79z149YA7TrWYpHMcPyAXJb7rMWg3mI0TKidhOFkwziqWByts9tpMk22CoMl0PAcr2LuW4zRbpMmccTcn0wsUNQpRkj/jezJUpNzHrz+l95C412upn97liPP8AR/i53gh34fkk2cgKnJmXKbHOSxHFSJHcrOv5o38Ln/I3+cyf/oJy+VuBDfxOp7Ht39a0r0VKQ/xlie9DU8H+jdt8Lw3vIL+G+u859s/ws72Ba7wZ2gKAP6CH2fGVU7xKu7ml3mqBombvIxzvP4xz99Q3dA1b2h4IIS4LIS4RwjxYSHE+69v6wkh/lgI8fD1v91HHf/DQojzQogHhRBf/mndA0U0X5AXBVopgvo6jWProCyLuGQRWSoTEoQh02hKWSqEdHEcl1myIEkLiqokK1MkAtcRKEdhhEIKRZklnBqsUzkSJRWhI7jj9uM8//YzvOwFt3Lm9Aq1lmUezZnPI6Rw8YKQ/kodgyFOZly5cMjq0iphU2CNYBjP0JkmySIOJzOG+4coazAIhI2p0gUgsK5Hu9Pg5E2nmY6G2KIkGAc0swah38dRPi4V7nWnXY1F6oCaMiibI6zBExZHZZSqwgjQpiBy53BHibOes3U4YvtgSKvT4urejNNnb2Ht9Dqr3QFxZDiMS3JbcHV/Rr3uUuQLAtdDS0WUlxTpIecvXkKXBVuHB/iei3IUhcmpey5Z6aONwuhDTHEF7ByLojJzymqOZzw64Rqrq11WVzv0+nUq7XDm9AmErmg2fDAJ6WICymHz5Cp5MkEpB9+1FFmGoyTz2ZyD6Zys1ExnKZNFRRTHNMIAVxumkzmXrw5xA5douoMspxhT0Rm4nDy7xtnTPZJFhlUdnv+C59HrN1jkKdkixXMcPGEQrkNVZdzzkQf46EPnUcpDa1Ba02gEpFxj6l+ksCXWCJSSGDy01lgLUpQgNCLQeCuG3mCJJCu484XPY2PQYJYW+LUO3W4XnRlyqXClh+85BM06Z46v85yNGqt9QZ7H6Crnys6QlY1NTApxBtJoHL8kEjOESMHmKJMQp3s30pU/J/15yINP+RqlQNDn5qf0Hp8ONDnv4P+4XoNsHtm2xXupyKjIKEmwWEri6+vUlphDtnkfv83f5MP8Al1O8y38Nl/HL9Fi80lto0+bM3wpNZaecH/GjPxRokYzrnLAPU9qG54O3PI1L+FNf/CjrPxgg3t+/+3s330ZsI8EdK6/uptf5r38e57KrM8xvgCHx2bZyhsckD4Z4/tXW2sfvUj2Q8DbrbX/QgjxQ9df/29CiNuAbwFuB9aBtwkhzllrP2nOTbouXqNGI2jgezVMuuDWzZtIlus8+MH7QFsqnYNQKLdEug6LqsDGKdrzGds5TuDi4jJfxEdpDqXpNhu0aiGB79F3PZTv4WaClZUmF/YOMTuHoCVZmiJsQafVwkVxODykSHJyrQmdEq2gKnPuf/g83VYLISzNRhNjYJqUeKVhFk2hqigqy0qvSawtk8M5jq84e2KDeZzQX+rT7zQpbEW0VeIcd4/Ga9IBa/CExliJURnGKqxjEFWF0R5GpgihsVZQANK4VE5O2d3C01P0JR9HOvTbPvfecw+jaEKVaGq1gJe/6Bzv/9B9VDbmzLFNru5ssz+asnXlITY3T2C9NlkxRQUwGQ9prtUputfIZYLn30W8KCnyXYQ5pNQVRpcYIzDGQRiHgd/GUyVBUMcAk2lCmS8o8fAyTb6nOX36JA1/RlJZljyXjeU6fthmZ/sqRW5p1z1Ct49wAjrtOuNZziwuaToOVjgsohg/cMnzjCguGQQdFkWJdCRQsr07xhaag4MJjrtPaU9x07EBu9v3UxlLq1NnedDj6tYeYVAndHxmUU5ZWOJkwYnjy4zkRbqnS45SPIZcx7jSxWAx1gAWgYMSiqqSuMojnkWkaYXvB0wzzVqvRbK/x623v4zR3j5hGOD2LW49oFyMMX6TWn+FdD7DBB4nbztDEuXk8xmldLj1ttMUacSeN6LSKZ5QVFKT6ZTSPGnEqqesP38uHMsqMg756FN+n08HKWN+gzfxzfwWKzyXmEP+lH9KSUJJzFm+gpt5PUvczgrPY8EOTTa4yp/zEX6Ze6+n75/Dt3I730yXM/wGb2LMwzfULpc6L+cfcgdvpMXmJ5ylT7lMSA+fJhbDffzaY4L8sxFhv8mX/PO/QffUCu/+yd/ibT/0Cwj5xHNbhccKdzDiwRuuyxdIFN7j9PLrDB73/H2aN3Svp4Io9zXAL17//y8CX/uo7b9irc2ttZeA8/AJVBoeBWstjgiwToC2IXgtslxSb91Mb3OV/lKfbr9Jt13j+bc9l17fx/UMCEOlNVGSossMpCErchCaWuiCFOS2ZDY/RFaG1ZV1Eiou7g+ZjGdc2z6g0gm7wwOu7o3wlMfOwSHblw5YX1ul2ZK4jYDpeI7nOGyst8HJuHZli/1rQ0rX4AuXwaaHKTIkDmdPLlPJiqKqqIUeZ89tMM1yrl26SpSUXLi0T5EZuo7PctYiVBYhNKgKIywCiUFjbHkU2AEpCypjMKVCa4kpBXmpyLM6SeYwbWrESYupNCvLqyRVRr/pc/ZEm8FgmYe3JnS7fY6tdbn3/AV2DyZUaU6aSWbjMaOdyzS8kLAm8E/PiTc+QN64RLveJ088smiGKGPKtKCscoxO0SbCaoMvQgbhMeaLHCWgv7xCPB8zGs2wVcZsHDObzjgcT6l1+kihiNOEequL60qOr69y4tgK0mp0WeBQcmV3QUoXm1cM+nVsMaU76HDbbee4/dxpmp5DnFa0m3WObZ7g9Nom9UBiTM7meo/lfo0iSxmnHmfPnqJRa5NlCRe25xw7vkGr6VNrOqyu1llEe+RFySTJqZ2VOF6AVRVaGhzhUFVgTEWlDdpqLCXWCqyo8CQks0McFybDbbavXmOS5GysL7G9e0Br0MQJPZZWlqHQCL9FrVGnHnhMZxEYB6ceEDUSFqaiP6ixmM6YZikLFaOJKclQyoAucNWNmUB8Ejyp/flzgaciTf3ZYspl/oC/y4JtxpznBK9kyIPs8kHezU/y67yRt/PDJBwy4ypzrqGp2ODF+LRwqfGxmeI6L+Kb+LVHmOqfLrnt0fiYBOwr+Sf0OXf9+o+HxbLErY+UWaWM+TC/wNNdS3+jOPvlL6B/boNob8Ldb/5TrLEYbWixSYNVXsTfYo0XovBQuLQ49pgZ/GeLY3wBX8G/e9ys3HmC53+jRjk3OlO3wB8JISzwH621PwOsWGt3Aay1u0KI5evHbgDvedS5W9e3PQ5CiO8Bvgeg2ayzGF5lvq+x0sFRCiU8lOOgPJfAcXACl14rpN1aYdC3HF9uMJ0sqMqM0WyB1QXGuEgFQkJWaIQtsFiatQaOGzC2KbYsIFAs4ozN3hqDlQ6thk+93WaephyXx1DSww1CPN1hOhrSCnyCRoMoMXiqwfqpJdIspVbzSArNdCJ53l0v4O577ycvBbWwQa0hKTLL3sGcZL5gdanNPKtw5ZGL2GQyw41rLK2dZC88T5kLQFOJAoyDocLqowCvZE7TqZHmBoxB2wApKiQuluBoduxlOCsFWRJz0I2ox5JebYnKwnz3gJNra4zyjNOnWly+tgOyC05J6Hksr55gf7pPuXEJvEOwFb7jIZxjxLMhFBOQMXmRgBX4TgBCExewXD/BZBRhC8tyv07Nk5xYqTFvNzh/eY/A81hECVevHRItEgbtNhtrqwTKcG1nwlK/ic1TyoWh1mpw5uQx3vvBLXIraCw16PfbOEoSpzG4AU5oaLZqPHx5F7HUIaiH+J0uXeHjBX1CB5IkYjhaYCx0WiEl0GmE5NaibEyaRuyOIrrdNn49JI9z0nwBxsNTDo4N0aRo4VKaMZUFSYCUEcr6WOuDmFHlgt7aSXav7uK4gtXVFcrC4HQbjIcTBu0B733nB2j2u3RDh3qvQ5Fn6LDJ5uoqkYVovECtdMgO9xhNE1wFt9+yyfb8ElKlaOshpQtmjqu6T9SVnvb+/Oi+/D8rrvLnvIXvYZOX8D7+L57Hd7DLB7jEn6ApeJC30GCVS7ydPT7Mab4UnzYZM67yF2zzl9QYcCffxoBb+WZ+ky3eQ5vj/B7fxyH3fVrtqDHgG/lVjvOKT2sN/f38NCF97uCN3MuvMOXSjT6KpxXKczjzmuchpCDo1Nm862aGD2xx1/d/FWt33MTBH+5y9s1v5Hl8O+/mJ9nlA/wP/s8nhRjY4SR38CY+yn/nIn8MHPE/lrntcccmN1gff6NB/QustTvXO/ofCyEe+CTHPtG36AmHfdd/TH4GYGNtYLt1D60lldBYBFgDVGAlZWkwpmKYZ0xGDkFwJOka1Nq0vA791Q0sJWUpyYuSKs/BlESJxi0rLAJ7sEeI5aHdQ57fPYdqu8zzBYsrM6jgWNDGwyWVBVuHI7SNces10CCEpaoqijxjURZMFhG3nD7GweiQ2VTTqdXYP0ipCsPOKGFtqUWt4ZAne4z2ZjTDFnkBoecTFQmO4+A6Dn7NZbo7Z7C2yp4aY7XG2AXSgtEVCkFBCdqjsCAcB7TGWHv0ntBoGx6Rt4xmS4+orEF4JQ2aFGVFPfDZWFmm3migqZBeyM3nbgbH4+rlq3hScphuU56+RulMMIXGCkPd6xAVliydo2xKni2ozNE6c2p9EA5KKbxIMR5N6HcCokghhKSwHvFiSr/r47ktVvohD18YMrSGfrvBbBxjui0aDY8omZHnhtAzKD9gOo05dapLpzsgmrokacHySp/u6jGmeztM5hG1ep2zZ9aphT7D2YJ0GuP4dYKay4cfuMLZcyewCg63rxJHA8bjQ1qtECVhFhmGwwW+F5Avxji1NitrTYaTKbKSWGlxUOTVEZUl8DpU+ZTMFCh7NOK3IsJzl1hdWWX/nn2WlkKCdovlzjLGVPhScWy5zcHBnKVuiPEkS90mpakI/RqTxYJGLcBM56wM2hzIhOJEl+x8RDwvuP+aS9UGlI9rLUqFZDbH954UU4gnvT8/ui9fHyz8T4kL/CGanC/hn7PMc3kh382v8S28mh/jkPtwCCiI8Wmzzfuul/1ZZmxxjXdSEpMywqXGGb6cO3gjAOf4qk8rqIf0eT3/ieNPYDjzifA8/iaagpwZH+GXnrWsd6EkJ175HO76/tdx7nUvRgiBLir2/vIyr/57385L/9lXIh3JtdMPcPnYf6L692vopEDiUltqY40mGc1vqA0P8Ra2+Ha+mp/lv/EN7PIBHAJqLH/qkz9D3FD63Vq7c/3vAfCbHKXf9oUQawDX/x5cP3wLHiOztAnsfKp7VLqkpgpafkEvEMgyZqkREChDM5DUapJ6KKiFHmEoUY6lMpo01yRxRRqlZLFGGUk9qNPqdmn31+ksd3HrPkmWEccp5WJBq94gSkuyCAb9Nhuby4S+YrFISaOMNJ0TiJxollJzPU6fugntChAC5ZToMqfmC3Z2RwROyLnjPc6dWafbbdNod46eGZrh4RjfadFsNMlJSPIp09GIhqfY3z+gMBWXzl9FRwlmpKilNdAVphLoymJtjtYS3/ogJdoasBKhXDxZII0LeDjCYEWFxSBwkVIipaYICrSBZtik1fJ44MLD7OyMKAqX7cMDtvaHLOKESTmnWL9MpSbY6ug+EolVHaL5IZVeYE1MXmZgJIIKS4kRBQ1cbCro9utoU3FwOMJYl85gjaXlAaY0JPMJzWaPkyeXueWm0ygHdnZ2iBYReZ5htUun3WY0XmCFj6sk2wcpH7hvF78eEgYe17Z2ubp1FeFJEIoo0YTNFsg6rVqAF7pk6RRrS0xlEEg2Vnq0azW6DYe6Y8lKn1azTZYZNo4NyBdDdCCRp3aYn7kbce4SoecBR4ZA0swwVYGSYEWFlJq8yKh0QWEEKm9w8NAEt9WhXe8yHSVU2jIdzTmczfCDOp5jEZ7LSr9FXlbEGnrrpwi8JkVh0XnB9tYeKvfAcaDnobwWjaCBUorAcfDdEF8JpHVwxI3XeD/V/dmnhU/7htv5bITFcI13owjY4C66nOGv88ec4kvocxNX+DNeyPfwXP4aS9xGwRGZ1lBxgi/iDK/lBK/ghXz3I4YwAsHNfM2nrGdX+LyWf/sZlU4JBD5NQnpc4A/Z5YM3+gieFijf5cv+1Xfwxt/5EW79upfh+C7WWrbe/RDtpVVOv+F2lHvUd469/BZOv/4Owu+OCL8lZSG22XjBzdz5bV98ZEJyA8iYch+/TptjvJQfuL6UWqGfAiOmz3qmLoSoA9Jau7j+/y8Dfgz4HeBvAP/i+t+P2fn8DvBmIcRPckSsuQl436e6TylyRvEYp3RRbohOS4Z6RJnltNc9Dg4PMbi0Wx0cKRGOQCiBKyWFBNdKjLQkZChHojUIpRCAlA4oj71ojptLVrtt/LpL1/fxAktZCHA9yqqgSEtcz6XR8rFGsbc/QlqL1ZZOv8ssFtRUSLfXY+dwj+mhpmwGRLGlMJJObYVWY0E8i0FpDicRL3zRc3jgoY+SzDNqjYB62EFbyNOEuueSxIaarAgzSdFoklFhZYUVTSSC0giEECA5qmlHY1WAowTWWrTWCCGQrkZIF2EN1kLOhKnwGG7t0wzquKFAR5rZZE6zHXLP+S1Wu3Wi9R1yO8VkFZW2eA44UmKtS5HOkKagMAkYjSFDiDq+o3Bki4FYxRMudbfJznhOlpdcvHSZeugwmSRsrHS4tjdFhT6TyxGlo3HQLC230UXG5cu7LC2tkBYVy8ttdvd2iRp1TGloeZJoDhUV8/mQZucEQhqyeAGuTyM4qhGvuy57synNdofFdIGRAt93sEXKxpmbePj+h1gUTXSREzUzPMdy74O7uF6D3q1zRHtObgyqUZAkI3BbVHaGayGvInxZo6jqFDbGVxKhY1xVAzFHnQgxl6dk/iqdXoskWrCzs8M0zZktcgLHUqYVeV6hjaDX8tnZ3sYLBNPDkrDRoYoWTLYWyJN1vCWfti5Z7jTY0SGpU4B28fBAFVTmxn50Phf9ucdN3MLX8Kf86LN21ncjqEh5B/+EZW5jlRcQcrRkco7Xs8nLKEmYcgWPBiMeZMplxjzEi/lfaHOCfe5lwG1MuUyfmwDBOi/mtfxbYvbJmHLAfcy5yoSL18ldgufx7dzGGx4X0K8LcD8iKGOxjyu/y5jwYX7hc0JyfCpw5jXP48Xf95U4wcczWclwjhM4fOUvfBdBr0YRZVhjkK7DxktvYv2us/z6X/swlZuw8QVneNH3fgUX3/4R9u++seWHh/k9Fvxj1ngBIX00+ZPqzvYx3Ej6fQX4TXE0gnGAN1tr3yqE+EvgvwkhvhO4CrwBwFr7USHEfwPuAyrg+z8V8/0ImoUas2SOIYSgWQ+odInwNDv7V5lFCbpymQ7HeD7EUU7gBihPEngOaZXQCOo0agH95RWu7OyQxSWe1ZTGoDU06oKm9OjevIyjHebRjIsX5/hByLXJPmcGqyTJFL8MqJSgTCsG3SX8psQLfbJ8QZ5lLHUHVI7C8z1qXo398YxARkcmKl6LVqePdjTSGqyNiaMM6QWcXB1Q6Jzdgy2kaIIjqZDM5hOwluWwRTE09HtdRmJIaUp8G2Csg/QKEBJjJEoWCBRCaqQSuM7R4821RVsQwoA9+vHfcu5HN6a4EvwVHzHwGceHHF5r4VtL0YkonANs7lGikVKBqvCDgHmeYIsKIcFU+RH7WwqEYzC41OnRNGuMogWVmLK+vgE2Z2drSG2pQxxFHMwiWnXJw/dfgkow3LnC8lKHLNL4QUktdJnN5jRFC6cm8dyAmueRJBlJFDPVBWG7S7/dpBl4lLrAcSpGs5yqzBFKkJUlZZaxlxY06w7H17qM9w/ReBT728SZpbfcoohn7O7ssrnWpVt3cJcCaG6RY0BkFFRodQ2iCun0EKqDrA7QIqCiwHFyEA0q1UQIh5wI0Q6ohV12dg8QSkGVEiifIo24du08re6A48c3sVXJwWxKkWtOHVdsXz0gKwRBK6SztII/GTHKLbmSVAEcXr2Eu+ZjnA6lBJOlWGvQ9ob11D8n/fnF/G0u8Q4u844bbe+zEjOu8ha+h2/i12lzAnH9X/16GrbDSU7wSu7gjVzkbezxIbb5Sx7i94k5YIO76HGWj61+KFxewHcBPCK6U5FzwD1c4S+YcYVX8aOfkFSXMvmEmuMWyxX+ggvX14CfbRBKcue3fTHKf2yYqw1anPii5xyl4UtNdDDlgd96D3d86ytprvWwWJZvP8Fz3vCF3PSVL0L5LsdefssNB/WUEWMe5gSv5Pl8Bx/mPxPweC7MjQrRfNZB3Vp7EbjzCbaPgC/5BOf8OPDjn9F9hCB2YzoiYXP5HNl8ihQuw5lG55puq4frW8b7Yzx83KZLnmhcKRFas9LpMp7OqZKSqjQEQGlyhBCEShA0algpybKcra0JNaGQgUu/3cRrBgSuYNBrUlQOy50+l65dY55qoniB47WIkznNRojvaipjmB+OWVk5zt7kEGt9XLckzubYIqEsMjAxa2st8q5gZ3ebRRQR1/vsDA9pOQ6zaJsiF6wsr7D+nBXiZMJsktBq1XHiiEr0wFFkXoJWKUJ4SGFQjjmqF3fKozS5DTHC4EoXH0VurzM4hUBbhXHq2GyKpUQ7BcLNKIMFou1ST1bJ2gswMYWxaKMIPYMrBa5Xki0SpDEIoY/W4iUIaXCdAE/VGJg+8TTG9SBLZmRBSBbFeJ5COS6DlWV290Z4QR3pFEjnqP56Mpxg222kYylKi6MsB3tD9kxFr9chLcAhQVuL43oESpMVObN4QaACwvqAnhPjCEGc5tRqHnEmMaZgsshZH9RJk5SD6RBtHIwucLWgzFOKLGc4nmAFrN4U4PdOsTe7hpY9bHZAkodIaTGiIJA5LXeNcbqDlXWs7KOUQBqFsj6uaiCsZicaY9MumoTAEbj1NidP9fDqiqbKifMFzYZHIEtKm5HGBa1Oi/XA5y8/8iDz7pzNYyv4viHKMg4pKHNwihpF0+IriYkmICrK6sYYup+r/hzQ4WX8fa7w58/a2d+NYpcP8rt8L6/n56izcl0w5+OZFnFdD/5O/gZ38EYi9lG4lCQs2KXDSY7oC0/kqiZwCdngLtZ58V/Z91gYSnLmNFlDIB93RM6Md/Ivn7Wfk1fzWXnuScRfSZ0/+rUpK97xI/+F2qBFY+UowAop+ML/9euRroMQR1nP1kb/+j5JY63L2gvOgLFceNuH0PmnJxYT0mOJ2xFIXsj38hF+iXv5Fb6Af/SYQH6jJW3PeB0qgaBUGcNyTPTgg9jS4ihBs9EiqAmEtvRrHapuiS88xrMp9VoDP4S80IymEfNZhquOjF76nTqtRh2rS2rtOsoe+Z6XpkTnBRMtGPh9ZnFKOU3xfIiiDMcJ6HQHrDoVrXHJaDw9klVdGlBrtOitL7H78C5B6PPwwx+lyHOkCqn3VtFiRJSW5PGQ/kod3/EJwy4mn9Bf3UBYw8qgj6cEnbZlf1SSZAmbYZ+wvszB3gUmsxLXtWib0+g38PIm4kTIzN3DWo9KSKSnkWQILEqVWOthDQhnQigVxli0NQjjoVxLVnSpzAhrNJ6Q4FriLELXDzAypywBrXCkwXE1biAQUkBucaTGkiKEQDglQiosmjCpMxzmFFFKrV5nbW2Ni5euUaWGsF2n3B9RZgaEJs8TrLY4rosrXMKme+RIF1lqgWCWVAQ1n8D3SbKEY8fWcZe7bG9vMYkyKisJvBBTZmwfHJAmBQKIc0uz1mRzbYXx+BquEIggoNZok+UlniMJanXiheVgex/hhgRhjTyvjoxa6i7zIseKkjyLmY0DwlobK8uj0b2UzKTFqW2SpVvoQqPUMq5tIBxB4LTQqaCczqi3JOGmwNSmZOmUsLtJm1PUCsX+/R8lSgI8x0WnCRd3CkJPIfortBtt6rWA/SjBdHwkllJo4jzHmVhE3wFZkVdjhFZQPDvqh480ztdRuFTP0mDxZOACf8R/4uU0Wed2voUX87ceV+4kECi8RxzfLJYOp4jZpyCiy5lPSnr7VIS4lAmHfJTBE4j1WCz38+ts897P4t09cyDkJ38GTujxFT/1PVwfDx2dIwTqUcRTU2oO77vKnd/2xdzy+pdw/BW3E/aaWG348C+9nbf+wM+iixIhJbr4xAH+BF9ESA+AFpss8xx2eB8VOS4fL0l92mbqn0u4NsQPPJphgPQVp85scPVwjzohs8mE8WxKmeWUtsJoKMjJEiiLChd55BXu1cBIgmbI/pUdhKlo9DtMZ3O6vQYmq9AG/JbPeGdBWWbkuUbJkINFTmhTZpNltONQ6ZzUJFA47A5HrFiDyR0mScKpwQnmSUSv22ARF8zjGb7jY5RG6xJXhMRpQbTImY8mOElMVUHgwskTJxhNE1CW2Tziw/c8jAUqA44CBMjKYbEX4ziK5k6LxrE6aTiD6zNzpI8SOda4IBSoFHCxrsJFQJEjbYV2asi6QScetooobYYQBVWpqUJDoUtsfrQ84YcGx3OxTkVZuehSEzglhbZItwIFwjg0VANn0SNOMmq+RxjAzs4hZanxAgVo8kzTCFyk9IgWKf1un8l0juu7eOKI8IdQaKso8hQXgeu51AOXyxcfptHoUK8FlFXK1tYBft1lY32JRj2gLAwWh2o2YVZarmwb0mxBUPeJpykPLx7EWIWrFOPhDotFRlkpqmTG5sYqSTQnjkvYq7Bre5SVIEs1WerSaFus8nBkeTRzkQYhOhjt4QqHIgHlFzRkF1sJdv5yTuj2kScWzDqHSKlxGoIhdzOdX8O9ukRhFggvoeO3yGcCFSjQlt3dPYbjMdMsoHd6ldwaqsqQFgnClKwHHWKZoI0kLydoW8GzSBTkydS5fjZjzhZzttjlgyQc8mp+7JN6zX8sSNdZoc7KDd3bYqnRZ5OXPuH+iD3ey79/VnMfqrxkdnVI7+z642br1lryeUIZZzTWemAtl99xD0vPOU59qf2Y42dbQ05/6fN57ptejXTkx/cpyfO//TWEvSb1QQu35nP5zz/Ke/7tbzPferxp0T53c8C9rPDc64sukkv8CQu26HHTI8fdqInMsyCoW6wF32nSH7RJs5zLV7cptCE3JcKE1NoBRmjCoM7Wzi69egM3VER5ymg0J8lKVjo+m8f6HAzHuI6L53rsbh8gNUhZ4XkWpRoc7kXosiCLC1aWV1GtitHOnMHKOtdGQ5JoThi2SGJJlVSsNwOktOxtH1APQobTQ86dPMHhdALGZTpb4DbqxGmMg08lKzyp2Nu/BpnlzOoG0zjH9wJ2tnZQnkPNb9Ber7O7O8HxJHXhkpVQVhm+62K1xlYw3DnEWQTUXtAkdwoUUFJh8BGiwhgPREUgHYSQWCvBuc7WL308t6IINTa36CohLaBMAQ8KLFWqcI3Aq2lc78goI44lTWmxKkdYcISgsgECgzNr4BSSwK1Tr7ugS6pK0242sYDnaOJFREaIMBJTliAUzWbIdBFTSp9aKKDKccIWJ4830ZWlyEqiOGJ50CGs+QwP51TWoKuUxawiON1mOjzAUQ5lUdFu1SkrSxoXCOngKp+wfrSePZvP8cM6q6vH8L0xRQkow3gy5abTqzx0cRcuNml1+kiuoTON1hq/FmCFxccltw5GgRKCsNYhTUdILSgqDXqAjg0qlkdkNjmjLA2OUiBTKgwmHBOuOuTheQrlMjI+dtGjlq2jRUCcZ6ysrpKXOcWswBvUKHVGnBmarsd8d46z2qDS+xi9QAiBaz43jl5PBmL20c8ggZinG4aK9/Lv2OAubub1n6Zl643CXleHe/y1LJYd3scB9z4J93n6oIuKv/y/f59jL78V52oHuhVi+WiZ6vC+a/zu9/0H4uGM1/6b70bnJd0zaySHcxzfRbkObs3HGsuH//MfE3Sbj7DkHw3pKG77+pc/8nrthWc59rJbePPrf4x09NiB9j4f4df4Zr6QH+I2vhGXGpqShDFd7COfa8LhDb3vZ/yQWUhFZRIUMIkztDbkWYItM6qiwm/VUcph/cQp5llMWZVEaUQ8T2jXGwShg+N6ZHnBcDhjsYgpKsPZm8/hBEfMw9kwp4wdougo3d7q13B9Bz+Q+DZgdW1AvVWnNBnNVoNG6HP6zApKWVr1FkI6VHmGH4YEQcj9919isj8hz3La7TrTJKXRaKN8QZUUBL4k8BV5lrN9ZULdUUyGI0YHUxbjMYvFkJ3dEVWV02765LrE6IJ2t4Ff8+n12/QGLcK6QmcFxUc7NESAFQJhAkSlMNpFAp500biUogAZIaREKRecFJeK0AlQvgTRoSoVaaGJZilJHFLSJc8sFWApqdI+5aSJq1pooxC4CHwc4+DmbZb9kyhH0mzVWMQzhpMUrKHuC1ZXlrj57Gl6/QZQUm+GuEGTySzGcT2khKLI6PYHdNtNet02biC5ur1HJisaHY9FEjOZzMnLHGss6xtLeL44MqpJMrxGmzjK0Vgcx17nDzhoobC2REvo93oYXWHdgGa9Tp5lJGmFg2Uyz3CkRSc52TAgSSCLDJunlhGORDl1SqeNcAI8UUch8d0a9XCJmt9AqBqjfMjO/QukG+DYBDeIQWZUaIw90ljIbcSk+SCpNBhbkRFRbG4RdixVpfGVi5GCzdUVTJbiVi5t1cJWFYOlZZY7NVhUVOkOVs1QXnmkLPcsQcLwWT0DfCpQEvM7fCcP8FuPYURH7PMwf8CIh57UZ2YxSNQTGt+UxLybn3xS19KFFDTXe7zgO7+UV/zwGzj+hbchrwfJoFPHa4ZPifXuhT/6ENNLe+AZ8D/+/LqnV7n9m19BtDvmV7/hn/OW7/0PXHvnfXzgZ9/KO/7p/4+P/vf/AUARZzz0+++nc/xIH99ai640uiix9vHMdSEEmy85x/P/5mue6CkgkLyTn2DKleufqSZm/zFH1Rjc0Ht+5s/UrUA5LjrKOLdxM7HUbFWC0NGMFzHj0R5l6nLl2haB69EKa9TqNebxlHrZYnV5QFVNSOcp8+SIOGYFnH/gMsc2jzGbztg/OCCOwA1dWqpFd9DG0QojDVcOhtx+/CRRMmGpHZBph+3tPTzHJdeCS9cOWF3p0Osv4SiH+WRKqx4SZxXdpR6Oa0jzgkGnxTROWB0E6MLQ66wwHO1gpYMVGq1zdCVxVA3leVRlRKPVpiolQahYFCnTyQRfhbQbDYaHMXFaURQCZQvsg03805JExGAkSvggjmgzyikACUYhRAVS4ro5hQLKisC20GFMYsZoo5hPKxqtJqphwPo0gw6LWUq58Gj4PSpGWC1QQoAI0cLQyJYptMt8HqF1AkJRq3n4rkBIjbAa1/eoeR55XhDHC1qtJteu7uJ5AzzXoSpLLl+5Rqfu0wocDqsrNG9eULQeIvdK7KyO3DpBvdXD6aQkyZDmeovxfIy1lqtXHyLohDgOxBNNVeZkhcFS4PsujUaDLI5ZzBbkFy7Q6zSpN1wWUYQTeFhhWV3uM5nMyS57VJ06YbdLsznAWk1hDMr6IAtQCq1LpGjiECC8HEyF0hlG5xweZCyf6aGdEisShHawRiF1HeXNELaJ0iVaJlS2wlMBhYzAadMMm6hAEUczcquJJ2N2Dw8omZJXNcZpituHqtrGVyGu08J6N8x+/5yhwToSdcNuVJ9vSBnzu3wvM67xAr4LlxqX+VN+i2+jyQZfyA/xAr7rSVm+OFoz/w0yZryUv/eY7Rd5O9d49w3fA0Aqyc2vfRnP+dZXcvxVN9NY7YGAKit58Hfew8Nv/QCv/MffjHQU+3df4gM/84ckozlnX/sCRg/tsPuB84wv7GLNZ1f6JR2JUBJx6rH14E7gsnzbMYJOg9nVQ6q04A9+4Gc485rnY7Rm5Y6TmErj1QO+8t9971GKHth+70P82f/7V1Cuwx1v/CJu+8YveDwRT0rueOOruP83383kwseNlk7yKr6BN6PwyFmQcMgxvoBTfMlfIUre2ODmmR/UASUklS3ZHh5wMBuhY4Hbb2ArTb9dJzc5rrI0gwam5lLaguXBgDTPsblGYghCF0cp6n6IcA22kuSlYGl5jUWVofIKayxhwyOf5wQ1n9FoSmgl0SxCy4L5wmEWxWRlgtUOK0sBs1lKUcZ4gYtB4IQOLgGeyRgND+n06jRqPoiCmueQlg6TeUppJCf6DXqDJtEiYrU34GA6YziZcfLEBkL28L2K0cGEWqNGo11jPk1xPMFD56/Q6/ZZGmxwOI2wNiM50Ph5Df+kQxnGKKnRSiPwP86uFS5a5ChbYAy4TglSod05XiEwZQPXK5CJZXsv5dbTp6kdCzhI9uiJnAoQtqQ0U4ysUKKOVBYVO6QHHv2lFJcMKaBW949Ia4nFaEkYFuwezAlaLcw8x5GGLC+wUjKd5yytNcHNOdjZwdga+cqEtLmH25yiMRghEN0Dar7g4EMlTV9gNi8irWZ3v4ktjxOcXVB2rpHbOta6LK76WBsgcJhOI4RImS0ihBLo0nCwP6YSltD1KEnxOz42haDjgBZ0FqeZZRPmgxHWU/hCgMipZJNQFVSmhhEKpRRYBRRIz6d9c8nk/IS8LhHOHKnrIEusqWGtxhiQEpykg3IbVN4hhZ2x338/TXkTbfNc5pOIRruN34FZNiMvUrSZk/o5SzcPmIcPYmKNH6ziqAZSjZ/eTvoZwKN2/YfriYO6dNST4q3+bETCkD/iH3CBt3IXf5cH+W0MFbfy9eTMGfIgbY5d12wXn3UqXuFyklcx+ivmMClj3slPPCn6+UIKXvYPvo5Xvem7cHoKsf7xgacbetz+Ta/g1q9/OdJRCCHonFzm3OtejNEG5TlgLdk05u43/xnv/snfZHr54JPc7eP3vOl1L2b9hWdZ7Iw5/oW30T21+rjjsmnMR/7LOx6z9i2V4sIffwhTaZZuO/7I9Y697JZHxGf6t2zwsh/8Wt75r3+DdPKJTZRW7zzF1/zc3+O/fMU/pcoKFB4v4x9QZwWBwKBZ4ja+lH/1OP399GmWiX3K4WiXJmsYN2EyPyRUNdyuxJEhq2sh0/kh8SzGCeDa/i5COJxa38BrhBiTsUgT4tRQVSV5XuH0fYwVOJTsbV3D2VjGFYZOp0MhK0bjGUVc0mgFKCG55eZzHIz2WMw08/khVWWoBT6DXpfB+oB77rmf0TRGSUW/51ILfQ4Px4SBj6Ngud/F6JJ5VkJpODwYUllJLaxRYdjeOURbjR9qAs9FaMNiUSJdycFhRJ4W5JWLGyhqYRe/5tNxWjhOnUpnuELQqDk06m1WN/pcvHIJf1CnWsmRToqxKdZ0kde7vxISZA6iQJjrZSwiRLoVQbtNTcdkUYIsSq5c2qPeLwm9isGJOo7WJHaLUpZ4uHiBwqOFWxzDNlzCZpNWVZFkBUZ4DEdz2k2PrKgwpiI6PMALGhht0MZSlQm+7xHHU5I4wBEaIaHqT1g0L+B4ATgOZaURRiFknSyIqJ+Z4XZdch0ANWiMsevb0M/BKko3QtxU0RItDh+2GALKvML3JbYqqHRJoVNAoG1F7rlsPldSrV0mX4AsPCoTUVw8BtIhXWwjaxIVnkCKGqKKkbKNKxVaamylcazBlwolLaYsaNXbyFhSk4oci9YShY+ozyizitwYquYcx9bBaEAiRUGhhpRFyWIy4jArEJsBaTSnJKLlh2ycWiHqHZBPd5EKfK+PnZck2TNfgTVnRs6cDqdZ4wVsfYLZoDX/c6fmLZrzvJWLvA2H4LrlquUO3sg+96BwmbNFnZXrAf6IT1ESo/BRfHqSwW1OPIaUpSl4Bz/yCT+XzxReI+QF3/GlODdVRxnCvwIhBMp1HvNaOOrjaXghCHtN7vr+17H2/NO8+at/jGwaf9J7Ntf7vP4//m3qK53HXPfRsNZSpQX5LMFrBOTzoyWI3tk1hg9uI6Q8KoVTEmstH/z5P6Z3Zo0Tr7id8cM7rL/oLG/8nR95ZDDyV2G0OTK0aoWPUBZO86Wc4tWPDMIULi/ke1nlzscMzCyWS/0/5Ebi+jM+qFtj6Rcr7Ot9ZBjjVnVcLyC3FYvIMptIAtVEWYXrZhhtsVZiqgo3kLT8GqPZFEd4GF1hbImoNHkFnXoL1z0yPpksMrrdGhExYeDRX2qRJ4aqLJnO5vhC4Lshnc1lRpMJ/UGH+XTG8mCJZitgODwgL1OKTLDcq6PcFg4a13WYJCm7W/t0Oz28wGOpM+BgdIiQCqOg4QZ0+y1KJMPpkGixIM+PyqecoEurM8BaB8fxQAqUzoiyHE8Y2nWfpNSMDyfEeY4Q4A1rpHslzloDtZqhRU5mJI51sMKCDRDGva4gpSltTigcpJNSbw+QG3OUFzGdTHERnFg/Q+juox1BVmoCBcY6KOsz3/FILmUsdSv2div63S6eVxJnRzasee7Sanm0ez0wY5IkYX1tmeFkTFMplArZLismownWOgyWj0PnQfLQpTIgUonj18iqBGlBSpd0sENqA8LAO8qapC1MfYbr9kArSqHBK/DOxmxWHZKZRilBWkQYKel1uiyiI1b84eGcsBfQWM2ITY71Da7sUTBkr/lBhArp1VyCoIm1Cygthj4m9KihyfBQKqcwHtYWVLZA6JAom+DMu8jiBMopESKjUAs846BkTF5YlMzJjEUY8KULHK3bK+nQ7XfYMhlxkZEmBVQaicO8M6Yotyn1PunUZ5x/FGmb1Ps3Rq75XGDMBX6Fr+EN/BrfwH/lt/g2rvDnjzvus021fr7BUFEQIVDczX+hy1leyHc/kp59kN/hPv47N/FVvIjvu65Q99nN3C2WB3kLH+LnebKc2JzQw60HN6qwen2d+ma+7F99B3f/l3dw9V33Y8onzuTUllr47doTBtuPIdqb8Cc/8stHzpV3nKSIc8YXdll57kmwoKuKm7/6JQghKJKM9//0H9A5uczxL7iNw49eQ3kuq3eeesJrW2tJDmd4jQBTaqSSSJzrJYsfL1vzaXM73/yEmZbanS78yWf2jB6NZzxRTklJPI0JqoBEGYbO7tEapCuRuqTZCHGaday0NOsejUZAZRO2ru0cab5LB6kNp08N6PR9lHNEvlNOwCLNubYz5HBnRhxn+H6d5f4yfqvG4c4ci2HnYI/A8XBcn8liwe7uDnmao1AM+l3SMmExTVgZbNJpNUCB49SZzObEScHWYcLW9phOq0mz1cSYkt3tqxRZTmfQ4ubT6+A5jEcTTJ5zemODjeMDtICguYwRNbQxCF2SpSmTyZDJcB9ZLYgWczJT0my4CBPT7YQkmWY0WqAyS/6gZvLnPuHVNt0kxDcligooQWgMFcZYbGXISpe8qIPuI4MB7aUlzt7S4vZzz6XWqBM6MUJk1HyBdB1ct0JlDbrVBt12idYK6QTUW22qSlNmGedOr9Dp+NSCGoe7c2qNBq1ekzyv2N8bs7U7Yu/wkGuH+wxHC+aLiK2tAzzfx1QgqgphFFVW4ntLKHnkLBdrDy0lWWaPSHC9MaWaUVYuwgNlBUJajBeh7ngA58z9WKeg3e3R7wQIRzGJEsajBUq51Gs+pUoR1iCVJXWusYgLMlPQaB8R1zwZErirOO4A6UWML40pY0tlUsrKYoylIkOoiqzI6bR8dLFgcUVTzUqsjAgdqK6zXIUwaOtgbERlp8SM0O4cp1Zwde9BxklO4RWk8wWBI2nXK1bOFhh3RppegEoxTxW7oxnnJ/tMimdDILRc4c/5Q36QOst8I7/KMV7+qU/7nxw5M2IO+GP+Eb/Dd3KeP8Clzov4W/S5hffx7zjPH/DZpuMtljnXeAc/gubJ42YErdrj1Nw+ht0PXuDB330fyWiOLkqq/JOn+6WjeP53fClv+v1/xst+4Gs+4dhFec4nDegA9eUO2SxmeuWA1/yf307n5DJ+M+SLfuRbOfnqOzjzmucTdOpYazGlwWsEvPC7X4u1llqjy/zCiPQwwlpLtD+lTPNHBqJCCOorHbxGyOrzz3D2tS8kpMcydzzy2VgsC7VFJdPHycQKBP0Pvvhxbf5M8IyfqQslcQMJqYtwffBiZlwljJaZzXIWUYGvLKdPLTPPK4b7BwRyhbWVVbTVJPGCVquORdGpNZiXc4T1adYkvu8d8cekQecFu3s79LsrxIsItGYyL8nSCmGA61Kp64MBQVswz2KSWYG0LlGUYeyILE9JZwmRBKk1SRFRRZLlQYBbazCbTLEWlCtJ5gVVpolMQTNocdudx4jTOdv7M+5/cJuybFKvBQQh6LxABYosmSGloV7ThKGDMCU1t0a32cJUgjSKSZKcInaR+AgKqiQnPaioLufU2y0IIRclYV9Qq2u0FBRWUNkSx7pI6+EJixt0sdIjcNuk9hLGHJnBuK5CWYeaHVAOu8xnGYEXUmUljhLsH+wwG8ZIFxaLBKEFQdNlcjglL1PCWsB8OmNjvUeUzNkbzgm8Gr5wkI5iZSlAGonnOGitke4EozU2L2i6txNbje9aHFsh0HhuAy0hSRcUkwJWJVJplGxiicjLHN2fQq3JznZOb6lNqS2e55NnKa12iyou0KlL6YgjwZ2qOFoCsR5By8dxPYTxUaoNUoP1kH5FaSrKrELQRskS5UjSPcvD7xpz87F1vDM7sBShBRijKEyFlSGOEyBkTpFVGCxCSJTjYK0kEROaK0uUc8E0T0nimJObG6ytzxD1BbYqKPOI0TAkKy2e22E4WnD12rMjZW0x3MuvsMYLeQl/l9fzn/h9/jaXecf/nxH/KVAS8xF+iXt4M3WWGXAbFQkxB9zHf+ckr6LG0iP67RZLSYxDiML7hAG/JOFt/BBD7n9S2zvbGjK9fECt33pcoJ1ePeCP/uHPU19u802/9sM0Vz+1dbAQAjf0eMnffT0H916lzHKivSmzq4eUcYZAkl3JmV+e0L15+QmDu7UWIeDYy28lGc659I67WeyM8Zs1qrTgi37kWxDy43Pdd/3rX+fEK57D6dc8D4DW2Q6//s0/yZnXPp9X/sgb+K9f8//Ca4S8/mf/Ds31IzLdx0xjdFGycsdJ4l9zHpEBzoIJV77gN7lo3sZLP/x/0J3cctQuLGl/Fz/vwvSJJX0/XTzjg7quNKaSeK4gSD1SFRGHC/J2TB630NZQD9qMp1O0DljuD8h0RbGYstRrExXQaTaZxzOyqMCv+TRqIX6gmE+n2Os2od1+nfE0Js0SpHLxg5AkSvEdj9JasqSgVnM5HEcEcYByY5rtDrvRFJEX3HTuJsazOVVe4Xo10nIBxqHf72JDn0sXLiFKh24vIM8LwrBJoRXJYk4WF9T8OjK07ByM0MbHComnKmqBQ1EVhI5Db73FLE4IPIFQimheoRxFc9Bkd3+PKCtp1jwmRYJUlt6gB6MJOtYE9TZFYukFAR1HsHP3LisnNpEujBdTsrxgZWmJaJEhTZNMl8jNBG0SqirGiIBGHSokNvXId4/R9ZsU9ZjpeEKaCYQvqYcuTqhx/RDf8yjKikW8QANFXpGZipof4LlHsqqD/jKnTqwyHo2ZzWO6nTZyISjrh9Ccok2dAEtRaqbpeTy3Sb99nEzHRNElQruM1RVO6ZBcUAS1BqoToY2L0RYjK4ywuF1FXzio3ohysaAju0Rzn4neZlgVJNsNmuslwqRI2cJ3Y3IExkrENGR7f8zmmSaVH6FNiewKlD9AJFu4QQsL1FVIdHnB7cdPUDUn0M0wNsDYCGMljpQoUSKcEFfnFM4cxxistUhp0GULrevEVUmUJFRuRFGmUD/EaaXYyqNID5geQpoaLIKgHnKuLiiq2dPdVT9tGErezb/mGC9jnRfzLfwW7+QneCc/8aTOFD9fYahYsMPiUaZ4D/IWdng/DVbxaGAwWDQRu9zGG3gN/4Inmt5G4RbDdMFD/C4C+aQOrKq04P0//Qd89U9/P+KvlKude92L6Z5aZfeDF3A89zGB9FOhud7jW3/7nwBHtej791zmz/7Zr7L+1q/kjr03cvlNv0ftN7r4x93HBPaqKPnIL/4J5//og7z4+76SF33Pa3HrAS/7+19LNomYXNxj+Y4Tj5xjtCbst3jON72CfBbzgZ/7I0YPbVPpnMXekPt+/Z3Mrh6SDOd85Jf/hBd971fg1jwc3wVr2b/7Emdf+wKu/et9hosHWOFO1A9cZfk7DB961Rh/sgTCgmewYYn5lfcx+6klnN89eUPP/Rkf1IUQLK0usXewjyodRBYgwhgbGPzjh0inDZXD3uEE3y2RpUcyj3CUwhMehYkx1mcwWOZKtIOpfERDMppGVKXGdxxKYxBuHccxCFOR5xl5Ilk/vsTo8ABXuAz6G4zTKbt7e2wcWwM3RxcT+t2ALBYcjlJk0GAa7zGL9ml3A8bTiKX+CrMsA61AQJxllHmJDBKiRU6j5mN1yeWdyzRqAdJxkb5CaYFQKWmWIDQkuYM1Hs1andNnejxwfpvV1VWEUgROSGEtRZlS89oMBiGe26DZEAROD+k6XLk2ZT5PEKJieXWJRs3h2sU9lOviugYpHWwCQW6pHBdZFDjWR+sRAyfACQ1apaSFg9nvMVkkRLWSWETIJYHvCsqGYGw0qi3IqwWlcNHaQZaSfruJowz7+xPqq8tonROGIQ45hweHTCYZySIi8H3GkzF15RO2JK7sUpEQehXa97CVJkr2aNRWqMI+FkVY65IdRKgwwPMURVVHM8VxPCwuNQsLSvxbR8iWom0VRbTP/HxKmiywWnCwuyDPB/Q3U4ycYp0KzzG4ysNpBPRsA6MsrhNSpXOEDEG4BO4KpQXf8cjTBBLDKIvoP8fBDdaxhSZXilAGWO3g2AaZO8QTClEqijLFc10cGhSlA6Kg9IZY26bMU0JXEMojkmex7xIVCZX28GuKmuPje5pmrYuWDrD7dHfXTxtztngPP8XX8Us4hNzM6wnp8h5+ihlXntJ7O4Q0WafLKda5C48al/gTLt3IQubTDvu4QP8xPNG2j6FKKzZ5Kd/Ju5hyhb/gn7PFux5zzArP5Ra+jpKUKZc4z1uvW8N+ajzwm+/m5X//axnceuwxAVa5Dqt3nmLljpNMLu0R9hrMt0Zk0/gxgdVaC/axcq8fI9TBUVp+8yU388X/7K9j33UXvflNdD/0d1j8zbuJ/8MH6d2y8si1dFYS9hqc/pI7aax0rq/3C7x6gBt6+O3HCjgJKXnp33s9AO/5qd/hbT/8i2AtjXCJl/2drydcrmG04a0/+HPsvP9h3B/8Wvzm0br5YndCrd+ifXyZ4PmSP/rzf8hd/G2Ona0jD0O+bPLvjiRjlYUXzJD9ksZGG/NGl/36B+FXP63H+4R4xgd1HEtSaMJGm3g2QWZH5UiO8JGOi93MSfa3qJcNZuMpJm9SFAlZVrCIYtaWezihZjgZsT+KcGTM7r7m7KkVFlWGF/qYvGJ3d4ixkCYFrW6TIq/Y255SWcOsmLJXpczLBa2+ZNFOKZ0MX1TUE8Gla2M2C4eoiCjSiEajjlABnquJ8owknSGsptuuk9ujL2SWVKwttQiaijJbEIQ+x46tc+lgFzWqaIYlsrT4tTbWqUiTlCQr0FXFtW3F4d4BvqyBVGRJiS4MQa1JGHrEi4o8n+J5S2AM0WTObJYxGAQMVrpMZjFS1smKEQElg8Eqk+mCg4MpeZZTb9bor3bJ5CHLrR4NN2Qht5iXJaNZl2HqUjXnKOESBg0cx8dQkWIRroOUBXiCnAoZgDSWcWmwhxDUm4SBhzEC15cc7O0jHEmRzXFdj8lkTqOuyHYCnMYSrCzwpaa1uJmhfIBSlUihSdJdHMdDmA6Ok9I4KTFrl5lrl1DchOut48oE11QI12FwxwHzJCfLlhBOhNtwaa3C5OEQbcGKFofDlKrosXxsSpnkeG6TRXSANoK62yEuDnDsEv36JmUZg83R1YJS+UjtcHD/kHRe0D7Vw+97eE4L7Rh0KSnNGC1LUhMhtIuo1pD5hFZyG/6gINEVVs6xJqeUktzNyecxTbeDyRQHl6fEc03Q1YQtQ9NtUgpNc+0k9fZJtEmBX3u6e+snRY+bWOdFXOAPqShosQHAkPt5G/8bDdb4En6cd/KvmDjnKW2K1UczR+U5tNeXSbcTgs2APEpJhnN4AgGQJ4JA0uEUN/PVPI/voMNxXOqPkM7O8pX8Iq8iZ/7UvPmnCRu8hC/kh+BR67lztmhcN5JZ4bm41FjmOXQ4xYf5z8BRrfRNfCUneRXrvIjjvOL6+YYH+E1+m79JwScu6foY0knE2374F3nd//d/obnee3xKXByVt02vHPJb3/FvOfe6F7N8x4lHds+3RiCgvfnJBVmWbjtGeqyL+KiAvmaqLvHAv/5Dvvxn//oj5Wh+q8Zt3/AFT3i+kPKRgPzItkcNLKK9ySPfNRlImhtd2qcGNFa7fPDn/ggn8PDqH68kCLsNvEaA8h1e+i+/jPP/6BoP/I/fZPcnBsxaF3hN+hpyOSX4sgL+8Xm4bQHtCnlzxMo36M/voF7alEv6PYjYpygF0/JhxJ6k0WjR6TVBlLgDS+VbqsqgREqzJan7mjCcoRoJ+CFK+LSKlGSvjlUSkzu0+11GsxmVrkAp0CWudBBVQEHOopqQyJxSGJJ4D2kEg6VNChOjC6jshEYwIGzAzuFV/BaowCEIXGaHBwR+m8PDfVzl4QYBaRGzvHQcHZQ8eM9VRuMCM05Z7i+RVwUPPrjHJLHoIqLd6dFZapLkKQc7Byz1V0irAqEC9vdm2FKiGh5FnjIc7SHxqNXq5HmM7/m0+3VcFTJP5wRhi7tefJpet8PFS5co0ogqz0jSnCBosL23TRwfVQ0EvqTRNOyIOX3hUxmH4VwhwpDDcYdoInAUNMMVXBXgiJBGEDLOZviOg3Us0gZUJj5aQ8ZCCXO7IOw1Kaea2TTiYDwnyUCJFGkLdAXaaNqNLnkeM5vOUHTpLDVQtQW20ASBj2sVlU7QJoYqQKOYRUMc1xCEt5CnUyo9gWKAUQJEhjAJpR5R2QZVFaOUi0VSlgGVtVTGxyBQpWF8GNNZKvDQLKKMAoMnUxZejOP6uDYm1Q791jm0NWRVTnloKeeaZqtH65UjlK8xaJA9lCNxqy65znHkHFuVVKXF+j1C1SdpzRCyBdWRfK9jfEormFRX6PViWoGmEiFJsqDeMzTrAa2GYDEu2RpHFHWN36oIVfipO9PTDJ8WX8cvsWCHgpgeZzgq9GsTscdl/pScGa/j/6Z2p+KBzV/h3vt/j/6dy7zgu76MjefeTHEe5MmSqsx4yxt+lukHJlgMHU7hEJAxBQQLtply6Ug5zVGcE1/Nl5U/SUj3etmXcz2gH7mddTjJKs/jmnoXtaUmQkmivckjg4pnI1xqvJIfue4M9vFg+rGAfoSPD4pGPMgeH6HFJqd4Da/l3+BSR+I8cr5AcQtfy1X+B+/lpz6tdjz4lvcxu3rIm37vn9Jc7z9u/0O/937e/zNvJZ/FnHzlcx6zr7X5+OOfCFJK3OCo3lssFWz8nEfHfsUjAf1jZWbSfeIytCNSXPWIM9tj9mnDnX/t1ex+4DwX3/4RZNti0Fhr2fvIJeZbQ279+pfzaJq/W/Nxr5cLbtx1Dv8HVrg03qa4T6Ddbe4993Msf3+N03/9VmhXjzr1sWV+nw2e8UEdAZo5Y1mQS8jKAr8SlMUhoawhfA/QGBL8lQxJgZI+oatwvRzphNTco1T2yrrHYS5JtWavGuIDxaBCIzHGwdoQU3okWYLbKglrko7XIq8KCiQidxB+gS6hxCCtw4Ee4q8dKRQ5XkiAYnw1JXR94mqBElBoGB0mNEIXIa8yzwRFmjOrhshawNVrI4w9YqIfO77MaCjJi4idvRK/VuPM2XNERczsyhDXPSpxMlqSlRMcoXCkotCG6WRKEPj4nkO9tspkMkE6dbrtDru7h1y6fBVTZHRaTUTg0ltaJckWpFGC76VIJQm6AbqXkWjwdQ0v95kOUyZRl1lZ4rk1hPCpKoUxDlpqkkV0RDi0GmmOTBytbR45xlkN6qgcS8uEyV5Eq3GG5YGl2Wqzu7PFaFxgrUOlS+bTMc1OSKvZxGY+0/skSy+JqTpDXFxMvsAai04NQvkU7KFsgzgbMtQfRco61qtR5g/gIWg2fayssMan0i6e45HpEiHHuKFAJA2qsqLMEpqeQ9N3ya6uUls2GGfK7KAg8QpqvRJpK9IqpcwWaAVd7zSebFCyj3/cpy48iuuhwuSSqBpR99o4no/MlokWG/iexa8liLBCFCFlmeBXBkGJCly0k+GJOb3WgJrXx3EniMrSatXx/SZ1Z0BNaqKRjwg+RBpvU+V9cufZof0ucWhz/DHbWmxyO9/Mn/KjPMTvMuESX/WB/8iJD7+BY/Jr+XD20+w/5xqeU6N72zL15Q6Lv3T4qq1fpHa9htsheMya8D738Bv8NYbchzWGa7yTX+KL6ZxYJd2OaVcn2eAuJlxkk5dxL/+VW/l6vij8JzS/P2Z47EOYMOfPf/xX2b/78uf+Qd0gBIpX8L9zli//K2pl4hFv9aOS1o/XtK9wJ9/JO5lxhQbraEp81OMIdgfiXh62v/sZtWfv7svc9+vv4q6//VWPCZpCCDZefBPv+w+/x3Pf9Cr8dg1TmUeMUz4Vk/2R6/gS86JDmHdgM8MpGnRu+vi5+ori4k9f4syPHccJjohs2TRGFyX1pTbpOOL3/85P89p/8900HkXaq/KS8fld3vGjb6ax1sNv1ZhvDXnrD/4s3/jmf8T5t36A5/2NL2HptmOfsG0H915hYvdY27yL9u7zuP3HbqXxrQanK5+wfv9G8YwP6vZ6UAgDSZYkaCkp7dGXMipKWo0QV1hU6NNWCisUZVVRFQm2auJJhWsswjQ5SEe0lyyV9ShEQCksUKEIkNKgjIP1DWXgYpVBqQqLxgaC0HYxnqEwJcYemXdIKdEItJthS0OlU6zv4XQFjazOeDqlKg3IkmZNkBYxTtKgUw9pnhywGMcoaciKlLDRQArI4zmnTx6j2Q146PwlZqOc2286g7OYcE0PWV1ZIa2NmE0TqgKUr1COYNBoEjQhW5SU2rK7s0uaZSAcJnsHVGVOZSTNeg2kxgiXMKzTboXcNzqP7/u02m2S1ZRUeUhbkBYJh9OS0WTOZFjhWwfVcpCeRQkDRUQeFxSJpRb6lNWR8YnbUmgEWVVB00EogxEQiAB/UFGUI8qsIolLfN+l24YoqjBC4gcuZZ5iK8U8GpGXPtpVqNDitTxMzeJY5/9h773jJkvu8t5vhZM7vf3meSfubE7aRRlJKCEhJBAIRDJgktG9YK7AJvvaBtsYMMEYDBeDyMGAABMMEgIJhALK2tXmNDvxnTd37pOr6v7Rs6MNs7uzSVpsP5/PzHRXnzpVp6fr/E79wvNQDDR6KcXqhCwtSVwbQUVR9VFBPNNBTzdIgwqEpUxDsjrFeQ4hphRZSdrz8feaLEQx42xIYBPaYcL2PZtQeDSWPdr2CJPBWQZVRmNOgGoy1+6iyyGZ6xHaJrnYYpq1iaXEmD3ioIN1gkqD9jQNr8PYjTA6ow4sXtzCoVB6nk5dYu0e00mb5lKbqvSRrmB7mtKJLiPUitqrqco1tvembJYZcidi8TpHpHy0H+LUEPvsr059VAgEN/ItVKTscCeX8Pl8iJ9Cm4iXmO/npaf+PZ/8oV/hL/RvcvTg53HFF7yY8v0eR7YueQTRikBiKPkEv8QudwCzuvcpOyB2KNM+qRmxxa3cw/8EOO9yPsvHuWLyRpb/7XP4uPotDn7V4YvWyn624SrexAt560NU32blU46aggkbrPNRcgYc4vNI2eU2fp9NbmaXu/BJEEiu4Eu4hFezxPUkLKHw8L54xHOe+2I+8nM7pHsXGa5wjvf96NvpHl3lwEuuInxY/Prgy67mpd//ZnToU04yJpsTWvsXLsqoO+eo0pwPd3+Cz/3bLydYjtg7dob0A0MOvOSqGd/HEcd0bp0P/5ebeMn3fTkIuO3338d0e8iR656H+OP93PeXN/PB9p9zzRe9nOgKn6jbZLy+SzTf4nX/+Z8RzTc5/IrruOOPPsBLvvfLqLKCrVtO0FiZY+MT93Hll7wIoR4537171vmzb/mvvHjyvbzMvgH5QyuM7/kY8jtOkVzauOgHl4uFuBAp/UV1FOIKHur5vwT4t0AH+FY4LzXzr5xz7zjX5weBbwEM8Fbn3Lseb5zuqnSv+UYf8Di9W1FNBLHyiXzJyvJ+nDZIPHydof0CrTSe0oRSg3QYl+PqDFe1mFqBKwxZAdatEsYNMpPinEQIhZQKZwEETjicypDCIuXM8COgpgY8rKnAeedYvUp8EWJqh1Mlvo2hMhTTHK9WOAPaegz6I+bjBfYd6MyubW6Be08dZ7I3xViLlgocHNx/kNV9HdIy5757TpCETcp6wvpeQSOMiTzD0nybQbrLtG9Y3b9IEnZozjdY31onG9d4qqDfm1LmkMQ+XuBQnmZ3b4KvfTxfE0cJ07yi0w7Y2d1GzzfJFgqkjKjqCmdrwlIhNy2SHFtKsiLDD2Lm57usnzmFr32KwhH4Ps4ppKhQfoiUJVVp6Cwv0OjEjIsR01FONZW84JorycuM9fWzeJ5hOq6YZtlMSjSrqEVJqH2ckBRZxlw3QSQl+rIeYauipsRMJKaZUgN54aF3Q+bnVzDsUpiaYZ7hqpLuYsi09FA2o1bge5a8GmN6IaNP7qMaeeRljjUV0tNoJail4ejzJaOdgvnFefy4ZKO3SV0mdA6WBDRJ1iZUoiY0hzl14hTS77DYajJ1I5TuoL0aP1DEYYMwWGE4vJ8s7xGFXTy/iXQZsszItxzTTs74dA7eCp0uVPVZxhsFrneIKG7TWgrolZuM8gF+1EKPBEurXfLoFiZjy8qR65iba/LWl/zPTzjnnvdsXc/7xPPcW/j4BT97oF7XYTjJ3/N23oxlFr7xSSiZENDma3kny1yHxSBR53bnjgmbNFg5R8FZ8w/8FO/hX/FUiVRiFikZU1NwiM/DULDJzcxzOTvc8azkr09Y5uv564fURgOUTPk7/jX38x6GnDqX7DbbuVvqR6WGFUh8mjRYIaSNvCJn+RVr3PVnH57Fmp8A4oUWb/697+WSV99wvs05h7PuIclw440ezdULxOAvgLqo+Mt//ovc8jt/x1f8wfdz2eufz998/6+z/tF7ePPvfS/tAzMxlun2gGKcMXfJjDbW2Vl52+TMkHe9+o/pn1wnrfd43fxP8171bwiv1Xzu97yJo6+5Eank+blaY5FKcsvv/B1//paf5+o3v4TX/Pg30lq7cKhgeGaX//F1P03nIzfwiuJHaHMQhyF/wQnEb9+Ef0Chgodm6v+w/OInvZaf9E7dOXc3cAOAEEIB68CfAN8E/Ixz7qcefLwQ4mrgq4FrgH3Au4UQlzvnHpPk2QHGgEJSIalKmEjDancFFc9EQCQlnhJo4eOhkQ6sKbF5SJXGTIzPTprjW8Fa9wADO5nVixcOJxWe9AkDhZAhRTUGDI6ZCpl1NViBkwIpJAEeVlpQGvCQUqNFTOlqhHQI4Sh0jvQFIvFxokLhkEawuK/LnG1S5jlSSJxSDPsZSRAQxgprKoQMmaQj7j22Rxg0kZ4jTVNqHRL4hnajiVQ1lxw5gAoOcN+J+zl5cpdmkKN7HsaVSFeD0OS5o5FInCoYTyT79iUsLtcUWU05LcidQWLwdUIUR2StCik0nrRYDEZafF8TeiHOeBR6SmATrLHkWU6j2aKuBQvNCGlLkIJAeQynKZGfUCsgN0w2JjOjWTsOLs5x5uQW07JAOokRmsIUeF4DVedECx2KYg9rNEGg6DQNJtZw2Z24xpSJ8Wa3qUBijSX0GygtCfbDuNjF1pKl9iKOLXb6kmp+AePOECiPmgpEhavBm3aYT/YxsENckZMVOVHUpS4tcwdzwrkR/rLFxpvkVtDpeNh+QPtACi6jdgW1saT2dprzIWEroxHlyLEH3jaaCEOb2mQUxZiqrNAqQCsfYy2lrbFsMKklxeku/tyY6UlH1Q4womI5PsJScCl333mcXaNpXLaGyhxTa/FXIsZmTFgdIdzJOHlim70rB092KX/G1rOhwGEfIUhiMfTUvQgksVngdt5Owei8K71iRg16mFexyFUIJOph54jonn+9xS3cxzvRhBdUIbs4CMCR0WOFGzjKa7mML2SRaznOezjEy7mJX+UD/CcKBk9yjKcfEs2r+dFHGHSAs3yUj/ILjzDej/cdOew5it9zZZN3w+m7b3lS87v+617J4Vdc/5A2IcT5He5ka0A0lxB1Ghd9TlsZBie2OPLq57B641Gklnz+j/5TBie3aSx/2pWeLHVIljqfHvfcmMlai+qqTTrHjtKXJzn9lX/Im77121GJpnvp6iPCBUornHN0Di/z5b/zPVz2+ueiw0evLZ9s9Nn45H2cLG4HFG/kV5Booo9ewvqLN1h/4bu49v+7iuTgI+v5nwyeLvf7q4FjzrmTjzGpLwF+3zlXAMeFEPcBL4DHJhqWgHVQlAV+YYk9j8WVLp25JiU9Aq2gFqRDh6s9RFgSBCW+bGDLgLSAvUmPrCpIq4A8HRMlPqiazA5AzMROskriXI5xAuHAiJnbVqkcjTeTIZQST3FuZy8RSpxLuAFjLdalSKdRBEhhsMIgnKYSFZW2SL/A2iF+6VPuGvaG92LqjI3+hMX5BfxIM9id0goSDl9+gOlogJKW9cEEqTQLTQ8tMzytOHFiA6cU1jbZvxoQhYr7jm+SNAJWlpZxwjGZpjSbDZqdiM2zQ9LU0YwblMUQFZV4fpPAg6qaULUjnLb42mKdQiiJL3OCkSbwJLWoCRttert9nAtpdBLGZ8a0O120c1QF+MojaTdYXOoynZYYa5hO0hmlrNTEkUeRW6aTMVY6yrKiKVq04hbjdIwXALZiYW6VM2fPokmIGhFjt4O2KTZzSFWhpSaIfJKoi9RdpumIyuwgVE1NwaBISZJl5PIO0+EW0pNMXY5QksLWCCRifoTNB3QuHbPUNJTOQjphdFIxf5nGzpc4UVKmkjJTrKyEyH0jtNCMy4q6BmMc2ta4JEWEAYVK0U2FMYa6nKBtSmXnSesTVHWN1BJpHE72cSbF4dPurCKWHYYunestRTVFTDViuowII5YW5tne3SVfWCJcPEpotpjUJVIHoCN8WmSb67By39O0lIFnaD3X5A8x6g7LgBPc3Hobiz8m6V66wuQfAsZ/cA833PVNOCwneC8DjhMyx9W8mQdncfe4jynbaEISlmixhgMWuIov5Of4S76dJvs4y8fJ6D2hzPZlnsML+HYarHCQzyOgdf6zg7yMiC6fy/dyOV/Eh/gZPsVvPCvIc5Z5Dlfx5Y8w6Jaak7z/aRFqeSp4gNf9AQ/xw39fyVIbAOVfvHHzkoCvfPsPABDONc7Ra/ssXLH/ovqX44y9Y2fZ5aNIq7j1He/h+d//Gtrn5FZhlmhnyhodngv3ONj33EvRkf+YhthZxz1/+VHKyUwl7jQfJGdAzAICyVrvpay88wXs/Jt3Ef+qBf3Uw2hPl1H/auD3HvT+O4QQ/xT4OPDdzrk+sAZ8+EHHnDnX9ggIId4CvAUgbs2SJXztc2ClSRR08LwAhUSOAoq9kCL3SO0YWhNsLvFUjJYCodKZe05EM+Na1HSNhNRS1obWfo0NDZaZ3jUmQAKVEDjEjBWo8mcENUGBrRV1BQgDQuELjdYKrWq0E5T4CCUJtIfSybmbWAVWIKwDJyidwcYlbq4i38yJ/IjFwzE7O7tkqcP3FOMsY3vdMb/QZnegWVsLydOUfSttylIwGfUZjybEjSZ5MZ3lDdCg0QJnYdDPCZOQ5eVlhFCU+UwD2JKRpR7Uik5zjvG4pNNZwCY+WTVEK/A1FLVB+Q7ymMlWQTwXUmY5o2mO9kMaUYByGs/TNKOAZjPCOsvJ+3ep3RDTTCiLktoIgjBCYEjieQ4cmueOu44RJiHpOCPxY5RnUFqj64AkbrO7NybtDamrktRB5TRL+9fo5z2UP0Aqg1QGISt8T+OkQuspQvlUTJEYTJ2zMz3DSnyAQORs5WeRyoF1RFGMG7cw4ZDw8Bb4KUIJqjKlNAXecoiek6AFplTkmSP2JJVXoayHmGnxYWswokZJCLREi2yWV1HW5KXDWEMgc+JwHohRLseoFGenYHOioI1xhmYUk1U98FtUIke6nHQ3YHhqShZt0mj54KA4sYWnOjT2HcCzm0xTg1UJwZWK+WEfGS/BRZQYfabX84PXcpO1czHvapY4ScU7eSv1885ww2v/OVu3nuCeT9zM69Z/iQ6XAoJ7+Qv+gC+nJuME7+Uor8VQssc9/CXfdq6mXRDR5YW8lZfyg2hCQuboc5wd7qRkPKtGeBQI1CO0w+e5jBv45kd4FYDzxlsgWeQavpCfRaL4JL/C08Wb/mRxJW8ioHU+nCEQOByf4rf4ID/xWZ0bwCd++V1ctu/VrOUvwjtqsTcOmLKFaFi8OMBvhA/JIr8YCCEI5xrY+tMPVQ8OKwsxu5fbvkAkFhk8zFO0K1mMLufG//RqVOBz5BXX0liZw9ZmJtsqBEJAuVvy8be/k+H6DrY2HH75tbQPLrF49QG8OJhxvT8su350Zpebfu3d598XjCkYE/FpV73Cp/7TOe56wzsZnNni6i9/atTJT9moCyF84I3AD55r+kXgPzD7df8H4KeBb+bCbL0XXAHOuV8GfhlgYSVysX8QKzWeUjjpSMoOxY6jGilK5TOJhzhlZy5zGyG1wtMBhYWitkhZ0vKbFP2CgJn0ajGaYM74dBablFFJ6UtKDPZc3JW6RFHjNzysM1h8rAVjM5yzmHrG+mZcjrESnJiVSSkDTPCEh3BQ29lu3UmBcALnfCpdo7qSII5wQ8M4ndJoxtSloCgzpBRkZU1/OMFTCu00nvRoNjucOr1Nuz3HcJJRFiXzrS7XXns5RV0QrHsURjLY3mI8MURJQJ46xpMM4UomzhDGTdbWmmBn4mDpuGAaV6AtWilyU2Kdh0KS7Q1gWjKWirmlVYpsj8nQYArHuBrTabXp98b0h1OajYj2XECgPJSCPCvPfT8zcZ2iGrNqlgm8kN5gQOgJAl8x14nJqorJxDIeTzFVhlA1Cwvz4ByVqajzkOq+g8RXCGxnb/Y9Wkde5CgvJQ5aVBT4Yswkd1R5QCsKKIPTCO2x4ObZM1s0k2WsGCE6U8g1Vg5mC9d4uMqjsg4/gChaoqIgK0owNfFShJaCqoasLAEz45dHILUk8BOENZQlGAtO5njSEfgx6WYLGcfoYIw1Dqnlud9qQOxdSl6cJlUjaifwfIkdBZjtDnUxwjU8imyKnrM0u5K8PkZ/Z4vu0nNoJRMmlSRqxKzccBn93dPA/U91OT/t6/nBa3lJXONcUjNhHT1NiJhnheew/v6cO1+wQzlSzJuX49EmZ0hAkzaHeQU/hCZmX+MGtt78F9ybvoub/vCvqNynFbumbHELv01OH58GGX1a7GebW8/HveOFFkdfeyN1VnLfuz5JlRYscg1HeS0DTnCaf6BghMJnwgb38zcYSnL6dLiEBstUTNnmNvbzYpqs4bDUFFzCq7mDPyRneKGv4TOCBqsc4VUAFIzwSQDFNrfxCX75fBjjs4lylPGJH3ovyWsvZ0HsY7Kzy3a1Td+/l2Sxzf4XX0ljZQ6hBLY25+PXVVYitaR/fIvx+h5HXnn9+V2/rQ33veuTnPrgHVz1ps9l9XOOkvcnSE8RtGZlbtnehOrvYrh6RHJpg3wwJWhFmKKm3DO8/Lu+nvbrfZSvMZVh46ZjHP+jO7m+/VUEtOmZ+9h6e4+7Tt2JaFlKOaH/qR1E27H/hZezePVBNm66n+u/9hXMX76PbG/M7l1n+Pgv/xXjsw+WXHN8QP8oz+UtzNdXMmadiinJZJVj36C5y3yMj/+3dz6l7/jp2Kl/IfBJ59wWwAP/Aggh3gY8UPtwBnhw3v9+eAyqo3NwSkCo8ZgZ7bhqkG07MlkxbNXkFAhT4qwhki2kr6kdmMIDUaCNwY0kkWggcBhXE4UehhLr56SZQ6U+XmuIWtjGKYW2HpQBZc8nxSdqKaI5RUmNEoKZdkaJI8NWCRYPUTqkAz+Z1TBiPNxM1xSkRAoQWKywOGuwTlCHCh0JRGXQlaRbdzBmnmFvB2sytE5wBHhejZYhO/0JzpUIEqJWxF5/TGksrtY4YwjjDifuOYYUjigMcBZqU9JIHL6fUFUl3bmYJG6BKShTSxrk5IFF1B5WFhgDCIOpLMWkRFUlZW3IRgOs8JB6VnpXl1PKymdvb0qrFVFk0IwFKobxyGCUBleDgaQxR21LbrvjOFJVxJGkGWr6o5Ij3f307j9JXdZoXxDHEc2GZJzWmCLH6YT5tTbkUxzLlGOJCydUtcBXBdobgw4JXYexHpCXNcYqpoWhoTwGuyWJ7tK0TUb9XYQymCpgOVjDetuMygnOGSojKHPD3IoP3hRVGYSr8PVM/MfVHmWRY8mxxmCtJQoikJayNEhRY0yOEQ5POXQAwnhM3RjXkyjRwhMxMlB0DyxhtECqCMIAN+rCzjJZ8xiMQ5Ru0eka5NyIMIHijE/eD1BX9jDlkGKySXv+CNYNqCtNe63NeOOpaTA/CM/YetaEiKlHm5nClcPxcn4YV1lU/8Lc5EtcyxKz2mVT5xRfP2TrIw2qP0wfmBQ60EhP419h2F3+exau3E+nu8ih01/FoPU8JmaT6faAS1/3XK79qs+jygrWP3oPH/uFdxL86eU8176FFgd4N9/PWT7GC3grIR0WuZqEJVJ2iVk4V/7lEGg6HDm/i/eIuIovZ54r6XEfEzb5IP+JkThz0eQ4Tx2CG/lm9vMiBIKQmRvb4WiwzJj1z9A8LozGyhwHnnMtqy89zNzRFdpf1EckGU2gyaXApcBD3fFCSdS5BDW/EQIwf+k+ksU2QsmHHDd/+Rr3veuTtA8uIqQgmm8+5HzRfIPozTDL+/y0m1+HPsELoP2CT8/VA5avO0z1G/M0fuaVCKtY4Xm0Vs9wdPl1ePcvYKKc/KV38p7Rv8XWloUr93Pgc68k6jbPjdfElDWbN99/bn6rLF17iLAdc/AlDcy9d1L95AFa9QH+hK/jct7Iy8p/TUXGPxx7SPrKE8bTYdS/hge56oQQq865B/gq3wTcdu71nwP/XQjxn5kl1lwGfPTxTi6EQasCZyJ84yHGASMvJ1c5zjpk7dBK43uOslZUpURJRSAsiWlDWpFVOSoydOfahEET15ywuCwQyRa2tNRSI1UNniFSHkaMsEFJbhKyk010JJieitlbL1ldXUatrVOT41mNERZ/usb6yQqVCtYOLjCuU/zIEkURQaipjcGTklbSQhufvDCMvD4oixUVWviUvmUSTAhFg46cJ3AeBpgMt1ldXEQmmlFvSLMZMzFDAjHH2mKHsrLccvcd2Bra3YTxpCBJfKxQKKEJoopmtEQjjqnrMUL7pJMpQRCCrsmagtoanHBIISiNBueBFawsrtCYj+nv7lIbTejVpEVBUdY4pyhdTrMT0Iw8fF/TSEKk1NTVkP37V9jb2wUg8BTNoMnp00MWlzpU5ZCyKiiKlLvvOsOd9+9RG8ElB2IakaTb7oAY4u33oFnRs5uU1hDn8/jTLuPpFCdqijlQR4dUpkeW7SCMj7Jdalnh0oi8EnRbmkF2GtSUmCaZUbi8ItM7JKoN+QAZzyoPRGqhBuk8jFRoBc4TZNMeItQYVyPwUMKnslPGWY72PAJVYkWBlg5PgueDpxSm8gnaZ7GjlMmJJaqwonVDSUYHDyidw8gaayY4VWOKPURsae1vEIs25dyAUg6QnsM3+wlaMbXJQQ0oy7N05y6jv7dNYVo0l1efhqX8TK/nh6qIzWqmH1v7+wH38YRNbip/FfPO20knQw6+9GoWLl/j8CuvY/n6I0gt6RxaRgf6Ye7by2f/zDhmztOCHn7FdSxcsZ8zX3M3auNuTr7jw4zec4q8GvIuvgtDRZM1LuULGLOOw3IFXwLAHf7b6VaXM3VbKAI+j39zznCeZR8zVa5tfQu3Rr9NOX6yiXpPDBFdbuAbHvFgJBBUZFRPOmHwqWPu6Apf+5c/zNzhFYQS1FnByQ/cga1qjrzqOXhxcMG49IXalK9JFtuPOK59YIGDL7maZKl90ed6OB4c59eRz6GfWMQMT8LdDfSSIPye+1H7LfyihNdvE79kypv4Lrz4wnH1w6+8jud8/SuZbg95xQ99DV4cnvdv1VnF6Pr30fv5EPOhknfYb8dh8XjqfBNPyagLIWLgNcD/9aDmnxBC3MBsGZ144DPn3O1CiLcDdwA18M8fL/N9BglYhHAEpsnQOXIfcCESS+JpEIY0rxBO0NAeoZCoUiNyTegH1C2fUlU0bcgw3kJ1eghhQFcYXeNcgbCOUABKonUHK4eIZkrnQET3sGSY7TA8WdESJaG3QaR8cJZARBi/z8FDS3iTBpHWCBOS71oyxrSSLr52KFHBJKef7hLqBvNRQl5nKNnGCUEShOBqojiidFOUDMgLw8r8It45Nbl2p0kr9hnmhrIoGA8KuosdyjKnP+pTlFMOrzVJpwblSXZ6fSgqlg7Pk+UTtNKzp18kngoIG21S9qgLR+ALqlpQ1w4B+MB8a5Eja5ewu3uK9fvPMi4yagdxHBKEMaPxBN8PUFrh+yHSeXha0e02MYVhrt2m2e6SZxlFVhDHjjLPWVo+QDrdptcr2NreY1rWOAPOhSwutBlPpjjlMe3XNIoWTAsGZwfIuQWqOkXKWY5BeGiXSTakzAWeAiun1Dg8BTKaouUBKnYgKGeeCCtoMU8WDXEiYzwSGCnxHDhT4/swGqeEcwFCt0BlWGNRQhMqQy48styCBVMJ/MDhOYN2EhRIOdu7SeuojKKuAnwpGG8J8pMFSy/0ETrFyB7YJtgKO23gpgrjzhIpg/Nq6uY2VbBFqTOEyvBXLTJLsK5CBz4lIypXUrrDNLsLZGlOZ/WxaTSfPev54uBw5xPpjvMePsrPs/jlHd74r78DvxHhrD2/W7uojOGHs5MKQXNfl6u+/MU452j9sxb3fZ+j9UuvxlQln+RXKBier3UHuOMBGt7yoec6yfsI6bDFLYS0CZljWJ+kHudP5St4QljiGtocuuBnPe79dOb6ZwHFMOWDP/HHTDb62LpmdGaP3rENnHUceMlVfOmvfiedI8uP+f/4AAf8Aw9mD4fyNQdectVTmufMZa/P08WKhkW97Q5QgCc47xz4mdlvQgrwCS58MmbzfOFb34izDh0+tGTNi326X+kRvmpM9oXHue6TX8cS17LM9dzKf6fHvU/6Op6SUXfOpcD8w9q+/jGO/4/Af3yCo6CFIqFLLw2oFFggMB5GVJQ2w1YCLRULOqKtmvgIJiKlKAzT3EAskUqQxxPqaBftKayV4Hw8V+GsnLnSVEGJQNclzjrmmo4TZ8e08w7NZsTSqqLZ8JFRgKsSapcjnY8XFGydHCL6kCQNkAGL8z6OirIoEUag44iqdKwtriJ1QJ7lHF47wGAyBlvieQllYZCyAh0hlIeqHUifwJ+R3IymFUrWBKJBZ6FFNVdgshKHxipJt+WRTafMd0NqF7Ay32E8SWm1W4xGY6Qn8XwPZzym0wl9raitwHkSjSIvKsqyRqsCRMRWb8h8M2Ops49RPKbTCNgbDFFiRidrjAdaY9DktcHzJHEUcf+xHgfX2kg1YnNjh067gbUFKwttnDNMxrtEgeba6y5je3sdvD6WgLk5nyDUOBKCOiezElGFpOOcTqeDcSmtlk9/NyNqJAhvZ5aoJiqcNGgMQdIkDCzjcUExOUusYwJtsRacrygnE6SI8AXkZU3YEtTSMelbaucxtwDYPs7Oo/0Gts6o0gKlAvIiR4uQRixI3SyEY2RNJSBws7VvgaoUCJp0xPXsnt5her/En6/xfEWkVqmYYt0WeVmCUEQdDaN5tDYUylJRUusC6QSukuciwrMYc1UVIEqc26TIL8OP19B+xMg89azZz8x6fpw5nCNI2eEO3s+PcT9/TcoeKtC88qu+B78ZzRKXpHrcc10sHsiWftUPfx33Dk9x6x+8D8pZSdvF4ME34CnbTNk+//7yNzyfKi858d5bn1HK2TVe8BB2uAcjZecxEwWfaaS7I276tb+54Gcn//42/u6Hfpcv/fXveoSS20OOe//trH/kbj73u990wUQ6Zx1hO3lKJWHh3EPL6MZnexfmq38C0MGje6KEEMQLTV71rW9h8du/msQt47B8JX/If5tVlz65MZ90z88gGnSxeQcjSjyp6HhdhsUIVwgEPoFyLIg2Ilf4jRhjMjwSxqpP4PvYaYnzoW4alGdwziBFiaWaEc5IsIWPRGIdWFFgjMaTPgePRNRqSD5MoAwwmcKnMRNmQeNkha89Lt13hGloSPOMuWQOrMX3G8w1Q4S1BJFmMplSFSWihCAK2NzaIYh9fN3AmAJPC2ytcWFF7WeETqCEw1Qlyg9Z6MQMRjmBFNi6YjzNacUxo8Eu7XaHZkMDljBawFCxvbWFUJpBOmU4mrC4sICwjroqKIxjElUEgT97ABaOAjertVcVdV6yfmyL1bjL6tVHCJo+02GJQREEAc5BGAXUwFyjzdbeDrb0GE9TzuxpCjPk0P4AqWbELsury9SZJWpGnD1zmjBMkEKzuraPTncBU1doGdKZ67C7vYXntanrIdpzbA1GXHP5QZJwSjp2NBNLVoIYdumECwyDe3HSooSPkhXCtDC5w08qIIMK8kEIskT5ML47olitCD2FEzV1XpE0ARti8oJBXxM21/Fkg8ALmaYl2SDCCxWRb6mqHKfMuV3DbIdu9ezJXeFBPU9uWvSyk2zd5vCai1z1+gV04LD1lHRHMjg5h780QcQjWt05SrsOlSR0S1iZY12AYIypAkyYo8nB+fh6RGEmWCS6yiimGcoL8B++ffxHCIejZMz7+VFu4ldJmYVvVODRObhIPkqf0fGDdszhH1jj/TfdCrc99Vi49BQvfOsXc/AlV/NX//JtfOJt73pGcugC2lzOGx9VL909E4M+jTj2NzfRP771iJrwB2Pt+ZexdPXBR82MH57eYeuWE1z5JS963PGsseDc+US7B/DwsR/QR38Aj1aG9wA2PnkM6SmWrzv8uHN48JjzL1rAxClMQaIewrnwZPCs55bUQtLJ18AIpBA4IC3AVQG+57Hgxxz0O8RoWoGHdBVRFGG8mmpOMG0Y6jLD9ICJpKocZemw0hL5AV7gEfgezWSW4exJiSciOl6DpeYK7U5AQIPEFxw9ssjicgfPJGih8KwkECF1XTIftTly4BCtpXlObKyz3dvm1jvvYPPMJkiJKSUOSVqX9Hp7YAqkMJg8I4kkeAVCKqysCDJHbnJsKyPwHJWDJPDwPIUNDIPpkDSbIuoaU1coXZNECXlhSEvLxuYm/d0+2tc0kgZlWtKINUpWYAuEKwkaEhcYtPZIAomRAi0lfmiIlUc2BlMohpMxSkrmOnOMhlOiIKTOSyZZSlWWhFIzzVKWF5eoRMaJzR20As+39AcTTm2nCGFZP7FBvz8iTUuiuIUf+NR1Rpla6tJSV4osS6nriiiUZHk24+Q3iuW5BnlmaHoNmomH8iRK1Jj1efZubVDecxhx4jDl7YeYfvwo2UYHJww2q0kHHmXl4zUq4rgm6hYEl21Q5obR2FHnEZoEaUMYa7y6gc6aRDqhSAfkeU0URnQaklBBQYZxFgdIHFqAdAJh5Ezva3s/2fH9DD8l2f2Qx/bZksaSB34NWlK4krLYRpSW7P4ufn0JihYykNhiETV8DqpYxhQFLvcR9Ry+i2deEWdxroAiRmZHGIz69IZ9irJA60cnv3j2wDHgBGPOPsLQWGrW+Qi/y+v5B37yvEEHuP6fvJxv+Nsf5eove2qlPo8HoQSNK5vsf+EVT8v5bGW4+Tffg0kNr3z1W1k6cuRpOe/DcQmfzwFefMHPHI4+9/PZLrV7LEy3h/yPr/spbv6N9zA8s0vWn2BrQ5WVMwMMeFFAvHBhchbnHHv3nKV9aOlRx3DOUU4yykkGzmHrx/ZcPMA7f15bvTZ8+Gf/nO3bHl0W+MxH7uaTv/Y3Dymnuxi01hZpdT/Nhngnf/KE+j8cz/qdujIhw75B+RKrDM4IapshsbRzTUMpTAXNls94MCEtDX4ZQuDwPEVe14TzHgxKvGGIjtrkwVnKssZZj0CrWb2zMmhCjCuZFiUan2yngYgDZLDLcE/SOz5k6fIR2Cl1ocAJPKmxznB8fZuAAZ4vmGv5LLfXuOxSgbPMsjE9QWexxYn7p3haogNFMTZMJxO08gkaEZ7nUaQli4sJHSLOuC1a7Rx/HGNcgZKGetin0VjEGMtolLLbH80S7OehtiFeVDHfapHmY7a2p5hmSppVOJcyGWWowCeKYvZMiU0cSjqsmrH2SS2JvQg7zWkZj3BOsbG9TllcS7MRszcZkmQBrbmYZpiw1x8hPYvG0Uxijh5Y4eT6OnlasbDYpaxy2NjFOIjCCKk1nobMODa3+kxGI5IkpNmecaVvnN0jCT2U8mm3PWocJis5uG+RuBlz8uQZ6krQnV8E1yPPLcO9KX4/Zqun8H2PTick3bPUHIaOIbr6DF4c4qxlMigJZUXcEpRen2rsYW2A2FlGJ4pmC6QJCHWLerJNQy1jtWErPUOWjnC6JqoCXFCgfYcUgIWqdPgKnFFMTmiKsx5bW4KgJWk0fCZ7OdDBU5ocg2qDOrpOdW+LOLqKsjxFWWSYNKRmB5kKRBSg/TFl7c+8Rhik3kEhKE7twz8cULJOXWiKTGG88LO8Uh8fPe7jl3kuh/g83iR/G98mOKBkzHv5YT7Jr1xQp9vWhqjbOM/a9YAUZtCK8ZOn97rLac7mLceftvPd+nvvg0LyxuBtdPauZJun79wziHNkMxd2XecMuOd8wcKzF+sfu5ezn/g5gnZC0AjpXrqPtDfm8/7fr+SaN7/0cfsHrfjxFd3kTAFN6hm5Vu/YBtu3neSSz7/hcX9HzkHQjDj5/ttZuvbQBR8uVm64hPvf8ynSnSHx4oUT9i4EGxRUjQEBMTUFN/MbF9Xv0fCsN+p1ZairDM+FxGGAFA6UouN5DCc9XNRAKs1eP2e502ZSF5SFIR8WBBj8bkTSCjlbb+CNLOFel3J+DCpFuhpHgXENhMuohUNZRSBjxnnG5HiPhZU5vIMVXX+Z8KhgGgwQtcZiiP0Q503whgco0oIo0eA0tlRkRY4XhER+SJml7Ews+WbJQiehN5gyGVZESURe1WjhoXXMsD9maakBTtHfGaOkYrg0ZSnp4ArH7nDCeCLwdUFRVwxGYzwNjTjm1PEzxGFCaS0kU4piynx3jqQVsCAUga4IgjluuuUWPFHjL4ZMZYkvAwprsK7G8x2qdqipJR/V7G6OKKqYUyd32L+vyf6Dy0x3p5SFo92IWeho9u/fR+R5bO/scucdG0jlSFrNGXNabphvNyimNXPtECNq7rnzbrTngbF4WjDfTtgd7lAWgtDzMBYqCka7YxqteUxtKYoKKQvG4xo/Dun1R4xHBThDp9UmCUP2tk9QSEF/mmJFSbuR4HcHCO2wlQUqAtXEpQF+XCAmCl92MXlJmhraqyk9u0fYCEF0GA17eLGiyCRIQe00ceiwwqCVIPBASihzgbAaMYnon24wPBYyHvUoGhntQwGeNshpgSo8XFRR5xm1EwTtBtEN4Ic5ZjSPJiUNAyq9xfTOZcLlG9ALt2MrD6oAFUwosYizc7S6a1h/m8patNqjKFpMq4un1fxs4QFGt3v1X/KJl/4onQ88l7Te5VP8Fmf48KMyst36e++jnOZ8ya99F34SMtns8/Y3/xjL1x/mtT/5zedrkZ8qbG341G/9LVufehoNr3Pc/dcf5q6f/BU+d/hNTI+fYP2OO5+200s0LdYu6Hp3WD7Cz3KWjz1t4z2TcNaR9yfk/QnD07scfe2NHPjcx09+E0Kw77lHMdVMDvXRst/9eGa4bW0wVY0paz74k3/M/hddcd6oP5qLXXmKG7/5NdT5o4e5bD2rbz/27pu57mtefvHXLS2uO0uq9Ig5wivZ5KaL7v9wPOuNutaaQ2uHGA56rCQJxoEzM8qH5SOX0Gw3qGvI8pzACRJTc/rsBgrLcFziez5DaZGZZjCcQN/SyJbwDg9ATjDGQ5UJKsqoRI3WEq1LnM7xvGWCdk5ZeUyKEiMGKAtCWUKvhecaqN157CShFgXbOyMW57pEsUeoFcJYBqMBxSSlcIbIV2ivTRjl5HnJZDxkkknG/dMsLs5jKdnaqPD8EN8PqNKUYtuw2bwVb7pAr28oy5q9vSFREhGFIXOtiNrWpHXJXq9HUcP2psH3NVFYo7xVpKsYFhOqcsQlh/az0etRSh+lHDWzHaavIFGgBhnDzYq6sFhVk6UFt9x1L8tzV7I8v8gtp7eZb7bJ85zJpOJkfZZ2O6YuZ7zeTvlIQjZ2dqgrQ6fTZGdvmzBeZW9vB+tACB+nBX6kWd/eI04i5qOY7V6P06d2iGKJsZbdUycIPM38XJO9nT5xM8a6ikF/h87cErYsKAvLmd4WSs3yCaJlB5ecQVYJrpFR5RJnBEbV+DJnjkuosx16dUZ7uWL7jprxhsQ/OMBvKMKWRFYVoSrINw8R7CsYlSl1OsekV7G4IpFJH3lOF027gHEZYc+sMl732N7tk6yFLF4esXokYq47jxIw2hnRTpqkY0lj+SBS58RaUxRbVMkWWI8iH5CuL+EiEM11TFAQKI0yc8jKR9QBqjGHjXYxdgNJiNVDPDNkkrUfeyE9i2Dqir/++x9jRuTw+K5KWxvu+tOP0Fj+TT7/x76BD/+XP+PMR+5m/WP30NzX5aXf/+ZHCGI8UTjn+NTv/B1/832/jimfXpGWcpzxp2/9KV787V/Ga//lN3D3Oz7Ch37mT3H2qbvE2xxggUcaPovhNn6Pj/Czzwr62icCqRVHX3sjX/xL30Fz9eLiy0Ipbvvtv+PAi69k4aoDj/lbOPPRe/i7H/pd3vAL38abf+/7zpfIOee4+88/wpFXXv+QB0XnHDt3nEb5iu6l+2ZCMBdQY1t7/mV83r/6Sq79ypc9od+iijXuOzaoP7aCKiOey//Nh/jPF93/4XjWG3WpJKHyyMKIubhLd98iwliUL3H4VHXN7l6PQGqqeoqWmjiIqbMcT2rkqCDdGuBpyXx3flbCJKG8P0C157C1Qx0eAyVa1ghZ4ZylnjSxk5Csb/B8TeQiymCPGo0vIiIxz3BDQU/gXIof+IQNxV5vh33Li+Bqtrb38H1FFDXYt9Rl3OuhVYDSCVWVk1UzWtbFhRZxHLO1VxHPS+LYZ2+vx/ZWj0bcoS6ajMMhdRGytDTPaDgmzzPyomB7NyfwApSWtOZiKlMzHeZYNyO52Tq7gbUVOMHK2j6KyiAaDWiAFD6mAuksQtWITYsYefgSZFyy4jdp+BX93bOM00uYb3aIkoj+eII/GTKd1sx1L8FTmv6kj6lLAifolVtMs5r2XEQ6Tsnzgp2tHQZ5RaKjc3XmDjfRxPGMwvbu0yfxoxDjanQtEWjiIGRxdQVbZoRezcbuiEa7SeA1sGXBXm8wI40pS6QWhIvQOjrCzBfYMqcqBaYIMUbh6SZ+AMqP6ernUdYfwgmLqWp6m2PMTW0OvrxGiJIJNVXuCNZy4q6HLpfJdEpZCPJph1gXOCWw0iLEHEZMkZft0TnYYnjzGOHD/kubLKysIImRuqIY9tm4eY+6PaZRLSE8ReXGeIGHw8fambCQKTWdoxVODVGehlAgCHBVSa2GSATteJ68nCcVgrooqdnFmMXHXUvPKrjzf13c4dbyibe9i1MfuIPde9bPtc3kPNc/fh+f882vIVlqc+DFVz1E7QtmN+XhqR38JDxPSgIP3Y3lwykf/Ik/pkqLp3RZjwZT1nz4l/6UK7/qBVz/da/kY7/4jqc8VswCr+WniXloOaPDcYx38Q7++RPiu382IOo2edW//1pu+MbPf1xe9QfDWcct//293Pb77+PNv/99RN3mo/aNuk2WrjnI4P5NLn3dcx/yWefwEnVRnS9Uc86x/pF7+IOv+DGu+5qX85r/9I3nFdseDhV4XP+1r3gIMc7FQAiQr9/lzNf9KcO3GxbMVTwVWoFnvVF3OO649xi+k4x2+ySbm0ilmBQGZwqEc5Rlznyng/AlUXOOvfGYUAQcuXyVE8dOEPggXM14PMBYEHaWkOBNfOJ2jJ2UEEzBgbaOycgjva2LKDxCs4it54jmPDAGrxyi0w5GVEw2fCJVEQUR+5aXSeshVZkxzVKwhijwEZ7Hbm9IWRiUcuS2pMoK8ryY7eatYq+fcnZ7xMriPEpptrZ7aO2orWJ7p0c3bFP4mtFwj6K2NJIGdVVh6grrfKpqRi07RRB4AZ4ncE6hg4CDB/dx4sRJqsow2Bugmj7lAYVxAoXFIUCCHChcr6bZnuPoZS3OnN3AWcUomjKuUwajEY1mg33717j3vuOk/ZTFpQVG4xE7GzsozycIQ44cWmVrc53J1JF4DWphQc1iWJcePsDxY+v4QUwSGWxliAKP3nCC9qARaCo/IAwUpjZUaca4t8MkzWmGIaaaMh1XtBsJZVmA0AiZ43Uc4SU5orvHxC/RaYStHbhwJsMb+tSuwlQFQ3GSVJ0iTiJ665LBtkUpn/EpOPWBkKtfaxCypLISckFsAuLEQwlHXdYUxZRp1SAwS0id47QibJYYm+KcR+eSDDNoUFctAtui8gyOkNbaCkG+w7iOGZw6jb+c0WhYapkg3H6oAxjnaBfQ6FSM8ylVZYg8wJbUTqKkQ24u4Y6uEPgbjO0A6Yfo2iHlPZ/tpfqMw9aGrVtPPLStMtz7lx/jvnd8nNaBBb7pvT9G+9DS+Ru6c47tW0/yru/+FV7zk9/MR37+LyiGU278ptcwd2QFrxFga8Mnfumv6B3buMCoTx/qrOTsJ+7jmq94Kclim8HJ7cfv9CjwafBafporHpb17nDschd/w/f+ozPoyte84Rf+b675ipc94sHsomAdx993K7/+ih/kq/7oBx9V0GXh8jVe9zPf+oh2IQTL159jO3yQG3+6M+DS130OL/iONzzmQ8YDpZFPBqqp2P+LMcl3byKyW+BJia7O8Kw36tYYWu2Qs5tb+GVMjUEKQZbNDIKUClM7xtMUnQpGWY0poKBgsjumLgriIEGGhiqrERVY5eFpHx/QQuDOdkjqNhk5k3FOPpAEtU+y6iPXaoT2kTqk4e3HpopS79K/t0vk+dhaME1LNs9sceToGizB7nafZjTHgUPLnNnYIPA1UinKImdnY0RVZARxhNYCU9dop9HSoz8aMOyPaTZ8sqIiDEO63RZpUSIaiiTpkJc5CoWtS2oz4yq3taAyFaYWOONmSR2BIok9djbGlJnD9z2MdFSLJZUSKKcpaofCoV1CNHXoMCAvJ9x2yzZFCVr7KC0oppJxmuOkYn5+ibquua+8k0F/TO2gEUkiLdnYGlEWJc7NOJuxgizN0VJx6eElRoNd6tLgyFldnmNvr09/UFCXhuXlRYbDCdIW9IYl2o+Yn2vPsr0tTMoC7WmcE/QHY6IkJIwkaREQXWKxS9t4nsJXiygPpB9gnaSYWgpTInUKiaKcTqgLTezNE6RzeBkIaWlEAZETODfAuSnCCozLySpFJ/Hwk5DMr9GRpawrhCsQKiSMugQEFOMpudvESywuzcg2p4wWztDyZroFStQkq02mWxMGw5sp7tLsa1yL6St00kInKSKdY+3KeTxVMMn6eFWC9hNckBG6JqmpcK5J3QsID0Y02GNa5FjXROlHJ8H43wEP7Mb/8Kt/ghd8xxcRzzdRnmb7jlN88lf+msu/6Pns3nmaj/zcn3PVm17MsXffzNZHTvLa7/k2/GscZz9x39PiDn88bN92kue95XUsXLX/SRt1ieaV/Aeu42sfIThTk/FXfCc7DyLN+ceC1v4Fjr72c56UQTdFSdaf4Ixl987T7N55hvnL1y4cX5czgZed20/RPrSEDr3z5W1CCEw1C78oTyOE4PI3PP88892FYvbOOUxRzca37knXtitPs3DVxSnLPRae9UbdWIcXBrSjBstrC6STlLIUM6ISpUhdhctSvMBne7RNOYiwwsM5x3RasrAwx3SSEYgmc6s+eZoyzUrSKQhP4/kh0/GYrfug3Z3HTScUoz5+FNA82MJ4BUoJnK6QGJw2lFIwdzQmUQ227h4x3cvp1yXhhqLViDhy+BCDfs10MpOA9ZMCz9fspBXpoCKIPJRyzC8ssLm5iSkq5jpzFM4nHaX0+znd+YhO02NvlGELgxWOpJFQDcEPJUrHRNYnHVV4gUeZW6CmrAoqI/B9x2ggycsJjYaPkJKy6zChQViP2lrq2iCVoJUrbCZxQjIth0SeR+AZclNT5BmLhxrYhQm94YA4jOk021x75RWcvG8dgcfK/iXybDzjmq8Mni8JPM2ZrS1wsxDKXXefZjzJCfyYop5w8lSJ72t00ECoAj+MEb0JAtBaIbCMhileoAiiYMZcZx1FWTPMDAcOdmkmq3zkozdhdiI6qwFBOMWIFCUDSlMinEXoGmxJFGgQFXkFoU3IcoFN2yRhTl7mhKHA5Zpy5KOTKUY4pPGobcFkJLBOE0QQh228egjCUtUTTG4xJmYy2cDzKzqBYjpVjO5LEdGE5g0+AYIyL/GcRow9qGPM2TYubDPtDRDhiCAWeAs53VZOf3qS/HSLaq+Nd7iDd+kA443xZQexz0c4Q6d9CX68gNjaIMssVfDUdZj/V8D6R+/hT77hZ4CZW9NZR9CKuepNn8tf/Yu3kQ+m3PQb70YIwf7D1/Oxb/wwz3vP9Xzpr38Xl7/h+bzru3+VrPfIDPynC9u3nqQuKg6/4nru+6tPPqlzLHI1N/ItyIdlvDscJ3gvJ/n7C/ZrrHa58Zs+n9HpHT71O+/9DPLSXxxGZ3Y59YE7uPyLnv+EjKJzjo2b7qd3bHP23jpu/f2/55LXPE5WuxSU4wwdejjrKMYpYTtBeXpmP7YH2NrSWJ2bqbDVBiEFQj3se7eOd333r3LXn36YxkqH1/3sWzj00mseMr86K3HW4iXh417bEy2Je8RlPaXenwEEnkfgBSx0FrA4qtRhnaHX65NVBaassNZSFDnNpEGrqdCRIkchnKCZtFla7jLX6YDQRGGTQHjMtSNEICjLnHa3xcpyi8qlSCmIPI9GN0REM0IRIQqEBWE9EAl+eJiotYjsxpRLhqzOkVrhrKDRbjEZjFEUqEhhrEVqH6UVjUaT7mKb2jpG/Zzhbh8hLfv2LzG3r4mwgjjxiZs+g37K+tkxGFhdWcVXMbkbginRwmdxcR60YHFhiQP7Dswc6VLjBx7NpqasLL3REFyFHzaIFlq4BYsUPloqsqoG5yjLmrI/RUaOjd0+RVqQFzlpbsjzlCqqCfZJpJLsbO4w6Q/YWN9mb3cMbqZrfunlB3jOjVciZYkvS6gLDh5appX4JIki8CxFZZBeCNLheSGCmRStwoD1SIdTaqfBa6F1gLEevieRUrO8usShAyt0uzFh7JAU3Hnn/XzsY3eSVprBcYM7eQRZr+BqjRAets7Q2hAlU6LmjGNfmhh16hI6wRHkdJ7JZIJxM+4DKQPSUcnw5n3owSUIfMIgIEqaWDelLqcU4yamSvCFIssktmgzGY+YTjeBFGG6LLduZP8VB9j/Mk0y7+OEB9bD1wLpC+aO+iwdUhy4SiKoSeKEqjAsXj1H58aAiXc7ldcj8BNarYCd47v07lCozX3oM4eYfDJk6/01veMhym8x17kUbdq4k0+NsOJ/KTgHzp3feTdW5uheusraCz/NA++s4/T9n+Lv7/opPvoL/xMvDrjmK15K99KnjUP/gti46Ri9+87SWOk8ORczcIiXn1NgeygsFTfzG5hHISJavfESXvnD/4TP/Z4vw4+ffZ4dU9a8+1/9JoMT20/IsO3cfoo//ab/QjX9NC3vXX/2Ef7uh36X479/F+np9Pzu+wEIIVi86gDJUpu7/uzDfODH/5Bi8GkVO2cs//DTf0L/+OanQznWXTANREjBgc+9isn2gO5la8xf/lAF4iotePtX/Th/8BU/TtYbz/70J5z9xH2sf/zeh8ytyopHZd+7WDzrjXpZ1gx2U8bZlEmvRGkPjKMVxbSTBGtKwmaDoioJZMJqt0vL1yg/YFILdvb6UEN/NCIbF5RFgcCnFbW47NAR9u/fh6sFnWabvC5JJxlaelSloBIW4zxsGUFtZwZSLBEGEcKTWCFYXlpkbq5Dp9Nikhfs9KcMBzmeCjmwso/OggeeYXROaKWsCvw4pFaaUVbSnWtT1wX9swPmWgnxXBOHYG6pjZOWbqfNaDym3CtY3beAHxkGox6RqpA4BqNdjh2/D+kkvi/RyscTAVJomkkbIUJMVZD7OVKBxqcoNXVWzRLk0pxO0ODQygoL8wFaC6bZlKoscU4jS8nWx3cphmNo7rDdX2c8HVJNM7QvOXh4P4EOyNICTwVY51GbihPH1xmNJkyHBc6Ap31CT4IrsRbqSpBNC6z0OXLZHEU1QbmavEjJsgpjaoTnYTBMRhmn17dJ2ksoGRGGEUp5+I0WjSig1fCZnJiw8wlFcU+bYlgjSHEywxABEZ6Q5CclEBIminyvRRK2mJ+fJ0kUwmr8toe3DMOxxAyXSbcdVb8JnkfUbBLEGXm9R1UFTMd7VNUE5xSmVjgbs7hyLTJZw2/tp7l8hOV9h8GBCiWtUFIp0K19LO+7ioVru7jFXbZ21wlWQoKj4HyBVAsIT9Perzhy9CCdRojqecgzjv69E1QmsIVh51NTyvsS5GiB6e0xo9ufmQSv/xVgzz3Adg4tPSKJyTnHxieP4Yxl776z7N595hmdS5UV3PknH6JKS5T/2GI2F0KTNV7Idz7C7e5wDDnFcd7zqH1Pvv927n3Hx+leusor/8PXPYJR7dmAndtP8T++/qdJdy6Oq95Zy62/9/f079883yaU5BU/9DW86K1vRHUkd//hRx9VWGdwcpt3/+BvcfNvvgdnHba2mLJm+/aTPP/bXs/+F115/tgzH7rrgl4cIQRzR1dQvubar3zpIwRnvMjnmje/lGI4pX9sk9/+gn/Lf7vxrfzqS7+PX3/5D/A//6+f59QH7mC80ePv//3v8xff9v9d1LU/Gp71Rt05A7KiriucrdG+pKwNaVGztTPA1RotLKH2qeuSXjok1gZfgtGKzd6EKG6gfIOoC/K0oKhSesNtbrvnfm6+7X7SfEpVGhabC7QX24RRQqgDgiIEWyOozyXrSkrOZSM7gbEFk2FKbQSD8RTp+dRVTTMJUZHl2H3rpANDNkpZ6iyyuLzAwnwTQU27FdJsGka7u4wmBbnJ2NzZY7A7obYGTwdoXyGcJGoFiByECrn+mqs4sH+BKGiwuryIFyqUFOhzYiKeJ+h2E1pNjzhwxInAKUfqT7HGUlnDeNpHuRqEYckLGA6G7O4M0V6C7/vEfoyOQEkLdcBgd4opM1y8S293wNpqB93wWVxaZbjb50/+5wf5+/fdzNLqKu2FJik+VVVjjcQPPMZpRehrPK1Jmh0Wuh2iKEApxag/xlMdlpfnqWyJEhapLEkrwFFTVTlpMcX3LOPJmEargUHQbgSEviSIJL4scRbKTYtdb8NOB2FapGPBeNdiS0V+bAm1s0r3Ek2xUzHdneB5s+/3uqsvJ275LF69gG0qSh3gvDbONhmc6GGLCUKl+FFMEHpIT7PQnKOcTqimQ5QbgVB4fgfpxXh+SCNYRJoG7VjR0oadzSEMY4QGHewnUPP0NwrSrCJWDZQNUEoSBDHSFfT829mzA/bdsMrycxqUYYkfeOAcWZ6T7k7Y/cgup96zwXQvp5P8Y2CU++xgsj1g+45TfM63vJbX/sQ3PWIn5ZwjH6bs3H6KOnuG6XYd3PQLf8vtv/5BTFk94e438I3Mcckj2i0V7+c/ktF/1L7lOOPsJ+9Dhz43fMOrH/E9PFtw+kN38v4f/yOcffxSvOHpXW753fc+pE1qxaHPu5b2wUUOfMFlXPlNz+OO//GhC5Yqtg8s8oJ//gby4ZR0d0S6O2Lr1hPc+t//nuba/EMy3Q+9/FrihdYF55HtjTFlzZ1/9uFHhDWElFz3NS/n697571h97qW88t99LVVaYIqKOiu5+Tfew299wb/hv934Vj7wE3/8uGx3j4dnvVFXUrFvdR6nDEnsIz1DZWuq2jE3HyMiTZUbUJbpuKApE9rthGZrJlKCHyNcRFE68tKcy8T20EqDTOm2Z8kP2/0t9na3ySc1B/bvQzd9ypMVfj/CbStGn8qpNj0wUFaOypTYVLF17wBb1MSBIgoDAu3heZpmc44gUFx+xT4uueoAG3tbZKkhiAI0Bm1qDh2+BG+uy/LyEs2kRVGWVGlJ5Ev6uz3azQajyYSG1yYKYrZG25w9O2Q0yrnj+AnyYXXORbxEFDc5sH+Ba689xA3PuYLnPe9Krrv+MlaWOxS6pBIF1mryIoUqR0oPv2/xhg1KSlrdOfatdvEDHysVioCyqNjc3kL4EuEJpPNZuyEkj/rUJmdve4OiGNGODK2Gx2TSZ9wb4OEhlQfCoZRCBh6n9zKc1DhTMZ4OkVohpcLzDTd/8jaOn9ijMo7V1SX2rczhSYetYWlpEWEqJqMpVZHhCU0SznjYF+bbrC122be2H1cb6lpiS7CuxIgRtZ1QsYfNtpDBDnWU4cUCv5ij047RlKSTATtbBd3uCkmUIIVEa59Ez9GIlphPjuC5OYqsAjzCICbwI5wfEOkAVWlcbal7BpNrEAFKtDFpiBwZvEDQL1PKcszg/h5m4MBJLAovcOgooRqOGJ2u8WQDz28ji4jEzGGWx0z37eFf5jH/eR5RZNFRyKWXH2QpCSmLGuUsSguyZ5YW/R81qmnBX377L3L8b29h6dpD57W5pacI5xpIpfit1/5r/uyf/dzTXqN+IaTTAS/4ni9k7fmXP6F+mpAr+dJHEM04HMf5W27n7TxWmaBQkn2fcylCCMJOwpt+819w4ze/Bu9pZuV7ynBw5//4ByZbw8d0wzvnOPHeWxme3n34B2Adpqqps5LefRucfN+tjzCWQgiUr/mcb3ktr/uZb8VvRniRx1/9y1/5dHzeOSZbA9Ld0TkhoQubzNbaPMrXHHvXTRz765uosuIhc1e+JmwnSCU5+gWPJNWps5Lp9vBpyXN41ht1Yyxnju9hpKI/zMnGjqW5hIV5j6I0iMqCrphMS5QnmOQjPO0z1+lgbE0njhhMevjCUboSTzqEZ5jkNYnfYP/KClddcykr+1cIk4RGK+bMVg9RSBZaXab3Z+zeSCdQewAAkypJREFUMyTdzZgcz5FlgNAg8OkfH7MUtokiH1EpmnFIVaYEYUid57Qin2bQRZQeUjqcSRkPpqyt7aex3CSKGkz6Fds7fc6c2UNpycqix3x3EeGrWQwndJw8c5zFuTZznYT17TPkeYarFSdOb5JPZqU+QSjwdMzO1pi9vZTRsKK2GhU0iBY8pPVpBB3KytDwYpZImHddlJAkfoP1rXXuO7EOzuHFFuUJ2vMhUeRoHQgIDnmIxRiWJO6AxcQZWZ2xfPAQc6tzrB1YRAhFoxMjrCMrKtKsIM0yIk+z1JYkviGKAwSSIPBw1ERhQhKDMcWsZGljl92dnN7OCGNhsDclzwxZUZGnOf3xaBan90OSJCavKno7e5RVShwFNDseQTTLLQi9CCk109IwUTVu/zbD9RFVGtJuNyhSQ9hq43kFRd7DTXKUMEjrM+eHBEFK6Dzy21aQZw6gTXNGsKMzhDoD4QijJCKP6Y2m9HfHBDpG2YT2QpfFy1qUlcAnwZ+fx1Q79Df6VMbggKWjbY5eso/FoMmJv9tm+/YBUs4U/WQbXCsniEN0HNBorrC4uEKoNL2tKWd3hqRVRVHnWBRh44m7cv93wvZtJ/n9L/uP/M7rf5iNTx4DZjfiL/mVt9I5sszmTfc/87v0c3DWkiy3ueYrHp/+9MHwSC5Yk97nft7ND1Dx2E92fiNi4aoDwAMsbJfyhp//Nq78khc+sQv4DGB0Zpe/+b5fe8xa/nKccdNvvHtmCAVwzkg3980TtGI++vN/wV/9y19h/vI13vi2t6KjC3uzgmbEdV/zcjqHlhic2Gb3rtN0j64gtcIUNZufup90Z3jOPX/hXXTUbeInIdPtAb/3pT/Ch//Ln2Frw3R3+IgHRWcdxTMoTvSsz353WBCOxI9xApL5mPHeCGMLxpM+lJqo6WFtxdqhNfqTlO29EU5D4EGFYHM04uojayx5NR6awik2dycc3reP5eUuDkuu99i8816OLq5hVEVvOkGUBVLW+MrH2Iosm9Bdb2ClI09zyl1DM/Lxo5AoVERRxMriIruTPXq7PTrtJrfcdy/O5kSJ4tSZAQvtJl4oGG3DsWPrbO/1mZ9r44eKhU6bvEyxWUaaFtiiZmXfEkEgKNKCKgevGeDXIVkJ2g8Q2tCOBPNLi+zs9EkaCWEc4YRHMZ5SlRPySCII2RsOCIxkvo5YbsyzdvkR7rv9dsb9MRKPbCqQscfhA4dRImSnv0UvmuKMpC4VnhcjnMKVOYGK8ZohpsiZazWgMAgZEHsB0/I0vg5pNGISX9BuGHwdsTutcGVNGAYIDMv7l6iyiknhUJ7CDzyquqaqDU4pRmkOVhAnCilA6pA49Oj1djFGINW5bHnhiIIm40mBdT6rwzXq1g5Sp/ieR2UcVZ2zEM3j+hGjrMdgMkVqgWxM0HUToVLkdJ6VaJlRklO0PsG4nrBXh9Qtiy59guEBvLkJWrYJ3EGqKkPrTQbDmli16XYD6krQThROZBSpw1Q+aA8rQ2rl0dSKMi8JRMxqdDVVs+DYiQ0W19rMr0qKaowKaqJoH632KqEXEgQJYdqiYoMyzZkWE4QHHg4pQZAzv7L82V6qz3o8XPp0cGKbv/oXb/uMGfMHYMqad/w/v0TYfWLUvhHdhyh4ORxn+Th/wf/FFp963P5VmtO79+xDkgGFFI9az/3ZxCyD/X2sfs5RXvAdX4zU8iFZ4845Pvbf3sn6R+/h+d/+eo686jlIrWjvX6B9cJGo2yBZ7qA8RdCKLiqbXgUeS9cd5qv+6F8xOTaivMfxNz/7Nqppzuf/+Deyd886c0dXLth3dHaPYpzRObLMFV/8QrpHV5FaYUuDqWuU/2lTm+2N6d33zHEiPK5RF0L8GvBFwLZz7tpzbV3gD4DDwAngK51z/XOf/SDwLYAB3uqce9e59ucCvwFEwDuA73QXkeIohSQvC/rDAa2kReVy0nGBdDWB8oiXmqwsdsmqmqKocdaQJC3a8y1W9zuSOCaMItpJE1cX9Hb3uPvEFtpIokBi6hytYH+7xX37Wpw+M8JqSeRVVAKElSwtNlFKEDYCpBRsnp2yNN9CVAWmdDQinzx3+JFP4KuZvKqVKHwaXki7s8iwGLG9fZbN7RSnBSdObZKnkisvP8TBo4sM+rtsbe7SiiKMyYgDjR/ESOFRlQnCOayraTcbTHspoWojIsBVOGfIsowjhw4yTicMez3WDq5QT9OZeIHwQFSUVc5+r8vB7iq9M3tse5tsbPZZXmlxcn1A6WLIHDu9EsoxtatoNxrUrsY7m7A7TYlFg85chzqbEESKIq+ZplOKvMKPfWzl2L/coq4E6TSltJK+UeRlRnexTZbnrC23SStYWJhnMp1yeqNHEjgQIUIJAumonU8chRhbkecZpjYUVEAT4STNjsfW5gZahTOXtydpSXAqY+OYYXrXCt1LDd6BTYwtif2QelKjTAsha9qXafzDWxDmODNAypx8nOJGlxNGkhEDjDPYEPykRpmM/iQjNglSZhg3xYgc5/tMpyX79q9R1H2Kvfuoq0totA7gEFTOIEuHlzvEGERLUGRbmCpk87YhTKBuwWUvW8EsFDg7xlSWurLISYNaeiSrCflGTjlNSbpt2nNN+lmK5zm6nYjdvYxu68Kxvmfben62YXhq57My7sNJdC4GCYuoc1xns8S4k/wxX31Ohe3xYSvDe/71b1OMUmxtOP2Ru9m5/RSbN19c/2cS0lNEcw2kpwlaMenOkHR3xN/+m9/h3nd+ghd95xu57PXPe0gm+nR7wCt/+Gt50Xe+8SFG8wE0ljsXPb4Q4jz168GXXo29Aaqtmo1PHpupxlWG1oGFGcvjw+Cc4/Q/3ElzX5ev/uN/xfJzPq3GdyH51jv++B8Yn9276Lk9UVzMTv03gJ8HfutBbT8AvMc59+NCiB849/77hRBXA18NXAPsA94thLjcOWeAXwTeAnyY2U3gdcA7H3d04fA9h1IhlalQlcJKi3WabmeBVruDCzykJ4l9n4UoJIlnEp0Wiy0thbVs7O6yefIsJq+QTrPcjYm1xlMCzymcp/CjObJygxsvu5IoqTl7Zp0qm8V2u+15jLA0WgZTN/ClRyuKGVZT8qwC7cjHBamFxNOcMWPuPXkC6SzWWYIkYr4bkk2nbJztk6aCOPBwZUk2zMiHBftXFkinBWtry+zsDRiMC4yrcFVOpzVP3Oqw2ztLOBfQ38roLi6AsohSoUXM+sl1GnMeToecOr5NlmWEzSal2yI3FTEh16ysMRyU9MdDBsMRdVkyHeTs39dlMCxwLkJ5kqSRoF2TTQq6c6sIqXDMVMdUafG0z9LiEuPBgCCQLC8tsrM9Jq9KpFBoBUrDKM0QUtPuhAx6A5JWSKsRINOa3vYuYRIRJiGNUFAWFodBKh9TG/LJkMoJhLTUtsbikW736XRjlK/xWx62NSKaM+iqIsiWWfDn2dgd4I994oFH3cwgmBIFHrt7W3TcEnG7i395RiETIEfogMJm0Cio/AEyD5FSETgNQhAELfyoRjoBFDgqNBIpYvo7A0KvRafbocrOUpTHmU5Og3sxZb0PIQxKaMrbh6jCpyo2SMfHcNurYJfJ3IT9L1vDLmYI1cAnIrcjpuPTmNtiGstruN2C4b0pSdCgGUl627u0kwbDUU5eSJzwcRefc/XZXc//B08aIR3kuVu2pea9/DD9J6j6tnnz/fzRP/lJHgjLCyHwkhDp6VmVwGcYUbfJDd/wKq544wtZuPIAUslZjtPHzvCh//cd7HvTfrqX7jsfNngAQgpe/SNfP8vNeZqz+IUQOK/kPf/utzjyiTdxQryXD/3nP+M1P/mNwKyCwZQ1QSueHWsdZz50N1e96cUsP+fIo3oFnHPs3nXmaeP9fzQ8rlF3zr1PCHH4Yc1fArzi3OvfBN4LfP+59t93zhXAcSHEfcALhBAngJZz7kMAQojfAr6Ui7gJKO0hg4g47oCURK0mUnkordF+hNSzWvamDGi0GgwmQ4qspBwNUJQEno/yNE1foNc6uFoghJ6Vd3khVVFhhADnaCQBtRlx//3304l9FlbnKCuLMDVZNiIMIlr+InuiorKwb98+DOvMN5fodBuMpxOE8OgkC5TtgmZzkeF0SJjEnD5zBoVEKp/RKEcLDdaxN+wjA4sVJUHtg3ac3hzQ390jiVt4OsBrZpzaOEZnmqB0SF3WxA3L/uV5DCVpVlOkKWGgcXXA6fUNHB6TvGbZgW1MMaai48fYTNDf67GyvMCwP8I6y+LqIlk6xMPR6UY0WwFZOqHXz1laupSyGtPfG6CkwYYJWdNQlhUnzpzETWH/oX0cu38D7UFelASBQitJFAUEiabd7DAZZnTnI/KqZDApQc4eHMpqQiv00H6A0hVxHNGZa3F2Y5P+7gRnK6ypKEo1y0RVJc3DCWZpg4gx1uWUVkCtyerb2DABejkiu6sk3Zgj0U0al64wnk7IpeOU+BSt/BKWHdRmgBZgpQSrqBkwcn28UOMrQV1q6jrHpQ5XBrS6Ac5oyqJCKcG4P8F3LZaPrlKpLTy1gcZR5FPGw5uRyqJUiMs9yl4F1keVXcRoG68/h5I+8SUdmgccTnpoIiSC0C7SFF1U2CA9NWV3WlCLgNF4m+ZCgsJSFxWDQU7SUkTaY7i7+3hL6Vmxnv8PnjxS9rBUSBQp2xzjr3ki/PnK1zTX5pls9Fi8+iCf86VfxHRnwPVvfQlbt57gz7/1v5LtPXPEOw/HkVdezxt+4dvoXrbvEXzqh1/b5tCLrkPMmUdVXXuylKwXg3yY0v3w83iB+UH6HOOTvR+aGXDn+PB/+XPKScarfuTrAdj61HGO/90tvPYnvulRz+es41O/87e870f+4CHld88EnmxMfdk5twHgnNsQQjygTr/G7Mn9AZw511ade/3w9sdFlDS47lVvQJuARrtFGEVoz2HzlKyuWD+zgckrhCgZ7WxS1yXYikjNyFisE1CWKK2I/RgVe0gJozTl5NkttHCsznfxtA/ap9tpEwfgUFQZBDoA36PbDDi5tcv61ph9ByL2elPK3OFHczRbAcaVBL5PbzIhH0+xpSWjR5HlrEhIwogsy4nDkIVlyHOLFJZLL18lSTqMxj20DmnEIaW1VFmDdidhOOjR6TRpXx2z3JhnMh1RZG0m4wnpdAJC04xjJBXjXkGgaxZWl9nZ2mOSTllT8/g6IjOSTrPFJN0jippsbe8R+9CdT5hMhkxGOb3+FGMUWebhK49mK+B0bwdf+YzGFUaP8RcbyFAS1JqpyEnvqujtTQnbHuQWLTUHDx6mmWjuuuU+hFJkFEhPMBxmXHXtUYa9HlVVMy0NzcZsVz4/N7uGyiiyYUY5tQRhQGUVo1ExK4+LatqXSsrlIUaCMBECgbEVnpCglshEH0ef+BLDeFoTz11BFOb0h3soadFJiTBTbO4hQkXhJujaw9oQIXLQM158Jyqkr1BZSBhZaob015sUWx38BUsYlZihI5+MsVmIP2dIFuqZiqCANB8Q+zuUpzuM79csxR1GVc4+uYy3EXD8dI84zolMSJ1ZwqZEigLlYprxKgQWf86Dj4+ZyoK4G5HagnSao6QkinxaTUuZaooiZW31cbSknyXr+f/gyWPEaXIGNFhhj3vJ6F1033ihxRvf9v9w8GXXMLh/k+baAv5ml8KMaR1tMHdkmVMfuIMP/ec/feYu4EHY/6Ir+LLf/R4ay50LG20NomuBx4+Fw2wXXAxTgnb8lNT6HkCy1GbuDQ3qn5spO77wum9CqBJnDMvXHWL5OZ8uKwxaMYdedg3x0mNoqAvYueP0MxpLfwBPd/b7ha7IPUb7hU8ixFuEEB8XQnw8nVYsr17B9rhm61SfoG7S3X+Qe9bXuf+Oe5n2xwhbEyiLlDXCWtq+JAw1ZZ2xNxqQpQVVWVOZesY97hx5kVMVGb4nsc6SRBGpycBKpqkjiTwqk7M36DEZFdQyotGMEKLm1MnxrGa9zJj2RuztTkgnBUnko5F0Oh3mVxbodue54fpr8SKBVoAzZHnFZZes4YeWJG5SlLC7t01/d8j6mXXGkwpbC6yx9Pd6jCcjnJOo2ifQMZWMueOek2R5STpx5IWht9sjHVUEzYSqLimyHFdbYhXS8UNi1SAOIg4tHcYR4GrLQrdFo9kmz+HA6gEWV7p4jTbL++cQvmOS5eTehORoTnhpSetaWHvuGs6T1EXJpJhiwxLlO85snCEbWrK0QuuAM6e22NrYI2kpagNGSvbvX6OsJ5w+s0tRFyhbowMYj6ZcdukiUliy3FEUOetnd8iLgqJIycYF2TSnqqb4UYC3ryY1Q+qynlHd2pyEBWrjcHWMqxdxxRzIiIXrNI21lL3+Ov3bmgS7VzNfXU61E1OcmmUReyQ4myJFjXIerq4wtkDUiuZkP7Y2VFWNHrZIb49hZxFJQV0P8DyHH3q4cods3KNMmyirMaXCFBqltql3J9STglz24PC9rE9vo7c3IYwV7VYTOXAUw3xWhWMFxoEOYspEMijHnN7cYVBrFlotlpeW8D1Fs9OkEQUksaQsC0oJvnpGcl6f8np+8Fp+Wmf2vyFyBqTsnFNh+2sMF0c4lCx3+Io/+H4uf8PzibtNlq49RLLUZqe4i9Q7l1MgxCPiv88k9j330kc16E8KDu7+849Q50+89v/REL6+4P7L/5RjvIuPf/APccYgteLyL3oB7QML5+c+d3SFN//+93HJq57zqOeyVc3pD35m+Pif7J1gSwixeu6pfhV4QJngDPDg4Md+4Oy59v0XaL8gnHO/DPwywNraqvvwu96JlTWFH3OfrUmG8+STDC0DWg1FIA1NmTHMLEEomUxTNs/2SCdT5todJmXOfKtDEGsmxXgmfuIknWaDOPSREtJsjM5qptkED4EXLOLpGpdO6czNQxJQDCukNgSBJksNS52EZgv6/QHONSjTmmme0u006TQ6VE6QhBGTaYmVNWGkmG/NU5mKVjtGWkmUaKz12NjOmWslDPpjpAJrCvK84uDB/TTbLbxQs5fukY0yVpfbyBiO37fO8kKDMBIkYYATAXFbsNvPGY4zplPDqZ0Rbp9l3lvAjAM2NvtoqZiOp1x53eUMpyNOHDtB1GhwyUoHk6WUxZSsgDK0xAEIryQMmqBqqKCqxhgzxbMJDsdCt8VkNEZ7Gop8Js/az/B1SLslKUxFWWVcccVRhLSkY8Fub4f23ApRQ0KlmEzG1MaR5xnWlFQGrDJoz5C0A6rCMRrtEZUVFkdtpygPEBJEjpIKayXGzuER44rZQ9jecEwmLUvXBZjTJRubglZoGJ4umVuN0I0hBo2oHbWVULbJVB/nGfy5Mclmk162R0PGxEcEo7uGiPvXEPM+QVLQkB1y/wyjaY7Y9Wivzao1skxz3dUvZae8E7MwYsKAzN+lkTTQ6Y0EMqCvj8HSlCJ1xEWMF3pIIZkqhzQWP4pYWpzDYbGjksJ5aOczN9dispsTBRFCVXS0ZHfr4hi4PtPr+cFrWQjxjy6R7tkEQ8WUbWK2uZd3XHS/I6+8nkOfd+15F7dQCiEFKzde8hBqVWc+c/89Onq6aWodm586ziWf/xykaiHPibE8Zo8H5XU+/FghBIdeczXjd/f4y7f8CJONPV5WfAH+BeL3s3r3xy4ptcZRfYaqLJ7sTv3PgW849/obgD97UPtXCyECIcQR4DLgo+dce2MhxIvE7Nv7pw/q85gwtqI0KVILVKgZ17tM+sdoeIJGYgmVQTtLWpTs7fU4dvwsdx87i5PeuaQSRdKMkAGUVQlO4OuIOPCJA406R4KC8GiKmPn5BbQfsH52CyUDdDPGlAabGq644mrmunMsz8V4sUQnCXvDEVVREUcxznOMxkMm4zFZlbGzvc4td9xJ7Wrm2/MkrRZhENBKWtx4zRU858oDNHyYjkcEssCVBdIZBGCcx9FL9mOEYzIumG8ssDC/iFCSycQw2QFPCwI/IQraCO2zubuJtCHthk93qUFzMWG+5bHYabMim+xub5HnJVpL2t2Y/t6AxfkuOvFweDhZMpwO6U0LVCBxwmIxWCHRnsNYS5oOSPMhygjq3RxBgrOO7uIcSaOBHzYoM0tWOooqY5rlrK4tEYchJ09vMEnh8JE11lZWcPWUQEvObu1icQyGKdNpRukctamw1SxBshu3aDeatMOYYLdLo+5iakE2DigyyMyA2owxZgfPDfAyC7mlmEBlQ3w9j5zvEVy/xf5Xj5l/1RSxvIW7e56onEeQU9lZuWslCjQZUtTU9QQ3ifF9iddw+MsFsjOh3NXs3BFiqxZl6wwmyBEeoEoqaygqSHPLONWMXckgvJ8Be1A78mrKdOXj7HU+yKB5K2XzJJYNpvefZuO9I6rdCg+BLUBVDuVpyrTm9uPHue/4XYQLAS3f5/iJswyzgqgZonHkxVMQYP4Mruf/gycPS8VH+K+8i3/BFv8/e38eNV123/Whn73PfOqcmuuZh3fsSS2pW5JteR6DzczFvlwwvjHTJXiRhISVBQnkmoQsQ7gGQrKSC4TANaMN2GA8IGMZsGVkDZY1dauHdx6eseaqM0973z+etiQbyWpZLXUb3s9az3qfZ1fVqV211u/9nb337/f9fvxVv2760hFN8akVrGEZnxResV7RgK+SnJf+xfs/2yVec04+dJNinX7B5iW/TBnnmJ7N6sGU2z/z0Vf1mjqveP4f//xnFXwRQhDu9vld/+hP8Jbv+kasz9LnrjXoWy7V7V85ruqG04/eYX08o4xS4vPl5/GJfv28mpa2H+SiiGYohDgC/hzwPwP/RAjxh4EHwP8dQGv9CSHEPwFeAGrgj79SKQvwPXyqBeZdvMqiGmkY2K5Fy3Opy5KOrRGVwtBgyII0K1itV0xPFyziCfEqY6s3xDd7WJ0Q13IwEVhSYlo2tVJcODpoEDaCi6IuDINVNmc2WyINg93NLo3WtFt90CXpcs2w32HY67Jar9jaHhLP54z6IQKB124hq4Z3PPMkQcvnwWRBrz9AS4VoBFpKqqpCipJOK6DnDfAHgvnCZ5UJFqsl0/kUz7bobw3wTYvpdEleCBwn57n1GsuwKVSN7SvKLCf0bRzHZpXG1JnCkRYPHo4JQkkvcBgOuqAajNRG5wbLeYxvu6iqYnd/ANIjTjLafp9exyVNHIQG10s4PV/Qq9pUWmAqkxqTqkqhOsPQJqpSNGmBIQVZZtAOuszXCU1lUFQ5SkvCIEBIhUSQxBWe59FyfZIkZzxeEIQO83WMkoIsS1GipAFMaSDNBqkESRKxrAVFVbI5GpDeg6WqMNtdsirH8np0L6c0lqaqoNINdaNxbZ8oK7A7KfglwvCQugSZkZcS4yCnzm6T5A5G0MIQAbo20fUCwzOQwqGMJEbUZyhCso0Jpm3QaE0UR2xf7xDunJAVAo2NqUqUlhfn/HZGU2R84Bd+ArtVUxgKWwqqCpTSaJVht6FlGbi2wLEb1HmGZ0k810Rrk0KCrjSr6Rq3F/DMYxvcf/GEtBSoQuG6oISBoTTzKCfJXt1W7Osdz4/4wnj513HvVMYZ+Sr5ZAL/1WitqfMKy7exWy7lp63ev1jcf8/z/N1v/rN89X/zu3nqO776C65gr7KSx3/HV7Dztquc/NItmrLGdH7t1XMZZ7z84x/gyd/9lZj2Z17fCiFwOy3e9kd+04XtHxffl4oE+p9vYPzWOQwqmp01QgF8KvFXWcnz//g9TD7xkM23XCKdfmn87V9N9fvv+ywPffNnef73Ad/3GcY/BDz9ec2Oi8M7qRVFnFz8i0FJxTpa0LY87p6dsJxEFHnG7kaf/cd6mEaLMAzJ8gpTCsKWhxASQ1xcUCsFholpGZ/say98G9F4bIxC9va2MGpYRQvOz8dUlWA0HHL04CGlrKjzEqdWdMMuh9ubaFORZgUbwwNMJHG0Zm9zkzjNmJyP0YYiLXPWUczutkscR5wqTa/TYZpkpOuIy4eXqMgokxpTuKyiGNu2yPMVvgyo0MxmMzy7zZVrV7l57zZlJojjhOl6gicDPO/C4c1vmVi2A8qkN+iTNClxvsD2FGEQsJwXiMbj7oNzDna3MY2Us/E5dVPRIGm7bcInbZZJjljYiL6i0Qo9N9HCRPlnVFoh98AUc5zIx1ItiA2iJCHwbMKgxdXrl5mvlqyiiLDdwkgaxmcnrMMuQSdgPF+wtTFAqwbTaZGeC8JOi/3DTVqex3Q1YzE9Z3w8A8MnLRIqVQMSnUuMqkXRVNS9Ds1wQSkUTQUNNVma0RgVGAXiFaMGKUyErED5oFxKH5QocXWAUG20hlC0iOaasBcSOQnJpbvI6CpWvolZOxwYUF0Cp9umMdcYukaLBFe6CEL0yRDROkfoGWmdIysfdIk2FFUDhiFo9TS2qZFGjbZqMCTOro+/7aIdE9U0eNIkvT2n1jWtlo8vOtTNKVuDkNUiwg9bYFfUysaSBvWrXPG83vH8iC8+TtunzksMx+JN3/HVfNn3/JbPqFkuhEC+0nftDUK+88e+l5O/P+Y9//k/5578Werii7NdbLoWW89c4fBr3/R5K6tprX9FVYdWmuh4RpUV7LztKtI02P3yVye/m0xWqLJBVQ38GtvnQgisTzsuUHXD83/8Ra4sfgvLw0+w9RWXsT6D94ITelz5xrfy/r/2Y9z4iQ9+Xp/zC+GNryinNHEUETpgeRan4yNaskU7FCTziI1Wh17YgkZjaCjyGr9tEYQBhlNSpSmW5WA5BmhNVVdIBHVVYZkWpmHT7va4l644Oz+mbbosZhk2JZZt4nge2tGkRc3922Mcx+Ftb9klK9ZMJmNM08RQmsFWl1zBej5D5xl9x0TXGXGyoHZbSK0Y9LqYlsni/Jyyyjifjun0hwy3PEK7Q1r7zNbnGKHD9cM+i/MlSZTTaMiTiKxReEbD0fEY220hdAJOTb83wPUMfNPDMgV+GHIyPubseMnmzg4bgwGj3oBZM2M+W5LFJfNQEMczZnOB69s0nYSKClxFZChyL0Js1hQ3HLL7LjWaJ64cciyOyJsCqS0qiovK8yBjbjyHKTtYeYAwXK5dvUxdNHSCHutmjmt5KF+R5imT0xNct0Wn/Uo9QyKRhmJ/e4SQko3+FkJoyrrBs0PCsMd8OcW6HBHpHPIWQkJ2nlEsU8qsjS8GlKrEFQ61OqHSBd2dktrMUaWDIVpUlYMUEWAiVIisTRqjRtgKqdvYlkAtcvT9y2RvybFCF0uMKZ0VUvsU4xI1t0CXzJMJeukQPt7CsDTYGqMIqExN2TjUZUDQyWh0jG2bGFSYponjXGhSpw24jsBFozDwuiNsEaIbhUSj5yX1TFE1Ndd2Nrn54l22Dzdp4gq/FWAlFfu7G5ydnCM9iT/0Xu9QfcTriNP2GDy2R//qFt/wP3wnZZxjBx69y5ufUZjll/ll+9dfbhHb//In+X/81bcz/Yr38dG//25+8a+/6ws2GPl0/GGbb/2rf4SnfvdXfVK29VefZ6tGMbtxTGd/xPp4SudwA8u10Vozv3nC6Ufv8NS3fzUf/5vvQd/y+Pl//AOM3rHDb/sbf5xwu/8rrqfqBmHIf+89tNaUUcb5c3d57/f/CN/wvd/5Oa1wtdboRiGkZPN7uhz9wk9w/p4X2HzHwScfn986pb07uPBfbxSDx3b4qj/5u/j5//mffj7dh18Qb/ikbhkSQ6eszyPs7ogrh1vcuztlfl4RLwu6nQ6VvliRL+MI2xBUleDym3o0eonravywh3AsDK0gWVHEBUIIHNsi6IRYtiQbL2i3fAZ+D8PWtJ0OtdGg6pIrhxvcun1Kf2MLz1K07DZlVTLomximoEwyev1dTmcPsQ1B47SoKsnNu6eMuj0ypSjS+kI7uCUZbo8IWl0qVbNeJrRDj5PpEdFiTaMMXG9Auiyp65pW12YY9JhENbYXErZcJrMVrmPT7rcJHJf1KsbFIY9LSr8kPc9p+x2cQ4NGNnR7AWlW8OB8TMsLkHaOhYMzEiw2H9ByXBovJtc5WiikkNhpi6qV0Lpe4XsudeJwtjinGQq08AAToxEIaspGUcsJVntK67ER4WrAjZduYUiD0eYm7bDFYrGiagquXjqg4RQpa554/CnGp2fE5RjPcYjWU8LOBmfjB6BsFBJpmXT7Q4rdM1JjCXWG8gyE7NLfGDHSiqxKaBoLW9ek2SllpTFaDdqGugyQTUijSixToNU+JjaGCVoVYAVYpqZmQlWblEWD5Yd4uDQ0tNwBqjGQ5CRAVDcMWi3u373HwHPRjUmDjxNaqMRGOGNQCbavkabERtFyughzhWkUGJakLgxqrVAKGiXIy5qbq5/Hsj5C2Nljd/BO0nsZrmtxubPLiy88oJISr65plGa1rpmtF6iTGqk0lAY0bzx/7Ed8aWjvDflP/tIf4Klv/2qEFJ8xiX02Tj94h8FjO9hd72J3+S0R5lsitsUV+o/9P7nzbz7O5BMPXpN5ut0W3/GDf4rL3/iWTybQpqoZP3+f+HTBlW95BsM2md045h/+5v8Rt98iOpnzW/+/38PVb3mGh+97kXf9ib/F5psPefJ3vZPRxjUe/JmYzeCteJvVZ26NMz7ztrqqGz70N97F7MYJD37+BVTTYMhfOx2qquH4F2+w984n2PzKPTa/co8neAvwqaK784/e5eG/e5E3//6vR1oG7b0h66Pplyyhw2+ApC6ExjEqGlOgRM7pcUXL6RCENVKsiFZrup0h6yZiOOxTphdSqrZlYXQ6UJi4QUAjS+o4B11huqCVoNVu0etvYLs+Zy+9xPlpRNUR9LouqgbfdPBci0E4ZLoR4ZUNm9shZZPgeQ7ac8lXKapWnNy7g+973F1MWM5XtLwWo2GPbrtHOj2nFjU2AlSFVD7z6QrXsRBNgapsOm4fo2vg+A5NmdL2h5RxSrnWrMyMZ55+O6fTUx7eGSMch43hAM+3eHD3BMsRlHVJd7RBy3WJ8og4qcnWsL3bYTybcD5eEfT26DkNUVSzdhaoUUkjU2K7whQKIS6coHTuolMf4RkoJLmA4HJKOs8xG41lBVQlmEiUyECVqMalpMTzGpbnKbYKSJuMHkvmC4vNjQ3iNOX2nfucT1Z4tsv58ZTpZMr+1iZBOyRezUmTHHRDd+ASJxnnJxnelYLETTDqDr7h0ijw7f7FzkIjqSuTJk+wtELaNe2gB26POksxNKAsLNGiri1s4RF6HsrKqGhwxEWCr5uQVB3TDGrsDU1uefiND6ZAyxyr6dC2W5TGgrxUXH7iEjuXB8ys51CqRi82EdrAtiAvz9CqRogUW0qyOMZyNbUj8UyTmhrLBGEIjNokocQUcxqZs44iNq0D7r4U88wzz2KpDC0Eh4MO6/mK49M5ptRUaUbimfS8gKPjCajXbjX1iN84BFs9fu9f+ots/44dhP25rUp/Necfu8fyvwp5/Pc8jvyuExjWvFZdZr+aYLvP7pddR8gLEZemqJjfPuPvf9ufY/jEHvtf/ST5KuHshybsPfwmnn/wQ4DmR//gX6O10UFVDasHE+zQo6kaRr95iP0+zdPd33PhYf5ZRGp+NVprTj50ixf/+S8AMHpqH2l87jN91Si8QXhx4/SrrlvlJdMXHvLkd3wVdV6+Is8tUEoz/yKLzfxq3vBJvSor8qTEc3xky6ZZ1SgjI5vneJYJPmTpChPoDls8XBzRP9jH9VuYZhulupimg9IGpdtA01CT4QQ+QXuE2+nTaME6PufpJ3Y5n6+xpKTIchbZkm7Y5nw8YWD6NBTMZguE8mh3u8RJRK0VppQocu6dLMmSDNvRxNmS3d3HuffwCMc0eOzqFqfHZ2jlo6RiPBszHPRYRhGrVULQ74NlXdyEeJIkyxjHM4TZ8Pil60wmY/JIU1ea0ahHUuYsF3OUqBHaxfUDVK04Go+JlzlaaOqq4PxM0xsGbG21SXKDeB2D7TD3LjqQhAgomwwta6RlUVcuVtGCEShVUzcGfq9G2QVSmuilQasQlL5EqQmZvlDDu7gTranNiuHAp17abPsdLGlyMj+jSQuSUmIIxWhrl1YLppMJeQGeJyjrFMO2iKdLXOGjJlO8sI1pJZR5ivYTalXTaImQHrVeUCtB2WgM4VM2KwpdYdkbCGGhGwG1D6bGwkDpAsOo0SIiJqUpz3Gkh2q6CKuDpCZUW2BAasdoSqTZA9EgNUTP1TixxnVsHn/qKSyVs1gXbGZPMV5PiWc1G2/qsBY5phiBdYZtGFRphTQasGx82aPJYyyjoQQsaWC7DnZRoaV+RSK3pJyd0wsD/GGHLR3ywr2b5JnNpcv7zKMlo8PLtE/OUYYmmZSMtrqsJsvXL0gf8brx9O/9OrZ/zybIzz+hAxxE30DrA9+I+GBI/hMtjB/5KHb3YtfH9Gw6e8PXbKW+uj9mceeMrWeuXFTfOxZO6GG6Fl/2x34zdVbyo3/of+Xo3beQ2uKXl7dllFFGF90dpmvzxO98J4ZlYtgmo1fkY7XWpNP1RXL/NdBaM3v5mJ/8z/86xfrims//0M+z9cwVnvkD3/LvKdt9OpZnM3riU++H/tTxhWmbtPeHkAuMn96Dr1rCqEKaBttvu8rD9774hXx1nxdveOvVumlAa7yOxSDo0B35qFqzSnMePIw5Hafs7I/YvNqmoWRrc4jneRe9mLaN5YYIy8Q0HPxWFzsMcR2Pfn8Dx2uh9UWxWbpKOTmLMBpJnKaUlcIxXTpdHyEU08WS2TpFS4/5OuLk5ATXNNjY7KENzXKpKJoCNFzev8rlS/ukSYppSXzLYafT46mnnmBepNy9dUbdVMRxwjJKWRdLFtM5vhsQDhyaqqKuC77y7W/DsG1eeuEeVVmQpxHSgeX5KdPjMWmaojFYr1N0aRGVa5RqEIZicyNka7uHE5jktWR7sEW/5eL4kkLnaDOlkXOkUeJYEmmESNVBChvtF8i6wiyhTZvA7WOWAjHvUK5MnFrhyxmNOUeLGinANBTGKzakRtXGEJosL7h/9xjLEpiuxm9btEIfW5RYKsQNXTqDADfwoBZoJNvbfXzXoq4LHt49pshqbKlQYkEjUpRo0KpFVhhYRgfP7RH6goYCrUMQGmnVaKPBNEx8w0Y4GmGDbYBlhWiVI5VJ0SQ0ZkTdxFiGQR0WGIEicCx65S4mNp5hIe5pqplklSQE/R6m1MxPL27g6kzgDwP2vm6AuW1g+QY6Lgltk4aaSmgsx8K0TSynwbQvtKotbFx8ahoMQ6BMgVIVWjVM7Zewt3LO7p+gPIuNnS1W0ZwHixWXdq7gKAPf9ghsl0LFONLAcd5gntiP+JIwfHwX5MUitalqiih71W1iWmuC40tYlof2S86eu83pz90nf7+Bfsnn7GN3efALr10yasr6ojitbqiONM1KIS0D07WZ3TzhIz/wMzRFRd6sSPn3ZY87ByN+0/f/IQ6/9k0kk3/faz1fJhfn3q+Ma61pyprZzeNPfi/HH7jBD337X+DsI58ysSmilNvv/gh1/nkWBr6yWFd1g2oUduCiFxbqhzfIP9F88jnv/C9/B62NX/tm47XkDb9Sl1Jy/fI1MqMiq9b4VptzEsKOjR1q6oXCki4yt2iHBvN5TF1qdNUgbYmUGoEFhiQvF6h0jeXYCMNGI4miiJOHtygXc5SuaHkDFDVCC7zQIHQ90rohSwvCwCN02qh+RTRb0Qr3WUxXmKbgbHKCKSx6Q5fVKqYqSlqBhWdZJFnGbJJRGJp0XWK5DYdXL/PSyzcxtYnUPmVRcvbgCM+3ma5jdvoDJuMFlmnT7vbRCnojG7XUpOmaXhiwM+gxjnIqP2WyPuXxx68xX6wpa0WR50jp4LQcDO1y5+YxSRJRVDVG4FCvPOytEhebRltAhhQCRYEwNNqsKJpzmuYWreppKj+npsBzXXAfkhoLqCWGUaCEwqDBsn2M2YCqUDRNxdnZBKflY7sWaWljSJPDK3vkZcTtO/coG5NWy8UyC/zAZaffZTZZUKucQErKUiMtjZoENFELY7NCmT626yDxcR0H33c5n5/T7myQ5jaGTmhUhJYWjaGojBqEwDQEpgpImgjLljS1QgqHWnLhvKYltrAxHIGZ9HGWbUbePjpdU7UrNp8qefnuJ9gcDHEak/E6wroKzqGD13IxjR5ZniN0wsDqofJTMitCCI2wK1yvQkqJrFyKRmEYUOoUUzcXz9EaiaBqSlZ6TtM6Z/FRD0Ma7Az6PP3kW7hx+4iToqAX+CzzjFE35Iknr+CYFr/44Xuvd6g+4nXgvd//zy7OeN98yP33fILl/THP/sFv+Zyva8qaKitIohnhX/gYxu+csbnOiL/nKzCfezvxb3uRnx7/nU+ukF8LVN3w/v/1x1j9cM3L/+yDiO2aYnSxeheVwVf/2W9ncH2HyUsPyeYRTXFhMCOQaBSdgxG9q1u09wYXW/hKv3JDI0DDvR++gb14imjnDlvfPYR2zb/+M3+fj/2Df83jv/0r2Hvn4/yb//c/ID5bfHJOQgq+8X/8/bzzv/qdv2ZB4a/m07ffhRToWnPzX/4S/rufYu8HvwH9NffhG2KEEARbPYKtHsn4CxKIetW84ZO6aRpERUwU5Xi+ZLY4pc5KPDvg8SsbzJZrlvMVeVnQ7V6hMtYgNKKKkcKhqWu0EhimpCqzi9YmU5DnFUU5J14vWVcxprR45u1Pczw/Y3my5rHdPQ4eP+Dmy/eplMZ2THQDR6en9IcdtvZCTk5OQWp6ozaPP9nj9tkpvhtycnpMk5vY7T5JnJBlBZmoOD+e47dsVCbZGe4yXySUWU6cFJiGSbsf0OiGvu6wShr2hxuMigXr1ZLluiH0HBrdMBhucPfWOSYBh1cGLCJJldeY2Fy/dsDx5IRknOO0PGzHYTafMlssMQxFUq6oTlyCsk17x6B2DAylUI2NamJAo2WMNmwct08jKqY3JvhcZz1e0vZbDMO3kMrnkBRorbAMk0C3MRaX2B29CVM6FFGGUga7B9s0ecaDB1O2tjq0fBeB4tr1fYqixm11aLIls+mCQX8LyzTxfY80rpGOpKobnLbDcOdpmlaDlheCQlI4eJZNnkfYVhfDEigxRtUhggKMGsPSGEJeWKgqk0qusYSJaqyL8+zKxCxDVJhTGwpL2bTGm3SqTfxOgFoXlKki7HWxdMHVnWsk0ZJlVFIFDb1rDspykZaLkDaBZ4J9zrkXY7s9PGMTwxhj0mBhIWSNttYYKIQQ1CgMoZFCYCJQWlGUAqUUKhFIbTI+O2Jjq8Xpg5je3hDr/ilmYPO115/k5HhMIyWz+wuqMnm9Q/URrwOLO2e8/6/9C771r/xhdt5+jd0vu/6KBsdnPhhvqouC3dvv/gj/6k/+Xzz1rV/PN/3x70S6Ak8bmP+/Fcs//UF+6qf+J+4nn3iNZyso/qXLL/BPmfISYiYBzSbPIH9qhw/0f5wnfudX8E1//ru49dMf4YV/+u/4dEXi+a1TWqMOvSsXnubJ+RJvEGJYJloplv9uRfGuDTbFVxD9wkd5+Sv/Lr/0f/0UxTrlw3/7p/nw33n3vyc043ZbvOn3fO3n7Gn/bGitKdYpP/Nf/ENmP7nmy7N3cP6Hf5KNb/pU4Wo2i75kwjPwGyCpaw2z6YI8UbiyRxi06PeGVEJh4jLoO6xWt7E8CVqz0dsgDEJsx0djoaRGNA1aCXy/T4N54c0dLzBME8tUyFyxt7FDVdQEZsCcJWWt+MTzd0nTAnR9IaHoGLiOxEIy7HVQqiBPSkRlsz/cQ7cC7j5/i/WiQApQiaSpNdt7m6yTDMM3GNkh3qbH0fkZHddnnla0AoOt3oDhxpAbL99kvSgwpOTozh3qrCavYtCCRZyyudHBkQ7zNKNf5pi1i1F79AcWs6hgvVzhBl1S64w4ThiYDloobBM2NnZQakCS5ly6skm8bohbEbkfU8o5ZdUgmxgzGmAOAmonwgScMGR+I8JouXT3e+TFnFFnyKResh9coaKkNb1EHklMX/Lw5kMqKdjf2WR+NqeoK4JQ8MJLL7G30+P45CFvetNb0VScHp0x3D2g369ZLRdEUYxlSsJ2gDQV9nbI3JsiHQ9LmAgDEAau7ZFlayphYNoKoRu6nU1KJZA6oFE1VGuKIsHwcwQCQUChNKYGswlwlxYtq09FSdsPaKZg1BLPE0zPz6jqhrDtYMgGw9LsbG5x8mDGab1i9HgfIRtM8+LYwZIGhu1jeQPaMkaZbRy5RVHdJk0+TmVo3J7G5OKkUOPiiRpkiZAeGkXXvMRazejpfVRyie5jlyi1Yn9zmyxIsE3NJMsp4xYP70zJGsHOwYDl+RJlfH79vo/4D4eP/YN/S5nkfMP3/r5XEt5nr3Sb3zrl4S+8yKVveDO+McDdd5Hup7W1PVZx85v+Hrf+5c+8phXbFi2+gv+Cr+JPccwH+FH+AD5Dvob/jiPjvYw/fMSdu+8i2Ory2G/7cu797HNc+cZnOH3/PbJsCQjCjSGdg9HFBfXFboM0JGcfv8tz//Bnee59v4DLY2itOfrh93HjR34S9emexJ/hWKIuaqr01ye2o5Xm7KN3+Nd/9u8RvvtZvkP9AFP/ee7oH2Ln6m9Ba6izkpd//INfMuEZ+A2Q1A1DUuoUJKyTCwlWQ3vs7G+R5gWn5xO6XhsndFjEMywpLxK6aSJ1jSMl2gGtwLA8qrogi86xLBdpmxRJyjJNqIuGWFRkRYZpSqK0oFY1OFAkJS3XxzAEwjBwfIOTswmGEuRCk8YJSZZgZDXDTkBv4LFeZSyLJRtbA8JWi1rCpj9gOl+SxgnddkBua7RRMj9PqTPNYhqRpCWNkaOFw2yyxrIVjtOirCP2dzbxrRZZGfPsU/tUZcn98RFh0MGoKxod0Sg4mx4x6nRY1hOyYs3e7j5ZL6HKGqZxxM6oj2+F3Lv/gN3tbeZ6ArJBNgKHXTqdPWbePWzpU6c1d29l7D5+wPCxy1QkVPEDdF6yYV6ju7iMH7YonYSktaApaqJkQakkE6nQpkGFzWanc/H9lzVSSOJ1zHIeUdU15/dnoHPmiwU7+3usJguixQTdNajaOabpg2FiGxZKgTRthFAgLRxTU1UKlRj4PQuhGzztYtYOzSzg/sObdN7UpRI1QRySxw62bzBwuhzsdljMUqazhG7ZxepITGGQJyW9ns1imeE7AaoAz3FZLhOqKqPX7mNbPoXIUCRYpUS6CmloCpFjeCGOKXFMD0ddQVV3aVhiNCZGY1BJjRASU1go1WDKTdp2i1H9LI+1OnTVCOvLQ8LQZ3o0Z3o2o+37VGXN7v4Gd+/fY/jkU7hxgaoNrj3zDjZ3Nvi+/+WnXu9wfcTrgG4UL/zwe7n/nk/wbX/1j3D49U9fmKVIAeJTldpaa/pXtzFsE/vBBv/Jyf/G3PiUhryqG372z/8g7/9r/+I1b8F65tn/G1/9wn+DU3S5zDfxXfwUDiFdrvBU8+0kjOl8vY20TI7e9xLf8he/G3+yy7/7zf+Wn8v/ElorslVEOlnhdlq88CPv5cUffT+D6zt86G++65OWse/mT33aF/O551XnJdOXjxk9dfB5m8vURcW//R/+EXf+zcfY1y1+3PuDiC+LOLj6GB/+Wz9NsNPl9rs/yof+xrvQza+vkPHXwxs+qWutefzyVY7G5zh41JREScpiOaehy0a/T1nm3L/zkO3+EHvQoq4lQvoYEkzDQlGjTI1SNVWR0AiBg8CzPMKNkOeXxyRZjClrPATOcMBiumB/t4PwbeazjL1hm9PpEi0k8/mKuq4xDIvRRsDifMYnnqvo9DtUpWK7v0MoI2zXI8lStNSoomGVrylzjTRrbtx/iC41WxttLn/VASdnD4nmOa2uxdZgxPj+nCiP2OsPsVyXVquL0pr5Ys3B4QF1nbNcXkja6kqj65q4SKnSmre89ZCj4xlBp886UfhFjWwgaIMyO1iGR12X+J5JkeW0iz6ykNjWAUI3OKWLXfRI45itcA//qzTu5gBpQF2CYQ3JlEabCs+sMaKG6TyjSBKqJmG0OWIw6lLRcPPFh2xubSBo6LUHLOOErd3LTE6OeTie0O/2cf2KIHSpJhkP79wlLyo2t0Y0h5rSLZDSQSgTgYFrm1R1SV03aFmB0qgasocFXS/A1xp3aZMuS4jhMLzOVt1jcjrDMDy6pkBFglHQZjxd4Vkuvi3pDjtsDducny2J64Q0rXBcF2TDcjUnzmqapiHJFe2WS/mwQhQaYZkQldRDsJ9qY9oS225hWxKzdjFtn/bpN3DCz5LEa/riSYzcpOiNETLFMX2e3fpdWPdD5kmC6wTcP52wb/m4MmNndwsdJzw4OyFONUE75Iknr0FV8dzL91FvkhjLJWVWv96h+ojXmWS85J/9p3+FcGdA/9o2bqfFwdc+xTPf/c1I0+ClH30/s5snBFs93vz8f8Ze/Gayj79AnZeYrk1T1tz72eco49dYJlYIRt8d8GPf9wf4qsl/zwZP0+USAgOBwMQlZJf0p+FHfvz7MWyTt//RbyP/iOLB+CU0Fwlxef+MH/imP8PgsV3OPnrnNZmnbhQf/D9+gsd+yztetT/7LxfiGZbBb/r+P8Q7/8TvYHbjmIOveYpP/NP38u7v/dvoRl1sDLxG2vafD2/4pG4Ig7LUmI2F5Use33yCqIxxpcC2HFZRyt3jB3TaIQUKvVzS6fpgXEhyCqmQwkBoCeRIw0aKCMMWIBRlVmAkko7vU8ucpoKqrtjYHHDl4JBltcQxXAwh2RltcunaAWfLGbeeu8Gg36MdhORxzNnJlCrP6Wy3mSzGRFFEniq6gcdyouhvdEiSGdoy6couid2ArVkmKYNiyOHWNsdqQa+3Rbpe47RdTNNiHaWYqULpEsu2GQz7NEpxfjQmyXPqIgfTpDcMsIRJ0O5ydpayvbWLNkzaXU2tU5JMszqN8YM+plSs55o3PfEWTs9ucfzgnM3NbSwpqWrB3Zfvc3p2wpVrV9jcOuCsm6HMnIYagcYwO7jSw2h8MtPg5MFLVAtFrx3S9ltsbY4I/YCykUyHGfv7GxzdOcdu5axXC7K0pD/w2TZ8olVE4I0ok4oyV8RFQasjWRcJntNCKQ9DmhimxERT1wUaAVpiKROdKuREEtYO9XMNlW4ojILNzZCzZI3f6rOeFgSDDo7pUEUZNx6esLezST80qbMM9IVL2+R0znKdIEtJEle0AgspNUor3JaPFGCZJaqBsixopQ5u26LZN3D2etimwLJCGqER64L6ToZs9yhPHN781O8nNl6iW2+TR13iJoKtMzp2wCi5SumnaNMmTgu2Rh3KJsfUA87unmM4Att2SY/OaBxJGA45PjvG7lyobEWLnKL80hThPOKNjVaa9dH0QvAEePnHP8AH//efQEhJOlvzrX/5D/PMd38Lk++ccEv/Ez70rr/P9vg/o3MwwvRs3v7/+lYevPfF1zQZCSG48VMf5Pb8o9zkX7PJWyiJ+Xq+l6cubAZQ1MTJ5MJAqm4udgs+A8l49ZoXnJmO/ao+rqovxGfu/dzzbD97lXS65hf+yj/nrd/1jTz57V9FU9Ycve/FC9nZ15E3fFLXaMoi59LuJrW+2ELvCo1tWUzGa0qzZnNnG98y2OwPWWUxZVkhlUJLHyEVDRqpa4Tp4IV9RFPSavXxum2yeEWucgxTsjHYoohzyqag5fp84tYRLdOhv9NiNU1RLc373/cc2/0OO9ttqsogzyTSCiibGcIy2BqO6LUdTqYr4iRltV4RpworKalsk7aWHJ8egbBpd1xsN2SZZazO5uRRjSrOUE1DrWs6bZ+0yjG0wncD4nWOa7gcHZ1xfnbO1auH2KFJsiywLZe9rT6dbpvFekqVl9impu073D/K8EyB3HQYHx9Tqy6OZTI9P0IXJk8/+yRZmpPlOa7vsX3YYREvkNqiLiocKSikSZloyCoML6DSETUFUnhsHx5wns/Z2N6l0wpxLYvpZM5ksSZwXFana5RO2R4esLk9olY1Pdun6rjM3QXrZc7B3oBZHNL3uvTbHrlK0cIFY4WiRlcGpapQusGRNnoKxbQhW5a4piBNCkzbYrbMGA7atNwOu3s9VJ6QGBn7/QGG6XIUJ2ghORnP6Dom0mjo97oUeUltGHR7HsfzE6JC4QQSabVo9yQSRRQXWKZkGq9wex7lVYVuX0gJN45CC43TSOKmYGHGbBz28U8lhtvCTFt05dspFxFxvkAXLtvuO/AkvLS8h2NDtz9gZ2+XajbjbFmxUCvW+RpXukTzGGUqfFEhgi0OdwOOZvepFjmlA93Wl65l5hG/cdBKs7x34aS79cwVrv/WL0MYguV3/Tv+5bv/F/qHW9jBRTvkhSvZAGnK1zQxaaW49VMfBsBoC47XHwDgQ/xNQrY55zme54c44UOv2Xu+Wizf4Sv/69+J6X7uQrnjD97gH/yWP0exzhCGvKi+15qzj93hPX/hn6C1Jl/EX4JZ/9q84ZN6WdXUteD+0Sl7O0OWyZR4EtNqeczjNZv9PoZrEng+SZKhG8HO9gjLkmih0UJiGBKNRFQluqxwTY+iaSjOzjFsQdfy0F5DtMpwLZflZInRNiiLlLookAtFtF5xuHWZ+ekJcWJSNRWuX6Flia4kXrfN1cevkGclmaOJliscx6XbbmFLRa8dMNzY58UXXqLWmmG/g1YVXScgKUtq0aB0RVUZBN02hzs9VFNwdrbCsVxOTscIBFGUYziK7d0N9g8PeXh0Bykqup0hTV2R5zllqvGcFkVeoArY3rjYfr5y6Um+8qt6xJMV8+mSNC24d3ZMozW9bgcpLDzbBQeuXZK4jubs7hh7bmN0YHbjHqt5zOPf8g6stiAnR9WCeJlxaXeEKmusLhR1zDKdMdrewzAV5w+P2dnZwbZs6krS9lqMJwt8y6JMDFarBTPfph36aFVxdLRgs9+lvnvh7KaoqJSkTGqW0zUH23ucHU2o64aDa5fw7ZKzkzG+16G/2b0oExKK+zdv4rS77B3skuQZdVUhHIvD3U2k1qTVEql9LCI8t4OhDXyzRXvQo5AxJg2TszOGwy6GMLEdjQQ8S1D0crRjo3GQGjwp0XVJ09G4OsAzQuzMZPXSmiKDYFAwP5rgDbpsbV0iKxMMDbMow/YFjuWQrdYUWcX6bMLdyYRrj11mfDLh2tVLeKHJ4ZseZ6+zyS9+6CXSvMG2BdoClVdYtv/6Buoj3vCcfewOP/x7/z+8449+Gw/e9yJlmlHEGevjGV4/RCvFzZ/8xS/qSrP4tBa5e/wb/i4/j6LmS6qj+mlsPH3Iwde8CSEuVO5QAq0UwvxU8SBcrNJf+rEPfFKw5leckWvI5tGXfO6fjTd8UtdaYUgwPMH5ZE5/uEndrdjYGlCclGR5SqfTY75aQFmxXOX4bodRVWBoTdnUuL6PFjVFlbNenWE1FU7LBaWplcPJ5IjlccTuaAMRwmDYR1iScrlmoxeiMWn3utRlzdZwgyQvUFqzvevx4OGS5XyJVhWnt+/RCl1U5WCGDvkKfM+iclKKNOfunSNMEzrdLv1+DyUbpASVNTx1/QnSfM3Lz9+FlWBz0EfqkGg5JTYSrlw6oCxSHpycMGi3cQKX9Sphd7CJ6dhkZUq0LrEci+GwRZllTGcJeT6n3WvjhB6TyQLLajOfTlhHGU1TEw47tAKbxXrJ+CxmNPSpmwJLXvTYn53OMBbgOFCvNbZwSW4t6D07pDKgU8PpbMocycGVAU3ZYJse3XBExzdQOqKRijhuEM2KLG2ITEkQeFRWha0EB+EOR/dO2Dk4ILQ9qqQmziOU8DAWNUmRUUjNpcMdzLxh1B9w9vAUr+1iChNDS7phD9PxOTi4xGRyQicMcX2XbreDrCrAYHI64fDqFqvxA3A9Lm3s0OgLqd6jswnDjSGn52vKqsBQDVGeY0mb+WoNpQLDoopTisbEbweoQqPtCyW4Rhu4tYFrDTFtDZGivXAJe5ozK+Nw0KJczDEsi/V8RtjxWczmDEZdOp2A4ajH8x96mcVkgiobxuNznnj70wTOipPTMY7n013YfPjuHRaLOU7HI9YG13b2OZ2fkr+G/cSP+A8UfWF5ev89z39yaHHnjFs/9WG6lza5868/ysf+3r/9Is/hVyZvRfVZnvilwWq5SPNCg62ZCJI/PSC+tyb9rz/Atd/+7MV4VfPB/+Mn+eD//hOv51RfNW/4pG4aJrY08N0QkChVIiqL1VnO/tYGd2+dMB+fIyyHQgjcUJMXGVLXGMKDIESLkjqvca2QdjeDStMJA7IqZ1Vk6Mp85VzFwDVNqCSIBtvRnI7PaLfaHB5uc3I8J8tKfB8ePzxEtAzGZ7dpOSFv/cpnWS+mGHVDVSmsQrIWOXoFUpjkJDiupE4lQejQChzGp2P8XoecnJbh4QQevcEKy7G4ce+cq5d8Gqtgo9enjCKk47C/P6QdhAhh08iKu0fnbA8GSMdic2fIbLZEaxMaRZQtSFaa7f0N2q7F2fmE2ekNGizmK4Ulc4IwoKwFs+kELwgYDIfcv3NMU1dYtol0BLK2kFLguA2D0EUWa9IPNVRoKnmhQ39yeo9k6eBYNitd0XI90ihlMGzTd2vismQyidHCI1mt8VoeXickcEzmyxLXcZnOxiy1ZLlOaHd9bEqSpiKvM3q9EVlZsb2xy+m9Iwzbpd/qEC0nNK5Nr9fFcSQP7z2kv9FluYhpMJjPp6igTRyt0NKljEuCtkUtBKfjGabj0ml7bAy7qLogixMm8yWd0ZDH9nb5+MdvseGNwM1Zr3PitGAazdgxbIQr0VIBDkIYZOsEs9XCqSuq24pud8BRHLG3vcHJOKOsDNqug2MokA6KEmFKsizn5O6UwpSMNgYsxjP2rh6y1WnR2dvg/tERhZZM53dphE20miP9PQLX5PjolDDwsHcfbb8/4vNHVQ0/9z/9IB/+2/+Kxd0xqvqPq+BSvmJ+oyuB8RefJPy7l5nKn2H22064xrPUecl7//I/4z3f948/KYbzRucNn9SFuFCFm03WSMshDEziNCVFYlo96qYizws8z2S0vcvdGy8ybJv4YZ+yufCwLquaKopwXYXT7l2smNwWtiEpkznxasHuYIPaSCgLTeNpzNqCyqBqNKo2SK2CZbmgVhVW1eZ0PMPPA1zfRqmKMipohS1m4yWWaeP5im5hUcgc23eQhSJNKuarFRLJ5HyKsASNaui3Wrzw0i1WSYRlGDRFg+ULltOYgduljhXrskIWDY8/fsDZ6QJT5rQ8B8u2CEYjDC1Zz5eUSYaR25RK0O90abkpZlWA72I7Pq7nkOUJ7VBhENJrecRZyfVLl1ktEpJ1QpxF9EcdTFljWzU1FUK6dLwAU0qWcUbgV7R9F7RBnUne8tg7sCyDm3fuohtF1ZNsjnpEccNkucCxHTqjEZYlsFuapmnI0xjfbuPbgvNVdqHwRkPTVKRpRmVZDPo+hjI4Hk8ZiBFJ0zBfrmkMi6LIaQcuWhhMz2cE7RaLdYQwFXle0+74lNWasikRQuI5gkW0xHN88hJc32KV5ajGozvocOP5+zihTb/fYtALeHj/DpnKWSzGbO3t4MQ50zKl3/WRjQSzRkobx7gQljG2TYyoony+IRrH3Dq9R6FLHusPeRA9QFhw+eoVJi/f4vbNI7p7I2wszh+OiaqSK089QdfxGe1fRlQx5/dOmc1iKsPiiceucTBsc3I6o+22aKqUyXyN7Zg8vH+O1w5e71B9xG9QyjhnduPk9Z7G68L05SOyRYw/24G/u48wNaP/1mTz9381y3tjfua//QFe/Ofve03tZ7/YfM6kLoT4O8BvA8Za66dfGft+4LcDJXAb+INa66UQ4hLwIvDyKy9/v9b6j73ymrcDPwB4wL8E/oR+FSLFZVlwejTFbDm4CFarlNU849LOBnmZobSmv9FlPJ+zuLFAmIp+v4syHJQoSZbn6GwNVU7L93EMC7vdR1qCXjDkI7MHTCdzNtwBjdSkXsbexj6L9ZJCXSgzhSMPqzJ56tJVzpZznrx0icqqyRYrrl/ZxA86tNyA+XqOaVtURUaRaDZ3NxiP53SsDtN8wmK2wHIdlCFodXpYdYMQkOcJcZIw6Hcp65jA95GGQV0kNFlFoxs2twfsH26TRpp2b0XHb7NcR/SHm4ROm7PpMXcf3uf6lUPu3TlCmw5bgzYIzXidsOX75EWKZ1moGizDoq4UqyRhOlnR67nM1hl5XDHYGPL0M09zenZEHJekVUkcFdR1Rp41KAe2t0Ki9Yo4WiENjWmm5GVNmdVcub5PmuWgJffvPmTjYIfFyYQsrckRBG4bhEHl5CwXSxbrHCkNkjShzgu6ow5By2f/YBPdpHi2S1QYtHstHK0xPEHgBfimZBklKGXgui6OG0A9Jy9StJCgYNjb4P6tM9ZFyWjo4gc+hUo5ma/otnts9FpYjkeyyIlFiSgUtrZREjY3tlgXJ+wdbiOxUEVOd9jCLKEpzIuWSRx8y7vQRIhsuCco12s8W5KlMa3AZ/xgTFVqqlLy8i99girPSdI1kxdWTMIQLUt2DrY4PzphkjX09nq0hIlqCpTV8OSbL9G3wQn6GOWCKK1ZxzmWAs/zacKabu9zu0y9EeL5EY94I5HPY6LTOf5jPfhTt2BUEvy+hPGNBf/iD/9vnH7k9us9xc+bV2Po8gPAt/2qsXcDT2ut3wLcAP67T3vsttb6mVd+/tinjf914I8C11/5+dXX/IyYlom/EZBWBWfjCcs4pT2yGa8WlIXmcH8XhcX+cAPHsHnHW9+GEwTQpNCUkC1xaXBsB0MYGMLCcQN8N0RbNlZZ8fhjV8Ap6XU8Dje3oa5xDRfHMvmWb34nw90Bs0nEyfGcXitka2ebxemK5TJDa480qfjEczcwarAsk3mUcTab8vFP3KUuSgxfgJTsHg7odDv4dgh5zTyes47WJJlmGaccHa+YnqecnszJohTTdHDaBhgX20MndxaEQZthZxuJg4WPa3vMlwuEho1RwMs372LYkm7bIU0zyibDUqArjVQN49mEIq1ZLzNM10OjkbYgLxvW6wynZaF1Q7woCe0OyyjBNiVbW22kCatcsdUfkK6TC11336Esa3qtgLbvM+h53L/xENd2Wa1n5FVGMY3QZsN8OSYu1tgtSZnFxKs1i0VEkcVE64iqzFklBWmmabTm3q0Z00nNalVQpzmLyZLFImN/Y4hsKtZFxXKWUTeKJMs5n05xuh7xPGF2vuL8NOHBgxnalQw2+qiqRpWgK4dBr0dVRJxPp+RZTJQlPPHYIXWtiFVNlhecz+eEYcCo2+Hk5BS/0yMwQjAMwrVDf95nkLUZ1Q7ePYV9G3RsM1+WdNod0rLkwYOHzMqUPI0o64p1GuH0t+hvbmM7CmkrRoOQ7dEWdbJinS1ZjifM4hV+4LJ9sMXI65JGGbPjY1brJYZKsJv8QhpWVwilWa5e9UridY3nRzzijUSZ5Pzb7/2H3P65D/Hx3b/Fz5/9ZX70e/4qP/DNf/Y3ZEKHV7FS11q/55U79k8f++lP+/P9wHf8WtcQQmwDba31+175++8Bvwt41+ecoRLsDw4xnBNSY8H+/j7agvu3HtIowWKdoJ2KxTLCaznUVYMiRWLgWRZlK0TkCUUFSisQF0YAWtVQFIisIlnlWEphlBLbTNGNoq4q2qFHPNPM8wjbNbBcB0MafOQXnyfK19hGwJ17J+xsbGC1bKQpKZqa+SRh2PGQjsVinTBMLdqdNk5lM9FT1osVq3iFbRusV1NSJQm7PkYt8FttemELP2wRxWt0yYUueFOQZzHLsUlRV4y2t0iiCUcvn+G5AYN+i/2dqwThFKUa1uuErGro9LosV1OYCEzfpapSTk6mSCfEymLqMideRZRmi6DtUeU1BC4vvfwJemGHvYNtqrxkPo0xHcn+fkhV16hG0TJc+t3wwp60FZCtT1GVwgocmiKnqgqKYsV5GfPM29/J+fKEJrKIxgkPTk4wHZvGkOxd3+Le3Qc0qUtpmLzp2Sdp2wkffvmjtNwrCCHZ2O9TpjlnZwsqtYlnO0zmK9I6pdft0sKmyAuENlGGIE5Srj15wPTBmLoGr9VisZqzTk5wLAgGHa5duUxWZHTaDi++cMxgb5PHn7rG8dGU7Z0trlza4uRsynwa0W75pMs1SaGI04ysMuiVPpvdFvGdmPksoz1qY4oIy9ZgOJhNg+04dNsuqyTH9gV2awvLCDFbmktew3JWMNjagjLCNS0SZVJWGYtZzuHWBgM/oK4bkkXKfBExnceEtsT2XKKqpEKxXKeEwaurfn/d4/kRj3iD8fKPfYAbP/mLX1LVty8mr4X16h/iVwbzZSHER4QQPyeE+NpXxnaBo097ztErY58bA166/xLJLGUw2CRshZxOFmhZkKolbielP/DY2dtj//Ius9WMxSK+sOBDYAcdTM8n6IUIQ9BUJTQNQtoYrscLJ3dpeSbCFSRZidAt1kXBYr4kcB2Oxg9QiaIsBR9/7h7n0xmNqHB8k3U0x7YleVFRpDmrZY6hNY1ZMF9GzE7nuK7kaHKPxfGcNF/T5A2KgnWUEMU5nX6bILzw/7YdSZHUSEtiS4EhDMJOgDQFcZ7z4GzBy7fucv/uKetZxrWDJynMmpqa2qiYTMbYwmA5XiFwuHy4SZUW7Gxd4nS8Zn6ecn48w7ItLh+MCHybTrdN2OshfZP9gx2uPX2A7xl4/oLj8TmLWYrpmBiWwrVchBIURcHWbhc3EGRViYHF4mRGnkJSNtR5yfn5FKVyNnf3+PK3X+benQe4usX47JRltsLxHSxHUtcVIjEROcxTxcZmF5uKkwcLNsJDQtGiKiGdRuSlZns35Pb9+5ydr9BS8NZ3vJm3PfYYQlVkccJssYBG4BgOvtWmKksQFqoqwCwJBxbdx0M6rsOtu8cYwqQsJFevH9L1bdbjNVmdkSxjklVDt71DOwhYzCJqG3IdE45C3vzlT+BhEy9S7jw4I6UiTUtUAarIKJIlwnHYv7LLqN+lRlAWFZPxFMPUjPoWeZQwWSyQTkA8hfGyQFoG3V6Px67uo6qLFsY0jZjna4osot1vsZjHzKOcp956nbe/+Tq2LekMu69BKANf7Hj+DIQ7/c9qQPKIR3w27NCjsz/6pKf5F8J/KAkdvsCkLoT4s0AN/MNXhk6BA631s8CfBP6REKLNZ3YY+Kznb0KIPyqE+JAQ4kNFXvLkM5dJqgRDWRyfnRDYHr2DbeoG1HqIww6z84RP3LrLapoyGvWQhoFlSNpuiN8eYRoepu1gGgKMEse2KDCQacXp8YIiqlFoqiqh1fLobo1YxAsMGjzXIMoXJFVK2GoTJ2sWp2s82+b61ccw3Jrt3SFb222uHxzihi2kbSM9TeB12RpsoW3NfB0jhUIbgsfefID2JZbp4psOj1/ex3E9vEDQDgIeHp0yPV0wHudo28ISJr5vIg1JZ6PFIprwgZ/7EKIEYUowW6RJzr0753h+i0EY4JgWyqg5ORuTpAWGJ3niiSu0WxJb5LiGSTf0GLYtNnsedZbjNJIyKwitXfb2NqipCLwONhZIweNPb+F6BtQV2bqgWjXE64QHD08o85RRp0unL1hmBdOF5G1PXsFsAsKWTZZEbG22iNcxcZQglcC2TG49PGGWtXjqyR2ePOxxfjTnZJ6yXKekTUmeJ0zjAlWUdHsjBj2fXJV4LQNXiQvZWK2Jy4yw08byXS4/vk26Smh5IXGcUKFoBz6dnQ6jt/SpvAbLlJycnpFWDXkEJw8WxLVid2OLu7cesljnjGenTE6PycuM6296hicfv86zX/YOtvw2pidpGsVgb8jXvv0yVDnz5Yr2Zp/L13fZ3+5SFYI601iexWjY5nDXYnx2H1M3PP7M43gti/Uy5WQ6xjGgF7ZI4+JCopaC2jYpliWm5+G6HtF0zjRLGC9OSZVBvagRdsjmweEXEspftHj+9Fj+bO8bnc5fFznNR/zGZvTEHt/5E9/7KZOXRwBfQPW7EOK7uSi4+eZfLpDRWhdA8crvvySEuA08xsWd/N6nvXwP+Kzlllrr/xP4PwEOdjf0/DwiiUtOzRO6oU836LMx7LGyQtKi5P7tOyRxSlNlDA52sBwDqWoMIVHUNEqzmE0xDRvX92mHHpbtUmcL2qFL3LIJOgGqUgRth6TMyNYNpvSxQw9dNzQ09Dyb4/vn9HfaDK4Oicdzjh4+oCxLPOFzMp9xdDbFx6AyodXuoymZxzNG/S0qSsanY1zTpuOH9MIlVZUjTUmZJmTRiqDVosSiUQ3Ss3G6Fp6sUKaJzCxGwwGu7XPv6B6Oa+M5DkadkYynpGXKLEpoBIynS9qhT6fX4eadF+h4Pp5tUhaajf42ni84OjqmPpd4lkQpzXS5YDQY4rbaLNYRu9t76H7DfDYlHHhYpsOV7Sd4cG+CNEJse8VkPGGdFwjbpMgSqvOKyzvbtFsaQ5rc/MQ5lSqZxRndvkNewvW3XmN8coZltdkLA47vnnLl2g6h0YAq8VpwrTPCbdnEScpsXjPstsH1cAOTsqzYuzyiWC2Zzs5JVmtW8zVhu8N8NmewscvlzUOee+Fl4rrk7V/xJMliTRZLZjdOMIwt7KccpNVgZh1EndFIE/I1s/MlrreF03eZLCZsDrtMq4rd3R7nt++QZTmz84zR1gZvfuoSH//EDQI7oNYuuA5BYOM4bYrIBMNna8MhTxM2trdJp3NA0NRTzNaIZ7/869Cl4P79MVfffpmzG/cxXA9dNRxe3kOsG6Z5Sr/dp7z3ENm1uLw7QLk2X/utvxVHO7z/J38BjIY0mv16Q/mLGs+fHstCiM+cuR/l80f8Ojj58G2e/8c/z9f997+Xd/2Xf5MqLV7vKb0h+HWt1IUQ3wb8aeB3aK3TTxsfCSGMV36/wkUBzR2t9SkQCSHeKS4kev5T4DOL+/4qqqqmY4U88dglnnrsCXrDIYYhOT07J0sUZfGKgIFUOIaNrktkITFNGwyHPM+YT8eUeUJTRzTFEtuwMd2Qsqwxa0m318a0DHTdoIsGiUWvJxkObeJkSa1g2O0S9nocxwl9f5Od9iaGMDGVwrE18/UUpKbfC9neHFIkFaayyOTF+XO8jimiGr8VECcldVRhGTZtN0TS8PD4BK0FQkKVxqyjnHSVYBUGrukxn80JXAcpal688QmytKQb+BR5ij8IyWWC23ZxHEFelfQ3eiRxxex0wZXLh+xfGdINXPJ4xnI55uz+lCBs4/oG6yQho6Hdc1hFEctlQhTVnJ6eYFvguhaB26apNc89/yK+a3E6npHpjEm0pLM1Ynv/kMuPX2F7e8jJbEar7WAaJXfPz3npwQm7h5e4euUSjmlh1R4bwwPe/Jan8KTGdgTLyRlFHVFXmjhKmacL7t+bES0STBOyvCBPU8ymg9sNuPz4M3QGIeOzNfdOT5GByXA0QAiDNF7woV/8JVbrNVcubWFkFVkaoYyanZ095mcFvuoQOj3yJMINAwbdFnHc0B50GHRD9voj9nb30Qp0DbdvRUTlhXBQdxiQVEtefPGcnhNQljWTdc1GNyQwDVS05nR2RpnkmLVgsYjIs5QoKWlaAV/7dW/HzuGFD/4iSVJhuyaWctnZ3qDVFOD5rI+XRGmGpRqef+kmp0mEHQTowOXqlX3md9a89199mPtliuP5bPW2fj2h/CWP50c84rVCN4qP/J13s3owwfKdz/2C/0h4NS1tPwh8AzAUQhwBf46L6lgHePcrMnq/3OrydcCfF0LUQAP8Ma31/JVLfQ+faoF5F6+yqMayDZazGaWoWTFntlxgSQvHMInznCSvCHybnZ1NqionSpecT87Yrq6CrInWS0SV4XsWhmFiWw5uK0RaPuNkzfHpkg3PJ2g5xFKzzBNMDU7H52SywFANO9c2ePHmXRwhUNR84qUbuHcE0GAaEIYentcmqwRGlJPHEY1KUKrPXncbu2MTTVccH08RCCwbbp7eZ2/7MuPFGFWa2JaHabhgSoRqCLoBSlZ0eg6mACkt0jJHLWv6W0MmkxVRssZQmu3+Nlcu7fPi87exPZNO0GV2NqEWFWlssNs7YHw6wTNy3vGVT7JczDg6XiMaSWg57D05YjJeEZdrXNdAN+A5Br2NFv3ukJdfuk+c1XR9l+U6xZQG8+WSkejQHnRxDJ/Qa2MVNUcPjtjc2aLrWUR6zWwRY9sO1AWT84w8BtctadkOk6NzMB0M22bUDYjmEe2OxPFctodtHozntO2QxWJF0TQEgeDmnZfY2wo5e/kWChdlz7m0NyKZVqhCcOnaiLu3xqzzmqDfYXK2xnc8VGEg0aRNQwvJ+oMLqqpi+9IlpFTUac1wu0NR1VgYHB3fxesOcE3NcKOHE7Soak1eKfqewephSepCbCQoDQqHnVGHyWrJ+WrN0LVotU0ePjxlVRb0mhyz1+fKVkhyuuLs7Jzkfo7b89nq91D5mtOjBWnZcP2ZA6ZnS+bLCBEIHFvitobs7u1Sz2LmWUKrG6H8kic2OwTC5sMf/8irCvjXO54f8YjXkvhswc/9+R98vafxhuLVVL//vs8w/Lc/y3N/BPiRz/LYh4CnP6/ZAdI0yaqCJx7fY7ZO6NKjFQbcunmf9Tqm7XmUeUO9rmi1LPBCgrBFVWXE2ZoyTRCVQtoGVVPjYr2i8Rujq4bhhst4fk656GJogdf2qbKaIoODvT2m0YzJ6QJBiWlrtvoeZR4zixSGlGxthpS6wqBgMo7ZbELSokC2bAyjwZSa6cM5mhItMgxhkqYNhwebHD28R1422KbCMsE2LEb9LuPTCSpu2N7bZnwyY5lH2LaN0QiSvMa3HXrdkDDwyLKSKC24e/MejS4JnBaea2NtdEiLiihJaShw2yZlfHF2fO/elFpcCLFsD3s8vDMhKysMy8c0BUmZkGQKc1yxnp+Q5xlCGsSNIC0LknSJ7VjkusazHQytaOKIk9kZ0tBkxYp8XZGUDaOtLkVSMJlMsKgpa0WVWUih8T0HV/qcKyiTNdgNy0WFqgqGjsJUgvNFAobERODZLS4dDDl98JCoyvCDFm979jHWk4hYp/h2yWPXrrGYnHIzcdjqbmEWK+bzC9Gg4caAbr/N3ZvHCCvi8tUdFvOUlqeIpxGmH7C5scX0fExvZ5uqFFgq4+R4Ti0Ul65fYmfUp6pLMhJUUzPqbxNFGU2ScXKcs1xm7Fw5ZLQ1wFUVJ6cLWr5Bkza0uiYfe+8Nipbk2af2ODlf0vX65KXEkgpMTZHXdLwOd+/cJm4ynn3z22jOl3zizl2ySlCWFd1RB7+CS+GQh+cTjC2btzxz9VXF0+sdz494xCO+uLzhFeVoNNK1OD/OwDNZxjGn5wnOaJ9BZ0YyWWDZEmUmzJYNNRZFu8SxBFGRI1WD7UmUbhC6YR2t6Rc5qqk4Pn5IX+ywc7jBdHpOz+8QDkPOzqe0fZemqdkdbpFGMW3HJc8avvadb2GezhClYrZaojKDzVHI7Yf3sR2TKEu4duUyYbvNrfv3ePHmA8Kew87ODo5jczY55cr1Pcq0RIuKVigYbHQYHezx3AdewBm7xEkNQjIZT1lHEVs7I1o9l3s3H5BlCiEMWqFDmVY0Gu7fvUfRVEht4lYmjW2T6pLQC7myv8uLL92k2x4ih4plnmAYFro2MeocRxgsyBFaE8c5jRKEHZ+W0RDHMd2eS9j3oBKs4hVVobh8+RJVpUjjHGVYlGVKJTUHl3aZz8dcOrzMbHzOdtinSAri4oR218MyNfU6RSswtcFslqDyM+arhM6gTccJmOklYbfN8aKkwkQKhWMb6EaQFzmzWcJgGDKUIxbLNdGiIskUqlbUOQhcvubrv470554jDCrc0KdoMtphSOi7RIuM3qaPUHB0+5RWt0O/02FpNDR1ynMfn9HdbLMd9qiahDxq6PRDsqagiRKOshSlJG2vTZnWtIM+1WrGkoLVKkaZmjwrMEqDk4cP6Qy6yKLhwfSEZn0OjmY02sNsgotaCaNESsHyNCKvFIfXB5ycnGG6Fjv9ET2nx93FlH4rIElmXL68wcOXHzDNCuZxTJ4n5Hcrjs5fXw3tRzziEW8M3vBJvaoq6gzKUY4uDOo6x7E6bGxeQZc+iTbpdQOSMmYxmxE4kl6vB6aP1GsaDPJYEQY2TtunqRt0VUJds9+Dj+ojsrlDELY4OxtTpPXFFnSuUaJmmixZJ2uqEgxdc/eFI1SrZhQOOTwY8vDBA/K8YtQeUegK3dSs5ilpHFFmGZ22y+7+JRbLxYWiHD6ndycsVgkbmz3e8sRVdq5v8vxHbjPsdmmFAXGZgoQ0KjFsi6IpaSuHjWFImtuEoUsS5yT1RQW3IU02hm2KoiRbpZxP7mFaLk474N6DCat1Tpafcmlvl/ViwXS5JElyPN9AW0OGgxH3ju/T6QekWXXh2Z5r1s6coino+V1KkWIJl3U+ZzaeY1kgHYvQcYjWgq1ej5t3H3B4aQvLkcRJTJSXdFohm5uDiza35YqqqXkYn+PaNhv7G1itFmKW0A46TKZzOt0BhwcbTGdrsiijqkqkrDEsi1UUYbkmk0mNYa3p9Do4hiL2LDoipKThheduELguA8/Bw8OkYrPfQ5seGxstPn56m+GgR94oPKsmTQtMaROtCzo7AdKe43oj1qslpmPRbVkcTxS7e9sU6wjblOiq5sGDMWbQQjycEGcp3V4Lx3XphhZH98fcvnUDIWuSdY0V+LQGITuHl6mnKyqtWGURpq2oGoueJbmfZThtE9voYNYpqQ3zkzkfqz9CsVgie316nR6jwR4fGz/PL714g63DIQOnxYu3T3j6K66/3qH6iEc84g3AGz6pC6FxTMHu1iF37j+g4wUkdU1yeoyqJmRJTFWV9MIO3W4XV1o4tslFdY+kKApsR2LYPkVa4DgBw+0dGhOipeagc0DWNCyTNcK0SOqSUJhM4zFJUjPa3kZVAlMKKumRVClXu3us1wlFCY7yLs7thcn+wQGNWXJ8d4xZSC7v7pIUGZaElu9ibw3Y3Al58eXb6NQAQ/PweII2bU4nU6hSWkGLXqdPUkYUrxTTOdrnfBzTa4es0xXz+RopPYTSrFYrpDCYTZaEgY3tNQwHPRbLBC1q5ss1w61NOh2HPKm4dmkbYTa0OgMuXd7gpedfJM9Knn7sCmVSsZQpOimZRws8p4PvS+aTFUHoYwUKHwdFQ1UX2HWb8WSKECYnteT649vcvTUlWyuidU7YNplPx9SVxvBsKqHQpsSxTfzhkJ7vk6YRQehyejzBakkM3WDU4CrNLErxA5tGO5RFxeHhHg41ReijK8lGu0+SLHDqiqip2Rp6TM5WIBtoSqbxik5gspilbBz4eJaPZVuslxFFpWiHBlf2N7Ech83dLQbDLn1bohE8PJnjBQ43Tsd0hiPqJKVu4PjuCTuHu2yEAVYn4PzhBLPtsn2wyfJ8RZ0VVI1m/9KAfJmRRivCdosds4/KK/auHlCriPmyYmC3mOoCwzRpBS0u7+8gLMVqkSO8AGHFPHjwgG6vx05gsbx/wgfunlM1Chl00YZN/9o2u8RYzaMS8kc84hG/AZK6YRggNbPzJaqpEdrAUhlpdI86rVEmBI5BWiZYymRVpzy4P6HV26GIY4QQuJZN3dSYpoXpeBi2R57H3Dm5h7lO6XfbDNsekRQ0aQGlQtgGFJrGFJyvxuz0t0BKfFcTNytWWUw5W3B5b4/GiWm7PrPFmH67zZuePaDKG5pCUawqTh8c0ekGpKkmO2/Y6+2ikzmDTp91sWY+myKF4PDyVRqtOFvNMTwHOiUmgkzH7O9uobVCmoLBaMhHPvY8ZZlDDVntYYU+w2GbRmcsZylKK7aG29jCJej28UILY7MhaLXZaBStVpfopKbOJY4pabKGRZSQFBWNyqhyhd2KGQZdbCukzCu2+yM8v6JYCg4ODjmen6MrgaTGMiSWFOzueMRxzM7eAEPboG3u3DvDkxKEgWEahBtdAi9kvogJ2wFWUpOKgrbrslquuFvWzOZz2qGN77msVhWWZfLg7jGDUYdhp8ciXfBLt49oDQZsjUKEAYtJhrIsKqWYzyOe+vLr7A4sPprexJIGjWFD1TDc6lEWFY1hsdUdEMclHd9GJRECgzjNaGTF5s4mtTAYDduIpGC5mrO1v0EZFxRRQZ2V1LpCNgYvPXcPV4JpWdhhm8O9A07VQyoHdkdd0JLlJMb0fK4fPMaLH/4Iq/WKfm9EU2X4niaaTxC2xSyKSedjfDvgy96yT6U7CKXpDz3idQqO5q3P7tGVDqHXxj94mrV64/g5f6kR8kIl8jc6hmPRFI+OUR7xhfGGT+pNo0nSmqCl2Lu8z/O/+DyuaVJrhZIQeDau7RAnKefTOaZpQh+ieI6Fxgt9GirKqqbJwVc1da3IhWa6XvJ0+5B1tCLJElSaEvR85klGk9b4QYfHD3bY3XApSo0oDfqjLlG8QtRQug1xssYxPB6/dI2T+Rm2bqEiSbxKWK4j8qzi2vVdKp1iZhWTZIln22ArsirBtCEu1uhas1wltDseri25crhHow1WxZKeE3D37kOyqCbOIm7fOKXb83jTW5/k7oMjRN2hSEvGsxjHabB8G0ObZOuMdbIkKws4BcdrUfYqlJbEyZj7d+/T6bSxDZiMVzSmSTfsoKoVmePy5OOXiFcRs2lM0xRs+x6Hu0/z8+/5EHePTmjbIS1LEgQNi1XCem5zPsnwe208R5AsI3St6HZ6fPk3PsP94/vM7kXUVU6UrklLRVFcFN71OgFpmrNxuE3gWSR1StBuY5g+trUkXiVISxKP14xPJ1hSISybJFlyWhUM+h6GXaIKm52tTTqbFsliwVkZ4NgubrvDw1sPqKVB00jqWiFUya2bR2zv9pjOF5iWzcD3aFoel1oegQzp2AW7ox1OiiMM0yCbluQ2tAYWxarANA0sW9IUFalrUq0TakOyXqVMZgk7l3Z5cPeEZ9/5Zu7f+DitOOHo7m3OTs9wwhbH5+e0DBOlQAnB7u4lTNvAoiEvFUoG2HXJmoY6ERwdzahEgbcQvDCf81QY4tiKS7391ztUXz+EAKF/Y/e7C4HlO4+S+iO+YN7wSR0J6/WaJx+7TpxlCCm5evkyhQ/RyRJl1BRUnE/XNEpw9XCE25GYRoNQBp7nYIgWCkWlbTwXVJFiGJqveepNZMsFVbyk2w4Idgb0e21u3rqNv9liZ/8y88UKW1hUWUYQ2MxmS6oowjRt8jrD60BRwdH5lKIumSUVw36LtFhjuwZ5WVLENa1eH/oW5ydndIOAYbdPg+Lg8gF5mZOnKdJoWIzXlHXD+3/xBR67fJV2J0TXCsMzOX84pt/t4G7AapKQTxUidSjLjP6Wz2DYZnqSQCNBZSzrNf1RiEZi2Tbj83Pm9wSeZ0PdUOgaw3Q4mUypAVsrFsscQwnC3gaLWYZluJh2RJUanJ5PKU2P3cf3EY1mejrHbbepyVCWwYOzMzwnJAhgb3OLl6OIZFlSaoPbHzunzGvOxxmXnxzy4MEJZakJWwY7OxvkBbQ7Bh3HYzmLKDPJWbyk1SnoBC5eN2CxykhmC7QAZZkE7ZAma9DUrBcxaV7i9yRnJ2c887Zn+aUPvo/lJCEMbFResrkbIFoFRq3AMzFNEyEEhmXSCTs4dkOWLwEfPwz46K27bG6avP/9HybsOHiOQe02HG7uUKY54/svox3JqLtBNomxvTZ+u6aWFpY2MBwLz9Zce2KD+b0znI6JKnIqXFzfYRUVuH6Lpq7ptVySpGa2itnqbBLVEbVaEWdrdrcP6JmClz90m6gp2TncoJwv2Ls8xDMUZiOIJv9xWmfCfyASn1qTL+LXexaP+A+AN3xSNw2D/l6XW3dvg64IfBcqCUlFt+MSp4KVSjBth8C3sUTIZn+I1w7QeY5hWNiWi2nblBi0XAetc6J1wo2bx2x6Afsb++hGkVaSxTzGtQLIoZyXZOsVcSPANml7AcfrUybLBEsa9HoB2bKi3Q2RhiafF5RNQ5ILMMHQBqZjcjo+Y1vuMJnOSfOMpExpcotWp0WWZNgC1uuaIofVOuf6pUMuXS9ZzmLOpyt0KehtD9k4SBm222xsbtL+mjYvfPQO7S0fXdQ8tn+dpFhSZTOENKmbmt32LnVV0h+GtAMPrRWLyZJ2q4c2YcN2KOucgyf2MZIGx5HUVcxqXdAYLULfpSTHdAzqqMT3+rTtPmZek2UZlBK343B+lnB4+RKZWNGSNr1hi0V8j+2DK9wXd6kWGSeLE2otcdshojC4fHiVJDsn8D0evvQQLI8ds0OaLnGcmkbF9Dc26XQdykQzebgkbId4O1vEuYlvQlNGKKHY3RgwX6zob4/Y7ff56HMvcr5YYPsBZ7MJ06livcrw2yHD0Qi/3XB2NgcNXrdFltQUTU0WSR67eoXJdEVTNOz0uhy/uKD2JRvdAGEZzM6nlGnO/bvndDcHXLt6GaOpePF4jl0XuFabvEx4ODkmLRuUhGKlqOsKqRxu3TxiY9ej1d1gQyY8HJ9TN4IgMDkfL9hruRy9OGfrcAtVSDrtHkWm8MIAYTVQ5hSrmFL77PdGrI+X6NBkf6vzeofqIx7xiDcAb/ikrpSm7fu0+hardU7TKMbxETpX7G9ukKAxrZKWI3BNk/HkhFbosxf4SDS27WL7bQT6ol9dC4TpMl2fscgmzE5O8S0XlEAYsH8w4PRsjuVo4rhAmBC02ji+x/0Hx6ziGfNFjrQlq2KNZ4S0ey10o3i4OGN7sEO/3yeNWly7ssu6Tnn/ez/E7ZNb6NTg6rUDbMvj1vEdyqIiWq7p97vMkzmtVpdkHnH/6D47eptuMGC2OmOWLFEnimeeeCvJakE+T5GpgWtJ+u0hSRHz0s3n8UOPsshBOUhLcf/oIUlS8JR/nbPpCqENusMBZalxfIde0CJXBgO3TWQsaLTJahFT4/Hw9CHRbMXG5gBf+rBjYJqSZJpwPltRVjWnyyW7PgijwVAVHd1m56BPlhWU4zaOnWPXHr39gLP7K7QwaAUSVSuqOCZo97m2s4dK1wgcFquY4cZlTu4/IC8l1AauG5LGM3obIZsbbX7+l464tHcNSy5ZzTP62xuUDRSVoBv2KGpJ0mhWiwVVmbO/MWIV5PQHHUbbA0SaoaRFXTekskCvFMq0aRkGmQ2LaYbtWbjSZRnF+DuCIq9JCmjWKdKyWE5SDFfjt1rUdc5iUTDYHhKv5txarukENrYVsLE1RBUWD87nuLLC7/lcGW1xeWeHl166g9f2cZOLG07PEuxf22c1iZCbPrbXUJSC6WRK3+hyZzWnu9WhXXqsE4XpKu7fvsVkEfPks4/RlG/4UH7EIx7xJeAN/z+BaRiYjk9WJggBNg6m5RDXMaerJXFVc2Vri/SJhOgkIc4rhLIIOwFgIuWF/GslBWVdU5omy/kckoyrg0vMmLLKEzzThaYkTxSFbgi8LrVqEJZJUubUa0iTGMPqYLc0ntVGm4I0iblzd0zTWFy/+jSnyyn378xIkiUP7y7odS2SuaLjt8hUQ1M43Dk9pxSCKF9z7eCQ2XjM+fEC20nJsprLO30SUTE7nzMc9NneOeTu8S0enh5j+S7r2QzbiOltd1nOfzlZdmi3A5ZRgmNY6LykQbB3tUOnN0C4C+azFRteh40NF9OxmR5f+IW/dOsevXZIq+Wwzkt2d/bp7GzxwvMvsOG6WI5Lq3E4eniOEBq/ZZGucna2RrRcl1HPYbIYYxkO/qpFnkT43Tbn5yeMtodUcYlw1gwChzzLuHt0zsbmFltuyId/6QW8rk9daFSlee4jNzHthiyOYRt8GbJixWqVkUcppuGTxCnSabBcD9d2SKIlq6IhWE5pTI/9gy3avo8qU5Q22NkaIKRJy7BJrBwpoHY0+xvbmFIwn6+JsortjT5n81N23A3G8zHb+wds1jlVmhPlKXWtKSpIVYkqBK1tn77fZT55yGCwjS4yti8NiR4+YF6uebrdIzqdspxPGO4FmMJAFDU3Xz6mlpKdw8s4wuDG7WMqx2TQl3gC6sqA0qTdtphS0+56uJmNUQvO1zM2tza5/2DC4WP7rD5yk/Usp2d7r3eoPuIRj3gD8IZP6k3T0MQ1o57HaZVihpoiaXjs8j4nizlv3bxOlMSEsk//2ibu8Sl12bBeaqJ4SZGuKbKEslbESY4QijTLWa8TxqslZd5gm5plGtGoBttY4bk+cRGT5Tm2ZVHkNWXTYGoJcgnSZB3dQ0iDoixJsxSU5P/f3pnFWJZlhXXtfc6990VERmZWZlZlZ1dVVw/0QDOoqW43tkDIfNim+cH+sM0XyFgCWcayJfsDqz+M/GfLNpKFjASyZbAskCUbgWywPCJkAwaanuguauyqrq7KyqqsnCLecO85e29/nFd00mTNQ0aG7pJC8d6N+16c/e7db5+zzx5++8uPMnQZF2G5XqKROLHbQ4B5wU347CPPUNzIouzv7PLIkys2m0OWh0sW3S6anK88/XlCe87s7bAYnNwNnN7b557zCy4+fZXnnnmGC+86z/LQ+fJjD3P2rtPk1EOB3DvPrQt0mb2UKWNluvII95w/y+FyD42Oay9c5t4L51kfrOhSout3eOHFJYebkROn7mYajctPXeLe8w9wz/kLPP7oU9z7wHvYO3MNppFeB6bpBpvLS56vhbPnzvPRb/4wFy8+zVNPPUGd4OTJ05w4eQGN4MVrz7Hb71DXFds4+3sLIkae+eoTXF0FH/vkgzz88JepOah9Rbue7/zej3MinMcfe5RTp/a4++wJqjh25YDFiUSfHUkLbLMhLDh31yneff+9XHrmGfpQHnnoUe7/wH3spqAYbFYT13dHYhSuXnuRE3mH5796hROnB55/+jnG6ly9fMiF++/m4OqKpLscXnoe14R0yn7XM43GTpe5dvACF69d4+x9Zxi9Mq5XHPbOg9/7SZ74zCPk3VOcNeXacxumapy5cIaPf+uHePaRJ3j46Rc5d+9d7LnwX3/lf3H/ey9w+swuGvDMpYvsaGLllb4KeMIqjIfOpUsvcMV6PnT/Cb760JMc5I4L5x7g8L2VxS48c/GF262qMzMzR4Ajb9QjghOnlOevrMiubAo8+M0f5vLBiyx04LN/8DAnT+2S+sRmVVmOK2r9Kn/45GNsNpVajVoMS4C1gjKbdWWsFbfCNAY7PVQFN1iVkYPlmi51bKaJJGBuhGSitlS3GzduNEMdRrhjVglTchK6ncRUIAcUC9Zjh8UGoScIPByVINwRyQRKRCFLRvMaEkgNLJTHvSBk+q4jgGGxg0ggGvzBV15kGkfcKhqXiFBUCqI9qoJER9cLSYWsHZIyZsZ6dUC4s5MGTJy9nR4PgQhCDYkOx5mmFbuLUyzyZ1nWDTvpc4RXgkLBmcpErYUM7A6X+I3ffIjdvR26Tqg+sb9/Gg2hS0qxDYS33uW1cvrcgheuXGJ3sc9y6Xzm/3wBS4Wzd93LzhA8/NhT6OHA4xeforrT9x2XX7zKYu8ku52Q6gG1DOztClcuX6brF2wONjz99CXqtSWXrl3l3e85x+bwBldXyouXr7B/cp/33P8Ajz75ZSJldjxY1om8cUo3MOx0XLtxnWuPrPDlmoiEDsJ7338Pi3HgxliYIhgWPafedRdkR8lcvnidvl/w4fd9hAvn7+OLm8/T9wsuv3CVckb54Ifv5fHHnuHKs4dIt8dd9wj39LtcXq3ZO7PHmdP7XLl4iTixQ0dl9/Qpzp8+TZ+cq1eucf2pp/HknN3fY9o4B8+vKDuJs/vw3JNPcPXKc+Qb+zww76nPzMwAEke8j/H7H7gQP/WPf4zPfOmPyJ7YOZlZHhhWoADL9UjqM+PkeK24GKvliIoAiZBCmGDFKMUIVaobeCFIiCaGPqjVubEeSSG4ORpBWvRAJUyYamHRZ8yVG9evoSpUd8yELjfXfs4KCLgQCDknEGFnd4fTZ8+xsQ1XXriMLSc0JUSAgBCl7zpElS5BqyPiFDPUwUMY+ky3syBcca+M04S4UacJd4WoiCYiBeKKaEfOlVIDlUwghFXCJ8INEcdESNqh0mFhJCkghocikRBVIhImE5mEmePqSLRUQ68TEUbqBvpuwTAkhsVe63YXys7ugtQbWQZEg7EUyuSYOeFBFgEV+tzT95l+yGgooxeyJqIEIo5HoCgBuEx0krASDDmx3Iz0SdDcI6nD64hKJWvm1N4uBwcTRQOzSu57JIyohhdhua44TsWpHkBC1ZisYtXwpOzmjkXKFKuMKENKaOpICfa6gams8BDuuuscF86cYbU6xGk57Hff9y7ed/Yevvrc05zaX4A766S898JphtRT6kTqC9MUfMtH3sfjDz9LJTASp/bPsX+XcPXFF9nb2WXY3aEul6yqcW255tzpuwhfc/3aIZXMyd0Ff+GvffozEfGJ26asr8LLtl6dmZn5Rt6wLh/5lfo4FX7r9x7ixKk9VssVzz+54nCqjLUwpIRkgbUwFmPcjIBTiyGq7A4LlvWQ1aoQVahhBJAlkTVhFMKMdc5IKCEwTYb7REqZcXVIuJN0AIRx46zKIasyItVJKRFkRguqOe6JrEA4KEQI95w7zZm7znPu9AnyLjykhesvLulVqZEo04jSoTtC1Ap0DBlclOSKu+EoIomkYFLxWhCvmDuRFIuKm6A44RWVDmXETNBIRID7iLsDiZSlGXYEJ5oRohlbEUEkWt6vOzCBZ0zApYAXjAWB4w4qikQg2srVJhU8K6UY0zgi5ux0A12vDNohHUTeEJ7wCIYuN89CBrPKqjpJYFMr67GAOyk5i8UOJgIhjO6YF65vnKkYMRZAIEA06LsOr4lnDlaYRxtjEvzwOtUTSRXUGcsKi2gpztLhUcm0iVm3k1CEdZm4srqOOWiX6CIoAiqZxdCTgerOi+sbPP7sY1uvB/Q580eXXuD/ioIofRb6vCBn5bNf/BqdBCGJk11PlcoXvvACOzuZ82dPcniw4drpJe9e3oV2C65dX3OyCCf296jLiWwrNqs1Qs+3fPy7efSLnyXmbKiZmRnuAKO+GQuXrt7g8vUDSMqmTEyjUUtlZY6oUM2oNYgQLCYSiohyuF7hZlQLMhnNCQhIECLbVSBMm0q44bz0BR/UMqHJCRfyTuDuTFYIcxQhLfbQBFYMs4qIQFSKdUhUkkBYxqowrpasO+PKs4fUG4UdTZAVm5w8ZHKXyKp4SlQTqgdRDUXQ6P+4vvugmVU1ap2aEU1KrUZCCDWqT+ScSclJKRORCZkwS5gHgoEIQYD0pNzkdy9odRwHEZIAqQd1ooBmCDN8691IKTAH10BUWvGPAFypxelTYuMTUSqiSknXUARRR30g9SBR0BxMY/vs8k5HlgVogCQQZUCZxpFpW/+9XwwshkS3d4JSgnG5QtdrqkHB8GpogHkFdRKJ3GU8HMKwUFQFFWcqEPStrnwakBb40OTQgbo23AouBZd2XyRJWDjhhcrEuJ5IiwVZMtVGIoQIwYFqBaVSI6NZoLTtGJkcNwEqhHPRBVXhycsv0OUmt2gbZ/ZMpxmVRMrBbt4lcFQLpUJxp/+1L7E8vMLGp9uppjMzM0eEI2/UI6K5mlXQ3FGnoJbKOC6pRdtKMwINQzUDRrVCSiBJCWn7ul4DjebCjTIxehAxEQESinnFEToMD2muZ5S9vYGkmXEcGavj7kgKVJobVwARRRMgTsSIxjY3Phvr9ZKD5ZJnXxA8INzISVHLaASdKl7Bw9CUSW6IBiYJiWDRd6Ss7O4MmDvDakIWinmmjBvCwURBgq7rWOQF3c6A1US1qRncuiGRQAUVQVJGQnAVJCoEzXA5gCLRoQmSdmyyQTgughmIGxYODoqhdLgIHs4URleEsJEwQ6QjpHXIC4SoEFFIExCOTI5RSf2CPXbY2clo7kESm/UEOaEUVjUxToWokPf3OL9/klQrV8OYVkuKB0mU1Au2DhwQhMkroo4grcQusK5Leu3QSM2IJ6i10qZ7uY21rBitkkJQMiqKJyMsMCttMqiAJJabTSvcI+2zTeJo9JgF1QWnIG64dIhUNGVElGb6OyQHiBFRqaXNZ1IEXoVJKtVSk8ZhVTZAJijUWqheIZ5HJLFzYv82aOfMzMxR48gbdQIQoZTCtNm0mupu1DCEaMYQQDPjZEgyOjKGkKQinjBPRBTMDCyDtoA5jUr7qg/YnlsJIpysSt9lki4YN1NzBQNKIiUlEXjumrGw5roXqbhBXmSGRSJpT3XDokIVRAzzDqISxSkIeWMkzTiQtKAqpJSQVFpHuaRoSpR1wVQolnEvbS89oAunRhAIvQ7kPECt1FoJK1gteHUiteA9F0dDyVnRqqydZmxd2sQpVTR3aAjubQtBt6+pkahhUA0htUWtOikpXW7PkSBE6foOVd9+trkFKSIoia5POME0joQ7WRK9ONM4kSzjtmG13LRrqAHJmxHMwXJlfPWJDYMI683EsiwJ6UkieKkUryRPpFRRTW08BoaRFZQOM8gpGPpEjVYLwQyCipvRzqJVrsNwq8ACTxWRQkQQ1Rk1SNFhVlhKkJLQa5vwRAhtliQtMFKcnJTA6XLCvKJV0EVq44tAYiK5Qu7oU4d7xcUhBNu0rSONjDMhKKGgkVp8x+H4jqvmzMzM0UNf7QQR+Tci8ryI/OFNx35SRJ4Rkc9tf77/pr/9QxF5TEQeFpG/dNPxj4vIF7d/+5ciIq9lgB7OwXLD8mDNuFwzTgWbAmpqe6WSm9EIYeg6UkpUFyKC5bIZCo+2YpVQVAtBIOFE2/huLvoQTJ0aMLmwngrL9cSly1c4WN5gsoLhFAd1JUqCOiG1MtWJWteUEgg9vXYs+oQD4U4U37pNhZSDruvZWXQMndD1Pdq3+uE5bQPtrFCnwF2pU2E1LTm0FeNYKGViqoa5UC0otYAauUttlYvQfA5tW2CySo0WfhWR0DASiptTzchW8aiEGCEtLgBrBjq2prtGIiSQLmDYGsqoBE5YJqYN43hAndZM1SilbVFkBjQAo3lEEHJ2MpDCSdaC+qapsjqcOFyuOTxYceX6kuVmxVQ2VHP63LG/f4JuZ5fcLajJuV4rh3UkayJLsC4jUylgwmRQt/EBOSf6XlkMudU5kERIIlzRSC2bIDWvg5sTYVQvuAsWipUWhBiMRJ3AgmrtvjFzqk2IVoQK7rglkELISFigXhGruBvFDK/ONBVKNaYYm8dpnAhv18F8opTKZqrUEkxTYMURU9xkuzqX7bmFGs7kzsY2r0nhb7c+z8zMvL28lpX6vwV+GviFbzj+UxHxz24+ICIfBX4Q+Bbg3cD/EJEPRYQBPwP8KPA7wK8B3wf8+qv9c3djtVy2qHAXIoycFaOjVAMHNIhUqWOgBMUdnwyvidQFyYJhAHPf7okqQZBDW6S5OBreVsuRm0FkoloQJriAaUWBakpIYN72YEOc8IRqIqvQLTLSJcZNotYJ89qK2ISyyD3a9dt9bkXDGPrmDnd3aotGwyMIC5CCDDuMAbKesOpbd64wRSVpoh8WbQ82K0NuK+6wAfMRNJPUcBc6aDEAErhVIjZYi/9Hqbh0QJMnCdtJQHPBN4Pck7OQQxirY+KkAMEIT9TJ6XaNLIGJsJo2LfYgtT1jVSciUQymqGQCuubl8HDGamRPGGvMwGkufSZj2FuQyVCFwoRGJiVIfcFKBQ9yxPbaBmGVaoJGRVRIdGjqMGnbCFTDUrveWNu+8dAWXxBKjUoKRwAig/TggUeh0lz9Li1d0DWTosO9bYWMOL0IYs2h77KdEAHqleqBakdCsGyIt2BF9boN4BtQD7wWXL1NCjXRoa2dsHrbUYkgot1XCSdeu0m9rfo8MzPz9vKqRj0iflNE3vsa3+8HgF+KiBH4iog8BnxSRJ4ETkbEbwOIyC8Af5nX8CWgqohmSnVyClJSSjXCmzuS2AaMTWClrbTDaa5RNcISilPMgaHt/wp0ERiKijU3s2pzDmclrOAIKcCzNzdoFYo4iYlSOiQElY5QZ0hKSGLRd3RDQiJRY2SaJsBISXENUqdbF+weLhucTEhPuDCWQq1BhyBZ0SQYLVUvQhhLxSkkAZXE0HXkbSvTSBm8MtWCWqFuV63ubZIgbRRt3e0J9xERSKlHIqFRkHDQtnI1HKftpQs9IokuJxKJsRRcQbyCJEJoxkgyUTLFA0nSpgvJm3cEheqYtlayWgVSEJbw6s3LgJKyY/RtZRzeUs8STDZSVhNhGdXAqKzHClKAtgIGQVPGpLYJWhTKNBCq5AT41BrdWEUx8A60ggQSQY2KeJvOSbTPvHXzrFgI4C0eIRQXJxw8gi4c7Z1cwQQ0Rtz6FniHkTyTUm7B+QEW2vz66q3GgDTZLYRec4tvQBFpqZQQbVUuLUI/kZAE2YMagVJAlVaI4dW53fo8MzPz9vJm9tR/XER+CPh94O9HxFXgXtrM/SW+tj1Wto+/8fgtEZEfpa0CGIYeC2+rbJcW0OYVSQLeVrvVnGrRVlrb/e0+FLS1ZHR1Mh0aGcUIqbgGQSW5kElEaule4o55apHvRdAozeBv9+5dMx0KAkm8vb8kkiikjJeXxjhSw+mystjZbXvRqtQ6Ah14c/V6rZRwat2ACQUlp55uG9AW28lFdmU0R3LLrW/tybXteQcIbfU2lpFSDEmVTEcktsa5RftnSYRmSAMqYOFIl4ipTRYkDIvSPltJqLYMAzBkW2BnMQxMHhCZkEA1IdnAjamOiCmaoUt9myDYBjWQrkNFMZ3AW268YVipLLrAS26BYrlNBOo0ER5YUdyheEUjWjpd8vb5RybJdpUekCNjaaJMLVhAJ6HmARJoTFi0GvZJBUMR6VAfW1CbNMMenlrMBYkqDl5RMk5C3TCCYWgTJjSI9uaot+qBgoAaQocHaGi7XkKLDdAWI5BCkVCgVSss7mQBqC8pQsurdygqpKi4CFFbbINEC5LM3iYab5K3RZ9v1uWZmZm3n1fdU38Zfgb4APAx4CLwz7fHb+UEjFc4fksi4mcj4hMR8Ym+37pataUlkWiBVtsgpuKORRBVcA+goFIRorl/Rcma2xdtqtuUKSGFskDaKlIgIuFRqT5ibi0CmWiu28iknOi7RL8tGtMPAzun9jhx9iTphJEFvFZqGalWmMaKVyCE6huSBqUIxYRNWbNabxhHo1bHbURqtCC8LshK2+83RTyota3GFkPHkDo6CZIkkEqIM3ppKeWheKQWoFWEqC2K2jwRdFh1qq3wUqhTbdsDxdGq7Ha7WwevIhKEBhKpRew3ZzymQVJlp9tld/cEw5Dp+x5UCWuZBanfuoUtsGpMpTCVickLm7piHEeswFQLtVTK6NQysVyvOFgumcYNUlvkedYepaXjqWb6lKh9hWwMSelk0coAOlQ3RpuwqOS0YHexRz/0gFLrpu2H05MzkBLiBiYtdz9ajwB0QDSjSRGaF6TfHeh3dki9tyh47ciA16DYNqK/eqs1oEqX+hboKLkFVOaOlCrQAghF+lYfQIVI2u7HpIi2VENNCRVBCVQB2U4ItoGL1Z1SDC+BlYr5BvO69Qy8Yd42fb5Zl9/MAF+Oga9X0pOm8W/q/b6JT3Ev38mtRTzq3IljnnmreUMr9Yi49NJjEfk54D9vn34NuP+mU+8Dnt0ev+8Wx1/Lf6PvEhOGSyVr4JHJ4UzWcpFFgNxcxxE9rf5HRcQR0baiQ1sxFW1RW+FCSIt8dw20BDUcy0rXCxIZkQl3a8ZSUot0D+Hud5/hQ9/6TaRinDqzz4sc8lu/8bvo9RYeJtqhQ6C1ENK+2Pf3dlltJsoYUBwT6LqE0YKgIrXx5e2XUohhYWgVLJrrl6Q4rbCOubUGIQSLIUN0UErb96fbBms5HmmbPhXbKniBm7cI+jAqHX20PPl+UNw7qtWWBpZrqywXbYUuoe2dtJK0w7Tl8ZtPZM1YJKQ6Ea1KmxWj5WMnNAJUKF0hfHutCCapUEYUocs94ybwIZPI5Nz2w41AxRFVduia8fbAY2qeAjJZHNVm4M0qKSlkoZqQrLbodh9ZDAN9diJncGccK9O0HW+0iSAJkibO3X833/Hd38Z4+ZCpFp65+hxPfv4JplHREi22QhW0It5S02AbDyAt3kBxQhKukEPa9RNBmguFkG25m+wMi8wid2R6ijU5Wo59Qqy0NPoWwdii66HVhxfZelPeGO+sPr+1THy96s5LyYxv9v3+Kv+B3+Gn+D3+Fcadk/9/kns54CKBvebXJAbO8RGu8vif+Cxn7lze0EpdRC7c9PSvAC9F0v4q8IMiMojI+4APAr8bEReBAxH5s9so2R8CfuU1/bOA9WrDtBHGKdisYbM2xtEIg/CgGlhMLY+aSpJm8BAQzUge0NTRpVZJTntBU4uxQwITGJMxpkBsILXQo20hkL7lfw+JnUXPyVN7vPc993Nq7xynzr4L0gkOL+7zkfd/M3d/4Bx0CTw4kfZZ7O6zf+oEp0+cJFkiRmca28qqW/Tk1NEnJ/dC3yWGnR7tMoLSJaXrcwv0yx2geCl4CB7WCr1Y2+8Xa6v5Mq7/ON1O00DeGdjZ2yUNeyRpNeFzypAAMbL3dCloJWkn8IKKoqnHvUVbFw8sRkKD+z7ybr79uz7Mx/7MB/jg99xPOmG4gZKpbjiViDWmLdo7GNtKmgnTFl1ea1DrRJggCL0qaMIjUYqxWo+sVkvWyxXT2OIjxGG0bXnZEEgJC8HNsCJYrYQLXdojpRbUFiXAoiU3asK14jpidaJGImmmS9vcchV6TWQR+l7pdxP3fuAe3nXPaTgYGHbPcve99/FtH/l2LnzgfiQFIkqWAjK2iQTWjHwKtOvY6RdkVcLbPZqqNpsflcoIOpKkbIvftHoEJ3QgWSYChk7o+4E+pdZIKG09CG0vBt16nXybShn+xt3v76g+v8X8aQMWdOxynm/njRj4p/kt/gt/i3fxIB/jb7wlY3ynuMHXXoNBFwZO/vEzJfEd/Ah/nV/eeiiOD4l+ex/cmo5d7ue7SPTv4Kjefl619ruI/CLw54FzwCXgH22ff4zmcnsS+LGtoiMinwZ+hLYx+Pci4te3xz9Bi7zdoQXU/J14DYXnReQAePh1ynXUOAdcvt2DeAs4DnIcBxng1nI8EBF3v9KLbqc+HxNdhuNxDx0HGeB4yPGGdPnlOPINXUTk949yk4rXwnGQAY6HHMdBBrgz5bgTx3wrjoMcx0EGOB5yvNUyvNFAuZmZmZmZmZkjxmzUZ2ZmZmZmjgl3glH/2ds9gLeA4yADHA85joMMcGfKcSeO+VYcBzmOgwxwPOR4S2U48nvqMzMzMzMzM6+NO2GlPjMzMzMzM/MaOLJGXUS+b9sZ6jER+YnbPZ5XQ0Se3Hat+pyI/P722BkR+e8i8uj29103nX/L7lfv8Jhv1bHrdY/5dnfsOg6dx0TkfhH53yLykIh8SUT+7vb4HXc9bsWdpM93oi5vx3HH6/Osy2+BHBFx5H5o5VEeB94P9MDngY/e7nG9ypifBM59w7F/CvzE9vFPAP9k+/ijW5kG4H1bWdNtGPP3AA8Cf/hmxgz8LvDnaNU+fh341BGQ4yeBf3CLc4+kHMAF4MHt433gke1Y77jrcQvZ7ih9vhN1eTuWO16fZ11+83Ic1ZX6J4HHIuKJiJiAX6J1jLrT+AHg57ePf57Wyeql478UEWNEfAV4jCbzO0pE/CZw5RsOv64xS6tGdjIifjvaXfgLN73mHeFl5Hg5jqQcEXExIv5g+/gAeIjWJOWOux634Djo85HWZTge+jzr8puX46ga9XuBp296/opd3Y4IAfw3EfmMtM5UAOdjW5lr+/ue7fGjLN/rHfO9vI4OfO8wPy4iX9i69F5ydR15OaS1Rv0O4P9xPK7HUb7fb8Vx0WU4HvcPzLp88/FX5Kga9dfV1e2I8F0R8SDwKeBvi8j3vMK5d6J8b0kHvneQt7WT4NuFiJwA/iOtJOuNVzr1FseOjBzfwFEc0ytx3HUZ7qz7Z9blP3n8FTmqRv3lukMdWSLi2e3v54FfprngLm1dKC81zXh+e/pRlu/1jvnIdOy6mYi4FBEWEQ78HF93iR5ZOUSko30J/PuI+E/bw8fhehzl+/1PcYx0GY7B/TPr8p86/oocVaP+e8AHReR9ItIDP0jrGHUkEZE9Edl/6THwF2mdrn4V+OHtaT/M1ztZ3bL71Ts76pfldY05jlDHrpuRO6zz2PZ//mvgoYj4Fzf96ThcjztGn4+ZLsMxuH9mXX6dcrxTEYGv9wf4flrU4OPAp2/3eF5lrO+nRS9+HvjSS+MFzgL/E3h0+/vMTa/59Fa2h7lN0cnAL9LcWYU2K/ybb2TMwCdoivY48NNsixrdZjn+HfBF4AtbpblwlOUAvpvmWvsC8Lntz/ffidfjZeS7I/T5TtXl7TjueH2edfnNyzFXlJuZmZmZmTkmHFX3+8zMzMzMzMzrZDbqMzMzMzMzx4TZqM/MzMzMzBwTZqM+MzMzMzNzTJiN+szMzMzMzDFhNuozMzMzMzPHhNmoz8zMzMzMHBNmoz4zMzMzM3NM+P8lB0B/F6WI7AAAAABJRU5ErkJggg==\n",
      "text/plain": [
       "<Figure size 576x576 with 2 Axes>"
      ]
     },
     "metadata": {
      "needs_background": "light"
     },
     "output_type": "display_data"
    }
   ],
   "source": [
    "#model.load_weights(os.path.join(os.getcwd(),'multiclass_exps/CNN_Dec15_01-23-05/ckpts/cp.ckpt'))\n",
    "\n",
    "fig, ax = plt.subplots(1, 2, figsize=(8, 8))\n",
    "fig.show()\n",
    "\n",
    "image = Image.open(os.path.join(test_dir[0], 'Images/Bipbip_mais_im_03621.jpg'))\n",
    "#mask = rme.read_rgb_mask(os.path.join(self.dataset_dir, 'Masks', curr_filename + '.png'))\n",
    "         \n",
    "\n",
    "img_arr = preprocess_input( tf.expand_dims(np.array(image), 0))\n",
    "\n",
    "\n",
    "patches = tf.image.extract_patches(images=img_arr,\n",
    "                        sizes=[1, img_h, img_w, 1],\n",
    "                        strides=[1, img_h, img_w, 1],\n",
    "                        rates=[1, 1, 1, 1],\n",
    "                        padding='VALID')\n",
    "patches = tf.reshape(patches, [8, 768, 512, 3])\n",
    "\n",
    "\n",
    "# Resize image and mask\n",
    "#image = image.resize([img_w,img_h])\n",
    "\n",
    "predictions = []\n",
    "\n",
    "for j in range (0,8):\n",
    "    out_sigmoid = model.predict(x=tf.expand_dims(patches[j],0))\n",
    "\n",
    "    # Get predicted class as the index corresponding to the maximum value in the vector probability\n",
    "    # predicted_class = tf.cast(out_sigmoid > score_th, tf.int32)\n",
    "    # predicted_class = predicted_class[0, ..., 0]\n",
    "    predicted_class = tf.argmax(out_sigmoid, -1)\n",
    "\n",
    "    out_sigmoid.shape\n",
    "\n",
    "    predicted_class = predicted_class[0, ...]\n",
    "\n",
    "    prediction_img = np.zeros([img_h, img_w, 3])\n",
    "\n",
    "\n",
    "    prediction_img[np.where(predicted_class == 0)] = [0, 0, 0]\n",
    "    for i in range(1, 3):\n",
    "      prediction_img[np.where(predicted_class == i)] = np.array(colors[i-1])[:3] * 255\n",
    "\n",
    "#     ax[0].imshow(np.uint8(patches[j]))\n",
    "#     ax[1].imshow(np.uint8(prediction_img))\n",
    "\n",
    "    predictions.append(prediction_img)\n",
    "    \n",
    "    fig.canvas.draw()\n",
    "    time.sleep(1)\n",
    "    \n",
    "total = tf.concat([predictions[0], predictions[4]], 0)\n",
    "\n",
    "for x in range (1,4):\n",
    "    result=tf.concat([predictions[x], predictions[x+4]], 0)\n",
    "    total=tf.concat([total, result], 1)\n",
    "    \n",
    "ax[0].imshow(np.uint8(image))\n",
    "ax[1].imshow(np.uint8(total))"
   ]
  },
  {
   "cell_type": "code",
   "execution_count": 70,
   "metadata": {
    "id": "M75UjH7xxS7J"
   },
   "outputs": [
    {
     "data": {
      "text/plain": [
       "<tf.Tensor: shape=(1, 768, 512, 3), dtype=uint8, numpy=\n",
       "array([[[[ 57,  53,  76],\n",
       "         [ 60,  55,  62],\n",
       "         [ 55,  56,  40],\n",
       "         ...,\n",
       "         [ 76,  53,  45],\n",
       "         [ 64,  57,  31],\n",
       "         [ 59,  67,  28]],\n",
       "\n",
       "        [[ 56,  58,  57],\n",
       "         [ 58,  60,  49],\n",
       "         [ 54,  58,  33],\n",
       "         ...,\n",
       "         [ 62,  56,  40],\n",
       "         [ 61,  64,  37],\n",
       "         [ 58,  68,  33]],\n",
       "\n",
       "        [[ 58,  63,  40],\n",
       "         [ 61,  65,  38],\n",
       "         [ 59,  66,  33],\n",
       "         ...,\n",
       "         [ 54,  57,  36],\n",
       "         [ 60,  65,  42],\n",
       "         [ 59,  65,  39]],\n",
       "\n",
       "        ...,\n",
       "\n",
       "        [[114,  88,  61],\n",
       "         [112,  92,  67],\n",
       "         [104,  95,  66],\n",
       "         ...,\n",
       "         [105, 149,  86],\n",
       "         [105, 150,  81],\n",
       "         [104, 144,  73]],\n",
       "\n",
       "        [[120,  97,  66],\n",
       "         [112,  96,  70],\n",
       "         [103,  99,  72],\n",
       "         ...,\n",
       "         [ 97, 145,  69],\n",
       "         [ 98, 144,  69],\n",
       "         [102, 144,  70]],\n",
       "\n",
       "        [[115, 101,  62],\n",
       "         [109, 102,  73],\n",
       "         [103, 107,  80],\n",
       "         ...,\n",
       "         [ 98, 147,  56],\n",
       "         [ 99, 144,  63],\n",
       "         [103, 143,  72]]]], dtype=uint8)>"
      ]
     },
     "execution_count": 70,
     "metadata": {},
     "output_type": "execute_result"
    }
   ],
   "source": [
    "tf.expand_dims(patches[0],0)"
   ]
  },
  {
   "cell_type": "code",
   "execution_count": 108,
   "metadata": {},
   "outputs": [],
   "source": [
    "\n"
   ]
  },
  {
   "cell_type": "code",
   "execution_count": 106,
   "metadata": {
    "collapsed": true,
    "jupyter": {
     "outputs_hidden": true
    }
   },
   "outputs": [
    {
     "data": {
      "text/plain": [
       "[array([[[128.5       , 254.99516197, 179.75601446],\n",
       "         [127.5       ,   0.        , 255.        ],\n",
       "         [127.5       ,   0.        , 255.        ],\n",
       "         ...,\n",
       "         [  0.        ,   0.        ,   0.        ],\n",
       "         [  0.        ,   0.        ,   0.        ],\n",
       "         [  0.        ,   0.        ,   0.        ]],\n",
       " \n",
       "        [[128.5       , 254.99516197, 179.75601446],\n",
       "         [  0.        ,   0.        ,   0.        ],\n",
       "         [  0.        ,   0.        ,   0.        ],\n",
       "         ...,\n",
       "         [  0.        ,   0.        ,   0.        ],\n",
       "         [  0.        ,   0.        ,   0.        ],\n",
       "         [  0.        ,   0.        ,   0.        ]],\n",
       " \n",
       "        [[128.5       , 254.99516197, 179.75601446],\n",
       "         [  0.        ,   0.        ,   0.        ],\n",
       "         [  0.        ,   0.        ,   0.        ],\n",
       "         ...,\n",
       "         [  0.        ,   0.        ,   0.        ],\n",
       "         [  0.        ,   0.        ,   0.        ],\n",
       "         [  0.        ,   0.        ,   0.        ]],\n",
       " \n",
       "        ...,\n",
       " \n",
       "        [[128.5       , 254.99516197, 179.75601446],\n",
       "         [128.5       , 254.99516197, 179.75601446],\n",
       "         [128.5       , 254.99516197, 179.75601446],\n",
       "         ...,\n",
       "         [  0.        ,   0.        ,   0.        ],\n",
       "         [  0.        ,   0.        ,   0.        ],\n",
       "         [  0.        ,   0.        ,   0.        ]],\n",
       " \n",
       "        [[128.5       , 254.99516197, 179.75601446],\n",
       "         [128.5       , 254.99516197, 179.75601446],\n",
       "         [128.5       , 254.99516197, 179.75601446],\n",
       "         ...,\n",
       "         [  0.        ,   0.        ,   0.        ],\n",
       "         [  0.        ,   0.        ,   0.        ],\n",
       "         [  0.        ,   0.        ,   0.        ]],\n",
       " \n",
       "        [[  0.        ,   0.        ,   0.        ],\n",
       "         [128.5       , 254.99516197, 179.75601446],\n",
       "         [128.5       , 254.99516197, 179.75601446],\n",
       "         ...,\n",
       "         [  0.        ,   0.        ,   0.        ],\n",
       "         [  0.        ,   0.        ,   0.        ],\n",
       "         [  0.        ,   0.        ,   0.        ]]]),\n",
       " array([[[  0.        ,   0.        ,   0.        ],\n",
       "         [  0.        ,   0.        ,   0.        ],\n",
       "         [  0.        ,   0.        ,   0.        ],\n",
       "         ...,\n",
       "         [  0.        ,   0.        ,   0.        ],\n",
       "         [  0.        ,   0.        ,   0.        ],\n",
       "         [  0.        ,   0.        ,   0.        ]],\n",
       " \n",
       "        [[  0.        ,   0.        ,   0.        ],\n",
       "         [  0.        ,   0.        ,   0.        ],\n",
       "         [  0.        ,   0.        ,   0.        ],\n",
       "         ...,\n",
       "         [  0.        ,   0.        ,   0.        ],\n",
       "         [  0.        ,   0.        ,   0.        ],\n",
       "         [  0.        ,   0.        ,   0.        ]],\n",
       " \n",
       "        [[  0.        ,   0.        ,   0.        ],\n",
       "         [  0.        ,   0.        ,   0.        ],\n",
       "         [  0.        ,   0.        ,   0.        ],\n",
       "         ...,\n",
       "         [  0.        ,   0.        ,   0.        ],\n",
       "         [  0.        ,   0.        ,   0.        ],\n",
       "         [  0.        ,   0.        ,   0.        ]],\n",
       " \n",
       "        ...,\n",
       " \n",
       "        [[128.5       , 254.99516197, 179.75601446],\n",
       "         [127.5       ,   0.        , 255.        ],\n",
       "         [127.5       ,   0.        , 255.        ],\n",
       "         ...,\n",
       "         [  0.        ,   0.        ,   0.        ],\n",
       "         [  0.        ,   0.        ,   0.        ],\n",
       "         [  0.        ,   0.        ,   0.        ]],\n",
       " \n",
       "        [[128.5       , 254.99516197, 179.75601446],\n",
       "         [127.5       ,   0.        , 255.        ],\n",
       "         [127.5       ,   0.        , 255.        ],\n",
       "         ...,\n",
       "         [  0.        ,   0.        ,   0.        ],\n",
       "         [  0.        ,   0.        ,   0.        ],\n",
       "         [  0.        ,   0.        ,   0.        ]],\n",
       " \n",
       "        [[127.5       ,   0.        , 255.        ],\n",
       "         [  0.        ,   0.        ,   0.        ],\n",
       "         [128.5       , 254.99516197, 179.75601446],\n",
       "         ...,\n",
       "         [  0.        ,   0.        ,   0.        ],\n",
       "         [  0.        ,   0.        ,   0.        ],\n",
       "         [  0.        ,   0.        ,   0.        ]]]),\n",
       " array([[[  0.        ,   0.        ,   0.        ],\n",
       "         [  0.        ,   0.        ,   0.        ],\n",
       "         [  0.        ,   0.        ,   0.        ],\n",
       "         ...,\n",
       "         [  0.        ,   0.        ,   0.        ],\n",
       "         [  0.        ,   0.        ,   0.        ],\n",
       "         [  0.        ,   0.        ,   0.        ]],\n",
       " \n",
       "        [[  0.        ,   0.        ,   0.        ],\n",
       "         [  0.        ,   0.        ,   0.        ],\n",
       "         [  0.        ,   0.        ,   0.        ],\n",
       "         ...,\n",
       "         [  0.        ,   0.        ,   0.        ],\n",
       "         [  0.        ,   0.        ,   0.        ],\n",
       "         [  0.        ,   0.        ,   0.        ]],\n",
       " \n",
       "        [[  0.        ,   0.        ,   0.        ],\n",
       "         [  0.        ,   0.        ,   0.        ],\n",
       "         [  0.        ,   0.        ,   0.        ],\n",
       "         ...,\n",
       "         [  0.        ,   0.        ,   0.        ],\n",
       "         [  0.        ,   0.        ,   0.        ],\n",
       "         [  0.        ,   0.        ,   0.        ]],\n",
       " \n",
       "        ...,\n",
       " \n",
       "        [[  0.        ,   0.        ,   0.        ],\n",
       "         [  0.        ,   0.        ,   0.        ],\n",
       "         [  0.        ,   0.        ,   0.        ],\n",
       "         ...,\n",
       "         [  0.        ,   0.        ,   0.        ],\n",
       "         [  0.        ,   0.        ,   0.        ],\n",
       "         [128.5       , 254.99516197, 179.75601446]],\n",
       " \n",
       "        [[  0.        ,   0.        ,   0.        ],\n",
       "         [  0.        ,   0.        ,   0.        ],\n",
       "         [  0.        ,   0.        ,   0.        ],\n",
       "         ...,\n",
       "         [128.5       , 254.99516197, 179.75601446],\n",
       "         [128.5       , 254.99516197, 179.75601446],\n",
       "         [128.5       , 254.99516197, 179.75601446]],\n",
       " \n",
       "        [[  0.        ,   0.        ,   0.        ],\n",
       "         [  0.        ,   0.        ,   0.        ],\n",
       "         [  0.        ,   0.        ,   0.        ],\n",
       "         ...,\n",
       "         [128.5       , 254.99516197, 179.75601446],\n",
       "         [  0.        ,   0.        ,   0.        ],\n",
       "         [128.5       , 254.99516197, 179.75601446]]]),\n",
       " array([[[  0.        ,   0.        ,   0.        ],\n",
       "         [  0.        ,   0.        ,   0.        ],\n",
       "         [  0.        ,   0.        ,   0.        ],\n",
       "         ...,\n",
       "         [  0.        ,   0.        ,   0.        ],\n",
       "         [  0.        ,   0.        ,   0.        ],\n",
       "         [  0.        ,   0.        ,   0.        ]],\n",
       " \n",
       "        [[  0.        ,   0.        ,   0.        ],\n",
       "         [  0.        ,   0.        ,   0.        ],\n",
       "         [  0.        ,   0.        ,   0.        ],\n",
       "         ...,\n",
       "         [  0.        ,   0.        ,   0.        ],\n",
       "         [  0.        ,   0.        ,   0.        ],\n",
       "         [  0.        ,   0.        ,   0.        ]],\n",
       " \n",
       "        [[  0.        ,   0.        ,   0.        ],\n",
       "         [  0.        ,   0.        ,   0.        ],\n",
       "         [  0.        ,   0.        ,   0.        ],\n",
       "         ...,\n",
       "         [  0.        ,   0.        ,   0.        ],\n",
       "         [  0.        ,   0.        ,   0.        ],\n",
       "         [  0.        ,   0.        ,   0.        ]],\n",
       " \n",
       "        ...,\n",
       " \n",
       "        [[128.5       , 254.99516197, 179.75601446],\n",
       "         [127.5       ,   0.        , 255.        ],\n",
       "         [127.5       ,   0.        , 255.        ],\n",
       "         ...,\n",
       "         [  0.        ,   0.        ,   0.        ],\n",
       "         [  0.        ,   0.        ,   0.        ],\n",
       "         [  0.        ,   0.        ,   0.        ]],\n",
       " \n",
       "        [[127.5       ,   0.        , 255.        ],\n",
       "         [127.5       ,   0.        , 255.        ],\n",
       "         [127.5       ,   0.        , 255.        ],\n",
       "         ...,\n",
       "         [  0.        ,   0.        ,   0.        ],\n",
       "         [  0.        ,   0.        ,   0.        ],\n",
       "         [  0.        ,   0.        ,   0.        ]],\n",
       " \n",
       "        [[127.5       ,   0.        , 255.        ],\n",
       "         [  0.        ,   0.        ,   0.        ],\n",
       "         [  0.        ,   0.        ,   0.        ],\n",
       "         ...,\n",
       "         [  0.        ,   0.        ,   0.        ],\n",
       "         [  0.        ,   0.        ,   0.        ],\n",
       "         [  0.        ,   0.        ,   0.        ]]]),\n",
       " array([[[128.5       , 254.99516197, 179.75601446],\n",
       "         [128.5       , 254.99516197, 179.75601446],\n",
       "         [128.5       , 254.99516197, 179.75601446],\n",
       "         ...,\n",
       "         [  0.        ,   0.        ,   0.        ],\n",
       "         [  0.        ,   0.        ,   0.        ],\n",
       "         [  0.        ,   0.        ,   0.        ]],\n",
       " \n",
       "        [[128.5       , 254.99516197, 179.75601446],\n",
       "         [128.5       , 254.99516197, 179.75601446],\n",
       "         [128.5       , 254.99516197, 179.75601446],\n",
       "         ...,\n",
       "         [  0.        ,   0.        ,   0.        ],\n",
       "         [  0.        ,   0.        ,   0.        ],\n",
       "         [  0.        ,   0.        ,   0.        ]],\n",
       " \n",
       "        [[128.5       , 254.99516197, 179.75601446],\n",
       "         [128.5       , 254.99516197, 179.75601446],\n",
       "         [128.5       , 254.99516197, 179.75601446],\n",
       "         ...,\n",
       "         [  0.        ,   0.        ,   0.        ],\n",
       "         [  0.        ,   0.        ,   0.        ],\n",
       "         [  0.        ,   0.        ,   0.        ]],\n",
       " \n",
       "        ...,\n",
       " \n",
       "        [[128.5       , 254.99516197, 179.75601446],\n",
       "         [  0.        ,   0.        ,   0.        ],\n",
       "         [  0.        ,   0.        ,   0.        ],\n",
       "         ...,\n",
       "         [  0.        ,   0.        ,   0.        ],\n",
       "         [  0.        ,   0.        ,   0.        ],\n",
       "         [128.5       , 254.99516197, 179.75601446]],\n",
       " \n",
       "        [[127.5       ,   0.        , 255.        ],\n",
       "         [127.5       ,   0.        , 255.        ],\n",
       "         [127.5       ,   0.        , 255.        ],\n",
       "         ...,\n",
       "         [128.5       , 254.99516197, 179.75601446],\n",
       "         [128.5       , 254.99516197, 179.75601446],\n",
       "         [128.5       , 254.99516197, 179.75601446]],\n",
       " \n",
       "        [[  0.        ,   0.        ,   0.        ],\n",
       "         [  0.        ,   0.        ,   0.        ],\n",
       "         [  0.        ,   0.        ,   0.        ],\n",
       "         ...,\n",
       "         [  0.        ,   0.        ,   0.        ],\n",
       "         [  0.        ,   0.        ,   0.        ],\n",
       "         [128.5       , 254.99516197, 179.75601446]]]),\n",
       " array([[[  0.        ,   0.        ,   0.        ],\n",
       "         [127.5       ,   0.        , 255.        ],\n",
       "         [127.5       ,   0.        , 255.        ],\n",
       "         ...,\n",
       "         [  0.        ,   0.        ,   0.        ],\n",
       "         [  0.        ,   0.        ,   0.        ],\n",
       "         [127.5       ,   0.        , 255.        ]],\n",
       " \n",
       "        [[127.5       ,   0.        , 255.        ],\n",
       "         [127.5       ,   0.        , 255.        ],\n",
       "         [127.5       ,   0.        , 255.        ],\n",
       "         ...,\n",
       "         [  0.        ,   0.        ,   0.        ],\n",
       "         [  0.        ,   0.        ,   0.        ],\n",
       "         [  0.        ,   0.        ,   0.        ]],\n",
       " \n",
       "        [[127.5       ,   0.        , 255.        ],\n",
       "         [127.5       ,   0.        , 255.        ],\n",
       "         [127.5       ,   0.        , 255.        ],\n",
       "         ...,\n",
       "         [  0.        ,   0.        ,   0.        ],\n",
       "         [  0.        ,   0.        ,   0.        ],\n",
       "         [127.5       ,   0.        , 255.        ]],\n",
       " \n",
       "        ...,\n",
       " \n",
       "        [[128.5       , 254.99516197, 179.75601446],\n",
       "         [  0.        ,   0.        ,   0.        ],\n",
       "         [  0.        ,   0.        ,   0.        ],\n",
       "         ...,\n",
       "         [  0.        ,   0.        ,   0.        ],\n",
       "         [  0.        ,   0.        ,   0.        ],\n",
       "         [  0.        ,   0.        ,   0.        ]],\n",
       " \n",
       "        [[128.5       , 254.99516197, 179.75601446],\n",
       "         [  0.        ,   0.        ,   0.        ],\n",
       "         [  0.        ,   0.        ,   0.        ],\n",
       "         ...,\n",
       "         [  0.        ,   0.        ,   0.        ],\n",
       "         [  0.        ,   0.        ,   0.        ],\n",
       "         [  0.        ,   0.        ,   0.        ]],\n",
       " \n",
       "        [[  0.        ,   0.        ,   0.        ],\n",
       "         [  0.        ,   0.        ,   0.        ],\n",
       "         [  0.        ,   0.        ,   0.        ],\n",
       "         ...,\n",
       "         [  0.        ,   0.        ,   0.        ],\n",
       "         [  0.        ,   0.        ,   0.        ],\n",
       "         [128.5       , 254.99516197, 179.75601446]]]),\n",
       " array([[[  0.        ,   0.        ,   0.        ],\n",
       "         [  0.        ,   0.        ,   0.        ],\n",
       "         [  0.        ,   0.        ,   0.        ],\n",
       "         ...,\n",
       "         [  0.        ,   0.        ,   0.        ],\n",
       "         [  0.        ,   0.        ,   0.        ],\n",
       "         [128.5       , 254.99516197, 179.75601446]],\n",
       " \n",
       "        [[  0.        ,   0.        ,   0.        ],\n",
       "         [  0.        ,   0.        ,   0.        ],\n",
       "         [  0.        ,   0.        ,   0.        ],\n",
       "         ...,\n",
       "         [  0.        ,   0.        ,   0.        ],\n",
       "         [  0.        ,   0.        ,   0.        ],\n",
       "         [128.5       , 254.99516197, 179.75601446]],\n",
       " \n",
       "        [[  0.        ,   0.        ,   0.        ],\n",
       "         [  0.        ,   0.        ,   0.        ],\n",
       "         [  0.        ,   0.        ,   0.        ],\n",
       "         ...,\n",
       "         [  0.        ,   0.        ,   0.        ],\n",
       "         [  0.        ,   0.        ,   0.        ],\n",
       "         [128.5       , 254.99516197, 179.75601446]],\n",
       " \n",
       "        ...,\n",
       " \n",
       "        [[  0.        ,   0.        ,   0.        ],\n",
       "         [  0.        ,   0.        ,   0.        ],\n",
       "         [  0.        ,   0.        ,   0.        ],\n",
       "         ...,\n",
       "         [  0.        ,   0.        ,   0.        ],\n",
       "         [  0.        ,   0.        ,   0.        ],\n",
       "         [  0.        ,   0.        ,   0.        ]],\n",
       " \n",
       "        [[  0.        ,   0.        ,   0.        ],\n",
       "         [  0.        ,   0.        ,   0.        ],\n",
       "         [  0.        ,   0.        ,   0.        ],\n",
       "         ...,\n",
       "         [  0.        ,   0.        ,   0.        ],\n",
       "         [  0.        ,   0.        ,   0.        ],\n",
       "         [128.5       , 254.99516197, 179.75601446]],\n",
       " \n",
       "        [[  0.        ,   0.        ,   0.        ],\n",
       "         [  0.        ,   0.        ,   0.        ],\n",
       "         [  0.        ,   0.        ,   0.        ],\n",
       "         ...,\n",
       "         [  0.        ,   0.        ,   0.        ],\n",
       "         [  0.        ,   0.        ,   0.        ],\n",
       "         [128.5       , 254.99516197, 179.75601446]]]),\n",
       " array([[[  0.        ,   0.        ,   0.        ],\n",
       "         [  0.        ,   0.        ,   0.        ],\n",
       "         [  0.        ,   0.        ,   0.        ],\n",
       "         ...,\n",
       "         [  0.        ,   0.        ,   0.        ],\n",
       "         [  0.        ,   0.        ,   0.        ],\n",
       "         [  0.        ,   0.        ,   0.        ]],\n",
       " \n",
       "        [[  0.        ,   0.        ,   0.        ],\n",
       "         [  0.        ,   0.        ,   0.        ],\n",
       "         [  0.        ,   0.        ,   0.        ],\n",
       "         ...,\n",
       "         [  0.        ,   0.        ,   0.        ],\n",
       "         [  0.        ,   0.        ,   0.        ],\n",
       "         [  0.        ,   0.        ,   0.        ]],\n",
       " \n",
       "        [[  0.        ,   0.        ,   0.        ],\n",
       "         [  0.        ,   0.        ,   0.        ],\n",
       "         [  0.        ,   0.        ,   0.        ],\n",
       "         ...,\n",
       "         [127.5       ,   0.        , 255.        ],\n",
       "         [  0.        ,   0.        ,   0.        ],\n",
       "         [  0.        ,   0.        ,   0.        ]],\n",
       " \n",
       "        ...,\n",
       " \n",
       "        [[  0.        ,   0.        ,   0.        ],\n",
       "         [  0.        ,   0.        ,   0.        ],\n",
       "         [  0.        ,   0.        ,   0.        ],\n",
       "         ...,\n",
       "         [  0.        ,   0.        ,   0.        ],\n",
       "         [  0.        ,   0.        ,   0.        ],\n",
       "         [  0.        ,   0.        ,   0.        ]],\n",
       " \n",
       "        [[  0.        ,   0.        ,   0.        ],\n",
       "         [  0.        ,   0.        ,   0.        ],\n",
       "         [  0.        ,   0.        ,   0.        ],\n",
       "         ...,\n",
       "         [  0.        ,   0.        ,   0.        ],\n",
       "         [  0.        ,   0.        ,   0.        ],\n",
       "         [  0.        ,   0.        ,   0.        ]],\n",
       " \n",
       "        [[  0.        ,   0.        ,   0.        ],\n",
       "         [  0.        ,   0.        ,   0.        ],\n",
       "         [  0.        ,   0.        ,   0.        ],\n",
       "         ...,\n",
       "         [  0.        ,   0.        ,   0.        ],\n",
       "         [  0.        ,   0.        ,   0.        ],\n",
       "         [128.5       , 254.99516197, 179.75601446]]])]"
      ]
     },
     "execution_count": 106,
     "metadata": {},
     "output_type": "execute_result"
    }
   ],
   "source": [
    "predictions"
   ]
  },
  {
   "cell_type": "code",
   "execution_count": 82,
   "metadata": {
    "collapsed": true,
    "jupyter": {
     "outputs_hidden": true
    }
   },
   "outputs": [
    {
     "name": "stdout",
     "output_type": "stream",
     "text": [
      "Model: \"mobilenetv2_1.00_128\"\n",
      "__________________________________________________________________________________________________\n",
      "Layer (type)                    Output Shape         Param #     Connected to                     \n",
      "==================================================================================================\n",
      "input_16 (InputLayer)           [(None, 128, 128, 3) 0                                            \n",
      "__________________________________________________________________________________________________\n",
      "Conv1_pad (ZeroPadding2D)       (None, 129, 129, 3)  0           input_16[0][0]                   \n",
      "__________________________________________________________________________________________________\n",
      "Conv1 (Conv2D)                  (None, 64, 64, 32)   864         Conv1_pad[0][0]                  \n",
      "__________________________________________________________________________________________________\n",
      "bn_Conv1 (BatchNormalization)   (None, 64, 64, 32)   128         Conv1[0][0]                      \n",
      "__________________________________________________________________________________________________\n",
      "Conv1_relu (ReLU)               (None, 64, 64, 32)   0           bn_Conv1[0][0]                   \n",
      "__________________________________________________________________________________________________\n",
      "expanded_conv_depthwise (Depthw (None, 64, 64, 32)   288         Conv1_relu[0][0]                 \n",
      "__________________________________________________________________________________________________\n",
      "expanded_conv_depthwise_BN (Bat (None, 64, 64, 32)   128         expanded_conv_depthwise[0][0]    \n",
      "__________________________________________________________________________________________________\n",
      "expanded_conv_depthwise_relu (R (None, 64, 64, 32)   0           expanded_conv_depthwise_BN[0][0] \n",
      "__________________________________________________________________________________________________\n",
      "expanded_conv_project (Conv2D)  (None, 64, 64, 16)   512         expanded_conv_depthwise_relu[0][0\n",
      "__________________________________________________________________________________________________\n",
      "expanded_conv_project_BN (Batch (None, 64, 64, 16)   64          expanded_conv_project[0][0]      \n",
      "__________________________________________________________________________________________________\n",
      "block_1_expand (Conv2D)         (None, 64, 64, 96)   1536        expanded_conv_project_BN[0][0]   \n",
      "__________________________________________________________________________________________________\n",
      "block_1_expand_BN (BatchNormali (None, 64, 64, 96)   384         block_1_expand[0][0]             \n",
      "__________________________________________________________________________________________________\n",
      "block_1_expand_relu (ReLU)      (None, 64, 64, 96)   0           block_1_expand_BN[0][0]          \n",
      "__________________________________________________________________________________________________\n",
      "block_1_pad (ZeroPadding2D)     (None, 65, 65, 96)   0           block_1_expand_relu[0][0]        \n",
      "__________________________________________________________________________________________________\n",
      "block_1_depthwise (DepthwiseCon (None, 32, 32, 96)   864         block_1_pad[0][0]                \n",
      "__________________________________________________________________________________________________\n",
      "block_1_depthwise_BN (BatchNorm (None, 32, 32, 96)   384         block_1_depthwise[0][0]          \n",
      "__________________________________________________________________________________________________\n",
      "block_1_depthwise_relu (ReLU)   (None, 32, 32, 96)   0           block_1_depthwise_BN[0][0]       \n",
      "__________________________________________________________________________________________________\n",
      "block_1_project (Conv2D)        (None, 32, 32, 24)   2304        block_1_depthwise_relu[0][0]     \n",
      "__________________________________________________________________________________________________\n",
      "block_1_project_BN (BatchNormal (None, 32, 32, 24)   96          block_1_project[0][0]            \n",
      "__________________________________________________________________________________________________\n",
      "block_2_expand (Conv2D)         (None, 32, 32, 144)  3456        block_1_project_BN[0][0]         \n",
      "__________________________________________________________________________________________________\n",
      "block_2_expand_BN (BatchNormali (None, 32, 32, 144)  576         block_2_expand[0][0]             \n",
      "__________________________________________________________________________________________________\n",
      "block_2_expand_relu (ReLU)      (None, 32, 32, 144)  0           block_2_expand_BN[0][0]          \n",
      "__________________________________________________________________________________________________\n",
      "block_2_depthwise (DepthwiseCon (None, 32, 32, 144)  1296        block_2_expand_relu[0][0]        \n",
      "__________________________________________________________________________________________________\n",
      "block_2_depthwise_BN (BatchNorm (None, 32, 32, 144)  576         block_2_depthwise[0][0]          \n",
      "__________________________________________________________________________________________________\n",
      "block_2_depthwise_relu (ReLU)   (None, 32, 32, 144)  0           block_2_depthwise_BN[0][0]       \n",
      "__________________________________________________________________________________________________\n",
      "block_2_project (Conv2D)        (None, 32, 32, 24)   3456        block_2_depthwise_relu[0][0]     \n",
      "__________________________________________________________________________________________________\n",
      "block_2_project_BN (BatchNormal (None, 32, 32, 24)   96          block_2_project[0][0]            \n",
      "__________________________________________________________________________________________________\n",
      "block_2_add (Add)               (None, 32, 32, 24)   0           block_1_project_BN[0][0]         \n",
      "                                                                 block_2_project_BN[0][0]         \n",
      "__________________________________________________________________________________________________\n",
      "block_3_expand (Conv2D)         (None, 32, 32, 144)  3456        block_2_add[0][0]                \n",
      "__________________________________________________________________________________________________\n",
      "block_3_expand_BN (BatchNormali (None, 32, 32, 144)  576         block_3_expand[0][0]             \n",
      "__________________________________________________________________________________________________\n",
      "block_3_expand_relu (ReLU)      (None, 32, 32, 144)  0           block_3_expand_BN[0][0]          \n",
      "__________________________________________________________________________________________________\n",
      "block_3_pad (ZeroPadding2D)     (None, 33, 33, 144)  0           block_3_expand_relu[0][0]        \n",
      "__________________________________________________________________________________________________\n",
      "block_3_depthwise (DepthwiseCon (None, 16, 16, 144)  1296        block_3_pad[0][0]                \n",
      "__________________________________________________________________________________________________\n",
      "block_3_depthwise_BN (BatchNorm (None, 16, 16, 144)  576         block_3_depthwise[0][0]          \n",
      "__________________________________________________________________________________________________\n",
      "block_3_depthwise_relu (ReLU)   (None, 16, 16, 144)  0           block_3_depthwise_BN[0][0]       \n",
      "__________________________________________________________________________________________________\n",
      "block_3_project (Conv2D)        (None, 16, 16, 32)   4608        block_3_depthwise_relu[0][0]     \n",
      "__________________________________________________________________________________________________\n",
      "block_3_project_BN (BatchNormal (None, 16, 16, 32)   128         block_3_project[0][0]            \n",
      "__________________________________________________________________________________________________\n",
      "block_4_expand (Conv2D)         (None, 16, 16, 192)  6144        block_3_project_BN[0][0]         \n",
      "__________________________________________________________________________________________________\n",
      "block_4_expand_BN (BatchNormali (None, 16, 16, 192)  768         block_4_expand[0][0]             \n",
      "__________________________________________________________________________________________________\n",
      "block_4_expand_relu (ReLU)      (None, 16, 16, 192)  0           block_4_expand_BN[0][0]          \n",
      "__________________________________________________________________________________________________\n",
      "block_4_depthwise (DepthwiseCon (None, 16, 16, 192)  1728        block_4_expand_relu[0][0]        \n",
      "__________________________________________________________________________________________________\n",
      "block_4_depthwise_BN (BatchNorm (None, 16, 16, 192)  768         block_4_depthwise[0][0]          \n",
      "__________________________________________________________________________________________________\n",
      "block_4_depthwise_relu (ReLU)   (None, 16, 16, 192)  0           block_4_depthwise_BN[0][0]       \n",
      "__________________________________________________________________________________________________\n",
      "block_4_project (Conv2D)        (None, 16, 16, 32)   6144        block_4_depthwise_relu[0][0]     \n",
      "__________________________________________________________________________________________________\n",
      "block_4_project_BN (BatchNormal (None, 16, 16, 32)   128         block_4_project[0][0]            \n",
      "__________________________________________________________________________________________________\n",
      "block_4_add (Add)               (None, 16, 16, 32)   0           block_3_project_BN[0][0]         \n",
      "                                                                 block_4_project_BN[0][0]         \n",
      "__________________________________________________________________________________________________\n",
      "block_5_expand (Conv2D)         (None, 16, 16, 192)  6144        block_4_add[0][0]                \n",
      "__________________________________________________________________________________________________\n",
      "block_5_expand_BN (BatchNormali (None, 16, 16, 192)  768         block_5_expand[0][0]             \n",
      "__________________________________________________________________________________________________\n",
      "block_5_expand_relu (ReLU)      (None, 16, 16, 192)  0           block_5_expand_BN[0][0]          \n",
      "__________________________________________________________________________________________________\n",
      "block_5_depthwise (DepthwiseCon (None, 16, 16, 192)  1728        block_5_expand_relu[0][0]        \n",
      "__________________________________________________________________________________________________\n",
      "block_5_depthwise_BN (BatchNorm (None, 16, 16, 192)  768         block_5_depthwise[0][0]          \n",
      "__________________________________________________________________________________________________\n",
      "block_5_depthwise_relu (ReLU)   (None, 16, 16, 192)  0           block_5_depthwise_BN[0][0]       \n",
      "__________________________________________________________________________________________________\n",
      "block_5_project (Conv2D)        (None, 16, 16, 32)   6144        block_5_depthwise_relu[0][0]     \n",
      "__________________________________________________________________________________________________\n",
      "block_5_project_BN (BatchNormal (None, 16, 16, 32)   128         block_5_project[0][0]            \n",
      "__________________________________________________________________________________________________\n",
      "block_5_add (Add)               (None, 16, 16, 32)   0           block_4_add[0][0]                \n",
      "                                                                 block_5_project_BN[0][0]         \n",
      "__________________________________________________________________________________________________\n",
      "block_6_expand (Conv2D)         (None, 16, 16, 192)  6144        block_5_add[0][0]                \n",
      "__________________________________________________________________________________________________\n",
      "block_6_expand_BN (BatchNormali (None, 16, 16, 192)  768         block_6_expand[0][0]             \n",
      "__________________________________________________________________________________________________\n",
      "block_6_expand_relu (ReLU)      (None, 16, 16, 192)  0           block_6_expand_BN[0][0]          \n",
      "__________________________________________________________________________________________________\n",
      "block_6_pad (ZeroPadding2D)     (None, 17, 17, 192)  0           block_6_expand_relu[0][0]        \n",
      "__________________________________________________________________________________________________\n",
      "block_6_depthwise (DepthwiseCon (None, 8, 8, 192)    1728        block_6_pad[0][0]                \n",
      "__________________________________________________________________________________________________\n",
      "block_6_depthwise_BN (BatchNorm (None, 8, 8, 192)    768         block_6_depthwise[0][0]          \n",
      "__________________________________________________________________________________________________\n",
      "block_6_depthwise_relu (ReLU)   (None, 8, 8, 192)    0           block_6_depthwise_BN[0][0]       \n",
      "__________________________________________________________________________________________________\n",
      "block_6_project (Conv2D)        (None, 8, 8, 64)     12288       block_6_depthwise_relu[0][0]     \n",
      "__________________________________________________________________________________________________\n",
      "block_6_project_BN (BatchNormal (None, 8, 8, 64)     256         block_6_project[0][0]            \n",
      "__________________________________________________________________________________________________\n",
      "block_7_expand (Conv2D)         (None, 8, 8, 384)    24576       block_6_project_BN[0][0]         \n",
      "__________________________________________________________________________________________________\n",
      "block_7_expand_BN (BatchNormali (None, 8, 8, 384)    1536        block_7_expand[0][0]             \n",
      "__________________________________________________________________________________________________\n",
      "block_7_expand_relu (ReLU)      (None, 8, 8, 384)    0           block_7_expand_BN[0][0]          \n",
      "__________________________________________________________________________________________________\n",
      "block_7_depthwise (DepthwiseCon (None, 8, 8, 384)    3456        block_7_expand_relu[0][0]        \n",
      "__________________________________________________________________________________________________\n",
      "block_7_depthwise_BN (BatchNorm (None, 8, 8, 384)    1536        block_7_depthwise[0][0]          \n",
      "__________________________________________________________________________________________________\n",
      "block_7_depthwise_relu (ReLU)   (None, 8, 8, 384)    0           block_7_depthwise_BN[0][0]       \n",
      "__________________________________________________________________________________________________\n",
      "block_7_project (Conv2D)        (None, 8, 8, 64)     24576       block_7_depthwise_relu[0][0]     \n",
      "__________________________________________________________________________________________________\n",
      "block_7_project_BN (BatchNormal (None, 8, 8, 64)     256         block_7_project[0][0]            \n",
      "__________________________________________________________________________________________________\n",
      "block_7_add (Add)               (None, 8, 8, 64)     0           block_6_project_BN[0][0]         \n",
      "                                                                 block_7_project_BN[0][0]         \n",
      "__________________________________________________________________________________________________\n",
      "block_8_expand (Conv2D)         (None, 8, 8, 384)    24576       block_7_add[0][0]                \n",
      "__________________________________________________________________________________________________\n",
      "block_8_expand_BN (BatchNormali (None, 8, 8, 384)    1536        block_8_expand[0][0]             \n",
      "__________________________________________________________________________________________________\n",
      "block_8_expand_relu (ReLU)      (None, 8, 8, 384)    0           block_8_expand_BN[0][0]          \n",
      "__________________________________________________________________________________________________\n",
      "block_8_depthwise (DepthwiseCon (None, 8, 8, 384)    3456        block_8_expand_relu[0][0]        \n",
      "__________________________________________________________________________________________________\n",
      "block_8_depthwise_BN (BatchNorm (None, 8, 8, 384)    1536        block_8_depthwise[0][0]          \n",
      "__________________________________________________________________________________________________\n",
      "block_8_depthwise_relu (ReLU)   (None, 8, 8, 384)    0           block_8_depthwise_BN[0][0]       \n",
      "__________________________________________________________________________________________________\n",
      "block_8_project (Conv2D)        (None, 8, 8, 64)     24576       block_8_depthwise_relu[0][0]     \n",
      "__________________________________________________________________________________________________\n",
      "block_8_project_BN (BatchNormal (None, 8, 8, 64)     256         block_8_project[0][0]            \n",
      "__________________________________________________________________________________________________\n",
      "block_8_add (Add)               (None, 8, 8, 64)     0           block_7_add[0][0]                \n",
      "                                                                 block_8_project_BN[0][0]         \n",
      "__________________________________________________________________________________________________\n",
      "block_9_expand (Conv2D)         (None, 8, 8, 384)    24576       block_8_add[0][0]                \n",
      "__________________________________________________________________________________________________\n",
      "block_9_expand_BN (BatchNormali (None, 8, 8, 384)    1536        block_9_expand[0][0]             \n",
      "__________________________________________________________________________________________________\n",
      "block_9_expand_relu (ReLU)      (None, 8, 8, 384)    0           block_9_expand_BN[0][0]          \n",
      "__________________________________________________________________________________________________\n",
      "block_9_depthwise (DepthwiseCon (None, 8, 8, 384)    3456        block_9_expand_relu[0][0]        \n",
      "__________________________________________________________________________________________________\n",
      "block_9_depthwise_BN (BatchNorm (None, 8, 8, 384)    1536        block_9_depthwise[0][0]          \n",
      "__________________________________________________________________________________________________\n",
      "block_9_depthwise_relu (ReLU)   (None, 8, 8, 384)    0           block_9_depthwise_BN[0][0]       \n",
      "__________________________________________________________________________________________________\n",
      "block_9_project (Conv2D)        (None, 8, 8, 64)     24576       block_9_depthwise_relu[0][0]     \n",
      "__________________________________________________________________________________________________\n",
      "block_9_project_BN (BatchNormal (None, 8, 8, 64)     256         block_9_project[0][0]            \n",
      "__________________________________________________________________________________________________\n",
      "block_9_add (Add)               (None, 8, 8, 64)     0           block_8_add[0][0]                \n",
      "                                                                 block_9_project_BN[0][0]         \n",
      "__________________________________________________________________________________________________\n",
      "block_10_expand (Conv2D)        (None, 8, 8, 384)    24576       block_9_add[0][0]                \n",
      "__________________________________________________________________________________________________\n",
      "block_10_expand_BN (BatchNormal (None, 8, 8, 384)    1536        block_10_expand[0][0]            \n",
      "__________________________________________________________________________________________________\n",
      "block_10_expand_relu (ReLU)     (None, 8, 8, 384)    0           block_10_expand_BN[0][0]         \n",
      "__________________________________________________________________________________________________\n",
      "block_10_depthwise (DepthwiseCo (None, 8, 8, 384)    3456        block_10_expand_relu[0][0]       \n",
      "__________________________________________________________________________________________________\n",
      "block_10_depthwise_BN (BatchNor (None, 8, 8, 384)    1536        block_10_depthwise[0][0]         \n",
      "__________________________________________________________________________________________________\n",
      "block_10_depthwise_relu (ReLU)  (None, 8, 8, 384)    0           block_10_depthwise_BN[0][0]      \n",
      "__________________________________________________________________________________________________\n",
      "block_10_project (Conv2D)       (None, 8, 8, 96)     36864       block_10_depthwise_relu[0][0]    \n",
      "__________________________________________________________________________________________________\n",
      "block_10_project_BN (BatchNorma (None, 8, 8, 96)     384         block_10_project[0][0]           \n",
      "__________________________________________________________________________________________________\n",
      "block_11_expand (Conv2D)        (None, 8, 8, 576)    55296       block_10_project_BN[0][0]        \n",
      "__________________________________________________________________________________________________\n",
      "block_11_expand_BN (BatchNormal (None, 8, 8, 576)    2304        block_11_expand[0][0]            \n",
      "__________________________________________________________________________________________________\n",
      "block_11_expand_relu (ReLU)     (None, 8, 8, 576)    0           block_11_expand_BN[0][0]         \n",
      "__________________________________________________________________________________________________\n",
      "block_11_depthwise (DepthwiseCo (None, 8, 8, 576)    5184        block_11_expand_relu[0][0]       \n",
      "__________________________________________________________________________________________________\n",
      "block_11_depthwise_BN (BatchNor (None, 8, 8, 576)    2304        block_11_depthwise[0][0]         \n",
      "__________________________________________________________________________________________________\n",
      "block_11_depthwise_relu (ReLU)  (None, 8, 8, 576)    0           block_11_depthwise_BN[0][0]      \n",
      "__________________________________________________________________________________________________\n",
      "block_11_project (Conv2D)       (None, 8, 8, 96)     55296       block_11_depthwise_relu[0][0]    \n",
      "__________________________________________________________________________________________________\n",
      "block_11_project_BN (BatchNorma (None, 8, 8, 96)     384         block_11_project[0][0]           \n",
      "__________________________________________________________________________________________________\n",
      "block_11_add (Add)              (None, 8, 8, 96)     0           block_10_project_BN[0][0]        \n",
      "                                                                 block_11_project_BN[0][0]        \n",
      "__________________________________________________________________________________________________\n",
      "block_12_expand (Conv2D)        (None, 8, 8, 576)    55296       block_11_add[0][0]               \n",
      "__________________________________________________________________________________________________\n",
      "block_12_expand_BN (BatchNormal (None, 8, 8, 576)    2304        block_12_expand[0][0]            \n",
      "__________________________________________________________________________________________________\n",
      "block_12_expand_relu (ReLU)     (None, 8, 8, 576)    0           block_12_expand_BN[0][0]         \n",
      "__________________________________________________________________________________________________\n",
      "block_12_depthwise (DepthwiseCo (None, 8, 8, 576)    5184        block_12_expand_relu[0][0]       \n",
      "__________________________________________________________________________________________________\n",
      "block_12_depthwise_BN (BatchNor (None, 8, 8, 576)    2304        block_12_depthwise[0][0]         \n",
      "__________________________________________________________________________________________________\n",
      "block_12_depthwise_relu (ReLU)  (None, 8, 8, 576)    0           block_12_depthwise_BN[0][0]      \n",
      "__________________________________________________________________________________________________\n",
      "block_12_project (Conv2D)       (None, 8, 8, 96)     55296       block_12_depthwise_relu[0][0]    \n",
      "__________________________________________________________________________________________________\n",
      "block_12_project_BN (BatchNorma (None, 8, 8, 96)     384         block_12_project[0][0]           \n",
      "__________________________________________________________________________________________________\n",
      "block_12_add (Add)              (None, 8, 8, 96)     0           block_11_add[0][0]               \n",
      "                                                                 block_12_project_BN[0][0]        \n",
      "__________________________________________________________________________________________________\n",
      "block_13_expand (Conv2D)        (None, 8, 8, 576)    55296       block_12_add[0][0]               \n",
      "__________________________________________________________________________________________________\n",
      "block_13_expand_BN (BatchNormal (None, 8, 8, 576)    2304        block_13_expand[0][0]            \n",
      "__________________________________________________________________________________________________\n",
      "block_13_expand_relu (ReLU)     (None, 8, 8, 576)    0           block_13_expand_BN[0][0]         \n",
      "__________________________________________________________________________________________________\n",
      "block_13_pad (ZeroPadding2D)    (None, 9, 9, 576)    0           block_13_expand_relu[0][0]       \n",
      "__________________________________________________________________________________________________\n",
      "block_13_depthwise (DepthwiseCo (None, 4, 4, 576)    5184        block_13_pad[0][0]               \n",
      "__________________________________________________________________________________________________\n",
      "block_13_depthwise_BN (BatchNor (None, 4, 4, 576)    2304        block_13_depthwise[0][0]         \n",
      "__________________________________________________________________________________________________\n",
      "block_13_depthwise_relu (ReLU)  (None, 4, 4, 576)    0           block_13_depthwise_BN[0][0]      \n",
      "__________________________________________________________________________________________________\n",
      "block_13_project (Conv2D)       (None, 4, 4, 160)    92160       block_13_depthwise_relu[0][0]    \n",
      "__________________________________________________________________________________________________\n",
      "block_13_project_BN (BatchNorma (None, 4, 4, 160)    640         block_13_project[0][0]           \n",
      "__________________________________________________________________________________________________\n",
      "block_14_expand (Conv2D)        (None, 4, 4, 960)    153600      block_13_project_BN[0][0]        \n",
      "__________________________________________________________________________________________________\n",
      "block_14_expand_BN (BatchNormal (None, 4, 4, 960)    3840        block_14_expand[0][0]            \n",
      "__________________________________________________________________________________________________\n",
      "block_14_expand_relu (ReLU)     (None, 4, 4, 960)    0           block_14_expand_BN[0][0]         \n",
      "__________________________________________________________________________________________________\n",
      "block_14_depthwise (DepthwiseCo (None, 4, 4, 960)    8640        block_14_expand_relu[0][0]       \n",
      "__________________________________________________________________________________________________\n",
      "block_14_depthwise_BN (BatchNor (None, 4, 4, 960)    3840        block_14_depthwise[0][0]         \n",
      "__________________________________________________________________________________________________\n",
      "block_14_depthwise_relu (ReLU)  (None, 4, 4, 960)    0           block_14_depthwise_BN[0][0]      \n",
      "__________________________________________________________________________________________________\n",
      "block_14_project (Conv2D)       (None, 4, 4, 160)    153600      block_14_depthwise_relu[0][0]    \n",
      "__________________________________________________________________________________________________\n",
      "block_14_project_BN (BatchNorma (None, 4, 4, 160)    640         block_14_project[0][0]           \n",
      "__________________________________________________________________________________________________\n",
      "block_14_add (Add)              (None, 4, 4, 160)    0           block_13_project_BN[0][0]        \n",
      "                                                                 block_14_project_BN[0][0]        \n",
      "__________________________________________________________________________________________________\n",
      "block_15_expand (Conv2D)        (None, 4, 4, 960)    153600      block_14_add[0][0]               \n",
      "__________________________________________________________________________________________________\n",
      "block_15_expand_BN (BatchNormal (None, 4, 4, 960)    3840        block_15_expand[0][0]            \n",
      "__________________________________________________________________________________________________\n",
      "block_15_expand_relu (ReLU)     (None, 4, 4, 960)    0           block_15_expand_BN[0][0]         \n",
      "__________________________________________________________________________________________________\n",
      "block_15_depthwise (DepthwiseCo (None, 4, 4, 960)    8640        block_15_expand_relu[0][0]       \n",
      "__________________________________________________________________________________________________\n",
      "block_15_depthwise_BN (BatchNor (None, 4, 4, 960)    3840        block_15_depthwise[0][0]         \n",
      "__________________________________________________________________________________________________\n",
      "block_15_depthwise_relu (ReLU)  (None, 4, 4, 960)    0           block_15_depthwise_BN[0][0]      \n",
      "__________________________________________________________________________________________________\n",
      "block_15_project (Conv2D)       (None, 4, 4, 160)    153600      block_15_depthwise_relu[0][0]    \n",
      "__________________________________________________________________________________________________\n",
      "block_15_project_BN (BatchNorma (None, 4, 4, 160)    640         block_15_project[0][0]           \n",
      "__________________________________________________________________________________________________\n",
      "block_15_add (Add)              (None, 4, 4, 160)    0           block_14_add[0][0]               \n",
      "                                                                 block_15_project_BN[0][0]        \n",
      "__________________________________________________________________________________________________\n",
      "block_16_expand (Conv2D)        (None, 4, 4, 960)    153600      block_15_add[0][0]               \n",
      "__________________________________________________________________________________________________\n",
      "block_16_expand_BN (BatchNormal (None, 4, 4, 960)    3840        block_16_expand[0][0]            \n",
      "__________________________________________________________________________________________________\n",
      "block_16_expand_relu (ReLU)     (None, 4, 4, 960)    0           block_16_expand_BN[0][0]         \n",
      "__________________________________________________________________________________________________\n",
      "block_16_depthwise (DepthwiseCo (None, 4, 4, 960)    8640        block_16_expand_relu[0][0]       \n",
      "__________________________________________________________________________________________________\n",
      "block_16_depthwise_BN (BatchNor (None, 4, 4, 960)    3840        block_16_depthwise[0][0]         \n",
      "__________________________________________________________________________________________________\n",
      "block_16_depthwise_relu (ReLU)  (None, 4, 4, 960)    0           block_16_depthwise_BN[0][0]      \n",
      "__________________________________________________________________________________________________\n",
      "block_16_project (Conv2D)       (None, 4, 4, 320)    307200      block_16_depthwise_relu[0][0]    \n",
      "__________________________________________________________________________________________________\n",
      "block_16_project_BN (BatchNorma (None, 4, 4, 320)    1280        block_16_project[0][0]           \n",
      "__________________________________________________________________________________________________\n",
      "Conv_1 (Conv2D)                 (None, 4, 4, 1280)   409600      block_16_project_BN[0][0]        \n",
      "__________________________________________________________________________________________________\n",
      "Conv_1_bn (BatchNormalization)  (None, 4, 4, 1280)   5120        Conv_1[0][0]                     \n",
      "__________________________________________________________________________________________________\n",
      "out_relu (ReLU)                 (None, 4, 4, 1280)   0           Conv_1_bn[0][0]                  \n",
      "==================================================================================================\n",
      "Total params: 2,257,984\n",
      "Trainable params: 2,223,872\n",
      "Non-trainable params: 34,112\n",
      "__________________________________________________________________________________________________\n"
     ]
    }
   ],
   "source": [
    "tf.keras.applications.MobileNetV2(input_shape=[128, 128, 3], include_top=False).summary()"
   ]
  },
  {
   "cell_type": "code",
   "execution_count": 83,
   "metadata": {},
   "outputs": [
    {
     "name": "stdout",
     "output_type": "stream",
     "text": [
      "Model: \"vgg16\"\n",
      "_________________________________________________________________\n",
      "Layer (type)                 Output Shape              Param #   \n",
      "=================================================================\n",
      "input_10 (InputLayer)        [(None, 768, 512, 3)]     0         \n",
      "_________________________________________________________________\n",
      "block1_conv1 (Conv2D)        (None, 768, 512, 64)      1792      \n",
      "_________________________________________________________________\n",
      "block1_conv2 (Conv2D)        (None, 768, 512, 64)      36928     \n",
      "_________________________________________________________________\n",
      "block1_pool (MaxPooling2D)   (None, 384, 256, 64)      0         \n",
      "_________________________________________________________________\n",
      "block2_conv1 (Conv2D)        (None, 384, 256, 128)     73856     \n",
      "_________________________________________________________________\n",
      "block2_conv2 (Conv2D)        (None, 384, 256, 128)     147584    \n",
      "_________________________________________________________________\n",
      "block2_pool (MaxPooling2D)   (None, 192, 128, 128)     0         \n",
      "_________________________________________________________________\n",
      "block3_conv1 (Conv2D)        (None, 192, 128, 256)     295168    \n",
      "_________________________________________________________________\n",
      "block3_conv2 (Conv2D)        (None, 192, 128, 256)     590080    \n",
      "_________________________________________________________________\n",
      "block3_conv3 (Conv2D)        (None, 192, 128, 256)     590080    \n",
      "_________________________________________________________________\n",
      "block3_pool (MaxPooling2D)   (None, 96, 64, 256)       0         \n",
      "_________________________________________________________________\n",
      "block4_conv1 (Conv2D)        (None, 96, 64, 512)       1180160   \n",
      "_________________________________________________________________\n",
      "block4_conv2 (Conv2D)        (None, 96, 64, 512)       2359808   \n",
      "_________________________________________________________________\n",
      "block4_conv3 (Conv2D)        (None, 96, 64, 512)       2359808   \n",
      "_________________________________________________________________\n",
      "block4_pool (MaxPooling2D)   (None, 48, 32, 512)       0         \n",
      "_________________________________________________________________\n",
      "block5_conv1 (Conv2D)        (None, 48, 32, 512)       2359808   \n",
      "_________________________________________________________________\n",
      "block5_conv2 (Conv2D)        (None, 48, 32, 512)       2359808   \n",
      "_________________________________________________________________\n",
      "block5_conv3 (Conv2D)        (None, 48, 32, 512)       2359808   \n",
      "_________________________________________________________________\n",
      "block5_pool (MaxPooling2D)   (None, 24, 16, 512)       0         \n",
      "=================================================================\n",
      "Total params: 14,714,688\n",
      "Trainable params: 0\n",
      "Non-trainable params: 14,714,688\n",
      "_________________________________________________________________\n"
     ]
    }
   ],
   "source": [
    "vgg.summary()"
   ]
  },
  {
   "cell_type": "code",
   "execution_count": null,
   "metadata": {},
   "outputs": [],
   "source": []
  }
 ],
 "metadata": {
  "accelerator": "GPU",
  "colab": {
   "collapsed_sections": [],
   "include_colab_link": true,
   "name": "Copia di Multiclass_Segmentation.ipynb",
   "provenance": [],
   "toc_visible": true
  },
  "kernelspec": {
   "display_name": "Python 3",
   "language": "python",
   "name": "python3"
  },
  "language_info": {
   "codemirror_mode": {
    "name": "ipython",
    "version": 3
   },
   "file_extension": ".py",
   "mimetype": "text/x-python",
   "name": "python",
   "nbconvert_exporter": "python",
   "pygments_lexer": "ipython3",
   "version": "3.7.9"
  }
 },
 "nbformat": 4,
 "nbformat_minor": 4
}
